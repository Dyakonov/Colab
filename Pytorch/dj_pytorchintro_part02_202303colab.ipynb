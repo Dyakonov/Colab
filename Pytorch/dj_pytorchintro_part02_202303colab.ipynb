{
  "cells": [
    {
      "cell_type": "markdown",
      "metadata": {
        "id": "Cs-oeqnMsVtD"
      },
      "source": [
        "# Введение в Pytorch\n",
        "\n",
        "## Часть 2 - предобработка данных, нейросети\n",
        "\n",
        "Александр Дьяконов, 2020\n",
        "\n",
        "\n",
        "c.135\n",
        "\n",
        "#### использованные материалы\n",
        "\n",
        "* https://github.com/MLWhiz/data_science_blogs/blob/master/pytorch_guide/Pytorch%20Guide.ipynb\n",
        "* https://d2l.ai/\n",
        "* https://atcold.github.io/pytorch-Deep-Learning/\n",
        "* семинары OzonMasters\n",
        "* https://habr.com/ru/post/334380/\n",
        "* https://github.com/andriygav/MachineLearningSeminars/\n",
        "* https://uvadlc-notebooks.readthedocs.io/en/latest/index.html"
      ]
    },
    {
      "cell_type": "markdown",
      "metadata": {
        "id": "Gp_193jAsVtG"
      },
      "source": [
        "**Pytorch** - открытый фреймворк для построения и использования динамических графов вычислений и глубокого обучения. Есть альтернативы: [TensorFlow](https://www.tensorflow.org/), [JAX](https://github.com/google/jax#quickstart-colab-in-the-cloud) and [Caffe](http://caffe.berkeleyvision.org/). Изначально разрабатывался компанией Facebook. Основное преимущество - автоматическое дифференцирование."
      ]
    },
    {
      "cell_type": "code",
      "execution_count": null,
      "metadata": {
        "id": "vLS1W1cFsVtI"
      },
      "outputs": [],
      "source": [
        "# from __future__ import print_function\n",
        "import torch\n",
        "import numpy as np\n",
        "\n",
        "# что разумно сразу импортировать\n",
        "from torch import nn\n",
        "from torch.utils.data import DataLoader\n",
        "from torchvision import datasets\n",
        "from torchvision.transforms import ToTensor, Lambda, Compose\n",
        "import matplotlib.pyplot as plt"
      ]
    },
    {
      "cell_type": "code",
      "execution_count": null,
      "metadata": {
        "id": "YhVHxbvHsVtJ"
      },
      "outputs": [],
      "source": [
        "# служебная функция\n",
        "\n",
        "from matplotlib import pyplot as plt\n",
        "\n",
        "def plot_data(X, y, d=0, auto=False, zoom=1):\n",
        "    X = X.cpu()\n",
        "    y = y.cpu()\n",
        "    plt.scatter(X.numpy()[:, 0], X.numpy()[:, 1], c=y, s=20, cmap=plt.cm.Spectral)\n",
        "    plt.axis('square')\n",
        "    plt.axis(np.array((-1.1, 1.1, -1.1, 1.1)) * zoom)\n",
        "    if auto is True: plt.axis('equal')\n",
        "    plt.axis('off')\n",
        "\n",
        "    _m, _c = 0, '.15'\n",
        "    plt.axvline(0, ymin=_m, color=_c, lw=1, zorder=0)\n",
        "    plt.axhline(0, xmin=_m, color=_c, lw=1, zorder=0)\n",
        "\n",
        "def plot_model(X, y, model):\n",
        "    model.cpu()\n",
        "    mesh = np.arange(-1.1, 1.1, 0.01)\n",
        "    xx, yy = np.meshgrid(mesh, mesh)\n",
        "    with torch.no_grad():\n",
        "        data = torch.from_numpy(np.vstack((xx.reshape(-1), yy.reshape(-1))).T).float()\n",
        "        Z = model(data).detach()\n",
        "    Z = np.argmax(Z, axis=1).reshape(xx.shape)\n",
        "    plt.contourf(xx, yy, Z, cmap=plt.cm.Spectral, alpha=0.3)\n",
        "    plot_data(X, y)"
      ]
    },
    {
      "cell_type": "markdown",
      "metadata": {
        "id": "gzzJpL0TsVtK"
      },
      "source": [
        "## TensorDataset / DataLoader\n",
        "\n",
        "организация подачи данных в модель\n",
        "\n",
        "* TensorDataset - для представления датасета. Часто приходится определять свой датасет, наследуя этот класс.\n",
        "* DataLoader - подаёт батчами данные, позволяется итерироваться по датасету, автоматически формируя батчи (и делая некоторые сопутствующие действия).\n"
      ]
    },
    {
      "cell_type": "code",
      "execution_count": null,
      "metadata": {
        "colab": {
          "base_uri": "https://localhost:8080/"
        },
        "id": "g4pDEanTsVtL",
        "outputId": "e2d97c32-8b65-4f11-9bfb-17bc50e89c06"
      },
      "outputs": [
        {
          "output_type": "stream",
          "name": "stdout",
          "text": [
            "tensor([[3., 1.],\n",
            "        [1., 1.],\n",
            "        [0., 1.],\n",
            "        [9., 1.]])\n",
            "tensor([[ 9.],\n",
            "        [ 1.],\n",
            "        [ 0.],\n",
            "        [81.]])\n",
            "tensor([[5., 1.],\n",
            "        [2., 1.],\n",
            "        [6., 1.],\n",
            "        [8., 1.]])\n",
            "tensor([[25.],\n",
            "        [ 4.],\n",
            "        [36.],\n",
            "        [64.]])\n",
            "tensor([[7., 1.],\n",
            "        [4., 1.]])\n",
            "tensor([[49.],\n",
            "        [16.]])\n"
          ]
        }
      ],
      "source": [
        "from torch.utils.data import TensorDataset\n",
        "import numpy as np\n",
        "\n",
        "x = torch.from_numpy(np.vstack([np.arange(10, dtype='float32'), np.ones(10, dtype='float32')]).T)\n",
        "y = torch.from_numpy(np.arange(10, dtype='float32')[:, np.newaxis] ** 2)\n",
        "\n",
        "ds = TensorDataset(x, y)\n",
        "\n",
        "from torch.utils.data import DataLoader\n",
        "\n",
        "batch_size = 4\n",
        "dl = DataLoader(ds, batch_size, shuffle=True)\n",
        "\n",
        "for xb, yb in dl:\n",
        "    print(xb)\n",
        "    print(yb)\n",
        "    # break"
      ]
    },
    {
      "cell_type": "markdown",
      "source": [
        "Есть много вспомогательных полезных функций. Например, можно разделить датасет на части."
      ],
      "metadata": {
        "id": "Xu5NPbcFpMKT"
      }
    },
    {
      "cell_type": "code",
      "source": [
        "train_size = int(0.8 * len(ds))\n",
        "test_size = len(ds) - train_size\n",
        "train_dataset, test_dataset = torch.utils.data.random_split(ds, [train_size, test_size])"
      ],
      "metadata": {
        "id": "7mo7vxGNoabZ"
      },
      "execution_count": null,
      "outputs": []
    },
    {
      "cell_type": "code",
      "source": [
        "for xb, yb in test_dataset:\n",
        "  print (xb, yb)"
      ],
      "metadata": {
        "colab": {
          "base_uri": "https://localhost:8080/"
        },
        "id": "aYTn1PEwo-9p",
        "outputId": "3ffc9236-cd7c-412e-8832-9770917b71d3"
      },
      "execution_count": null,
      "outputs": [
        {
          "output_type": "stream",
          "name": "stdout",
          "text": [
            "tensor([2., 1.]) tensor([4.])\n",
            "tensor([4., 1.]) tensor([16.])\n"
          ]
        }
      ]
    },
    {
      "cell_type": "code",
      "source": [
        "# список -> в нейронку\n",
        "\n",
        "import torch\n",
        "import numpy as np\n",
        "from torch.utils.data import TensorDataset, DataLoader\n",
        "\n",
        "my_x = [np.array([[1.0,2],[3,4]]),np.array([[5.,6],[7,8]])] # a list of numpy arrays\n",
        "my_y = [np.array([4.]), np.array([2.])] # another list of numpy arrays (targets)\n",
        "\n",
        "tensor_x = torch.Tensor(my_x) # transform to torch tensor\n",
        "tensor_y = torch.Tensor(my_y)\n",
        "\n",
        "my_dataset = TensorDataset(tensor_x,tensor_y) # create your datset\n",
        "my_dataloader = DataLoader(my_dataset) # create your dataloader\n",
        "\n",
        "\n",
        "# UserWarning: Creating a tensor from a list of numpy.ndarrays is extremely slow. Please consider converting the list to a single numpy.ndarray"
      ],
      "metadata": {
        "colab": {
          "base_uri": "https://localhost:8080/"
        },
        "id": "qOA8QAVq4NCH",
        "outputId": "08a037ec-64ca-43ee-d274-a159b943e481"
      },
      "execution_count": null,
      "outputs": [
        {
          "output_type": "stream",
          "name": "stderr",
          "text": [
            "<ipython-input-11-0354a49779ff>:10: UserWarning: Creating a tensor from a list of numpy.ndarrays is extremely slow. Please consider converting the list to a single numpy.ndarray with numpy.array() before converting to a tensor. (Triggered internally at ../torch/csrc/utils/tensor_new.cpp:230.)\n",
            "  tensor_x = torch.Tensor(my_x) # transform to torch tensor\n"
          ]
        }
      ]
    },
    {
      "cell_type": "markdown",
      "metadata": {
        "id": "Em9z2vDdsVtM"
      },
      "source": [
        "Трансформации можно и нужно делать разные для обучения и теста\n",
        "\n",
        "И тест не перемешиваем\n",
        "\n",
        "Загрузчик данных обычно используют torch.utils.data.DataLoader - свой не пишут."
      ]
    },
    {
      "cell_type": "code",
      "execution_count": null,
      "metadata": {
        "id": "-bHHgN2JsVtN"
      },
      "outputs": [],
      "source": [
        "# загрузка с трансформациями\n",
        "from torchvision import datasets\n",
        "\n",
        "train_loader = torch.utils.data.DataLoader(\n",
        "    datasets.MNIST('../data', train=True, download=True,\n",
        "                   transform=transforms.Compose([\n",
        "                       transforms.ColorJitter(brightness=(0.6, 1), contrast=(0.8, 1)),\n",
        "                       transforms.RandomRotation((-15, 15)),\n",
        "                       transforms.ToTensor(), # перевод в тензор + нормировка на отрезок\n",
        "                       transforms.Normalize((0.1307,), (0.3081,))\n",
        "                   ])),\n",
        "    batch_size=64, shuffle=True, num_workers=8, pin_memory=True)\n",
        "# c num_workers лучше поэкспериментировать! Это число подпроцессов для загрузки данных.\n",
        "# Чаще pin_memory=True если используем GPU. Предварительно копирует данные на GPU.\n",
        "\n",
        "# transform_for_train =\n",
        "# transform_for_val =\n",
        "# drop_last - удалять ли последний батч, если его размер меньше остальных."
      ]
    },
    {
      "cell_type": "code",
      "execution_count": null,
      "metadata": {
        "id": "7vYIqSfNsVtO"
      },
      "outputs": [],
      "source": [
        "# есть стандартные датасеты\n",
        "trainset = torchvision.datasets.CIFAR10(root='./data', train=True, download=True, transform=transform)\n",
        "testset = torchvision.datasets.CIFAR10(root='./data', train=False, download=True, transform=transform)\n",
        "\n",
        "training_data = datasets.FashionMNIST(root=\"data\", train=True, download=True, transform=ToTensor())"
      ]
    },
    {
      "cell_type": "code",
      "execution_count": null,
      "metadata": {
        "id": "4Uj_EhkMsVtQ"
      },
      "outputs": [],
      "source": [
        "# загрузка из директории\n",
        "\n",
        "traindir = \"/home/rahul/projects/compvisblog/data/train/\"\n",
        "t = transforms.Compose([transforms.Resize(size=256),\n",
        "                        transforms.CenterCrop(size=224),\n",
        "                        transforms.ToTensor()])\n",
        "\n",
        "train_dataset = torchvision.datasets.ImageFolder(root=traindir, transform=t)\n",
        "\n",
        "for i in range(0,len(train_dataset)):\n",
        "    image ,label = train_dataset[i]\n",
        "    print(image,label)\n",
        "    break\n",
        "\n",
        "train_dataloader = DataLoader(train_dataset,batch_size = 64, shuffle=True, num_workers=10)\n",
        "for image_batch, label_batch in train_dataloader:\n",
        "    print(image_batch.size(),label_batch.size())\n",
        "    break"
      ]
    },
    {
      "cell_type": "code",
      "execution_count": null,
      "metadata": {
        "id": "26ceQNRIsVtR",
        "outputId": "478b8ef4-7c73-4c63-e1d5-e312011c738f"
      },
      "outputs": [
        {
          "data": {
            "text/plain": [
              "['CenterCrop',\n",
              " 'ColorJitter',\n",
              " 'Compose',\n",
              " 'FiveCrop',\n",
              " 'Grayscale',\n",
              " 'Lambda',\n",
              " 'LinearTransformation',\n",
              " 'Normalize',\n",
              " 'Pad',\n",
              " 'RandomAffine',\n",
              " 'RandomApply',\n",
              " 'RandomChoice',\n",
              " 'RandomCrop',\n",
              " 'RandomErasing',\n",
              " 'RandomGrayscale',\n",
              " 'RandomHorizontalFlip',\n",
              " 'RandomOrder',\n",
              " 'RandomPerspective',\n",
              " 'RandomResizedCrop',\n",
              " 'RandomRotation',\n",
              " 'RandomSizedCrop',\n",
              " 'RandomVerticalFlip',\n",
              " 'Resize',\n",
              " 'Scale',\n",
              " 'TenCrop',\n",
              " 'ToPILImage',\n",
              " 'ToTensor',\n",
              " '__builtins__',\n",
              " '__cached__',\n",
              " '__doc__',\n",
              " '__file__',\n",
              " '__loader__',\n",
              " '__name__',\n",
              " '__package__',\n",
              " '__path__',\n",
              " '__spec__',\n",
              " 'functional',\n",
              " 'transforms']"
            ]
          },
          "execution_count": 107,
          "metadata": {},
          "output_type": "execute_result"
        }
      ],
      "source": [
        "# все трансформации\n",
        "from torchvision import transforms\n",
        "dir(transforms)"
      ]
    },
    {
      "cell_type": "code",
      "execution_count": null,
      "metadata": {
        "id": "V2xYtYv3sVtR"
      },
      "outputs": [],
      "source": [
        "# своя трансформация\n",
        "\n",
        "import torch\n",
        "from torchvision import datasets\n",
        "from torchvision.transforms import ToTensor, Lambda\n",
        "\n",
        "ds = datasets.FashionMNIST(\n",
        "    root=\"data\",\n",
        "    train=True,\n",
        "    download=True,\n",
        "    transform=ToTensor(),\n",
        "    target_transform=Lambda(lambda y: torch.zeros(10, dtype=torch.float).scatter_(0, torch.tensor(y), value=1))\n",
        ")\n",
        "\n",
        "# тут трансформация таргета\n",
        "# target_transform = Lambda(lambda y: torch.zeros(10, dtype=torch.float).scatter_(dim=0, index=torch.tensor(y), value=1))"
      ]
    },
    {
      "cell_type": "code",
      "execution_count": null,
      "metadata": {
        "id": "Pjcyw2PHsVtS"
      },
      "outputs": [],
      "source": [
        "# своя трансформация\n",
        "class Noise():\n",
        "    \"\"\"Adds gaussian noise to a tensor.\n",
        "\n",
        "    Example:\n",
        "        >>> transforms.Compose([\n",
        "        >>>     transforms.ToTensor(),\n",
        "        >>>     Noise(0.1, 0.05)),\n",
        "        >>> ])\n",
        "\n",
        "    \"\"\"\n",
        "    def __init__(self, mean, stddev):\n",
        "        self.mean = mean\n",
        "        self.stddev = stddev\n",
        "\n",
        "    def __call__(self, tensor):\n",
        "        noise = torch.zeros_like(tensor).normal_(self.mean, self.stddev)\n",
        "        return tensor.add_(noise)\n",
        "\n",
        "    def __repr__(self):\n",
        "        repr = f\"{self.__class__.__name__  }(mean={self.mean},sttdev={self.stddev})\"\n",
        "        return repr\n",
        "\n",
        "custom_transform_pipeline = transforms.Compose([random_colour_transform, Noise(0.1, 0.05)])"
      ]
    },
    {
      "cell_type": "markdown",
      "metadata": {
        "id": "-f3sqQ8VsVtS"
      },
      "source": [
        "#### Создание своего датасета\n",
        "\n",
        "Для работы с датасетами спользуется **torch.utils.data**:\n",
        "\n",
        "* **TensorDataset(tensors)** - Creates a dataset object from a tensor\n",
        "* **ConcatDataset(datasets)** - Creates a dataset from multiple datasets\n",
        "* **ChainDataset(datasets)** - Chains multiple IterableDatasets\n",
        "* **Subset(dataset, indices)** - Creates a subset of a dataset from specified indices\n",
        "\n",
        "Чтобы pytorch работал с датасетом, надо определить\n",
        "* __getitem__\n",
        "* __len__\n",
        "\n",
        "при этом его следует организовать как класс, наследуя от **torch.utils.data.Dataset**.\n",
        "\n"
      ]
    },
    {
      "cell_type": "code",
      "execution_count": null,
      "metadata": {
        "id": "JhKFom1OsVtT"
      },
      "outputs": [],
      "source": [
        "# Свой датасет\n",
        "class CustomTextDataset(Dataset):\n",
        "    '''\n",
        "    Simple Dataset initializes with X and y vectors\n",
        "    We start by sorting our X and y vectors by sequence lengths\n",
        "    '''\n",
        "    def __init__(self,X,y=None):\n",
        "        self.data = list(zip(X,y))\n",
        "        # Sort by length of first element in tuple\n",
        "        self.data = sorted(self.data, key=lambda x: len(x[0]))\n",
        "\n",
        "    def __len__(self):\n",
        "        # raise NotImplementedError\n",
        "        return len(self.data)\n",
        "\n",
        "    def __getitem__(self, idx):\n",
        "        # raise NotImplementedError\n",
        "        return self.data[idx]"
      ]
    },
    {
      "cell_type": "markdown",
      "metadata": {
        "id": "IUITVKNDsVtT"
      },
      "source": [
        "Есть ещё iterable-style dataset, он наследуется от **torch.utils.data.IterableDataset**,\n",
        "нужно определить\n",
        "\n",
        "* iter()\n",
        "\n",
        "Применяется, когда запросы со случайной индексацией дороги / невозможны."
      ]
    },
    {
      "cell_type": "code",
      "execution_count": null,
      "metadata": {
        "id": "rVbY4bd_sVtU"
      },
      "outputs": [],
      "source": [
        "# свой загрузчик данных\n",
        "from glob import glob\n",
        "from PIL import Image\n",
        "from torch.utils.data import Dataset\n",
        "\n",
        "class customImageFolderDataset(Dataset):\n",
        "    \"\"\"Custom Image Loader dataset.\"\"\"\n",
        "    def __init__(self, root, transform=None):\n",
        "        \"\"\"\n",
        "        Args:\n",
        "            root (string): Path to the images organized in a particular folder structure.\n",
        "            transform: Any Pytorch transform to be applied\n",
        "        \"\"\"\n",
        "        # Get all image paths from a directory\n",
        "        self.image_paths = glob(f\"{root}/*/*\")\n",
        "        # Get the labels from the image paths\n",
        "        self.labels = [x.split(\"/\")[-2] for x in self.image_paths]\n",
        "        # Create a dictionary mapping each label to a index from 0 to len(classes).\n",
        "        self.label_to_idx = {x:i for i,x in enumerate(set(self.labels))}\n",
        "        self.transform = transform\n",
        "\n",
        "    def __len__(self):\n",
        "        # return length of dataset\n",
        "        return len(self.image_paths)\n",
        "\n",
        "    def __getitem__(self, idx):\n",
        "        # open and send one image and label\n",
        "        img_name = self.image_paths[idx]\n",
        "        label = self.labels[idx]\n",
        "        image = Image.open(img_name)\n",
        "        if self.transform:\n",
        "            image = self.transform(image)\n",
        "        return image,self.label_to_idx[label]\n",
        "\n",
        "\n",
        "# другой вариант\n",
        "class ImageDirectoryDataset(torch.utils.data.Dataset):\n",
        "    def __init__(path, pattern):\n",
        "        self.paths = list(glob.glob(os.path.join(path, pattern)))\n",
        "\n",
        "    def __len__(self):\n",
        "        return len(self.paths)\n",
        "\n",
        "    def __item__(self):\n",
        "        path = random.choice(paths)\n",
        "        return cv2.imread(path, 1)"
      ]
    },
    {
      "cell_type": "markdown",
      "metadata": {
        "id": "J7ku4axVsVtV"
      },
      "source": [
        "### датасет с несколькими входами в сеть"
      ]
    },
    {
      "cell_type": "code",
      "execution_count": null,
      "metadata": {
        "id": "Z_G5ZdNDsVtW"
      },
      "outputs": [],
      "source": [
        "# если несколько входов в сеть\n",
        "\n",
        "from torch.utils.data import DataLoader, Dataset\n",
        "\n",
        "class TrainDataset(Dataset):\n",
        "    def __init__(self, df, num_features, cat_features, labels):\n",
        "        self.cont_values = df[num_features].values\n",
        "        self.cate_values = df[cat_features].values\n",
        "        self.labels = labels\n",
        "\n",
        "    def __len__(self):\n",
        "        return len(self.cont_values)\n",
        "\n",
        "    def __getitem__(self, idx):\n",
        "        cont_x = torch.FloatTensor(self.cont_values[idx])\n",
        "        cate_x = torch.LongTensor(self.cate_values[idx])\n",
        "        label = torch.tensor(self.labels[idx]).float()\n",
        "\n",
        "        return cont_x, cate_x, label\n",
        "\n",
        "\n",
        "class TestDataset(Dataset):\n",
        "    def __init__(self, df, num_features, cat_features):\n",
        "        self.cont_values = df[num_features].values\n",
        "        self.cate_values = df[cat_features].values\n",
        "\n",
        "    def __len__(self):\n",
        "        return len(self.cont_values)\n",
        "\n",
        "    def __getitem__(self, idx):\n",
        "        cont_x = torch.FloatTensor(self.cont_values[idx])\n",
        "        cate_x = torch.LongTensor(self.cate_values[idx])\n",
        "\n",
        "        return cont_x, cate_x"
      ]
    },
    {
      "cell_type": "markdown",
      "metadata": {
        "id": "OBVWtJ4gsVtW"
      },
      "source": [
        "В DataLoder может передаваться сэмплер...\n",
        "\n",
        "* SequentialSampler(data_source) - amples data in sequence\n",
        "* RandomSampler(data_source, replacement=False, num_samples=None, generator=None) - Samples data randomly\n",
        "* SubsetRandomSampler(indices, generator=None) - Samples data randomly from a subset of the dataset\n",
        "* WeightedRandomSampler(weights, num_samples, replacement=True, generator=None) - Samples randomly from a weighted distribution\n",
        "* BatchSampler(sampler, batch_size, drop_last) - Returns a batch of samples\n",
        "* distributed.DistributedSampler(dataset, num_replicas=None, rank=None, shuffle=True, seed=0) - Samples across distributed datasets"
      ]
    },
    {
      "cell_type": "markdown",
      "source": [
        "Подмножества датасета:"
      ],
      "metadata": {
        "id": "m2oB8ZU44jMA"
      }
    },
    {
      "cell_type": "code",
      "source": [
        "# Подмножество датасета\n",
        "\n",
        "import torchvision\n",
        "import torch\n",
        "\n",
        "trainset = torchvision.datasets.CIFAR10(root='./data', train=True,\n",
        "                                        download=True, transform=None)\n",
        "\n",
        "evens = list(range(0, len(trainset), 2))\n",
        "odds = list(range(1, len(trainset), 2))\n",
        "trainset_1 = torch.utils.data.Subset(trainset, evens)\n",
        "trainset_2 = torch.utils.data.Subset(trainset, odds)\n",
        "\n",
        "trainloader_1 = torch.utils.data.DataLoader(trainset_1, batch_size=4,\n",
        "                                            shuffle=True, num_workers=2)\n",
        "trainloader_2 = torch.utils.data.DataLoader(trainset_2, batch_size=4,\n",
        "                                            shuffle=True, num_workers=2)"
      ],
      "metadata": {
        "id": "Wmv1EEs44lx8"
      },
      "execution_count": null,
      "outputs": []
    },
    {
      "cell_type": "code",
      "source": [
        "# Взять первый кусок датасета\n",
        "import torch.utils.data as data_utils\n",
        "indices = torch.arange(10000)\n",
        "tr_10k = data_utils.Subset(tr, indices)\n",
        "\n",
        "# Случайное разделение\n",
        "part_tr = torch.utils.data.random_split(tr, [tr_split_len, len(tr)-tr_split_len])[0]"
      ],
      "metadata": {
        "colab": {
          "base_uri": "https://localhost:8080/",
          "height": 240
        },
        "id": "JsVUfBXQ4wdG",
        "outputId": "5b6287c0-d64d-4240-cfd3-470d97d6b806"
      },
      "execution_count": 11,
      "outputs": [
        {
          "output_type": "error",
          "ename": "NameError",
          "evalue": "ignored",
          "traceback": [
            "\u001b[0;31m---------------------------------------------------------------------------\u001b[0m",
            "\u001b[0;31mNameError\u001b[0m                                 Traceback (most recent call last)",
            "\u001b[0;32m<ipython-input-11-5deb3f97c5d7>\u001b[0m in \u001b[0;36m<cell line: 4>\u001b[0;34m()\u001b[0m\n\u001b[1;32m      2\u001b[0m \u001b[0;32mimport\u001b[0m \u001b[0mtorch\u001b[0m\u001b[0;34m.\u001b[0m\u001b[0mutils\u001b[0m\u001b[0;34m.\u001b[0m\u001b[0mdata\u001b[0m \u001b[0;32mas\u001b[0m \u001b[0mdata_utils\u001b[0m\u001b[0;34m\u001b[0m\u001b[0;34m\u001b[0m\u001b[0m\n\u001b[1;32m      3\u001b[0m \u001b[0mindices\u001b[0m \u001b[0;34m=\u001b[0m \u001b[0mtorch\u001b[0m\u001b[0;34m.\u001b[0m\u001b[0marange\u001b[0m\u001b[0;34m(\u001b[0m\u001b[0;36m10000\u001b[0m\u001b[0;34m)\u001b[0m\u001b[0;34m\u001b[0m\u001b[0;34m\u001b[0m\u001b[0m\n\u001b[0;32m----> 4\u001b[0;31m \u001b[0mtr_10k\u001b[0m \u001b[0;34m=\u001b[0m \u001b[0mdata_utils\u001b[0m\u001b[0;34m.\u001b[0m\u001b[0mSubset\u001b[0m\u001b[0;34m(\u001b[0m\u001b[0mtr\u001b[0m\u001b[0;34m,\u001b[0m \u001b[0mindices\u001b[0m\u001b[0;34m)\u001b[0m\u001b[0;34m\u001b[0m\u001b[0;34m\u001b[0m\u001b[0m\n\u001b[0m\u001b[1;32m      5\u001b[0m \u001b[0;34m\u001b[0m\u001b[0m\n\u001b[1;32m      6\u001b[0m \u001b[0;31m# Случайное разделение\u001b[0m\u001b[0;34m\u001b[0m\u001b[0;34m\u001b[0m\u001b[0m\n",
            "\u001b[0;31mNameError\u001b[0m: name 'tr' is not defined"
          ]
        }
      ]
    },
    {
      "cell_type": "markdown",
      "metadata": {
        "id": "zYZ3tnLGsVtW"
      },
      "source": [
        "## Модуль nn\n",
        "\n",
        "Упрощает создание нейронных сетей.\n",
        "\n",
        "В модуле torch.nn.functional содержатся функции, используемые в Pytorch (СДЕЛАТЬ ОБЗОР)."
      ]
    },
    {
      "cell_type": "code",
      "execution_count": null,
      "metadata": {
        "id": "krocqCCgsVtX",
        "outputId": "5a709406-f64c-4a2f-b54c-1b57b2c13729"
      },
      "outputs": [
        {
          "name": "stdout",
          "output_type": "stream",
          "text": [
            "Parameter containing:\n",
            "tensor([[-0.0243, -0.1254]], requires_grad=True)\n",
            "Parameter containing:\n",
            "tensor([-0.4057], requires_grad=True)\n"
          ]
        },
        {
          "data": {
            "text/plain": [
              "[Parameter containing:\n",
              " tensor([[-0.0243, -0.1254]], requires_grad=True),\n",
              " Parameter containing:\n",
              " tensor([-0.4057], requires_grad=True)]"
            ]
          },
          "execution_count": 3,
          "metadata": {},
          "output_type": "execute_result"
        }
      ],
      "source": [
        "# пример простейшего линейного слоя - он есть в готовом виде - torch.nn.Linear\n",
        "\n",
        "from torch import nn\n",
        "model = nn.Linear(in_features=2,\n",
        "                  out_features=1,\n",
        "                  bias=True)\n",
        "print(model.weight)\n",
        "print(model.bias)\n",
        "list(model.parameters())\n",
        "\n",
        "# нейросеть зависит от параметров (parameters) или по-простому весов (weights)"
      ]
    },
    {
      "cell_type": "code",
      "execution_count": null,
      "metadata": {
        "id": "PSijFnEssVtX",
        "outputId": "26d647c7-474c-4e9c-8510-821e692e63a0"
      },
      "outputs": [
        {
          "name": "stdout",
          "output_type": "stream",
          "text": [
            "tensor([-2.3678,  0.1738, -1.1961,  1.0129], grad_fn=<ViewBackward>)\n"
          ]
        },
        {
          "data": {
            "text/plain": [
              "[Parameter containing:\n",
              " tensor([[[-0.2877, -0.2869, -0.1025],\n",
              "          [-0.6741,  0.6554, -0.4120]],\n",
              " \n",
              "         [[-0.1636,  0.3774, -0.6691],\n",
              "          [ 0.1150,  0.6620, -0.2147]],\n",
              " \n",
              "         [[ 0.5587,  0.4396, -0.0669],\n",
              "          [-0.5875,  0.6531, -0.6451]],\n",
              " \n",
              "         [[-0.1595,  0.4781, -0.1300],\n",
              "          [-0.5449, -0.3186,  0.4951]]], requires_grad=True)]"
            ]
          },
          "execution_count": 17,
          "metadata": {},
          "output_type": "execute_result"
        }
      ],
      "source": [
        "# билинейный слой\n",
        "model = nn.Bilinear(in1_features=2,\n",
        "                    in2_features=3,\n",
        "                    out_features=4,\n",
        "                    bias=False)\n",
        "\n",
        "x1 = torch.tensor([1., 2.])\n",
        "x2 = torch.tensor([1., 2., 3.])\n",
        "print (model(x1, x2))\n",
        "list(model.parameters())"
      ]
    },
    {
      "cell_type": "markdown",
      "metadata": {
        "id": "diQ2YSqksVtY"
      },
      "source": [
        "### Модуль nn: как обучать сеть\n",
        "\n",
        "* train() / eval() - какой режим использовать - влияет на BN и DO\n",
        "\n",
        "Перенос data.to(device) здесь (перед подачей данных в модель), а не в Dataset, т.к. выгоднее переносить целым батчем.\n"
      ]
    },
    {
      "cell_type": "code",
      "execution_count": null,
      "metadata": {
        "id": "zl7f0ca8sVtY"
      },
      "outputs": [],
      "source": [
        "# ошибка НС\n",
        "\n",
        "import torch.nn.functional as F\n",
        "\n",
        "model(xb) # определена\n",
        "\n",
        "loss_fn = F.mse_loss\n",
        "loss = loss_fn(model(xb), yb)\n",
        "print(loss)"
      ]
    },
    {
      "cell_type": "code",
      "execution_count": null,
      "metadata": {
        "id": "BGqybf2OsVtY"
      },
      "outputs": [],
      "source": [
        "# оптимизатор\n",
        "\n",
        "opt = torch.optim.SGD(model.parameters(), lr=1e-5) # не забывать скобки в model.parameters()"
      ]
    },
    {
      "cell_type": "code",
      "execution_count": null,
      "metadata": {
        "id": "C-1fV7ovsVtZ"
      },
      "outputs": [],
      "source": [
        "# само обучение\n",
        "\n",
        "optimizer.zero_grad() # = net.zero_grad()\n",
        "output = net(x)\n",
        "loss = criterion(output,y)\n",
        "loss.backward()\n",
        "optimizer.step()\n",
        "print(loss)"
      ]
    },
    {
      "cell_type": "code",
      "execution_count": null,
      "metadata": {
        "id": "32A5P-_UsVtZ"
      },
      "outputs": [],
      "source": [
        "# валидация\n",
        "model.eval() # переводим сеть в нужный режим -  меняет поведение forward() - влияет на DO, BN\n",
        "with torch.no_grad(): # контекстный менеджер, в котором не вычисляются градиенты, даже у тензоров с requires_grad=True\n",
        "    train, y_train = train_dataset.tensors\n",
        "    # train, y_train = train.to(device), y_train.to(device)\n",
        "    train_preds = model(train)\n",
        "    train_loss = loss_fn(train_preds, y_train).item()\n"
      ]
    },
    {
      "cell_type": "code",
      "execution_count": null,
      "metadata": {
        "id": "CKYxFtsNsVtZ"
      },
      "outputs": [],
      "source": [
        "# функция для обучения модели\n",
        "def fit(num_epochs, model, loss_fn, opt, train_dl):\n",
        "\n",
        "    # повторяем нужное число эпох\n",
        "    for epoch in range(num_epochs):\n",
        "        model.train() # перенести раньше, если не выходим из режима обучения\n",
        "        for xb, yb in train_dl: # по батчам\n",
        "            pred = model(xb) # прогнать прямой ход\n",
        "            opt.zero_grad() # обнулить градиенты\n",
        "            loss = loss_fn(pred, yb) # вычислить ошибку\n",
        "            loss.backward() # обратный ход - вычислить градиенты\n",
        "            opt.step() # изменить параметры\n",
        "        if (epoch+1) % 10 == 0: # прогресс\n",
        "            print('Epoch [{}/{}], Loss: {:.4f}'.format(epoch+1, num_epochs, loss.item()))"
      ]
    },
    {
      "cell_type": "code",
      "execution_count": null,
      "metadata": {
        "id": "8UVi5sk8sVta",
        "outputId": "25573c96-6102-4ffc-8547-b114f9c583a1"
      },
      "outputs": [
        {
          "name": "stdout",
          "output_type": "stream",
          "text": [
            "Epoch [10/100], Loss: 19.5047\n",
            "Epoch [20/100], Loss: 2674.4380\n",
            "Epoch [30/100], Loss: 83.3502\n",
            "Epoch [40/100], Loss: 185.8370\n",
            "Epoch [50/100], Loss: 175.2909\n",
            "Epoch [60/100], Loss: 54.3152\n",
            "Epoch [70/100], Loss: 2347.3945\n",
            "Epoch [80/100], Loss: 7.9410\n",
            "Epoch [90/100], Loss: 182.1962\n",
            "Epoch [100/100], Loss: 331.3730\n"
          ]
        }
      ],
      "source": [
        "fit(100, model, loss_fn, opt, train_dl)"
      ]
    },
    {
      "cell_type": "markdown",
      "metadata": {
        "id": "Pt-7rmz3sVta"
      },
      "source": [
        "### Модуль nn: простейшее задание нейронной сети\n",
        "\n",
        "Эквивалентные формы:\n",
        "\n",
        "* через nn.Sequential - просто указываем модули, которые выполняются последовательно\n",
        "\n",
        "* наследуя от nn.Module и прописывая init и forward\n",
        "\n",
        "* присоединение модулей с помощью .add_module\n",
        "\n",
        "\n",
        "**forward** - главная ф-ия определяет прямой проход и, собственно, функционирование сети (обратный проход не прописывается отдельным методом). Но когда мы делаем прямой проход, то явно не вызываем метод forward, а используем имя НС: net(X) (т.к. до и после вызова неявно ещё кое-что выполняется, ex: _forward_pre_hooks).\n"
      ]
    },
    {
      "cell_type": "code",
      "execution_count": null,
      "metadata": {
        "id": "xeVqlgJRsVtb",
        "outputId": "53054e16-3e5f-4c9e-d130-6cd9e61336d4"
      },
      "outputs": [
        {
          "data": {
            "text/plain": [
              "tensor([[-0.2359,  0.1572],\n",
              "        [-0.0946,  0.0312],\n",
              "        [-0.2290,  0.0459]], grad_fn=<AddmmBackward>)"
            ]
          },
          "execution_count": 3,
          "metadata": {},
          "output_type": "execute_result"
        }
      ],
      "source": [
        "# через nn.Sequential\n",
        "net = nn.Sequential(nn.Linear(10, 5),\n",
        "                    nn.ReLU(),\n",
        "                    nn.Linear(5, 2))\n",
        "\n",
        "# через nn.Sequential, но с удобными именами\n",
        "from collections import OrderedDict\n",
        "net1 = nn.Sequential(OrderedDict([('hidden_linear', nn.Linear(10, 5)),\n",
        "                                  ('hidden_activation', nn.ReLU()),\n",
        "                                  ('output', nn.Linear(5, 2))]))\n",
        "\n",
        "X = torch.rand(3, 10)\n",
        "net(X)"
      ]
    },
    {
      "cell_type": "code",
      "execution_count": null,
      "metadata": {
        "id": "eNHu8g9tsVtb",
        "outputId": "56c7d1c1-89a9-4e4c-940f-4e2e9c122b87"
      },
      "outputs": [
        {
          "data": {
            "text/plain": [
              "tensor([[0.1106, 0.4401],\n",
              "        [0.0353, 0.3156],\n",
              "        [0.0837, 0.3661]], grad_fn=<AddmmBackward>)"
            ]
          },
          "execution_count": 4,
          "metadata": {},
          "output_type": "execute_result"
        }
      ],
      "source": [
        "# наследуя от nn.Module и прописывая __init__ и forward\n",
        "\n",
        "import torch.nn.functional as F\n",
        "\n",
        "class MLP(nn.Module):\n",
        "    def __init__(self):\n",
        "        # инициализация параметров\n",
        "        super().__init__() # super(MLP, self).__init__() Обращение к инициализации родителя\n",
        "        self.hidden = nn.Linear(10, 5)  # Hidden layer\n",
        "        self.out = nn.Linear(5, 2)  # Output layer\n",
        "\n",
        "    def forward(self, X):\n",
        "        # как обрабатываются данные и получается ответ\n",
        "        return self.out(F.relu(self.hidden(X)))\n",
        "\n",
        "net2 = MLP()\n",
        "net2(X)"
      ]
    },
    {
      "cell_type": "code",
      "execution_count": null,
      "metadata": {
        "id": "C8e5MGDksVtc",
        "outputId": "0746d339-c9bf-4ab9-aaa5-fd2c9b2dadc0"
      },
      "outputs": [
        {
          "data": {
            "text/plain": [
              "tensor([[0.2955, 0.0559],\n",
              "        [0.2978, 0.0343],\n",
              "        [0.3301, 0.0773]], grad_fn=<AddmmBackward>)"
            ]
          },
          "execution_count": 5,
          "metadata": {},
          "output_type": "execute_result"
        }
      ],
      "source": [
        "# присоединение модулей с помощью .add_module\n",
        "\n",
        "class NNN(torch.nn.Module):\n",
        "    def __init__(self):\n",
        "        super(NNN, self).__init__()\n",
        "\n",
        "        self.layers = torch.nn.Sequential()\n",
        "        self.layers.add_module('lin1', torch.nn.Linear(10, 5))\n",
        "        self.layers.add_module('relu1', torch.nn.ReLU())\n",
        "        self.layers.add_module('lin2', torch.nn.Linear(5, 2))\n",
        "\n",
        "    def forward(self, input):\n",
        "        return self.layers(input)\n",
        "\n",
        "net3 = NNN()\n",
        "net3(X)"
      ]
    },
    {
      "cell_type": "code",
      "execution_count": null,
      "metadata": {
        "id": "jktp8KpEsVtd",
        "outputId": "bb8bc3f3-02f6-4283-e970-70e9f81b1045"
      },
      "outputs": [
        {
          "data": {
            "text/plain": [
              "Sequential(\n",
              "  (0): Linear(in_features=10, out_features=5, bias=True)\n",
              "  (1): ReLU()\n",
              "  (2): Linear(in_features=5, out_features=2, bias=True)\n",
              ")"
            ]
          },
          "execution_count": 6,
          "metadata": {},
          "output_type": "execute_result"
        }
      ],
      "source": [
        "net"
      ]
    },
    {
      "cell_type": "code",
      "execution_count": null,
      "metadata": {
        "id": "H143WVnjsVtd",
        "outputId": "b414bb05-d0fd-4d52-b69c-4134c78ffe59"
      },
      "outputs": [
        {
          "data": {
            "text/plain": [
              "MLP(\n",
              "  (hidden): Linear(in_features=10, out_features=5, bias=True)\n",
              "  (out): Linear(in_features=5, out_features=2, bias=True)\n",
              ")"
            ]
          },
          "execution_count": 7,
          "metadata": {},
          "output_type": "execute_result"
        }
      ],
      "source": [
        "net2"
      ]
    },
    {
      "cell_type": "code",
      "execution_count": null,
      "metadata": {
        "id": "uYwf5dx9sVtd",
        "outputId": "bcfad51d-a3c0-434f-b602-30c3e2742efc"
      },
      "outputs": [
        {
          "data": {
            "text/plain": [
              "NNN(\n",
              "  (layers): Sequential(\n",
              "    (lin1): Linear(in_features=10, out_features=5, bias=True)\n",
              "    (relu1): ReLU()\n",
              "    (lin2): Linear(in_features=5, out_features=2, bias=True)\n",
              "  )\n",
              ")"
            ]
          },
          "execution_count": 12,
          "metadata": {},
          "output_type": "execute_result"
        }
      ],
      "source": [
        "net3"
      ]
    },
    {
      "cell_type": "markdown",
      "metadata": {
        "id": "7lsZi2MYsVte"
      },
      "source": [
        "### Модуль nn: доступ к параметрам НС"
      ]
    },
    {
      "cell_type": "code",
      "execution_count": null,
      "metadata": {
        "id": "v3iphL7vsVte",
        "outputId": "f0190ae9-9275-4032-b7f5-545bb460ca41"
      },
      "outputs": [
        {
          "data": {
            "text/plain": [
              "(Linear(in_features=10, out_features=5, bias=True),\n",
              " Linear(in_features=10, out_features=5, bias=True),\n",
              " ReLU())"
            ]
          },
          "execution_count": 9,
          "metadata": {},
          "output_type": "execute_result"
        }
      ],
      "source": [
        "net[0], net2.hidden, net3.layers.relu1"
      ]
    },
    {
      "cell_type": "code",
      "execution_count": null,
      "metadata": {
        "id": "tiCFGeaRsVtf",
        "outputId": "0a969e32-89fe-4133-b9f8-d4f4be91b7aa"
      },
      "outputs": [
        {
          "data": {
            "text/plain": [
              "OrderedDict([('0.weight',\n",
              "              tensor([[-0.1661, -0.1646, -0.1480,  0.2944,  0.0798,  0.1780,  0.0677,  0.2321,\n",
              "                       -0.2498,  0.2428],\n",
              "                      [ 0.0149,  0.2513,  0.0943, -0.3056, -0.0971, -0.1602,  0.0558,  0.1670,\n",
              "                       -0.2786,  0.3096],\n",
              "                      [-0.1832, -0.0631,  0.0159, -0.0190, -0.2769, -0.0364, -0.2855,  0.0240,\n",
              "                       -0.1494, -0.0300],\n",
              "                      [ 0.1317, -0.0984,  0.3070, -0.1473, -0.0666,  0.1092, -0.2754, -0.0981,\n",
              "                        0.0684, -0.1167],\n",
              "                      [ 0.1706, -0.2755,  0.3033, -0.1257, -0.2417, -0.3141, -0.2600, -0.3091,\n",
              "                       -0.0552, -0.1265]])),\n",
              "             ('0.bias', tensor([ 0.1352, -0.0321,  0.1371, -0.2746,  0.0892])),\n",
              "             ('2.weight',\n",
              "              tensor([[ 0.0051,  0.3829, -0.1443, -0.0035, -0.2843],\n",
              "                      [ 0.2041, -0.2619,  0.3165,  0.3838, -0.1594]])),\n",
              "             ('2.bias', tensor([-0.2393,  0.0215]))])"
            ]
          },
          "execution_count": 10,
          "metadata": {},
          "output_type": "execute_result"
        }
      ],
      "source": [
        "net.state_dict() # все параметры сети. Точнее не только параметры, но, например, текущие средние для BN."
      ]
    },
    {
      "cell_type": "code",
      "execution_count": null,
      "metadata": {
        "id": "8l86k0vesVtf",
        "outputId": "2ebaaa77-c7ca-41cb-8109-0e6e1cfea5a8"
      },
      "outputs": [
        {
          "data": {
            "text/plain": [
              "(OrderedDict([('weight',\n",
              "               tensor([[-0.2112,  0.1398,  0.0284,  0.0310, -0.0959,  0.0015, -0.0984,  0.0909,\n",
              "                         0.3071,  0.0479],\n",
              "                       [-0.1401, -0.1932,  0.0242, -0.2346, -0.2377, -0.2058, -0.1074,  0.0234,\n",
              "                         0.2178,  0.1225],\n",
              "                       [ 0.2423, -0.1986,  0.0267, -0.2811,  0.1814,  0.0659,  0.3059, -0.2249,\n",
              "                         0.2536,  0.2670],\n",
              "                       [ 0.2557,  0.0451,  0.2875,  0.2112,  0.2359, -0.0205, -0.2427, -0.0039,\n",
              "                         0.0593, -0.2154],\n",
              "                       [-0.1814, -0.3032, -0.1109,  0.2755,  0.0541, -0.0193,  0.0127,  0.1972,\n",
              "                        -0.2792, -0.2440]])),\n",
              "              ('bias',\n",
              "               tensor([-0.1051, -0.1820,  0.1631,  0.2234, -0.3068]))]),\n",
              " OrderedDict([('weight',\n",
              "               tensor([[-0.2472,  0.0897,  0.0079, -0.2182,  0.1190, -0.0064, -0.3058,  0.1701,\n",
              "                         0.1691, -0.0596],\n",
              "                       [-0.2183,  0.0127,  0.2386,  0.2895, -0.2387, -0.1428,  0.2462,  0.1546,\n",
              "                         0.1957, -0.1574],\n",
              "                       [ 0.2724, -0.2600, -0.0152,  0.0066,  0.0531, -0.2386,  0.2901,  0.3108,\n",
              "                        -0.2184,  0.0117],\n",
              "                       [-0.1684,  0.3032,  0.1763,  0.1862,  0.1020, -0.0315,  0.1781,  0.0054,\n",
              "                        -0.1153,  0.1633],\n",
              "                       [ 0.0992, -0.0819, -0.0867, -0.2797, -0.0867, -0.1281, -0.1724, -0.2856,\n",
              "                         0.2477, -0.2826]])),\n",
              "              ('bias',\n",
              "               tensor([ 0.3139, -0.1659, -0.0243,  0.2580,  0.1043]))]))"
            ]
          },
          "execution_count": 61,
          "metadata": {},
          "output_type": "execute_result"
        }
      ],
      "source": [
        "net[0].state_dict(), net2.hidden.state_dict() # параметры из слоёв"
      ]
    },
    {
      "cell_type": "code",
      "execution_count": null,
      "metadata": {
        "id": "y7gq-DNssVtf",
        "outputId": "d43dd920-b4bc-4eae-fa3a-62747548397f"
      },
      "outputs": [
        {
          "data": {
            "text/plain": [
              "(tensor([-0.1051, -0.1820,  0.1631,  0.2234, -0.3068]),\n",
              " tensor([ 0.3139, -0.1659, -0.0243,  0.2580,  0.1043]))"
            ]
          },
          "execution_count": 62,
          "metadata": {},
          "output_type": "execute_result"
        }
      ],
      "source": [
        "net[0].bias.data, net2.hidden.bias.data"
      ]
    },
    {
      "cell_type": "code",
      "execution_count": null,
      "metadata": {
        "id": "JiRcwWwLsVtg",
        "outputId": "0d5c0a1a-3abc-4e1d-c301-298047ca5fa8"
      },
      "outputs": [
        {
          "data": {
            "text/plain": [
              "(None, None)"
            ]
          },
          "execution_count": 63,
          "metadata": {},
          "output_type": "execute_result"
        }
      ],
      "source": [
        "net[0].bias.grad, net2.hidden.bias.grad # не было обучения (BP), поэтому None"
      ]
    },
    {
      "cell_type": "code",
      "execution_count": null,
      "metadata": {
        "id": "EAfZ4P-jsVtg",
        "outputId": "86fa0725-91fc-417f-c951-31f43b21cb5f"
      },
      "outputs": [
        {
          "name": "stdout",
          "output_type": "stream",
          "text": [
            "('0.weight', torch.Size([5, 10])) ('0.bias', torch.Size([5])) ('2.weight', torch.Size([2, 5])) ('2.bias', torch.Size([2]))\n",
            "tensor([[-0.2112,  0.1398,  0.0284,  0.0310, -0.0959,  0.0015, -0.0984,  0.0909,\n",
            "          0.3071,  0.0479],\n",
            "        [-0.1401, -0.1932,  0.0242, -0.2346, -0.2377, -0.2058, -0.1074,  0.0234,\n",
            "          0.2178,  0.1225],\n",
            "        [ 0.2423, -0.1986,  0.0267, -0.2811,  0.1814,  0.0659,  0.3059, -0.2249,\n",
            "          0.2536,  0.2670]], grad_fn=<SliceBackward>)\n",
            "tensor([-0.1051, -0.1820,  0.1631], grad_fn=<SliceBackward>)\n",
            "tensor([[-0.3795, -0.4355,  0.1687,  0.3599, -0.3467],\n",
            "        [-0.2070,  0.1423, -0.2920,  0.3799,  0.1043]],\n",
            "       grad_fn=<SliceBackward>)\n",
            "tensor([-0.1245,  0.0290], grad_fn=<SliceBackward>)\n"
          ]
        }
      ],
      "source": [
        "# перечислить параметры - а вот тут уже параметры-тензоры!\n",
        "print(*[(name, param.shape) for name, param in net.named_parameters()])\n",
        "\n",
        "for param in net.parameters():\n",
        "    print(param[:3])"
      ]
    },
    {
      "cell_type": "code",
      "execution_count": null,
      "metadata": {
        "id": "-xjaIfkosVtg",
        "outputId": "649ff656-f2b5-495c-e5d3-e3e91e83f991"
      },
      "outputs": [
        {
          "data": {
            "text/plain": [
              "(67, [50, 5, 10, 2])"
            ]
          },
          "execution_count": 65,
          "metadata": {},
          "output_type": "execute_result"
        }
      ],
      "source": [
        "# считаем число параметров\n",
        "numel_list = [p.numel() for p in net.parameters() if p.requires_grad == True] # число обучаемых параметров!\n",
        "sum(numel_list), numel_list\n",
        "\n",
        "# pytorch_total_params = sum(p.numel() for p in model.parameters()) # число параметров\n",
        "# pytorch_total_params = sum(p.numel() for p in model.parameters() if p.requires_grad)  # число обучаемых параметров"
      ]
    },
    {
      "cell_type": "code",
      "execution_count": null,
      "metadata": {
        "id": "FkTWFL70sVth",
        "outputId": "8ca9f8d8-9d57-4a6b-c6e8-2a4fa6427c2b"
      },
      "outputs": [
        {
          "name": "stdout",
          "output_type": "stream",
          "text": [
            "Linear output shape: \t torch.Size([20, 5])\n",
            "ReLU output shape: \t torch.Size([20, 5])\n",
            "Linear output shape: \t torch.Size([20, 2])\n"
          ]
        }
      ],
      "source": [
        "# вывод размеров по слоям\n",
        "\n",
        "# X = torch.rand(size=(1, 1, 28, 28), dtype=torch.float32)\n",
        "X = torch.rand(size=(20, 10), dtype=torch.float32)\n",
        "\n",
        "for layer in net:\n",
        "    X = layer(X)\n",
        "    print(layer.__class__.__name__,'output shape: \\t',X.shape)"
      ]
    },
    {
      "cell_type": "code",
      "execution_count": null,
      "metadata": {
        "id": "iWiM5ZO3sVth",
        "outputId": "951ef7fd-20b8-4cc9-f04c-780adab4d40a"
      },
      "outputs": [
        {
          "name": "stdout",
          "output_type": "stream",
          "text": [
            "Model's state_dict:\n",
            "0.weight \t torch.Size([5, 10])\n",
            "0.bias \t torch.Size([5])\n",
            "2.weight \t torch.Size([2, 5])\n",
            "2.bias \t torch.Size([2])\n",
            "\n"
          ]
        }
      ],
      "source": [
        "# Вывод параметров через state_dict\n",
        "for param_tensor in net.state_dict():\n",
        "    print(param_tensor, \"\\t\", net.state_dict()[param_tensor].size())"
      ]
    },
    {
      "cell_type": "markdown",
      "metadata": {
        "id": "Wv-mk2jKsVth"
      },
      "source": [
        "## Ещё примеры заданий нейросетей\n",
        "\n",
        "При инициализации обычно прописываются параметры сети, если их надо задавать явно, то используется **nn.Parameter**."
      ]
    },
    {
      "cell_type": "code",
      "execution_count": null,
      "metadata": {
        "id": "tV-PvMlnsVti"
      },
      "outputs": [],
      "source": [
        "class myCrazyNeuralNet(nn.Module):\n",
        "    def __init__(self):\n",
        "        super().__init__()\n",
        "        self.lin1 = nn.Linear(784, 30)\n",
        "        self.lin2 = nn.Linear(30, 784)\n",
        "        self.lin3 = nn.Linear(30, 10)\n",
        "\n",
        "    def forward(self, x):\n",
        "        x_lin1 = self.lin1(x)\n",
        "        x_lin2 = x + self.lin2(x_lin1)\n",
        "        x_lin2 = self.lin1(x_lin2)\n",
        "        x = self.lin3(x_lin2)\n",
        "        return x"
      ]
    },
    {
      "cell_type": "code",
      "execution_count": null,
      "metadata": {
        "id": "Tj8c69rqsVti"
      },
      "outputs": [],
      "source": [
        "# удобная универсальная конструкция\n",
        "# ПЕРЕПИСАТЬ\n",
        "\n",
        "def conv_block(in_f, out_f, activation='relu', *args, **kwargs):\n",
        "    activations = nn.ModuleDict([\n",
        "                ['lrelu', nn.LeakyReLU()],\n",
        "                ['relu', nn.ReLU()]\n",
        "    ])\n",
        "\n",
        "    return nn.Sequential(\n",
        "        nn.Conv2d(in_f, out_f, *args, **kwargs),\n",
        "        nn.BatchNorm2d(out_f),\n",
        "        activations[activation]\n",
        "    )\n",
        "\n",
        "def dec_block(in_f, out_f):\n",
        "    return nn.Sequential(\n",
        "        nn.Linear(in_f, out_f),\n",
        "        nn.Sigmoid()\n",
        "    )\n",
        "\n",
        "class MyEncoder(nn.Module):\n",
        "    def __init__(self, enc_sizes, *args, **kwargs):\n",
        "        super().__init__()\n",
        "        self.conv_blokcs = nn.Sequential(*[conv_block(in_f, out_f, kernel_size=3, padding=1, *args, **kwargs)\n",
        "                       for in_f, out_f in zip(enc_sizes, enc_sizes[1:])])\n",
        "\n",
        "        def forward(self, x):\n",
        "            return self.conv_blokcs(x)\n",
        "\n",
        "class MyDecoder(nn.Module):\n",
        "    def __init__(self, dec_sizes, n_classes):\n",
        "        super().__init__()\n",
        "        self.dec_blocks = nn.Sequential(*[dec_block(in_f, out_f)\n",
        "                       for in_f, out_f in zip(dec_sizes, dec_sizes[1:])])\n",
        "        self.last = nn.Linear(dec_sizes[-1], n_classes)\n",
        "\n",
        "    def forward(self, x):\n",
        "        return self.dec_blocks()\n",
        "\n",
        "\n",
        "class MyCNNClassifier(nn.Module):\n",
        "    def __init__(self, in_c, enc_sizes, dec_sizes,  n_classes, activation='relu'):\n",
        "        super().__init__()\n",
        "        self.enc_sizes = [in_c, *enc_sizes]\n",
        "        self.dec_sizes = [32 * 28 * 28, *dec_sizes]\n",
        "\n",
        "        self.encoder = MyEncoder(self.enc_sizes, activation=activation)\n",
        "\n",
        "        self.decoder = MyDecoder(dec_sizes, n_classes)\n",
        "\n",
        "    def forward(self, x):\n",
        "        x = self.encoder(x)\n",
        "\n",
        "        x = x.flatten(1) # flat\n",
        "\n",
        "        x = self.decoder(x)\n",
        "\n",
        "        return x"
      ]
    },
    {
      "cell_type": "code",
      "execution_count": null,
      "metadata": {
        "id": "05xynd_tsVtj"
      },
      "outputs": [],
      "source": [
        "# явное прописывание весов\n",
        "\n",
        "class MyNetworkWithParams(nn.Module): # Module - удобная сущность для определения НС\n",
        "    def __init__(self,input_size, hidden_size, output_size):\n",
        "        super(MyNetworkWithParams,self).__init__()\n",
        "        self.layer1_weights = nn.Parameter(torch.randn(input_size, hidden_size)) # параметр автоматически регистрируется как параметр модуля\n",
        "        self.layer1_bias = nn.Parameter(torch.randn(hidden_size))\n",
        "        self.layer2_weights = nn.Parameter(torch.randn(hidden_size, output_size))\n",
        "        self.layer2_bias = nn.Parameter(torch.randn(output_size))\n",
        "\n",
        "    def forward(self,x):\n",
        "        h1 = torch.matmul(x,self.layer1_weights) + self.layer1_bias\n",
        "        h1_act = torch.max(h1, torch.zeros(h1.size())) # ReLU\n",
        "        output = torch.matmul(h1_act,self.layer2_weights) + self.layer2_bias\n",
        "        return output\n",
        "\n",
        "net = MyNetworkWithParams(32, 128, 10)"
      ]
    },
    {
      "cell_type": "code",
      "execution_count": null,
      "metadata": {
        "id": "fjn7hfyqsVtk",
        "outputId": "d5b523fa-4745-4c7a-8b6c-d7a91c939cf1"
      },
      "outputs": [
        {
          "name": "stdout",
          "output_type": "stream",
          "text": [
            "layer1_weights torch.Size([32, 128])\n",
            "layer1_bias torch.Size([128])\n",
            "layer2_weights torch.Size([128, 10])\n",
            "layer2_bias torch.Size([10])\n"
          ]
        }
      ],
      "source": [
        "# перечислим параметры\n",
        "for name, x in net.state_dict().items():\n",
        "    print (name, x.shape)"
      ]
    },
    {
      "cell_type": "code",
      "execution_count": null,
      "metadata": {
        "id": "i4nPet_esVtk",
        "outputId": "44d14602-8843-4d6e-8a78-2cdfe349caa0"
      },
      "outputs": [
        {
          "name": "stdout",
          "output_type": "stream",
          "text": [
            "Sequential(\n",
            "  (0): Sequential(\n",
            "    (block 0): Sequential(\n",
            "      (0): Linear(in_features=10, out_features=4, bias=True)\n",
            "      (1): ReLU()\n",
            "      (2): Linear(in_features=4, out_features=10, bias=True)\n",
            "      (3): ReLU()\n",
            "    )\n",
            "    (block 1): Sequential(\n",
            "      (0): Linear(in_features=10, out_features=4, bias=True)\n",
            "      (1): ReLU()\n",
            "      (2): Linear(in_features=4, out_features=10, bias=True)\n",
            "      (3): ReLU()\n",
            "    )\n",
            "    (block 2): Sequential(\n",
            "      (0): Linear(in_features=10, out_features=4, bias=True)\n",
            "      (1): ReLU()\n",
            "      (2): Linear(in_features=4, out_features=10, bias=True)\n",
            "      (3): ReLU()\n",
            "    )\n",
            "    (block 3): Sequential(\n",
            "      (0): Linear(in_features=10, out_features=4, bias=True)\n",
            "      (1): ReLU()\n",
            "      (2): Linear(in_features=4, out_features=10, bias=True)\n",
            "      (3): ReLU()\n",
            "    )\n",
            "  )\n",
            "  (1): Linear(in_features=10, out_features=1, bias=True)\n",
            ")\n"
          ]
        }
      ],
      "source": [
        "# вложенные модули (блоки)\n",
        "\n",
        "def block1():\n",
        "    # здесь реализуем базовый строительный блок\n",
        "    return nn.Sequential(nn.Linear(10, 4), nn.ReLU(),\n",
        "                         nn.Linear(4, 10), nn.ReLU())\n",
        "\n",
        "def block2():\n",
        "    net = nn.Sequential()\n",
        "    for i in range(4):\n",
        "        # здесь присоединяем базовый блок к нашей сети\n",
        "        net.add_module(f'block {i}', block1())\n",
        "    return net\n",
        "\n",
        "rgnet = nn.Sequential(block2(), nn.Linear(10, 1))\n",
        "\n",
        "rgnet(X)\n",
        "\n",
        "print(rgnet)"
      ]
    },
    {
      "cell_type": "code",
      "execution_count": null,
      "metadata": {
        "id": "iMOKOdAbsVtk",
        "outputId": "747fe677-0c67-4147-93c7-b778e5da83e2"
      },
      "outputs": [
        {
          "data": {
            "text/plain": [
              "Parameter containing:\n",
              "tensor([ 0.2119,  0.1545, -0.0612,  0.2647, -0.3946, -0.0332, -0.0323,  0.3765,\n",
              "        -0.1765, -0.4842], requires_grad=True)"
            ]
          },
          "execution_count": 99,
          "metadata": {},
          "output_type": "execute_result"
        }
      ],
      "source": [
        "rgnet[0][2][2].bias"
      ]
    },
    {
      "cell_type": "code",
      "execution_count": null,
      "metadata": {
        "id": "LoyWd9y3sVtm",
        "outputId": "bcc85f03-edc2-42e5-aba8-26057d121a68"
      },
      "outputs": [
        {
          "data": {
            "text/plain": [
              "MLP(\n",
              "  (layers): Sequential(\n",
              "    (0): Linear(in_features=2, out_features=4, bias=True)\n",
              "    (1): ReLU(inplace=True)\n",
              "    (2): Linear(in_features=4, out_features=6, bias=True)\n",
              "    (3): ReLU(inplace=True)\n",
              "    (4): Linear(in_features=6, out_features=10, bias=True)\n",
              "  )\n",
              ")"
            ]
          },
          "execution_count": 4,
          "metadata": {},
          "output_type": "execute_result"
        }
      ],
      "source": [
        "# эффективное задание многослойного персептрона\n",
        "\n",
        "class MLP(nn.Module):\n",
        "\n",
        "    def __init__(self, input_dims=64, hidden_dims=[128, 256], output_dims=10):\n",
        "        super().__init__()\n",
        "        hidden_dims = [input_dims] + hidden_dims\n",
        "        layers = []\n",
        "        for i in range(len(hidden_dims)-1):\n",
        "            layers += [\n",
        "                nn.Linear(hidden_dims[i], hidden_dims[i+1]),\n",
        "                nn.ReLU(inplace=True)\n",
        "            ]\n",
        "        layers += [nn.Linear(hidden_dims[-1], output_dims)]\n",
        "        self.layers = nn.Sequential(*layers)\n",
        "\n",
        "    def forward(self, x):\n",
        "        return self.layers(x)\n",
        "\n",
        "net = MLP(2, [4, 6], 10)\n",
        "\n",
        "net"
      ]
    },
    {
      "cell_type": "markdown",
      "metadata": {
        "id": "Tu4XnBcIsVtm"
      },
      "source": [
        "## Разделение параметров"
      ]
    },
    {
      "cell_type": "code",
      "execution_count": null,
      "metadata": {
        "id": "ueaX6lC-sVtm"
      },
      "outputs": [],
      "source": [
        "shared = nn.Linear(8, 8)\n",
        "net = nn.Sequential(nn.Linear(4, 8), nn.ReLU(),\n",
        "                    shared, nn.ReLU(),\n",
        "                    shared, nn.ReLU(),\n",
        "                    nn.Linear(8, 1))"
      ]
    },
    {
      "cell_type": "markdown",
      "source": [
        "### сеть с несколькими входами"
      ],
      "metadata": {
        "id": "pbZC08rO9PHT"
      }
    },
    {
      "cell_type": "code",
      "source": [
        "import torch\n",
        "from torch import nn\n",
        "\n",
        "class TwoInputsNet(nn.Module):\n",
        "  def __init__(self):\n",
        "    super(TwoInputsNet, self).__init__()\n",
        "    self.conv = nn.Conv2d( ... )  # set up your layer here\n",
        "    self.fc1 = nn.Linear( ... )  # set up first FC layer\n",
        "    self.fc2 = nn.Linear( ... )  # set up the other FC layer\n",
        "\n",
        "  def forward(self, input1, input2):\n",
        "    c = self.conv(input1)\n",
        "    f = self.fc1(input2)\n",
        "    # now we can reshape `c` and `f` to 2D and concat them\n",
        "    combined = torch.cat((c.view(c.size(0), -1),\n",
        "                          f.view(f.size(0), -1)), dim=1)\n",
        "    out = self.fc2(combined)\n",
        "    return out"
      ],
      "metadata": {
        "id": "itoU1BVF9TmV"
      },
      "execution_count": 10,
      "outputs": []
    },
    {
      "cell_type": "markdown",
      "metadata": {
        "id": "SXCd9KoTsVtm"
      },
      "source": [
        "## Свои модули (слои), задание модулей\n",
        "\n",
        "По сути, это маленькая НС\n",
        "\n",
        "* пример слоя\n",
        "* слой + NN\n",
        "* списки слоёв\n",
        "\n",
        "Слой надо задавать на базе nn.Module\n",
        "* есть список слоёв - nn.ModuleList\n",
        "* есть словарь - nn.ModuleDict"
      ]
    },
    {
      "cell_type": "code",
      "execution_count": null,
      "metadata": {
        "id": "15WlrYn-sVtm"
      },
      "outputs": [],
      "source": [
        "# центрирующий слой без параметров\n",
        "\n",
        "class CenteredLayer(nn.Module):\n",
        "    def __init__(self):\n",
        "        super().__init__()\n",
        "\n",
        "    def forward(self, X):\n",
        "        return X - X.mean()"
      ]
    },
    {
      "cell_type": "code",
      "execution_count": null,
      "metadata": {
        "id": "4NEcl3FGsVtn",
        "outputId": "5e1d1dfb-410c-4ce0-9e54-adf3a7e62020"
      },
      "outputs": [
        {
          "data": {
            "text/plain": [
              "torch.Size([100, 10])"
            ]
          },
          "execution_count": 15,
          "metadata": {},
          "output_type": "execute_result"
        }
      ],
      "source": [
        "from torch import nn\n",
        "\n",
        "class myCustomLinearLayer(nn.Module):\n",
        "    def __init__(self, in_size, out_size):\n",
        "        super().__init__()\n",
        "        self.weights = nn.Parameter(torch.randn(in_size, out_size))\n",
        "        self.bias = nn.Parameter(torch.zeros(out_size))\n",
        "\n",
        "    def forward(self, x):\n",
        "        return x.mm(self.weights) + self.bias\n",
        "\n",
        "class myCustomNeuralNet(nn.Module):\n",
        "    def __init__(self):\n",
        "        super().__init__()\n",
        "        # Define all Layers Here\n",
        "        self.lin1 = myCustomLinearLayer(784, 10)\n",
        "\n",
        "    def forward(self, x):\n",
        "        # Connect the layer Outputs here to define the forward pass\n",
        "        x = self.lin1(x)\n",
        "        return x\n",
        "\n",
        "x = torch.randn((100, 784))\n",
        "model = myCustomNeuralNet()\n",
        "model(x).size()"
      ]
    },
    {
      "cell_type": "code",
      "execution_count": null,
      "metadata": {
        "id": "x_RBq0BSsVtn",
        "outputId": "e606a0f1-0be2-48b1-dc94-e0f76b6dfc6b"
      },
      "outputs": [
        {
          "data": {
            "text/plain": [
              "OrderedDict([('weight',\n",
              "              tensor([[-0.5998, -0.1427],\n",
              "                      [-0.2735,  0.4950],\n",
              "                      [ 0.0721, -0.1688]]))])"
            ]
          },
          "execution_count": 16,
          "metadata": {},
          "output_type": "execute_result"
        }
      ],
      "source": [
        "# чуть по-другому линейный слой\n",
        "\n",
        "import torch.nn as nn\n",
        "from torch import Tensor\n",
        "import math\n",
        "\n",
        "class MyLinear(nn.Module):\n",
        "    \"\"\"\n",
        "    линейный слой\n",
        "    \"\"\"\n",
        "\n",
        "    def __init__(self, in_features, out_features, bias): # <1>\n",
        "        super(MyLinear, self).__init__()\n",
        "        self.in_features = in_features\n",
        "        self.out_features = out_features\n",
        "        self.weight = nn.Parameter(\n",
        "            torch.Tensor(out_features,\n",
        "                         in_features))\n",
        "        if bias:\n",
        "            self.bias = nn.Parameter(\n",
        "                torch.Tensor(out_features))\n",
        "        else:\n",
        "            self.register_parameter('bias', None)\n",
        "        self.reset_parameters()\n",
        "\n",
        "    def reset_parameters(self):\n",
        "        nn.init.kaiming_uniform_(self.weight,\n",
        "                              a=math.sqrt(5))\n",
        "        if self.bias is not None:\n",
        "            fan_in, _ = \\\n",
        "              nn.init._calculate_fan_in_and_fan_out(\n",
        "                  self.weight)\n",
        "            bound = 1 / math.sqrt(fan_in)\n",
        "            init.uniform_(self.bias, -bound, bound)\n",
        "\n",
        "    def forward(self, input: Tensor) -> Tensor: # <2>\n",
        "        return F.linear(input,\n",
        "                        self.weight,\n",
        "                        self.bias) # <3>\n",
        "\n",
        "net = MyLinear(2, 3, False)\n",
        "\n",
        "net.state_dict()"
      ]
    },
    {
      "cell_type": "code",
      "execution_count": null,
      "metadata": {
        "id": "xlF12PH_sVtn"
      },
      "outputs": [],
      "source": [
        "# списки слоёв\n",
        "\n",
        "class MyNet(nn.Module):\n",
        "    def __init__(self,n_hidden_layers):\n",
        "        super(MyNet,self).__init__()\n",
        "        self.n_hidden_layers = n_hidden_layers\n",
        "        self.final_layer = nn.Linear(128, 10)\n",
        "        self.act = nn.ReLU()\n",
        "        self.hidden = []\n",
        "        for i in range(n_hidden_layers):\n",
        "            self.hidden.append(nn.Linear(128, 128))\n",
        "        self.hidden = nn.ModuleList(self.hidden) # это важно!\n",
        "\n",
        "    def forward(self,x):\n",
        "        h = x\n",
        "        for i in range(self.n_hidden_layers):\n",
        "            h = self.hidden[i](h)\n",
        "            h = self.act(h)\n",
        "        out = self.final_layer(h)\n",
        "        return out"
      ]
    },
    {
      "cell_type": "code",
      "execution_count": null,
      "metadata": {
        "id": "-kVNOrnusVto"
      },
      "outputs": [],
      "source": [
        "# свой \"нормализатор\" [NEW]\n",
        "\n",
        "import torch\n",
        "import torch.nn as nn\n",
        "from torchvision.models import resnet50\n",
        "\n",
        "# пример модуля для нормализации\n",
        "class Normalize(nn.Module):\n",
        "    def __init__(self, mean, std):\n",
        "        super(Normalize, self).__init__()\n",
        "        self.mean = torch.Tensor(mean)\n",
        "        self.std = torch.Tensor(std)\n",
        "    def forward(self, x):\n",
        "        return (x - self.mean.type_as(x)[None,:,None,None]) / self.std.type_as(x)[None,:,None,None]\n",
        "\n",
        "# для нормализации ImageNet images, см. https://github.com/pytorch/examples/blob/master/imagenet/main.py\n",
        "norm = Normalize(mean=[0.485, 0.456, 0.406], std=[0.229, 0.224, 0.225])\n",
        "\n",
        "# загружаем предобученную сеть\n",
        "model = resnet50(pretrained=True)\n",
        "model.eval();\n",
        "\n",
        "# даём на вход нормализованное изображение\n",
        "pred = model(norm(pig_tensor))"
      ]
    },
    {
      "cell_type": "markdown",
      "metadata": {
        "id": "GKPJVCxPsVto"
      },
      "source": [
        "## Инициализация"
      ]
    },
    {
      "cell_type": "code",
      "execution_count": null,
      "metadata": {
        "colab": {
          "base_uri": "https://localhost:8080/"
        },
        "id": "TW1uXqM9sVto",
        "outputId": "5898cfb8-b10b-434a-bd5c-2c636dba6141"
      },
      "outputs": [
        {
          "output_type": "stream",
          "name": "stdout",
          "text": [
            "tensor([-0.0013,  0.0183]) tensor(0.)\n",
            "tensor([ 0.5608, -0.1452]) tensor(0.0100)\n"
          ]
        }
      ],
      "source": [
        "# инициализация\n",
        "import torch.nn as nn\n",
        "import torch\n",
        "\n",
        "def init_normal(m):\n",
        "    if type(m) == nn.Linear:\n",
        "        nn.init.normal_(m.weight, mean=0, std=0.01)\n",
        "        nn.init.zeros_(m.bias)\n",
        "\n",
        "def init_normal_v2(m):\n",
        "    if isinstance(m, nn.Linear):\n",
        "        torch.nn.init.xavier_uniform_(m.weight)\n",
        "        m.bias.data.fill_(0.01)\n",
        "\n",
        "net = nn.Sequential(nn.Linear(2, 2), nn.Linear(2, 2))\n",
        "net.apply(init_normal)\n",
        "\n",
        "print (net[0].weight.data[0], net[0].bias.data[0])\n",
        "\n",
        "net.apply(init_normal_v2)\n",
        "\n",
        "print (net[0].weight.data[0], net[0].bias.data[0])"
      ]
    },
    {
      "cell_type": "code",
      "execution_count": null,
      "metadata": {
        "id": "X8N5tsVcsVtp"
      },
      "outputs": [],
      "source": [
        "# способ, где копируются веса в нужное место\n",
        "\n",
        "def init_custom(m):\n",
        "    if type(m) == nn.Linear:\n",
        "        rw = torch.randn(m.weight.data.size())\n",
        "        m.weight.data.copy_(rw)"
      ]
    },
    {
      "cell_type": "code",
      "execution_count": null,
      "metadata": {
        "id": "-_W5E0nesVtp",
        "outputId": "cc96ac95-7514-421f-b548-82b7ea0c62cd"
      },
      "outputs": [
        {
          "name": "stdout",
          "output_type": "stream",
          "text": [
            "tensor([-0.3876,  0.1836,  0.5121, -0.5632,  0.3504,  0.0779, -0.6140, -0.2752,\n",
            "        -0.0533, -0.3310])\n",
            "tensor([[42., 42., 42., 42., 42.],\n",
            "        [42., 42., 42., 42., 42.]])\n"
          ]
        }
      ],
      "source": [
        "# инициализация по блокам\n",
        "\n",
        "def xavier(m):\n",
        "    if type(m) == nn.Linear:\n",
        "        nn.init.xavier_uniform_(m.weight)\n",
        "\n",
        "def init_42(m):\n",
        "    if type(m) == nn.Linear:\n",
        "        nn.init.constant_(m.weight, 42)\n",
        "\n",
        "net[0].apply(xavier)\n",
        "net[2].apply(init_42)\n",
        "\n",
        "print(net[0].weight.data[0])\n",
        "print(net[2].weight.data)"
      ]
    },
    {
      "cell_type": "code",
      "execution_count": null,
      "metadata": {
        "id": "XRnG4fldsVtp"
      },
      "outputs": [],
      "source": [
        "# пример инициализации из DCGAN\n",
        "def weights_init(m):\n",
        "    classname = m.__class__.__name__\n",
        "    if classname.find('Conv') != -1:\n",
        "        nn.init.normal_(m.weight.data, 0.0, 0.02)\n",
        "    elif classname.find('BatchNorm') != -1:\n",
        "        nn.init.normal_(m.weight.data, 1.0, 0.02)\n",
        "        nn.init.constant_(m.bias.data, 0)"
      ]
    },
    {
      "cell_type": "markdown",
      "metadata": {
        "id": "1yAYAz7ZsVtr"
      },
      "source": [
        "## Функции обучения и теста на одной эпохе\n",
        "\n",
        "сейчас рекомендуется заменять **torch.no_grad()** на **torch.inference_mode()**"
      ]
    },
    {
      "cell_type": "code",
      "execution_count": null,
      "metadata": {
        "id": "xNhZAF5IsVtr",
        "outputId": "a0f37633-362d-48fb-8f87-230e1bdacfe0"
      },
      "outputs": [
        {
          "name": "stdout",
          "output_type": "stream",
          "text": [
            "\tgrad:  1.0 2.0 1.0 -2.0\n",
            "\tgrad:  2.0 4.0 2.0399999618530273 -7.840000152587891\n",
            "\tgrad:  3.0 6.0 3.2951998710632324 -16.228801727294922\n",
            "\tgrad:  4.0 8.0 5.042752265930176 -23.657981872558594\n",
            "\tgrad:  5.0 10.0 7.486339092254639 -25.136608123779297\n",
            "Epoch: 0 | Loss: 6.318490982055664\n",
            "\tgrad:  1.0 2.0 1.748633861541748 -0.5027322769165039\n",
            "\tgrad:  2.0 4.0 3.507322311401367 -1.9707107543945312\n",
            "\tgrad:  3.0 6.0 5.320104598999023 -4.079372406005859\n",
            "\tgrad:  4.0 8.0 7.256648063659668 -5.946815490722656\n",
            "\tgrad:  5.0 10.0 9.36815071105957 -6.318492889404297\n",
            "Epoch: 1 | Loss: 0.39923352003097534\n"
          ]
        }
      ],
      "source": [
        "# простое обучение (без формальной НС)\n",
        "\n",
        "# данные\n",
        "x, y = [1.0, 2.0, 3.0, 4.0, 5.0], [2.0, 4.0, 6.0, 8.0, 10.0]\n",
        "w = torch.tensor([1.0], requires_grad=True) # веса\n",
        "\n",
        "def forward(x):\n",
        "    return x * w\n",
        "\n",
        "def loss(y_pred, y_val):\n",
        "    return (y_pred - y_val) ** 2\n",
        "\n",
        "# обучение\n",
        "for epoch in range(2):\n",
        "    for x_, y_ in zip(x, y):\n",
        "        a = forward(x_) # Forward\n",
        "        l = loss(a, y_) # Loss\n",
        "        l.backward() # Back propagation\n",
        "        print(\"\\tgrad: \", x_, y_, a.item(), w.grad.item())\n",
        "        w.data = w.data - 0.01 * w.grad.item() # ~ update weights\n",
        "        w.grad.data.zero_() # zero weights\n",
        "\n",
        "    print(f\"Epoch: {epoch} | Loss: {l.item()}\")"
      ]
    },
    {
      "cell_type": "code",
      "execution_count": null,
      "metadata": {
        "id": "DxfEAVDcsVtr",
        "outputId": "4c0988a4-8012-4272-ffd7-fb6c5dd76b1d"
      },
      "outputs": [
        {
          "name": "stdout",
          "output_type": "stream",
          "text": [
            "Epoch: 0 | Loss: 5.618300914764404 \n",
            "Epoch: 0 | Loss: 20.990278244018555 \n",
            "Epoch: 0 | Loss: 39.01418685913086 \n",
            "Epoch: 0 | Loss: 45.49380111694336 \n",
            "Epoch: 0 | Loss: 32.03615951538086 \n",
            "Epoch: 1 | Loss: 0.02166941575706005 \n",
            "Epoch: 1 | Loss: 0.6096134185791016 \n",
            "Epoch: 1 | Loss: 1.7185356616973877 \n",
            "Epoch: 1 | Loss: 2.4910850524902344 \n",
            "Epoch: 1 | Loss: 2.0880186557769775 \n"
          ]
        }
      ],
      "source": [
        "# Обучение с сетью\n",
        "\n",
        "x = [torch.tensor([[x_]]) for x_ in x]\n",
        "y = [torch.tensor([[y_]]) for y_ in y]\n",
        "\n",
        "class Model(nn.Module):\n",
        "    def __init__(self):\n",
        "        super(Model, self).__init__()\n",
        "        self.linear = torch.nn.Linear(1, 1)\n",
        "\n",
        "    def forward(self, x):\n",
        "          return self.linear(x)\n",
        "\n",
        "model = Model()\n",
        "\n",
        "criterion = torch.nn.MSELoss(reduction='sum')\n",
        "optimizer = torch.optim.SGD(model.parameters(), lr=0.01)\n",
        "\n",
        "for epoch in range(2):\n",
        "    for x_, y_ in zip(x, y):\n",
        "        a = model(x_)\n",
        "        loss = criterion(a, y_)# Loss\n",
        "        print(f'Epoch: {epoch} | Loss: {loss.item()} ')\n",
        "        optimizer.zero_grad() # Zero\n",
        "        loss.backward() # BW\n",
        "        optimizer.step() # opt\n",
        "\n",
        "# после обучения\n",
        "y_pred = model(torch.tensor([[4.0]]))"
      ]
    },
    {
      "cell_type": "code",
      "execution_count": null,
      "metadata": {
        "id": "VF5dXqLvsVts"
      },
      "outputs": [],
      "source": [
        "def train_epoch(model, train_loader, criterion, optimizer):\n",
        "    model.train()\n",
        "\n",
        "    running_loss = 0.0\n",
        "\n",
        "    start_time = time.time()\n",
        "    for batch_idx, (data, target) in enumerate(train_loader):\n",
        "        optimizer.zero_grad(set_to_none=True)   # .backward() accumulates gradients, это эквивалентно model.zero_grad()\n",
        "        data = data.to(device)\n",
        "        target = target.to(device) # перенос на device\n",
        "\n",
        "        outputs = model(data)\n",
        "        loss = criterion(outputs, target)\n",
        "        running_loss += loss.item()\n",
        "\n",
        "        loss.backward()\n",
        "        optimizer.step()\n",
        "\n",
        "    end_time = time.time()\n",
        "\n",
        "    running_loss /= len(train_loader)\n",
        "    print('Training Loss: ', running_loss, 'Time: ',end_time - start_time, 's')\n",
        "    return running_loss\n",
        "\n",
        "def test_model(model, test_loader, criterion):\n",
        "    with torch.no_grad(): # не забывать делать это и на Inference\n",
        "        model.eval()\n",
        "\n",
        "        running_loss = 0.0\n",
        "        total_predictions = 0.0\n",
        "        correct_predictions = 0.0\n",
        "\n",
        "        for batch_idx, (data, target) in enumerate(test_loader):\n",
        "            data = data.to(device)\n",
        "            target = target.to(device)\n",
        "\n",
        "            outputs = model(data)\n",
        "\n",
        "            _, predicted = torch.max(outputs.data, 1)\n",
        "            total_predictions += target.size(0)\n",
        "            correct_predictions += (predicted == target).sum().item()\n",
        "\n",
        "            loss = criterion(outputs, target).detach()\n",
        "            running_loss += loss.item()\n",
        "\n",
        "\n",
        "        running_loss /= len(test_loader)\n",
        "        acc = (correct_predictions/total_predictions)*100.0\n",
        "        print('Testing Loss: ', running_loss)\n",
        "        print('Testing Accuracy: ', acc, '%')\n",
        "        return running_loss, acc\n",
        "\n",
        "n_epochs = 10\n",
        "Train_loss = []\n",
        "Test_loss = []\n",
        "Test_acc = []\n",
        "\n",
        "for i in range(n_epochs):\n",
        "    train_loss = train_epoch(model, train_loader, criterion, optimizer)\n",
        "    test_loss, test_acc = test_model(model, test_loader, criterion)\n",
        "    Train_loss.append(train_loss)\n",
        "    Test_loss.append(test_loss)\n",
        "    Test_acc.append(test_acc)\n",
        "    print('='*20)"
      ]
    },
    {
      "cell_type": "markdown",
      "metadata": {
        "id": "PVAOForBsVts"
      },
      "source": [
        "ещё подобная функция"
      ]
    },
    {
      "cell_type": "code",
      "execution_count": null,
      "metadata": {
        "id": "gSMANO4AsVts"
      },
      "outputs": [],
      "source": [
        "#основная функция для обучения сети\n",
        "# !!! тут нет функции evaluate_net\n",
        "\n",
        "def train_net(n_epochs, net, optimizer, criterion, trainloader, testloader, use_cuda=True, verbose=True):\n",
        "\n",
        "    if use_cuda:\n",
        "        net = net.cuda()\n",
        "\n",
        "    net = net.train()\n",
        "\n",
        "    # основной цикл по всем эпохам\n",
        "    for epoch in range(n_epochs):\n",
        "        running_loss = 0.0\n",
        "\n",
        "        # цикл по батчам внутри эпохи\n",
        "        for data in trainloader:\n",
        "            # берем очередной батч и его лейблы\n",
        "            inputs, labels = data\n",
        "\n",
        "            if use_cuda:\n",
        "                inputs = inputs.cuda()\n",
        "                labels = labels.cuda()\n",
        "\n",
        "            # всегда перед вычислением градиентов зануляем их, чтобы не накапливались\n",
        "            optimizer.zero_grad()\n",
        "\n",
        "            # получили выход сетки\n",
        "            outputs = net(inputs)\n",
        "\n",
        "            # посчитали для этого выхода лосс\n",
        "            loss = criterion(outputs, labels)\n",
        "\n",
        "            # вычислили градиенты loss по параметрам сети (w)\n",
        "            loss.backward()\n",
        "\n",
        "            #далем шаг по антиградиенту - обновляем веса сети\n",
        "            optimizer.step()\n",
        "\n",
        "            #суммируемый лосс на обучении\n",
        "            running_loss += float(loss) # loss.item()\n",
        "\n",
        "        # логируем после каждой эпохи\n",
        "        if verbose:\n",
        "            test_loss, test_accuracy = evaluate_net(net, testloader, use_cuda=use_cuda)\n",
        "            print('Epoch {}. Train_loss: {:.3f}' .format(epoch + 1, running_loss / len(trainloader)))\n",
        "            print('Test_accuracy: {:.3f}, test_loss: {:.3f}' .format(test_accuracy, test_loss))\n",
        "            print('------------------------------')\n",
        "\n",
        "    if verbose:\n",
        "        print('Finished Training')"
      ]
    },
    {
      "cell_type": "code",
      "execution_count": null,
      "metadata": {
        "id": "OJekaEassVtt"
      },
      "outputs": [],
      "source": [
        "# Хак\n",
        "# вместо обнуления градиента рекомендуют\n",
        "for param in model.parameters():\n",
        "    param.grad = None\n",
        "\n",
        "# или в Pytorch, начиная с 1.7\n",
        "optimizer.zero_grad(set_to_none=True)"
      ]
    },
    {
      "cell_type": "markdown",
      "metadata": {
        "id": "DevxpiYlsVtt"
      },
      "source": [
        "### Валидация"
      ]
    },
    {
      "cell_type": "code",
      "execution_count": null,
      "metadata": {
        "id": "nJAfvPD1sVtt"
      },
      "outputs": [],
      "source": [
        "from torch.utils.data import random_split\n",
        "# делим данные на две части 40к + 10к\n",
        "train_set, val_set = random_split(train_data, [40000, 10000])\n",
        "trainloader = torch.utils.data.DataLoader(train_set,\n",
        "                                          batch_size=16,\n",
        "                                          shuffle=True)\n",
        "valloader = torch.utils.data.DataLoader(val_set,\n",
        "                                        batch_size=16,\n",
        "                                        shuffle=True)\n",
        "print(len(trainloader)) # 2500\n",
        "print(len(valloader)) # 625"
      ]
    },
    {
      "cell_type": "markdown",
      "metadata": {
        "id": "kdLNfguesVtu"
      },
      "source": [
        "## темп обучения, программы изменнения темпов"
      ]
    },
    {
      "cell_type": "code",
      "execution_count": null,
      "metadata": {
        "id": "xUs_aLBfsVtu"
      },
      "outputs": [],
      "source": [
        "# свой темп для каждого слоя\n",
        "\n",
        "from torch import optim\n",
        "\n",
        "optim.SGD([\n",
        "    {'params': model.features.parameters()},\n",
        "    {'params': model.classifier.parameters(), 'lr': 1e-3}\n",
        "    ], lr=1e-2, momentum=0.9)\n",
        "\n",
        "\n"
      ]
    },
    {
      "cell_type": "code",
      "source": [
        "# ещё пример - разные LR для разных слоёв\n",
        "\n",
        "from torch.optim import Adam\n",
        "\n",
        "model = Net()\n",
        "\n",
        "optim = Adam(\n",
        "    [\n",
        "        {\"params\": model.fc.parameters(), \"lr\": 1e-3},\n",
        "        {\"params\": model.agroupoflayer.parameters()},\n",
        "        {\"params\": model.lastlayer.parameters(), \"lr\": 4e-2},\n",
        "    ],\n",
        "    lr=5e-4,\n",
        ")\n",
        "\n",
        "# оптимизтируются только перечисленные параметры"
      ],
      "metadata": {
        "id": "XJceGcqn8Zw6"
      },
      "execution_count": null,
      "outputs": []
    },
    {
      "cell_type": "code",
      "execution_count": null,
      "metadata": {
        "id": "tW7S1tOvsVtu"
      },
      "outputs": [],
      "source": [
        "from torch.optim.lr_scheduler import StepLR, ReduceLROnPlateau, CosineAnnealingLR\n",
        "\n",
        "\n",
        "net = EasyCNN(n_classes=67)\n",
        "net = net.cuda()\n",
        "\n",
        "lr = 0.01\n",
        "num_epochs = 5\n",
        "\n",
        "optimizer = optim.SGD(net.parameters(), lr) # сообщаем параметры оптимизатору!\n",
        "# сообщаем оптимизатор \"шедьюлеру\"\n",
        "scheduler_1 = ReduceLROnPlateau(optimizer, factor=0.1, patience=1, threshold=0.1)\n",
        "scheduler_2 = StepLR(optimizer, step_size=1, gamma=0.1) # умножаем на gamma через каждые step_size шагов\n",
        "\n",
        "# впишем ReduceLROnPlateau в процесс обучения\n",
        "def run_epoch(epoch, is_train):\n",
        "    if is_train:\n",
        "        net.train()\n",
        "        loader = trainloader\n",
        "        print(\"Training epoch: \", epoch + 1, \"/\", num_epochs)\n",
        "    else:\n",
        "        net.eval()\n",
        "        loader = valloader\n",
        "        print('Validation')\n",
        "\n",
        "    running_loss = 0.0\n",
        "    correct = 0.0\n",
        "    total = 0.0\n",
        "\n",
        "    for i, data in enumerate(loader):\n",
        "        images, labels, _= data\n",
        "        images, labels = images.cuda(), labels.cuda()\n",
        "        outputs = net(images)\n",
        "        loss = criterion(outputs, labels)\n",
        "\n",
        "        if is_train:\n",
        "            optimizer.zero_grad()\n",
        "            loss.backward()\n",
        "            optimizer.step()\n",
        "\n",
        "        running_loss += loss.item()\n",
        "        total += images.data.size(0)\n",
        "\n",
        "\n",
        "        _, predicted = torch.max(outputs.data, 1)\n",
        "        correct += (predicted == labels.data).sum()\n",
        "\n",
        "    lr = scheduler_1.optimizer.param_groups[0]['lr']\n",
        "    print('Loss: {:.3f}, accuracy: {:.3f}, lr: {}'.format(running_loss / (i + 1), correct / total * 100.0, lr))\n",
        "\n",
        "    # шаг на эпоху должен быть один, сделаем его после валидации\n",
        "    if not is_train:\n",
        "        scheduler_1.step(running_loss / (i + 1))\n",
        "        scheduler_2.step()\n",
        "\n",
        "\n",
        "%%time\n",
        "for epoch in range(num_epochs):\n",
        "    #training\n",
        "    run_epoch(epoch, is_train=True)\n",
        "\n",
        "    #validation\n",
        "    with torch.no_grad():\n",
        "        run_epoch(epoch, is_train=False)"
      ]
    },
    {
      "cell_type": "code",
      "execution_count": null,
      "metadata": {
        "id": "qQoppIq1sVtv"
      },
      "outputs": [],
      "source": [
        "# параметры оптимизатора (2DO: сделать вывод)\n",
        "for var_name in optimizer.state_dict():\n",
        "    print(var_name, \"\\t\", optimizer.state_dict()[var_name])"
      ]
    },
    {
      "cell_type": "markdown",
      "metadata": {
        "id": "e21WlIhesVtv"
      },
      "source": [
        "### Свой оптимизатор"
      ]
    },
    {
      "cell_type": "code",
      "execution_count": null,
      "metadata": {
        "id": "NeMqab9nsVtv"
      },
      "outputs": [],
      "source": [
        "class OptimizerTemplate:\n",
        "\n",
        "    def __init__(self, params, lr):\n",
        "        self.params = list(params)\n",
        "        self.lr = lr\n",
        "\n",
        "    def zero_grad(self):\n",
        "        ## Set gradients of all parameters to zero\n",
        "        for p in self.params:\n",
        "            if p.grad is not None:\n",
        "                p.grad.detach_() # For second-order optimizers important\n",
        "                p.grad.zero_()\n",
        "\n",
        "    @torch.no_grad()\n",
        "    def step(self):\n",
        "        ## Apply update step to all parameters\n",
        "        for p in self.params:\n",
        "            if p.grad is None: # We skip parameters without any gradients\n",
        "                continue\n",
        "            self.update_param(p)\n",
        "\n",
        "    def update_param(self, p):\n",
        "        # To be implemented in optimizer-specific classes\n",
        "        raise NotImplementedError\n",
        "\n",
        "\n",
        "class SGD(OptimizerTemplate):\n",
        "\n",
        "    def __init__(self, params, lr):\n",
        "        super().__init__(params, lr)\n",
        "\n",
        "    def update_param(self, p):\n",
        "        p_update = -self.lr * p.grad\n",
        "        p.add_(p_update) # In-place update => saves memory and does not create computation graph\n",
        "\n",
        "class Adam(OptimizerTemplate):\n",
        "\n",
        "    def __init__(self, params, lr, beta1=0.9, beta2=0.999, eps=1e-8):\n",
        "        super().__init__(params, lr)\n",
        "        self.beta1 = beta1\n",
        "        self.beta2 = beta2\n",
        "        self.eps = eps\n",
        "        self.param_step = {p: 0 for p in self.params} # Remembers \"t\" for each parameter for bias correction\n",
        "        self.param_momentum = {p: torch.zeros_like(p.data) for p in self.params}\n",
        "        self.param_2nd_momentum = {p: torch.zeros_like(p.data) for p in self.params}\n",
        "\n",
        "    def update_param(self, p):\n",
        "        self.param_step[p] += 1\n",
        "\n",
        "        self.param_momentum[p] = (1 - self.beta1) * p.grad + self.beta1 * self.param_momentum[p]\n",
        "        self.param_2nd_momentum[p] = (1 - self.beta2) * (p.grad)**2 + self.beta2 * self.param_2nd_momentum[p]\n",
        "\n",
        "        bias_correction_1 = 1 - self.beta1 ** self.param_step[p]\n",
        "        bias_correction_2 = 1 - self.beta2 ** self.param_step[p]\n",
        "\n",
        "        p_2nd_mom = self.param_2nd_momentum[p] / bias_correction_2\n",
        "        p_mom = self.param_momentum[p] / bias_correction_1\n",
        "        p_lr = self.lr / (torch.sqrt(p_2nd_mom) + self.eps)\n",
        "        p_update = -p_lr * p_mom\n",
        "\n",
        "        p.add_(p_update)"
      ]
    },
    {
      "cell_type": "code",
      "execution_count": null,
      "metadata": {
        "id": "R91s1Tk4sVtw"
      },
      "outputs": [],
      "source": [
        "# ПРОСТО ЕЩЁ ОДИН ОПТИМИЗАТОР\n",
        "# чуть-чуть по-другому написан\n",
        "\n",
        "from collections import defaultdict\n",
        "\n",
        "class Optimizer(object):\n",
        "\n",
        "    def __init__(self, params, defaults):\n",
        "        self.defaults = defaults\n",
        "        self.state = defaultdict(dict) # параметры оптимизатора (хранит информацию между шагами)\n",
        "        self.param_groups = [] # параметры сети\n",
        "\n",
        "        param_groups = list(params)\n",
        "        if len(param_groups) == 0:\n",
        "            raise ValueError(\n",
        "                \"\"\"optimizer got an\n",
        "                empty parameter list\"\"\")\n",
        "        if not isinstance(param_groups[0], dict):\n",
        "            param_groups = [{'params': param_groups}]\n",
        "\n",
        "        for param_group in param_groups:\n",
        "            self.add_param_group(param_group)\n",
        "\n",
        "    def __getstate__(self):\n",
        "        return {\n",
        "            'defaults': self.defaults,\n",
        "            'state': self.state,\n",
        "            'param_groups': self.param_groups,\n",
        "        }\n",
        "\n",
        "    def __setstate__(self, state):\n",
        "        self.__dict__.update(state)\n",
        "\n",
        "    def zero_grad(self): # обнуление градиента\n",
        "        r\"\"\"Clears the gradients of all\n",
        "        optimized :class:`torch.Tensor` s.\"\"\"\n",
        "\n",
        "        for group in self.param_groups:\n",
        "            for p in group['params']:\n",
        "                if p.grad is not None:\n",
        "                    p.grad.detach_()\n",
        "                    p.grad.zero_()\n",
        "\n",
        "    def step(self, closure): # выполнить шаг оптимизатора\n",
        "        raise NotImplementedError\n",
        "\n",
        "\n",
        "\n",
        "\n",
        "from torch.optim import Optimizer\n",
        "\n",
        "class SimpleSGD(Optimizer):\n",
        "\n",
        "    def __init__(self, params, lr='required'):\n",
        "        if lr is not 'required' and lr < 0.0:\n",
        "            raise ValueError(\"Invalid learning rate: {}\".format(lr))\n",
        "\n",
        "        defaults = dict(lr=lr)\n",
        "        super(SimpleSGD, self).__init__(\n",
        "            params, defaults)\n",
        "\n",
        "    def step(self):\n",
        "        for group in self.param_groups:\n",
        "            for p in group['params']:\n",
        "                if p.grad is None:\n",
        "                    continue\n",
        "                d_p = p.grad\n",
        "                p.add_(d_p, alpha=-group['lr'])\n",
        "\n",
        "        return"
      ]
    },
    {
      "cell_type": "markdown",
      "metadata": {
        "id": "bzLgKNWTsVtw"
      },
      "source": [
        "## Сохранение / загрузка сети"
      ]
    },
    {
      "cell_type": "code",
      "execution_count": null,
      "metadata": {
        "id": "l8Kk0u35sVtx"
      },
      "outputs": [],
      "source": [
        "torch.save(model, \"/tmp/model.pth\")\n",
        "torch.save(model.state_dict(), \"/tmp/model.pth\") # только параметры\n",
        "\n",
        "model = torch.load(\"/tmp/model.pth\")\n",
        "\n",
        "model = MLP()\n",
        "model.load_state_dict(torch.load(\"/tmp/model.pth\")) # только параметры\n",
        "model.to(device) # вот сейчас переносим\n",
        "model.eval()"
      ]
    },
    {
      "cell_type": "code",
      "execution_count": null,
      "metadata": {
        "id": "TcTsjMVpsVtx"
      },
      "outputs": [],
      "source": [
        "#создаем словать из того, что хотим сохранить\n",
        "\n",
        "state = {\n",
        "        'epoch': epoch + 1,\n",
        "        'state_dict': net.state_dict(),\n",
        "        'optimizer' : optimizer.state_dict()\n",
        "        }\n",
        "\n",
        "torch.save(state, './my_checkpoint.pth')\n",
        "\n",
        "# проверка\n",
        "os.path.isfile('./my_checkpoint.pth')\n",
        "\n",
        "checkpoint = torch.load('./my_checkpoint.pth')\n",
        "\n",
        "# загружаем\n",
        "net.load_state_dict(checkpoint['state_dict']) # тут нужен словарь, а не путь к файлу\n",
        "\n",
        "# аналогично с оптимизатором\n",
        "optimizer.load_state_dict(checkpoint['optimizer'])"
      ]
    },
    {
      "cell_type": "markdown",
      "metadata": {
        "id": "7da_SWBfsVty"
      },
      "source": [
        "## Чекпоинты"
      ]
    },
    {
      "cell_type": "code",
      "execution_count": null,
      "metadata": {
        "id": "dVE3nlHWsVty"
      },
      "outputs": [],
      "source": [
        "# сохранение\n",
        "torch.save({\n",
        "            'epoch': EPOCH,\n",
        "            'model_state_dict': net.state_dict(),\n",
        "            'optimizer_state_dict': optimizer.state_dict(),\n",
        "            'loss': LOSS,\n",
        "            }, PATH)\n",
        "\n",
        "# для нескольких моделей было бы так\n",
        "torch.save({\n",
        "            'modelA_state_dict': netA.state_dict(),\n",
        "            'modelB_state_dict': netB.state_dict(),\n",
        "            'optimizerA_state_dict': optimizerA.state_dict(),\n",
        "            'optimizerB_state_dict': optimizerB.state_dict(),\n",
        "            }, PATH)"
      ]
    },
    {
      "cell_type": "code",
      "execution_count": null,
      "metadata": {
        "id": "HxuuOeXJsVty"
      },
      "outputs": [],
      "source": [
        "# загрузка\n",
        "model = Net()\n",
        "optimizer = optim.SGD(net.parameters(), lr=0.001, momentum=0.9)\n",
        "\n",
        "checkpoint = torch.load(PATH)\n",
        "model.load_state_dict(checkpoint['model_state_dict'])\n",
        "optimizer.load_state_dict(checkpoint['optimizer_state_dict'])\n",
        "epoch = checkpoint['epoch']\n",
        "loss = checkpoint['loss']\n",
        "\n",
        "model.eval()"
      ]
    },
    {
      "cell_type": "markdown",
      "metadata": {
        "id": "Y-X1lUaIsVtz"
      },
      "source": [
        "## Популярные модули / функции nn\n",
        "\n",
        "### векторизация"
      ]
    },
    {
      "cell_type": "code",
      "execution_count": null,
      "metadata": {
        "id": "gSu-n8KPsVtz",
        "outputId": "795658b7-74ff-4239-bf91-7f9c7eb2fff9"
      },
      "outputs": [
        {
          "name": "stdout",
          "output_type": "stream",
          "text": [
            "tensor([[1, 2, 3],\n",
            "        [4, 5, 6]]) \n",
            " tensor([1, 2, 3, 4, 5, 6])\n"
          ]
        }
      ],
      "source": [
        "x = torch.tensor([[1,2,3], [4,5,6]])\n",
        "f = nn.Flatten(0) # если не указать начальную размерность, она=1 - заточено на batch\n",
        "x2 = f(x)\n",
        "print (x, '\\n', x2)"
      ]
    },
    {
      "cell_type": "code",
      "execution_count": null,
      "metadata": {
        "id": "Bh0nRPpgsVt0",
        "outputId": "436d6976-440d-4883-afcc-c549bfdae114"
      },
      "outputs": [
        {
          "name": "stdout",
          "output_type": "stream",
          "text": [
            "torch.Size([2, 3, 4, 5]) torch.Size([2, 60])\n"
          ]
        }
      ],
      "source": [
        "x = torch.rand(2, 3, 4, 5)\n",
        "f = nn.Flatten()\n",
        "x2 = f(x)\n",
        "print (x.shape, x2.shape)"
      ]
    },
    {
      "cell_type": "markdown",
      "metadata": {
        "id": "QA2b5cI8sVt0"
      },
      "source": [
        "### активация\n",
        "* torch.nn.ReLU\n",
        "* torch.nn.Softmax"
      ]
    },
    {
      "cell_type": "code",
      "execution_count": null,
      "metadata": {
        "id": "ErO35VylsVt0",
        "outputId": "5681bb6f-724d-44b7-8e3e-784de314f5df"
      },
      "outputs": [
        {
          "name": "stdout",
          "output_type": "stream",
          "text": [
            "tensor([[ 1., -2.,  3.],\n",
            "        [ 4., -5., -6.]]) \n",
            " tensor([[1.1850e-01, 5.8998e-03, 8.7560e-01],\n",
            "        [9.9983e-01, 1.2339e-04, 4.5392e-05]])\n"
          ]
        },
        {
          "name": "stderr",
          "output_type": "stream",
          "text": [
            "<ipython-input-23-895fefacc818>:3: UserWarning: Implicit dimension choice for softmax has been deprecated. Change the call to include dim=X as an argument.\n",
            "  x2 = f(x)\n"
          ]
        }
      ],
      "source": [
        "x = torch.tensor([[1,-2,3], [4,-5,-6]], dtype=torch.float) # без указания типа - ошибка (т.к. целочисленный тензор)\n",
        "f = nn.Softmax()\n",
        "x2 = f(x)\n",
        "print (x, '\\n', x2)"
      ]
    },
    {
      "cell_type": "code",
      "execution_count": null,
      "metadata": {
        "id": "LQ7wClGTsVt1"
      },
      "outputs": [],
      "source": [
        "# рекомендация для своей функции активации\n",
        "@torch.jit.script\n",
        "def fused_gelu(x):\n",
        "    return x * 0.5 * (1.0 + torch.erf(x / 1.41421))"
      ]
    },
    {
      "cell_type": "code",
      "execution_count": null,
      "metadata": {
        "id": "Kyq6b2EYsVt1",
        "outputId": "490701c4-9c57-4929-db06-98c267c323ba"
      },
      "outputs": [
        {
          "data": {
            "text/plain": [
              "(tensor([0.2689, 0.5000, 0.7311]), tensor([0.1966, 0.2500, 0.1966]))"
            ]
          },
          "execution_count": 7,
          "metadata": {},
          "output_type": "execute_result"
        }
      ],
      "source": [
        "# своя активация в виде модуля\n",
        "\n",
        "class ActivationFunction(nn.Module):\n",
        "\n",
        "    def __init__(self):\n",
        "        super().__init__()\n",
        "        self.name = self.__class__.__name__\n",
        "        self.config = {\"name\": self.name}\n",
        "\n",
        "class MySigmoid(ActivationFunction):\n",
        "\n",
        "    def forward(self, x):\n",
        "        return 1 / (1 + torch.exp(-x))\n",
        "\n",
        "class LeakyReLU(ActivationFunction):\n",
        "\n",
        "    def __init__(self, alpha=0.1):\n",
        "        super().__init__()\n",
        "        self.config[\"alpha\"] = alpha\n",
        "\n",
        "    def forward(self, x):\n",
        "        return torch.where(x > 0, x, self.config[\"alpha\"] * x)\n",
        "\n",
        "def get_grads(act_fn, x):\n",
        "    \"\"\"\n",
        "    Вычисляем производные\n",
        "    \"\"\"\n",
        "    x = x.clone().requires_grad_() # для этого тензора берём производные\n",
        "    out = act_fn(x)\n",
        "    out.sum().backward() # Summing results in an equal gradient flow to each element in x\n",
        "    return x.grad # градиент\n",
        "\n",
        "x = torch.tensor([-1., 0., 1.])\n",
        "f = MySigmoid()\n",
        "f(x), get_grads(f, x)"
      ]
    },
    {
      "cell_type": "markdown",
      "metadata": {
        "id": "LX_5jlOAsVt2"
      },
      "source": [
        "### Свёртки\n",
        "\n",
        "* torch.nn.Conv2d / torch.nn.Conv3d"
      ]
    },
    {
      "cell_type": "code",
      "execution_count": null,
      "metadata": {
        "id": "Cirv2zBVsVt3",
        "outputId": "1bdb85af-fca6-4041-98d8-161d98d9d6b9"
      },
      "outputs": [
        {
          "data": {
            "text/plain": [
              "torch.Size([100, 64, 24, 24])"
            ]
          },
          "execution_count": 24,
          "metadata": {},
          "output_type": "execute_result"
        }
      ],
      "source": [
        "# пример свёртки: изменение размеров\n",
        "conv_layer = nn.Conv2d(in_channels = 3, out_channels = 64, kernel_size = (3,3), stride = 1, padding=1)\n",
        "# bias=False - если следом идёт BN\n",
        "# torch.backends.cudnn.benchmark = True - обеспечивает поиск лучшего алгоритма свёртки (но м.б. он будет зависеть от запуска)\n",
        "x = torch.randn((100, 3, 24, 24))\n",
        "conv_layer(x).size()"
      ]
    },
    {
      "cell_type": "code",
      "execution_count": null,
      "metadata": {
        "id": "D_6DqmM7sVt4",
        "outputId": "418300a6-5510-44d7-988b-cf5f53bcd216"
      },
      "outputs": [
        {
          "data": {
            "text/plain": [
              "tensor([[[[ 6.0000,  7.0000],\n",
              "          [10.0000, 11.0000]]]], grad_fn=<ThnnConv2DBackward>)"
            ]
          },
          "execution_count": 25,
          "metadata": {},
          "output_type": "execute_result"
        }
      ],
      "source": [
        "# пример свёртки: усреднение элементов тензора\n",
        "\n",
        "H = torch.arange(1, 17).reshape(1, 1, 4, 4).float() # .type(torch.DoubleTensor)\n",
        "cnv = nn.Conv2d(in_channels=1, out_channels=1, kernel_size=3)\n",
        "# cnv.weight.data = cnv.weight.data*0 + (1.0/9.0)\n",
        "cnv.weight.data.fill_(1.0/9.0)\n",
        "# cnv.bias[0] = 0.0 # ЭТО УЖЕ НЕ РАБОТАЕТ\n",
        "cnv.bias.data.zero_() # лучше было сделать bias=False\n",
        "\n",
        "cnv(H)"
      ]
    },
    {
      "cell_type": "code",
      "execution_count": null,
      "metadata": {
        "id": "a8rTL4XZsVt5",
        "outputId": "92e49636-9a79-4599-9f45-7371092581c8"
      },
      "outputs": [
        {
          "data": {
            "text/plain": [
              "tensor([[[[-8., -8.],\n",
              "          [-8., -8.]]]], grad_fn=<ThnnConv2DBackward>)"
            ]
          },
          "execution_count": 7,
          "metadata": {},
          "output_type": "execute_result"
        }
      ],
      "source": [
        "# немного другое задание свёртки\n",
        "\n",
        "cnv.weight.data.copy_(\n",
        "    torch.FloatTensor([[1, 0, -1],\n",
        "                       [2, 0, -2],\n",
        "                       [1, 0, -1]]))\n",
        "# можно и как-то так: cnv.weight.data[1, 0].copy_\n",
        "cnv.bias.data.zero_()\n",
        "\n",
        "cnv(H)"
      ]
    },
    {
      "cell_type": "markdown",
      "metadata": {
        "id": "IHU1uNr9sVt7"
      },
      "source": [
        "### Пулинг\n",
        "\n",
        "* torch.nn.MaxPool1d / torch.nn.MaxPool2d / torch.nn.MaxPool3d\n",
        "* nn.AdaptiveMaxPool1d / nn.AdaptiveMaxPool2d / nn.AdaptiveMaxPool3d\n",
        "* nn.AdaptiveAvgPool1d / nn.AdaptiveAvgPool2d / nn.AdaptiveAvgPool3d\n",
        "* torch.nn.MaxUnpool1d / torch.nn.MaxUnpool2d / torch.nn.MaxUnpool3d\n",
        "* torch.nn.AvgPool2d\n",
        "\n",
        "\n",
        "пока нет\n",
        "\n",
        "* nn.FractionalMaxPool2d Applies a 2D fractional max pooling over an input signal composed of several input planes\n",
        "* nn.LPPool1d / nn.LPPool2d Applies a kD power-average pooling over an input signal composed of several input planes"
      ]
    },
    {
      "cell_type": "code",
      "execution_count": null,
      "metadata": {
        "id": "Shx0C77dsVt7",
        "outputId": "958ddf95-abb3-4a67-af22-65c698342e1b"
      },
      "outputs": [
        {
          "data": {
            "text/plain": [
              "torch.Size([1, 10, 10, 15])"
            ]
          },
          "execution_count": 10,
          "metadata": {},
          "output_type": "execute_result"
        }
      ],
      "source": [
        "# пулинг\n",
        "m = nn.AvgPool2d(kernel_size=2)\n",
        "input = torch.randn(1, 10, 20, 30)\n",
        "output = m(input)\n",
        "output.shape"
      ]
    },
    {
      "cell_type": "code",
      "execution_count": null,
      "metadata": {
        "id": "XR2Z6eRPsVt7",
        "outputId": "43b078cd-23cf-4c90-b406-8901d4823147"
      },
      "outputs": [
        {
          "data": {
            "text/plain": [
              "torch.Size([1, 10, 2, 3])"
            ]
          },
          "execution_count": 143,
          "metadata": {},
          "output_type": "execute_result"
        }
      ],
      "source": [
        "# Адаптивный пулинг - выход фиксированного размера\n",
        "m = nn.AdaptiveAvgPool2d((2, 3))\n",
        "input = torch.randn(1, 10, 20, 30)\n",
        "output = m(input)\n",
        "output.shape"
      ]
    },
    {
      "cell_type": "code",
      "execution_count": null,
      "metadata": {
        "id": "qdmBSquesVt7",
        "outputId": "245d36fe-336e-4227-cbce-53fb034d506f"
      },
      "outputs": [
        {
          "name": "stdout",
          "output_type": "stream",
          "text": [
            "tensor([[[ 1.,  2.,  3.,  4.],\n",
            "         [ 5.,  6.,  7.,  8.],\n",
            "         [ 9., 10., 11., 12.],\n",
            "         [13., 14., 15., 16.]]], dtype=torch.float64) \n",
            " tensor([[[ 6.,  8.],\n",
            "         [14., 16.]]], dtype=torch.float64) torch.Size([1, 2, 2])\n"
          ]
        },
        {
          "name": "stderr",
          "output_type": "stream",
          "text": [
            "C:\\ProgramData\\Anaconda3\\lib\\site-packages\\torch\\nn\\functional.py:718: UserWarning: Named tensors and all their associated APIs are an experimental feature and subject to change. Please do not use them for anything important until they are released as stable. (Triggered internally at  ..\\c10/core/TensorImpl.h:1156.)\n",
            "  return torch.max_pool2d(input, kernel_size, stride, padding, dilation, ceil_mode)\n"
          ]
        }
      ],
      "source": [
        "#макспулинг\n",
        "H = torch.arange(1, 17, dtype=float).reshape(1, 4, 4) # просит на вход Batch!\n",
        "max_pool = nn.MaxPool2d(kernel_size=2)\n",
        "H_maxpooled = max_pool(H)\n",
        "\n",
        "print(H, '\\n', H_maxpooled, H_maxpooled.shape)"
      ]
    },
    {
      "cell_type": "code",
      "execution_count": null,
      "metadata": {
        "id": "NkA1qOqjsVt7",
        "outputId": "05ae2480-e737-4de2-d542-95889424b527"
      },
      "outputs": [
        {
          "name": "stdout",
          "output_type": "stream",
          "text": [
            "tensor([[[ 1.,  2.,  3.,  4.],\n",
            "         [ 5.,  6.,  7.,  8.],\n",
            "         [ 9., 10., 11., 12.],\n",
            "         [13., 14., 15., 16.]]], dtype=torch.float64) \n",
            " tensor([[[ 1.,  2.,  3.,  4.,  4.],\n",
            "         [ 5.,  6.,  7.,  8.,  8.],\n",
            "         [ 9., 10., 11., 12., 12.],\n",
            "         [13., 14., 15., 16., 16.],\n",
            "         [13., 14., 15., 16., 16.]]], dtype=torch.float64) torch.Size([1, 5, 5])\n"
          ]
        }
      ],
      "source": [
        "# там много параметров\n",
        "\n",
        "max_pool = nn.MaxPool2d(kernel_size=2, stride=1, padding=1)\n",
        "H_maxpooled = max_pool(H)\n",
        "\n",
        "print(H, '\\n', H_maxpooled, H_maxpooled.shape)"
      ]
    },
    {
      "cell_type": "code",
      "execution_count": null,
      "metadata": {
        "id": "Ygy9J9n1sVt7",
        "outputId": "a5a1f0a9-2a52-425c-a6fb-67ebb643ce94"
      },
      "outputs": [
        {
          "name": "stdout",
          "output_type": "stream",
          "text": [
            "tensor([[[1., 2., 3., 4., 5., 6., 7., 8.]]], dtype=torch.float64) \n",
            " tensor([[[2., 4., 6., 8.]]], dtype=torch.float64) \n",
            " torch.Size([1, 1, 4])\n"
          ]
        }
      ],
      "source": [
        "#макспулинг-1D c индексами\n",
        "\n",
        "H = torch.arange(1, 9, dtype=float).reshape(1, 1, 8) # просит на вход Batch!\n",
        "max_pool = nn.MaxPool1d(kernel_size=2, return_indices=True)\n",
        "H_maxpooled, indices = max_pool(H)\n",
        "\n",
        "print(H, '\\n', H_maxpooled, '\\n', H_maxpooled.shape)"
      ]
    },
    {
      "cell_type": "code",
      "execution_count": null,
      "metadata": {
        "id": "uxGc_5u6sVt8",
        "outputId": "c50e739c-f375-44d6-f7a0-423c39312fda"
      },
      "outputs": [
        {
          "data": {
            "text/plain": [
              "tensor([[[0., 2., 0., 4., 0., 6., 0., 8.]]], dtype=torch.float64)"
            ]
          },
          "execution_count": 32,
          "metadata": {},
          "output_type": "execute_result"
        }
      ],
      "source": [
        "# \"обратный\" макспулинг-1D (нужны индексы)\n",
        "max_unpool = nn.MaxUnpool1d(kernel_size=2)\n",
        "max_unpool(H_maxpooled, indices)"
      ]
    },
    {
      "cell_type": "markdown",
      "metadata": {
        "id": "QoqQ5-bpsVt8"
      },
      "source": [
        "### Стандартный свёрточный слой"
      ]
    },
    {
      "cell_type": "code",
      "execution_count": null,
      "metadata": {
        "id": "JAM6DDcssVt8",
        "outputId": "fae544e8-d3f0-466e-ff40-1838eba4337a"
      },
      "outputs": [
        {
          "data": {
            "text/plain": [
              "torch.Size([1, 7, 9, 14])"
            ]
          },
          "execution_count": 40,
          "metadata": {},
          "output_type": "execute_result"
        }
      ],
      "source": [
        "input = torch.randn(1, 10, 20, 30)\n",
        "layer = nn.Sequential(nn.Conv2d(in_channels=10, out_channels=7, kernel_size=3),\n",
        "                      nn.BatchNorm2d(7),\n",
        "                      nn.AvgPool2d(kernel_size=2),\n",
        "                      nn.ReLU())\n",
        "layer(input).shape"
      ]
    },
    {
      "cell_type": "markdown",
      "metadata": {
        "id": "G1UjBN-JsVt8"
      },
      "source": [
        "### Падинг\n",
        "* torch.nn.ReplicationPad2d\n",
        "* torch.nn.ReflectionPad2d\n",
        "* torch.nn.ZeroPad2d\n",
        "* torch.nn.ConstantPad2d"
      ]
    },
    {
      "cell_type": "code",
      "execution_count": null,
      "metadata": {
        "id": "WHVY8Sc4sVt9",
        "outputId": "d0ff829f-86d1-4a1b-86d9-b851c1e7db20"
      },
      "outputs": [
        {
          "name": "stdout",
          "output_type": "stream",
          "text": [
            "tensor([[[ 1.,  2.,  3.,  4.],\n",
            "         [ 5.,  6.,  7.,  8.],\n",
            "         [ 9., 10., 11., 12.],\n",
            "         [13., 14., 15., 16.]]]) \n",
            " tensor([[[ 1.,  1.,  1.,  1.,  2.,  3.,  4.,  4.,  4.,  4.],\n",
            "         [ 5.,  5.,  5.,  5.,  6.,  7.,  8.,  8.,  8.,  8.],\n",
            "         [ 9.,  9.,  9.,  9., 10., 11., 12., 12., 12., 12.],\n",
            "         [13., 13., 13., 13., 14., 15., 16., 16., 16., 16.]]]) torch.Size([1, 4, 4])\n"
          ]
        }
      ],
      "source": [
        "# Padding\n",
        "H = torch.arange(1, 17).reshape(4, 4).float().unsqueeze(axis=0) # 3D\n",
        "\n",
        "pd = nn.ReplicationPad2d((3, 3))\n",
        "print(H, '\\n', pd(H), H.shape)"
      ]
    },
    {
      "cell_type": "code",
      "execution_count": null,
      "metadata": {
        "id": "6_0ERj8TsVt9",
        "outputId": "5e330a9e-d061-4951-e193-d2f967641982"
      },
      "outputs": [
        {
          "name": "stdout",
          "output_type": "stream",
          "text": [
            "tensor([[[[ 1.,  2.,  3.,  4.],\n",
            "          [ 5.,  6.,  7.,  8.],\n",
            "          [ 9., 10., 11., 12.],\n",
            "          [13., 14., 15., 16.]]]]) \n",
            " tensor([[[[ 0.,  0.,  0.,  0.,  0.,  0.],\n",
            "          [ 0.,  0.,  0.,  0.,  0.,  0.],\n",
            "          [ 0.,  1.,  2.,  3.,  4.,  0.],\n",
            "          [ 0.,  5.,  6.,  7.,  8.,  0.],\n",
            "          [ 0.,  9., 10., 11., 12.,  0.],\n",
            "          [ 0., 13., 14., 15., 16.,  0.]]]]) torch.Size([1, 1, 4, 4])\n"
          ]
        }
      ],
      "source": [
        "# Padding\n",
        "H = torch.arange(1, 17).reshape(4, 4).float().unsqueeze(axis=0).unsqueeze(axis=0) # 4D\n",
        "\n",
        "pd = nn.ZeroPad2d((1, 1, 2, 0))\n",
        "print(H, '\\n', pd(H), H.shape)"
      ]
    },
    {
      "cell_type": "markdown",
      "metadata": {
        "id": "VxG1jQ_VsVt9"
      },
      "source": [
        "### Обратные свёртки\n",
        "\n",
        "* torch.nn.ConvTranspose1d / torch.nn.ConvTranspose2d / torch.nn.ConvTranspose3d"
      ]
    },
    {
      "cell_type": "code",
      "execution_count": null,
      "metadata": {
        "id": "-s5WRqR7sVt-",
        "outputId": "d6eccec1-f01b-4394-9de9-cb3441c2496a"
      },
      "outputs": [
        {
          "name": "stdout",
          "output_type": "stream",
          "text": [
            "torch.Size([1, 10, 20, 30])\n",
            "torch.Size([1, 20, 19, 29])\n",
            "torch.Size([1, 10, 20, 30])\n"
          ]
        }
      ],
      "source": [
        "# обратная свёртка\n",
        "H = torch.randn(1, 10, 20, 30)\n",
        "cnv = nn.Conv2d(in_channels=10, out_channels=20, kernel_size=2)\n",
        "ct = nn.ConvTranspose2d(in_channels=20, out_channels=10, kernel_size=2) #, stride=2, padding=2)\n",
        "print (H.shape)\n",
        "print (cnv(H).shape)\n",
        "print (ct(cnv(H)).shape)"
      ]
    },
    {
      "cell_type": "code",
      "execution_count": null,
      "metadata": {
        "id": "PFsH0JBHsVt-",
        "outputId": "719b7c2c-5453-442f-e5d5-bb1ae1f08b0c"
      },
      "outputs": [
        {
          "name": "stdout",
          "output_type": "stream",
          "text": [
            "torch.Size([4, 10, 1, 1])  ->  torch.Size([4, 8, 4, 4])\n"
          ]
        }
      ],
      "source": [
        "# ещё пример обратной свёртки\n",
        "f = nn.ConvTranspose2d( 10, 8, 4, 1, 0, bias=False)\n",
        "x = torch.rand(4, 10, 1, 1)\n",
        "print (x.shape, ' -> ', f(x).shape)"
      ]
    },
    {
      "cell_type": "code",
      "execution_count": null,
      "metadata": {
        "id": "BKLHpUOasVt-",
        "outputId": "ec86f014-e4c4-4a5e-eecb-1cfbf08b3f14"
      },
      "outputs": [
        {
          "name": "stdout",
          "output_type": "stream",
          "text": [
            "tensor([[[[ 1.,  2.,  3.,  4.],\n",
            "          [ 5.,  6.,  7.,  8.],\n",
            "          [ 9., 10., 11., 12.],\n",
            "          [13., 14., 15., 16.]]]])\n",
            "tensor([[[[ 1.,  3.,  5.,  7.,  4.],\n",
            "          [ 6., 14., 18., 22., 12.],\n",
            "          [14., 30., 34., 38., 20.],\n",
            "          [22., 46., 50., 54., 28.],\n",
            "          [13., 27., 29., 31., 16.]]]], grad_fn=<SlowConvTranspose2DBackward>) torch.Size([1, 1, 5, 5])\n"
          ]
        }
      ],
      "source": [
        "H = torch.arange(1, 17).float().view(1, 1, 4, 4)\n",
        "print (H)\n",
        "f = nn.ConvTranspose2d(in_channels=1, out_channels=1, kernel_size=2, bias=False)\n",
        "f.weight.data.fill_(1.)\n",
        "H2 = f(H)\n",
        "print (H2, H2.shape)"
      ]
    },
    {
      "cell_type": "markdown",
      "metadata": {
        "id": "UW_GFP5PsVuA"
      },
      "source": [
        "### Upsample\n",
        "\n",
        "* nn.Upsample (есть параметры, поэтому универсальная)\n",
        "* nn.UpsamplingNearest2d\n",
        "* nn.UpsamplingBilinear2d\n",
        "* nn.PixelShuffle"
      ]
    },
    {
      "cell_type": "code",
      "execution_count": null,
      "metadata": {
        "id": "zhK_JBW1sVuA",
        "outputId": "bc8ffdc4-594c-454f-9092-3ed9cf6c0bbc"
      },
      "outputs": [
        {
          "name": "stdout",
          "output_type": "stream",
          "text": [
            "tensor([[[[1., 2., 3.],\n",
            "          [4., 5., 6.]]]]) \n",
            " tensor([[[[1., 1., 2., 2., 3., 3.],\n",
            "          [1., 1., 2., 2., 3., 3.],\n",
            "          [4., 4., 5., 5., 6., 6.],\n",
            "          [4., 4., 5., 5., 6., 6.]]]])\n"
          ]
        }
      ],
      "source": [
        "# Upsample\n",
        "\n",
        "H = torch.arange(1, 7).reshape(1, 1, 2, 3).float()\n",
        "\n",
        "up = nn.Upsample(scale_factor=2, mode='nearest')\n",
        "print (H, '\\n', up(H))"
      ]
    },
    {
      "cell_type": "code",
      "execution_count": null,
      "metadata": {
        "id": "WKUxer8IsVuB",
        "outputId": "e958e107-0196-446a-b1e9-108516a0d3bf"
      },
      "outputs": [
        {
          "name": "stdout",
          "output_type": "stream",
          "text": [
            "tensor([[[[1., 2., 3.],\n",
            "          [4., 5., 6.]]]]) \n",
            " tensor([[[[1., 1., 2., 2., 3., 3.],\n",
            "          [1., 1., 2., 2., 3., 3.],\n",
            "          [4., 4., 5., 5., 6., 6.],\n",
            "          [4., 4., 5., 5., 6., 6.]]]])\n"
          ]
        }
      ],
      "source": [
        "# UpsamplingNearest2d\n",
        "\n",
        "H = torch.arange(1, 7).reshape(1, 1, 2, 3).float()\n",
        "\n",
        "up = nn.UpsamplingNearest2d(scale_factor=2)\n",
        "print (H, '\\n', up(H))"
      ]
    },
    {
      "cell_type": "code",
      "execution_count": null,
      "metadata": {
        "id": "JILLBUpVsVuB",
        "outputId": "1fa64bea-4ab0-4317-f662-8b706572ef88"
      },
      "outputs": [
        {
          "name": "stdout",
          "output_type": "stream",
          "text": [
            "tensor([[[[1., 2., 3.],\n",
            "          [4., 5., 6.]]]]) \n",
            " tensor([[[[1.0000, 1.4000, 1.8000, 2.2000, 2.6000, 3.0000],\n",
            "          [2.0000, 2.4000, 2.8000, 3.2000, 3.6000, 4.0000],\n",
            "          [3.0000, 3.4000, 3.8000, 4.2000, 4.6000, 5.0000],\n",
            "          [4.0000, 4.4000, 4.8000, 5.2000, 5.6000, 6.0000]]]])\n"
          ]
        }
      ],
      "source": [
        "# UpsamplingNearest2d\n",
        "\n",
        "H = torch.arange(1, 7).reshape(1, 1, 2, 3).float()\n",
        "\n",
        "up = nn.UpsamplingBilinear2d(scale_factor=2)\n",
        "print (H, '\\n', up(H))"
      ]
    },
    {
      "cell_type": "code",
      "execution_count": null,
      "metadata": {
        "id": "FSIP81MisVuB",
        "outputId": "2f77e634-b20b-4f58-931b-8729b2f34611"
      },
      "outputs": [
        {
          "name": "stdout",
          "output_type": "stream",
          "text": [
            "torch.Size([1, 12, 20, 30]) torch.Size([1, 3, 40, 60])\n"
          ]
        }
      ],
      "source": [
        "# перестановка пикселей\n",
        "input = torch.randn(1, 3*2*2, 20, 30) # (1, 3, 20*2, 30*2)\n",
        "ps = nn.PixelShuffle(2)\n",
        "print (input.shape, ps(input).shape)"
      ]
    },
    {
      "cell_type": "markdown",
      "metadata": {
        "id": "LGA-TJiVsVuB"
      },
      "source": [
        "### Dropout\n",
        "\n",
        "* Dropout - зануление элементов\n",
        "* nn.Dropout2d / nn.Dropout3d - зануление каналов\n",
        "* nn.AlphaDropout - alpha dropout\n"
      ]
    },
    {
      "cell_type": "code",
      "execution_count": null,
      "metadata": {
        "id": "qRpxZknDsVuC",
        "outputId": "b3cdff7f-5474-4c2f-e506-2beb5de1cba3"
      },
      "outputs": [
        {
          "name": "stdout",
          "output_type": "stream",
          "text": [
            "tensor([[ 1.,  2.,  3.,  4.],\n",
            "        [ 5.,  6.,  7.,  8.],\n",
            "        [ 9., 10., 11., 12.],\n",
            "        [13., 14., 15., 16.]]) \n",
            " tensor([[ 0.,  0.,  6.,  0.],\n",
            "        [ 0.,  0., 14.,  0.],\n",
            "        [ 0., 20.,  0.,  0.],\n",
            "        [26.,  0., 30., 32.]])\n"
          ]
        }
      ],
      "source": [
        "# Dropout - обратите внимание, что меняется выход... т.к. умножается с учётом вероятности\n",
        "from torch import nn\n",
        "# Dropout\n",
        "H = torch.arange(1, 17).reshape(4, 4).float()\n",
        "\n",
        "drop = nn.Dropout(p=0.5)\n",
        "\n",
        "print(H, '\\n', drop(H))"
      ]
    },
    {
      "cell_type": "code",
      "execution_count": null,
      "metadata": {
        "id": "6VbvOaRZsVuC",
        "outputId": "cd0c822c-eb6b-41ba-a1d5-6ebeb1514ac8"
      },
      "outputs": [
        {
          "name": "stdout",
          "output_type": "stream",
          "text": [
            "tensor([[[[ 1.,  2.],\n",
            "          [ 3.,  4.]],\n",
            "\n",
            "         [[ 5.,  6.],\n",
            "          [ 7.,  8.]],\n",
            "\n",
            "         [[ 9., 10.],\n",
            "          [11., 12.]],\n",
            "\n",
            "         [[13., 14.],\n",
            "          [15., 16.]]]]) \n",
            " tensor([[[[ 0.,  0.],\n",
            "          [ 0.,  0.]],\n",
            "\n",
            "         [[ 0.,  0.],\n",
            "          [ 0.,  0.]],\n",
            "\n",
            "         [[ 0.,  0.],\n",
            "          [ 0.,  0.]],\n",
            "\n",
            "         [[26., 28.],\n",
            "          [30., 32.]]]])\n"
          ]
        }
      ],
      "source": [
        "from torch import nn\n",
        "# Dropout 2D - зануление каналов\n",
        "H = torch.arange(1, 17).reshape(1, 4, 2, 2).float()\n",
        "\n",
        "drop = nn.Dropout2d(p=0.5)\n",
        "\n",
        "print(H, '\\n', drop(H))\n",
        "# print (H.shape, drop(H).shape)"
      ]
    },
    {
      "cell_type": "markdown",
      "metadata": {
        "id": "-H4I0zI3sVuC"
      },
      "source": [
        "### Нормализация\n",
        "\n",
        "* nn.BatchNorm1d - для 2D и 3D входного тензора, т.е. данные - 1D-сигнал или 1D-сигнал с каналами\n",
        "* nn.BatchNorm2d - 4D (2D + канал)\n",
        "* nn.BatchNorm3d - 5D (3D + канал)\n",
        "* nn.GroupNorm\n",
        "* nn.SyncBatchNorm - BN на nD\n",
        "* nn.InstanceNorm1d / nn.InstanceNorm2d / nn.InstanceNorm3d\n",
        "* nn.LayerNorm\n",
        "* nn.LocalResponseNorm"
      ]
    },
    {
      "cell_type": "code",
      "execution_count": null,
      "metadata": {
        "id": "KQOXvaFIsVuD",
        "outputId": "a5a8fe9f-bdc6-4f89-b67e-74361b5e97ee"
      },
      "outputs": [
        {
          "name": "stdout",
          "output_type": "stream",
          "text": [
            "tensor([[ 1.,  2.,  3.,  4.],\n",
            "        [ 5.,  6.,  7.,  8.],\n",
            "        [ 9., 10., 11., 12.],\n",
            "        [13., 14., 15., 16.]]) \n",
            " tensor([[-1.3416, -1.3416, -1.3416, -1.3416],\n",
            "        [-0.4472, -0.4472, -0.4472, -0.4472],\n",
            "        [ 0.4472,  0.4472,  0.4472,  0.4472],\n",
            "        [ 1.3416,  1.3416,  1.3416,  1.3416]])\n"
          ]
        }
      ],
      "source": [
        "# BatchNorm1d\n",
        "H = torch.arange(1, 17).reshape(4, 4).float()\n",
        "\n",
        "bn = nn.BatchNorm1d(4, affine=False)\n",
        "print(H, '\\n', bn(H))"
      ]
    },
    {
      "cell_type": "markdown",
      "metadata": {
        "id": "IUj9czoysVuD"
      },
      "source": [
        "# ??? Fold / Unfold\n",
        "\n",
        "Combines an array of sliding local blocks into a large\n",
        "containing tensor\n",
        "\n",
        "Extracts sliding local blocks from a batched-input\n",
        "tensor\n",
        "\n",
        "см. https://stackoverflow.com/questions/53972159/how-does-pytorchs-fold-and-unfold-work"
      ]
    },
    {
      "cell_type": "code",
      "execution_count": 23,
      "metadata": {
        "id": "xNVNdIA3sVuD",
        "outputId": "61820e67-1db6-4a86-9235-ffb4755cdaa2",
        "colab": {
          "base_uri": "https://localhost:8080/",
          "height": 478
        }
      },
      "outputs": [
        {
          "output_type": "stream",
          "name": "stdout",
          "text": [
            "tensor([[[ 1.,  2.,  3.,  4.]],\n",
            "\n",
            "        [[ 5.,  6.,  7.,  8.]],\n",
            "\n",
            "        [[ 9., 10., 11., 12.]],\n",
            "\n",
            "        [[13., 14., 15., 16.]]])\n"
          ]
        },
        {
          "output_type": "error",
          "ename": "RuntimeError",
          "evalue": "ignored",
          "traceback": [
            "\u001b[0;31m---------------------------------------------------------------------------\u001b[0m",
            "\u001b[0;31mRuntimeError\u001b[0m                              Traceback (most recent call last)",
            "\u001b[0;32m<ipython-input-23-58672726d2d4>\u001b[0m in \u001b[0;36m<cell line: 4>\u001b[0;34m()\u001b[0m\n\u001b[1;32m      2\u001b[0m \u001b[0mprint\u001b[0m \u001b[0;34m(\u001b[0m\u001b[0mH\u001b[0m\u001b[0;34m)\u001b[0m\u001b[0;34m\u001b[0m\u001b[0;34m\u001b[0m\u001b[0m\n\u001b[1;32m      3\u001b[0m \u001b[0mmodel\u001b[0m \u001b[0;34m=\u001b[0m \u001b[0mnn\u001b[0m\u001b[0;34m.\u001b[0m\u001b[0mUnfold\u001b[0m\u001b[0;34m(\u001b[0m\u001b[0mkernel_size\u001b[0m\u001b[0;34m=\u001b[0m\u001b[0;36m2\u001b[0m\u001b[0;34m)\u001b[0m\u001b[0;34m\u001b[0m\u001b[0;34m\u001b[0m\u001b[0m\n\u001b[0;32m----> 4\u001b[0;31m \u001b[0mmodel\u001b[0m\u001b[0;34m(\u001b[0m\u001b[0mH\u001b[0m\u001b[0;34m)\u001b[0m\u001b[0;34m\u001b[0m\u001b[0;34m\u001b[0m\u001b[0m\n\u001b[0m",
            "\u001b[0;32m/usr/local/lib/python3.10/dist-packages/torch/nn/modules/module.py\u001b[0m in \u001b[0;36m_call_impl\u001b[0;34m(self, *args, **kwargs)\u001b[0m\n\u001b[1;32m   1499\u001b[0m                 \u001b[0;32mor\u001b[0m \u001b[0m_global_backward_pre_hooks\u001b[0m \u001b[0;32mor\u001b[0m \u001b[0m_global_backward_hooks\u001b[0m\u001b[0;34m\u001b[0m\u001b[0;34m\u001b[0m\u001b[0m\n\u001b[1;32m   1500\u001b[0m                 or _global_forward_hooks or _global_forward_pre_hooks):\n\u001b[0;32m-> 1501\u001b[0;31m             \u001b[0;32mreturn\u001b[0m \u001b[0mforward_call\u001b[0m\u001b[0;34m(\u001b[0m\u001b[0;34m*\u001b[0m\u001b[0margs\u001b[0m\u001b[0;34m,\u001b[0m \u001b[0;34m**\u001b[0m\u001b[0mkwargs\u001b[0m\u001b[0;34m)\u001b[0m\u001b[0;34m\u001b[0m\u001b[0;34m\u001b[0m\u001b[0m\n\u001b[0m\u001b[1;32m   1502\u001b[0m         \u001b[0;31m# Do not call functions when jit is used\u001b[0m\u001b[0;34m\u001b[0m\u001b[0;34m\u001b[0m\u001b[0m\n\u001b[1;32m   1503\u001b[0m         \u001b[0mfull_backward_hooks\u001b[0m\u001b[0;34m,\u001b[0m \u001b[0mnon_full_backward_hooks\u001b[0m \u001b[0;34m=\u001b[0m \u001b[0;34m[\u001b[0m\u001b[0;34m]\u001b[0m\u001b[0;34m,\u001b[0m \u001b[0;34m[\u001b[0m\u001b[0;34m]\u001b[0m\u001b[0;34m\u001b[0m\u001b[0;34m\u001b[0m\u001b[0m\n",
            "\u001b[0;32m/usr/local/lib/python3.10/dist-packages/torch/nn/modules/fold.py\u001b[0m in \u001b[0;36mforward\u001b[0;34m(self, input)\u001b[0m\n\u001b[1;32m    296\u001b[0m \u001b[0;34m\u001b[0m\u001b[0m\n\u001b[1;32m    297\u001b[0m     \u001b[0;32mdef\u001b[0m \u001b[0mforward\u001b[0m\u001b[0;34m(\u001b[0m\u001b[0mself\u001b[0m\u001b[0;34m,\u001b[0m \u001b[0minput\u001b[0m\u001b[0;34m:\u001b[0m \u001b[0mTensor\u001b[0m\u001b[0;34m)\u001b[0m \u001b[0;34m->\u001b[0m \u001b[0mTensor\u001b[0m\u001b[0;34m:\u001b[0m\u001b[0;34m\u001b[0m\u001b[0;34m\u001b[0m\u001b[0m\n\u001b[0;32m--> 298\u001b[0;31m         return F.unfold(input, self.kernel_size, self.dilation,\n\u001b[0m\u001b[1;32m    299\u001b[0m                         self.padding, self.stride)\n\u001b[1;32m    300\u001b[0m \u001b[0;34m\u001b[0m\u001b[0m\n",
            "\u001b[0;32m/usr/local/lib/python3.10/dist-packages/torch/nn/functional.py\u001b[0m in \u001b[0;36munfold\u001b[0;34m(input, kernel_size, dilation, padding, stride)\u001b[0m\n\u001b[1;32m   4695\u001b[0m             \u001b[0munfold\u001b[0m\u001b[0;34m,\u001b[0m \u001b[0;34m(\u001b[0m\u001b[0minput\u001b[0m\u001b[0;34m,\u001b[0m\u001b[0;34m)\u001b[0m\u001b[0;34m,\u001b[0m \u001b[0minput\u001b[0m\u001b[0;34m,\u001b[0m \u001b[0mkernel_size\u001b[0m\u001b[0;34m,\u001b[0m \u001b[0mdilation\u001b[0m\u001b[0;34m=\u001b[0m\u001b[0mdilation\u001b[0m\u001b[0;34m,\u001b[0m \u001b[0mpadding\u001b[0m\u001b[0;34m=\u001b[0m\u001b[0mpadding\u001b[0m\u001b[0;34m,\u001b[0m \u001b[0mstride\u001b[0m\u001b[0;34m=\u001b[0m\u001b[0mstride\u001b[0m\u001b[0;34m\u001b[0m\u001b[0;34m\u001b[0m\u001b[0m\n\u001b[1;32m   4696\u001b[0m         )\n\u001b[0;32m-> 4697\u001b[0;31m     \u001b[0;32mreturn\u001b[0m \u001b[0mtorch\u001b[0m\u001b[0;34m.\u001b[0m\u001b[0m_C\u001b[0m\u001b[0;34m.\u001b[0m\u001b[0m_nn\u001b[0m\u001b[0;34m.\u001b[0m\u001b[0mim2col\u001b[0m\u001b[0;34m(\u001b[0m\u001b[0minput\u001b[0m\u001b[0;34m,\u001b[0m \u001b[0m_pair\u001b[0m\u001b[0;34m(\u001b[0m\u001b[0mkernel_size\u001b[0m\u001b[0;34m)\u001b[0m\u001b[0;34m,\u001b[0m \u001b[0m_pair\u001b[0m\u001b[0;34m(\u001b[0m\u001b[0mdilation\u001b[0m\u001b[0;34m)\u001b[0m\u001b[0;34m,\u001b[0m \u001b[0m_pair\u001b[0m\u001b[0;34m(\u001b[0m\u001b[0mpadding\u001b[0m\u001b[0;34m)\u001b[0m\u001b[0;34m,\u001b[0m \u001b[0m_pair\u001b[0m\u001b[0;34m(\u001b[0m\u001b[0mstride\u001b[0m\u001b[0;34m)\u001b[0m\u001b[0;34m)\u001b[0m\u001b[0;34m\u001b[0m\u001b[0;34m\u001b[0m\u001b[0m\n\u001b[0m\u001b[1;32m   4698\u001b[0m \u001b[0;34m\u001b[0m\u001b[0m\n\u001b[1;32m   4699\u001b[0m \u001b[0;34m\u001b[0m\u001b[0m\n",
            "\u001b[0;31mRuntimeError\u001b[0m: Given input with spatial size (1, 1), kernel_size=(2, 2), dilation=(1, 1), padding=(0, 0), calculated shape of the array of sliding blocks as (0, 3), but its components must be at least one."
          ]
        }
      ],
      "source": [
        "H = torch.arange(1, 17).float().view(4, 1, 4)\n",
        "print (H)\n",
        "model = nn.Unfold(kernel_size=2)\n",
        "model(H)"
      ]
    },
    {
      "cell_type": "code",
      "execution_count": null,
      "metadata": {
        "id": "Wb31wKzksVuD"
      },
      "outputs": [],
      "source": []
    },
    {
      "cell_type": "markdown",
      "metadata": {
        "id": "OHg_rz7xsVuE"
      },
      "source": [
        "## Хаки"
      ]
    },
    {
      "cell_type": "code",
      "execution_count": null,
      "metadata": {
        "id": "i29hgUT0sVuE"
      },
      "outputs": [],
      "source": [
        "#делаем из картинки батч размера 1\n",
        "img_b1 = img.view((1, 1, 32, 32))"
      ]
    },
    {
      "cell_type": "code",
      "execution_count": null,
      "metadata": {
        "id": "4myktbEysVuE"
      },
      "outputs": [],
      "source": [
        "# доступ к темпу обучения\n",
        "optimizer.param_groups[0]['lr']\n",
        "\n",
        "\n",
        "# изменение LR вручную\n",
        "for g in optim.param_groups:\n",
        "    g['lr'] = 0.001"
      ]
    },
    {
      "cell_type": "code",
      "execution_count": null,
      "metadata": {
        "id": "Q9Qgz5sxsVuE"
      },
      "outputs": [],
      "source": [
        "# клиппирование градиента\n",
        "torch.nn.utils.clip_grad_norm_(model.parameters(), 0.25) # Начиная с некоторой версии с чертой\n",
        "\n",
        "# там используем норму, а здесь (модуль) каждого элемента в векторе градиента\n",
        "torch.nn.utils.clip_grad_value_(model.parameters(), 0.25)\n",
        "\n",
        "# старый ручной способ - через backward hook\n",
        "for p in model.parameters():\n",
        "    p.register_hook(lambda grad: torch.clamp(grad, -clip_value, clip_value))"
      ]
    },
    {
      "cell_type": "code",
      "execution_count": null,
      "metadata": {
        "id": "sV05P2HHsVuF"
      },
      "outputs": [],
      "source": [
        "# так вычисляют \"вручную\" точность\n",
        "correct += (pred.argmax(1) == y).type(torch.float).sum().item()"
      ]
    },
    {
      "cell_type": "code",
      "execution_count": null,
      "metadata": {
        "id": "QxRXYWd-sVuF"
      },
      "outputs": [],
      "source": [
        "# для скорости лучше не использовать операции, которые требуют синхронизацию GPU/CPU\n",
        "print(cuda_tensor)\n",
        "cuda_tensor.item()\n",
        "tensor.cuda()\n",
        "cuda_tensor.cpu()\n",
        "tensor.to(device)\n",
        "cuda_tensor.nonzero()\n",
        "if (cuda_tensor != 0).all()\n",
        "\n",
        "# и сразу генерировать, где надо\n",
        "torch.rand(size, device=torch.device('cuda'))"
      ]
    },
    {
      "cell_type": "code",
      "execution_count": null,
      "metadata": {
        "id": "1ikoGu2AsVuF"
      },
      "outputs": [],
      "source": [
        "# слой Reshape (в данном случае вектор в картинку)\n",
        "class Reshape(torch.nn.Module):\n",
        "    def forward(self, x):\n",
        "        return x.view(-1, 1, 28, 28)"
      ]
    },
    {
      "cell_type": "markdown",
      "metadata": {
        "id": "pvAq0iOcsVuG"
      },
      "source": [
        "# Loss-функции"
      ]
    },
    {
      "cell_type": "code",
      "execution_count": null,
      "metadata": {
        "id": "A8b1FUtfsVuG",
        "outputId": "8b7f52f1-7c8f-4be7-c2b8-3ee759aefd84"
      },
      "outputs": [
        {
          "name": "stdout",
          "output_type": "stream",
          "text": [
            "tensor([[1., 2., 3.]]) tensor([1]) tensor(1.4076)\n"
          ]
        }
      ],
      "source": [
        "# [S] CrossEntropyLoss = Softmax + CrossEntropy\n",
        "# тот же эффект - logSoftmax + NLLLoss\n",
        "loss = nn.CrossEntropyLoss()\n",
        "a = torch.tensor([[1.0, 2.0, 3.0]])\n",
        "y = torch.tensor([1])\n",
        "\n",
        "print (a, y, loss(a, y))"
      ]
    },
    {
      "cell_type": "code",
      "execution_count": null,
      "metadata": {
        "id": "rnxEJvwUsVuG",
        "outputId": "fc280778-fe7c-4fbb-fd32-04af922c6571"
      },
      "outputs": [
        {
          "data": {
            "text/plain": [
              "tensor(1.4076)"
            ]
          },
          "execution_count": 36,
          "metadata": {},
          "output_type": "execute_result"
        }
      ],
      "source": [
        "import torch.nn.functional as F\n",
        "F.nll_loss(F.log_softmax(a, dim=1), y)"
      ]
    },
    {
      "cell_type": "code",
      "execution_count": null,
      "metadata": {
        "id": "5DYM_ezVsVuH"
      },
      "outputs": [],
      "source": [
        "# 341 is the class index corresponding to \"hog\"\n",
        "print(nn.CrossEntropyLoss()(model(norm(pig_tensor)),torch.LongTensor([341])).item())"
      ]
    },
    {
      "cell_type": "code",
      "execution_count": 4,
      "metadata": {
        "id": "_oSNdK4JsVuH",
        "colab": {
          "base_uri": "https://localhost:8080/"
        },
        "outputId": "bfa5ce0f-771b-4fce-ab7b-019bde1943cd"
      },
      "outputs": [
        {
          "output_type": "stream",
          "name": "stdout",
          "text": [
            "tensor([[0.1192, 0.1192],\n",
            "        [0.8808, 0.8808]])\n",
            "tensor([[0.2689, 0.7311],\n",
            "        [0.2689, 0.7311]])\n"
          ]
        }
      ],
      "source": [
        "# У softmax могут быть разные направления.\n",
        "import torch\n",
        "\n",
        "x = torch.tensor([[1,2],[3,4]], dtype=torch.float)\n",
        "\n",
        "print (torch.nn.functional.softmax(x, dim=0))\n",
        "print (torch.nn.functional.softmax(x, dim=1))\n",
        "# print (torch.nn.functional.softmax(x))"
      ]
    },
    {
      "cell_type": "code",
      "source": [
        "# про таргет (его размер и тип)\n",
        "# не забывать изменить размер (k) -> (k, 1)\n",
        "\n",
        "target = target.unsqueeze(1)\n",
        "target = target.float() # иногда\n",
        "\n",
        "# и не забывать, какая модификация встроена в функцию ошибки"
      ],
      "metadata": {
        "id": "eUiZjpKs5zdl"
      },
      "execution_count": 9,
      "outputs": []
    },
    {
      "cell_type": "markdown",
      "metadata": {
        "id": "ud0lqrT4sVuH"
      },
      "source": [
        "## Своя Loss-функция"
      ]
    },
    {
      "cell_type": "code",
      "execution_count": null,
      "metadata": {
        "id": "9XHJwN_4sVuH"
      },
      "outputs": [],
      "source": [
        "class CustomNLLLoss(nn.Module):\n",
        "    def __init__(self):\n",
        "        super().__init__()\n",
        "    def forward(self, x, y):\n",
        "        # x should be output from LogSoftmax Layer\n",
        "        log_prob = -1.0 * x\n",
        "        # Get log_prob based on y class_index as loss=-mean(ylogp)\n",
        "        loss = log_prob.gather(1, y.unsqueeze(1))\n",
        "        loss = loss.mean()\n",
        "        return loss\n",
        "\n",
        "criterion = CustomNLLLoss() # nn.NLLLoss()\n",
        "CustomNLLLossClass = criterion(preds,y)"
      ]
    },
    {
      "cell_type": "code",
      "execution_count": null,
      "metadata": {
        "id": "b0iDb5PlsVuH"
      },
      "outputs": [],
      "source": [
        "# свой softmax\n",
        "\n",
        "def LinearSoftmax(x, w, b):\n",
        "    s = x.mm(w).add_(b)\n",
        "    s.exp_()\n",
        "    s.div_(s.sum(1))\n",
        "\n",
        "    return s"
      ]
    },
    {
      "cell_type": "code",
      "execution_count": null,
      "metadata": {
        "id": "1p3GkFbjsVuH"
      },
      "outputs": [],
      "source": [
        "# multiloss\n",
        "\n",
        "# 1й способ\n",
        "x = torch.tensor([1.0], requires_grad=True)\n",
        "loss1 = criterion(40, x)\n",
        "loss2 = criterion(50, x)\n",
        "loss3 = criterion(60, x)\n",
        "\n",
        "Now the first approach: (we use tensor.grad to get current gradient for our tensor x)\n",
        "\n",
        "loss1.backward(retain_graph=True)\n",
        "loss2.backward(retain_graph=True)\n",
        "loss3.backward()\n",
        "\n",
        "print(x.grad)\n",
        "\n",
        "\n",
        "# другой\n",
        "loss = loss1+loss2+loss3\n",
        "loss.backward()\n",
        "print(x.grad)"
      ]
    },
    {
      "cell_type": "code",
      "source": [
        "# Multilabel Loss\n",
        "import torch\n",
        "\n",
        "batch_size = 2\n",
        "num_classes = 11\n",
        "\n",
        "loss_fn = torch.nn.BCELoss()\n",
        "\n",
        "outputs_before_sigmoid = torch.randn(batch_size, num_classes)\n",
        "sigmoid_outputs = torch.sigmoid(outputs_before_sigmoid)\n",
        "target_classes = torch.randint(0, 2, (batch_size, num_classes))  # случайная бинарная матрица\n",
        "\n",
        "loss = loss_fn(sigmoid_outputs, target_classes)\n",
        "\n",
        "# другой способ - не пропускать через сигмоиду\n",
        "loss_fn_2 = torch.nn.BCEWithLogitsLoss()\n",
        "loss2 = loss_fn_2(outputs_before_sigmoid, target_classes)\n",
        "assert loss == loss2"
      ],
      "metadata": {
        "id": "4JLfboBkaX3R"
      },
      "execution_count": 15,
      "outputs": []
    },
    {
      "cell_type": "markdown",
      "metadata": {
        "id": "MAO8vFzOsVuI"
      },
      "source": [
        "## Transfer Learning\n",
        "\n",
        "В torchvision.models есть готовые модели, см. https://pytorch.org/vision/stable/models.html\n",
        "\n",
        "Загрузка модели занимает время."
      ]
    },
    {
      "cell_type": "code",
      "execution_count": null,
      "metadata": {
        "id": "g_CO9ZnNsVuI"
      },
      "outputs": [],
      "source": [
        "# берём готовую модель\n",
        "from torchvision import models\n",
        "transfer_model = models.resnet34(pretrained=True)\n",
        "transfer_model.eval() # чтобы нормально раюботали BN и DO\n",
        "# vgg16 = models.vgg16(pretrained=True)"
      ]
    },
    {
      "cell_type": "markdown",
      "metadata": {
        "id": "fYVdngUpsVuI"
      },
      "source": [
        "Ещё есть возможность загрузить модель из PyTorch HUB."
      ]
    },
    {
      "cell_type": "code",
      "execution_count": null,
      "metadata": {
        "colab": {
          "base_uri": "https://localhost:8080/"
        },
        "id": "QahzYtGFsVuI",
        "outputId": "cc49b720-31ac-4a91-fffe-3f99cf414de2"
      },
      "outputs": [
        {
          "output_type": "stream",
          "name": "stderr",
          "text": [
            "/usr/local/lib/python3.8/dist-packages/torch/hub.py:267: UserWarning: You are about to download and run code from an untrusted repository. In a future release, this won't be allowed. To add the repository to your trusted list, change the command to {calling_fn}(..., trust_repo=False) and a command prompt will appear asking for an explicit confirmation of trust, or list(..., trust_repo=True), which will assume that the prompt is to be answered with 'yes'. You can also use list(..., trust_repo='check') which will only prompt for confirmation if the repo is not already trusted. This will eventually be the default behaviour\n",
            "  warnings.warn(\n",
            "Downloading: \"https://github.com/nvidia/DeepLearningExamples/zipball/torchhub\" to /root/.cache/torch/hub/torchhub.zip\n",
            "/root/.cache/torch/hub/nvidia_DeepLearningExamples_torchhub/PyTorch/Classification/ConvNets/image_classification/models/common.py:13: UserWarning: pytorch_quantization module not found, quantization will not be available\n",
            "  warnings.warn(\n",
            "/root/.cache/torch/hub/nvidia_DeepLearningExamples_torchhub/PyTorch/Classification/ConvNets/image_classification/models/efficientnet.py:17: UserWarning: pytorch_quantization module not found, quantization will not be available\n",
            "  warnings.warn(\n"
          ]
        },
        {
          "output_type": "execute_result",
          "data": {
            "text/plain": [
              "['nvidia_convnets_processing_utils',\n",
              " 'nvidia_efficientnet',\n",
              " 'nvidia_efficientnet_b0',\n",
              " 'nvidia_efficientnet_b4',\n",
              " 'nvidia_efficientnet_widese_b0',\n",
              " 'nvidia_efficientnet_widese_b4',\n",
              " 'nvidia_fastpitch',\n",
              " 'nvidia_gpunet',\n",
              " 'nvidia_hifigan',\n",
              " 'nvidia_resneXt',\n",
              " 'nvidia_resnet50',\n",
              " 'nvidia_resnext101_32x4d',\n",
              " 'nvidia_se_resnext101_32x4d',\n",
              " 'nvidia_ssd',\n",
              " 'nvidia_ssd_processing_utils',\n",
              " 'nvidia_tacotron2',\n",
              " 'nvidia_textprocessing_utils',\n",
              " 'nvidia_tft',\n",
              " 'nvidia_tft_data_utils',\n",
              " 'nvidia_tts_utils',\n",
              " 'nvidia_waveglow']"
            ]
          },
          "metadata": {},
          "execution_count": 1
        }
      ],
      "source": [
        "import torch\n",
        "torch.hub.list('nvidia/DeepLearningExamples:torchhub') # all the available API endpoints"
      ]
    },
    {
      "cell_type": "code",
      "execution_count": null,
      "metadata": {
        "id": "wuzJ18fEsVuI"
      },
      "outputs": [],
      "source": [
        "model = torch.hub.load('pytorch/vision:v0.6.0', 'resnet152', pretrained=True, verbose=False)"
      ]
    },
    {
      "cell_type": "markdown",
      "source": [
        "Удобное представление модели получается с помощью библиотеки **torchsummary**."
      ],
      "metadata": {
        "id": "h2RDDKt9wtKX"
      }
    },
    {
      "cell_type": "code",
      "source": [
        "# удобное представление модели\n",
        "\n",
        "from torchvision import models\n",
        "from torchsummary import summary\n",
        "\n",
        "vgg = models.vgg16()\n",
        "summary(vgg, (3, 224, 224))"
      ],
      "metadata": {
        "colab": {
          "base_uri": "https://localhost:8080/"
        },
        "id": "AoV9o3B5wvr4",
        "outputId": "b0f4e578-948c-45c6-b932-e20bb624a392"
      },
      "execution_count": null,
      "outputs": [
        {
          "output_type": "stream",
          "name": "stdout",
          "text": [
            "----------------------------------------------------------------\n",
            "        Layer (type)               Output Shape         Param #\n",
            "================================================================\n",
            "            Conv2d-1         [-1, 64, 224, 224]           1,792\n",
            "              ReLU-2         [-1, 64, 224, 224]               0\n",
            "            Conv2d-3         [-1, 64, 224, 224]          36,928\n",
            "              ReLU-4         [-1, 64, 224, 224]               0\n",
            "         MaxPool2d-5         [-1, 64, 112, 112]               0\n",
            "            Conv2d-6        [-1, 128, 112, 112]          73,856\n",
            "              ReLU-7        [-1, 128, 112, 112]               0\n",
            "            Conv2d-8        [-1, 128, 112, 112]         147,584\n",
            "              ReLU-9        [-1, 128, 112, 112]               0\n",
            "        MaxPool2d-10          [-1, 128, 56, 56]               0\n",
            "           Conv2d-11          [-1, 256, 56, 56]         295,168\n",
            "             ReLU-12          [-1, 256, 56, 56]               0\n",
            "           Conv2d-13          [-1, 256, 56, 56]         590,080\n",
            "             ReLU-14          [-1, 256, 56, 56]               0\n",
            "           Conv2d-15          [-1, 256, 56, 56]         590,080\n",
            "             ReLU-16          [-1, 256, 56, 56]               0\n",
            "        MaxPool2d-17          [-1, 256, 28, 28]               0\n",
            "           Conv2d-18          [-1, 512, 28, 28]       1,180,160\n",
            "             ReLU-19          [-1, 512, 28, 28]               0\n",
            "           Conv2d-20          [-1, 512, 28, 28]       2,359,808\n",
            "             ReLU-21          [-1, 512, 28, 28]               0\n",
            "           Conv2d-22          [-1, 512, 28, 28]       2,359,808\n",
            "             ReLU-23          [-1, 512, 28, 28]               0\n",
            "        MaxPool2d-24          [-1, 512, 14, 14]               0\n",
            "           Conv2d-25          [-1, 512, 14, 14]       2,359,808\n",
            "             ReLU-26          [-1, 512, 14, 14]               0\n",
            "           Conv2d-27          [-1, 512, 14, 14]       2,359,808\n",
            "             ReLU-28          [-1, 512, 14, 14]               0\n",
            "           Conv2d-29          [-1, 512, 14, 14]       2,359,808\n",
            "             ReLU-30          [-1, 512, 14, 14]               0\n",
            "        MaxPool2d-31            [-1, 512, 7, 7]               0\n",
            "AdaptiveAvgPool2d-32            [-1, 512, 7, 7]               0\n",
            "           Linear-33                 [-1, 4096]     102,764,544\n",
            "             ReLU-34                 [-1, 4096]               0\n",
            "          Dropout-35                 [-1, 4096]               0\n",
            "           Linear-36                 [-1, 4096]      16,781,312\n",
            "             ReLU-37                 [-1, 4096]               0\n",
            "          Dropout-38                 [-1, 4096]               0\n",
            "           Linear-39                 [-1, 1000]       4,097,000\n",
            "================================================================\n",
            "Total params: 138,357,544\n",
            "Trainable params: 138,357,544\n",
            "Non-trainable params: 0\n",
            "----------------------------------------------------------------\n",
            "Input size (MB): 0.57\n",
            "Forward/backward pass size (MB): 218.78\n",
            "Params size (MB): 527.79\n",
            "Estimated Total Size (MB): 747.15\n",
            "----------------------------------------------------------------\n"
          ]
        }
      ]
    },
    {
      "cell_type": "code",
      "source": [
        "# ещё способ посмотреть на параметры модели\n",
        "from prettytable import PrettyTable\n",
        "\n",
        "def count_parameters(model):\n",
        "    table = PrettyTable([\"Modules\", \"Parameters\"])\n",
        "    total_params = 0\n",
        "    for name, parameter in model.named_parameters():\n",
        "        if not parameter.requires_grad: continue\n",
        "        params = parameter.numel()\n",
        "        table.add_row([name, params])\n",
        "        total_params+=params\n",
        "    print(table)\n",
        "    print(f\"Total Trainable Params: {total_params}\")\n",
        "    return total_params\n",
        "\n",
        "count_parameters(vgg)"
      ],
      "metadata": {
        "colab": {
          "base_uri": "https://localhost:8080/"
        },
        "id": "yYCZO7bIzcr-",
        "outputId": "4b7e66f6-2e27-4063-d777-3f05458b1daf"
      },
      "execution_count": null,
      "outputs": [
        {
          "output_type": "stream",
          "name": "stdout",
          "text": [
            "+---------------------+------------+\n",
            "|       Modules       | Parameters |\n",
            "+---------------------+------------+\n",
            "|  features.0.weight  |    1728    |\n",
            "|   features.0.bias   |     64     |\n",
            "|  features.2.weight  |   36864    |\n",
            "|   features.2.bias   |     64     |\n",
            "|  features.5.weight  |   73728    |\n",
            "|   features.5.bias   |    128     |\n",
            "|  features.7.weight  |   147456   |\n",
            "|   features.7.bias   |    128     |\n",
            "|  features.10.weight |   294912   |\n",
            "|   features.10.bias  |    256     |\n",
            "|  features.12.weight |   589824   |\n",
            "|   features.12.bias  |    256     |\n",
            "|  features.14.weight |   589824   |\n",
            "|   features.14.bias  |    256     |\n",
            "|  features.17.weight |  1179648   |\n",
            "|   features.17.bias  |    512     |\n",
            "|  features.19.weight |  2359296   |\n",
            "|   features.19.bias  |    512     |\n",
            "|  features.21.weight |  2359296   |\n",
            "|   features.21.bias  |    512     |\n",
            "|  features.24.weight |  2359296   |\n",
            "|   features.24.bias  |    512     |\n",
            "|  features.26.weight |  2359296   |\n",
            "|   features.26.bias  |    512     |\n",
            "|  features.28.weight |  2359296   |\n",
            "|   features.28.bias  |    512     |\n",
            "| classifier.0.weight | 102760448  |\n",
            "|  classifier.0.bias  |    4096    |\n",
            "| classifier.3.weight |  16777216  |\n",
            "|  classifier.3.bias  |    4096    |\n",
            "| classifier.6.weight |  4096000   |\n",
            "|  classifier.6.bias  |    1000    |\n",
            "+---------------------+------------+\n",
            "Total Trainable Params: 138357544\n"
          ]
        },
        {
          "output_type": "execute_result",
          "data": {
            "text/plain": [
              "138357544"
            ]
          },
          "metadata": {},
          "execution_count": 3
        }
      ]
    },
    {
      "cell_type": "code",
      "execution_count": null,
      "metadata": {
        "id": "ZO-749NXsVuJ",
        "outputId": "9a530b30-2784-47af-8d12-5044589039c6"
      },
      "outputs": [
        {
          "name": "stdout",
          "output_type": "stream",
          "text": [
            "torch.Size([1, 512, 7, 7])\n"
          ]
        }
      ],
      "source": [
        "# извлечение признаков\n",
        "vgg16 = models.vgg16(pretrained=True)\n",
        "vgg16.eval()\n",
        "\n",
        "vgg16_feature_extractor = vgg16.features # эта функция будет извлекать признаки\n",
        "H = torch.rand(1, 3, 224, 224)\n",
        "print (vgg16_feature_extractor(H).shape)"
      ]
    },
    {
      "cell_type": "code",
      "execution_count": null,
      "metadata": {
        "id": "aAPFIzUKsVuJ"
      },
      "outputs": [],
      "source": [
        "# заморозка слоёв\n",
        "for name, param in model_cnn.named_parameters():\n",
        "    if (\"bn\" not in name): # BN лучше не замораживать!\n",
        "        param.requires_grad = False"
      ]
    },
    {
      "cell_type": "code",
      "execution_count": null,
      "metadata": {
        "id": "cBnvGO8tsVuJ"
      },
      "outputs": [],
      "source": [
        "# замораживаем только первую часть\n",
        "layers_to_unfreeze = 5\n",
        "\n",
        "# Выключаем подсчет градиентов для слоев, которые не будем обучать\n",
        "for param in model_mixed.features[:-layers_to_unfreeze].parameters():\n",
        "    param.requires_grad = False"
      ]
    },
    {
      "cell_type": "code",
      "execution_count": null,
      "metadata": {
        "id": "Y-mCvx8YsVuJ",
        "outputId": "d900bd8f-29fe-43f9-aee5-4871e8637b42"
      },
      "outputs": [
        {
          "name": "stdout",
          "output_type": "stream",
          "text": [
            "torch.Size([10, 512])\n",
            "torch.Size([10])\n"
          ]
        }
      ],
      "source": [
        "from torchvision import models\n",
        "\n",
        "resnet18 = models.resnet18(pretrained=True)\n",
        "\n",
        "for parameter in resnet18.parameters(): # тут на самом деле веса, но не как dict\n",
        "    parameter.requires_grad = False\n",
        "\n",
        "#заменяем слой\n",
        "resnet18.fc = nn.Linear(512, 10)\n",
        "\n",
        "#посморим что в параметрах (матрица весов + смещение)\n",
        "for param in resnet18.fc.parameters():\n",
        "    print(param.shape)"
      ]
    },
    {
      "cell_type": "code",
      "execution_count": null,
      "metadata": {
        "colab": {
          "referenced_widgets": [
            "6cbe03426fff4ef18df7c4bb511d7ebd"
          ]
        },
        "id": "I_IqQR5YsVuK",
        "outputId": "c4066dc3-7678-4786-f066-d639bc34f306"
      },
      "outputs": [
        {
          "name": "stderr",
          "output_type": "stream",
          "text": [
            "Downloading: \"https://download.pytorch.org/models/vgg16-397923af.pth\" to C:\\Users\\djako/.cache\\torch\\hub\\checkpoints\\vgg16-397923af.pth\n"
          ]
        },
        {
          "data": {
            "application/vnd.jupyter.widget-view+json": {
              "model_id": "6cbe03426fff4ef18df7c4bb511d7ebd",
              "version_major": 2,
              "version_minor": 0
            },
            "text/plain": [
              "  0%|          | 0.00/528M [00:00<?, ?B/s]"
            ]
          },
          "metadata": {},
          "output_type": "display_data"
        },
        {
          "name": "stdout",
          "output_type": "stream",
          "text": [
            "Sequential(\n",
            "  (0): Linear(in_features=25088, out_features=4096, bias=True)\n",
            "  (1): ReLU(inplace=True)\n",
            "  (2): Dropout(p=0.5, inplace=False)\n",
            "  (3): Linear(in_features=4096, out_features=4096, bias=True)\n",
            "  (4): ReLU(inplace=True)\n",
            "  (5): Dropout(p=0.5, inplace=False)\n",
            "  (6): Linear(in_features=4096, out_features=1000, bias=True)\n",
            ")\n"
          ]
        },
        {
          "data": {
            "text/plain": [
              "[Linear(in_features=25088, out_features=4096, bias=True),\n",
              " ReLU(inplace=True),\n",
              " Dropout(p=0.5, inplace=False),\n",
              " Linear(in_features=4096, out_features=4096, bias=True),\n",
              " ReLU(inplace=True),\n",
              " Dropout(p=0.5, inplace=False),\n",
              " Linear(in_features=4096, out_features=1000, bias=True)]"
            ]
          },
          "execution_count": 3,
          "metadata": {},
          "output_type": "execute_result"
        }
      ],
      "source": [
        "from torchvision import models\n",
        "\n",
        "vgg16_4096 = models.vgg16(pretrained=True)\n",
        "print (vgg16_4096.classifier)\n",
        "list(vgg16_4096.classifier.children())"
      ]
    },
    {
      "cell_type": "code",
      "execution_count": null,
      "metadata": {
        "id": "KyWti6KysVuK",
        "outputId": "70a2d71f-1fda-4789-c1b8-0e6b3c1aa290"
      },
      "outputs": [
        {
          "name": "stdout",
          "output_type": "stream",
          "text": [
            "torch.Size([1, 4096])\n"
          ]
        }
      ],
      "source": [
        "# можно так делать трансфер\n",
        "new_classifier = nn.Sequential(*list(vgg16_4096.classifier.children())[:-1]) # remove just the last layer\n",
        "vgg16_4096.classifier = new_classifier\n",
        "print(vgg16_4096(torch.rand(1, 3, 224, 224)).size())"
      ]
    },
    {
      "cell_type": "code",
      "source": [
        "# Отрезаем слой\n",
        "\n",
        "# неуниверсально - для хорошо структкрированных сетей\n",
        "model = models.resnet152(pretrained=True)\n",
        "newmodel = torch.nn.Sequential(*(list(model.children())[:-1]))\n",
        "print(newmodel)\n",
        "\n",
        "# УТОЧНИТЬ СИНТАКСИС\n",
        "model.fc = nn.Identity()"
      ],
      "metadata": {
        "id": "zSd_TtPE2zR-"
      },
      "execution_count": 5,
      "outputs": []
    },
    {
      "cell_type": "code",
      "execution_count": null,
      "metadata": {
        "id": "GeduUyAWsVuK",
        "outputId": "3a6b7b14-ec8f-4097-83ea-72ce74aff3bd"
      },
      "outputs": [
        {
          "data": {
            "image/png": "[encoded data removed]",
            "text/plain": [
              "<PIL.Image.Image image mode=RGB size=100x100 at 0x170F437A940>"
            ]
          },
          "execution_count": 60,
          "metadata": {},
          "output_type": "execute_result"
        }
      ],
      "source": [
        "from torchvision import models\n",
        "from PIL import Image\n",
        "import io\n",
        "from urllib.request import urlopen\n",
        "from torchvision import datasets, transforms\n",
        "\n",
        "model = models.resnet34(pretrained=True)\n",
        "\n",
        "model.eval()\n",
        "\n",
        "x = Image.open(io.BytesIO(urlopen(\"https://github.com/pytorch/hub/raw/master/images/dog.jpg\").read()))\n",
        "\n",
        "preprocess = transforms.Compose([transforms.Resize(256),\n",
        "                                 transforms.CenterCrop(224),\n",
        "                                 transforms.ToTensor(),\n",
        "                                 transforms.Normalize(mean=[0.485, 0.456, 0.406], std=[0.229, 0.224, 0.225]),])\n",
        "\n",
        "x_batch = preprocess(x).unsqueeze(0) # 1xHxW\n",
        "\n",
        "# model.to(device)\n",
        "# x_batch = x_batch.to(device)\n",
        "\n",
        "with torch.no_grad():\n",
        "    output = model(x_batch)\n",
        "\n",
        "probabilities = torch.nn.functional.softmax(output[0], dim=0)\n",
        "\n",
        "x.resize((100, 100)) # вывести в уменьшенном виде"
      ]
    },
    {
      "cell_type": "code",
      "execution_count": null,
      "metadata": {
        "id": "PTiqxTU6sVuK",
        "outputId": "a98f4b2b-7b38-42f6-80cf-884c957fcb6d"
      },
      "outputs": [
        {
          "name": "stdout",
          "output_type": "stream",
          "text": [
            "Samoyed 0.884\n",
            "Pomeranian 0.039\n",
            "Arctic fox 0.026\n",
            "keeshond 0.024\n",
            "white wolf 0.005\n"
          ]
        }
      ],
      "source": [
        "import requests\n",
        "\n",
        "categories = [s.strip() for s in requests.get(\n",
        "    'https://raw.githubusercontent.com/pytorch/hub/master/imagenet_classes.txt').text.split('\\n')]\n",
        "\n",
        "top_prob, top_catid = torch.topk(probabilities, 5)\n",
        "\n",
        "for p, c in zip(top_prob, top_catid):\n",
        "    print (categories[c], np.round(p.item(), 3))"
      ]
    },
    {
      "cell_type": "markdown",
      "metadata": {
        "id": "TQHBeFb0sVuL"
      },
      "source": [
        "# BiLSTM"
      ]
    },
    {
      "cell_type": "code",
      "execution_count": null,
      "metadata": {
        "id": "SNo-GqNSsVuL"
      },
      "outputs": [],
      "source": [
        "class BiLSTM(nn.Module): # модуль - удобная сущность с параметрами\n",
        "    def __init__(self):\n",
        "        super().__init__()\n",
        "        self.hidden_size = 64\n",
        "        drp = 0.1\n",
        "        max_features, embed_size = 10000,300\n",
        "        self.embedding = nn.Embedding(max_features, embed_size)\n",
        "        self.lstm = nn.LSTM(embed_size, self.hidden_size, bidirectional=True, batch_first=True)\n",
        "        self.linear = nn.Linear(self.hidden_size*4 , 64)\n",
        "        self.relu = nn.ReLU()\n",
        "        self.dropout = nn.Dropout(drp)\n",
        "        self.out = nn.Linear(64, 1)\n",
        "\n",
        "\n",
        "    def forward(self, x):\n",
        "        h_embedding = self.embedding(x)\n",
        "        h_embedding = torch.squeeze(torch.unsqueeze(h_embedding, 0))\n",
        "\n",
        "        h_lstm, _ = self.lstm(h_embedding)\n",
        "        avg_pool = torch.mean(h_lstm, 1)\n",
        "        max_pool, _ = torch.max(h_lstm, 1)\n",
        "        conc = torch.cat(( avg_pool, max_pool), 1)\n",
        "        conc = self.relu(self.linear(conc))\n",
        "        conc = self.dropout(conc)\n",
        "        out = self.out(conc)\n",
        "        return out"
      ]
    },
    {
      "cell_type": "markdown",
      "metadata": {
        "id": "E3RTeatGsVuL"
      },
      "source": [
        "## Как сеть искриволяет пространство"
      ]
    },
    {
      "cell_type": "code",
      "execution_count": null,
      "metadata": {
        "id": "HLkeU70fsVuL",
        "outputId": "ed49dc97-9043-4752-b6b6-b14157c653a7"
      },
      "outputs": [
        {
          "data": {
            "text/plain": [
              "<matplotlib.collections.PathCollection at 0x188e00d45c0>"
            ]
          },
          "execution_count": 111,
          "metadata": {},
          "output_type": "execute_result"
        },
        {
          "data": {
            "image/png": "[encoded data removed]",
            "text/plain": [
              "<Figure size 864x360 with 2 Axes>"
            ]
          },
          "metadata": {
            "needs_background": "light"
          },
          "output_type": "display_data"
        }
      ],
      "source": [
        "import torch.nn as nn\n",
        "\n",
        "X = torch.rand(500, 2)\n",
        "y = X[:, 0] + X[:, 1]\n",
        "plt.figure(figsize=(12, 5))\n",
        "plt.subplot(1, 2, 1)\n",
        "plt.scatter(X[:,0], X[:,1], 20, y)\n",
        "\n",
        "n_hidden = 10\n",
        "model = nn.Sequential(nn.Linear(2, n_hidden),\n",
        "                      nn.ReLU(),\n",
        "                      nn.Linear(n_hidden, n_hidden),\n",
        "                      nn.ReLU(),\n",
        "                      nn.Linear(n_hidden, 2))\n",
        "# model.to(device)\n",
        "with torch.no_grad():\n",
        "    Y = model(X)\n",
        "plt.subplot(1, 2, 2)\n",
        "plt.scatter(Y[:,0], Y[:,1], 20, y)"
      ]
    },
    {
      "cell_type": "markdown",
      "metadata": {
        "id": "dKw4wgYSsVuL"
      },
      "source": [
        "## Пример"
      ]
    },
    {
      "cell_type": "code",
      "execution_count": null,
      "metadata": {
        "id": "OsxXF3GfsVuL",
        "outputId": "fd1c73cb-c54e-4a3d-fe1a-a465378be896"
      },
      "outputs": [
        {
          "name": "stdout",
          "output_type": "stream",
          "text": [
            "Shapes:\n",
            "X: (3000, 2)\n",
            "y: (3000,)\n"
          ]
        }
      ],
      "source": [
        "device = torch.device(\"cuda:0\" if torch.cuda.is_available() else \"cpu\")\n",
        "\n",
        "import random, math\n",
        "seed = 12345\n",
        "random.seed(seed)\n",
        "torch.manual_seed(seed)\n",
        "N = 1000  # num_samples_per_class\n",
        "D = 2  # dimensions\n",
        "C = 3  # num_classes\n",
        "H = 100  # num_hidden_units\n",
        "\n",
        "# данные\n",
        "X = torch.zeros(N * C, D).to(device)\n",
        "y = torch.zeros(N * C, dtype=torch.long).to(device)\n",
        "for c in range(C):\n",
        "    index = 0\n",
        "    t = torch.linspace(0, 1, N)\n",
        "\n",
        "    inner_var = torch.linspace((2 * math.pi / C) * (c), (2 * math.pi / C) * (2 + c), N) + torch.randn(N) * 0.2\n",
        "\n",
        "    for ix in range(N * c, N * (c + 1)):\n",
        "        X[ix] = t[index] * torch.FloatTensor((math.sin(inner_var[index]), math.cos(inner_var[index])))\n",
        "        y[ix] = c\n",
        "        index += 1\n",
        "\n",
        "print(\"Shapes:\")\n",
        "print(\"X:\", tuple(X.size()))\n",
        "print(\"y:\", tuple(y.size()))"
      ]
    },
    {
      "cell_type": "code",
      "execution_count": null,
      "metadata": {
        "id": "R03MfOQTsVuM",
        "outputId": "41f7f54b-0ad9-45c7-f98a-c90b60365485"
      },
      "outputs": [
        {
          "name": "stdout",
          "output_type": "stream",
          "text": [
            "[EPOCH]: 999, [LOSS]: 0.161706, [ACCURACY]: 0.954\n"
          ]
        }
      ],
      "source": [
        "from IPython import display\n",
        "learning_rate = 1e-3\n",
        "lambda_l2 = 1e-5\n",
        "\n",
        "model = nn.Sequential(\n",
        "    nn.Linear(D, H),\n",
        "    nn.ReLU(),\n",
        "    nn.Linear(H, C)\n",
        ")\n",
        "model.to(device)\n",
        "\n",
        "criterion = torch.nn.CrossEntropyLoss()\n",
        "\n",
        "optimizer = torch.optim.Adam(model.parameters(), lr=learning_rate, weight_decay=lambda_l2)\n",
        "\n",
        "for t in range(1000):\n",
        "\n",
        "    y_pred = model(X)\n",
        "\n",
        "    loss = criterion(y_pred, y)\n",
        "    score, predicted = torch.max(y_pred, 1)\n",
        "    acc = (y == predicted).sum().float() / len(y)\n",
        "    print(\"[EPOCH]: %i, [LOSS]: %.6f, [ACCURACY]: %.3f\" % (t, loss.item(), acc))\n",
        "    display.clear_output(wait=True)\n",
        "\n",
        "    optimizer.zero_grad()\n",
        "\n",
        "    loss.backward()\n",
        "\n",
        "    optimizer.step()"
      ]
    },
    {
      "cell_type": "code",
      "execution_count": null,
      "metadata": {
        "id": "GIy78lIgsVuM",
        "outputId": "e5d9b576-53b7-4a76-9e9f-f4dc8bdf83f5"
      },
      "outputs": [
        {
          "name": "stdout",
          "output_type": "stream",
          "text": [
            "Sequential(\n",
            "  (0): Linear(in_features=2, out_features=100, bias=True)\n",
            "  (1): ReLU()\n",
            "  (2): Linear(in_features=100, out_features=3, bias=True)\n",
            ")\n"
          ]
        },
        {
          "data": {
            "image/png": "[encoded data removed]",
            "text/plain": [
              "<Figure size 432x288 with 1 Axes>"
            ]
          },
          "metadata": {
            "needs_background": "light"
          },
          "output_type": "display_data"
        }
      ],
      "source": [
        "print(model)\n",
        "plot_model(X, y, model)"
      ]
    },
    {
      "cell_type": "markdown",
      "metadata": {
        "id": "OOq93hLksVuM"
      },
      "source": [
        "### НС на numpy\n",
        "\n",
        "дальше примеры из https://pytorch.org/tutorials/beginner/pytorch_with_examples.html"
      ]
    },
    {
      "cell_type": "code",
      "execution_count": null,
      "metadata": {
        "id": "kKIfBNLmsVuN",
        "outputId": "d9dd1773-20f3-468d-b8b6-4a7cca3077ea"
      },
      "outputs": [
        {
          "name": "stdout",
          "output_type": "stream",
          "text": [
            "1.74824768139619e-24\n",
            "Wall time: 2.55 s\n"
          ]
        }
      ],
      "source": [
        "%%time\n",
        "\n",
        "import numpy as np\n",
        "\n",
        "# N is batch size; D_in is input dimension;\n",
        "# H is hidden dimension; D_out is output dimension.\n",
        "N, D_in, H, D_out = 64, 1000, 100, 10\n",
        "\n",
        "# Create random input and output data\n",
        "x = np.random.randn(N, D_in)\n",
        "y = np.random.randn(N, D_out)\n",
        "\n",
        "# Randomly initialize weights\n",
        "w1 = np.random.randn(D_in, H)\n",
        "w2 = np.random.randn(H, D_out)\n",
        "\n",
        "learning_rate = 1e-6\n",
        "for t in range(5000):\n",
        "    # Forward pass: compute predicted y\n",
        "    h = x.dot(w1)\n",
        "    h_relu = np.maximum(h, 0)\n",
        "    y_pred = h_relu.dot(w2)\n",
        "\n",
        "    # Compute and print loss\n",
        "    loss = np.square(y_pred - y).sum()\n",
        "    # print(t, loss)\n",
        "\n",
        "    # Backprop to compute gradients of w1 and w2 with respect to loss\n",
        "    grad_y_pred = 2.0 * (y_pred - y)\n",
        "    grad_w2 = h_relu.T.dot(grad_y_pred)\n",
        "    grad_h_relu = grad_y_pred.dot(w2.T)\n",
        "    grad_h = grad_h_relu.copy()\n",
        "    grad_h[h < 0] = 0\n",
        "    grad_w1 = x.T.dot(grad_h)\n",
        "\n",
        "    # Update weights\n",
        "    w1 -= learning_rate * grad_w1\n",
        "    w2 -= learning_rate * grad_w2\n",
        "\n",
        "print(loss)"
      ]
    },
    {
      "cell_type": "code",
      "execution_count": null,
      "metadata": {
        "id": "sp5-deGzsVuN",
        "outputId": "db38bd5b-5172-4168-f2e5-f27edf1c57d9"
      },
      "outputs": [
        {
          "name": "stdout",
          "output_type": "stream",
          "text": [
            "2.74573608294304e-07\n",
            "Wall time: 7.42 s\n"
          ]
        }
      ],
      "source": [
        "%%time\n",
        "\n",
        "import torch\n",
        "\n",
        "\n",
        "dtype = torch.float\n",
        "# device = torch.device(\"cpu\")\n",
        "device = torch.device(\"cuda:0\") # Uncomment this to run on GPU\n",
        "\n",
        "# N is batch size; D_in is input dimension;\n",
        "# H is hidden dimension; D_out is output dimension.\n",
        "N, D_in, H, D_out = 64, 1000, 100, 10\n",
        "\n",
        "# Create random input and output data\n",
        "x = torch.randn(N, D_in, device=device, dtype=dtype)\n",
        "y = torch.randn(N, D_out, device=device, dtype=dtype)\n",
        "\n",
        "# Randomly initialize weights\n",
        "w1 = torch.randn(D_in, H, device=device, dtype=dtype)\n",
        "w2 = torch.randn(H, D_out, device=device, dtype=dtype)\n",
        "\n",
        "learning_rate = 1e-6\n",
        "for t in range(5000):\n",
        "    # Forward pass: compute predicted y\n",
        "    h = x.mm(w1)\n",
        "    h_relu = h.clamp(min=0)\n",
        "    y_pred = h_relu.mm(w2)\n",
        "\n",
        "    # Compute and print loss\n",
        "    loss = (y_pred - y).pow(2).sum().item()\n",
        "    #if t % 100 == 99:\n",
        "    #   print(t, loss)\n",
        "\n",
        "    # Backprop to compute gradients of w1 and w2 with respect to loss\n",
        "    grad_y_pred = 2.0 * (y_pred - y)\n",
        "    grad_w2 = h_relu.t().mm(grad_y_pred)\n",
        "    grad_h_relu = grad_y_pred.mm(w2.t())\n",
        "    grad_h = grad_h_relu.clone()\n",
        "    grad_h[h < 0] = 0\n",
        "    grad_w1 = x.t().mm(grad_h)\n",
        "\n",
        "    # Update weights using gradient descent\n",
        "    w1 -= learning_rate * grad_w1\n",
        "    w2 -= learning_rate * grad_w2\n",
        "\n",
        "print(loss)\n",
        "# CPU 3.05 s\n",
        "# GPU 6.77 s"
      ]
    },
    {
      "cell_type": "code",
      "execution_count": null,
      "metadata": {
        "id": "ssOx0I6qsVuN",
        "outputId": "a6295cb8-9d20-4c09-a863-74c422e40c18"
      },
      "outputs": [
        {
          "name": "stdout",
          "output_type": "stream",
          "text": [
            "3.4651128544282983e-07\n",
            "Wall time: 7.52 s\n"
          ]
        }
      ],
      "source": [
        "%%time\n",
        "\n",
        "import torch\n",
        "\n",
        "dtype = torch.float\n",
        "# device = torch.device(\"cpu\")\n",
        "device = torch.device(\"cuda:0\") # Uncomment this to run on GPU\n",
        "\n",
        "# N is batch size; D_in is input dimension;\n",
        "# H is hidden dimension; D_out is output dimension.\n",
        "N, D_in, H, D_out = 64, 1000, 100, 10\n",
        "\n",
        "# Create random Tensors to hold input and outputs.\n",
        "# Setting requires_grad=False indicates that we do not need to compute gradients\n",
        "# with respect to these Tensors during the backward pass.\n",
        "x = torch.randn(N, D_in, device=device, dtype=dtype)\n",
        "y = torch.randn(N, D_out, device=device, dtype=dtype)\n",
        "\n",
        "# Create random Tensors for weights.\n",
        "# Setting requires_grad=True indicates that we want to compute gradients with\n",
        "# respect to these Tensors during the backward pass.\n",
        "w1 = torch.randn(D_in, H, device=device, dtype=dtype, requires_grad=True)\n",
        "w2 = torch.randn(H, D_out, device=device, dtype=dtype, requires_grad=True)\n",
        "\n",
        "learning_rate = 1e-6\n",
        "for t in range(5000):\n",
        "    # Forward pass: compute predicted y using operations on Tensors; these\n",
        "    # are exactly the same operations we used to compute the forward pass using\n",
        "    # Tensors, but we do not need to keep references to intermediate values since\n",
        "    # we are not implementing the backward pass by hand.\n",
        "    y_pred = x.mm(w1).clamp(min=0).mm(w2)\n",
        "\n",
        "    # Compute and print loss using operations on Tensors.\n",
        "    # Now loss is a Tensor of shape (1,)\n",
        "    # loss.item() gets the scalar value held in the loss.\n",
        "    loss = (y_pred - y).pow(2).sum()\n",
        "    #if t % 100 == 99:\n",
        "    #    print(t, loss.item())\n",
        "\n",
        "    # Use autograd to compute the backward pass. This call will compute the\n",
        "    # gradient of loss with respect to all Tensors with requires_grad=True.\n",
        "    # After this call w1.grad and w2.grad will be Tensors holding the gradient\n",
        "    # of the loss with respect to w1 and w2 respectively.\n",
        "    loss.backward()\n",
        "\n",
        "    # Manually update weights using gradient descent. Wrap in torch.no_grad()\n",
        "    # because weights have requires_grad=True, but we don't need to track this\n",
        "    # in autograd.\n",
        "    # An alternative way is to operate on weight.data and weight.grad.data.\n",
        "    # Recall that tensor.data gives a tensor that shares the storage with\n",
        "    # tensor, but doesn't track history.\n",
        "    # You can also use torch.optim.SGD to achieve this.\n",
        "    with torch.no_grad():\n",
        "        w1 -= learning_rate * w1.grad\n",
        "        w2 -= learning_rate * w2.grad\n",
        "\n",
        "        # Manually zero the gradients after updating weights\n",
        "        w1.grad.zero_()\n",
        "        w2.grad.zero_()\n",
        "\n",
        "print (loss.item())\n",
        "\n",
        "# CPU 5.7 s\n",
        "# GPU 8.87 s"
      ]
    },
    {
      "cell_type": "markdown",
      "metadata": {
        "id": "8xGH3VeusVuN"
      },
      "source": [
        "# Пример пакета nn"
      ]
    },
    {
      "cell_type": "code",
      "execution_count": null,
      "metadata": {
        "id": "jlY14wPZsVuO",
        "outputId": "15c08be7-c893-4287-80e5-9869063aaca6"
      },
      "outputs": [
        {
          "name": "stdout",
          "output_type": "stream",
          "text": [
            "1.0499554350951179e-11\n",
            "Wall time: 7.21 s\n"
          ]
        }
      ],
      "source": [
        "%%time\n",
        "\n",
        "import torch\n",
        "\n",
        "# N is batch size; D_in is input dimension;\n",
        "# H is hidden dimension; D_out is output dimension.\n",
        "N, D_in, H, D_out = 64, 1000, 100, 10\n",
        "\n",
        "# Create random Tensors to hold inputs and outputs\n",
        "x = torch.randn(N, D_in)\n",
        "y = torch.randn(N, D_out)\n",
        "\n",
        "# Use the nn package to define our model as a sequence of layers. nn.Sequential\n",
        "# is a Module which contains other Modules, and applies them in sequence to\n",
        "# produce its output. Each Linear Module computes output from input using a\n",
        "# linear function, and holds internal Tensors for its weight and bias.\n",
        "model = torch.nn.Sequential(\n",
        "    torch.nn.Linear(D_in, H),\n",
        "    torch.nn.ReLU(),\n",
        "    torch.nn.Linear(H, D_out),\n",
        ")\n",
        "\n",
        "# The nn package also contains definitions of popular loss functions; in this\n",
        "# case we will use Mean Squared Error (MSE) as our loss function.\n",
        "loss_fn = torch.nn.MSELoss(reduction='sum')\n",
        "\n",
        "learning_rate = 1e-4\n",
        "for t in range(5000):\n",
        "    # Forward pass: compute predicted y by passing x to the model. Module objects\n",
        "    # override the __call__ operator so you can call them like functions. When\n",
        "    # doing so you pass a Tensor of input data to the Module and it produces\n",
        "    # a Tensor of output data.\n",
        "    y_pred = model(x)\n",
        "\n",
        "    # Compute and print loss. We pass Tensors containing the predicted and true\n",
        "    # values of y, and the loss function returns a Tensor containing the\n",
        "    # loss.\n",
        "    loss = loss_fn(y_pred, y)\n",
        "    #if t % 100 == 99:\n",
        "    #    print(t, loss.item())\n",
        "\n",
        "    # Zero the gradients before running the backward pass.\n",
        "    model.zero_grad()\n",
        "\n",
        "    # Backward pass: compute gradient of the loss with respect to all the learnable\n",
        "    # parameters of the model. Internally, the parameters of each Module are stored\n",
        "    # in Tensors with requires_grad=True, so this call will compute gradients for\n",
        "    # all learnable parameters in the model.\n",
        "    loss.backward()\n",
        "\n",
        "    # Update the weights using gradient descent. Each parameter is a Tensor, so\n",
        "    # we can access its gradients like we did before.\n",
        "    with torch.no_grad():\n",
        "        for param in model.parameters():\n",
        "            param -= learning_rate * param.grad\n",
        "\n",
        "print(loss.item())\n",
        "# CPU 8.05 s"
      ]
    },
    {
      "cell_type": "code",
      "execution_count": null,
      "metadata": {
        "id": "iF8JwaTqsVuO",
        "outputId": "81e4e9f6-6f42-4c62-c117-6c81d897eb19"
      },
      "outputs": [
        {
          "name": "stdout",
          "output_type": "stream",
          "text": [
            "1.0213095993916177e-11\n",
            "Wall time: 10.3 s\n"
          ]
        }
      ],
      "source": [
        "%%time\n",
        "\n",
        "import torch\n",
        "\n",
        "N, D_in, H, D_out = 64, 1000, 100, 10\n",
        "\n",
        "x = torch.randn(N, D_in)\n",
        "y = torch.randn(N, D_out)\n",
        "\n",
        "model = torch.nn.Sequential(\n",
        "    torch.nn.Linear(D_in, H),\n",
        "    torch.nn.ReLU(),\n",
        "    torch.nn.Linear(H, D_out),\n",
        ")\n",
        "\n",
        "loss_fn = torch.nn.MSELoss(reduction='sum')\n",
        "\n",
        "\n",
        "learning_rate = 1e-4\n",
        "optimizer = torch.optim.Adam(model.parameters(), lr=learning_rate)\n",
        "\n",
        "for t in range(5000):\n",
        "    y_pred = model(x)\n",
        "\n",
        "    loss = loss_fn(y_pred, y)\n",
        "    # if t % 100 == 99:\n",
        "    #     print(t, loss.item())\n",
        "\n",
        "    optimizer.zero_grad()\n",
        "\n",
        "    loss.backward()\n",
        "\n",
        "    optimizer.step()\n",
        "\n",
        "print(loss.item())"
      ]
    },
    {
      "cell_type": "markdown",
      "metadata": {
        "id": "IDWtaRCQsVuO"
      },
      "source": [
        "## отдельные Log-регрессии и одна многомерная\n",
        "\n",
        "* отдельные - очень медленно на 1 GPU"
      ]
    },
    {
      "cell_type": "code",
      "execution_count": null,
      "metadata": {
        "id": "HDRDqafRsVuO"
      },
      "outputs": [],
      "source": [
        "class MyOneModel(nn.Module):\n",
        "    def __init__(self, in_features, out_features):\n",
        "        super(MyOneModel, self).__init__()\n",
        "        self.bn1 = nn.BatchNorm1d(in_features)\n",
        "        self.do1 = nn.Dropout(0.3)\n",
        "        self.ln1 = nn.Linear(in_features, out_features) # nn.utils.weight_norm(nn.Linear(n1, n2))\n",
        "        self.ph1 = nn.Sigmoid()\n",
        "\n",
        "    def forward(self, x):\n",
        "        z = self.ph1(self.ln1(self.do1(self.bn1(x)))) #\n",
        "        return z\n",
        "\n",
        "class MyModel(nn.Module):\n",
        "    def __init__(self, in_features, out_features):\n",
        "        super(MyModel, self).__init__()\n",
        "        # self.out_features = out_features\n",
        "        self.mymodules = nn.ModuleList([MyOneModel(in_features, 1) for _ in range(out_features)])\n",
        "        # self.parameters = nn.ParameterList([f.parameters for f in self.mymodules])\n",
        "\n",
        "    def forward(self, x):\n",
        "        z = torch.cat([f(x) for f in self.mymodules], axis=1)\n",
        "        # print(z.size(), self.mymodules[0](x).size())\n",
        "        return z"
      ]
    },
    {
      "cell_type": "markdown",
      "metadata": {
        "id": "efctyrUJsVuQ"
      },
      "source": [
        "# Что ещё\n",
        "\n",
        "Хорошие советы по оптимизации:\n",
        "    * https://pytorch.org/tutorials/recipes/recipes/tuning_guide.html"
      ]
    },
    {
      "cell_type": "code",
      "execution_count": null,
      "metadata": {
        "id": "x7KaZGnXsVuQ"
      },
      "outputs": [],
      "source": []
    }
  ],
  "metadata": {
    "kernelspec": {
      "display_name": "Python 3",
      "language": "python",
      "name": "python3"
    },
    "language_info": {
      "codemirror_mode": {
        "name": "ipython",
        "version": 3
      },
      "file_extension": ".py",
      "mimetype": "text/x-python",
      "name": "python",
      "nbconvert_exporter": "python",
      "pygments_lexer": "ipython3",
      "version": "3.8.8"
    },
    "colab": {
      "provenance": []
    },
    "gpuClass": "standard"
  },
  "nbformat": 4,
  "nbformat_minor": 0
}