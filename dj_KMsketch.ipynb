{
  "nbformat": 4,
  "nbformat_minor": 0,
  "metadata": {
    "colab": {
      "provenance": [],
      "authorship_tag": "ABX9TyPOY5qnI9GN33PNjoHjqi7y",
      "include_colab_link": true
    },
    "kernelspec": {
      "name": "python3",
      "display_name": "Python 3"
    },
    "language_info": {
      "name": "python"
    }
  },
  "cells": [
    {
      "cell_type": "markdown",
      "metadata": {
        "id": "view-in-github",
        "colab_type": "text"
      },
      "source": [
        "<a href=\"https://colab.research.google.com/github/Dyakonov/Colab/blob/main/dj_KMsketch.ipynb\" target=\"_parent\"><img src=\"https://colab.research.google.com/assets/colab-badge.svg\" alt=\"Open In Colab\"/></a>"
      ]
    },
    {
      "cell_type": "code",
      "execution_count": null,
      "metadata": {
        "id": "ZvBqEpJff_b8"
      },
      "outputs": [],
      "source": []
    },
    {
      "cell_type": "code",
      "source": [
        "import torch\n",
        "from torch.nn.functional import softmax\n",
        "x = torch.tensor([1, 2, 3], dtype=float)\n",
        "y = softmax(x, dim=0)\n",
        "y\n"
      ],
      "metadata": {
        "colab": {
          "base_uri": "https://localhost:8080/"
        },
        "id": "Ic8UjmVFfG_B",
        "outputId": "7690964c-ff04-40e4-c27e-d45ac2dfb6f0"
      },
      "execution_count": null,
      "outputs": [
        {
          "output_type": "execute_result",
          "data": {
            "text/plain": [
              "tensor([0.0900, 0.2447, 0.6652], dtype=torch.float64)"
            ]
          },
          "metadata": {},
          "execution_count": 4
        }
      ]
    },
    {
      "cell_type": "code",
      "source": [
        "from torch.nn import Sigmoid\n",
        "from torch.nn.functional import sigmoid\n",
        "x = torch.tensor([1, 2, 3], dtype=float)\n",
        "s = Sigmoid() # создаёт nn.Module\n",
        "s(x), sigmoid(x)\n"
      ],
      "metadata": {
        "colab": {
          "base_uri": "https://localhost:8080/"
        },
        "id": "xXgRidSefHxv",
        "outputId": "be43dd3b-42ca-4ea3-e95b-5d88ccd7b919"
      },
      "execution_count": null,
      "outputs": [
        {
          "output_type": "execute_result",
          "data": {
            "text/plain": [
              "(tensor([0.7311, 0.8808, 0.9526], dtype=torch.float64),\n",
              " tensor([0.7311, 0.8808, 0.9526], dtype=torch.float64))"
            ]
          },
          "metadata": {},
          "execution_count": 5
        }
      ]
    },
    {
      "cell_type": "code",
      "source": [],
      "metadata": {
        "id": "hFAaeJ8wgKc0"
      },
      "execution_count": null,
      "outputs": []
    },
    {
      "cell_type": "markdown",
      "source": [
        "# Загрузка данных"
      ],
      "metadata": {
        "id": "N0juD1tcgxRG"
      }
    },
    {
      "cell_type": "code",
      "source": [
        "from google.colab import drive\n",
        "drive.mount('/content/drive')"
      ],
      "metadata": {
        "colab": {
          "base_uri": "https://localhost:8080/"
        },
        "id": "4VDMQOz5gd0F",
        "outputId": "f273711a-ef71-4af2-ad46-94035507ba35"
      },
      "execution_count": null,
      "outputs": [
        {
          "output_type": "stream",
          "name": "stdout",
          "text": [
            "Drive already mounted at /content/drive; to attempt to forcibly remount, call drive.mount(\"/content/drive\", force_remount=True).\n"
          ]
        }
      ]
    },
    {
      "cell_type": "code",
      "source": [
        "import pandas as pd\n",
        "data = pd.read_csv('/content/drive/My Drive/NB/tweets.csv')\n",
        "print (data.shape)\n",
        "data.head()"
      ],
      "metadata": {
        "colab": {
          "base_uri": "https://localhost:8080/",
          "height": 354
        },
        "id": "u0YNy0qzgeLW",
        "outputId": "0f70303c-2872-477d-8de2-586749fbcf2a"
      },
      "execution_count": null,
      "outputs": [
        {
          "output_type": "stream",
          "name": "stdout",
          "text": [
            "(14090, 12)\n"
          ]
        },
        {
          "output_type": "execute_result",
          "data": {
            "text/plain": [
              "                     user_name       user_location  \\\n",
              "0               Business Today               India   \n",
              "1                     BQ Prime       Mumbai, India   \n",
              "2                  A Trader...               Earth   \n",
              "3  The Way Of The Superior Men                 NaN   \n",
              "4              Spiros Margaris  All Over the World   \n",
              "\n",
              "                                    user_description  \\\n",
              "0  News, analysis & immersives from #BTMultiverse...   \n",
              "1  #BQPrime is amongst #India’s youngest and most...   \n",
              "2  I trade fear and desire with love and passion ...   \n",
              "3  I am a young man going through the journey of ...   \n",
              "4  #VC | No. 1 #Fintech @Refinitiv & @Onalytica |...   \n",
              "\n",
              "                user_created  user_followers user_friends user_favourites  \\\n",
              "0  2010-06-30 14:55:57+00:00       1165920.0          421            2106   \n",
              "1  2016-03-29 08:30:59+00:00        299228.0          125              53   \n",
              "2  2021-09-09 11:56:48+00:00           211.0           42           13846   \n",
              "3  2022-11-12 09:00:50+00:00             4.0           45              24   \n",
              "4  2014-08-06 05:20:16+00:00        128277.0        21196          232600   \n",
              "\n",
              "  user_verified                       date  \\\n",
              "0          True  2023-03-29 06:11:39+00:00   \n",
              "1          True  2023-03-29 06:11:32+00:00   \n",
              "2         False  2023-03-29 06:09:44+00:00   \n",
              "3         False  2023-03-29 06:05:37+00:00   \n",
              "4          True  2023-03-29 06:03:49+00:00   \n",
              "\n",
              "                                                text  \\\n",
              "0  UBS Group AG has rehired Sergio Ermotti as CEO...   \n",
              "1  #UBS names #SergioErmotti as its CEO, replacin...   \n",
              "2  @scottmelker I think its not start yet, see th...   \n",
              "3  Every single successful person has one thing i...   \n",
              "4  UBS rehires #Ermotti as #CEO \\n\\nto steer #Cre...   \n",
              "\n",
              "                                            hashtags              source  \n",
              "0                                                NaN     Twitter Web App  \n",
              "1                           ['UBS', 'SergioErmotti']     Twitter Web App  \n",
              "2                                   ['bankencrisis']     Twitter Web App  \n",
              "3                                                NaN  Twitter for iPhone  \n",
              "4  ['Ermotti', 'CEO', 'CreditSuisse', 'fintech', ...              Buffer  "
            ],
            "text/html": [
              "\n",
              "  <div id=\"df-fd370c4c-3b65-43e9-b187-7a2c2f0e7acf\">\n",
              "    <div class=\"colab-df-container\">\n",
              "      <div>\n",
              "<style scoped>\n",
              "    .dataframe tbody tr th:only-of-type {\n",
              "        vertical-align: middle;\n",
              "    }\n",
              "\n",
              "    .dataframe tbody tr th {\n",
              "        vertical-align: top;\n",
              "    }\n",
              "\n",
              "    .dataframe thead th {\n",
              "        text-align: right;\n",
              "    }\n",
              "</style>\n",
              "<table border=\"1\" class=\"dataframe\">\n",
              "  <thead>\n",
              "    <tr style=\"text-align: right;\">\n",
              "      <th></th>\n",
              "      <th>user_name</th>\n",
              "      <th>user_location</th>\n",
              "      <th>user_description</th>\n",
              "      <th>user_created</th>\n",
              "      <th>user_followers</th>\n",
              "      <th>user_friends</th>\n",
              "      <th>user_favourites</th>\n",
              "      <th>user_verified</th>\n",
              "      <th>date</th>\n",
              "      <th>text</th>\n",
              "      <th>hashtags</th>\n",
              "      <th>source</th>\n",
              "    </tr>\n",
              "  </thead>\n",
              "  <tbody>\n",
              "    <tr>\n",
              "      <th>0</th>\n",
              "      <td>Business Today</td>\n",
              "      <td>India</td>\n",
              "      <td>News, analysis &amp; immersives from #BTMultiverse...</td>\n",
              "      <td>2010-06-30 14:55:57+00:00</td>\n",
              "      <td>1165920.0</td>\n",
              "      <td>421</td>\n",
              "      <td>2106</td>\n",
              "      <td>True</td>\n",
              "      <td>2023-03-29 06:11:39+00:00</td>\n",
              "      <td>UBS Group AG has rehired Sergio Ermotti as CEO...</td>\n",
              "      <td>NaN</td>\n",
              "      <td>Twitter Web App</td>\n",
              "    </tr>\n",
              "    <tr>\n",
              "      <th>1</th>\n",
              "      <td>BQ Prime</td>\n",
              "      <td>Mumbai, India</td>\n",
              "      <td>#BQPrime is amongst #India’s youngest and most...</td>\n",
              "      <td>2016-03-29 08:30:59+00:00</td>\n",
              "      <td>299228.0</td>\n",
              "      <td>125</td>\n",
              "      <td>53</td>\n",
              "      <td>True</td>\n",
              "      <td>2023-03-29 06:11:32+00:00</td>\n",
              "      <td>#UBS names #SergioErmotti as its CEO, replacin...</td>\n",
              "      <td>['UBS', 'SergioErmotti']</td>\n",
              "      <td>Twitter Web App</td>\n",
              "    </tr>\n",
              "    <tr>\n",
              "      <th>2</th>\n",
              "      <td>A Trader...</td>\n",
              "      <td>Earth</td>\n",
              "      <td>I trade fear and desire with love and passion ...</td>\n",
              "      <td>2021-09-09 11:56:48+00:00</td>\n",
              "      <td>211.0</td>\n",
              "      <td>42</td>\n",
              "      <td>13846</td>\n",
              "      <td>False</td>\n",
              "      <td>2023-03-29 06:09:44+00:00</td>\n",
              "      <td>@scottmelker I think its not start yet, see th...</td>\n",
              "      <td>['bankencrisis']</td>\n",
              "      <td>Twitter Web App</td>\n",
              "    </tr>\n",
              "    <tr>\n",
              "      <th>3</th>\n",
              "      <td>The Way Of The Superior Men</td>\n",
              "      <td>NaN</td>\n",
              "      <td>I am a young man going through the journey of ...</td>\n",
              "      <td>2022-11-12 09:00:50+00:00</td>\n",
              "      <td>4.0</td>\n",
              "      <td>45</td>\n",
              "      <td>24</td>\n",
              "      <td>False</td>\n",
              "      <td>2023-03-29 06:05:37+00:00</td>\n",
              "      <td>Every single successful person has one thing i...</td>\n",
              "      <td>NaN</td>\n",
              "      <td>Twitter for iPhone</td>\n",
              "    </tr>\n",
              "    <tr>\n",
              "      <th>4</th>\n",
              "      <td>Spiros Margaris</td>\n",
              "      <td>All Over the World</td>\n",
              "      <td>#VC | No. 1 #Fintech @Refinitiv &amp; @Onalytica |...</td>\n",
              "      <td>2014-08-06 05:20:16+00:00</td>\n",
              "      <td>128277.0</td>\n",
              "      <td>21196</td>\n",
              "      <td>232600</td>\n",
              "      <td>True</td>\n",
              "      <td>2023-03-29 06:03:49+00:00</td>\n",
              "      <td>UBS rehires #Ermotti as #CEO \\n\\nto steer #Cre...</td>\n",
              "      <td>['Ermotti', 'CEO', 'CreditSuisse', 'fintech', ...</td>\n",
              "      <td>Buffer</td>\n",
              "    </tr>\n",
              "  </tbody>\n",
              "</table>\n",
              "</div>\n",
              "      <button class=\"colab-df-convert\" onclick=\"convertToInteractive('df-fd370c4c-3b65-43e9-b187-7a2c2f0e7acf')\"\n",
              "              title=\"Convert this dataframe to an interactive table.\"\n",
              "              style=\"display:none;\">\n",
              "        \n",
              "  <svg xmlns=\"http://www.w3.org/2000/svg\" height=\"24px\"viewBox=\"0 0 24 24\"\n",
              "       width=\"24px\">\n",
              "    <path d=\"M0 0h24v24H0V0z\" fill=\"none\"/>\n",
              "    <path d=\"M18.56 5.44l.94 2.06.94-2.06 2.06-.94-2.06-.94-.94-2.06-.94 2.06-2.06.94zm-11 1L8.5 8.5l.94-2.06 2.06-.94-2.06-.94L8.5 2.5l-.94 2.06-2.06.94zm10 10l.94 2.06.94-2.06 2.06-.94-2.06-.94-.94-2.06-.94 2.06-2.06.94z\"/><path d=\"M17.41 7.96l-1.37-1.37c-.4-.4-.92-.59-1.43-.59-.52 0-1.04.2-1.43.59L10.3 9.45l-7.72 7.72c-.78.78-.78 2.05 0 2.83L4 21.41c.39.39.9.59 1.41.59.51 0 1.02-.2 1.41-.59l7.78-7.78 2.81-2.81c.8-.78.8-2.07 0-2.86zM5.41 20L4 18.59l7.72-7.72 1.47 1.35L5.41 20z\"/>\n",
              "  </svg>\n",
              "      </button>\n",
              "      \n",
              "  <style>\n",
              "    .colab-df-container {\n",
              "      display:flex;\n",
              "      flex-wrap:wrap;\n",
              "      gap: 12px;\n",
              "    }\n",
              "\n",
              "    .colab-df-convert {\n",
              "      background-color: #E8F0FE;\n",
              "      border: none;\n",
              "      border-radius: 50%;\n",
              "      cursor: pointer;\n",
              "      display: none;\n",
              "      fill: #1967D2;\n",
              "      height: 32px;\n",
              "      padding: 0 0 0 0;\n",
              "      width: 32px;\n",
              "    }\n",
              "\n",
              "    .colab-df-convert:hover {\n",
              "      background-color: #E2EBFA;\n",
              "      box-shadow: 0px 1px 2px rgba(60, 64, 67, 0.3), 0px 1px 3px 1px rgba(60, 64, 67, 0.15);\n",
              "      fill: #174EA6;\n",
              "    }\n",
              "\n",
              "    [theme=dark] .colab-df-convert {\n",
              "      background-color: #3B4455;\n",
              "      fill: #D2E3FC;\n",
              "    }\n",
              "\n",
              "    [theme=dark] .colab-df-convert:hover {\n",
              "      background-color: #434B5C;\n",
              "      box-shadow: 0px 1px 3px 1px rgba(0, 0, 0, 0.15);\n",
              "      filter: drop-shadow(0px 1px 2px rgba(0, 0, 0, 0.3));\n",
              "      fill: #FFFFFF;\n",
              "    }\n",
              "  </style>\n",
              "\n",
              "      <script>\n",
              "        const buttonEl =\n",
              "          document.querySelector('#df-fd370c4c-3b65-43e9-b187-7a2c2f0e7acf button.colab-df-convert');\n",
              "        buttonEl.style.display =\n",
              "          google.colab.kernel.accessAllowed ? 'block' : 'none';\n",
              "\n",
              "        async function convertToInteractive(key) {\n",
              "          const element = document.querySelector('#df-fd370c4c-3b65-43e9-b187-7a2c2f0e7acf');\n",
              "          const dataTable =\n",
              "            await google.colab.kernel.invokeFunction('convertToInteractive',\n",
              "                                                     [key], {});\n",
              "          if (!dataTable) return;\n",
              "\n",
              "          const docLinkHtml = 'Like what you see? Visit the ' +\n",
              "            '<a target=\"_blank\" href=https://colab.research.google.com/notebooks/data_table.ipynb>data table notebook</a>'\n",
              "            + ' to learn more about interactive tables.';\n",
              "          element.innerHTML = '';\n",
              "          dataTable['output_type'] = 'display_data';\n",
              "          await google.colab.output.renderOutput(dataTable, element);\n",
              "          const docLink = document.createElement('div');\n",
              "          docLink.innerHTML = docLinkHtml;\n",
              "          element.appendChild(docLink);\n",
              "        }\n",
              "      </script>\n",
              "    </div>\n",
              "  </div>\n",
              "  "
            ]
          },
          "metadata": {},
          "execution_count": 17
        }
      ]
    },
    {
      "cell_type": "code",
      "source": [
        "! pip install sketch\n",
        "import sketch\n",
        "import pandas as pd"
      ],
      "metadata": {
        "colab": {
          "base_uri": "https://localhost:8080/"
        },
        "id": "dxupoVrQhH9k",
        "outputId": "6ba59926-c714-46d8-810e-223b5217078d"
      },
      "execution_count": null,
      "outputs": [
        {
          "output_type": "stream",
          "name": "stdout",
          "text": [
            "Looking in indexes: https://pypi.org/simple, https://us-python.pkg.dev/colab-wheels/public/simple/\n",
            "Requirement already satisfied: sketch in /usr/local/lib/python3.10/dist-packages (0.4.2)\n",
            "Requirement already satisfied: pandas>=1.3.0 in /usr/local/lib/python3.10/dist-packages (from sketch) (1.5.3)\n",
            "Requirement already satisfied: datasketch>=1.5.8 in /usr/local/lib/python3.10/dist-packages (from sketch) (1.5.9)\n",
            "Requirement already satisfied: datasketches>=4.0.0 in /usr/local/lib/python3.10/dist-packages (from sketch) (4.1.0)\n",
            "Requirement already satisfied: ipython in /usr/local/lib/python3.10/dist-packages (from sketch) (7.34.0)\n",
            "Requirement already satisfied: lambdaprompt>=0.5.4 in /usr/local/lib/python3.10/dist-packages (from sketch) (0.5.5)\n",
            "Requirement already satisfied: packaging in /usr/local/lib/python3.10/dist-packages (from sketch) (23.1)\n",
            "Requirement already satisfied: numpy>=1.11 in /usr/local/lib/python3.10/dist-packages (from datasketch>=1.5.8->sketch) (1.22.4)\n",
            "Requirement already satisfied: scipy>=1.0.0 in /usr/local/lib/python3.10/dist-packages (from datasketch>=1.5.8->sketch) (1.10.1)\n",
            "Requirement already satisfied: requests in /usr/local/lib/python3.10/dist-packages (from lambdaprompt>=0.5.4->sketch) (2.27.1)\n",
            "Requirement already satisfied: aiohttp in /usr/local/lib/python3.10/dist-packages (from lambdaprompt>=0.5.4->sketch) (3.8.4)\n",
            "Requirement already satisfied: python-dotenv in /usr/local/lib/python3.10/dist-packages (from lambdaprompt>=0.5.4->sketch) (1.0.0)\n",
            "Requirement already satisfied: jinja2 in /usr/local/lib/python3.10/dist-packages (from lambdaprompt>=0.5.4->sketch) (3.1.2)\n",
            "Requirement already satisfied: nest-asyncio in /usr/local/lib/python3.10/dist-packages (from lambdaprompt>=0.5.4->sketch) (1.5.6)\n",
            "Requirement already satisfied: pyyaml in /usr/local/lib/python3.10/dist-packages (from lambdaprompt>=0.5.4->sketch) (6.0)\n",
            "Requirement already satisfied: tenacity in /usr/local/lib/python3.10/dist-packages (from lambdaprompt>=0.5.4->sketch) (8.2.2)\n",
            "Requirement already satisfied: pydantic in /usr/local/lib/python3.10/dist-packages (from lambdaprompt>=0.5.4->sketch) (1.10.7)\n",
            "Requirement already satisfied: python-dateutil>=2.8.1 in /usr/local/lib/python3.10/dist-packages (from pandas>=1.3.0->sketch) (2.8.2)\n",
            "Requirement already satisfied: pytz>=2020.1 in /usr/local/lib/python3.10/dist-packages (from pandas>=1.3.0->sketch) (2022.7.1)\n",
            "Requirement already satisfied: setuptools>=18.5 in /usr/local/lib/python3.10/dist-packages (from ipython->sketch) (67.7.2)\n",
            "Requirement already satisfied: jedi>=0.16 in /usr/local/lib/python3.10/dist-packages (from ipython->sketch) (0.18.2)\n",
            "Requirement already satisfied: decorator in /usr/local/lib/python3.10/dist-packages (from ipython->sketch) (4.4.2)\n",
            "Requirement already satisfied: pickleshare in /usr/local/lib/python3.10/dist-packages (from ipython->sketch) (0.7.5)\n",
            "Requirement already satisfied: traitlets>=4.2 in /usr/local/lib/python3.10/dist-packages (from ipython->sketch) (5.7.1)\n",
            "Requirement already satisfied: prompt-toolkit!=3.0.0,!=3.0.1,<3.1.0,>=2.0.0 in /usr/local/lib/python3.10/dist-packages (from ipython->sketch) (3.0.38)\n",
            "Requirement already satisfied: pygments in /usr/local/lib/python3.10/dist-packages (from ipython->sketch) (2.14.0)\n",
            "Requirement already satisfied: backcall in /usr/local/lib/python3.10/dist-packages (from ipython->sketch) (0.2.0)\n",
            "Requirement already satisfied: matplotlib-inline in /usr/local/lib/python3.10/dist-packages (from ipython->sketch) (0.1.6)\n",
            "Requirement already satisfied: pexpect>4.3 in /usr/local/lib/python3.10/dist-packages (from ipython->sketch) (4.8.0)\n",
            "Requirement already satisfied: parso<0.9.0,>=0.8.0 in /usr/local/lib/python3.10/dist-packages (from jedi>=0.16->ipython->sketch) (0.8.3)\n",
            "Requirement already satisfied: ptyprocess>=0.5 in /usr/local/lib/python3.10/dist-packages (from pexpect>4.3->ipython->sketch) (0.7.0)\n",
            "Requirement already satisfied: wcwidth in /usr/local/lib/python3.10/dist-packages (from prompt-toolkit!=3.0.0,!=3.0.1,<3.1.0,>=2.0.0->ipython->sketch) (0.2.6)\n",
            "Requirement already satisfied: six>=1.5 in /usr/local/lib/python3.10/dist-packages (from python-dateutil>=2.8.1->pandas>=1.3.0->sketch) (1.16.0)\n",
            "Requirement already satisfied: attrs>=17.3.0 in /usr/local/lib/python3.10/dist-packages (from aiohttp->lambdaprompt>=0.5.4->sketch) (23.1.0)\n",
            "Requirement already satisfied: charset-normalizer<4.0,>=2.0 in /usr/local/lib/python3.10/dist-packages (from aiohttp->lambdaprompt>=0.5.4->sketch) (2.0.12)\n",
            "Requirement already satisfied: multidict<7.0,>=4.5 in /usr/local/lib/python3.10/dist-packages (from aiohttp->lambdaprompt>=0.5.4->sketch) (6.0.4)\n",
            "Requirement already satisfied: async-timeout<5.0,>=4.0.0a3 in /usr/local/lib/python3.10/dist-packages (from aiohttp->lambdaprompt>=0.5.4->sketch) (4.0.2)\n",
            "Requirement already satisfied: yarl<2.0,>=1.0 in /usr/local/lib/python3.10/dist-packages (from aiohttp->lambdaprompt>=0.5.4->sketch) (1.9.2)\n",
            "Requirement already satisfied: frozenlist>=1.1.1 in /usr/local/lib/python3.10/dist-packages (from aiohttp->lambdaprompt>=0.5.4->sketch) (1.3.3)\n",
            "Requirement already satisfied: aiosignal>=1.1.2 in /usr/local/lib/python3.10/dist-packages (from aiohttp->lambdaprompt>=0.5.4->sketch) (1.3.1)\n",
            "Requirement already satisfied: MarkupSafe>=2.0 in /usr/local/lib/python3.10/dist-packages (from jinja2->lambdaprompt>=0.5.4->sketch) (2.1.2)\n",
            "Requirement already satisfied: typing-extensions>=4.2.0 in /usr/local/lib/python3.10/dist-packages (from pydantic->lambdaprompt>=0.5.4->sketch) (4.5.0)\n",
            "Requirement already satisfied: urllib3<1.27,>=1.21.1 in /usr/local/lib/python3.10/dist-packages (from requests->lambdaprompt>=0.5.4->sketch) (1.26.15)\n",
            "Requirement already satisfied: certifi>=2017.4.17 in /usr/local/lib/python3.10/dist-packages (from requests->lambdaprompt>=0.5.4->sketch) (2022.12.7)\n",
            "Requirement already satisfied: idna<4,>=2.5 in /usr/local/lib/python3.10/dist-packages (from requests->lambdaprompt>=0.5.4->sketch) (3.4)\n"
          ]
        }
      ]
    },
    {
      "cell_type": "code",
      "source": [
        "data.sketch.ask('Опиши датасет')"
      ],
      "metadata": {
        "colab": {
          "base_uri": "https://localhost:8080/",
          "height": 121
        },
        "id": "hF71oB4shQwL",
        "outputId": "4dcb4c8d-7a5f-4e44-ea3d-4cf967487322"
      },
      "execution_count": null,
      "outputs": [
        {
          "output_type": "display_data",
          "data": {
            "text/plain": [
              "<IPython.core.display.HTML object>"
            ],
            "text/html": [
              "\n",
              "Data is a pandas dataframe containing 14090 rows and 11 columns. The columns are 'index', 'user_name', 'user_location', 'user_description', 'user_created', 'user_followers', 'user_friends', 'user_favourites', 'user_verified', 'date', 'text', 'hashtags' and 'source'. The types of the columns are int64, object, float64, object, object, float64, object, object, object, object, object and object respectively. The index column is not unique and contains 14090 rows. The user_name column has 6948 unique values, the user_location column has 2512 unique values, the user_description column has 6509 unique values, the user_created column has 6983 unique values, the user_followers column has 3578 unique values, the user_friends column has 2577 unique values, the user_favourites column has 5009 unique values, the user_verified column has 4 unique values, the date column has 13628 unique values, the text column has 13863 unique values and the source column has 150 unique values. The head sample for each of these columns is provided in the summary statistics. The quantiles for the index column are 0.0, 3522.25, 7044.5, 10566.75 and 14089.0."
            ]
          },
          "metadata": {}
        }
      ]
    },
    {
      "cell_type": "code",
      "source": [
        "data.sketch.ask('describe the dataset!')"
      ],
      "metadata": {
        "colab": {
          "base_uri": "https://localhost:8080/",
          "height": 69
        },
        "id": "fzCbDEJcmRwi",
        "outputId": "30126398-50f8-443b-ffb2-7b016ec7ef75"
      },
      "execution_count": null,
      "outputs": [
        {
          "output_type": "display_data",
          "data": {
            "text/plain": [
              "<IPython.core.display.HTML object>"
            ],
            "text/html": [
              "\n",
              "This dataset contains 14090 rows and 10 columns of data about Twitter users. The columns include user_name, user_location, user_description, user_created, user_followers, user_friends, user_favourites, user_verified, date, text, hashtags and source. The data types of the columns are int64, object, float64 and object respectively. There are 6948 unique user names, 2512 unique locations, 6509 unique descriptions, 6983 unique created dates, 3578 unique followers counts, 2577 unique friends counts, 5009 unique favourites counts, 4 unique verified statuses, 13628 unique dates and 13863 unique texts. The head sample of the index column is ['0', '1', '2', '3', '4'] and the quantiles are [0.0, 3522.25, 7044.5, 10566.75, 14089.0]."
            ]
          },
          "metadata": {}
        }
      ]
    },
    {
      "cell_type": "code",
      "source": [
        "data.shape"
      ],
      "metadata": {
        "colab": {
          "base_uri": "https://localhost:8080/"
        },
        "id": "t1p4nRZfhkPq",
        "outputId": "2bdba953-8532-42c6-cf25-9534243c2919"
      },
      "execution_count": null,
      "outputs": [
        {
          "output_type": "execute_result",
          "data": {
            "text/plain": [
              "(14090, 12)"
            ]
          },
          "metadata": {},
          "execution_count": 7
        }
      ]
    },
    {
      "cell_type": "code",
      "source": [
        "print (data.columns)"
      ],
      "metadata": {
        "colab": {
          "base_uri": "https://localhost:8080/"
        },
        "id": "CYyKhjPWjdhw",
        "outputId": "728c4790-a6fa-4ac4-c267-9c09a362ecb4"
      },
      "execution_count": null,
      "outputs": [
        {
          "output_type": "stream",
          "name": "stdout",
          "text": [
            "Index(['user_name', 'user_location', 'user_description', 'user_created',\n",
            "       'user_followers', 'user_friends', 'user_favourites', 'user_verified',\n",
            "       'date', 'text', 'hashtags', 'source'],\n",
            "      dtype='object')\n"
          ]
        }
      ]
    },
    {
      "cell_type": "code",
      "source": [
        "data.head()"
      ],
      "metadata": {
        "colab": {
          "base_uri": "https://localhost:8080/",
          "height": 548
        },
        "id": "kWHA4Ze9hotU",
        "outputId": "a42c0a20-021b-4a1f-d2c1-8fac4c4659e6"
      },
      "execution_count": null,
      "outputs": [
        {
          "output_type": "execute_result",
          "data": {
            "text/plain": [
              "                     user_name       user_location  \\\n",
              "0               Business Today               India   \n",
              "1                     BQ Prime       Mumbai, India   \n",
              "2                  A Trader...               Earth   \n",
              "3  The Way Of The Superior Men                 NaN   \n",
              "4              Spiros Margaris  All Over the World   \n",
              "\n",
              "                                    user_description  \\\n",
              "0  News, analysis & immersives from #BTMultiverse...   \n",
              "1  #BQPrime is amongst #India’s youngest and most...   \n",
              "2  I trade fear and desire with love and passion ...   \n",
              "3  I am a young man going through the journey of ...   \n",
              "4  #VC | No. 1 #Fintech @Refinitiv & @Onalytica |...   \n",
              "\n",
              "                user_created  user_followers user_friends user_favourites  \\\n",
              "0  2010-06-30 14:55:57+00:00       1165920.0          421            2106   \n",
              "1  2016-03-29 08:30:59+00:00        299228.0          125              53   \n",
              "2  2021-09-09 11:56:48+00:00           211.0           42           13846   \n",
              "3  2022-11-12 09:00:50+00:00             4.0           45              24   \n",
              "4  2014-08-06 05:20:16+00:00        128277.0        21196          232600   \n",
              "\n",
              "  user_verified                       date  \\\n",
              "0          True  2023-03-29 06:11:39+00:00   \n",
              "1          True  2023-03-29 06:11:32+00:00   \n",
              "2         False  2023-03-29 06:09:44+00:00   \n",
              "3         False  2023-03-29 06:05:37+00:00   \n",
              "4          True  2023-03-29 06:03:49+00:00   \n",
              "\n",
              "                                                text  \\\n",
              "0  UBS Group AG has rehired Sergio Ermotti as CEO...   \n",
              "1  #UBS names #SergioErmotti as its CEO, replacin...   \n",
              "2  @scottmelker I think its not start yet, see th...   \n",
              "3  Every single successful person has one thing i...   \n",
              "4  UBS rehires #Ermotti as #CEO \\n\\nto steer #Cre...   \n",
              "\n",
              "                                            hashtags              source  \n",
              "0                                                NaN     Twitter Web App  \n",
              "1                           ['UBS', 'SergioErmotti']     Twitter Web App  \n",
              "2                                   ['bankencrisis']     Twitter Web App  \n",
              "3                                                NaN  Twitter for iPhone  \n",
              "4  ['Ermotti', 'CEO', 'CreditSuisse', 'fintech', ...              Buffer  "
            ],
            "text/html": [
              "\n",
              "  <div id=\"df-8d0192e6-6722-40a3-b4b3-e7aa86ed3680\">\n",
              "    <div class=\"colab-df-container\">\n",
              "      <div>\n",
              "<style scoped>\n",
              "    .dataframe tbody tr th:only-of-type {\n",
              "        vertical-align: middle;\n",
              "    }\n",
              "\n",
              "    .dataframe tbody tr th {\n",
              "        vertical-align: top;\n",
              "    }\n",
              "\n",
              "    .dataframe thead th {\n",
              "        text-align: right;\n",
              "    }\n",
              "</style>\n",
              "<table border=\"1\" class=\"dataframe\">\n",
              "  <thead>\n",
              "    <tr style=\"text-align: right;\">\n",
              "      <th></th>\n",
              "      <th>user_name</th>\n",
              "      <th>user_location</th>\n",
              "      <th>user_description</th>\n",
              "      <th>user_created</th>\n",
              "      <th>user_followers</th>\n",
              "      <th>user_friends</th>\n",
              "      <th>user_favourites</th>\n",
              "      <th>user_verified</th>\n",
              "      <th>date</th>\n",
              "      <th>text</th>\n",
              "      <th>hashtags</th>\n",
              "      <th>source</th>\n",
              "    </tr>\n",
              "  </thead>\n",
              "  <tbody>\n",
              "    <tr>\n",
              "      <th>0</th>\n",
              "      <td>Business Today</td>\n",
              "      <td>India</td>\n",
              "      <td>News, analysis &amp; immersives from #BTMultiverse...</td>\n",
              "      <td>2010-06-30 14:55:57+00:00</td>\n",
              "      <td>1165920.0</td>\n",
              "      <td>421</td>\n",
              "      <td>2106</td>\n",
              "      <td>True</td>\n",
              "      <td>2023-03-29 06:11:39+00:00</td>\n",
              "      <td>UBS Group AG has rehired Sergio Ermotti as CEO...</td>\n",
              "      <td>NaN</td>\n",
              "      <td>Twitter Web App</td>\n",
              "    </tr>\n",
              "    <tr>\n",
              "      <th>1</th>\n",
              "      <td>BQ Prime</td>\n",
              "      <td>Mumbai, India</td>\n",
              "      <td>#BQPrime is amongst #India’s youngest and most...</td>\n",
              "      <td>2016-03-29 08:30:59+00:00</td>\n",
              "      <td>299228.0</td>\n",
              "      <td>125</td>\n",
              "      <td>53</td>\n",
              "      <td>True</td>\n",
              "      <td>2023-03-29 06:11:32+00:00</td>\n",
              "      <td>#UBS names #SergioErmotti as its CEO, replacin...</td>\n",
              "      <td>['UBS', 'SergioErmotti']</td>\n",
              "      <td>Twitter Web App</td>\n",
              "    </tr>\n",
              "    <tr>\n",
              "      <th>2</th>\n",
              "      <td>A Trader...</td>\n",
              "      <td>Earth</td>\n",
              "      <td>I trade fear and desire with love and passion ...</td>\n",
              "      <td>2021-09-09 11:56:48+00:00</td>\n",
              "      <td>211.0</td>\n",
              "      <td>42</td>\n",
              "      <td>13846</td>\n",
              "      <td>False</td>\n",
              "      <td>2023-03-29 06:09:44+00:00</td>\n",
              "      <td>@scottmelker I think its not start yet, see th...</td>\n",
              "      <td>['bankencrisis']</td>\n",
              "      <td>Twitter Web App</td>\n",
              "    </tr>\n",
              "    <tr>\n",
              "      <th>3</th>\n",
              "      <td>The Way Of The Superior Men</td>\n",
              "      <td>NaN</td>\n",
              "      <td>I am a young man going through the journey of ...</td>\n",
              "      <td>2022-11-12 09:00:50+00:00</td>\n",
              "      <td>4.0</td>\n",
              "      <td>45</td>\n",
              "      <td>24</td>\n",
              "      <td>False</td>\n",
              "      <td>2023-03-29 06:05:37+00:00</td>\n",
              "      <td>Every single successful person has one thing i...</td>\n",
              "      <td>NaN</td>\n",
              "      <td>Twitter for iPhone</td>\n",
              "    </tr>\n",
              "    <tr>\n",
              "      <th>4</th>\n",
              "      <td>Spiros Margaris</td>\n",
              "      <td>All Over the World</td>\n",
              "      <td>#VC | No. 1 #Fintech @Refinitiv &amp; @Onalytica |...</td>\n",
              "      <td>2014-08-06 05:20:16+00:00</td>\n",
              "      <td>128277.0</td>\n",
              "      <td>21196</td>\n",
              "      <td>232600</td>\n",
              "      <td>True</td>\n",
              "      <td>2023-03-29 06:03:49+00:00</td>\n",
              "      <td>UBS rehires #Ermotti as #CEO \\n\\nto steer #Cre...</td>\n",
              "      <td>['Ermotti', 'CEO', 'CreditSuisse', 'fintech', ...</td>\n",
              "      <td>Buffer</td>\n",
              "    </tr>\n",
              "  </tbody>\n",
              "</table>\n",
              "</div>\n",
              "      <button class=\"colab-df-convert\" onclick=\"convertToInteractive('df-8d0192e6-6722-40a3-b4b3-e7aa86ed3680')\"\n",
              "              title=\"Convert this dataframe to an interactive table.\"\n",
              "              style=\"display:none;\">\n",
              "        \n",
              "  <svg xmlns=\"http://www.w3.org/2000/svg\" height=\"24px\"viewBox=\"0 0 24 24\"\n",
              "       width=\"24px\">\n",
              "    <path d=\"M0 0h24v24H0V0z\" fill=\"none\"/>\n",
              "    <path d=\"M18.56 5.44l.94 2.06.94-2.06 2.06-.94-2.06-.94-.94-2.06-.94 2.06-2.06.94zm-11 1L8.5 8.5l.94-2.06 2.06-.94-2.06-.94L8.5 2.5l-.94 2.06-2.06.94zm10 10l.94 2.06.94-2.06 2.06-.94-2.06-.94-.94-2.06-.94 2.06-2.06.94z\"/><path d=\"M17.41 7.96l-1.37-1.37c-.4-.4-.92-.59-1.43-.59-.52 0-1.04.2-1.43.59L10.3 9.45l-7.72 7.72c-.78.78-.78 2.05 0 2.83L4 21.41c.39.39.9.59 1.41.59.51 0 1.02-.2 1.41-.59l7.78-7.78 2.81-2.81c.8-.78.8-2.07 0-2.86zM5.41 20L4 18.59l7.72-7.72 1.47 1.35L5.41 20z\"/>\n",
              "  </svg>\n",
              "      </button>\n",
              "      \n",
              "  <style>\n",
              "    .colab-df-container {\n",
              "      display:flex;\n",
              "      flex-wrap:wrap;\n",
              "      gap: 12px;\n",
              "    }\n",
              "\n",
              "    .colab-df-convert {\n",
              "      background-color: #E8F0FE;\n",
              "      border: none;\n",
              "      border-radius: 50%;\n",
              "      cursor: pointer;\n",
              "      display: none;\n",
              "      fill: #1967D2;\n",
              "      height: 32px;\n",
              "      padding: 0 0 0 0;\n",
              "      width: 32px;\n",
              "    }\n",
              "\n",
              "    .colab-df-convert:hover {\n",
              "      background-color: #E2EBFA;\n",
              "      box-shadow: 0px 1px 2px rgba(60, 64, 67, 0.3), 0px 1px 3px 1px rgba(60, 64, 67, 0.15);\n",
              "      fill: #174EA6;\n",
              "    }\n",
              "\n",
              "    [theme=dark] .colab-df-convert {\n",
              "      background-color: #3B4455;\n",
              "      fill: #D2E3FC;\n",
              "    }\n",
              "\n",
              "    [theme=dark] .colab-df-convert:hover {\n",
              "      background-color: #434B5C;\n",
              "      box-shadow: 0px 1px 3px 1px rgba(0, 0, 0, 0.15);\n",
              "      filter: drop-shadow(0px 1px 2px rgba(0, 0, 0, 0.3));\n",
              "      fill: #FFFFFF;\n",
              "    }\n",
              "  </style>\n",
              "\n",
              "      <script>\n",
              "        const buttonEl =\n",
              "          document.querySelector('#df-8d0192e6-6722-40a3-b4b3-e7aa86ed3680 button.colab-df-convert');\n",
              "        buttonEl.style.display =\n",
              "          google.colab.kernel.accessAllowed ? 'block' : 'none';\n",
              "\n",
              "        async function convertToInteractive(key) {\n",
              "          const element = document.querySelector('#df-8d0192e6-6722-40a3-b4b3-e7aa86ed3680');\n",
              "          const dataTable =\n",
              "            await google.colab.kernel.invokeFunction('convertToInteractive',\n",
              "                                                     [key], {});\n",
              "          if (!dataTable) return;\n",
              "\n",
              "          const docLinkHtml = 'Like what you see? Visit the ' +\n",
              "            '<a target=\"_blank\" href=https://colab.research.google.com/notebooks/data_table.ipynb>data table notebook</a>'\n",
              "            + ' to learn more about interactive tables.';\n",
              "          element.innerHTML = '';\n",
              "          dataTable['output_type'] = 'display_data';\n",
              "          await google.colab.output.renderOutput(dataTable, element);\n",
              "          const docLink = document.createElement('div');\n",
              "          docLink.innerHTML = docLinkHtml;\n",
              "          element.appendChild(docLink);\n",
              "        }\n",
              "      </script>\n",
              "    </div>\n",
              "  </div>\n",
              "  "
            ]
          },
          "metadata": {},
          "execution_count": 8
        }
      ]
    },
    {
      "cell_type": "code",
      "source": [
        "data.sketch.howto('describe the dataset')"
      ],
      "metadata": {
        "id": "Cm__fQeNhY3q",
        "colab": {
          "base_uri": "https://localhost:8080/",
          "height": 52
        },
        "outputId": "8a88d2b8-a7e4-4a53-bbd5-1d29b5c4d2c4"
      },
      "execution_count": null,
      "outputs": [
        {
          "output_type": "display_data",
          "data": {
            "text/plain": [
              "<IPython.core.display.HTML object>"
            ],
            "text/html": [
              "<div style=\"display:flex;flex-direction:row;justify-content:space-between;\">\n",
              "                <pre style=\"width: 100%; white-space: pre-wrap;\" id=\"cd6e372d-a52d-4980-b5cc-66e2093eb615\">\n",
              "# Get summary statistics and descriptive data of dataframe\n",
              "data.describe()\n",
              "</pre>\n",
              "                <button style=\"height: fit-content;\" onclick=\"navigator.clipboard.writeText(JSON.parse(atob(`IlxuIyBHZXQgc3VtbWFyeSBzdGF0aXN0aWNzIGFuZCBkZXNjcmlwdGl2ZSBkYXRhIG9mIGRhdGFmcmFtZVxuZGF0YS5kZXNjcmliZSgpXG4i`)))\">Copy</button>\n",
              "                </div>"
            ]
          },
          "metadata": {}
        }
      ]
    },
    {
      "cell_type": "code",
      "source": [
        "data.describe()"
      ],
      "metadata": {
        "colab": {
          "base_uri": "https://localhost:8080/",
          "height": 300
        },
        "id": "FVp5sEr5ojFi",
        "outputId": "8aa394d9-178d-45fe-fdf7-b39fc2a00a7b"
      },
      "execution_count": null,
      "outputs": [
        {
          "output_type": "execute_result",
          "data": {
            "text/plain": [
              "       user_followers\n",
              "count    1.408900e+04\n",
              "mean     4.859870e+04\n",
              "std      4.607840e+05\n",
              "min      0.000000e+00\n",
              "25%      9.200000e+01\n",
              "50%      5.250000e+02\n",
              "75%      2.390000e+03\n",
              "max      1.468577e+07"
            ],
            "text/html": [
              "\n",
              "  <div id=\"df-7cb40fae-0dfd-4201-a315-7f55eb477b5d\">\n",
              "    <div class=\"colab-df-container\">\n",
              "      <div>\n",
              "<style scoped>\n",
              "    .dataframe tbody tr th:only-of-type {\n",
              "        vertical-align: middle;\n",
              "    }\n",
              "\n",
              "    .dataframe tbody tr th {\n",
              "        vertical-align: top;\n",
              "    }\n",
              "\n",
              "    .dataframe thead th {\n",
              "        text-align: right;\n",
              "    }\n",
              "</style>\n",
              "<table border=\"1\" class=\"dataframe\">\n",
              "  <thead>\n",
              "    <tr style=\"text-align: right;\">\n",
              "      <th></th>\n",
              "      <th>user_followers</th>\n",
              "    </tr>\n",
              "  </thead>\n",
              "  <tbody>\n",
              "    <tr>\n",
              "      <th>count</th>\n",
              "      <td>1.408900e+04</td>\n",
              "    </tr>\n",
              "    <tr>\n",
              "      <th>mean</th>\n",
              "      <td>4.859870e+04</td>\n",
              "    </tr>\n",
              "    <tr>\n",
              "      <th>std</th>\n",
              "      <td>4.607840e+05</td>\n",
              "    </tr>\n",
              "    <tr>\n",
              "      <th>min</th>\n",
              "      <td>0.000000e+00</td>\n",
              "    </tr>\n",
              "    <tr>\n",
              "      <th>25%</th>\n",
              "      <td>9.200000e+01</td>\n",
              "    </tr>\n",
              "    <tr>\n",
              "      <th>50%</th>\n",
              "      <td>5.250000e+02</td>\n",
              "    </tr>\n",
              "    <tr>\n",
              "      <th>75%</th>\n",
              "      <td>2.390000e+03</td>\n",
              "    </tr>\n",
              "    <tr>\n",
              "      <th>max</th>\n",
              "      <td>1.468577e+07</td>\n",
              "    </tr>\n",
              "  </tbody>\n",
              "</table>\n",
              "</div>\n",
              "      <button class=\"colab-df-convert\" onclick=\"convertToInteractive('df-7cb40fae-0dfd-4201-a315-7f55eb477b5d')\"\n",
              "              title=\"Convert this dataframe to an interactive table.\"\n",
              "              style=\"display:none;\">\n",
              "        \n",
              "  <svg xmlns=\"http://www.w3.org/2000/svg\" height=\"24px\"viewBox=\"0 0 24 24\"\n",
              "       width=\"24px\">\n",
              "    <path d=\"M0 0h24v24H0V0z\" fill=\"none\"/>\n",
              "    <path d=\"M18.56 5.44l.94 2.06.94-2.06 2.06-.94-2.06-.94-.94-2.06-.94 2.06-2.06.94zm-11 1L8.5 8.5l.94-2.06 2.06-.94-2.06-.94L8.5 2.5l-.94 2.06-2.06.94zm10 10l.94 2.06.94-2.06 2.06-.94-2.06-.94-.94-2.06-.94 2.06-2.06.94z\"/><path d=\"M17.41 7.96l-1.37-1.37c-.4-.4-.92-.59-1.43-.59-.52 0-1.04.2-1.43.59L10.3 9.45l-7.72 7.72c-.78.78-.78 2.05 0 2.83L4 21.41c.39.39.9.59 1.41.59.51 0 1.02-.2 1.41-.59l7.78-7.78 2.81-2.81c.8-.78.8-2.07 0-2.86zM5.41 20L4 18.59l7.72-7.72 1.47 1.35L5.41 20z\"/>\n",
              "  </svg>\n",
              "      </button>\n",
              "      \n",
              "  <style>\n",
              "    .colab-df-container {\n",
              "      display:flex;\n",
              "      flex-wrap:wrap;\n",
              "      gap: 12px;\n",
              "    }\n",
              "\n",
              "    .colab-df-convert {\n",
              "      background-color: #E8F0FE;\n",
              "      border: none;\n",
              "      border-radius: 50%;\n",
              "      cursor: pointer;\n",
              "      display: none;\n",
              "      fill: #1967D2;\n",
              "      height: 32px;\n",
              "      padding: 0 0 0 0;\n",
              "      width: 32px;\n",
              "    }\n",
              "\n",
              "    .colab-df-convert:hover {\n",
              "      background-color: #E2EBFA;\n",
              "      box-shadow: 0px 1px 2px rgba(60, 64, 67, 0.3), 0px 1px 3px 1px rgba(60, 64, 67, 0.15);\n",
              "      fill: #174EA6;\n",
              "    }\n",
              "\n",
              "    [theme=dark] .colab-df-convert {\n",
              "      background-color: #3B4455;\n",
              "      fill: #D2E3FC;\n",
              "    }\n",
              "\n",
              "    [theme=dark] .colab-df-convert:hover {\n",
              "      background-color: #434B5C;\n",
              "      box-shadow: 0px 1px 3px 1px rgba(0, 0, 0, 0.15);\n",
              "      filter: drop-shadow(0px 1px 2px rgba(0, 0, 0, 0.3));\n",
              "      fill: #FFFFFF;\n",
              "    }\n",
              "  </style>\n",
              "\n",
              "      <script>\n",
              "        const buttonEl =\n",
              "          document.querySelector('#df-7cb40fae-0dfd-4201-a315-7f55eb477b5d button.colab-df-convert');\n",
              "        buttonEl.style.display =\n",
              "          google.colab.kernel.accessAllowed ? 'block' : 'none';\n",
              "\n",
              "        async function convertToInteractive(key) {\n",
              "          const element = document.querySelector('#df-7cb40fae-0dfd-4201-a315-7f55eb477b5d');\n",
              "          const dataTable =\n",
              "            await google.colab.kernel.invokeFunction('convertToInteractive',\n",
              "                                                     [key], {});\n",
              "          if (!dataTable) return;\n",
              "\n",
              "          const docLinkHtml = 'Like what you see? Visit the ' +\n",
              "            '<a target=\"_blank\" href=https://colab.research.google.com/notebooks/data_table.ipynb>data table notebook</a>'\n",
              "            + ' to learn more about interactive tables.';\n",
              "          element.innerHTML = '';\n",
              "          dataTable['output_type'] = 'display_data';\n",
              "          await google.colab.output.renderOutput(dataTable, element);\n",
              "          const docLink = document.createElement('div');\n",
              "          docLink.innerHTML = docLinkHtml;\n",
              "          element.appendChild(docLink);\n",
              "        }\n",
              "      </script>\n",
              "    </div>\n",
              "  </div>\n",
              "  "
            ]
          },
          "metadata": {},
          "execution_count": 23
        }
      ]
    },
    {
      "cell_type": "code",
      "source": [
        "data.sketch.howto('описать датасет')"
      ],
      "metadata": {
        "colab": {
          "base_uri": "https://localhost:8080/",
          "height": 468
        },
        "id": "fMA2nIK2nZ_R",
        "outputId": "b5e00fb9-e6fd-460b-85a4-7923d920eaee"
      },
      "execution_count": null,
      "outputs": [
        {
          "output_type": "display_data",
          "data": {
            "text/plain": [
              "<IPython.core.display.HTML object>"
            ],
            "text/html": [
              "<div style=\"display:flex;flex-direction:row;justify-content:space-between;\">\n",
              "                <pre style=\"width: 100%; white-space: pre-wrap;\" id=\"54c5d84e-ce2c-4e87-8058-3e5a31bf0af5\">\n",
              "# Get summary statistics and descriptive data of dataframe\n",
              "data.describe()\n",
              "\n",
              "# Get column names\n",
              "data.columns\n",
              "\n",
              "# Get data type of each column\n",
              "data.dtypes\n",
              "\n",
              "# Get index of dataframe\n",
              "data.index\n",
              "\n",
              "# Get number of rows in dataframe\n",
              "len(data)\n",
              "\n",
              "# Get count of each column\n",
              "data.count()\n",
              "\n",
              "# Get unique count of each column\n",
              "data.nunique()\n",
              "\n",
              "# Get sample of first 5 rows of each column \n",
              "data.head()\n",
              "\n",
              "# Get quantiles of each column \n",
              "data.quantile([0, 0.25, 0.5, 0.75, 1])</pre>\n",
              "                <button style=\"height: fit-content;\" onclick=\"navigator.clipboard.writeText(JSON.parse(atob(`IlxuIyBHZXQgc3VtbWFyeSBzdGF0aXN0aWNzIGFuZCBkZXNjcmlwdGl2ZSBkYXRhIG9mIGRhdGFmcmFtZVxuZGF0YS5kZXNjcmliZSgpXG5cbiMgR2V0IGNvbHVtbiBuYW1lc1xuZGF0YS5jb2x1bW5zXG5cbiMgR2V0IGRhdGEgdHlwZSBvZiBlYWNoIGNvbHVtblxuZGF0YS5kdHlwZXNcblxuIyBHZXQgaW5kZXggb2YgZGF0YWZyYW1lXG5kYXRhLmluZGV4XG5cbiMgR2V0IG51bWJlciBvZiByb3dzIGluIGRhdGFmcmFtZVxubGVuKGRhdGEpXG5cbiMgR2V0IGNvdW50IG9mIGVhY2ggY29sdW1uXG5kYXRhLmNvdW50KClcblxuIyBHZXQgdW5pcXVlIGNvdW50IG9mIGVhY2ggY29sdW1uXG5kYXRhLm51bmlxdWUoKVxuXG4jIEdldCBzYW1wbGUgb2YgZmlyc3QgNSByb3dzIG9mIGVhY2ggY29sdW1uIFxuZGF0YS5oZWFkKClcblxuIyBHZXQgcXVhbnRpbGVzIG9mIGVhY2ggY29sdW1uIFxuZGF0YS5xdWFudGlsZShbMCwgMC4yNSwgMC41LCAwLjc1LCAxXSki`)))\">Copy</button>\n",
              "                </div>"
            ]
          },
          "metadata": {}
        }
      ]
    },
    {
      "cell_type": "code",
      "source": [
        "data.sketch.howto('описать датасет, перечислить колонки и их типы, вывести размеры датасета')"
      ],
      "metadata": {
        "colab": {
          "base_uri": "https://localhost:8080/",
          "height": 156
        },
        "id": "FapHJtJpnc9t",
        "outputId": "9a3cd468-df69-45dd-f07c-4ce479cbdd5a"
      },
      "execution_count": null,
      "outputs": [
        {
          "output_type": "display_data",
          "data": {
            "text/plain": [
              "<IPython.core.display.HTML object>"
            ],
            "text/html": [
              "<div style=\"display:flex;flex-direction:row;justify-content:space-between;\">\n",
              "                <pre style=\"width: 100%; white-space: pre-wrap;\" id=\"259038cd-61ba-447e-b31b-f8c11c1cfe49\">\n",
              "# Print the column names and types of the dataframe\n",
              "print(data.dtypes)\n",
              "\n",
              "# Print the shape of the dataframe\n",
              "print(data.shape)\n",
              "\n",
              "# Print summary statistics of the dataframe\n",
              "print(data.describe())\n",
              "</pre>\n",
              "                <button style=\"height: fit-content;\" onclick=\"navigator.clipboard.writeText(JSON.parse(atob(`IlxuIyBQcmludCB0aGUgY29sdW1uIG5hbWVzIGFuZCB0eXBlcyBvZiB0aGUgZGF0YWZyYW1lXG5wcmludChkYXRhLmR0eXBlcylcblxuIyBQcmludCB0aGUgc2hhcGUgb2YgdGhlIGRhdGFmcmFtZVxucHJpbnQoZGF0YS5zaGFwZSlcblxuIyBQcmludCBzdW1tYXJ5IHN0YXRpc3RpY3Mgb2YgdGhlIGRhdGFmcmFtZVxucHJpbnQoZGF0YS5kZXNjcmliZSgpKVxuIg==`)))\">Copy</button>\n",
              "                </div>"
            ]
          },
          "metadata": {}
        }
      ]
    },
    {
      "cell_type": "code",
      "source": [
        "data.sketch.howto('checking duplicate values if any')"
      ],
      "metadata": {
        "colab": {
          "base_uri": "https://localhost:8080/",
          "height": 104
        },
        "id": "TkIeJ6uIpIGs",
        "outputId": "ba8a1877-fba7-4079-d0b8-1e44503d1533"
      },
      "execution_count": null,
      "outputs": [
        {
          "output_type": "display_data",
          "data": {
            "text/plain": [
              "<IPython.core.display.HTML object>"
            ],
            "text/html": [
              "<div style=\"display:flex;flex-direction:row;justify-content:space-between;\">\n",
              "                <pre style=\"width: 100%; white-space: pre-wrap;\" id=\"639e8ef2-3c93-4b86-a1e4-76cc79547ffa\">\n",
              "# Check for duplicate values\n",
              "duplicate_values = data[data.duplicated()]\n",
              "\n",
              "# Print the duplicate values\n",
              "print(duplicate_values)\n",
              "</pre>\n",
              "                <button style=\"height: fit-content;\" onclick=\"navigator.clipboard.writeText(JSON.parse(atob(`IlxuIyBDaGVjayBmb3IgZHVwbGljYXRlIHZhbHVlc1xuZHVwbGljYXRlX3ZhbHVlcyA9IGRhdGFbZGF0YS5kdXBsaWNhdGVkKCldXG5cbiMgUHJpbnQgdGhlIGR1cGxpY2F0ZSB2YWx1ZXNcbnByaW50KGR1cGxpY2F0ZV92YWx1ZXMpXG4i`)))\">Copy</button>\n",
              "                </div>"
            ]
          },
          "metadata": {}
        }
      ]
    },
    {
      "cell_type": "code",
      "source": [
        "# Check for duplicate values\n",
        "duplicate_values = data[data.duplicated()]\n",
        "\n",
        "# Print the duplicate values\n",
        "print(duplicate_values)"
      ],
      "metadata": {
        "colab": {
          "base_uri": "https://localhost:8080/"
        },
        "id": "7bP0yDBsplnI",
        "outputId": "bdee4dbd-4353-462b-84d4-fbe503b5d9ff"
      },
      "execution_count": null,
      "outputs": [
        {
          "output_type": "stream",
          "name": "stdout",
          "text": [
            "Empty DataFrame\n",
            "Columns: [user_name, user_location, user_description, user_created, user_followers, user_friends, user_favourites, user_verified, date, text, hashtags, source]\n",
            "Index: []\n"
          ]
        }
      ]
    },
    {
      "cell_type": "code",
      "source": [
        "data.sketch.howto('checking missing values if any')"
      ],
      "metadata": {
        "colab": {
          "base_uri": "https://localhost:8080/",
          "height": 52
        },
        "id": "mfC6wcdIpwVN",
        "outputId": "ae29592a-2c73-41fa-a441-67caa3d3b7ed"
      },
      "execution_count": null,
      "outputs": [
        {
          "output_type": "display_data",
          "data": {
            "text/plain": [
              "<IPython.core.display.HTML object>"
            ],
            "text/html": [
              "<div style=\"display:flex;flex-direction:row;justify-content:space-between;\">\n",
              "                <pre style=\"width: 100%; white-space: pre-wrap;\" id=\"5a255b64-30da-4e8f-a50d-3ffeeb6ba7f9\">\n",
              "# Check for missing values in the dataframe\n",
              "data.isnull().sum()\n",
              "</pre>\n",
              "                <button style=\"height: fit-content;\" onclick=\"navigator.clipboard.writeText(JSON.parse(atob(`IlxuIyBDaGVjayBmb3IgbWlzc2luZyB2YWx1ZXMgaW4gdGhlIGRhdGFmcmFtZVxuZGF0YS5pc251bGwoKS5zdW0oKVxuIg==`)))\">Copy</button>\n",
              "                </div>"
            ]
          },
          "metadata": {}
        }
      ]
    },
    {
      "cell_type": "code",
      "source": [
        "data.sketch.howto('выведи в каждой колонке число пропущенных значений')"
      ],
      "metadata": {
        "colab": {
          "base_uri": "https://localhost:8080/",
          "height": 69
        },
        "id": "L2En7foRqm_m",
        "outputId": "07a560f1-ccb2-496c-8d39-3006894aaaf9"
      },
      "execution_count": null,
      "outputs": [
        {
          "output_type": "display_data",
          "data": {
            "text/plain": [
              "<IPython.core.display.HTML object>"
            ],
            "text/html": [
              "<div style=\"display:flex;flex-direction:row;justify-content:space-between;\">\n",
              "                <pre style=\"width: 100%; white-space: pre-wrap;\" id=\"ca4c75e3-7df4-4708-b774-f675ce81acc9\">\n",
              "# Get the number of missing values in each column\n",
              "missing_values = data.isnull().sum()\n",
              "print(missing_values)\n",
              "</pre>\n",
              "                <button style=\"height: fit-content;\" onclick=\"navigator.clipboard.writeText(JSON.parse(atob(`IlxuIyBHZXQgdGhlIG51bWJlciBvZiBtaXNzaW5nIHZhbHVlcyBpbiBlYWNoIGNvbHVtblxubWlzc2luZ192YWx1ZXMgPSBkYXRhLmlzbnVsbCgpLnN1bSgpXG5wcmludChtaXNzaW5nX3ZhbHVlcylcbiI=`)))\">Copy</button>\n",
              "                </div>"
            ]
          },
          "metadata": {}
        }
      ]
    },
    {
      "cell_type": "code",
      "source": [
        "# Get the number of missing values in each column\n",
        "missing_values = data.isnull().sum()\n",
        "print(missing_values)"
      ],
      "metadata": {
        "colab": {
          "base_uri": "https://localhost:8080/"
        },
        "id": "vpLft0Nkqv_C",
        "outputId": "fd6a5bbb-2a75-4616-ccd4-4f02899a8e58"
      },
      "execution_count": null,
      "outputs": [
        {
          "output_type": "stream",
          "name": "stdout",
          "text": [
            "user_name              0\n",
            "user_location       4184\n",
            "user_description     923\n",
            "user_created           1\n",
            "user_followers         1\n",
            "user_friends           1\n",
            "user_favourites        1\n",
            "user_verified          1\n",
            "date                   1\n",
            "text                   1\n",
            "hashtags            3178\n",
            "source                 2\n",
            "dtype: int64\n"
          ]
        }
      ]
    },
    {
      "cell_type": "code",
      "source": [
        "data.sketch.howto('Handling missing values')"
      ],
      "metadata": {
        "colab": {
          "base_uri": "https://localhost:8080/",
          "height": 156
        },
        "id": "BXiXHaIuqzMZ",
        "outputId": "92f460bf-603e-4b6f-8a00-adeba6b35c3a"
      },
      "execution_count": null,
      "outputs": [
        {
          "output_type": "display_data",
          "data": {
            "text/plain": [
              "<IPython.core.display.HTML object>"
            ],
            "text/html": [
              "<div style=\"display:flex;flex-direction:row;justify-content:space-between;\">\n",
              "                <pre style=\"width: 100%; white-space: pre-wrap;\" id=\"8ec08010-3fc4-4ee3-9803-83349272b58e\">\n",
              "# Replace missing values with NaN\n",
              "data = data.replace(r'^\\s*$', np.nan, regex=True)\n",
              "\n",
              "# Drop rows with missing values\n",
              "data = data.dropna()\n",
              "\n",
              "# Fill missing values with the mean of the column\n",
              "data = data.fillna(data.mean())\n",
              "</pre>\n",
              "                <button style=\"height: fit-content;\" onclick=\"navigator.clipboard.writeText(JSON.parse(atob(`IlxuIyBSZXBsYWNlIG1pc3NpbmcgdmFsdWVzIHdpdGggTmFOXG5kYXRhID0gZGF0YS5yZXBsYWNlKHInXlxccyokJywgbnAubmFuLCByZWdleD1UcnVlKVxuXG4jIERyb3Agcm93cyB3aXRoIG1pc3NpbmcgdmFsdWVzXG5kYXRhID0gZGF0YS5kcm9wbmEoKVxuXG4jIEZpbGwgbWlzc2luZyB2YWx1ZXMgd2l0aCB0aGUgbWVhbiBvZiB0aGUgY29sdW1uXG5kYXRhID0gZGF0YS5maWxsbmEoZGF0YS5tZWFuKCkpXG4i`)))\">Copy</button>\n",
              "                </div>"
            ]
          },
          "metadata": {}
        }
      ]
    },
    {
      "cell_type": "code",
      "source": [
        "data.shape"
      ],
      "metadata": {
        "colab": {
          "base_uri": "https://localhost:8080/"
        },
        "id": "d7ajpt-Prd8P",
        "outputId": "0679af89-11fc-4acb-c104-ba5df5650d42"
      },
      "execution_count": null,
      "outputs": [
        {
          "output_type": "execute_result",
          "data": {
            "text/plain": [
              "(14090, 12)"
            ]
          },
          "metadata": {},
          "execution_count": 32
        }
      ]
    },
    {
      "cell_type": "code",
      "source": [
        "# Handling missing values\n",
        "data.dropna(subset=['user_created','user_followers','user_friends','user_favourites','user_verified','date','text'],axis=0,inplace=True)"
      ],
      "metadata": {
        "id": "cwfLReYxr1yn"
      },
      "execution_count": null,
      "outputs": []
    },
    {
      "cell_type": "code",
      "source": [
        "data.shape"
      ],
      "metadata": {
        "colab": {
          "base_uri": "https://localhost:8080/"
        },
        "id": "mFB6A984r2il",
        "outputId": "96b42a77-8556-4c8f-fd1e-f4ff5af86af4"
      },
      "execution_count": null,
      "outputs": [
        {
          "output_type": "execute_result",
          "data": {
            "text/plain": [
              "(14089, 12)"
            ]
          },
          "metadata": {},
          "execution_count": 34
        }
      ]
    },
    {
      "cell_type": "code",
      "source": [
        "data.sketch.ask('Как лучше заполнить пропуски в этих данных?')"
      ],
      "metadata": {
        "colab": {
          "base_uri": "https://localhost:8080/",
          "height": 52
        },
        "id": "NIKnCfhPr3fc",
        "outputId": "984cdb25-e670-48c3-8e1c-49ba2e1a47e3"
      },
      "execution_count": null,
      "outputs": [
        {
          "output_type": "display_data",
          "data": {
            "text/plain": [
              "<IPython.core.display.HTML object>"
            ],
            "text/html": [
              "\n",
              "The best way to fill in the missing values in this data is to use a combination of imputation techniques such as mean, median, or mode imputation. Depending on the type of data, it may also be possible to use other methods such as interpolation or extrapolation. Additionally, if the data is categorical, it may be possible to use a technique such as k-nearest neighbors to fill in the missing values."
            ]
          },
          "metadata": {}
        }
      ]
    },
    {
      "cell_type": "code",
      "source": [
        "data.sketch.howto(\"act as a senior python developer, write a code to handle missing values\")"
      ],
      "metadata": {
        "colab": {
          "base_uri": "https://localhost:8080/",
          "height": 277
        },
        "id": "Ei41vuz6tiNW",
        "outputId": "8e4d49cb-8dbe-427e-e475-bc0860653665"
      },
      "execution_count": null,
      "outputs": [
        {
          "output_type": "display_data",
          "data": {
            "text/plain": [
              "<IPython.core.display.HTML object>"
            ],
            "text/html": [
              "<div style=\"display:flex;flex-direction:row;justify-content:space-between;\">\n",
              "                <pre style=\"width: 100%; white-space: pre-wrap;\" id=\"1173e209-0348-4bf2-8373-41fe68675ec7\">\n",
              "#import necessary libraries\n",
              "import pandas as pd\n",
              "\n",
              "#load the dataframe\n",
              "data = pd.read_csv('data.csv')\n",
              "\n",
              "#check for missing values\n",
              "missing_values = data.isnull().sum()\n",
              "\n",
              "#handle missing values\n",
              "#replace missing values with the mean of the column\n",
              "data = data.fillna(data.mean())\n",
              "\n",
              "#replace missing values with the mode of the column\n",
              "data = data.fillna(data.mode().iloc[0])\n",
              "</pre>\n",
              "                <button style=\"height: fit-content;\" onclick=\"navigator.clipboard.writeText(JSON.parse(atob(`IlxuI2ltcG9ydCBuZWNlc3NhcnkgbGlicmFyaWVzXG5pbXBvcnQgcGFuZGFzIGFzIHBkXG5cbiNsb2FkIHRoZSBkYXRhZnJhbWVcbmRhdGEgPSBwZC5yZWFkX2NzdignZGF0YS5jc3YnKVxuXG4jY2hlY2sgZm9yIG1pc3NpbmcgdmFsdWVzXG5taXNzaW5nX3ZhbHVlcyA9IGRhdGEuaXNudWxsKCkuc3VtKClcblxuI2hhbmRsZSBtaXNzaW5nIHZhbHVlc1xuI3JlcGxhY2UgbWlzc2luZyB2YWx1ZXMgd2l0aCB0aGUgbWVhbiBvZiB0aGUgY29sdW1uXG5kYXRhID0gZGF0YS5maWxsbmEoZGF0YS5tZWFuKCkpXG5cbiNyZXBsYWNlIG1pc3NpbmcgdmFsdWVzIHdpdGggdGhlIG1vZGUgb2YgdGhlIGNvbHVtblxuZGF0YSA9IGRhdGEuZmlsbG5hKGRhdGEubW9kZSgpLmlsb2NbMF0pXG4i`)))\">Copy</button>\n",
              "                </div>"
            ]
          },
          "metadata": {}
        }
      ]
    },
    {
      "cell_type": "code",
      "source": [
        "data.sketch.howto(\"top 10 locations with highest users\")"
      ],
      "metadata": {
        "colab": {
          "base_uri": "https://localhost:8080/",
          "height": 104
        },
        "id": "Ukp8uFY4uYYT",
        "outputId": "5a76e381-39c0-4cec-e3a1-ef8e1c14517f"
      },
      "execution_count": null,
      "outputs": [
        {
          "output_type": "display_data",
          "data": {
            "text/plain": [
              "<IPython.core.display.HTML object>"
            ],
            "text/html": [
              "<div style=\"display:flex;flex-direction:row;justify-content:space-between;\">\n",
              "                <pre style=\"width: 100%; white-space: pre-wrap;\" id=\"b4738ccc-6b9b-4227-a1ae-2d790d7f0618\">\n",
              "# Get the top 10 locations with highest users\n",
              "top_10_locations = data.groupby('user_location').size().sort_values(ascending=False).head(10)\n",
              "\n",
              "# Print the top 10 locations\n",
              "print(top_10_locations)\n",
              "</pre>\n",
              "                <button style=\"height: fit-content;\" onclick=\"navigator.clipboard.writeText(JSON.parse(atob(`IlxuIyBHZXQgdGhlIHRvcCAxMCBsb2NhdGlvbnMgd2l0aCBoaWdoZXN0IHVzZXJzXG50b3BfMTBfbG9jYXRpb25zID0gZGF0YS5ncm91cGJ5KCd1c2VyX2xvY2F0aW9uJykuc2l6ZSgpLnNvcnRfdmFsdWVzKGFzY2VuZGluZz1GYWxzZSkuaGVhZCgxMClcblxuIyBQcmludCB0aGUgdG9wIDEwIGxvY2F0aW9uc1xucHJpbnQodG9wXzEwX2xvY2F0aW9ucylcbiI=`)))\">Copy</button>\n",
              "                </div>"
            ]
          },
          "metadata": {}
        }
      ]
    },
    {
      "cell_type": "code",
      "source": [
        "# Get the top 10 locations with highest users\n",
        "top_10_locations = data.groupby('user_location').size().sort_values(ascending=False).head(10)\n",
        "\n",
        "# Print the top 10 locations\n",
        "print(top_10_locations)"
      ],
      "metadata": {
        "colab": {
          "base_uri": "https://localhost:8080/"
        },
        "id": "xMVaCP5AvSuC",
        "outputId": "649e85a3-1f72-4189-b74f-063ae585350c"
      },
      "execution_count": null,
      "outputs": [
        {
          "output_type": "stream",
          "name": "stdout",
          "text": [
            "user_location\n",
            "Zurich, Switzerland    718\n",
            "India                  491\n",
            "London, England        221\n",
            "Mumbai, India          208\n",
            "United States          176\n",
            "Somewhere Peaceful     127\n",
            "Global                 124\n",
            "London                 120\n",
            "Noida, India           112\n",
            "New Delhi, India       100\n",
            "dtype: int64\n"
          ]
        }
      ]
    },
    {
      "cell_type": "code",
      "source": [
        "data.sketch.howto(\"draw hist plot of top 10 locations with highest users\")"
      ],
      "metadata": {
        "colab": {
          "base_uri": "https://localhost:8080/",
          "height": 104
        },
        "id": "OnaOp9NvvZEF",
        "outputId": "28a4ba99-05b2-4901-f366-177a31ee2fc2"
      },
      "execution_count": null,
      "outputs": [
        {
          "output_type": "display_data",
          "data": {
            "text/plain": [
              "<IPython.core.display.HTML object>"
            ],
            "text/html": [
              "<div style=\"display:flex;flex-direction:row;justify-content:space-between;\">\n",
              "                <pre style=\"width: 100%; white-space: pre-wrap;\" id=\"109e4c74-b49f-4ed8-9fb5-e4a563a534d3\">\n",
              "# Get the top 10 locations with highest users\n",
              "top_locations = data.user_location.value_counts().head(10)\n",
              "\n",
              "# Plot a histogram of the top 10 locations\n",
              "top_locations.plot(kind='bar', title='Top 10 Locations with Highest Users')\n",
              "</pre>\n",
              "                <button style=\"height: fit-content;\" onclick=\"navigator.clipboard.writeText(JSON.parse(atob(`IlxuIyBHZXQgdGhlIHRvcCAxMCBsb2NhdGlvbnMgd2l0aCBoaWdoZXN0IHVzZXJzXG50b3BfbG9jYXRpb25zID0gZGF0YS51c2VyX2xvY2F0aW9uLnZhbHVlX2NvdW50cygpLmhlYWQoMTApXG5cbiMgUGxvdCBhIGhpc3RvZ3JhbSBvZiB0aGUgdG9wIDEwIGxvY2F0aW9uc1xudG9wX2xvY2F0aW9ucy5wbG90KGtpbmQ9J2JhcicsIHRpdGxlPSdUb3AgMTAgTG9jYXRpb25zIHdpdGggSGlnaGVzdCBVc2VycycpXG4i`)))\">Copy</button>\n",
              "                </div>"
            ]
          },
          "metadata": {}
        }
      ]
    },
    {
      "cell_type": "code",
      "source": [
        "# Get the top 10 locations with highest users\n",
        "top_locations = data.user_location.value_counts().head(10)\n",
        "\n",
        "# Plot a histogram of the top 10 locations\n",
        "top_locations.plot(kind='bar', title='Top 10 Locations with Highest Users')"
      ],
      "metadata": {
        "colab": {
          "base_uri": "https://localhost:8080/",
          "height": 600
        },
        "id": "XU_RNDKIw3xC",
        "outputId": "fdaa17a4-bca7-475c-b6fc-0464d1408b91"
      },
      "execution_count": null,
      "outputs": [
        {
          "output_type": "execute_result",
          "data": {
            "text/plain": [
              "<Axes: title={'center': 'Top 10 Locations with Highest Users'}>"
            ]
          },
          "metadata": {},
          "execution_count": 41
        },
        {
          "output_type": "display_data",
          "data": {
            "text/plain": [
              "<Figure size 640x480 with 1 Axes>"
            ],
            "image/png": "[encoded data removed]"
          },
          "metadata": {}
        }
      ]
    },
    {
      "cell_type": "code",
      "source": [
        "data.sketch.howto(\"draw hist plot of top 10 locations with highest users, use different colors for each column\")"
      ],
      "metadata": {
        "colab": {
          "base_uri": "https://localhost:8080/",
          "height": 191
        },
        "id": "MEJD9gFkw8cm",
        "outputId": "4da94a18-8137-4f92-88c7-5b7d000f406a"
      },
      "execution_count": null,
      "outputs": [
        {
          "output_type": "display_data",
          "data": {
            "text/plain": [
              "<IPython.core.display.HTML object>"
            ],
            "text/html": [
              "<div style=\"display:flex;flex-direction:row;justify-content:space-between;\">\n",
              "                <pre style=\"width: 100%; white-space: pre-wrap;\" id=\"5613d42d-a503-4b8b-b1fd-79bc50f82a4e\">\n",
              "# Get the top 10 locations with highest users\n",
              "top_locations = data.groupby('user_location').size().sort_values(ascending=False).head(10)\n",
              "\n",
              "# Plot the histogram of the top 10 locations\n",
              "plt.figure(figsize=(10,6))\n",
              "plt.bar(top_locations.index, top_locations.values, color=['red', 'blue', 'green', 'yellow', 'orange', 'purple', 'pink', 'brown', 'gray', 'black'])\n",
              "plt.title('Top 10 Locations with Highest Users')\n",
              "plt.xlabel('Location')\n",
              "plt.ylabel('Number of Users')\n",
              "plt.show()\n",
              "</pre>\n",
              "                <button style=\"height: fit-content;\" onclick=\"navigator.clipboard.writeText(JSON.parse(atob(`IlxuIyBHZXQgdGhlIHRvcCAxMCBsb2NhdGlvbnMgd2l0aCBoaWdoZXN0IHVzZXJzXG50b3BfbG9jYXRpb25zID0gZGF0YS5ncm91cGJ5KCd1c2VyX2xvY2F0aW9uJykuc2l6ZSgpLnNvcnRfdmFsdWVzKGFzY2VuZGluZz1GYWxzZSkuaGVhZCgxMClcblxuIyBQbG90IHRoZSBoaXN0b2dyYW0gb2YgdGhlIHRvcCAxMCBsb2NhdGlvbnNcbnBsdC5maWd1cmUoZmlnc2l6ZT0oMTAsNikpXG5wbHQuYmFyKHRvcF9sb2NhdGlvbnMuaW5kZXgsIHRvcF9sb2NhdGlvbnMudmFsdWVzLCBjb2xvcj1bJ3JlZCcsICdibHVlJywgJ2dyZWVuJywgJ3llbGxvdycsICdvcmFuZ2UnLCAncHVycGxlJywgJ3BpbmsnLCAnYnJvd24nLCAnZ3JheScsICdibGFjayddKVxucGx0LnRpdGxlKCdUb3AgMTAgTG9jYXRpb25zIHdpdGggSGlnaGVzdCBVc2VycycpXG5wbHQueGxhYmVsKCdMb2NhdGlvbicpXG5wbHQueWxhYmVsKCdOdW1iZXIgb2YgVXNlcnMnKVxucGx0LnNob3coKVxuIg==`)))\">Copy</button>\n",
              "                </div>"
            ]
          },
          "metadata": {}
        }
      ]
    },
    {
      "cell_type": "code",
      "source": [
        "import matplotlib.pyplot as plt"
      ],
      "metadata": {
        "id": "IVDpITlqxuWO"
      },
      "execution_count": null,
      "outputs": []
    },
    {
      "cell_type": "code",
      "source": [
        "# Get the top 10 locations with highest users\n",
        "top_locations = data.groupby('user_location').size().sort_values(ascending=False).head(10)\n",
        "\n",
        "# Plot the histogram of the top 10 locations\n",
        "plt.figure(figsize=(10,6))\n",
        "plt.bar(top_locations.index, top_locations.values, color=['red', 'blue', 'green', 'yellow', 'orange', 'purple', 'pink', 'brown', 'gray', 'black'])\n",
        "plt.title('Top 10 Locations with Highest Users')\n",
        "plt.xlabel('Location')\n",
        "plt.ylabel('Number of Users')\n",
        "plt.show()"
      ],
      "metadata": {
        "colab": {
          "base_uri": "https://localhost:8080/",
          "height": 564
        },
        "id": "T3RF5P9Txgwx",
        "outputId": "dc891379-6fc4-4470-83ac-d127f6f70f20"
      },
      "execution_count": null,
      "outputs": [
        {
          "output_type": "display_data",
          "data": {
            "text/plain": [
              "<Figure size 1000x600 with 1 Axes>"
            ],
            "image/png": "[encoded data removed]"
          },
          "metadata": {}
        }
      ]
    },
    {
      "cell_type": "code",
      "source": [
        "data.sketch.howto(\"нарисовать гистограмму с топ 10 локациями, в которых самые высокие пользователи, каждый столбец должен быть своим цветом, подписи столбцов не должны перекрываться, используй тёмный фон\")"
      ],
      "metadata": {
        "colab": {
          "base_uri": "https://localhost:8080/",
          "height": 347
        },
        "id": "oCEESFfNxsNe",
        "outputId": "5f7155a7-aaa5-4774-e637-e9993367ba54"
      },
      "execution_count": null,
      "outputs": [
        {
          "output_type": "display_data",
          "data": {
            "text/plain": [
              "<IPython.core.display.HTML object>"
            ],
            "text/html": [
              "<div style=\"display:flex;flex-direction:row;justify-content:space-between;\">\n",
              "                <pre style=\"width: 100%; white-space: pre-wrap;\" id=\"94cec241-9313-4349-9753-fa6b26d9102e\">\n",
              "# Get the top 10 user locations\n",
              "top_locations = data['user_location'].value_counts().head(10)\n",
              "\n",
              "# Set the figure size\n",
              "plt.figure(figsize=(10,6))\n",
              "\n",
              "# Plot the bar chart\n",
              "plt.bar(top_locations.index, top_locations.values, color=['red', 'blue', 'green', 'orange', 'purple', 'brown', 'pink', 'gray', 'cyan', 'magenta'])\n",
              "\n",
              "# Set the title and labels\n",
              "plt.title('Top 10 User Locations')\n",
              "plt.xlabel('Location')\n",
              "plt.ylabel('Number of Users')\n",
              "\n",
              "# Rotate the x-axis labels to prevent overlapping\n",
              "plt.xticks(rotation=45)\n",
              "\n",
              "# Set a dark background for better visibility of the labels\n",
              "plt.style.use('dark_background')\n",
              "</pre>\n",
              "                <button style=\"height: fit-content;\" onclick=\"navigator.clipboard.writeText(JSON.parse(atob(`IlxuIyBHZXQgdGhlIHRvcCAxMCB1c2VyIGxvY2F0aW9uc1xudG9wX2xvY2F0aW9ucyA9IGRhdGFbJ3VzZXJfbG9jYXRpb24nXS52YWx1ZV9jb3VudHMoKS5oZWFkKDEwKVxuXG4jIFNldCB0aGUgZmlndXJlIHNpemVcbnBsdC5maWd1cmUoZmlnc2l6ZT0oMTAsNikpXG5cbiMgUGxvdCB0aGUgYmFyIGNoYXJ0XG5wbHQuYmFyKHRvcF9sb2NhdGlvbnMuaW5kZXgsIHRvcF9sb2NhdGlvbnMudmFsdWVzLCBjb2xvcj1bJ3JlZCcsICdibHVlJywgJ2dyZWVuJywgJ29yYW5nZScsICdwdXJwbGUnLCAnYnJvd24nLCAncGluaycsICdncmF5JywgJ2N5YW4nLCAnbWFnZW50YSddKVxuXG4jIFNldCB0aGUgdGl0bGUgYW5kIGxhYmVsc1xucGx0LnRpdGxlKCdUb3AgMTAgVXNlciBMb2NhdGlvbnMnKVxucGx0LnhsYWJlbCgnTG9jYXRpb24nKVxucGx0LnlsYWJlbCgnTnVtYmVyIG9mIFVzZXJzJylcblxuIyBSb3RhdGUgdGhlIHgtYXhpcyBsYWJlbHMgdG8gcHJldmVudCBvdmVybGFwcGluZ1xucGx0Lnh0aWNrcyhyb3RhdGlvbj00NSlcblxuIyBTZXQgYSBkYXJrIGJhY2tncm91bmQgZm9yIGJldHRlciB2aXNpYmlsaXR5IG9mIHRoZSBsYWJlbHNcbnBsdC5zdHlsZS51c2UoJ2RhcmtfYmFja2dyb3VuZCcpXG4i`)))\">Copy</button>\n",
              "                </div>"
            ]
          },
          "metadata": {}
        }
      ]
    },
    {
      "cell_type": "code",
      "source": [
        "# Get the top 10 user locations\n",
        "top_locations = data['user_location'].value_counts().head(10)\n",
        "\n",
        "# Set the figure size\n",
        "plt.figure(figsize=(10,6))\n",
        "\n",
        "# Plot the bar chart\n",
        "plt.bar(top_locations.index, top_locations.values, color=['red', 'blue', 'green', 'orange', 'purple', 'brown', 'pink', 'gray', 'cyan', 'magenta'])\n",
        "\n",
        "# Set the title and labels\n",
        "plt.title('Top 10 User Locations')\n",
        "plt.xlabel('Location')\n",
        "plt.ylabel('Number of Users')\n",
        "\n",
        "# Rotate the x-axis labels to prevent overlapping\n",
        "plt.xticks(rotation=45)\n",
        "\n",
        "# Set a dark background for better visibility of the labels\n",
        "plt.style.use('dark_background')"
      ],
      "metadata": {
        "colab": {
          "base_uri": "https://localhost:8080/",
          "height": 663
        },
        "id": "L_xyC1HwytDX",
        "outputId": "b397288a-9186-490e-9b78-56c1a5c45d99"
      },
      "execution_count": null,
      "outputs": [
        {
          "output_type": "display_data",
          "data": {
            "text/plain": [
              "<Figure size 1000x600 with 1 Axes>"
            ],
            "image/png": "[encoded data removed]"
          },
          "metadata": {}
        }
      ]
    },
    {
      "cell_type": "code",
      "source": [
        "# Get the top 10 user locations\n",
        "top_locations = data['user_location'].value_counts().head(10)\n",
        "\n",
        "# Set the figure size\n",
        "plt.figure(figsize=(10,6))\n",
        "\n",
        "# Plot the bar chart\n",
        "plt.bar(top_locations.index, top_locations.values, color=['red', 'blue', 'green', 'orange', 'purple', 'brown', 'pink', 'gray', 'cyan', 'magenta'])\n",
        "\n",
        "# Set the title and labels\n",
        "plt.title('Top 10 User Locations')\n",
        "plt.xlabel('Location')\n",
        "plt.ylabel('Number of Users')\n",
        "\n",
        "# Rotate the x-axis labels to prevent overlapping\n",
        "plt.xticks(rotation=45)\n",
        "\n",
        "# Set a dark background for better visibility of the labels\n",
        "plt.style.use('dark_background')"
      ],
      "metadata": {
        "colab": {
          "base_uri": "https://localhost:8080/",
          "height": 663
        },
        "id": "g21_kj_2y_3W",
        "outputId": "04d9b2c5-465a-4828-b507-3b0840ccfdb7"
      },
      "execution_count": null,
      "outputs": [
        {
          "output_type": "display_data",
          "data": {
            "text/plain": [
              "<Figure size 1000x600 with 1 Axes>"
            ],
            "image/png": "[encoded data removed]"
          },
          "metadata": {}
        }
      ]
    },
    {
      "cell_type": "code",
      "source": [
        "data.sketch.howto(\"Number of Verified Users\")"
      ],
      "metadata": {
        "colab": {
          "base_uri": "https://localhost:8080/",
          "height": 104
        },
        "id": "1NV-V--zzCRO",
        "outputId": "7e27d44b-acb1-4920-8b26-d8455a1704b7"
      },
      "execution_count": null,
      "outputs": [
        {
          "output_type": "display_data",
          "data": {
            "text/plain": [
              "<IPython.core.display.HTML object>"
            ],
            "text/html": [
              "<div style=\"display:flex;flex-direction:row;justify-content:space-between;\">\n",
              "                <pre style=\"width: 100%; white-space: pre-wrap;\" id=\"ffa0f796-946f-4919-9e45-50f67b261c3d\">\n",
              "# Get the number of verified users\n",
              "num_verified_users = data['user_verified'].value_counts()['True']\n",
              "\n",
              "# Print the result\n",
              "print(f'Number of verified users: {num_verified_users}')\n",
              "</pre>\n",
              "                <button style=\"height: fit-content;\" onclick=\"navigator.clipboard.writeText(JSON.parse(atob(`IlxuIyBHZXQgdGhlIG51bWJlciBvZiB2ZXJpZmllZCB1c2Vyc1xubnVtX3ZlcmlmaWVkX3VzZXJzID0gZGF0YVsndXNlcl92ZXJpZmllZCddLnZhbHVlX2NvdW50cygpWydUcnVlJ11cblxuIyBQcmludCB0aGUgcmVzdWx0XG5wcmludChmJ051bWJlciBvZiB2ZXJpZmllZCB1c2Vyczoge251bV92ZXJpZmllZF91c2Vyc30nKVxuIg==`)))\">Copy</button>\n",
              "                </div>"
            ]
          },
          "metadata": {}
        }
      ]
    },
    {
      "cell_type": "code",
      "source": [
        "# Get the number of verified users\n",
        "num_verified_users = data['user_verified'].value_counts()['True']\n",
        "\n",
        "# Print the result\n",
        "print(f'Number of verified users: {num_verified_users}')"
      ],
      "metadata": {
        "colab": {
          "base_uri": "https://localhost:8080/"
        },
        "id": "4iYAkGy90jeb",
        "outputId": "dcd85ee7-6ecd-4d7b-da72-c4582d63c8e1"
      },
      "execution_count": null,
      "outputs": [
        {
          "output_type": "stream",
          "name": "stdout",
          "text": [
            "Number of verified users: 878\n"
          ]
        }
      ]
    },
    {
      "cell_type": "code",
      "source": [
        "a = [1, 2, 3]\n",
        "import numpy as np\n",
        "def f():\n",
        "  return  np.sum(a) if a != 0 else -1"
      ],
      "metadata": {
        "id": "0gC_nWtW04XX"
      },
      "execution_count": null,
      "outputs": []
    },
    {
      "cell_type": "code",
      "source": [
        "f()"
      ],
      "metadata": {
        "colab": {
          "base_uri": "https://localhost:8080/"
        },
        "id": "esFsQ_6HGRQ4",
        "outputId": "10405914-c89a-41dc-bcde-e89d38fb2fa3"
      },
      "execution_count": null,
      "outputs": [
        {
          "output_type": "execute_result",
          "data": {
            "text/plain": [
              "6"
            ]
          },
          "metadata": {},
          "execution_count": 3
        }
      ]
    },
    {
      "cell_type": "code",
      "source": [
        "for ii in range(-1):\n",
        "  print (ii)\n",
        "else: print(ii)"
      ],
      "metadata": {
        "colab": {
          "base_uri": "https://localhost:8080/",
          "height": 214
        },
        "id": "bQs1LPrCGble",
        "outputId": "4e44ac88-950e-494c-ed91-9c954c03e76c"
      },
      "execution_count": null,
      "outputs": [
        {
          "output_type": "error",
          "ename": "NameError",
          "evalue": "ignored",
          "traceback": [
            "\u001b[0;31m---------------------------------------------------------------------------\u001b[0m",
            "\u001b[0;31mNameError\u001b[0m                                 Traceback (most recent call last)",
            "\u001b[0;32m<ipython-input-11-3282b4152e7a>\u001b[0m in \u001b[0;36m<cell line: 1>\u001b[0;34m()\u001b[0m\n\u001b[1;32m      1\u001b[0m \u001b[0;32mfor\u001b[0m \u001b[0mii\u001b[0m \u001b[0;32min\u001b[0m \u001b[0mrange\u001b[0m\u001b[0;34m(\u001b[0m\u001b[0;34m-\u001b[0m\u001b[0;36m1\u001b[0m\u001b[0;34m)\u001b[0m\u001b[0;34m:\u001b[0m\u001b[0;34m\u001b[0m\u001b[0;34m\u001b[0m\u001b[0m\n\u001b[1;32m      2\u001b[0m   \u001b[0mprint\u001b[0m \u001b[0;34m(\u001b[0m\u001b[0mii\u001b[0m\u001b[0;34m)\u001b[0m\u001b[0;34m\u001b[0m\u001b[0;34m\u001b[0m\u001b[0m\n\u001b[0;32m----> 3\u001b[0;31m \u001b[0;32melse\u001b[0m\u001b[0;34m:\u001b[0m \u001b[0mprint\u001b[0m\u001b[0;34m(\u001b[0m\u001b[0mii\u001b[0m\u001b[0;34m)\u001b[0m\u001b[0;34m\u001b[0m\u001b[0;34m\u001b[0m\u001b[0m\n\u001b[0m",
            "\u001b[0;31mNameError\u001b[0m: name 'ii' is not defined"
          ]
        }
      ]
    },
    {
      "cell_type": "code",
      "source": [
        "if (ii==-1):\n",
        "  print(\"q\")"
      ],
      "metadata": {
        "colab": {
          "base_uri": "https://localhost:8080/",
          "height": 197
        },
        "id": "Ed7mpH0BG-Q-",
        "outputId": "d18a50d0-d7f9-4449-b4e6-578656a4d70f"
      },
      "execution_count": null,
      "outputs": [
        {
          "output_type": "error",
          "ename": "NameError",
          "evalue": "ignored",
          "traceback": [
            "\u001b[0;31m---------------------------------------------------------------------------\u001b[0m",
            "\u001b[0;31mNameError\u001b[0m                                 Traceback (most recent call last)",
            "\u001b[0;32m<ipython-input-13-f038ba72ceb9>\u001b[0m in \u001b[0;36m<cell line: 1>\u001b[0;34m()\u001b[0m\n\u001b[0;32m----> 1\u001b[0;31m \u001b[0;32mif\u001b[0m \u001b[0;34m(\u001b[0m\u001b[0mii\u001b[0m\u001b[0;34m==\u001b[0m\u001b[0;34m-\u001b[0m\u001b[0;36m1\u001b[0m\u001b[0;34m)\u001b[0m\u001b[0;34m:\u001b[0m\u001b[0;34m\u001b[0m\u001b[0;34m\u001b[0m\u001b[0m\n\u001b[0m\u001b[1;32m      2\u001b[0m   \u001b[0mprint\u001b[0m\u001b[0;34m(\u001b[0m\u001b[0;34m\"q\"\u001b[0m\u001b[0;34m)\u001b[0m\u001b[0;34m\u001b[0m\u001b[0;34m\u001b[0m\u001b[0m\n",
            "\u001b[0;31mNameError\u001b[0m: name 'ii' is not defined"
          ]
        }
      ]
    },
    {
      "cell_type": "code",
      "source": [
        "def cosine_distance_vectorized(X: np.ndarray, Y: np.ndarray) -> np.ndarray:\n",
        "    res = X.dot(Y.T)\n",
        "    x_norm = (X**2).sum(axis=1)**(0.5)\n",
        "    y_norm = (Y**2).sum(axis=1)**(0.5)\n",
        "\n",
        "    norm = x_norm[:, np.newaxis] * y_norm[np.newaxis, :]\n",
        "    norm[norm == 0] = 1\n",
        "    res = res / norm\n",
        "\n",
        "    zero_mask_X = X.sum(axis=1) == 0\n",
        "    zero_mask_Y = Y.sum(axis=1) == 0\n",
        "    zero_mask = zero_mask_X[:, np.newaxis] + zero_mask_Y[np.newaxis, :]\n",
        "    res[zero_mask] = 1\n",
        "\n",
        "    return res"
      ],
      "metadata": {
        "id": "L7LFFiGKHREO"
      },
      "execution_count": null,
      "outputs": []
    },
    {
      "cell_type": "code",
      "source": [
        "X = np.array([[1,2,3], [0, 0, 0], [1, -1, 1]])\n",
        "Y = np.array([[1,2,3], [0, 0, 0], [1, -1, 1], [1, 1, 1]])\n"
      ],
      "metadata": {
        "id": "znV2r1iFNZqn"
      },
      "execution_count": null,
      "outputs": []
    },
    {
      "cell_type": "code",
      "source": [
        "cosine_distance_vectorized(X, Y)"
      ],
      "metadata": {
        "colab": {
          "base_uri": "https://localhost:8080/"
        },
        "id": "OuHBIvQqNkUe",
        "outputId": "7cbe7be9-c10d-400d-bdc4-afa6807bcf79"
      },
      "execution_count": null,
      "outputs": [
        {
          "output_type": "execute_result",
          "data": {
            "text/plain": [
              "array([[1.        , 1.        , 0.3086067 , 0.9258201 ],\n",
              "       [1.        , 1.        , 1.        , 1.        ],\n",
              "       [0.3086067 , 1.        , 1.        , 0.33333333]])"
            ]
          },
          "metadata": {},
          "execution_count": 18
        }
      ]
    },
    {
      "cell_type": "code",
      "source": [
        "def cosine_distance_vectorized2(X: np.ndarray, Y: np.ndarray) -> np.ndarray:\n",
        "    res = X.dot(Y.T)\n",
        "    x_norm = (X**2).sum(axis=1)**(0.5)\n",
        "    y_norm = (Y**2).sum(axis=1)**(0.5)\n",
        "\n",
        "    i_norm = x_norm == 0\n",
        "    j_norm = y_norm == 0\n",
        "\n",
        "    x_norm[i_norm] = 1\n",
        "    y_norm[j_norm] = 1\n",
        "\n",
        "    res = np.diag(1 / x_norm) @ res @ np.diag(1 / y_norm)\n",
        "\n",
        "    #zero_mask_X = X.sum(axis=1) == 0\n",
        "    #zero_mask_Y = Y.sum(axis=1) == 0\n",
        "    #zero_mask = zero_mask_X[:, np.newaxis] + zero_mask_Y[np.newaxis, :]\n",
        "    #res[zero_mask] = 1\n",
        "    #res[np.isnan(res)] = 1\n",
        "\n",
        "    res[i_norm, j_norm] = 1\n",
        "\n",
        "    return res"
      ],
      "metadata": {
        "id": "UWuzl8lpNmWV"
      },
      "execution_count": null,
      "outputs": []
    },
    {
      "cell_type": "code",
      "source": [
        "cosine_distance_vectorized2(X, Y)"
      ],
      "metadata": {
        "colab": {
          "base_uri": "https://localhost:8080/"
        },
        "id": "mbArj58bO0V-",
        "outputId": "2d63c662-0573-4db6-cd7a-c77b159611bb"
      },
      "execution_count": null,
      "outputs": [
        {
          "output_type": "execute_result",
          "data": {
            "text/plain": [
              "array([[1.        , 0.        , 0.3086067 , 0.9258201 ],\n",
              "       [0.        , 1.        , 0.        , 0.        ],\n",
              "       [0.3086067 , 0.        , 1.        , 0.33333333]])"
            ]
          },
          "metadata": {},
          "execution_count": 37
        }
      ]
    },
    {
      "cell_type": "code",
      "source": [
        "X = np.random.rand(100, 120)\n",
        "Y = np.random.rand(200, 120)"
      ],
      "metadata": {
        "id": "UCtU576aO1tC"
      },
      "execution_count": null,
      "outputs": []
    },
    {
      "cell_type": "code",
      "source": [
        "%%time\n",
        "Z1 = cosine_distance_vectorized(X, Y)"
      ],
      "metadata": {
        "colab": {
          "base_uri": "https://localhost:8080/"
        },
        "id": "zFjXII_hPG3C",
        "outputId": "52297824-b23a-4b1e-97c3-626df90155f5"
      },
      "execution_count": null,
      "outputs": [
        {
          "output_type": "stream",
          "name": "stdout",
          "text": [
            "CPU times: user 770 µs, sys: 125 µs, total: 895 µs\n",
            "Wall time: 472 µs\n"
          ]
        }
      ]
    },
    {
      "cell_type": "code",
      "source": [
        "%%time\n",
        "Z2 = cosine_distance_vectorized2(X, Y)"
      ],
      "metadata": {
        "colab": {
          "base_uri": "https://localhost:8080/"
        },
        "id": "5kCUY0lpPLLy",
        "outputId": "cbd8c54c-3e07-4c14-f5be-1efdf3621a98"
      },
      "execution_count": null,
      "outputs": [
        {
          "output_type": "stream",
          "name": "stdout",
          "text": [
            "CPU times: user 1.31 ms, sys: 1.96 ms, total: 3.26 ms\n",
            "Wall time: 1.67 ms\n"
          ]
        }
      ]
    },
    {
      "cell_type": "code",
      "source": [],
      "metadata": {
        "id": "v0FTPTwePN2S"
      },
      "execution_count": null,
      "outputs": []
    }
  ]
}