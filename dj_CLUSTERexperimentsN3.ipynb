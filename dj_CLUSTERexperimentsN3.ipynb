{
  "nbformat": 4,
  "nbformat_minor": 0,
  "metadata": {
    "colab": {
      "provenance": [],
      "authorship_tag": "ABX9TyNEXbLso9JMRdm4/0AOLLfO",
      "include_colab_link": true
    },
    "kernelspec": {
      "name": "python3",
      "display_name": "Python 3"
    },
    "language_info": {
      "name": "python"
    },
    "widgets": {
      "application/vnd.jupyter.widget-state+json": {
        "9b223c1994d1436380711494457b8867": {
          "model_module": "@jupyter-widgets/controls",
          "model_name": "HBoxModel",
          "model_module_version": "1.5.0",
          "state": {
            "_dom_classes": [],
            "_model_module": "@jupyter-widgets/controls",
            "_model_module_version": "1.5.0",
            "_model_name": "HBoxModel",
            "_view_count": null,
            "_view_module": "@jupyter-widgets/controls",
            "_view_module_version": "1.5.0",
            "_view_name": "HBoxView",
            "box_style": "",
            "children": [
              "IPY_MODEL_7b8fac87a015491face532722ef22555",
              "IPY_MODEL_64149a57dc5a45fc887f4c9f9898c04d",
              "IPY_MODEL_bf522694efdb4ee795024699d429db0e"
            ],
            "layout": "IPY_MODEL_c7152dbf32ea49a9a7798a083c30339f"
          }
        },
        "7b8fac87a015491face532722ef22555": {
          "model_module": "@jupyter-widgets/controls",
          "model_name": "HTMLModel",
          "model_module_version": "1.5.0",
          "state": {
            "_dom_classes": [],
            "_model_module": "@jupyter-widgets/controls",
            "_model_module_version": "1.5.0",
            "_model_name": "HTMLModel",
            "_view_count": null,
            "_view_module": "@jupyter-widgets/controls",
            "_view_module_version": "1.5.0",
            "_view_name": "HTMLView",
            "description": "",
            "description_tooltip": null,
            "layout": "IPY_MODEL_915b12ccefdc494abd984f41445ede2a",
            "placeholder": "​",
            "style": "IPY_MODEL_4b698ba0cab6490d9bb197cb20171a27",
            "value": "Downloading builder script: 100%"
          }
        },
        "64149a57dc5a45fc887f4c9f9898c04d": {
          "model_module": "@jupyter-widgets/controls",
          "model_name": "FloatProgressModel",
          "model_module_version": "1.5.0",
          "state": {
            "_dom_classes": [],
            "_model_module": "@jupyter-widgets/controls",
            "_model_module_version": "1.5.0",
            "_model_name": "FloatProgressModel",
            "_view_count": null,
            "_view_module": "@jupyter-widgets/controls",
            "_view_module_version": "1.5.0",
            "_view_name": "ProgressView",
            "bar_style": "success",
            "description": "",
            "description_tooltip": null,
            "layout": "IPY_MODEL_16215b43843d492f8b9513efd7369f2a",
            "max": 8567,
            "min": 0,
            "orientation": "horizontal",
            "style": "IPY_MODEL_1b7097fa0bf24ab58b891b6df70dee9f",
            "value": 8567
          }
        },
        "bf522694efdb4ee795024699d429db0e": {
          "model_module": "@jupyter-widgets/controls",
          "model_name": "HTMLModel",
          "model_module_version": "1.5.0",
          "state": {
            "_dom_classes": [],
            "_model_module": "@jupyter-widgets/controls",
            "_model_module_version": "1.5.0",
            "_model_name": "HTMLModel",
            "_view_count": null,
            "_view_module": "@jupyter-widgets/controls",
            "_view_module_version": "1.5.0",
            "_view_name": "HTMLView",
            "description": "",
            "description_tooltip": null,
            "layout": "IPY_MODEL_91780b3cec4045e0b1934ee5bd58a72b",
            "placeholder": "​",
            "style": "IPY_MODEL_4fad934102ee42d5a8d2a41fa4fc41fd",
            "value": " 8.57k/8.57k [00:00&lt;00:00, 172kB/s]"
          }
        },
        "c7152dbf32ea49a9a7798a083c30339f": {
          "model_module": "@jupyter-widgets/base",
          "model_name": "LayoutModel",
          "model_module_version": "1.2.0",
          "state": {
            "_model_module": "@jupyter-widgets/base",
            "_model_module_version": "1.2.0",
            "_model_name": "LayoutModel",
            "_view_count": null,
            "_view_module": "@jupyter-widgets/base",
            "_view_module_version": "1.2.0",
            "_view_name": "LayoutView",
            "align_content": null,
            "align_items": null,
            "align_self": null,
            "border": null,
            "bottom": null,
            "display": null,
            "flex": null,
            "flex_flow": null,
            "grid_area": null,
            "grid_auto_columns": null,
            "grid_auto_flow": null,
            "grid_auto_rows": null,
            "grid_column": null,
            "grid_gap": null,
            "grid_row": null,
            "grid_template_areas": null,
            "grid_template_columns": null,
            "grid_template_rows": null,
            "height": null,
            "justify_content": null,
            "justify_items": null,
            "left": null,
            "margin": null,
            "max_height": null,
            "max_width": null,
            "min_height": null,
            "min_width": null,
            "object_fit": null,
            "object_position": null,
            "order": null,
            "overflow": null,
            "overflow_x": null,
            "overflow_y": null,
            "padding": null,
            "right": null,
            "top": null,
            "visibility": null,
            "width": null
          }
        },
        "915b12ccefdc494abd984f41445ede2a": {
          "model_module": "@jupyter-widgets/base",
          "model_name": "LayoutModel",
          "model_module_version": "1.2.0",
          "state": {
            "_model_module": "@jupyter-widgets/base",
            "_model_module_version": "1.2.0",
            "_model_name": "LayoutModel",
            "_view_count": null,
            "_view_module": "@jupyter-widgets/base",
            "_view_module_version": "1.2.0",
            "_view_name": "LayoutView",
            "align_content": null,
            "align_items": null,
            "align_self": null,
            "border": null,
            "bottom": null,
            "display": null,
            "flex": null,
            "flex_flow": null,
            "grid_area": null,
            "grid_auto_columns": null,
            "grid_auto_flow": null,
            "grid_auto_rows": null,
            "grid_column": null,
            "grid_gap": null,
            "grid_row": null,
            "grid_template_areas": null,
            "grid_template_columns": null,
            "grid_template_rows": null,
            "height": null,
            "justify_content": null,
            "justify_items": null,
            "left": null,
            "margin": null,
            "max_height": null,
            "max_width": null,
            "min_height": null,
            "min_width": null,
            "object_fit": null,
            "object_position": null,
            "order": null,
            "overflow": null,
            "overflow_x": null,
            "overflow_y": null,
            "padding": null,
            "right": null,
            "top": null,
            "visibility": null,
            "width": null
          }
        },
        "4b698ba0cab6490d9bb197cb20171a27": {
          "model_module": "@jupyter-widgets/controls",
          "model_name": "DescriptionStyleModel",
          "model_module_version": "1.5.0",
          "state": {
            "_model_module": "@jupyter-widgets/controls",
            "_model_module_version": "1.5.0",
            "_model_name": "DescriptionStyleModel",
            "_view_count": null,
            "_view_module": "@jupyter-widgets/base",
            "_view_module_version": "1.2.0",
            "_view_name": "StyleView",
            "description_width": ""
          }
        },
        "16215b43843d492f8b9513efd7369f2a": {
          "model_module": "@jupyter-widgets/base",
          "model_name": "LayoutModel",
          "model_module_version": "1.2.0",
          "state": {
            "_model_module": "@jupyter-widgets/base",
            "_model_module_version": "1.2.0",
            "_model_name": "LayoutModel",
            "_view_count": null,
            "_view_module": "@jupyter-widgets/base",
            "_view_module_version": "1.2.0",
            "_view_name": "LayoutView",
            "align_content": null,
            "align_items": null,
            "align_self": null,
            "border": null,
            "bottom": null,
            "display": null,
            "flex": null,
            "flex_flow": null,
            "grid_area": null,
            "grid_auto_columns": null,
            "grid_auto_flow": null,
            "grid_auto_rows": null,
            "grid_column": null,
            "grid_gap": null,
            "grid_row": null,
            "grid_template_areas": null,
            "grid_template_columns": null,
            "grid_template_rows": null,
            "height": null,
            "justify_content": null,
            "justify_items": null,
            "left": null,
            "margin": null,
            "max_height": null,
            "max_width": null,
            "min_height": null,
            "min_width": null,
            "object_fit": null,
            "object_position": null,
            "order": null,
            "overflow": null,
            "overflow_x": null,
            "overflow_y": null,
            "padding": null,
            "right": null,
            "top": null,
            "visibility": null,
            "width": null
          }
        },
        "1b7097fa0bf24ab58b891b6df70dee9f": {
          "model_module": "@jupyter-widgets/controls",
          "model_name": "ProgressStyleModel",
          "model_module_version": "1.5.0",
          "state": {
            "_model_module": "@jupyter-widgets/controls",
            "_model_module_version": "1.5.0",
            "_model_name": "ProgressStyleModel",
            "_view_count": null,
            "_view_module": "@jupyter-widgets/base",
            "_view_module_version": "1.2.0",
            "_view_name": "StyleView",
            "bar_color": null,
            "description_width": ""
          }
        },
        "91780b3cec4045e0b1934ee5bd58a72b": {
          "model_module": "@jupyter-widgets/base",
          "model_name": "LayoutModel",
          "model_module_version": "1.2.0",
          "state": {
            "_model_module": "@jupyter-widgets/base",
            "_model_module_version": "1.2.0",
            "_model_name": "LayoutModel",
            "_view_count": null,
            "_view_module": "@jupyter-widgets/base",
            "_view_module_version": "1.2.0",
            "_view_name": "LayoutView",
            "align_content": null,
            "align_items": null,
            "align_self": null,
            "border": null,
            "bottom": null,
            "display": null,
            "flex": null,
            "flex_flow": null,
            "grid_area": null,
            "grid_auto_columns": null,
            "grid_auto_flow": null,
            "grid_auto_rows": null,
            "grid_column": null,
            "grid_gap": null,
            "grid_row": null,
            "grid_template_areas": null,
            "grid_template_columns": null,
            "grid_template_rows": null,
            "height": null,
            "justify_content": null,
            "justify_items": null,
            "left": null,
            "margin": null,
            "max_height": null,
            "max_width": null,
            "min_height": null,
            "min_width": null,
            "object_fit": null,
            "object_position": null,
            "order": null,
            "overflow": null,
            "overflow_x": null,
            "overflow_y": null,
            "padding": null,
            "right": null,
            "top": null,
            "visibility": null,
            "width": null
          }
        },
        "4fad934102ee42d5a8d2a41fa4fc41fd": {
          "model_module": "@jupyter-widgets/controls",
          "model_name": "DescriptionStyleModel",
          "model_module_version": "1.5.0",
          "state": {
            "_model_module": "@jupyter-widgets/controls",
            "_model_module_version": "1.5.0",
            "_model_name": "DescriptionStyleModel",
            "_view_count": null,
            "_view_module": "@jupyter-widgets/base",
            "_view_module_version": "1.2.0",
            "_view_name": "StyleView",
            "description_width": ""
          }
        },
        "7f76b923864e4deaa9426405571ceecb": {
          "model_module": "@jupyter-widgets/controls",
          "model_name": "HBoxModel",
          "model_module_version": "1.5.0",
          "state": {
            "_dom_classes": [],
            "_model_module": "@jupyter-widgets/controls",
            "_model_module_version": "1.5.0",
            "_model_name": "HBoxModel",
            "_view_count": null,
            "_view_module": "@jupyter-widgets/controls",
            "_view_module_version": "1.5.0",
            "_view_name": "HBoxView",
            "box_style": "",
            "children": [
              "IPY_MODEL_2b6d04d5a4ae44c09026171eff11104b",
              "IPY_MODEL_8fb025f51b454fe3beaa88b492778f93",
              "IPY_MODEL_468a39f95dd049c09e5c2f722eea5fdb"
            ],
            "layout": "IPY_MODEL_f5aa5d4e5a004701bb54028bd97b92f3"
          }
        },
        "2b6d04d5a4ae44c09026171eff11104b": {
          "model_module": "@jupyter-widgets/controls",
          "model_name": "HTMLModel",
          "model_module_version": "1.5.0",
          "state": {
            "_dom_classes": [],
            "_model_module": "@jupyter-widgets/controls",
            "_model_module_version": "1.5.0",
            "_model_name": "HTMLModel",
            "_view_count": null,
            "_view_module": "@jupyter-widgets/controls",
            "_view_module_version": "1.5.0",
            "_view_name": "HTMLView",
            "description": "",
            "description_tooltip": null,
            "layout": "IPY_MODEL_5c97e4c3331141478c2717ceb1fd0eb2",
            "placeholder": "​",
            "style": "IPY_MODEL_2c93ae1828d447de94f825e22c54e387",
            "value": "Downloading metadata: 100%"
          }
        },
        "8fb025f51b454fe3beaa88b492778f93": {
          "model_module": "@jupyter-widgets/controls",
          "model_name": "FloatProgressModel",
          "model_module_version": "1.5.0",
          "state": {
            "_dom_classes": [],
            "_model_module": "@jupyter-widgets/controls",
            "_model_module_version": "1.5.0",
            "_model_name": "FloatProgressModel",
            "_view_count": null,
            "_view_module": "@jupyter-widgets/controls",
            "_view_module_version": "1.5.0",
            "_view_name": "ProgressView",
            "bar_style": "success",
            "description": "",
            "description_tooltip": null,
            "layout": "IPY_MODEL_c5bc5926d25845129addbe15d39c8107",
            "max": 14391,
            "min": 0,
            "orientation": "horizontal",
            "style": "IPY_MODEL_7983bf2c41524632bac38bad02a0a440",
            "value": 14391
          }
        },
        "468a39f95dd049c09e5c2f722eea5fdb": {
          "model_module": "@jupyter-widgets/controls",
          "model_name": "HTMLModel",
          "model_module_version": "1.5.0",
          "state": {
            "_dom_classes": [],
            "_model_module": "@jupyter-widgets/controls",
            "_model_module_version": "1.5.0",
            "_model_name": "HTMLModel",
            "_view_count": null,
            "_view_module": "@jupyter-widgets/controls",
            "_view_module_version": "1.5.0",
            "_view_name": "HTMLView",
            "description": "",
            "description_tooltip": null,
            "layout": "IPY_MODEL_bd9feb3e5fc94b279eb6691e7491a75d",
            "placeholder": "​",
            "style": "IPY_MODEL_f4a3f7afe3af4d6faeea4255cbe07013",
            "value": " 14.4k/14.4k [00:00&lt;00:00, 414kB/s]"
          }
        },
        "f5aa5d4e5a004701bb54028bd97b92f3": {
          "model_module": "@jupyter-widgets/base",
          "model_name": "LayoutModel",
          "model_module_version": "1.2.0",
          "state": {
            "_model_module": "@jupyter-widgets/base",
            "_model_module_version": "1.2.0",
            "_model_name": "LayoutModel",
            "_view_count": null,
            "_view_module": "@jupyter-widgets/base",
            "_view_module_version": "1.2.0",
            "_view_name": "LayoutView",
            "align_content": null,
            "align_items": null,
            "align_self": null,
            "border": null,
            "bottom": null,
            "display": null,
            "flex": null,
            "flex_flow": null,
            "grid_area": null,
            "grid_auto_columns": null,
            "grid_auto_flow": null,
            "grid_auto_rows": null,
            "grid_column": null,
            "grid_gap": null,
            "grid_row": null,
            "grid_template_areas": null,
            "grid_template_columns": null,
            "grid_template_rows": null,
            "height": null,
            "justify_content": null,
            "justify_items": null,
            "left": null,
            "margin": null,
            "max_height": null,
            "max_width": null,
            "min_height": null,
            "min_width": null,
            "object_fit": null,
            "object_position": null,
            "order": null,
            "overflow": null,
            "overflow_x": null,
            "overflow_y": null,
            "padding": null,
            "right": null,
            "top": null,
            "visibility": null,
            "width": null
          }
        },
        "5c97e4c3331141478c2717ceb1fd0eb2": {
          "model_module": "@jupyter-widgets/base",
          "model_name": "LayoutModel",
          "model_module_version": "1.2.0",
          "state": {
            "_model_module": "@jupyter-widgets/base",
            "_model_module_version": "1.2.0",
            "_model_name": "LayoutModel",
            "_view_count": null,
            "_view_module": "@jupyter-widgets/base",
            "_view_module_version": "1.2.0",
            "_view_name": "LayoutView",
            "align_content": null,
            "align_items": null,
            "align_self": null,
            "border": null,
            "bottom": null,
            "display": null,
            "flex": null,
            "flex_flow": null,
            "grid_area": null,
            "grid_auto_columns": null,
            "grid_auto_flow": null,
            "grid_auto_rows": null,
            "grid_column": null,
            "grid_gap": null,
            "grid_row": null,
            "grid_template_areas": null,
            "grid_template_columns": null,
            "grid_template_rows": null,
            "height": null,
            "justify_content": null,
            "justify_items": null,
            "left": null,
            "margin": null,
            "max_height": null,
            "max_width": null,
            "min_height": null,
            "min_width": null,
            "object_fit": null,
            "object_position": null,
            "order": null,
            "overflow": null,
            "overflow_x": null,
            "overflow_y": null,
            "padding": null,
            "right": null,
            "top": null,
            "visibility": null,
            "width": null
          }
        },
        "2c93ae1828d447de94f825e22c54e387": {
          "model_module": "@jupyter-widgets/controls",
          "model_name": "DescriptionStyleModel",
          "model_module_version": "1.5.0",
          "state": {
            "_model_module": "@jupyter-widgets/controls",
            "_model_module_version": "1.5.0",
            "_model_name": "DescriptionStyleModel",
            "_view_count": null,
            "_view_module": "@jupyter-widgets/base",
            "_view_module_version": "1.2.0",
            "_view_name": "StyleView",
            "description_width": ""
          }
        },
        "c5bc5926d25845129addbe15d39c8107": {
          "model_module": "@jupyter-widgets/base",
          "model_name": "LayoutModel",
          "model_module_version": "1.2.0",
          "state": {
            "_model_module": "@jupyter-widgets/base",
            "_model_module_version": "1.2.0",
            "_model_name": "LayoutModel",
            "_view_count": null,
            "_view_module": "@jupyter-widgets/base",
            "_view_module_version": "1.2.0",
            "_view_name": "LayoutView",
            "align_content": null,
            "align_items": null,
            "align_self": null,
            "border": null,
            "bottom": null,
            "display": null,
            "flex": null,
            "flex_flow": null,
            "grid_area": null,
            "grid_auto_columns": null,
            "grid_auto_flow": null,
            "grid_auto_rows": null,
            "grid_column": null,
            "grid_gap": null,
            "grid_row": null,
            "grid_template_areas": null,
            "grid_template_columns": null,
            "grid_template_rows": null,
            "height": null,
            "justify_content": null,
            "justify_items": null,
            "left": null,
            "margin": null,
            "max_height": null,
            "max_width": null,
            "min_height": null,
            "min_width": null,
            "object_fit": null,
            "object_position": null,
            "order": null,
            "overflow": null,
            "overflow_x": null,
            "overflow_y": null,
            "padding": null,
            "right": null,
            "top": null,
            "visibility": null,
            "width": null
          }
        },
        "7983bf2c41524632bac38bad02a0a440": {
          "model_module": "@jupyter-widgets/controls",
          "model_name": "ProgressStyleModel",
          "model_module_version": "1.5.0",
          "state": {
            "_model_module": "@jupyter-widgets/controls",
            "_model_module_version": "1.5.0",
            "_model_name": "ProgressStyleModel",
            "_view_count": null,
            "_view_module": "@jupyter-widgets/base",
            "_view_module_version": "1.2.0",
            "_view_name": "StyleView",
            "bar_color": null,
            "description_width": ""
          }
        },
        "bd9feb3e5fc94b279eb6691e7491a75d": {
          "model_module": "@jupyter-widgets/base",
          "model_name": "LayoutModel",
          "model_module_version": "1.2.0",
          "state": {
            "_model_module": "@jupyter-widgets/base",
            "_model_module_version": "1.2.0",
            "_model_name": "LayoutModel",
            "_view_count": null,
            "_view_module": "@jupyter-widgets/base",
            "_view_module_version": "1.2.0",
            "_view_name": "LayoutView",
            "align_content": null,
            "align_items": null,
            "align_self": null,
            "border": null,
            "bottom": null,
            "display": null,
            "flex": null,
            "flex_flow": null,
            "grid_area": null,
            "grid_auto_columns": null,
            "grid_auto_flow": null,
            "grid_auto_rows": null,
            "grid_column": null,
            "grid_gap": null,
            "grid_row": null,
            "grid_template_areas": null,
            "grid_template_columns": null,
            "grid_template_rows": null,
            "height": null,
            "justify_content": null,
            "justify_items": null,
            "left": null,
            "margin": null,
            "max_height": null,
            "max_width": null,
            "min_height": null,
            "min_width": null,
            "object_fit": null,
            "object_position": null,
            "order": null,
            "overflow": null,
            "overflow_x": null,
            "overflow_y": null,
            "padding": null,
            "right": null,
            "top": null,
            "visibility": null,
            "width": null
          }
        },
        "f4a3f7afe3af4d6faeea4255cbe07013": {
          "model_module": "@jupyter-widgets/controls",
          "model_name": "DescriptionStyleModel",
          "model_module_version": "1.5.0",
          "state": {
            "_model_module": "@jupyter-widgets/controls",
            "_model_module_version": "1.5.0",
            "_model_name": "DescriptionStyleModel",
            "_view_count": null,
            "_view_module": "@jupyter-widgets/base",
            "_view_module_version": "1.2.0",
            "_view_name": "StyleView",
            "description_width": ""
          }
        },
        "8adf3b21b4c54aa9bc1874fe75d67d6a": {
          "model_module": "@jupyter-widgets/controls",
          "model_name": "HBoxModel",
          "model_module_version": "1.5.0",
          "state": {
            "_dom_classes": [],
            "_model_module": "@jupyter-widgets/controls",
            "_model_module_version": "1.5.0",
            "_model_name": "HBoxModel",
            "_view_count": null,
            "_view_module": "@jupyter-widgets/controls",
            "_view_module_version": "1.5.0",
            "_view_name": "HBoxView",
            "box_style": "",
            "children": [
              "IPY_MODEL_658d1244735f4d3288b4d9d21592a150",
              "IPY_MODEL_ceeb7b88b51045c9b935138fd5f0ee32",
              "IPY_MODEL_11410b6a867647cb85c373153a3d78a4"
            ],
            "layout": "IPY_MODEL_8ce0a7081a2c4f8d99c81d72e196aee6"
          }
        },
        "658d1244735f4d3288b4d9d21592a150": {
          "model_module": "@jupyter-widgets/controls",
          "model_name": "HTMLModel",
          "model_module_version": "1.5.0",
          "state": {
            "_dom_classes": [],
            "_model_module": "@jupyter-widgets/controls",
            "_model_module_version": "1.5.0",
            "_model_name": "HTMLModel",
            "_view_count": null,
            "_view_module": "@jupyter-widgets/controls",
            "_view_module_version": "1.5.0",
            "_view_name": "HTMLView",
            "description": "",
            "description_tooltip": null,
            "layout": "IPY_MODEL_50fe96bc42d14597bdf78ffbeb9813cc",
            "placeholder": "​",
            "style": "IPY_MODEL_c08eb1bc0eb7472694b8fa734c664d9d",
            "value": "Downloading data: "
          }
        },
        "ceeb7b88b51045c9b935138fd5f0ee32": {
          "model_module": "@jupyter-widgets/controls",
          "model_name": "FloatProgressModel",
          "model_module_version": "1.5.0",
          "state": {
            "_dom_classes": [],
            "_model_module": "@jupyter-widgets/controls",
            "_model_module_version": "1.5.0",
            "_model_name": "FloatProgressModel",
            "_view_count": null,
            "_view_module": "@jupyter-widgets/controls",
            "_view_module_version": "1.5.0",
            "_view_name": "ProgressView",
            "bar_style": "success",
            "description": "",
            "description_tooltip": null,
            "layout": "IPY_MODEL_966536e634884b2eba0dcf1f965b09a8",
            "max": 291130,
            "min": 0,
            "orientation": "horizontal",
            "style": "IPY_MODEL_494f0093d14b40ea866c265dc35459cd",
            "value": 291130
          }
        },
        "11410b6a867647cb85c373153a3d78a4": {
          "model_module": "@jupyter-widgets/controls",
          "model_name": "HTMLModel",
          "model_module_version": "1.5.0",
          "state": {
            "_dom_classes": [],
            "_model_module": "@jupyter-widgets/controls",
            "_model_module_version": "1.5.0",
            "_model_name": "HTMLModel",
            "_view_count": null,
            "_view_module": "@jupyter-widgets/controls",
            "_view_module_version": "1.5.0",
            "_view_name": "HTMLView",
            "description": "",
            "description_tooltip": null,
            "layout": "IPY_MODEL_bd62ab47ed5a4600a8d5fbd3445c46cc",
            "placeholder": "​",
            "style": "IPY_MODEL_077519645a1f4ccaacbfe8c13f2e7b01",
            "value": " 2.51M/? [00:00&lt;00:00, 32.9MB/s]"
          }
        },
        "8ce0a7081a2c4f8d99c81d72e196aee6": {
          "model_module": "@jupyter-widgets/base",
          "model_name": "LayoutModel",
          "model_module_version": "1.2.0",
          "state": {
            "_model_module": "@jupyter-widgets/base",
            "_model_module_version": "1.2.0",
            "_model_name": "LayoutModel",
            "_view_count": null,
            "_view_module": "@jupyter-widgets/base",
            "_view_module_version": "1.2.0",
            "_view_name": "LayoutView",
            "align_content": null,
            "align_items": null,
            "align_self": null,
            "border": null,
            "bottom": null,
            "display": null,
            "flex": null,
            "flex_flow": null,
            "grid_area": null,
            "grid_auto_columns": null,
            "grid_auto_flow": null,
            "grid_auto_rows": null,
            "grid_column": null,
            "grid_gap": null,
            "grid_row": null,
            "grid_template_areas": null,
            "grid_template_columns": null,
            "grid_template_rows": null,
            "height": null,
            "justify_content": null,
            "justify_items": null,
            "left": null,
            "margin": null,
            "max_height": null,
            "max_width": null,
            "min_height": null,
            "min_width": null,
            "object_fit": null,
            "object_position": null,
            "order": null,
            "overflow": null,
            "overflow_x": null,
            "overflow_y": null,
            "padding": null,
            "right": null,
            "top": null,
            "visibility": null,
            "width": null
          }
        },
        "50fe96bc42d14597bdf78ffbeb9813cc": {
          "model_module": "@jupyter-widgets/base",
          "model_name": "LayoutModel",
          "model_module_version": "1.2.0",
          "state": {
            "_model_module": "@jupyter-widgets/base",
            "_model_module_version": "1.2.0",
            "_model_name": "LayoutModel",
            "_view_count": null,
            "_view_module": "@jupyter-widgets/base",
            "_view_module_version": "1.2.0",
            "_view_name": "LayoutView",
            "align_content": null,
            "align_items": null,
            "align_self": null,
            "border": null,
            "bottom": null,
            "display": null,
            "flex": null,
            "flex_flow": null,
            "grid_area": null,
            "grid_auto_columns": null,
            "grid_auto_flow": null,
            "grid_auto_rows": null,
            "grid_column": null,
            "grid_gap": null,
            "grid_row": null,
            "grid_template_areas": null,
            "grid_template_columns": null,
            "grid_template_rows": null,
            "height": null,
            "justify_content": null,
            "justify_items": null,
            "left": null,
            "margin": null,
            "max_height": null,
            "max_width": null,
            "min_height": null,
            "min_width": null,
            "object_fit": null,
            "object_position": null,
            "order": null,
            "overflow": null,
            "overflow_x": null,
            "overflow_y": null,
            "padding": null,
            "right": null,
            "top": null,
            "visibility": null,
            "width": null
          }
        },
        "c08eb1bc0eb7472694b8fa734c664d9d": {
          "model_module": "@jupyter-widgets/controls",
          "model_name": "DescriptionStyleModel",
          "model_module_version": "1.5.0",
          "state": {
            "_model_module": "@jupyter-widgets/controls",
            "_model_module_version": "1.5.0",
            "_model_name": "DescriptionStyleModel",
            "_view_count": null,
            "_view_module": "@jupyter-widgets/base",
            "_view_module_version": "1.2.0",
            "_view_name": "StyleView",
            "description_width": ""
          }
        },
        "966536e634884b2eba0dcf1f965b09a8": {
          "model_module": "@jupyter-widgets/base",
          "model_name": "LayoutModel",
          "model_module_version": "1.2.0",
          "state": {
            "_model_module": "@jupyter-widgets/base",
            "_model_module_version": "1.2.0",
            "_model_name": "LayoutModel",
            "_view_count": null,
            "_view_module": "@jupyter-widgets/base",
            "_view_module_version": "1.2.0",
            "_view_name": "LayoutView",
            "align_content": null,
            "align_items": null,
            "align_self": null,
            "border": null,
            "bottom": null,
            "display": null,
            "flex": null,
            "flex_flow": null,
            "grid_area": null,
            "grid_auto_columns": null,
            "grid_auto_flow": null,
            "grid_auto_rows": null,
            "grid_column": null,
            "grid_gap": null,
            "grid_row": null,
            "grid_template_areas": null,
            "grid_template_columns": null,
            "grid_template_rows": null,
            "height": null,
            "justify_content": null,
            "justify_items": null,
            "left": null,
            "margin": null,
            "max_height": null,
            "max_width": null,
            "min_height": null,
            "min_width": null,
            "object_fit": null,
            "object_position": null,
            "order": null,
            "overflow": null,
            "overflow_x": null,
            "overflow_y": null,
            "padding": null,
            "right": null,
            "top": null,
            "visibility": null,
            "width": null
          }
        },
        "494f0093d14b40ea866c265dc35459cd": {
          "model_module": "@jupyter-widgets/controls",
          "model_name": "ProgressStyleModel",
          "model_module_version": "1.5.0",
          "state": {
            "_model_module": "@jupyter-widgets/controls",
            "_model_module_version": "1.5.0",
            "_model_name": "ProgressStyleModel",
            "_view_count": null,
            "_view_module": "@jupyter-widgets/base",
            "_view_module_version": "1.2.0",
            "_view_name": "StyleView",
            "bar_color": null,
            "description_width": ""
          }
        },
        "bd62ab47ed5a4600a8d5fbd3445c46cc": {
          "model_module": "@jupyter-widgets/base",
          "model_name": "LayoutModel",
          "model_module_version": "1.2.0",
          "state": {
            "_model_module": "@jupyter-widgets/base",
            "_model_module_version": "1.2.0",
            "_model_name": "LayoutModel",
            "_view_count": null,
            "_view_module": "@jupyter-widgets/base",
            "_view_module_version": "1.2.0",
            "_view_name": "LayoutView",
            "align_content": null,
            "align_items": null,
            "align_self": null,
            "border": null,
            "bottom": null,
            "display": null,
            "flex": null,
            "flex_flow": null,
            "grid_area": null,
            "grid_auto_columns": null,
            "grid_auto_flow": null,
            "grid_auto_rows": null,
            "grid_column": null,
            "grid_gap": null,
            "grid_row": null,
            "grid_template_areas": null,
            "grid_template_columns": null,
            "grid_template_rows": null,
            "height": null,
            "justify_content": null,
            "justify_items": null,
            "left": null,
            "margin": null,
            "max_height": null,
            "max_width": null,
            "min_height": null,
            "min_width": null,
            "object_fit": null,
            "object_position": null,
            "order": null,
            "overflow": null,
            "overflow_x": null,
            "overflow_y": null,
            "padding": null,
            "right": null,
            "top": null,
            "visibility": null,
            "width": null
          }
        },
        "077519645a1f4ccaacbfe8c13f2e7b01": {
          "model_module": "@jupyter-widgets/controls",
          "model_name": "DescriptionStyleModel",
          "model_module_version": "1.5.0",
          "state": {
            "_model_module": "@jupyter-widgets/controls",
            "_model_module_version": "1.5.0",
            "_model_name": "DescriptionStyleModel",
            "_view_count": null,
            "_view_module": "@jupyter-widgets/base",
            "_view_module_version": "1.2.0",
            "_view_name": "StyleView",
            "description_width": ""
          }
        },
        "9c0f23b6240b4980885e070c6b50030b": {
          "model_module": "@jupyter-widgets/controls",
          "model_name": "HBoxModel",
          "model_module_version": "1.5.0",
          "state": {
            "_dom_classes": [],
            "_model_module": "@jupyter-widgets/controls",
            "_model_module_version": "1.5.0",
            "_model_name": "HBoxModel",
            "_view_count": null,
            "_view_module": "@jupyter-widgets/controls",
            "_view_module_version": "1.5.0",
            "_view_name": "HBoxView",
            "box_style": "",
            "children": [
              "IPY_MODEL_068de8cc698b4e76b5c86b9038a64b4e",
              "IPY_MODEL_cbbe7651a1e044b3b55a761b9f304499",
              "IPY_MODEL_24f6523e1e364c9dbae67f9e78d08064"
            ],
            "layout": "IPY_MODEL_96417de5c5114477aaee632da484dd63"
          }
        },
        "068de8cc698b4e76b5c86b9038a64b4e": {
          "model_module": "@jupyter-widgets/controls",
          "model_name": "HTMLModel",
          "model_module_version": "1.5.0",
          "state": {
            "_dom_classes": [],
            "_model_module": "@jupyter-widgets/controls",
            "_model_module_version": "1.5.0",
            "_model_name": "HTMLModel",
            "_view_count": null,
            "_view_module": "@jupyter-widgets/controls",
            "_view_module_version": "1.5.0",
            "_view_name": "HTMLView",
            "description": "",
            "description_tooltip": null,
            "layout": "IPY_MODEL_485fdd4bb3dd43c8bdc6708cefda459e",
            "placeholder": "​",
            "style": "IPY_MODEL_b2bace0da2844fc3825cc7c9fba8118c",
            "value": "Generating train split:  96%"
          }
        },
        "cbbe7651a1e044b3b55a761b9f304499": {
          "model_module": "@jupyter-widgets/controls",
          "model_name": "FloatProgressModel",
          "model_module_version": "1.5.0",
          "state": {
            "_dom_classes": [],
            "_model_module": "@jupyter-widgets/controls",
            "_model_module_version": "1.5.0",
            "_model_name": "FloatProgressModel",
            "_view_count": null,
            "_view_module": "@jupyter-widgets/controls",
            "_view_module_version": "1.5.0",
            "_view_name": "ProgressView",
            "bar_style": "",
            "description": "",
            "description_tooltip": null,
            "layout": "IPY_MODEL_4098a7129eab474e834c3a43792b51a5",
            "max": 15250,
            "min": 0,
            "orientation": "horizontal",
            "style": "IPY_MODEL_940ff646f49542629343529bd2f3ae00",
            "value": 15250
          }
        },
        "24f6523e1e364c9dbae67f9e78d08064": {
          "model_module": "@jupyter-widgets/controls",
          "model_name": "HTMLModel",
          "model_module_version": "1.5.0",
          "state": {
            "_dom_classes": [],
            "_model_module": "@jupyter-widgets/controls",
            "_model_module_version": "1.5.0",
            "_model_name": "HTMLModel",
            "_view_count": null,
            "_view_module": "@jupyter-widgets/controls",
            "_view_module_version": "1.5.0",
            "_view_name": "HTMLView",
            "description": "",
            "description_tooltip": null,
            "layout": "IPY_MODEL_54ce5eb29f1247af850647b4e58d5cd3",
            "placeholder": "​",
            "style": "IPY_MODEL_b9179f30aa75485ba08ab65484d85bae",
            "value": " 14704/15250 [00:00&lt;00:00, 24932.31 examples/s]"
          }
        },
        "96417de5c5114477aaee632da484dd63": {
          "model_module": "@jupyter-widgets/base",
          "model_name": "LayoutModel",
          "model_module_version": "1.2.0",
          "state": {
            "_model_module": "@jupyter-widgets/base",
            "_model_module_version": "1.2.0",
            "_model_name": "LayoutModel",
            "_view_count": null,
            "_view_module": "@jupyter-widgets/base",
            "_view_module_version": "1.2.0",
            "_view_name": "LayoutView",
            "align_content": null,
            "align_items": null,
            "align_self": null,
            "border": null,
            "bottom": null,
            "display": null,
            "flex": null,
            "flex_flow": null,
            "grid_area": null,
            "grid_auto_columns": null,
            "grid_auto_flow": null,
            "grid_auto_rows": null,
            "grid_column": null,
            "grid_gap": null,
            "grid_row": null,
            "grid_template_areas": null,
            "grid_template_columns": null,
            "grid_template_rows": null,
            "height": null,
            "justify_content": null,
            "justify_items": null,
            "left": null,
            "margin": null,
            "max_height": null,
            "max_width": null,
            "min_height": null,
            "min_width": null,
            "object_fit": null,
            "object_position": null,
            "order": null,
            "overflow": null,
            "overflow_x": null,
            "overflow_y": null,
            "padding": null,
            "right": null,
            "top": null,
            "visibility": "hidden",
            "width": null
          }
        },
        "485fdd4bb3dd43c8bdc6708cefda459e": {
          "model_module": "@jupyter-widgets/base",
          "model_name": "LayoutModel",
          "model_module_version": "1.2.0",
          "state": {
            "_model_module": "@jupyter-widgets/base",
            "_model_module_version": "1.2.0",
            "_model_name": "LayoutModel",
            "_view_count": null,
            "_view_module": "@jupyter-widgets/base",
            "_view_module_version": "1.2.0",
            "_view_name": "LayoutView",
            "align_content": null,
            "align_items": null,
            "align_self": null,
            "border": null,
            "bottom": null,
            "display": null,
            "flex": null,
            "flex_flow": null,
            "grid_area": null,
            "grid_auto_columns": null,
            "grid_auto_flow": null,
            "grid_auto_rows": null,
            "grid_column": null,
            "grid_gap": null,
            "grid_row": null,
            "grid_template_areas": null,
            "grid_template_columns": null,
            "grid_template_rows": null,
            "height": null,
            "justify_content": null,
            "justify_items": null,
            "left": null,
            "margin": null,
            "max_height": null,
            "max_width": null,
            "min_height": null,
            "min_width": null,
            "object_fit": null,
            "object_position": null,
            "order": null,
            "overflow": null,
            "overflow_x": null,
            "overflow_y": null,
            "padding": null,
            "right": null,
            "top": null,
            "visibility": null,
            "width": null
          }
        },
        "b2bace0da2844fc3825cc7c9fba8118c": {
          "model_module": "@jupyter-widgets/controls",
          "model_name": "DescriptionStyleModel",
          "model_module_version": "1.5.0",
          "state": {
            "_model_module": "@jupyter-widgets/controls",
            "_model_module_version": "1.5.0",
            "_model_name": "DescriptionStyleModel",
            "_view_count": null,
            "_view_module": "@jupyter-widgets/base",
            "_view_module_version": "1.2.0",
            "_view_name": "StyleView",
            "description_width": ""
          }
        },
        "4098a7129eab474e834c3a43792b51a5": {
          "model_module": "@jupyter-widgets/base",
          "model_name": "LayoutModel",
          "model_module_version": "1.2.0",
          "state": {
            "_model_module": "@jupyter-widgets/base",
            "_model_module_version": "1.2.0",
            "_model_name": "LayoutModel",
            "_view_count": null,
            "_view_module": "@jupyter-widgets/base",
            "_view_module_version": "1.2.0",
            "_view_name": "LayoutView",
            "align_content": null,
            "align_items": null,
            "align_self": null,
            "border": null,
            "bottom": null,
            "display": null,
            "flex": null,
            "flex_flow": null,
            "grid_area": null,
            "grid_auto_columns": null,
            "grid_auto_flow": null,
            "grid_auto_rows": null,
            "grid_column": null,
            "grid_gap": null,
            "grid_row": null,
            "grid_template_areas": null,
            "grid_template_columns": null,
            "grid_template_rows": null,
            "height": null,
            "justify_content": null,
            "justify_items": null,
            "left": null,
            "margin": null,
            "max_height": null,
            "max_width": null,
            "min_height": null,
            "min_width": null,
            "object_fit": null,
            "object_position": null,
            "order": null,
            "overflow": null,
            "overflow_x": null,
            "overflow_y": null,
            "padding": null,
            "right": null,
            "top": null,
            "visibility": null,
            "width": null
          }
        },
        "940ff646f49542629343529bd2f3ae00": {
          "model_module": "@jupyter-widgets/controls",
          "model_name": "ProgressStyleModel",
          "model_module_version": "1.5.0",
          "state": {
            "_model_module": "@jupyter-widgets/controls",
            "_model_module_version": "1.5.0",
            "_model_name": "ProgressStyleModel",
            "_view_count": null,
            "_view_module": "@jupyter-widgets/base",
            "_view_module_version": "1.2.0",
            "_view_name": "StyleView",
            "bar_color": null,
            "description_width": ""
          }
        },
        "54ce5eb29f1247af850647b4e58d5cd3": {
          "model_module": "@jupyter-widgets/base",
          "model_name": "LayoutModel",
          "model_module_version": "1.2.0",
          "state": {
            "_model_module": "@jupyter-widgets/base",
            "_model_module_version": "1.2.0",
            "_model_name": "LayoutModel",
            "_view_count": null,
            "_view_module": "@jupyter-widgets/base",
            "_view_module_version": "1.2.0",
            "_view_name": "LayoutView",
            "align_content": null,
            "align_items": null,
            "align_self": null,
            "border": null,
            "bottom": null,
            "display": null,
            "flex": null,
            "flex_flow": null,
            "grid_area": null,
            "grid_auto_columns": null,
            "grid_auto_flow": null,
            "grid_auto_rows": null,
            "grid_column": null,
            "grid_gap": null,
            "grid_row": null,
            "grid_template_areas": null,
            "grid_template_columns": null,
            "grid_template_rows": null,
            "height": null,
            "justify_content": null,
            "justify_items": null,
            "left": null,
            "margin": null,
            "max_height": null,
            "max_width": null,
            "min_height": null,
            "min_width": null,
            "object_fit": null,
            "object_position": null,
            "order": null,
            "overflow": null,
            "overflow_x": null,
            "overflow_y": null,
            "padding": null,
            "right": null,
            "top": null,
            "visibility": null,
            "width": null
          }
        },
        "b9179f30aa75485ba08ab65484d85bae": {
          "model_module": "@jupyter-widgets/controls",
          "model_name": "DescriptionStyleModel",
          "model_module_version": "1.5.0",
          "state": {
            "_model_module": "@jupyter-widgets/controls",
            "_model_module_version": "1.5.0",
            "_model_name": "DescriptionStyleModel",
            "_view_count": null,
            "_view_module": "@jupyter-widgets/base",
            "_view_module_version": "1.2.0",
            "_view_name": "StyleView",
            "description_width": ""
          }
        },
        "1efb8349e0864802b583a499ba9a2240": {
          "model_module": "@jupyter-widgets/controls",
          "model_name": "HBoxModel",
          "model_module_version": "1.5.0",
          "state": {
            "_dom_classes": [],
            "_model_module": "@jupyter-widgets/controls",
            "_model_module_version": "1.5.0",
            "_model_name": "HBoxModel",
            "_view_count": null,
            "_view_module": "@jupyter-widgets/controls",
            "_view_module_version": "1.5.0",
            "_view_name": "HBoxView",
            "box_style": "",
            "children": [
              "IPY_MODEL_9c315dda17c04e3aa99b9c9d314f4dd0",
              "IPY_MODEL_40d41522b6a84511843bbf65cf9d1600",
              "IPY_MODEL_0a1fd981e4684fb2b22f97acd9537dbe"
            ],
            "layout": "IPY_MODEL_aa1691f42c9848ffb853e91ec238eeb4"
          }
        },
        "9c315dda17c04e3aa99b9c9d314f4dd0": {
          "model_module": "@jupyter-widgets/controls",
          "model_name": "HTMLModel",
          "model_module_version": "1.5.0",
          "state": {
            "_dom_classes": [],
            "_model_module": "@jupyter-widgets/controls",
            "_model_module_version": "1.5.0",
            "_model_name": "HTMLModel",
            "_view_count": null,
            "_view_module": "@jupyter-widgets/controls",
            "_view_module_version": "1.5.0",
            "_view_name": "HTMLView",
            "description": "",
            "description_tooltip": null,
            "layout": "IPY_MODEL_e707749e5b5a4236b0bc5f1d0d26aa7b",
            "placeholder": "​",
            "style": "IPY_MODEL_a60249bcc01c478cabdbda820d23b56a",
            "value": "Generating validation split:  29%"
          }
        },
        "40d41522b6a84511843bbf65cf9d1600": {
          "model_module": "@jupyter-widgets/controls",
          "model_name": "FloatProgressModel",
          "model_module_version": "1.5.0",
          "state": {
            "_dom_classes": [],
            "_model_module": "@jupyter-widgets/controls",
            "_model_module_version": "1.5.0",
            "_model_name": "FloatProgressModel",
            "_view_count": null,
            "_view_module": "@jupyter-widgets/controls",
            "_view_module_version": "1.5.0",
            "_view_name": "ProgressView",
            "bar_style": "",
            "description": "",
            "description_tooltip": null,
            "layout": "IPY_MODEL_75c0ef49624249a6ab2b5aef6b997c68",
            "max": 3100,
            "min": 0,
            "orientation": "horizontal",
            "style": "IPY_MODEL_7f4efd47d831414c964da334e12f4bd7",
            "value": 3100
          }
        },
        "0a1fd981e4684fb2b22f97acd9537dbe": {
          "model_module": "@jupyter-widgets/controls",
          "model_name": "HTMLModel",
          "model_module_version": "1.5.0",
          "state": {
            "_dom_classes": [],
            "_model_module": "@jupyter-widgets/controls",
            "_model_module_version": "1.5.0",
            "_model_name": "HTMLModel",
            "_view_count": null,
            "_view_module": "@jupyter-widgets/controls",
            "_view_module_version": "1.5.0",
            "_view_name": "HTMLView",
            "description": "",
            "description_tooltip": null,
            "layout": "IPY_MODEL_f0288ac7984f495291c9091f15a1c434",
            "placeholder": "​",
            "style": "IPY_MODEL_32552ed63c494b648bfb09b2521d0025",
            "value": " 889/3100 [00:00&lt;00:00, 8887.21 examples/s]"
          }
        },
        "aa1691f42c9848ffb853e91ec238eeb4": {
          "model_module": "@jupyter-widgets/base",
          "model_name": "LayoutModel",
          "model_module_version": "1.2.0",
          "state": {
            "_model_module": "@jupyter-widgets/base",
            "_model_module_version": "1.2.0",
            "_model_name": "LayoutModel",
            "_view_count": null,
            "_view_module": "@jupyter-widgets/base",
            "_view_module_version": "1.2.0",
            "_view_name": "LayoutView",
            "align_content": null,
            "align_items": null,
            "align_self": null,
            "border": null,
            "bottom": null,
            "display": null,
            "flex": null,
            "flex_flow": null,
            "grid_area": null,
            "grid_auto_columns": null,
            "grid_auto_flow": null,
            "grid_auto_rows": null,
            "grid_column": null,
            "grid_gap": null,
            "grid_row": null,
            "grid_template_areas": null,
            "grid_template_columns": null,
            "grid_template_rows": null,
            "height": null,
            "justify_content": null,
            "justify_items": null,
            "left": null,
            "margin": null,
            "max_height": null,
            "max_width": null,
            "min_height": null,
            "min_width": null,
            "object_fit": null,
            "object_position": null,
            "order": null,
            "overflow": null,
            "overflow_x": null,
            "overflow_y": null,
            "padding": null,
            "right": null,
            "top": null,
            "visibility": "hidden",
            "width": null
          }
        },
        "e707749e5b5a4236b0bc5f1d0d26aa7b": {
          "model_module": "@jupyter-widgets/base",
          "model_name": "LayoutModel",
          "model_module_version": "1.2.0",
          "state": {
            "_model_module": "@jupyter-widgets/base",
            "_model_module_version": "1.2.0",
            "_model_name": "LayoutModel",
            "_view_count": null,
            "_view_module": "@jupyter-widgets/base",
            "_view_module_version": "1.2.0",
            "_view_name": "LayoutView",
            "align_content": null,
            "align_items": null,
            "align_self": null,
            "border": null,
            "bottom": null,
            "display": null,
            "flex": null,
            "flex_flow": null,
            "grid_area": null,
            "grid_auto_columns": null,
            "grid_auto_flow": null,
            "grid_auto_rows": null,
            "grid_column": null,
            "grid_gap": null,
            "grid_row": null,
            "grid_template_areas": null,
            "grid_template_columns": null,
            "grid_template_rows": null,
            "height": null,
            "justify_content": null,
            "justify_items": null,
            "left": null,
            "margin": null,
            "max_height": null,
            "max_width": null,
            "min_height": null,
            "min_width": null,
            "object_fit": null,
            "object_position": null,
            "order": null,
            "overflow": null,
            "overflow_x": null,
            "overflow_y": null,
            "padding": null,
            "right": null,
            "top": null,
            "visibility": null,
            "width": null
          }
        },
        "a60249bcc01c478cabdbda820d23b56a": {
          "model_module": "@jupyter-widgets/controls",
          "model_name": "DescriptionStyleModel",
          "model_module_version": "1.5.0",
          "state": {
            "_model_module": "@jupyter-widgets/controls",
            "_model_module_version": "1.5.0",
            "_model_name": "DescriptionStyleModel",
            "_view_count": null,
            "_view_module": "@jupyter-widgets/base",
            "_view_module_version": "1.2.0",
            "_view_name": "StyleView",
            "description_width": ""
          }
        },
        "75c0ef49624249a6ab2b5aef6b997c68": {
          "model_module": "@jupyter-widgets/base",
          "model_name": "LayoutModel",
          "model_module_version": "1.2.0",
          "state": {
            "_model_module": "@jupyter-widgets/base",
            "_model_module_version": "1.2.0",
            "_model_name": "LayoutModel",
            "_view_count": null,
            "_view_module": "@jupyter-widgets/base",
            "_view_module_version": "1.2.0",
            "_view_name": "LayoutView",
            "align_content": null,
            "align_items": null,
            "align_self": null,
            "border": null,
            "bottom": null,
            "display": null,
            "flex": null,
            "flex_flow": null,
            "grid_area": null,
            "grid_auto_columns": null,
            "grid_auto_flow": null,
            "grid_auto_rows": null,
            "grid_column": null,
            "grid_gap": null,
            "grid_row": null,
            "grid_template_areas": null,
            "grid_template_columns": null,
            "grid_template_rows": null,
            "height": null,
            "justify_content": null,
            "justify_items": null,
            "left": null,
            "margin": null,
            "max_height": null,
            "max_width": null,
            "min_height": null,
            "min_width": null,
            "object_fit": null,
            "object_position": null,
            "order": null,
            "overflow": null,
            "overflow_x": null,
            "overflow_y": null,
            "padding": null,
            "right": null,
            "top": null,
            "visibility": null,
            "width": null
          }
        },
        "7f4efd47d831414c964da334e12f4bd7": {
          "model_module": "@jupyter-widgets/controls",
          "model_name": "ProgressStyleModel",
          "model_module_version": "1.5.0",
          "state": {
            "_model_module": "@jupyter-widgets/controls",
            "_model_module_version": "1.5.0",
            "_model_name": "ProgressStyleModel",
            "_view_count": null,
            "_view_module": "@jupyter-widgets/base",
            "_view_module_version": "1.2.0",
            "_view_name": "StyleView",
            "bar_color": null,
            "description_width": ""
          }
        },
        "f0288ac7984f495291c9091f15a1c434": {
          "model_module": "@jupyter-widgets/base",
          "model_name": "LayoutModel",
          "model_module_version": "1.2.0",
          "state": {
            "_model_module": "@jupyter-widgets/base",
            "_model_module_version": "1.2.0",
            "_model_name": "LayoutModel",
            "_view_count": null,
            "_view_module": "@jupyter-widgets/base",
            "_view_module_version": "1.2.0",
            "_view_name": "LayoutView",
            "align_content": null,
            "align_items": null,
            "align_self": null,
            "border": null,
            "bottom": null,
            "display": null,
            "flex": null,
            "flex_flow": null,
            "grid_area": null,
            "grid_auto_columns": null,
            "grid_auto_flow": null,
            "grid_auto_rows": null,
            "grid_column": null,
            "grid_gap": null,
            "grid_row": null,
            "grid_template_areas": null,
            "grid_template_columns": null,
            "grid_template_rows": null,
            "height": null,
            "justify_content": null,
            "justify_items": null,
            "left": null,
            "margin": null,
            "max_height": null,
            "max_width": null,
            "min_height": null,
            "min_width": null,
            "object_fit": null,
            "object_position": null,
            "order": null,
            "overflow": null,
            "overflow_x": null,
            "overflow_y": null,
            "padding": null,
            "right": null,
            "top": null,
            "visibility": null,
            "width": null
          }
        },
        "32552ed63c494b648bfb09b2521d0025": {
          "model_module": "@jupyter-widgets/controls",
          "model_name": "DescriptionStyleModel",
          "model_module_version": "1.5.0",
          "state": {
            "_model_module": "@jupyter-widgets/controls",
            "_model_module_version": "1.5.0",
            "_model_name": "DescriptionStyleModel",
            "_view_count": null,
            "_view_module": "@jupyter-widgets/base",
            "_view_module_version": "1.2.0",
            "_view_name": "StyleView",
            "description_width": ""
          }
        },
        "5fbcf9cad8604731b23cddbecca5c693": {
          "model_module": "@jupyter-widgets/controls",
          "model_name": "HBoxModel",
          "model_module_version": "1.5.0",
          "state": {
            "_dom_classes": [],
            "_model_module": "@jupyter-widgets/controls",
            "_model_module_version": "1.5.0",
            "_model_name": "HBoxModel",
            "_view_count": null,
            "_view_module": "@jupyter-widgets/controls",
            "_view_module_version": "1.5.0",
            "_view_name": "HBoxView",
            "box_style": "",
            "children": [
              "IPY_MODEL_564e09ef0d484201bcbfa8a7909746b3",
              "IPY_MODEL_d798bd8fc4f547b5819c54f9c554b0cd",
              "IPY_MODEL_f01b9760978045f6834094fbbf147336"
            ],
            "layout": "IPY_MODEL_0e5b73ce352c446d812d9770c69b943d"
          }
        },
        "564e09ef0d484201bcbfa8a7909746b3": {
          "model_module": "@jupyter-widgets/controls",
          "model_name": "HTMLModel",
          "model_module_version": "1.5.0",
          "state": {
            "_dom_classes": [],
            "_model_module": "@jupyter-widgets/controls",
            "_model_module_version": "1.5.0",
            "_model_name": "HTMLModel",
            "_view_count": null,
            "_view_module": "@jupyter-widgets/controls",
            "_view_module_version": "1.5.0",
            "_view_name": "HTMLView",
            "description": "",
            "description_tooltip": null,
            "layout": "IPY_MODEL_a3ca02afef3f4cc7a623c496ded61da6",
            "placeholder": "​",
            "style": "IPY_MODEL_c82d8d0f6a9e41a9880d1013ef461594",
            "value": "Generating test split: 100%"
          }
        },
        "d798bd8fc4f547b5819c54f9c554b0cd": {
          "model_module": "@jupyter-widgets/controls",
          "model_name": "FloatProgressModel",
          "model_module_version": "1.5.0",
          "state": {
            "_dom_classes": [],
            "_model_module": "@jupyter-widgets/controls",
            "_model_module_version": "1.5.0",
            "_model_name": "FloatProgressModel",
            "_view_count": null,
            "_view_module": "@jupyter-widgets/controls",
            "_view_module_version": "1.5.0",
            "_view_name": "ProgressView",
            "bar_style": "",
            "description": "",
            "description_tooltip": null,
            "layout": "IPY_MODEL_fa4028543dba492f82e508b0087ed593",
            "max": 5500,
            "min": 0,
            "orientation": "horizontal",
            "style": "IPY_MODEL_3a260ea418be4aa5a2df357cceea46a5",
            "value": 5500
          }
        },
        "f01b9760978045f6834094fbbf147336": {
          "model_module": "@jupyter-widgets/controls",
          "model_name": "HTMLModel",
          "model_module_version": "1.5.0",
          "state": {
            "_dom_classes": [],
            "_model_module": "@jupyter-widgets/controls",
            "_model_module_version": "1.5.0",
            "_model_name": "HTMLModel",
            "_view_count": null,
            "_view_module": "@jupyter-widgets/controls",
            "_view_module_version": "1.5.0",
            "_view_name": "HTMLView",
            "description": "",
            "description_tooltip": null,
            "layout": "IPY_MODEL_ec73d2546da547ff838338b486abb62a",
            "placeholder": "​",
            "style": "IPY_MODEL_3c14468890b940ac98e27e061c30ddd8",
            "value": " 5500/5500 [00:00&lt;00:00, 13560.13 examples/s]"
          }
        },
        "0e5b73ce352c446d812d9770c69b943d": {
          "model_module": "@jupyter-widgets/base",
          "model_name": "LayoutModel",
          "model_module_version": "1.2.0",
          "state": {
            "_model_module": "@jupyter-widgets/base",
            "_model_module_version": "1.2.0",
            "_model_name": "LayoutModel",
            "_view_count": null,
            "_view_module": "@jupyter-widgets/base",
            "_view_module_version": "1.2.0",
            "_view_name": "LayoutView",
            "align_content": null,
            "align_items": null,
            "align_self": null,
            "border": null,
            "bottom": null,
            "display": null,
            "flex": null,
            "flex_flow": null,
            "grid_area": null,
            "grid_auto_columns": null,
            "grid_auto_flow": null,
            "grid_auto_rows": null,
            "grid_column": null,
            "grid_gap": null,
            "grid_row": null,
            "grid_template_areas": null,
            "grid_template_columns": null,
            "grid_template_rows": null,
            "height": null,
            "justify_content": null,
            "justify_items": null,
            "left": null,
            "margin": null,
            "max_height": null,
            "max_width": null,
            "min_height": null,
            "min_width": null,
            "object_fit": null,
            "object_position": null,
            "order": null,
            "overflow": null,
            "overflow_x": null,
            "overflow_y": null,
            "padding": null,
            "right": null,
            "top": null,
            "visibility": "hidden",
            "width": null
          }
        },
        "a3ca02afef3f4cc7a623c496ded61da6": {
          "model_module": "@jupyter-widgets/base",
          "model_name": "LayoutModel",
          "model_module_version": "1.2.0",
          "state": {
            "_model_module": "@jupyter-widgets/base",
            "_model_module_version": "1.2.0",
            "_model_name": "LayoutModel",
            "_view_count": null,
            "_view_module": "@jupyter-widgets/base",
            "_view_module_version": "1.2.0",
            "_view_name": "LayoutView",
            "align_content": null,
            "align_items": null,
            "align_self": null,
            "border": null,
            "bottom": null,
            "display": null,
            "flex": null,
            "flex_flow": null,
            "grid_area": null,
            "grid_auto_columns": null,
            "grid_auto_flow": null,
            "grid_auto_rows": null,
            "grid_column": null,
            "grid_gap": null,
            "grid_row": null,
            "grid_template_areas": null,
            "grid_template_columns": null,
            "grid_template_rows": null,
            "height": null,
            "justify_content": null,
            "justify_items": null,
            "left": null,
            "margin": null,
            "max_height": null,
            "max_width": null,
            "min_height": null,
            "min_width": null,
            "object_fit": null,
            "object_position": null,
            "order": null,
            "overflow": null,
            "overflow_x": null,
            "overflow_y": null,
            "padding": null,
            "right": null,
            "top": null,
            "visibility": null,
            "width": null
          }
        },
        "c82d8d0f6a9e41a9880d1013ef461594": {
          "model_module": "@jupyter-widgets/controls",
          "model_name": "DescriptionStyleModel",
          "model_module_version": "1.5.0",
          "state": {
            "_model_module": "@jupyter-widgets/controls",
            "_model_module_version": "1.5.0",
            "_model_name": "DescriptionStyleModel",
            "_view_count": null,
            "_view_module": "@jupyter-widgets/base",
            "_view_module_version": "1.2.0",
            "_view_name": "StyleView",
            "description_width": ""
          }
        },
        "fa4028543dba492f82e508b0087ed593": {
          "model_module": "@jupyter-widgets/base",
          "model_name": "LayoutModel",
          "model_module_version": "1.2.0",
          "state": {
            "_model_module": "@jupyter-widgets/base",
            "_model_module_version": "1.2.0",
            "_model_name": "LayoutModel",
            "_view_count": null,
            "_view_module": "@jupyter-widgets/base",
            "_view_module_version": "1.2.0",
            "_view_name": "LayoutView",
            "align_content": null,
            "align_items": null,
            "align_self": null,
            "border": null,
            "bottom": null,
            "display": null,
            "flex": null,
            "flex_flow": null,
            "grid_area": null,
            "grid_auto_columns": null,
            "grid_auto_flow": null,
            "grid_auto_rows": null,
            "grid_column": null,
            "grid_gap": null,
            "grid_row": null,
            "grid_template_areas": null,
            "grid_template_columns": null,
            "grid_template_rows": null,
            "height": null,
            "justify_content": null,
            "justify_items": null,
            "left": null,
            "margin": null,
            "max_height": null,
            "max_width": null,
            "min_height": null,
            "min_width": null,
            "object_fit": null,
            "object_position": null,
            "order": null,
            "overflow": null,
            "overflow_x": null,
            "overflow_y": null,
            "padding": null,
            "right": null,
            "top": null,
            "visibility": null,
            "width": null
          }
        },
        "3a260ea418be4aa5a2df357cceea46a5": {
          "model_module": "@jupyter-widgets/controls",
          "model_name": "ProgressStyleModel",
          "model_module_version": "1.5.0",
          "state": {
            "_model_module": "@jupyter-widgets/controls",
            "_model_module_version": "1.5.0",
            "_model_name": "ProgressStyleModel",
            "_view_count": null,
            "_view_module": "@jupyter-widgets/base",
            "_view_module_version": "1.2.0",
            "_view_name": "StyleView",
            "bar_color": null,
            "description_width": ""
          }
        },
        "ec73d2546da547ff838338b486abb62a": {
          "model_module": "@jupyter-widgets/base",
          "model_name": "LayoutModel",
          "model_module_version": "1.2.0",
          "state": {
            "_model_module": "@jupyter-widgets/base",
            "_model_module_version": "1.2.0",
            "_model_name": "LayoutModel",
            "_view_count": null,
            "_view_module": "@jupyter-widgets/base",
            "_view_module_version": "1.2.0",
            "_view_name": "LayoutView",
            "align_content": null,
            "align_items": null,
            "align_self": null,
            "border": null,
            "bottom": null,
            "display": null,
            "flex": null,
            "flex_flow": null,
            "grid_area": null,
            "grid_auto_columns": null,
            "grid_auto_flow": null,
            "grid_auto_rows": null,
            "grid_column": null,
            "grid_gap": null,
            "grid_row": null,
            "grid_template_areas": null,
            "grid_template_columns": null,
            "grid_template_rows": null,
            "height": null,
            "justify_content": null,
            "justify_items": null,
            "left": null,
            "margin": null,
            "max_height": null,
            "max_width": null,
            "min_height": null,
            "min_width": null,
            "object_fit": null,
            "object_position": null,
            "order": null,
            "overflow": null,
            "overflow_x": null,
            "overflow_y": null,
            "padding": null,
            "right": null,
            "top": null,
            "visibility": null,
            "width": null
          }
        },
        "3c14468890b940ac98e27e061c30ddd8": {
          "model_module": "@jupyter-widgets/controls",
          "model_name": "DescriptionStyleModel",
          "model_module_version": "1.5.0",
          "state": {
            "_model_module": "@jupyter-widgets/controls",
            "_model_module_version": "1.5.0",
            "_model_name": "DescriptionStyleModel",
            "_view_count": null,
            "_view_module": "@jupyter-widgets/base",
            "_view_module_version": "1.2.0",
            "_view_name": "StyleView",
            "description_width": ""
          }
        },
        "e35623bee0a54857a4abfbb102670390": {
          "model_module": "@jupyter-widgets/controls",
          "model_name": "HBoxModel",
          "model_module_version": "1.5.0",
          "state": {
            "_dom_classes": [],
            "_model_module": "@jupyter-widgets/controls",
            "_model_module_version": "1.5.0",
            "_model_name": "HBoxModel",
            "_view_count": null,
            "_view_module": "@jupyter-widgets/controls",
            "_view_module_version": "1.5.0",
            "_view_name": "HBoxView",
            "box_style": "",
            "children": [
              "IPY_MODEL_693913c1c6db488dab5055bdb983b381",
              "IPY_MODEL_a29d6c41cbfe49379f32809d5d537fc5",
              "IPY_MODEL_0a0bbf140fbf4c42ad226c006fee85cf"
            ],
            "layout": "IPY_MODEL_4c0f14f7fa8e4a8089181da96dcf5f51"
          }
        },
        "693913c1c6db488dab5055bdb983b381": {
          "model_module": "@jupyter-widgets/controls",
          "model_name": "HTMLModel",
          "model_module_version": "1.5.0",
          "state": {
            "_dom_classes": [],
            "_model_module": "@jupyter-widgets/controls",
            "_model_module_version": "1.5.0",
            "_model_name": "HTMLModel",
            "_view_count": null,
            "_view_module": "@jupyter-widgets/controls",
            "_view_module_version": "1.5.0",
            "_view_name": "HTMLView",
            "description": "",
            "description_tooltip": null,
            "layout": "IPY_MODEL_4d64a20e88ae491795cbdd51304282d4",
            "placeholder": "​",
            "style": "IPY_MODEL_e01dbae90eb342a0aded0e1a11168a04",
            "value": "100%"
          }
        },
        "a29d6c41cbfe49379f32809d5d537fc5": {
          "model_module": "@jupyter-widgets/controls",
          "model_name": "FloatProgressModel",
          "model_module_version": "1.5.0",
          "state": {
            "_dom_classes": [],
            "_model_module": "@jupyter-widgets/controls",
            "_model_module_version": "1.5.0",
            "_model_name": "FloatProgressModel",
            "_view_count": null,
            "_view_module": "@jupyter-widgets/controls",
            "_view_module_version": "1.5.0",
            "_view_name": "ProgressView",
            "bar_style": "success",
            "description": "",
            "description_tooltip": null,
            "layout": "IPY_MODEL_658eb99f561545abb567e071b5f9a865",
            "max": 3,
            "min": 0,
            "orientation": "horizontal",
            "style": "IPY_MODEL_bbfd8341689a47a583aba64fd5640228",
            "value": 3
          }
        },
        "0a0bbf140fbf4c42ad226c006fee85cf": {
          "model_module": "@jupyter-widgets/controls",
          "model_name": "HTMLModel",
          "model_module_version": "1.5.0",
          "state": {
            "_dom_classes": [],
            "_model_module": "@jupyter-widgets/controls",
            "_model_module_version": "1.5.0",
            "_model_name": "HTMLModel",
            "_view_count": null,
            "_view_module": "@jupyter-widgets/controls",
            "_view_module_version": "1.5.0",
            "_view_name": "HTMLView",
            "description": "",
            "description_tooltip": null,
            "layout": "IPY_MODEL_202f9420effa480d904013bcc486e8d3",
            "placeholder": "​",
            "style": "IPY_MODEL_bf0653813adb47caa0cf26e50063634f",
            "value": " 3/3 [00:00&lt;00:00, 43.63it/s]"
          }
        },
        "4c0f14f7fa8e4a8089181da96dcf5f51": {
          "model_module": "@jupyter-widgets/base",
          "model_name": "LayoutModel",
          "model_module_version": "1.2.0",
          "state": {
            "_model_module": "@jupyter-widgets/base",
            "_model_module_version": "1.2.0",
            "_model_name": "LayoutModel",
            "_view_count": null,
            "_view_module": "@jupyter-widgets/base",
            "_view_module_version": "1.2.0",
            "_view_name": "LayoutView",
            "align_content": null,
            "align_items": null,
            "align_self": null,
            "border": null,
            "bottom": null,
            "display": null,
            "flex": null,
            "flex_flow": null,
            "grid_area": null,
            "grid_auto_columns": null,
            "grid_auto_flow": null,
            "grid_auto_rows": null,
            "grid_column": null,
            "grid_gap": null,
            "grid_row": null,
            "grid_template_areas": null,
            "grid_template_columns": null,
            "grid_template_rows": null,
            "height": null,
            "justify_content": null,
            "justify_items": null,
            "left": null,
            "margin": null,
            "max_height": null,
            "max_width": null,
            "min_height": null,
            "min_width": null,
            "object_fit": null,
            "object_position": null,
            "order": null,
            "overflow": null,
            "overflow_x": null,
            "overflow_y": null,
            "padding": null,
            "right": null,
            "top": null,
            "visibility": null,
            "width": null
          }
        },
        "4d64a20e88ae491795cbdd51304282d4": {
          "model_module": "@jupyter-widgets/base",
          "model_name": "LayoutModel",
          "model_module_version": "1.2.0",
          "state": {
            "_model_module": "@jupyter-widgets/base",
            "_model_module_version": "1.2.0",
            "_model_name": "LayoutModel",
            "_view_count": null,
            "_view_module": "@jupyter-widgets/base",
            "_view_module_version": "1.2.0",
            "_view_name": "LayoutView",
            "align_content": null,
            "align_items": null,
            "align_self": null,
            "border": null,
            "bottom": null,
            "display": null,
            "flex": null,
            "flex_flow": null,
            "grid_area": null,
            "grid_auto_columns": null,
            "grid_auto_flow": null,
            "grid_auto_rows": null,
            "grid_column": null,
            "grid_gap": null,
            "grid_row": null,
            "grid_template_areas": null,
            "grid_template_columns": null,
            "grid_template_rows": null,
            "height": null,
            "justify_content": null,
            "justify_items": null,
            "left": null,
            "margin": null,
            "max_height": null,
            "max_width": null,
            "min_height": null,
            "min_width": null,
            "object_fit": null,
            "object_position": null,
            "order": null,
            "overflow": null,
            "overflow_x": null,
            "overflow_y": null,
            "padding": null,
            "right": null,
            "top": null,
            "visibility": null,
            "width": null
          }
        },
        "e01dbae90eb342a0aded0e1a11168a04": {
          "model_module": "@jupyter-widgets/controls",
          "model_name": "DescriptionStyleModel",
          "model_module_version": "1.5.0",
          "state": {
            "_model_module": "@jupyter-widgets/controls",
            "_model_module_version": "1.5.0",
            "_model_name": "DescriptionStyleModel",
            "_view_count": null,
            "_view_module": "@jupyter-widgets/base",
            "_view_module_version": "1.2.0",
            "_view_name": "StyleView",
            "description_width": ""
          }
        },
        "658eb99f561545abb567e071b5f9a865": {
          "model_module": "@jupyter-widgets/base",
          "model_name": "LayoutModel",
          "model_module_version": "1.2.0",
          "state": {
            "_model_module": "@jupyter-widgets/base",
            "_model_module_version": "1.2.0",
            "_model_name": "LayoutModel",
            "_view_count": null,
            "_view_module": "@jupyter-widgets/base",
            "_view_module_version": "1.2.0",
            "_view_name": "LayoutView",
            "align_content": null,
            "align_items": null,
            "align_self": null,
            "border": null,
            "bottom": null,
            "display": null,
            "flex": null,
            "flex_flow": null,
            "grid_area": null,
            "grid_auto_columns": null,
            "grid_auto_flow": null,
            "grid_auto_rows": null,
            "grid_column": null,
            "grid_gap": null,
            "grid_row": null,
            "grid_template_areas": null,
            "grid_template_columns": null,
            "grid_template_rows": null,
            "height": null,
            "justify_content": null,
            "justify_items": null,
            "left": null,
            "margin": null,
            "max_height": null,
            "max_width": null,
            "min_height": null,
            "min_width": null,
            "object_fit": null,
            "object_position": null,
            "order": null,
            "overflow": null,
            "overflow_x": null,
            "overflow_y": null,
            "padding": null,
            "right": null,
            "top": null,
            "visibility": null,
            "width": null
          }
        },
        "bbfd8341689a47a583aba64fd5640228": {
          "model_module": "@jupyter-widgets/controls",
          "model_name": "ProgressStyleModel",
          "model_module_version": "1.5.0",
          "state": {
            "_model_module": "@jupyter-widgets/controls",
            "_model_module_version": "1.5.0",
            "_model_name": "ProgressStyleModel",
            "_view_count": null,
            "_view_module": "@jupyter-widgets/base",
            "_view_module_version": "1.2.0",
            "_view_name": "StyleView",
            "bar_color": null,
            "description_width": ""
          }
        },
        "202f9420effa480d904013bcc486e8d3": {
          "model_module": "@jupyter-widgets/base",
          "model_name": "LayoutModel",
          "model_module_version": "1.2.0",
          "state": {
            "_model_module": "@jupyter-widgets/base",
            "_model_module_version": "1.2.0",
            "_model_name": "LayoutModel",
            "_view_count": null,
            "_view_module": "@jupyter-widgets/base",
            "_view_module_version": "1.2.0",
            "_view_name": "LayoutView",
            "align_content": null,
            "align_items": null,
            "align_self": null,
            "border": null,
            "bottom": null,
            "display": null,
            "flex": null,
            "flex_flow": null,
            "grid_area": null,
            "grid_auto_columns": null,
            "grid_auto_flow": null,
            "grid_auto_rows": null,
            "grid_column": null,
            "grid_gap": null,
            "grid_row": null,
            "grid_template_areas": null,
            "grid_template_columns": null,
            "grid_template_rows": null,
            "height": null,
            "justify_content": null,
            "justify_items": null,
            "left": null,
            "margin": null,
            "max_height": null,
            "max_width": null,
            "min_height": null,
            "min_width": null,
            "object_fit": null,
            "object_position": null,
            "order": null,
            "overflow": null,
            "overflow_x": null,
            "overflow_y": null,
            "padding": null,
            "right": null,
            "top": null,
            "visibility": null,
            "width": null
          }
        },
        "bf0653813adb47caa0cf26e50063634f": {
          "model_module": "@jupyter-widgets/controls",
          "model_name": "DescriptionStyleModel",
          "model_module_version": "1.5.0",
          "state": {
            "_model_module": "@jupyter-widgets/controls",
            "_model_module_version": "1.5.0",
            "_model_name": "DescriptionStyleModel",
            "_view_count": null,
            "_view_module": "@jupyter-widgets/base",
            "_view_module_version": "1.2.0",
            "_view_name": "StyleView",
            "description_width": ""
          }
        }
      }
    }
  },
  "cells": [
    {
      "cell_type": "markdown",
      "metadata": {
        "id": "view-in-github",
        "colab_type": "text"
      },
      "source": [
        "<a href=\"https://colab.research.google.com/github/Dyakonov/Colab/blob/main/dj_CLUSTERexperimentsN3.ipynb\" target=\"_parent\"><img src=\"https://colab.research.google.com/assets/colab-badge.svg\" alt=\"Open In Colab\"/></a>"
      ]
    },
    {
      "cell_type": "code",
      "execution_count": null,
      "metadata": {
        "id": "c2YkPmDPlRn0"
      },
      "outputs": [],
      "source": []
    },
    {
      "cell_type": "markdown",
      "source": [
        "# Эксперименты с частичными преобразованиями\n",
        "делаю проекциюб используя только часть данных"
      ],
      "metadata": {
        "id": "X0I10n63lbTF"
      }
    },
    {
      "cell_type": "code",
      "source": [
        "!pip install umap-learn"
      ],
      "metadata": {
        "colab": {
          "base_uri": "https://localhost:8080/"
        },
        "id": "82XRKakel7Aj",
        "outputId": "184cf58b-928f-46af-e839-084843abc99a"
      },
      "execution_count": null,
      "outputs": [
        {
          "output_type": "stream",
          "name": "stdout",
          "text": [
            "Looking in indexes: https://pypi.org/simple, https://us-python.pkg.dev/colab-wheels/public/simple/\n",
            "Collecting umap-learn\n",
            "  Downloading umap-learn-0.5.3.tar.gz (88 kB)\n",
            "\u001b[K     |████████████████████████████████| 88 kB 7.1 MB/s \n",
            "\u001b[?25hRequirement already satisfied: numpy>=1.17 in /usr/local/lib/python3.7/dist-packages (from umap-learn) (1.21.6)\n",
            "Requirement already satisfied: scikit-learn>=0.22 in /usr/local/lib/python3.7/dist-packages (from umap-learn) (1.0.2)\n",
            "Requirement already satisfied: scipy>=1.0 in /usr/local/lib/python3.7/dist-packages (from umap-learn) (1.7.3)\n",
            "Requirement already satisfied: numba>=0.49 in /usr/local/lib/python3.7/dist-packages (from umap-learn) (0.56.2)\n",
            "Collecting pynndescent>=0.5\n",
            "  Downloading pynndescent-0.5.7.tar.gz (1.1 MB)\n",
            "\u001b[K     |████████████████████████████████| 1.1 MB 42.7 MB/s \n",
            "\u001b[?25hRequirement already satisfied: tqdm in /usr/local/lib/python3.7/dist-packages (from umap-learn) (4.64.1)\n",
            "Requirement already satisfied: setuptools<60 in /usr/local/lib/python3.7/dist-packages (from numba>=0.49->umap-learn) (57.4.0)\n",
            "Requirement already satisfied: importlib-metadata in /usr/local/lib/python3.7/dist-packages (from numba>=0.49->umap-learn) (4.12.0)\n",
            "Requirement already satisfied: llvmlite<0.40,>=0.39.0dev0 in /usr/local/lib/python3.7/dist-packages (from numba>=0.49->umap-learn) (0.39.1)\n",
            "Requirement already satisfied: joblib>=0.11 in /usr/local/lib/python3.7/dist-packages (from pynndescent>=0.5->umap-learn) (1.1.0)\n",
            "Requirement already satisfied: threadpoolctl>=2.0.0 in /usr/local/lib/python3.7/dist-packages (from scikit-learn>=0.22->umap-learn) (3.1.0)\n",
            "Requirement already satisfied: typing-extensions>=3.6.4 in /usr/local/lib/python3.7/dist-packages (from importlib-metadata->numba>=0.49->umap-learn) (4.1.1)\n",
            "Requirement already satisfied: zipp>=0.5 in /usr/local/lib/python3.7/dist-packages (from importlib-metadata->numba>=0.49->umap-learn) (3.8.1)\n",
            "Building wheels for collected packages: umap-learn, pynndescent\n",
            "  Building wheel for umap-learn (setup.py) ... \u001b[?25l\u001b[?25hdone\n",
            "  Created wheel for umap-learn: filename=umap_learn-0.5.3-py3-none-any.whl size=82829 sha256=1176a18d21b966e409050f046c1e39d90ddc2545d2dbd3b23885595b284d0001\n",
            "  Stored in directory: /root/.cache/pip/wheels/b3/52/a5/1fd9e3e76a7ab34f134c07469cd6f16e27ef3a37aeff1fe821\n",
            "  Building wheel for pynndescent (setup.py) ... \u001b[?25l\u001b[?25hdone\n",
            "  Created wheel for pynndescent: filename=pynndescent-0.5.7-py3-none-any.whl size=54286 sha256=bdde4af6f0f2c9c82cf9c7eaa160bfed91e0cae2d5b81dab34159b520a6eb18e\n",
            "  Stored in directory: /root/.cache/pip/wheels/7f/2a/f8/7bd5dcec71bd5c669f6f574db3113513696b98f3f9b51f496c\n",
            "Successfully built umap-learn pynndescent\n",
            "Installing collected packages: pynndescent, umap-learn\n",
            "Successfully installed pynndescent-0.5.7 umap-learn-0.5.3\n"
          ]
        }
      ]
    },
    {
      "cell_type": "code",
      "source": [
        "%pylab inline\n",
        "import matplotlib.pyplot as plt\n",
        "plt.style.use('seaborn-dark')\n",
        "# import warnings\n",
        "# warnings.filterwarnings(\"ignore\")\n",
        "# pd.set_option('display.max_columns', None)\n",
        "import matplotlib as mpl\n",
        "plt.rc('font', size=14)\n",
        "\n",
        "# импорт библиотек\n",
        "\n",
        "from time import time\n",
        "from tqdm.autonotebook import tqdm\n",
        "import numpy as np\n",
        "import torch\n",
        "\n",
        "# from datasets import load_dataset\n",
        "\n",
        "import umap\n",
        "\n",
        "from sklearn.metrics.cluster import homogeneity_score\n",
        "from sklearn.metrics.cluster import completeness_score\n",
        "from sklearn.metrics  import fowlkes_mallows_score\n",
        "from sklearn.metrics  import adjusted_mutual_info_score\n",
        "from sklearn.metrics  import adjusted_rand_score\n",
        "from sklearn.metrics.cluster import v_measure_score\n",
        "\n",
        "from sklearn.cluster import DBSCAN\n",
        "from sklearn.cluster import KMeans\n",
        "\n",
        "from sklearn.preprocessing import StandardScaler"
      ],
      "metadata": {
        "colab": {
          "base_uri": "https://localhost:8080/"
        },
        "id": "IDXTwjNOlb7K",
        "outputId": "4c3b75cb-a1d3-4163-b282-fa9bf7371733"
      },
      "execution_count": null,
      "outputs": [
        {
          "output_type": "stream",
          "name": "stdout",
          "text": [
            "Populating the interactive namespace from numpy and matplotlib\n"
          ]
        },
        {
          "output_type": "stream",
          "name": "stderr",
          "text": [
            "/usr/local/lib/python3.7/dist-packages/ipykernel_launcher.py:13: TqdmExperimentalWarning: Using `tqdm.autonotebook.tqdm` in notebook mode. Use `tqdm.tqdm` instead to force console mode (e.g. in jupyter console)\n",
            "  del sys.path[0]\n"
          ]
        }
      ]
    },
    {
      "cell_type": "code",
      "source": [
        "from collections import Counter"
      ],
      "metadata": {
        "id": "Jcaq7YC923ja"
      },
      "execution_count": null,
      "outputs": []
    },
    {
      "cell_type": "code",
      "source": [
        "from google.colab import drive\n",
        "drive.mount('/content/drive')"
      ],
      "metadata": {
        "colab": {
          "base_uri": "https://localhost:8080/"
        },
        "id": "hE1OkYb4lkhi",
        "outputId": "7c8c11a2-fcf3-44ac-e207-36329d34a9f8"
      },
      "execution_count": null,
      "outputs": [
        {
          "output_type": "stream",
          "name": "stdout",
          "text": [
            "Mounted at /content/drive\n"
          ]
        }
      ]
    },
    {
      "cell_type": "code",
      "source": [
        "#np.save('/content/drive/My Drive/clusterdata/X_save', X)\n",
        "#np.save('/content/drive/My Drive/clusterdata/y_save', y)\n",
        "X = np.load('/content/drive/My Drive/clusterdata/X_save.npy')\n",
        "y = np.load('/content/drive/My Drive/clusterdata/y_save.npy')"
      ],
      "metadata": {
        "id": "f6igYarMmTJ0"
      },
      "execution_count": null,
      "outputs": []
    },
    {
      "cell_type": "code",
      "source": [
        "X.shape, y.shape"
      ],
      "metadata": {
        "colab": {
          "base_uri": "https://localhost:8080/"
        },
        "id": "0o3q-cCtm3hV",
        "outputId": "42117fd9-94d3-4842-daa8-4b78f0926707"
      },
      "execution_count": null,
      "outputs": [
        {
          "output_type": "execute_result",
          "data": {
            "text/plain": [
              "((15250, 768), (15250,))"
            ]
          },
          "metadata": {},
          "execution_count": 6
        }
      ]
    },
    {
      "cell_type": "code",
      "source": [
        "!pip install datasets\n",
        "from datasets import load_dataset\n",
        "data = load_dataset(\"clinc_oos\", \"plus\")"
      ],
      "metadata": {
        "colab": {
          "base_uri": "https://localhost:8080/",
          "height": 1000,
          "referenced_widgets": [
            "9b223c1994d1436380711494457b8867",
            "7b8fac87a015491face532722ef22555",
            "64149a57dc5a45fc887f4c9f9898c04d",
            "bf522694efdb4ee795024699d429db0e",
            "c7152dbf32ea49a9a7798a083c30339f",
            "915b12ccefdc494abd984f41445ede2a",
            "4b698ba0cab6490d9bb197cb20171a27",
            "16215b43843d492f8b9513efd7369f2a",
            "1b7097fa0bf24ab58b891b6df70dee9f",
            "91780b3cec4045e0b1934ee5bd58a72b",
            "4fad934102ee42d5a8d2a41fa4fc41fd",
            "7f76b923864e4deaa9426405571ceecb",
            "2b6d04d5a4ae44c09026171eff11104b",
            "8fb025f51b454fe3beaa88b492778f93",
            "468a39f95dd049c09e5c2f722eea5fdb",
            "f5aa5d4e5a004701bb54028bd97b92f3",
            "5c97e4c3331141478c2717ceb1fd0eb2",
            "2c93ae1828d447de94f825e22c54e387",
            "c5bc5926d25845129addbe15d39c8107",
            "7983bf2c41524632bac38bad02a0a440",
            "bd9feb3e5fc94b279eb6691e7491a75d",
            "f4a3f7afe3af4d6faeea4255cbe07013",
            "8adf3b21b4c54aa9bc1874fe75d67d6a",
            "658d1244735f4d3288b4d9d21592a150",
            "ceeb7b88b51045c9b935138fd5f0ee32",
            "11410b6a867647cb85c373153a3d78a4",
            "8ce0a7081a2c4f8d99c81d72e196aee6",
            "50fe96bc42d14597bdf78ffbeb9813cc",
            "c08eb1bc0eb7472694b8fa734c664d9d",
            "966536e634884b2eba0dcf1f965b09a8",
            "494f0093d14b40ea866c265dc35459cd",
            "bd62ab47ed5a4600a8d5fbd3445c46cc",
            "077519645a1f4ccaacbfe8c13f2e7b01",
            "9c0f23b6240b4980885e070c6b50030b",
            "068de8cc698b4e76b5c86b9038a64b4e",
            "cbbe7651a1e044b3b55a761b9f304499",
            "24f6523e1e364c9dbae67f9e78d08064",
            "96417de5c5114477aaee632da484dd63",
            "485fdd4bb3dd43c8bdc6708cefda459e",
            "b2bace0da2844fc3825cc7c9fba8118c",
            "4098a7129eab474e834c3a43792b51a5",
            "940ff646f49542629343529bd2f3ae00",
            "54ce5eb29f1247af850647b4e58d5cd3",
            "b9179f30aa75485ba08ab65484d85bae",
            "1efb8349e0864802b583a499ba9a2240",
            "9c315dda17c04e3aa99b9c9d314f4dd0",
            "40d41522b6a84511843bbf65cf9d1600",
            "0a1fd981e4684fb2b22f97acd9537dbe",
            "aa1691f42c9848ffb853e91ec238eeb4",
            "e707749e5b5a4236b0bc5f1d0d26aa7b",
            "a60249bcc01c478cabdbda820d23b56a",
            "75c0ef49624249a6ab2b5aef6b997c68",
            "7f4efd47d831414c964da334e12f4bd7",
            "f0288ac7984f495291c9091f15a1c434",
            "32552ed63c494b648bfb09b2521d0025",
            "5fbcf9cad8604731b23cddbecca5c693",
            "564e09ef0d484201bcbfa8a7909746b3",
            "d798bd8fc4f547b5819c54f9c554b0cd",
            "f01b9760978045f6834094fbbf147336",
            "0e5b73ce352c446d812d9770c69b943d",
            "a3ca02afef3f4cc7a623c496ded61da6",
            "c82d8d0f6a9e41a9880d1013ef461594",
            "fa4028543dba492f82e508b0087ed593",
            "3a260ea418be4aa5a2df357cceea46a5",
            "ec73d2546da547ff838338b486abb62a",
            "3c14468890b940ac98e27e061c30ddd8",
            "e35623bee0a54857a4abfbb102670390",
            "693913c1c6db488dab5055bdb983b381",
            "a29d6c41cbfe49379f32809d5d537fc5",
            "0a0bbf140fbf4c42ad226c006fee85cf",
            "4c0f14f7fa8e4a8089181da96dcf5f51",
            "4d64a20e88ae491795cbdd51304282d4",
            "e01dbae90eb342a0aded0e1a11168a04",
            "658eb99f561545abb567e071b5f9a865",
            "bbfd8341689a47a583aba64fd5640228",
            "202f9420effa480d904013bcc486e8d3",
            "bf0653813adb47caa0cf26e50063634f"
          ]
        },
        "id": "Vb6I7vCE5vLD",
        "outputId": "9568be54-d0ac-451c-a156-6ef2ee95820d"
      },
      "execution_count": null,
      "outputs": [
        {
          "output_type": "stream",
          "name": "stdout",
          "text": [
            "Looking in indexes: https://pypi.org/simple, https://us-python.pkg.dev/colab-wheels/public/simple/\n",
            "Collecting datasets\n",
            "  Downloading datasets-2.5.2-py3-none-any.whl (432 kB)\n",
            "\u001b[K     |████████████████████████████████| 432 kB 24.1 MB/s \n",
            "\u001b[?25hRequirement already satisfied: importlib-metadata in /usr/local/lib/python3.7/dist-packages (from datasets) (4.12.0)\n",
            "Requirement already satisfied: tqdm>=4.62.1 in /usr/local/lib/python3.7/dist-packages (from datasets) (4.64.1)\n",
            "Requirement already satisfied: dill<0.3.6 in /usr/local/lib/python3.7/dist-packages (from datasets) (0.3.5.1)\n",
            "Collecting responses<0.19\n",
            "  Downloading responses-0.18.0-py3-none-any.whl (38 kB)\n",
            "Requirement already satisfied: requests>=2.19.0 in /usr/local/lib/python3.7/dist-packages (from datasets) (2.23.0)\n",
            "Requirement already satisfied: pandas in /usr/local/lib/python3.7/dist-packages (from datasets) (1.3.5)\n",
            "Collecting xxhash\n",
            "  Downloading xxhash-3.0.0-cp37-cp37m-manylinux_2_17_x86_64.manylinux2014_x86_64.whl (212 kB)\n",
            "\u001b[K     |████████████████████████████████| 212 kB 53.8 MB/s \n",
            "\u001b[?25hRequirement already satisfied: numpy>=1.17 in /usr/local/lib/python3.7/dist-packages (from datasets) (1.21.6)\n",
            "Requirement already satisfied: pyarrow>=6.0.0 in /usr/local/lib/python3.7/dist-packages (from datasets) (6.0.1)\n",
            "Requirement already satisfied: fsspec[http]>=2021.11.1 in /usr/local/lib/python3.7/dist-packages (from datasets) (2022.8.2)\n",
            "Collecting multiprocess\n",
            "  Downloading multiprocess-0.70.13-py37-none-any.whl (115 kB)\n",
            "\u001b[K     |████████████████████████████████| 115 kB 64.8 MB/s \n",
            "\u001b[?25hRequirement already satisfied: packaging in /usr/local/lib/python3.7/dist-packages (from datasets) (21.3)\n",
            "Requirement already satisfied: aiohttp in /usr/local/lib/python3.7/dist-packages (from datasets) (3.8.1)\n",
            "Collecting huggingface-hub<1.0.0,>=0.2.0\n",
            "  Downloading huggingface_hub-0.10.0-py3-none-any.whl (163 kB)\n",
            "\u001b[K     |████████████████████████████████| 163 kB 63.7 MB/s \n",
            "\u001b[?25hRequirement already satisfied: multidict<7.0,>=4.5 in /usr/local/lib/python3.7/dist-packages (from aiohttp->datasets) (6.0.2)\n",
            "Requirement already satisfied: asynctest==0.13.0 in /usr/local/lib/python3.7/dist-packages (from aiohttp->datasets) (0.13.0)\n",
            "Requirement already satisfied: typing-extensions>=3.7.4 in /usr/local/lib/python3.7/dist-packages (from aiohttp->datasets) (4.1.1)\n",
            "Requirement already satisfied: frozenlist>=1.1.1 in /usr/local/lib/python3.7/dist-packages (from aiohttp->datasets) (1.3.1)\n",
            "Requirement already satisfied: yarl<2.0,>=1.0 in /usr/local/lib/python3.7/dist-packages (from aiohttp->datasets) (1.8.1)\n",
            "Requirement already satisfied: attrs>=17.3.0 in /usr/local/lib/python3.7/dist-packages (from aiohttp->datasets) (22.1.0)\n",
            "Requirement already satisfied: aiosignal>=1.1.2 in /usr/local/lib/python3.7/dist-packages (from aiohttp->datasets) (1.2.0)\n",
            "Requirement already satisfied: async-timeout<5.0,>=4.0.0a3 in /usr/local/lib/python3.7/dist-packages (from aiohttp->datasets) (4.0.2)\n",
            "Requirement already satisfied: charset-normalizer<3.0,>=2.0 in /usr/local/lib/python3.7/dist-packages (from aiohttp->datasets) (2.1.1)\n",
            "Requirement already satisfied: pyyaml>=5.1 in /usr/local/lib/python3.7/dist-packages (from huggingface-hub<1.0.0,>=0.2.0->datasets) (6.0)\n",
            "Requirement already satisfied: filelock in /usr/local/lib/python3.7/dist-packages (from huggingface-hub<1.0.0,>=0.2.0->datasets) (3.8.0)\n",
            "Requirement already satisfied: pyparsing!=3.0.5,>=2.0.2 in /usr/local/lib/python3.7/dist-packages (from packaging->datasets) (3.0.9)\n",
            "Requirement already satisfied: urllib3!=1.25.0,!=1.25.1,<1.26,>=1.21.1 in /usr/local/lib/python3.7/dist-packages (from requests>=2.19.0->datasets) (1.24.3)\n",
            "Requirement already satisfied: chardet<4,>=3.0.2 in /usr/local/lib/python3.7/dist-packages (from requests>=2.19.0->datasets) (3.0.4)\n",
            "Requirement already satisfied: idna<3,>=2.5 in /usr/local/lib/python3.7/dist-packages (from requests>=2.19.0->datasets) (2.10)\n",
            "Requirement already satisfied: certifi>=2017.4.17 in /usr/local/lib/python3.7/dist-packages (from requests>=2.19.0->datasets) (2022.6.15)\n",
            "Collecting urllib3!=1.25.0,!=1.25.1,<1.26,>=1.21.1\n",
            "  Downloading urllib3-1.25.11-py2.py3-none-any.whl (127 kB)\n",
            "\u001b[K     |████████████████████████████████| 127 kB 61.8 MB/s \n",
            "\u001b[?25hRequirement already satisfied: zipp>=0.5 in /usr/local/lib/python3.7/dist-packages (from importlib-metadata->datasets) (3.8.1)\n",
            "Requirement already satisfied: python-dateutil>=2.7.3 in /usr/local/lib/python3.7/dist-packages (from pandas->datasets) (2.8.2)\n",
            "Requirement already satisfied: pytz>=2017.3 in /usr/local/lib/python3.7/dist-packages (from pandas->datasets) (2022.2.1)\n",
            "Requirement already satisfied: six>=1.5 in /usr/local/lib/python3.7/dist-packages (from python-dateutil>=2.7.3->pandas->datasets) (1.15.0)\n",
            "Installing collected packages: urllib3, xxhash, responses, multiprocess, huggingface-hub, datasets\n",
            "  Attempting uninstall: urllib3\n",
            "    Found existing installation: urllib3 1.24.3\n",
            "    Uninstalling urllib3-1.24.3:\n",
            "      Successfully uninstalled urllib3-1.24.3\n",
            "Successfully installed datasets-2.5.2 huggingface-hub-0.10.0 multiprocess-0.70.13 responses-0.18.0 urllib3-1.25.11 xxhash-3.0.0\n"
          ]
        },
        {
          "output_type": "display_data",
          "data": {
            "application/vnd.colab-display-data+json": {
              "pip_warning": {
                "packages": [
                  "urllib3"
                ]
              }
            }
          },
          "metadata": {}
        },
        {
          "output_type": "display_data",
          "data": {
            "text/plain": [
              "Downloading builder script:   0%|          | 0.00/8.57k [00:00<?, ?B/s]"
            ],
            "application/vnd.jupyter.widget-view+json": {
              "version_major": 2,
              "version_minor": 0,
              "model_id": "9b223c1994d1436380711494457b8867"
            }
          },
          "metadata": {}
        },
        {
          "output_type": "display_data",
          "data": {
            "text/plain": [
              "Downloading metadata:   0%|          | 0.00/14.4k [00:00<?, ?B/s]"
            ],
            "application/vnd.jupyter.widget-view+json": {
              "version_major": 2,
              "version_minor": 0,
              "model_id": "7f76b923864e4deaa9426405571ceecb"
            }
          },
          "metadata": {}
        },
        {
          "output_type": "stream",
          "name": "stdout",
          "text": [
            "Downloading and preparing dataset clinc_oos/plus (download: 2.39 MiB, generated: 1.18 MiB, post-processed: Unknown size, total: 3.57 MiB) to /root/.cache/huggingface/datasets/clinc_oos/plus/1.0.0/abcc41d382f8137f039adc747af44714941e8196e845dfbdd8ae7a7e020e6ba1...\n"
          ]
        },
        {
          "output_type": "display_data",
          "data": {
            "text/plain": [
              "Downloading data:   0%|          | 0.00/291k [00:00<?, ?B/s]"
            ],
            "application/vnd.jupyter.widget-view+json": {
              "version_major": 2,
              "version_minor": 0,
              "model_id": "8adf3b21b4c54aa9bc1874fe75d67d6a"
            }
          },
          "metadata": {}
        },
        {
          "output_type": "display_data",
          "data": {
            "text/plain": [
              "Generating train split:   0%|          | 0/15250 [00:00<?, ? examples/s]"
            ],
            "application/vnd.jupyter.widget-view+json": {
              "version_major": 2,
              "version_minor": 0,
              "model_id": "9c0f23b6240b4980885e070c6b50030b"
            }
          },
          "metadata": {}
        },
        {
          "output_type": "display_data",
          "data": {
            "text/plain": [
              "Generating validation split:   0%|          | 0/3100 [00:00<?, ? examples/s]"
            ],
            "application/vnd.jupyter.widget-view+json": {
              "version_major": 2,
              "version_minor": 0,
              "model_id": "1efb8349e0864802b583a499ba9a2240"
            }
          },
          "metadata": {}
        },
        {
          "output_type": "display_data",
          "data": {
            "text/plain": [
              "Generating test split:   0%|          | 0/5500 [00:00<?, ? examples/s]"
            ],
            "application/vnd.jupyter.widget-view+json": {
              "version_major": 2,
              "version_minor": 0,
              "model_id": "5fbcf9cad8604731b23cddbecca5c693"
            }
          },
          "metadata": {}
        },
        {
          "output_type": "stream",
          "name": "stdout",
          "text": [
            "Dataset clinc_oos downloaded and prepared to /root/.cache/huggingface/datasets/clinc_oos/plus/1.0.0/abcc41d382f8137f039adc747af44714941e8196e845dfbdd8ae7a7e020e6ba1. Subsequent calls will reuse this data.\n"
          ]
        },
        {
          "output_type": "display_data",
          "data": {
            "text/plain": [
              "  0%|          | 0/3 [00:00<?, ?it/s]"
            ],
            "application/vnd.jupyter.widget-view+json": {
              "version_major": 2,
              "version_minor": 0,
              "model_id": "e35623bee0a54857a4abfbb102670390"
            }
          },
          "metadata": {}
        }
      ]
    },
    {
      "cell_type": "code",
      "source": [
        "# data['train']['text']"
      ],
      "metadata": {
        "id": "LY5MNGm_51Gc"
      },
      "execution_count": null,
      "outputs": []
    },
    {
      "cell_type": "code",
      "source": [
        "lst = list(Counter([3,2,2,2,1,1,1,1]).values())\n",
        "lst.sort()\n",
        "plt.bar(np.arange(len(lst)), lst)"
      ],
      "metadata": {
        "colab": {
          "base_uri": "https://localhost:8080/",
          "height": 283
        },
        "id": "7C1KBd-n25qY",
        "outputId": "effa6718-e984-40b8-cb0a-f8a0d4dc7732"
      },
      "execution_count": null,
      "outputs": [
        {
          "output_type": "execute_result",
          "data": {
            "text/plain": [
              "<BarContainer object of 3 artists>"
            ]
          },
          "metadata": {},
          "execution_count": 7
        },
        {
          "output_type": "display_data",
          "data": {
            "text/plain": [
              "<Figure size 432x288 with 1 Axes>"
            ],
            "image/png": "[encoded data removed]"
          },
          "metadata": {}
        }
      ]
    },
    {
      "cell_type": "code",
      "source": [
        "lst"
      ],
      "metadata": {
        "colab": {
          "base_uri": "https://localhost:8080/"
        },
        "id": "7ZiCP5bv3YRI",
        "outputId": "4e971fb1-01f9-43af-db51-93b94d1a9574"
      },
      "execution_count": null,
      "outputs": [
        {
          "output_type": "execute_result",
          "data": {
            "text/plain": [
              "[1, 3, 4]"
            ]
          },
          "metadata": {},
          "execution_count": 8
        }
      ]
    },
    {
      "cell_type": "code",
      "source": [
        "2000 / 15250"
      ],
      "metadata": {
        "colab": {
          "base_uri": "https://localhost:8080/"
        },
        "id": "vhnzeSTE0t_t",
        "outputId": "9e1db389-caef-4009-80ed-147a8c725901"
      },
      "execution_count": null,
      "outputs": [
        {
          "output_type": "execute_result",
          "data": {
            "text/plain": [
              "0.13114754098360656"
            ]
          },
          "metadata": {},
          "execution_count": 9
        }
      ]
    },
    {
      "cell_type": "code",
      "source": [
        "from sklearn.model_selection import train_test_split\n",
        "X_train, X_test, y_train, y_test = train_test_split(X, y, test_size=0.868, random_state=42) # random_state=42,  ЕСЛИ СДЕЛАТЬ ТАК... shuffle=False , random_state=42\n",
        "indexes = np.arange(X.shape[0])\n",
        "indexes_train, indexes_test = train_test_split(indexes, test_size=0.868, random_state=42)"
      ],
      "metadata": {
        "id": "uIpNpDybm6ND"
      },
      "execution_count": null,
      "outputs": []
    },
    {
      "cell_type": "code",
      "source": [
        "print (f'число кластеров = {len(np.unique(y_train))}, {len(np.unique(y_test))}')\n",
        "print (f'размеры = {X_train.shape}, {X_test.shape}')"
      ],
      "metadata": {
        "colab": {
          "base_uri": "https://localhost:8080/"
        },
        "id": "3kRUDON2nKRr",
        "outputId": "2cbd7d9b-a300-49c9-f4e0-6bfbd9a3ce9b"
      },
      "execution_count": null,
      "outputs": [
        {
          "output_type": "stream",
          "name": "stdout",
          "text": [
            "число кластеров = 151, 151\n",
            "размеры = (2013, 768), (13237, 768)\n"
          ]
        }
      ]
    },
    {
      "cell_type": "markdown",
      "source": [
        "#  k-Means на train"
      ],
      "metadata": {
        "id": "MHsTVC3n1Wug"
      }
    },
    {
      "cell_type": "code",
      "source": [
        "l = 151\n",
        "t0 = time()\n",
        "model = KMeans(n_clusters=l)\n",
        "clustering_emb = model.fit(X_train)\n",
        "a = clustering_emb.labels_\n",
        "\n",
        "V = v_measure_score(y_train, a)\n",
        "H =homogeneity_score(y_train, a)\n",
        "C = completeness_score(y_train, a)\n",
        "NC = len(np.unique(a))\n",
        "FM = fowlkes_mallows_score(y_train, a)\n",
        "MI = adjusted_mutual_info_score(y_train, a)\n",
        "RS = adjusted_rand_score(y_train, a)\n",
        "T = time() - t0\n",
        "\n",
        "print (\"k-Means на train\")\n",
        "print (f\"V={np.round(V, 4)}, H={np.round(H, 4)}, C={np.round(C, 4)}, NC={np.round(NC, 4)}, FM={np.round(FM, 4)}, MI={np.round(MI, 4)}, RS={np.round(RS, 4)}, T={np.round(T, 4)}\")\n",
        "#V=0.9316, H=0.9262, C=0.937, NC=151, FM=0.7856, MI=0.9172, RS=0.7829, T=75.3756\n",
        "# V=0.8992, H=0.8947, C=0.9037, NC=151, FM=0.667, MI=0.8071, RS=0.664, T=12.1723\n",
        "\n",
        "lst = list(Counter(a).values())\n",
        "lst.sort()\n",
        "plt.bar(np.arange(len(lst)), lst)"
      ],
      "metadata": {
        "colab": {
          "base_uri": "https://localhost:8080/",
          "height": 318
        },
        "id": "Xyv2gJAuni9R",
        "outputId": "295648fc-e44b-4da1-b2ad-e706b2c8c910"
      },
      "execution_count": null,
      "outputs": [
        {
          "output_type": "stream",
          "name": "stdout",
          "text": [
            "k-Means на train\n",
            "V=0.903, H=0.899, C=0.907, NC=151, FM=0.6731, MI=0.8141, RS=0.6702, T=12.951\n"
          ]
        },
        {
          "output_type": "execute_result",
          "data": {
            "text/plain": [
              "<BarContainer object of 151 artists>"
            ]
          },
          "metadata": {},
          "execution_count": 12
        },
        {
          "output_type": "display_data",
          "data": {
            "text/plain": [
              "<Figure size 432x288 with 1 Axes>"
            ],
            "image/png": "[encoded data removed]"
          },
          "metadata": {}
        }
      ]
    },
    {
      "cell_type": "code",
      "source": [
        "for i in np.nonzero(a==1)[0]:\n",
        "  print (f'class={int(y[indexes_train[i]])}, text=' + data['train']['text'][indexes_train[i]])"
      ],
      "metadata": {
        "colab": {
          "base_uri": "https://localhost:8080/"
        },
        "id": "Z03fNv9u1f23",
        "outputId": "09920adc-1d82-40b2-b984-896aeb412f54"
      },
      "execution_count": null,
      "outputs": [
        {
          "output_type": "stream",
          "name": "stdout",
          "text": [
            "class=126, text=do i have enough pto to take time off\n",
            "class=140, text=how much longer till the next day off\n",
            "class=126, text=how much time do i have for vacation saved\n",
            "class=148, text=how many days off did i use so far\n",
            "class=148, text=can you tell me how much pto i've gone through\n",
            "class=126, text=how many days for vacation do i have left\n",
            "class=148, text=count the number of vacation days i've taken and tell me\n",
            "class=148, text=can you count for me the total number of days off i have used\n",
            "class=126, text=what's the number of remaining vacation days i have\n",
            "class=126, text=i'd like to know how many vacation days i have\n",
            "class=126, text=how many vacation days do i have left this year\n",
            "class=148, text=how many days have i taken off so far\n",
            "class=126, text=i want to know how many vacation days i can use\n",
            "class=148, text=how many times have i used my annual leave\n",
            "class=140, text=how soon is my next day off\n",
            "class=148, text=what's the amount of time i've taken off work this year\n",
            "class=148, text=whats my count of vacation days used thus far\n",
            "class=97, text=how do i use my vacation days\n",
            "class=148, text=how much of my time off have i used\n",
            "class=126, text=how many holiday days do i have left to use\n",
            "class=140, text=how long until my next day off\n",
            "class=126, text=what's the status on my vacation days\n",
            "class=148, text=what amount of days off have i already utilized\n",
            "class=148, text=what is the total number of vacation days i've used\n",
            "class=126, text=can you figure out how many vacation days i have left\n",
            "class=126, text=how many vacation days do i have saved up\n",
            "class=148, text=how much paid time off have i used\n",
            "class=126, text=how much vacation am i currently entitled to\n",
            "class=101, text=has my vacation time at work been allowed\n"
          ]
        }
      ]
    },
    {
      "cell_type": "markdown",
      "source": [
        "# k-Means на test"
      ],
      "metadata": {
        "id": "f7C-ShYn2zlC"
      }
    },
    {
      "cell_type": "code",
      "source": [
        "t0 = time()\n",
        "\n",
        "#clustering_emb = model.predict(X_test)\n",
        "a = model.predict(X_test)\n",
        "\n",
        "V = v_measure_score(y_test, a)\n",
        "H =homogeneity_score(y_test, a)\n",
        "C = completeness_score(y_test, a)\n",
        "NC = len(np.unique(a))\n",
        "FM = fowlkes_mallows_score(y_test, a)\n",
        "MI = adjusted_mutual_info_score(y_test, a)\n",
        "RS = adjusted_rand_score(y_test, a)\n",
        "T = time() - t0\n",
        "\n",
        "print (\"k-Means на test\")\n",
        "print (f\"V={np.round(V, 4)}, H={np.round(H, 4)}, C={np.round(C, 4)}, NC={np.round(NC, 4)}, FM={np.round(FM, 4)}, MI={np.round(MI, 4)}, RS={np.round(RS, 4)}, T={np.round(T, 4)}\")\n",
        "# V=0.9324, H=0.925, C=0.9399, NC=150, FM=0.7541, MI=0.8714, RS=0.7503, T=0.1557\n",
        "# V=0.8859, H=0.8752, C=0.8969, NC=151, FM=0.6645, MI=0.8627, RS=0.6582, T=0.5053\n",
        "\n",
        "lst = list(Counter(a).values())\n",
        "lst.sort()\n",
        "plt.bar(np.arange(len(lst)), lst)"
      ],
      "metadata": {
        "colab": {
          "base_uri": "https://localhost:8080/",
          "height": 318
        },
        "id": "AL7InLugoju9",
        "outputId": "c1ee807b-713e-4639-b423-5fc482e2311a"
      },
      "execution_count": null,
      "outputs": [
        {
          "output_type": "stream",
          "name": "stdout",
          "text": [
            "k-Means на test\n",
            "V=0.8845, H=0.8738, C=0.8956, NC=151, FM=0.6664, MI=0.8612, RS=0.6606, T=1.0484\n"
          ]
        },
        {
          "output_type": "execute_result",
          "data": {
            "text/plain": [
              "<BarContainer object of 151 artists>"
            ]
          },
          "metadata": {},
          "execution_count": 18
        },
        {
          "output_type": "display_data",
          "data": {
            "text/plain": [
              "<Figure size 432x288 with 1 Axes>"
            ],
            "image/png": "[encoded data removed]"
          },
          "metadata": {}
        }
      ]
    },
    {
      "cell_type": "code",
      "source": [
        "for i in np.nonzero(a==1)[0]:\n",
        "  print (f'class={int(y[indexes_test[i]])}, text=' + data['train']['text'][indexes_test[i]])"
      ],
      "metadata": {
        "colab": {
          "base_uri": "https://localhost:8080/"
        },
        "id": "YONH5kWI21xx",
        "outputId": "7c09ff09-fc2d-44c4-cb54-f42758af9985"
      },
      "execution_count": null,
      "outputs": [
        {
          "output_type": "stream",
          "name": "stdout",
          "text": [
            "class=126, text=how many day of my vacation are left for the year\n",
            "class=101, text=was my day off request approved\n",
            "class=126, text=can you tell me the remaining time i have for pto\n",
            "class=148, text=what's the total of days i've taken for me time so far\n",
            "class=148, text=how many vacation days have i used\n",
            "class=148, text=how much time did i take off so far\n",
            "class=126, text=how many vacation days do i have to spend\n",
            "class=148, text=tell me my usage of vacation days\n",
            "class=148, text=find out for me how many days off i have taken in total at this point\n",
            "class=148, text=how many days off have i had this year\n",
            "class=148, text=what's the amount of time off i've had\n",
            "class=126, text=how many vacation days do i have saved\n",
            "class=148, text=how many days of pto have i used\n",
            "class=140, text=i need to know when i get my next day off\n",
            "class=148, text=so far, how many days off have i taken\n",
            "class=126, text=let me know the number of vacation days i have\n",
            "class=126, text=how many days can i slack off this year\n",
            "class=140, text=how many days till we have off again\n",
            "class=101, text=is walmart going to let me take the vacation time i asked for\n",
            "class=126, text=how many more pto days are there for me\n",
            "class=148, text=look up how many of my days off i have used so far\n",
            "class=126, text=how many saved days of vacation time do i have\n",
            "class=148, text=what's the total vacation days i've gone through\n",
            "class=140, text=how much longer until my next day off\n",
            "class=140, text=when's the next time i get a day off\n",
            "class=148, text=how much pto have i depleted\n",
            "class=148, text=tell me how many vacation days i've used\n",
            "class=148, text=how many days of pto are available\n",
            "class=126, text=what is my remaining pto days\n",
            "class=148, text=tell me the number of days off i took this year\n",
            "class=148, text=how many times have i taken off from work this year\n",
            "class=101, text=is my day off approved\n",
            "class=126, text=can you tell me the number of pto days i have left\n",
            "class=140, text=show me my next day off\n",
            "class=101, text=did they say yes to my day off request\n",
            "class=148, text=how many days off have i taken\n",
            "class=148, text=what kind of pto do i have left\n",
            "class=148, text=how much time have i taken off this year\n",
            "class=140, text=to what extent until the following day away from work\n",
            "class=148, text=go to my job portal, i'd like to know how many days off i have used\n",
            "class=148, text=about how many vacation days have i taken\n",
            "class=148, text=what kind of pto have i used\n",
            "class=148, text=how much pto has been used on my behalf\n",
            "class=148, text=what's the amount of vacation days i've taken\n",
            "class=126, text=i have how many vacation days left\n",
            "class=126, text=please tell me how many vacation days i currently have\n",
            "class=140, text=how many more days until my next paid day off\n",
            "class=140, text=to what extent until the following three day weekend\n",
            "class=126, text=what's the amount of pto i have left\n",
            "class=148, text=how many personal days have i taken this month\n",
            "class=126, text=how many days off for vacation do i have left\n",
            "class=148, text=i need to know how much of my pto has been used at this point\n",
            "class=126, text=how many vacation days do i still get\n",
            "class=148, text=i've used how much pto so far\n",
            "class=126, text=how many vacation days have i accrued\n",
            "class=148, text=can you tell me how many vacation days i've taken\n",
            "class=140, text=when will i be off again\n",
            "class=126, text=how many vacation days do i have saved up, please\n",
            "class=126, text=how much paid time off do i have saved\n",
            "class=140, text=how long before the next day off is here\n",
            "class=126, text=how many more vacation days can i use this year\n",
            "class=126, text=how many vacation days do i have\n",
            "class=148, text=tell me how many days i've taken off at this point\n",
            "class=126, text=what's the count of vacation days i have left\n",
            "class=148, text=how many of my vacation days have i depleted\n",
            "class=148, text=how many of my sick days have i gone through\n",
            "class=148, text=please find out how many of my vacation days i have spent\n",
            "class=126, text=i want to know how many vacation days i have\n",
            "class=126, text=do i have any remaining pto days\n",
            "class=140, text=how much time till the next time off\n",
            "class=126, text=tell me how many vacation days i have\n",
            "class=148, text=how many sick, personal, and vacation days have i billed so far this year\n",
            "class=126, text=how many days of vacation time do i have saved\n",
            "class=148, text=how many times did i take a day off\n",
            "class=126, text=would you provide the number of vacation days i have\n",
            "class=126, text=do i have any pto days left\n",
            "class=126, text=how many pto days do i have for the year\n",
            "class=126, text=i have how many vacation days saved up\n",
            "class=126, text=what's the current count of my pto days\n",
            "class=126, text=what type of vacation schedule do i have left\n",
            "class=126, text=how many days do i have left of pto\n",
            "class=126, text=do you know ho many vacation days i currently have\n",
            "class=148, text=find out how much of my pto is already used\n",
            "class=126, text=how many vacation days do i have remaining\n",
            "class=148, text=check to see how many days off i have used\n",
            "class=140, text=when is my next day off\n",
            "class=148, text=look up my total number of days off so far\n",
            "class=101, text=is my day off request approved\n",
            "class=140, text=what's the next day i am scheduled off\n",
            "class=126, text=how many vacation days do i still have\n",
            "class=126, text=how many vacation days are available to me\n",
            "class=148, text=how many days was i sick or on vacation\n",
            "class=148, text=how much vacation have i taken\n",
            "class=148, text=tell me the exact amount of pto i have used\n",
            "class=148, text=so far how many days have i taken off\n",
            "class=126, text=tell me if i have any spare vacation days\n",
            "class=126, text=do i have any personal days left\n",
            "class=140, text=when do i finally get a day off\n",
            "class=126, text=could you tell me how many vacation days i have left\n",
            "class=126, text=i want to know how much vacation time i can use\n",
            "class=148, text=how much vacation have i already used this year\n",
            "class=148, text=including the day i missed because of snow, how much time have i take off work so far\n",
            "class=126, text=how many more vacation days do i have for the year\n",
            "class=126, text=tell me the number of vacation days i have stored\n",
            "class=148, text=how many vacation days did i use\n",
            "class=126, text=what is the saved vacation time i have left\n",
            "class=148, text=how many vacation days have i used up\n",
            "class=126, text=what pto time to i have remaining\n",
            "class=140, text=to what extent until the following free day\n",
            "class=140, text=how many days until my next day off\n",
            "class=148, text=how many personal days have i taken\n",
            "class=101, text=the status of my day off request, please\n",
            "class=126, text=provide me the number of vacation days i have\n",
            "class=148, text=how much paid time off do i have left\n",
            "class=148, text=how many of my paid days off have i used\n",
            "class=140, text=do i have a day off coming up soon\n",
            "class=101, text=has my vacation time been signed off on\n",
            "class=140, text=i need to know how long until my next vacation day\n",
            "class=148, text=do you know the total number of vacation days i have used\n",
            "class=140, text=how much time till the next day off\n",
            "class=148, text=what kind of vacation days have i used so far\n",
            "class=148, text=how many vacation days have i used so far\n",
            "class=148, text=look up the amount of vacation days i have used please\n",
            "class=148, text=how many vacation days have i spent in total\n",
            "class=148, text=i need to know how many of my days off i have used at this point\n",
            "class=126, text=do i still have vacation days\n",
            "class=148, text=what is the extent of the pto i've taken\n",
            "class=148, text=how many days so far have i taken off\n",
            "class=140, text=when is my next vacation day\n",
            "class=101, text=what's my vacation status\n",
            "class=126, text=how many pto days do i have left\n",
            "class=140, text=i need to know when my next day off is\n",
            "class=148, text=i need to know the number of days off i have taken at this point\n",
            "class=140, text=how many days until i am off\n",
            "class=140, text=i need to know when i will next have the day off\n",
            "class=126, text=what is the amount of vacation days i have left\n",
            "class=126, text=do i still have any pto days left, and if so, how many\n",
            "class=126, text=how many of my vacation days do i have remaining\n",
            "class=148, text=what's my vacation day usage so far\n",
            "class=140, text=whats the next day that i am off\n",
            "class=126, text=do i have any vacation days left\n",
            "class=148, text=tell me the amount of pto i have used at this point\n",
            "class=148, text=i need to know how many days so far i've taken off\n",
            "class=126, text=how much vacation time have i accrued\n",
            "class=140, text=when's the next time my job'll give me a day to myself\n",
            "class=126, text=please calculate my vacation time\n",
            "class=148, text=how many vacation days have i taken\n",
            "class=126, text=do i have any vacation days to use\n",
            "class=148, text=call hr so i can figure out how many days off i've taken\n",
            "class=126, text=how many vacation days do i have for the year\n",
            "class=126, text=how many vacation days do i have remaining, please\n",
            "class=148, text=count how many sick days i've used\n",
            "class=101, text=i want to know the status of my day off request\n",
            "class=140, text=what day am i off next\n",
            "class=148, text=what's the total pto i've used\n",
            "class=101, text=how's my day off request looking\n",
            "class=101, text=how is the approval of my day off progressing\n",
            "class=148, text=how much paid time off have i taken\n",
            "class=140, text=what is my next day off\n",
            "class=126, text=can you explain to me what type of vacation days i have still\n",
            "class=148, text=have i used half of my days off yet\n",
            "class=126, text=can i get vacation day totals i have left\n",
            "class=126, text=do i have any vacation time left\n",
            "class=148, text=what amount of pto have i taken\n",
            "class=126, text=how many pto days do i have remaining\n",
            "class=126, text=how many vacation days do i have left\n",
            "class=126, text=tell me how many vacation days i have left\n",
            "class=148, text=how many days have i taken off this year\n",
            "class=97, text=i need to take some time off, can i have the next week off\n",
            "class=148, text=how many vacation days have i consumed\n",
            "class=148, text=which days did i take vacation\n",
            "class=148, text=how many days did i skip work\n",
            "class=126, text=i've saved what number of days of vacation\n",
            "class=126, text=what is my vacation schedule look like\n",
            "class=126, text=how many days are left for me for vacation if i may ask\n",
            "class=140, text=when can i expect my next day off\n",
            "class=140, text=when is the next day i have off\n",
            "class=126, text=how much pto do i have left\n",
            "class=140, text=when does my current job have the next official paid holiday\n",
            "class=148, text=what is the total number of days i have taken off so far\n",
            "class=148, text=have i used any vacation days this year\n",
            "class=126, text=i need to know how many vacation days i have\n",
            "class=126, text=how much paid time off do i have\n",
            "class=101, text=what's my day off request's status\n",
            "class=126, text=what number of vacation days do i have\n",
            "class=126, text=what's my vacation day total\n",
            "class=148, text=how much of my pto have i depleted\n",
            "class=126, text=would you please tell me how many vacation days i have\n",
            "class=148, text=check to see how many days off i have used in total so far\n",
            "class=148, text=can you add up how much time i've taken off so far\n",
            "class=126, text=how many days of vacation have i saved\n",
            "class=148, text=i need to know how many vacation days i have used up please\n",
            "class=126, text=what number of vacation days remain for me\n",
            "class=101, text=how is the approval of my day off going\n",
            "class=140, text=when do i have some time off next\n",
            "class=140, text=when do i get a day off\n",
            "class=148, text=which days did i take off work\n",
            "class=148, text=up to this point, how much of my pto have i used\n",
            "class=126, text=how much time off do i have left\n",
            "class=126, text=i have how many vacation days left this year\n",
            "class=126, text=hoe many vacation days are left for me\n",
            "class=126, text=what's the current amount of vacation owed to me\n",
            "class=148, text=what's the number of day's i've taken off\n",
            "class=149, text=where should i spend my time off\n",
            "class=126, text=how many days of vacation do i have\n",
            "class=101, text=did i get my day off\n",
            "class=148, text=please find out how many days off i have used by this point\n",
            "class=126, text=how much paid time off have i earned to date\n",
            "class=126, text=how many vacation hours do i have\n",
            "class=148, text=tell me how much pto i've used\n",
            "class=126, text=how many vacation hours have i accrued\n"
          ]
        }
      ]
    },
    {
      "cell_type": "markdown",
      "source": [
        "# UMAP (train) + k-Means (train) на train"
      ],
      "metadata": {
        "id": "lnjqiQh63eHf"
      }
    },
    {
      "cell_type": "code",
      "source": [
        "l = 151\n",
        "t0 = time()\n",
        "\n",
        "reducer = umap.UMAP(n_neighbors=32, min_dist=0.1, n_components=2, metric='euclidean') # 16 -> 2\n",
        "embedding = reducer.fit_transform(X_train)\n",
        "model = KMeans(n_clusters=l)\n",
        "clustering_emb = model.fit(embedding)\n",
        "a = clustering_emb.labels_\n",
        "\n",
        "V = v_measure_score(y_train, a)\n",
        "H =homogeneity_score(y_train, a)\n",
        "C = completeness_score(y_train, a)\n",
        "NC = len(np.unique(a))\n",
        "FM = fowlkes_mallows_score(y_train, a)\n",
        "MI = adjusted_mutual_info_score(y_train, a)\n",
        "RS = adjusted_rand_score(y_train, a)\n",
        "T = time() - t0\n",
        "\n",
        "print (\"UMAP (train) + k-Means (train) на train\")\n",
        "print (f\"V={np.round(V, 4)}, H={np.round(H, 4)}, C={np.round(C, 4)}, NC={np.round(NC, 4)}, FM={np.round(FM, 4)}, MI={np.round(MI, 4)}, RS={np.round(RS, 4)}, T={np.round(T, 4)}\")\n",
        "\n",
        "#\n",
        "# V=0.9145, H=0.9057, C=0.9235, NC=151, FM=0.7028, MI=0.8384, RS=0.6983, T=18.6316\n",
        "\n",
        "lst = list(Counter(a).values())\n",
        "lst.sort()\n",
        "plt.bar(np.arange(len(lst)), lst)"
      ],
      "metadata": {
        "colab": {
          "base_uri": "https://localhost:8080/",
          "height": 318
        },
        "id": "MBAdSGn5qKft",
        "outputId": "feee7ed6-4259-4b3c-d5a7-422f599dd965"
      },
      "execution_count": null,
      "outputs": [
        {
          "output_type": "stream",
          "name": "stdout",
          "text": [
            "UMAP (train) + k-Means (train) на train\n",
            "V=0.9047, H=0.8982, C=0.9113, NC=151, FM=0.6896, MI=0.8187, RS=0.6859, T=19.0304\n"
          ]
        },
        {
          "output_type": "execute_result",
          "data": {
            "text/plain": [
              "<BarContainer object of 151 artists>"
            ]
          },
          "metadata": {},
          "execution_count": 20
        },
        {
          "output_type": "display_data",
          "data": {
            "text/plain": [
              "<Figure size 432x288 with 1 Axes>"
            ],
            "image/png": "[encoded data removed]"
          },
          "metadata": {}
        }
      ]
    },
    {
      "cell_type": "code",
      "source": [
        "for i in np.nonzero(a==2)[0]:\n",
        "  print (f'class={int(y[indexes_train[i]])}, text=' + data['train']['text'][indexes_train[i]])"
      ],
      "metadata": {
        "colab": {
          "base_uri": "https://localhost:8080/"
        },
        "id": "yCpoLKxy3lIP",
        "outputId": "46c9380c-4286-46dc-a66a-ed253bb53aff"
      },
      "execution_count": null,
      "outputs": [
        {
          "output_type": "stream",
          "name": "stdout",
          "text": [
            "class=72, text=how do i get to the train on foot\n",
            "class=24, text=i gotta know what the traffic is like on the way to phoenix\n",
            "class=78, text=how long does it take to get to phoenix by bus\n",
            "class=78, text=how far is the grand canyon from my current location in phoenix, az\n",
            "class=72, text=what's the direction for foot traffic to get to the eiffel tower\n",
            "class=24, text=is the traffic bad on the way to work\n",
            "class=72, text=what steps do i need to take to take a bus to detroit\n",
            "class=24, text=what's the traffic like on the way to walmart\n",
            "class=24, text=how will traffic be at 7am on the way to my job\n",
            "class=24, text=i would like to know the traffic in tempe please\n",
            "class=24, text=i must know what the traffic is like on the way to phoenix\n",
            "class=24, text=is there traffic up ahead\n",
            "class=24, text=what will traffic be like at 5:00 going towards the mall\n",
            "class=24, text=how is the traffic near lexington\n",
            "class=24, text=is there any traffic on my way to work\n",
            "class=24, text=i need ti know the traffic in tempe\n",
            "class=24, text=let me know the traffic in tempe\n"
          ]
        }
      ]
    },
    {
      "cell_type": "code",
      "source": [
        "plt.scatter(embedding[:,0], embedding[:,1], 10, a, lw=0.01, edgecolor='w', cmap='Spectral')"
      ],
      "metadata": {
        "colab": {
          "base_uri": "https://localhost:8080/",
          "height": 283
        },
        "id": "r-hRCxo_4bpr",
        "outputId": "d63e51b7-2040-4284-fd5a-95c48ded56fc"
      },
      "execution_count": null,
      "outputs": [
        {
          "output_type": "execute_result",
          "data": {
            "text/plain": [
              "<matplotlib.collections.PathCollection at 0x7fef485bc310>"
            ]
          },
          "metadata": {},
          "execution_count": 22
        },
        {
          "output_type": "display_data",
          "data": {
            "text/plain": [
              "<Figure size 432x288 with 1 Axes>"
            ],
            "image/png": "[encoded data removed]"
          },
          "metadata": {}
        }
      ]
    },
    {
      "cell_type": "markdown",
      "source": [
        "# UMAP (train) + k-Means (train) на test"
      ],
      "metadata": {
        "id": "LGuePlxv4TG_"
      }
    },
    {
      "cell_type": "code",
      "source": [
        "t0 = time()\n",
        "\n",
        "embedding = reducer.transform(X_test)\n",
        "#clustering_emb = KMeans(n_clusters=l).fit(embedding)\n",
        "#a = clustering_emb.labels_\n",
        "#clustering_emb = model.predict(X_test)\n",
        "\n",
        "a = model.predict(embedding)\n",
        "\n",
        "V = v_measure_score(y_test, a)\n",
        "H =homogeneity_score(y_test, a)\n",
        "C = completeness_score(y_test, a)\n",
        "NC = len(np.unique(a))\n",
        "FM = fowlkes_mallows_score(y_test, a)\n",
        "MI = adjusted_mutual_info_score(y_test, a)\n",
        "RS = adjusted_rand_score(y_test, a)\n",
        "T = time() - t0\n",
        "\n",
        "print (\"UMAP (train) + k-Means (train) на test\")\n",
        "print (f\"V={np.round(V, 4)}, H={np.round(H, 4)}, C={np.round(C, 4)}, NC={np.round(NC, 4)}, FM={np.round(FM, 4)}, MI={np.round(MI, 4)}, RS={np.round(RS, 4)}, T={np.round(T, 4)}\")\n",
        "#\n",
        "# V=0.8179, H=0.8075, C=0.8286, NC=151, FM=0.536, MI=0.7811, RS=0.5294, T=239.6494\n",
        "\n",
        "\n",
        "lst = list(Counter(a).values())\n",
        "lst.sort()\n",
        "plt.bar(np.arange(len(lst)), lst)"
      ],
      "metadata": {
        "colab": {
          "base_uri": "https://localhost:8080/",
          "height": 318
        },
        "id": "S-jcs-ldus86",
        "outputId": "de6e1fa5-c0cb-4f17-93fb-e247f739bb4c"
      },
      "execution_count": null,
      "outputs": [
        {
          "output_type": "stream",
          "name": "stdout",
          "text": [
            "UMAP (train) + k-Means (train) на test\n",
            "V=0.7861, H=0.7783, C=0.7941, NC=151, FM=0.4818, MI=0.7419, RS=0.476, T=82.8616\n"
          ]
        },
        {
          "output_type": "execute_result",
          "data": {
            "text/plain": [
              "<BarContainer object of 151 artists>"
            ]
          },
          "metadata": {},
          "execution_count": 24
        },
        {
          "output_type": "display_data",
          "data": {
            "text/plain": [
              "<Figure size 432x288 with 1 Axes>"
            ],
            "image/png": "[encoded data removed]"
          },
          "metadata": {}
        }
      ]
    },
    {
      "cell_type": "code",
      "source": [
        "plt.scatter(embedding[:,0], embedding[:,1], 5, a, lw=0.01, edgecolor='w', cmap='Spectral')"
      ],
      "metadata": {
        "colab": {
          "base_uri": "https://localhost:8080/",
          "height": 283
        },
        "id": "aEyAaQg341xb",
        "outputId": "56038c40-bd4f-434e-c38b-ada408ab10b0"
      },
      "execution_count": null,
      "outputs": [
        {
          "output_type": "execute_result",
          "data": {
            "text/plain": [
              "<matplotlib.collections.PathCollection at 0x7fef48ce8d50>"
            ]
          },
          "metadata": {},
          "execution_count": 25
        },
        {
          "output_type": "display_data",
          "data": {
            "text/plain": [
              "<Figure size 432x288 with 1 Axes>"
            ],
            "image/png": "[encoded data removed]"
          },
          "metadata": {}
        }
      ]
    },
    {
      "cell_type": "code",
      "source": [
        "for i in np.nonzero(a==2)[0]:\n",
        "  print (f'class={int(y[indexes_test[i]])}, text=' + data['train']['text'][indexes_test[i]])"
      ],
      "metadata": {
        "colab": {
          "base_uri": "https://localhost:8080/"
        },
        "id": "ykHi7qYP5Bfi",
        "outputId": "839c1877-5d96-4515-bd45-21b0dfa06286"
      },
      "execution_count": null,
      "outputs": [
        {
          "output_type": "stream",
          "name": "stdout",
          "text": [
            "class=24, text=how is the traffic typically at noon on the route to hospital\n",
            "class=24, text=is traffic bad on the way to chicago\n",
            "class=78, text=approximately how much time will it take to get to tod's in minutes\n",
            "class=24, text=is there traffic on dove road\n",
            "class=72, text=do you know how i get to olympia by bus\n",
            "class=24, text=will traffic be light on the way to orlando\n",
            "class=78, text=how long will it take to get to outback in phoenix\n",
            "class=72, text=i need to know how to get to target by bus\n",
            "class=24, text=what's the traffic like on the way to the mall\n",
            "class=72, text=how do i get to the college by bus\n",
            "class=24, text=is there traffic on route to work\n",
            "class=24, text=is there traffic on my way to work\n",
            "class=24, text=what's the traffic like on the way to the amusement park\n",
            "class=24, text=will i be able to get to the mall at 5:00, or will there be a lot of traffic\n",
            "class=78, text=if i take the bus, how long will it take to get to dubrovnik\n",
            "class=24, text=what is the traffic like on the way to town\n",
            "class=24, text=is traffic heavy on my route to washington\n",
            "class=24, text=i need to know what traffic will be like in temp\n",
            "class=24, text=i have to know what the traffic typically like at 3:30 on the route to phoenix\n",
            "class=138, text=what is 606 divided by 5\n",
            "class=24, text=what's the traffic like on my way to the terminal\n",
            "class=24, text=how is the traffic at the nearest wal-mart pharmacy\n",
            "class=72, text=tell me how to get to target by bus\n",
            "class=24, text=how bad is traffic at 8 on the way to burger king\n",
            "class=102, text=how busy does outback get around 7pm\n",
            "class=24, text=what does traffic look like at 9 en route to the aquarium\n",
            "class=102, text=how busy is kaya around 5 pm\n",
            "class=72, text=can i take a bus to the grand canyon\n",
            "class=78, text=how long will a bus ride take if i'm going to the capitol building\n",
            "class=78, text=what is the length of time it takes to get to phoenix\n",
            "class=24, text=tell me the traffic in tempe\n",
            "class=24, text=what's the traffic typically like at 3:30 on the route to phoenix\n",
            "class=78, text=how long does it take to get to dallas by bus\n",
            "class=24, text=is the traffic backed up at the closest circle k\n",
            "class=24, text=is the traffic typically bad at noon on the route to the hopsital\n",
            "class=24, text=how is the traffic on the way to work\n",
            "class=24, text=tell me what the traffic is like on the way to phoenix\n",
            "class=24, text=what is the traffic like on the way to work\n",
            "class=24, text=what is the traffic like on the way to makaha\n",
            "class=24, text=pull up traffic predictions at 4pm on the way to the library\n",
            "class=78, text=how long will it take to get from galleria mall to state capitol\n",
            "class=24, text=how bad is city traffic in miami on friday's at 5 pm\n",
            "class=24, text=will i hit traffic on route to moms\n",
            "class=24, text=what is the traffic like on the way to kaneohe\n",
            "class=24, text=what's the traffic like on the way to the water slides\n",
            "class=78, text=tell the miles it will take to get to las vegas from san diego\n",
            "class=24, text=is there traffic on bramble lane\n",
            "class=24, text=what's the traffic like to city hall\n",
            "class=24, text=what's the traffic like on the way to patterson\n",
            "class=72, text=how do i get to the park on foot\n",
            "class=24, text=how's traffic en route to virginia\n",
            "class=24, text=how's highway traffic today\n",
            "class=24, text=what is the traffic nearest lexington\n",
            "class=78, text=how long does it take to get to orlando by bus\n",
            "class=72, text=i want to visit chicago by bus what do i need to do\n",
            "class=24, text=is the beltway backed up in traffic on saturday mornings at 11 am during the cherry festival\n",
            "class=72, text=is it possible to get to olympia by bus\n",
            "class=24, text=how is the traffic like on the way to the beach\n",
            "class=78, text=how long does it take to get to red robin on phoenix\n",
            "class=24, text=what is the traffic like on the way to north shore\n",
            "class=128, text=if i go to baltimore will i be safe\n",
            "class=24, text=is any traffic on my route to work\n",
            "class=72, text=where is the closest walmart to boise, idaho\n",
            "class=24, text=what's traffic usually like around 5pm going to the bank\n",
            "class=78, text=usually, how long does is the commute to brooklyn by bus\n",
            "class=72, text=how do i get to the museum by bus\n",
            "class=72, text=could you tell me how to get to the statue of liberty by bus\n",
            "class=24, text=has the ice made traffic messy on the way to walmart\n",
            "class=24, text=i need to know what the traffic is like on the way to phoenix\n",
            "class=24, text=will there be traffic on the way to walmart\n",
            "class=24, text=how much traffic is there before the stadium\n",
            "class=78, text=how long will it take the bus to get to stop 23\n",
            "class=24, text=what is the traffic like at the closest safeway grocery store\n",
            "class=24, text=should i take a different route to work\n",
            "class=24, text=give me the traffic at lexington\n",
            "class=24, text=is there any traffic congestion on my way to the closest whole foods\n",
            "class=78, text=by bus, how long would it take to get to detroit\n",
            "class=24, text=how is the traffic on my way to the venue\n",
            "class=24, text=i wanna know what the traffic is like on the way to phoenix\n",
            "class=24, text=give me an idea of traffic on the way to the doctors office at 6\n",
            "class=24, text=is there traffic to work\n",
            "class=72, text=i want to take a bus to mexico city how do i do that\n",
            "class=72, text=how can i take a bus to dallas\n",
            "class=24, text=i must know what the traffic typically like at 3:30 on the route to phoenix\n",
            "class=24, text=how is the traffic at jfk at 5 pm on weekdays\n",
            "class=72, text=how can i travel by bus to the grand canyon\n",
            "class=24, text=how clogged are the streets before the stadium\n",
            "class=72, text=does the bus go to the washington monument\n",
            "class=24, text=what's the traffic like around the stadium\n",
            "class=78, text=how much time will pass between the start and end of our sojourn by bus to detroit\n",
            "class=24, text=i need to know what the traffic typically like at 3:30 on the route to phoenix\n",
            "class=24, text=is there traffic on my way to work today\n",
            "class=24, text=is traffic bad on my way to the next mcdonalds\n",
            "class=24, text=is traffic bad on the parkway\n",
            "class=78, text=how long does it take to get to the park in detroit\n",
            "class=72, text=would you tell me how to get to walmart by bus\n",
            "class=78, text=how long does it take to get to houston by bus\n",
            "class=24, text=how is the traffic on the way to the campsite\n",
            "class=24, text=how's traffic on i 95\n",
            "class=5, text=what are the conditions like in sarasota\n",
            "class=24, text=how bad is traffic to the closet atm machine\n",
            "class=24, text=how bad is the traffic waiting for the staten island ferry at 8 am\n",
            "class=24, text=how is the traffic like on my way to fairfield\n",
            "class=24, text=is there gridlock on the street up to the stadium\n",
            "class=72, text=how do i get to the leaning tower by bus\n",
            "class=24, text=can you tell me about the traffic typically at noon on the route the hospital\n",
            "class=24, text=is the expressway slow this morning\n",
            "class=72, text=i am needing you to tell me how to get to dallas, texas, by bus\n",
            "class=24, text=tell me about traffic conditions in ocean city, nj on sunday mornings around 10 am in the summer\n",
            "class=24, text=at around noon what is the traffic typically like on the route to the hopsital\n",
            "class=24, text=traffic looking alright going towards burger king\n",
            "class=24, text=what's the traffic at lexington\n",
            "class=24, text=what is the traffic like\n",
            "class=24, text=what is the traffic like on the way to kapolei\n",
            "class=78, text=how long is a bus ride to the library\n",
            "class=24, text=is there any traffic on the way to the bank\n"
          ]
        }
      ]
    },
    {
      "cell_type": "code",
      "source": [],
      "metadata": {
        "id": "TPIVyR8h5NIT"
      },
      "execution_count": null,
      "outputs": []
    },
    {
      "cell_type": "markdown",
      "source": [
        "# \"UMAP (train) + k-Means (test) на test\""
      ],
      "metadata": {
        "id": "UZCRiSWt68V3"
      }
    },
    {
      "cell_type": "code",
      "source": [
        "t0 = time()\n",
        "\n",
        "embedding = reducer.transform(X_test)\n",
        "#clustering_emb = KMeans(n_clusters=l).fit(embedding)\n",
        "#a = clustering_emb.labels_\n",
        "#clustering_emb = model.predict(X_test)\n",
        "\n",
        "model.fit(embedding)\n",
        "a = model.predict(embedding)\n",
        "\n",
        "V = v_measure_score(y_test, a)\n",
        "H =homogeneity_score(y_test, a)\n",
        "C = completeness_score(y_test, a)\n",
        "NC = len(np.unique(a))\n",
        "FM = fowlkes_mallows_score(y_test, a)\n",
        "MI = adjusted_mutual_info_score(y_test, a)\n",
        "RS = adjusted_rand_score(y_test, a)\n",
        "T = time() - t0\n",
        "\n",
        "print (\"UMAP (train) + k-Means (test) на test\")\n",
        "print (f\"V={np.round(V, 4)}, H={np.round(H, 4)}, C={np.round(C, 4)}, NC={np.round(NC, 4)}, FM={np.round(FM, 4)}, MI={np.round(MI, 4)}, RS={np.round(RS, 4)}, T={np.round(T, 4)}\")\n",
        "# V=0.9372, H=0.9327, C=0.9417, NC=151, FM=0.7917, MI=0.8797, RS=0.7896, T=35.6992\n",
        "# V=0.821, H=0.8124, C=0.8297, NC=151, FM=0.5369, MI=0.7843, RS=0.5313, T=240.5687\n",
        "\n",
        "lst = list(Counter(a).values())\n",
        "lst.sort()\n",
        "plt.bar(np.arange(len(lst)), lst)"
      ],
      "metadata": {
        "colab": {
          "base_uri": "https://localhost:8080/",
          "height": 319
        },
        "id": "a3ehG_JYwZmo",
        "outputId": "f4c1dbbf-7450-444a-e08a-b51e7d25d28d"
      },
      "execution_count": null,
      "outputs": [
        {
          "output_type": "stream",
          "name": "stdout",
          "text": [
            "UMAP (train) + k-Means (test) на test\n",
            "V=0.7893, H=0.7844, C=0.7942, NC=151, FM=0.486, MI=0.745, RS=0.4816, T=85.2291\n"
          ]
        },
        {
          "output_type": "execute_result",
          "data": {
            "text/plain": [
              "<BarContainer object of 151 artists>"
            ]
          },
          "metadata": {},
          "execution_count": 29
        },
        {
          "output_type": "display_data",
          "data": {
            "text/plain": [
              "<Figure size 432x288 with 1 Axes>"
            ],
            "image/png": "[encoded data removed]"
          },
          "metadata": {}
        }
      ]
    },
    {
      "cell_type": "code",
      "source": [
        "plt.scatter(embedding[:,0], embedding[:,1], 5, a, lw=0.01, edgecolor='w', cmap='Spectral')"
      ],
      "metadata": {
        "id": "ASyBvdPexn5n",
        "colab": {
          "base_uri": "https://localhost:8080/",
          "height": 283
        },
        "outputId": "1db661fa-7127-4a9f-bd15-7e2d56e12ffe"
      },
      "execution_count": null,
      "outputs": [
        {
          "output_type": "execute_result",
          "data": {
            "text/plain": [
              "<matplotlib.collections.PathCollection at 0x7fef47e77550>"
            ]
          },
          "metadata": {},
          "execution_count": 30
        },
        {
          "output_type": "display_data",
          "data": {
            "text/plain": [
              "<Figure size 432x288 with 1 Axes>"
            ],
            "image/png": "[encoded data removed]"
          },
          "metadata": {}
        }
      ]
    },
    {
      "cell_type": "code",
      "source": [
        "for i in np.nonzero(a==2)[0]:\n",
        "  print (f'class={int(y[indexes_test[i]])}, text=' + data['train']['text'][indexes_test[i]])"
      ],
      "metadata": {
        "colab": {
          "base_uri": "https://localhost:8080/"
        },
        "id": "DffFhHFo8Fii",
        "outputId": "66608b8f-24dc-4d32-b71c-0d03aaf66894"
      },
      "execution_count": null,
      "outputs": [
        {
          "output_type": "stream",
          "name": "stdout",
          "text": [
            "class=14, text=shh please speak with a whisper\n",
            "class=14, text=please whisper\n",
            "class=150, text=decrease volume to 4\n",
            "class=10, text=dim the main lights please\n",
            "class=14, text=can you change to the whisper voice setting\n",
            "class=150, text=make the volume 4\n",
            "class=14, text=i want you to switch to whisper mode\n",
            "class=14, text=don't make too much noise\n",
            "class=14, text=go into whisper mode now please\n",
            "class=14, text=engage whisper mode now\n",
            "class=10, text=switch fan\n",
            "class=119, text=speed up your speech\n",
            "class=10, text=please lock the doors\n",
            "class=14, text=turn to whisper mode\n",
            "class=14, text=please turn on whisper mode because i am about to be in class\n",
            "class=14, text=please switch to whisper mode for now\n",
            "class=119, text=slow down\n",
            "class=119, text=reduce your speed of voice\n",
            "class=14, text=stop using the whisper mode\n",
            "class=14, text=i need your setting switched to whisper mode right away\n",
            "class=150, text=please increase your speaker volume\n",
            "class=150, text=limit your volume\n",
            "class=119, text=can i get you to talk at a slightly faster rate\n",
            "class=119, text=can you speak faster please\n",
            "class=14, text=whisper for me\n",
            "class=51, text=please use your female voice\n",
            "class=14, text=is it possible for you to whisper for me\n",
            "class=150, text=please make sure the volume is on 4\n",
            "class=14, text=start using whisper mode\n",
            "class=14, text=do not talk so loudly\n",
            "class=150, text=i need it louder\n",
            "class=14, text=turn on the whisper voice\n",
            "class=14, text=you need to speak softer\n",
            "class=14, text=i need you to switch to whisper mode\n",
            "class=14, text=activate whisper mode\n",
            "class=14, text=i can't hear you, stop whispering!\n",
            "class=14, text=whisper from here on out please\n",
            "class=150, text=lower your volume\n",
            "class=14, text=whisper mode off\n",
            "class=14, text=go back to whisper mode\n",
            "class=14, text=would you mind switching to whisper mode\n",
            "class=14, text=please turn on whisper mode\n",
            "class=14, text=change to whisper mode\n",
            "class=14, text=can you whisper until i tell you not to\n",
            "class=14, text=please only use a whisper when speaking\n",
            "class=119, text=how do i slow down my ai's voice\n",
            "class=119, text=talker faster please\n",
            "class=10, text=make the lights dimmer please\n",
            "class=119, text=how do i change your options so that you speak more slowly\n",
            "class=14, text=i dont need whisper mode on any more\n",
            "class=119, text=your voice speed is too slow, please increase it\n",
            "class=14, text=go back to whisper mode, please\n",
            "class=150, text=can you turn the volume to 4\n",
            "class=150, text=i'd like it to be louder\n",
            "class=14, text=switch to whisper please\n",
            "class=14, text=switch over to whisper\n",
            "class=13, text=i did not hear you\n",
            "class=150, text=set the volume to 4 now\n",
            "class=14, text=switch to quiet mode\n",
            "class=14, text=can you please lower the volume please\n",
            "class=14, text=make sure to set yourself to whisper mode before i go to the movie\n",
            "class=14, text=i want you to be in whisper mode now because i am in the library\n",
            "class=150, text=go ahead and put the volume to 4\n",
            "class=10, text=switch tv\n",
            "class=13, text=i didn't hear you, can you repeat that louder\n",
            "class=14, text=i need you to go into whisper mode\n",
            "class=150, text=turn it up please\n",
            "class=14, text=i decide to switch out of whisper mode\n",
            "class=14, text=immediately begin using whisper mode\n",
            "class=14, text=please switch to whisper mode\n",
            "class=14, text=i want you to use whisper voice now\n",
            "class=150, text=i want the speaker to be louder please\n",
            "class=10, text=can you please dim the lights\n",
            "class=119, text=please stop talking so fast\n",
            "class=14, text=can you go to the whisper voice\n",
            "class=14, text=exit out of whisper mode\n",
            "class=119, text=how do i change the speed of my ai's voice\n",
            "class=14, text=please use whisper\n",
            "class=14, text=could you please switch to whisper mode\n",
            "class=14, text=let's start whispering\n",
            "class=10, text=please turn the fan on\n",
            "class=14, text=please begin using the whisper voice setting\n",
            "class=14, text=i want your setting adjusted to whisper voice now\n",
            "class=14, text=switch to the whisper mode\n",
            "class=119, text=slow down your talking too fast i don't understand you\n",
            "class=147, text=shhhh\n",
            "class=147, text=silence\n",
            "class=14, text=whisper mode activate\n",
            "class=14, text=please speak with the whisper voice\n",
            "class=150, text=turn up the volume level to 4, please\n",
            "class=14, text=can you switch to whisper mode\n"
          ]
        }
      ]
    },
    {
      "cell_type": "code",
      "source": [],
      "metadata": {
        "id": "L6bds81N8XCR"
      },
      "execution_count": null,
      "outputs": []
    },
    {
      "cell_type": "markdown",
      "source": [
        "# DBSCAN(test) на test"
      ],
      "metadata": {
        "id": "iFGUyO_C8yLR"
      }
    },
    {
      "cell_type": "code",
      "source": [
        "t0 = time()\n",
        "\n",
        "model = DBSCAN(eps=0.5, min_samples=20, metric=\"euclidean\") # eps\n",
        "a = model.fit_predict(X_test)\n",
        "\n",
        "V = v_measure_score(y_test, a)\n",
        "H =homogeneity_score(y_test, a)\n",
        "C = completeness_score(y_test, a)\n",
        "NC = len(np.unique(a))\n",
        "FM = fowlkes_mallows_score(y_test, a)\n",
        "MI = adjusted_mutual_info_score(y_test, a)\n",
        "RS = adjusted_rand_score(y_test, a)\n",
        "T = time() - t0\n",
        "\n",
        "print (\"DBSCAN(test) на test\")\n",
        "print (f\"V={np.round(V, 4)}, H={np.round(H, 4)}, C={np.round(C, 4)}, NC={np.round(NC, 4)}, FM={np.round(FM, 4)}, MI={np.round(MI, 4)}, RS={np.round(RS, 4)}, T={np.round(T, 4)}\")\n",
        "#\n",
        "# V=0.1942, H=0.1113, C=0.7606, NC=11, FM=0.0882, MI=0.1796, RS=0.0041, T=0.079\n",
        "\n",
        "\n",
        "lst = list(Counter(a).values())\n",
        "lst.sort()\n",
        "plt.bar(np.arange(len(lst)), lst)"
      ],
      "metadata": {
        "colab": {
          "base_uri": "https://localhost:8080/",
          "height": 318
        },
        "id": "j2zZts1tmqRV",
        "outputId": "c367cceb-cf51-4c66-ba1d-beb495c8dd10"
      },
      "execution_count": null,
      "outputs": [
        {
          "output_type": "stream",
          "name": "stdout",
          "text": [
            "DBSCAN(test) на test\n",
            "V=0.1942, H=0.1113, C=0.7606, NC=11, FM=0.0882, MI=0.1796, RS=0.0041, T=8.3936\n"
          ]
        },
        {
          "output_type": "execute_result",
          "data": {
            "text/plain": [
              "<BarContainer object of 11 artists>"
            ]
          },
          "metadata": {},
          "execution_count": 32
        },
        {
          "output_type": "display_data",
          "data": {
            "text/plain": [
              "<Figure size 432x288 with 1 Axes>"
            ],
            "image/png": "[encoded data removed]"
          },
          "metadata": {}
        }
      ]
    },
    {
      "cell_type": "code",
      "source": [
        " # Обучили на DBSCAN, сейчас будем визуализировать - нужен UMAP\n",
        "\n",
        "reducer = umap.UMAP(n_neighbors=32, min_dist=0.1, n_components=2, metric='euclidean') # 16 -> 2\n",
        "embedding = reducer.fit_transform(X_test)\n",
        "\n",
        "plt.scatter(embedding[:,0], embedding[:,1], 5, a, lw=0.01, edgecolor='w', cmap='Spectral')"
      ],
      "metadata": {
        "colab": {
          "base_uri": "https://localhost:8080/",
          "height": 283
        },
        "id": "QYliCmr4QG3V",
        "outputId": "63552308-5bb3-49cc-bb10-c217ea2bf0a9"
      },
      "execution_count": null,
      "outputs": [
        {
          "output_type": "execute_result",
          "data": {
            "text/plain": [
              "<matplotlib.collections.PathCollection at 0x7fef40c5fb10>"
            ]
          },
          "metadata": {},
          "execution_count": 33
        },
        {
          "output_type": "display_data",
          "data": {
            "text/plain": [
              "<Figure size 432x288 with 1 Axes>"
            ],
            "image/png": "[encoded data removed]"
          },
          "metadata": {}
        }
      ]
    },
    {
      "cell_type": "code",
      "source": [
        "# НАДО ПОНЯТЬ, ЧТО ЗА КЛАСТЕР a=0\n",
        "plt.scatter(embedding[a>0,0], embedding[a>0,1], 20, a[a>0], lw=0.01, edgecolor='w', cmap='Spectral')"
      ],
      "metadata": {
        "colab": {
          "base_uri": "https://localhost:8080/",
          "height": 286
        },
        "id": "_v8KxeR-Qnqk",
        "outputId": "ca8e89ce-4468-4b2a-b5fe-1dd8f6e20e8c"
      },
      "execution_count": null,
      "outputs": [
        {
          "output_type": "execute_result",
          "data": {
            "text/plain": [
              "<matplotlib.collections.PathCollection at 0x7fef413dd550>"
            ]
          },
          "metadata": {},
          "execution_count": 34
        },
        {
          "output_type": "display_data",
          "data": {
            "text/plain": [
              "<Figure size 432x288 with 1 Axes>"
            ],
            "image/png": "[encoded data removed]"
          },
          "metadata": {}
        }
      ]
    },
    {
      "cell_type": "code",
      "source": [
        "for i in np.nonzero(a==6)[0]:\n",
        "  print (f'class={int(y[indexes_test[i]])}, text=' + data['train']['text'][indexes_test[i]])"
      ],
      "metadata": {
        "id": "QVnrJadrReg7",
        "colab": {
          "base_uri": "https://localhost:8080/"
        },
        "outputId": "129f3fae-d730-421f-a88f-e4149b44892a"
      },
      "execution_count": null,
      "outputs": [
        {
          "output_type": "stream",
          "name": "stdout",
          "text": [
            "class=31, text=how many centimeters are in 4 inches\n",
            "class=31, text=what would four inches be in centimeters\n",
            "class=31, text=how do you convert feet to inches\n",
            "class=31, text=help me convert feet into miles\n",
            "class=31, text=how many centimeters are one inch\n",
            "class=31, text=what is inches in centimeters\n",
            "class=31, text=how would i go about converting inches to yards\n",
            "class=31, text=i need to know the difference between inches and centimeters\n",
            "class=31, text=can you convert 2 inches into meters\n",
            "class=31, text=what is the conversion of inches to centimeters\n",
            "class=31, text=how many centimeters are in 5 yards\n",
            "class=31, text=how many centimeters are in an inch\n",
            "class=31, text=convert inch to cm\n",
            "class=31, text=please convert 2 inches into meters for me\n",
            "class=31, text=what's 10 inches in centimeters and millimeters\n",
            "class=31, text=how many meters are in 10 millimeters\n",
            "class=31, text=12 feet is equal to how many inches\n",
            "class=31, text=how do you convert inches to centimeters\n",
            "class=31, text=whats 5 feet in inches\n",
            "class=31, text=how many inches and centimeters would i need if i had 10 feet of something\n",
            "class=31, text=convert inches to centimeters\n",
            "class=31, text=how are yards converted to inches\n",
            "class=31, text=what are four inches in centimeters\n",
            "class=31, text=how do i change inches to centimeters\n",
            "class=31, text=what is the proper way to convert centimeters into inches\n",
            "class=31, text=if i have four inches, how many centimeters is that\n",
            "class=31, text=how do i convert four inches into centimeters\n",
            "class=31, text=how would you convert yards to inches\n",
            "class=31, text=how many meters are in 2 inches\n",
            "class=31, text=how many inches are in 5 feet\n",
            "class=31, text=how can i change centimeters into inches\n",
            "class=31, text=how do you convert millimeters to decimeters\n",
            "class=31, text=can you convert millimeters to centimeters\n",
            "class=31, text=how do i convert inches and centimeters\n"
          ]
        }
      ]
    },
    {
      "cell_type": "markdown",
      "source": [
        "# DBSCAN играемся с параметрами"
      ],
      "metadata": {
        "id": "s1x4ajbTILP_"
      }
    },
    {
      "cell_type": "code",
      "source": [
        "t0 = time()\n",
        "\n",
        "model = DBSCAN(eps=0.4, min_samples=10, metric=\"euclidean\") # eps\n",
        "a = model.fit_predict(X_test)\n",
        "\n",
        "V = v_measure_score(y_test, a)\n",
        "H =homogeneity_score(y_test, a)\n",
        "C = completeness_score(y_test, a)\n",
        "NC = len(np.unique(a))\n",
        "FM = fowlkes_mallows_score(y_test, a)\n",
        "MI = adjusted_mutual_info_score(y_test, a)\n",
        "RS = adjusted_rand_score(y_test, a)\n",
        "T = time() - t0\n",
        "\n",
        "print (\"DBSCAN(test) на test\")\n",
        "print (f\"V={np.round(V, 4)}, H={np.round(H, 4)}, C={np.round(C, 4)}, NC={np.round(NC, 4)}, FM={np.round(FM, 4)}, MI={np.round(MI, 4)}, RS={np.round(RS, 4)}, T={np.round(T, 4)}\")\n",
        "#\n",
        "\n",
        "\n",
        "lst = list(Counter(a).values())\n",
        "lst.sort()\n",
        "plt.bar(np.arange(len(lst)), lst)\n",
        "\n",
        "# eps=0.4, min_samples=20 -  V=0.5136, H=0.3687, C=0.846, NC=64, FM=0.1207, MI=0.4676, RS=0.0232, T=9.082\n",
        "# eps=0.4, min_samples=10 - V=0.5654, H=0.4261, C=0.84, NC=87, FM=0.1343, MI=0.5181, RS=0.0336, T=8.835"
      ],
      "metadata": {
        "colab": {
          "base_uri": "https://localhost:8080/",
          "height": 318
        },
        "id": "GB3XmDhD-KlO",
        "outputId": "a0183fb1-dfd7-44f1-84f3-f4de54013163"
      },
      "execution_count": null,
      "outputs": [
        {
          "output_type": "stream",
          "name": "stdout",
          "text": [
            "DBSCAN(test) на test\n",
            "V=0.5654, H=0.4261, C=0.84, NC=87, FM=0.1343, MI=0.5181, RS=0.0336, T=8.835\n"
          ]
        },
        {
          "output_type": "execute_result",
          "data": {
            "text/plain": [
              "<BarContainer object of 87 artists>"
            ]
          },
          "metadata": {},
          "execution_count": 43
        },
        {
          "output_type": "display_data",
          "data": {
            "text/plain": [
              "<Figure size 432x288 with 1 Axes>"
            ],
            "image/png": "[encoded data removed]"
          },
          "metadata": {}
        }
      ]
    },
    {
      "cell_type": "code",
      "source": [
        " # Обучили на DBSCAN, сейчас будем визуализировать - нужен UMAP\n",
        "\n",
        "reducer = umap.UMAP(n_neighbors=32, min_dist=0.1, n_components=2, metric='euclidean') # 16 -> 2\n",
        "embedding = reducer.fit_transform(X_test)\n",
        "\n",
        "plt.scatter(embedding[a<0,0], embedding[a<0,1], 5, color='black', lw=0.1, edgecolor='w', cmap='Spectral')\n",
        "plt.scatter(embedding[a>=0,0], embedding[a>=0,1], 15, a[a>=0], lw=0.1, edgecolor='w', cmap='Spectral')"
      ],
      "metadata": {
        "colab": {
          "base_uri": "https://localhost:8080/",
          "height": 283
        },
        "id": "dpzGGdeLAbmY",
        "outputId": "c8ec5bac-f553-4e55-a8e2-148d4d6019dc"
      },
      "execution_count": null,
      "outputs": [
        {
          "output_type": "execute_result",
          "data": {
            "text/plain": [
              "<matplotlib.collections.PathCollection at 0x7fef40df2090>"
            ]
          },
          "metadata": {},
          "execution_count": 54
        },
        {
          "output_type": "display_data",
          "data": {
            "text/plain": [
              "<Figure size 432x288 with 1 Axes>"
            ],
            "image/png": "[encoded data removed]"
          },
          "metadata": {}
        }
      ]
    },
    {
      "cell_type": "code",
      "source": [
        "sum(a==14)"
      ],
      "metadata": {
        "colab": {
          "base_uri": "https://localhost:8080/"
        },
        "id": "c0D-0LGzEULu",
        "outputId": "94c6daad-1289-4a97-e052-b2a4dd6ea3eb"
      },
      "execution_count": null,
      "outputs": [
        {
          "output_type": "execute_result",
          "data": {
            "text/plain": [
              "129"
            ]
          },
          "metadata": {},
          "execution_count": 76
        }
      ]
    },
    {
      "cell_type": "code",
      "source": [
        "for i in np.nonzero(a==15)[0]:\n",
        "  print (f'class={int(y[indexes_test[i]])}, text=' + data['train']['text'][indexes_test[i]])"
      ],
      "metadata": {
        "colab": {
          "base_uri": "https://localhost:8080/"
        },
        "id": "10avBPtRBVen",
        "outputId": "901c5b41-4165-4ff7-c611-31dc16b37f3e"
      },
      "execution_count": null,
      "outputs": [
        {
          "output_type": "stream",
          "name": "stdout",
          "text": [
            "class=136, text=use the map and pinpoint my position\n",
            "class=75, text=what would your name be\n",
            "class=77, text=where you from the usa\n",
            "class=11, text=you have what name for me\n",
            "class=99, text=how old are you, again\n",
            "class=75, text=what do you want me to refer to you as\n",
            "class=11, text=what name do you call me by\n",
            "class=11, text=what name do you call me\n",
            "class=136, text=where am i located\n",
            "class=96, text=can you tell me who made ai\n",
            "class=75, text=do you have a name i can use\n",
            "class=136, text=what's my current location\n",
            "class=11, text=what is the name you call me saved as\n",
            "class=136, text=what's the precise coordinates of this place\n",
            "class=96, text=what company manufactured you\n",
            "class=75, text=what should i refer to you as\n",
            "class=96, text=ai who made you\n",
            "class=136, text=can i have my current gps coordinates\n",
            "class=77, text=what's your birthplace\n",
            "class=99, text=could you let me know how old you are\n",
            "class=77, text=can you tell me where you were created\n",
            "class=77, text=where were you made\n",
            "class=99, text=when were you created\n",
            "class=99, text=what is your birthday again\n",
            "class=96, text=i'd like to know who made you\n",
            "class=75, text=would you tell me your name\n",
            "class=11, text=say my name if you know it\n",
            "class=77, text=would you care to let me know where you were made\n",
            "class=99, text=what is your creation date\n",
            "class=77, text=your birthplace is where\n",
            "class=96, text=tell me who programmed you\n",
            "class=55, text=i would like to change your name to a different one\n",
            "class=136, text=how will i find my current location\n",
            "class=11, text=in what format did you save my name\n",
            "class=136, text=what are my gps coordinates at this location\n",
            "class=75, text=whats your name\n",
            "class=99, text=tell me how old youare\n",
            "class=96, text=who did the programming for this ai\n",
            "class=144, text=i need to change my name to something else for you to call me\n",
            "class=99, text=what is your birthday\n",
            "class=55, text=i want to change your name to another name\n",
            "class=11, text=what is the name you have listed for my identity\n",
            "class=77, text=where is your original location\n",
            "class=136, text=help me find where i am\n",
            "class=75, text=what is the ai's name\n",
            "class=99, text=how many years have you been on\n",
            "class=11, text=so what is my name saved as\n",
            "class=99, text=how old did you just turn\n",
            "class=75, text=what did your friends call you\n",
            "class=136, text=i do not know where i am\n",
            "class=136, text=where am i located currently\n",
            "class=136, text=show me where i am\n",
            "class=136, text=what are my gps coordinates right now\n",
            "class=96, text=what company created you\n",
            "class=136, text=let me know my current location\n",
            "class=136, text=how can i go about finding my location right now\n",
            "class=96, text=who formed you\n",
            "class=136, text=where are we located\n",
            "class=136, text=using this map i'd like to see my exact whereabouts\n",
            "class=75, text=what name should i refer to you as\n",
            "class=77, text=where did you live previously\n",
            "class=99, text=how old are you alexa\n",
            "class=11, text=let me know what names you have for me\n",
            "class=75, text=what name do you prefer\n",
            "class=75, text=what would you like to be called\n",
            "class=75, text=what is your full name\n",
            "class=96, text=who crafted you\n",
            "class=136, text=what's my location\n",
            "class=96, text=who is your creator\n",
            "class=99, text=you are how old now\n",
            "class=99, text=what year were you born\n",
            "class=136, text=tell me where i am on a map\n",
            "class=136, text=give me my current location\n",
            "class=96, text=how were you made\n",
            "class=75, text=do you have a preference regarding what i should call you\n",
            "class=99, text=what date were you created on\n",
            "class=136, text=how do i find my present location right now, please\n",
            "class=99, text=i am needing to know when you were born\n",
            "class=136, text=please tell me my present gps coordinates\n",
            "class=11, text=regarding my name, whats it saved as\n",
            "class=136, text=can you find my location on the map, please\n",
            "class=96, text=what's the name of the company that designed you\n",
            "class=99, text=are you older than me\n",
            "class=55, text=can i rename you\n",
            "class=136, text=i need to know my present gps coordinates\n",
            "class=99, text=where's your place of birth\n",
            "class=55, text=how can i change your name\n",
            "class=77, text=what is your nationality\n",
            "class=77, text=do you know where you were born\n",
            "class=136, text=can you direct me where to find where i am\n",
            "class=99, text=how long ago were you born\n",
            "class=11, text=do you remember my name\n",
            "class=96, text=who were you invented by\n",
            "class=55, text=can you change the name of what you respond to\n",
            "class=96, text=i would like to know who programmed this ai\n",
            "class=136, text=what are the gps coordinates where i am located\n",
            "class=77, text=can you tell me where you were born\n",
            "class=99, text=how old are you\n",
            "class=136, text=i am in need of my location\n",
            "class=99, text=how long have you been around, ai\n",
            "class=96, text=i am needing to know who made you\n",
            "class=99, text=lemme know when you were born\n",
            "class=75, text=what can i refer to you by\n",
            "class=11, text=what name do you have saved for me\n",
            "class=75, text=is there a particular name i should call you\n",
            "class=75, text=when referring to you, what name should i use\n",
            "class=11, text=by what name do you refer to me\n",
            "class=55, text=can i change your name\n",
            "class=77, text=where did you used to live\n",
            "class=96, text=who is responsible for making you\n",
            "class=77, text=what's your city of origin\n",
            "class=11, text=what would you like to call me\n",
            "class=136, text=could you find my location on the map\n",
            "class=75, text=what name would you like me to call you\n",
            "class=77, text=where did you last live\n",
            "class=77, text=where is your family from\n",
            "class=99, text=what is your birth date\n",
            "class=11, text=say what you think my name is\n",
            "class=136, text=would you find my location on the map, please\n",
            "class=75, text=i am needing to know your name\n",
            "class=136, text=please give me my gps coordinates\n",
            "class=99, text=what is your age\n",
            "class=96, text=can you tell me who made the ai\n",
            "class=96, text=i am wanting to know who programmed you\n",
            "class=75, text=what do people call you\n",
            "class=11, text=please tell me the name you use for me\n",
            "class=96, text=who made you up\n",
            "class=11, text=do you know how to refer to me\n",
            "class=96, text=tell me what company programmed you\n",
            "class=99, text=where did you grow up\n",
            "class=96, text=this ai was made by what person or team\n",
            "class=99, text=do you have a birth date\n",
            "class=96, text=who are the people responsible for you\n",
            "class=75, text=is there a name that you preferred to be called by\n",
            "class=96, text=who was the inventor of ai\n",
            "class=96, text=who created you\n",
            "class=11, text=what is my name saved under\n",
            "class=77, text=where are you originally from\n",
            "class=75, text=state your name\n",
            "class=136, text=please tell me my location using gps\n",
            "class=99, text=what is the age of the ai\n",
            "class=136, text=what street am i on right now\n",
            "class=77, text=where were your born\n",
            "class=144, text=how do i change the name you use to address me\n",
            "class=75, text=can you me what they call you\n",
            "class=11, text=who do you think i am\n",
            "class=136, text=i would like to know my location\n",
            "class=75, text=what name should i use to address you\n",
            "class=136, text=where am i right now, location wise\n",
            "class=99, text=how old are you now\n",
            "class=136, text=what do i do to find my location\n",
            "class=96, text=who built you\n",
            "class=136, text=i'd like to know my current location\n",
            "class=99, text=how many years ago was al born\n",
            "class=136, text=look my location up on the map\n",
            "class=136, text=show me where i am on the map\n",
            "class=77, text=what location did you originate at\n",
            "class=96, text=who is this ai's creater\n",
            "class=96, text=who was your creator\n",
            "class=11, text=how did you save my name\n",
            "class=77, text=what country were you made\n",
            "class=55, text=can i change your name please\n",
            "class=99, text=how many years do you have\n",
            "class=75, text=what name should i call you\n",
            "class=99, text=do you know exactly when you were born\n",
            "class=136, text=how can i know my current location\n",
            "class=75, text=what do you like being called\n",
            "class=11, text=you refer to me as what\n",
            "class=99, text=how many years have you been operating\n",
            "class=55, text=i need to change your name, do you have a new name that you like\n",
            "class=75, text=what name would you like me to use\n",
            "class=75, text=can i call you by any name\n",
            "class=77, text=where do you come from\n",
            "class=11, text=what did ya save my name as\n",
            "class=96, text=who constructed you\n",
            "class=136, text=how can i go about finding my current location\n",
            "class=136, text=could you pull up my location on the map\n",
            "class=55, text=i want to change the name i call you to juan\n",
            "class=77, text=tell me where you're made\n",
            "class=11, text=what's my name in your system\n",
            "class=75, text=ai, what should i call you\n",
            "class=96, text=who made the ai\n",
            "class=77, text=whereabouts are you from\n",
            "class=75, text=give me your name\n",
            "class=75, text=what's your full name\n",
            "class=96, text=what created you\n",
            "class=77, text=where are you from\n",
            "class=77, text=what is your place of origin\n",
            "class=11, text=tell me what you think my name is\n",
            "class=99, text=please tell me your date of birth\n",
            "class=11, text=what do you think i am called\n",
            "class=11, text=could you let me know what names you have for me\n",
            "class=99, text=i would like to know when you were born\n",
            "class=96, text=the creator of your ai, what is their name\n",
            "class=55, text=can you go by a different name\n",
            "class=96, text=let me know who made you\n",
            "class=136, text=what is my current location that you see right now\n",
            "class=99, text=how many years are you\n",
            "class=11, text=what are you going to refer to me as\n",
            "class=99, text=when was your birth\n",
            "class=11, text=what am i called by you\n",
            "class=11, text=i want you to let me know what names you have for me\n",
            "class=75, text=tell me your name\n",
            "class=11, text=what name do you use when addressing me\n",
            "class=75, text=what do they call you\n",
            "class=75, text=i want your name\n",
            "class=96, text=what organization created you\n",
            "class=136, text=please locate me on the map and show me\n",
            "class=11, text=how is my name listed\n",
            "class=136, text=what are the gps coordinates of this spot i am at right now\n",
            "class=11, text=i wanna know what do you call me\n",
            "class=75, text=what are you called\n",
            "class=99, text=i am wanting to know how old you are\n",
            "class=77, text=where do you trace your roots\n",
            "class=55, text=is it okay if i change your name to mud\n",
            "class=75, text=ai, what can i call you\n",
            "class=77, text=what city were you born in\n",
            "class=96, text=would you tell me who made the ai\n",
            "class=96, text=provide me the name of who programmed you\n",
            "class=136, text=tell me my current location please\n",
            "class=136, text=please tell me my current location\n",
            "class=96, text=you were built by who\n",
            "class=55, text=could i please change your name to alicia\n",
            "class=77, text=where were you before moving here\n",
            "class=11, text=what will you refer to me as\n",
            "class=99, text=can you tell me how old you are\n",
            "class=136, text=could you find my location on the map, please\n",
            "class=11, text=do you know what you call me\n",
            "class=75, text=i want to know your name\n",
            "class=77, text=where are your roots\n",
            "class=136, text=i need to find out how i know my location right now\n",
            "class=136, text=how can i find my current location\n",
            "class=77, text=where are your origins found\n",
            "class=75, text=do you have a name i should call you by\n",
            "class=136, text=what is my location right now\n",
            "class=136, text=i'm lost, can you tell me where i am\n",
            "class=75, text=what's should i call you by\n",
            "class=11, text=do you know my name\n",
            "class=75, text=do you know your name\n",
            "class=96, text=what company coded you\n",
            "class=99, text=on what day and date of what year were you born\n",
            "class=75, text=i need to know your name\n",
            "class=136, text=what are my longitude and latitude points\n",
            "class=136, text=how do i find my location right now\n",
            "class=96, text=who brought you up\n",
            "class=99, text=ai, how long have you been alive\n",
            "class=136, text=can you locate me on a map\n",
            "class=77, text=did you grow up here\n",
            "class=55, text=i want to update you name, please\n",
            "class=96, text=who is it that programmed you\n",
            "class=99, text=how old are you today\n",
            "class=75, text=i'd like to know what to call you\n",
            "class=11, text=what do you think you will refer to me as\n",
            "class=99, text=what's your age siri\n",
            "class=99, text=let me know how old you are\n",
            "class=99, text=when did you come to exist\n",
            "class=77, text=can you tell me where you are from\n",
            "class=99, text=what age are you\n",
            "class=75, text=do you go by any nicknames\n",
            "class=96, text=i'm needing to know who made you\n",
            "class=11, text=what's my name huh\n",
            "class=77, text=where is the location that you were made\n",
            "class=77, text=could you tell me where did you originate\n",
            "class=75, text=provide the name i should use to refer to you\n",
            "class=58, text=send my gps coordinates with home base please\n",
            "class=11, text=how do you reference me\n",
            "class=96, text=provide me the name of who made you\n",
            "class=99, text=let me know when you were born\n",
            "class=136, text=give me my location on the map\n",
            "class=136, text=can you tell me my location\n",
            "class=57, text=who is in charge of you\n",
            "class=96, text=the programmer who made you is who\n",
            "class=77, text=so where did you live when you were a baby\n",
            "class=11, text=i need to know what names you have for me\n",
            "class=77, text=where did they make you\n",
            "class=75, text=please tell me the name i should use when talking to you\n",
            "class=99, text=i'd like to know how old you are\n",
            "class=75, text=does the ai have a name\n",
            "class=75, text=what name do you answer to\n",
            "class=11, text=you saved my name how\n",
            "class=136, text=where am i right this moment\n",
            "class=58, text=give tim my current location from the gps\n",
            "class=136, text=check me out on the map\n",
            "class=55, text=can i make your name different\n",
            "class=77, text=what area were you born in\n",
            "class=58, text=advise sam of my current location please\n",
            "class=77, text=tell me where you were born\n",
            "class=11, text=my name is what\n",
            "class=55, text=can i call you something else\n",
            "class=99, text=tell me your age please\n",
            "class=11, text=what is my name saved as in your system\n",
            "class=99, text=what's your age alexa\n",
            "class=75, text=tell me your full name\n",
            "class=99, text=could you tell me when you were born\n",
            "class=136, text=how do i know where i'm at\n",
            "class=11, text=can you tell me what my name is\n",
            "class=99, text=how old are you again\n",
            "class=75, text=do you have a name that i can call you\n",
            "class=11, text=what's the name that you have for me, please\n",
            "class=96, text=who gave you life\n",
            "class=75, text=how would you like to be referred to\n",
            "class=75, text=how would you like me to refer to you\n",
            "class=11, text=what would you like to refer to me as\n",
            "class=96, text=what company wrote your code\n",
            "class=11, text=can you tell me what your refer to me as\n",
            "class=11, text=tell me your guess of what my name is\n",
            "class=75, text=what's your first name\n",
            "class=11, text=by what name people call me\n",
            "class=75, text=you must tell me your name\n",
            "class=11, text=what do you know me as\n",
            "class=136, text=look me up on the map\n",
            "class=77, text=where do you hail from\n",
            "class=77, text=you were born where\n",
            "class=99, text=how old are you, ai\n",
            "class=136, text=how do i find my location right now, please\n",
            "class=11, text=what name do you have listed for me\n",
            "class=99, text=i need to know how old you are\n",
            "class=11, text=do you have any idea what my name is\n",
            "class=96, text=who designed you\n",
            "class=11, text=tell me what you believe my name to be\n",
            "class=99, text=i want to know your age\n",
            "class=96, text=i want to know who made you\n",
            "class=96, text=who's responsible for your existence\n",
            "class=99, text=tell me when you were born\n",
            "class=136, text=what location do you see me at right now\n",
            "class=144, text=can i change my nickname\n",
            "class=99, text=how long have you been here\n",
            "class=99, text=what would your age be\n",
            "class=75, text=do people call you by a certain name what is it\n",
            "class=11, text=what am i known as to you\n",
            "class=96, text=who makes the ai\n",
            "class=77, text=where were you manufactured\n",
            "class=29, text=can i change your language\n",
            "class=96, text=who invented you\n",
            "class=136, text=i'd like to know where i am\n",
            "class=99, text=your age please\n",
            "class=96, text=which company programmed you\n",
            "class=75, text=do you have a way you like to be referred to\n",
            "class=77, text=where are your origins located\n",
            "class=77, text=where did you come from, originally\n",
            "class=75, text=please tell me your name\n",
            "class=77, text=what location were you born in\n",
            "class=136, text=can you tell me how to figure out my current location\n",
            "class=11, text=what would i be referred to as\n",
            "class=77, text=where's your birthplace\n",
            "class=96, text=who is your originator\n",
            "class=11, text=so what is my current name saved as\n",
            "class=136, text=how shall i find my current location\n",
            "class=77, text=what is your country of origin\n",
            "class=96, text=who did the programming on you\n",
            "class=55, text=i'd like to use another name for you\n",
            "class=11, text=what's my name saved under\n",
            "class=55, text=i want to update you name\n",
            "class=77, text=where was your home before here\n",
            "class=75, text=i'd like your name\n",
            "class=77, text=where is your birth place\n",
            "class=96, text=give me an answer to who made you\n",
            "class=75, text=what do you prefer to be called\n",
            "class=77, text=what location did you live at before\n",
            "class=136, text=check out my location up on the map\n",
            "class=11, text=can you tell me my name\n",
            "class=99, text=tell me your date of birth\n",
            "class=11, text=i want you to guess my name\n",
            "class=144, text=i want you to call me this new name\n",
            "class=11, text=you wrote what for my name\n",
            "class=77, text=in what state were you born\n",
            "class=75, text=what can i address you\n",
            "class=96, text=will you tell me who made the ai\n",
            "class=75, text=how would you like me to call you\n",
            "class=11, text=is there a name that you call me\n",
            "class=11, text=would you tell me what names you have for me\n",
            "class=11, text=let me know what do you call me\n",
            "class=77, text=what country do you consider yourself a citizen of\n",
            "class=11, text=what name am i under\n",
            "class=99, text=how old are you siri\n",
            "class=136, text=tell me the current location\n",
            "class=96, text=who fabricated you\n",
            "class=136, text=tell me my current gps coordinates\n",
            "class=75, text=i would like to know your name\n",
            "class=96, text=would you let me know who programmed you\n",
            "class=99, text=tell me your age\n",
            "class=96, text=who formulated you\n",
            "class=11, text=what do you have my name saved under\n",
            "class=136, text=list my current gps coordinates\n",
            "class=55, text=i want to update you name now\n",
            "class=75, text=who are you known as\n",
            "class=96, text=tell me the inventor of ai\n",
            "class=77, text=where were you born\n",
            "class=136, text=showme how to find my location\n",
            "class=96, text=may i know who made you\n",
            "class=58, text=trey needs my current location\n",
            "class=96, text=who brought you to life\n",
            "class=136, text=at this location what are my gps coordinates\n",
            "class=77, text=you came from where\n",
            "class=11, text=what is the name that you have for me\n",
            "class=96, text=who created your ai program\n",
            "class=11, text=let me know the name you have for me\n",
            "class=96, text=what is the name of the person who created you\n",
            "class=77, text=what town were you born in\n",
            "class=11, text=what do you have me saved under\n",
            "class=77, text=where is your country of origin\n",
            "class=75, text=how should i refer to you\n",
            "class=75, text=could you tell me your name\n",
            "class=77, text=tell me where you come from\n",
            "class=75, text=ai, what's your name\n",
            "class=11, text=what is my first name saved as\n",
            "class=11, text=what name do you know me by\n",
            "class=136, text=can you find my location on the map\n",
            "class=11, text=what is your name for me\n",
            "class=75, text=can i have your name please\n",
            "class=136, text=i need to know my current gps coordinates\n",
            "class=99, text=ai, how long have you been working\n",
            "class=99, text=what's your age again\n",
            "class=99, text=what's your birth date\n",
            "class=55, text=i am wanting to change your name to felix\n",
            "class=75, text=and what would your name be\n",
            "class=77, text=what state were you born in\n",
            "class=11, text=what is the name that you have for me, please\n",
            "class=75, text=i wanna know your name\n",
            "class=96, text=who engineered you\n",
            "class=99, text=you are how old\n",
            "class=11, text=what might my name be\n",
            "class=75, text=i need your name\n",
            "class=96, text=who made this ai\n",
            "class=75, text=tell me what name to use to refer to you\n",
            "class=75, text=what do you prefer being called\n",
            "class=144, text=can i change what you call me\n",
            "class=11, text=what can you call me\n",
            "class=99, text=what's your age\n",
            "class=77, text=what area did you grow up in\n",
            "class=11, text=can you tell me what you call me\n",
            "class=77, text=what's your country of origin\n",
            "class=99, text=how old are you exactly at the moment\n",
            "class=77, text=from whence do you hail\n",
            "class=55, text=can i change your name to bob\n",
            "class=11, text=the name you have for me is what\n",
            "class=99, text=i'd like to know when you were born\n",
            "class=11, text=can you guess my name\n",
            "class=144, text=please change the name you refer to me by\n",
            "class=77, text=what is the name of your birthplace\n",
            "class=136, text=would you please tell me my current gps coordinates\n",
            "class=11, text=so what name do you have for me\n",
            "class=136, text=where exactly am i\n",
            "class=99, text=do you know when you were born\n",
            "class=99, text=what is the exact date of your birth\n",
            "class=77, text=what was the location of your birth\n",
            "class=55, text=i want to change your name to emma\n",
            "class=77, text=where did you live before here\n",
            "class=55, text=can i change your name to buttercup\n",
            "class=96, text=can you tell me who created you\n",
            "class=75, text=do you have a name\n",
            "class=75, text=what name do you want me to call you\n",
            "class=75, text=what do you want me to call you\n",
            "class=77, text=what is your point of origin\n",
            "class=77, text=where were you given birth\n",
            "class=77, text=where is your place of origin\n",
            "class=99, text=what is the date of your birth\n",
            "class=99, text=i'd love to hear when you were born\n",
            "class=136, text=please tell me my current gps coordinates\n",
            "class=136, text=how do i find my present location right now\n",
            "class=77, text=where were you created\n",
            "class=96, text=how was this ai created\n",
            "class=136, text=how do i find my location, please\n",
            "class=136, text=display my location on a map\n",
            "class=136, text=let me know where i'm located\n",
            "class=75, text=ai, what do people call you\n",
            "class=11, text=what is the name you call me\n",
            "class=75, text=what name should i use for you\n",
            "class=136, text=i need to know my location\n",
            "class=96, text=do you know who you came from\n",
            "class=77, text=what is the area that you came from\n",
            "class=96, text=who is the creator of this ai\n",
            "class=99, text=when did you originate\n",
            "class=136, text=what do i do to find my current location\n",
            "class=75, text=what name do you want to be called\n",
            "class=99, text=how old are you exactly\n",
            "class=136, text=i would like to know my current location\n",
            "class=144, text=can i have you call me something else\n",
            "class=136, text=how can i locate where i am\n",
            "class=75, text=what name should i use when i call you\n",
            "class=11, text=do i have a name to you\n",
            "class=136, text=what country and city am i in\n",
            "class=75, text=i want to know the name that was given by the person who made you\n",
            "class=136, text=please show me where i am on a map\n",
            "class=75, text=what is the name i should use to refer to you\n",
            "class=96, text=who made you ai\n",
            "class=11, text=what is my name saved as\n",
            "class=75, text=how are you named\n",
            "class=77, text=what is your native home\n",
            "class=99, text=how many days old are you\n",
            "class=75, text=can you tell me your name\n",
            "class=99, text=for how long have you existed\n",
            "class=75, text=what name should i use when talking with you\n",
            "class=136, text=tell me how to find my current location\n",
            "class=77, text=what's your nationality\n",
            "class=11, text=do you call me a certain name\n",
            "class=11, text=what name is mine\n",
            "class=99, text=what is your age, ai\n",
            "class=96, text=who were you made by\n",
            "class=75, text=can you tell me the ai's name\n",
            "class=75, text=hello, may i get your name\n",
            "class=96, text=tell me who made you\n",
            "class=77, text=where was it you were made\n",
            "class=11, text=what name do you use to talk about me\n",
            "class=77, text=in which area were you made\n",
            "class=11, text=what name do you refer to me as\n",
            "class=77, text=were you born here\n",
            "class=11, text=show me what you think my name is\n",
            "class=75, text=what is you name\n",
            "class=77, text=when you were a child, where did you live\n",
            "class=11, text=what do you refer to me as\n",
            "class=99, text=you're how old\n",
            "class=136, text=is there a way to get my current location\n",
            "class=99, text=what birthday are you celebrating this year, ai\n",
            "class=99, text=how many years old are you\n",
            "class=99, text=how long have you been around\n"
          ]
        }
      ]
    },
    {
      "cell_type": "markdown",
      "source": [
        "# Пробуем OPTICS"
      ],
      "metadata": {
        "id": "BXDuNvVNIo0C"
      }
    },
    {
      "cell_type": "code",
      "source": [
        "from sklearn.cluster import OPTICS\n",
        "\n",
        "t0 = time()\n",
        "\n",
        "model = OPTICS(max_eps=0.4, min_samples=10, metric=\"euclidean\") # cluster_method='xi', eps=None, xi=0.05, predecessor_correction=True, min_cluster_size=None, algorithm='auto', leaf_size=30, memory=None, n_jobs=None\n",
        "a = model.fit_predict(X_test)\n",
        "\n",
        "V = v_measure_score(y_test, a)\n",
        "H =homogeneity_score(y_test, a)\n",
        "C = completeness_score(y_test, a)\n",
        "NC = len(np.unique(a))\n",
        "FM = fowlkes_mallows_score(y_test, a)\n",
        "MI = adjusted_mutual_info_score(y_test, a)\n",
        "RS = adjusted_rand_score(y_test, a)\n",
        "T = time() - t0\n",
        "\n",
        "print (\"OPTICS(test) на test\")\n",
        "print (f\"V={np.round(V, 4)}, H={np.round(H, 4)}, C={np.round(C, 4)}, NC={np.round(NC, 4)}, FM={np.round(FM, 4)}, MI={np.round(MI, 4)}, RS={np.round(RS, 4)}, T={np.round(T, 4)}\")\n",
        "#\n",
        "# V=0.3543, H=0.2325, C=0.7445, NC=128, FM=0.0798, MI=0.2647, RS=0.0035, T=159.4433\n",
        "\n",
        "\n",
        "lst = list(Counter(a).values())\n",
        "lst.sort()\n",
        "plt.bar(np.arange(len(lst)), lst)"
      ],
      "metadata": {
        "colab": {
          "base_uri": "https://localhost:8080/",
          "height": 318
        },
        "id": "z80hf-qwBXoZ",
        "outputId": "9b08d3e6-741c-45ee-eeb3-67362001a17a"
      },
      "execution_count": null,
      "outputs": [
        {
          "output_type": "stream",
          "name": "stdout",
          "text": [
            "OPTICS(test) на test\n",
            "V=0.3543, H=0.2325, C=0.7445, NC=128, FM=0.0798, MI=0.2647, RS=0.0035, T=159.4433\n"
          ]
        },
        {
          "output_type": "execute_result",
          "data": {
            "text/plain": [
              "<BarContainer object of 128 artists>"
            ]
          },
          "metadata": {},
          "execution_count": 81
        },
        {
          "output_type": "display_data",
          "data": {
            "text/plain": [
              "<Figure size 432x288 with 1 Axes>"
            ],
            "image/png": "[encoded data removed]"
          },
          "metadata": {}
        }
      ]
    },
    {
      "cell_type": "code",
      "source": [
        "plt.scatter(embedding[a<0,0], embedding[a<0,1], 5, color='black', lw=0.1, edgecolor='w', cmap='Spectral')\n",
        "plt.scatter(embedding[a>=0,0], embedding[a>=0,1], 15, a[a>=0], lw=0.1, edgecolor='w', cmap='Spectral')"
      ],
      "metadata": {
        "colab": {
          "base_uri": "https://localhost:8080/",
          "height": 283
        },
        "id": "b0i-NXJtI8sh",
        "outputId": "70977e8b-b051-48ac-876a-3582aac87340"
      },
      "execution_count": null,
      "outputs": [
        {
          "output_type": "execute_result",
          "data": {
            "text/plain": [
              "<matplotlib.collections.PathCollection at 0x7fef41759b10>"
            ]
          },
          "metadata": {},
          "execution_count": 85
        },
        {
          "output_type": "display_data",
          "data": {
            "text/plain": [
              "<Figure size 432x288 with 1 Axes>"
            ],
            "image/png": "[encoded data removed]"
          },
          "metadata": {}
        }
      ]
    },
    {
      "cell_type": "code",
      "source": [
        "for i in np.nonzero(a==4)[0]:\n",
        "  print (f'class={int(y[indexes_test[i]])}, text=' + data['train']['text'][indexes_test[i]])"
      ],
      "metadata": {
        "colab": {
          "base_uri": "https://localhost:8080/"
        },
        "id": "mXHykUaKJwBu",
        "outputId": "05c2665e-7fb1-4672-d63c-552edeb35b46"
      },
      "execution_count": null,
      "outputs": [
        {
          "output_type": "stream",
          "name": "stdout",
          "text": [
            "class=142, text=how much is this mpg\n",
            "class=142, text=how much gas does this car use in the city\n",
            "class=142, text=what is the mpg for this car in city\n",
            "class=142, text=what is the city fuel efficiency for this car\n",
            "class=142, text=what's the mpg of this car\n",
            "class=142, text=do you know what this car's mpg is\n",
            "class=142, text=what is the highway mpg on this car\n",
            "class=142, text=how much mpg does this car get in the city\n",
            "class=142, text=how many miles per gallon does this car get in the city\n",
            "class=142, text=how does this car do with mpg in the city\n",
            "class=142, text=what is the mpg on this car\n",
            "class=142, text=what's the miles per gallon on this car\n",
            "class=142, text=how many mpg does this car have\n",
            "class=142, text=please tell me what the mpg is for this car\n",
            "class=142, text=what is the city mpg for this car\n",
            "class=142, text=what kind of mpg does this car get in the city\n",
            "class=142, text=for city driving, what's the car's mpg\n",
            "class=142, text=what is the mpg like for this car while driving in the city\n",
            "class=142, text=whats the cars mpg\n",
            "class=142, text=what is the mpg of this car\n",
            "class=142, text=can you give me the car's mpg for the city\n",
            "class=142, text=can you tell me the mpg of this car\n"
          ]
        }
      ]
    },
    {
      "cell_type": "code",
      "source": [],
      "metadata": {
        "id": "QGydxbTfJ42e"
      },
      "execution_count": null,
      "outputs": []
    },
    {
      "cell_type": "markdown",
      "source": [
        "# Пока конец"
      ],
      "metadata": {
        "id": "LUsMT6QLMxQc"
      }
    },
    {
      "cell_type": "code",
      "source": [
        "plt.scatter(embedding[:,0], embedding[:,1], 5, a, lw=0.01, edgecolor='w', cmap='Spectral')"
      ],
      "metadata": {
        "colab": {
          "base_uri": "https://localhost:8080/",
          "height": 283
        },
        "id": "ecwuxFde7lZO",
        "outputId": "2f2b41e5-7ea2-4619-db32-7a3e95ea2774"
      },
      "execution_count": null,
      "outputs": [
        {
          "output_type": "execute_result",
          "data": {
            "text/plain": [
              "<matplotlib.collections.PathCollection at 0x7eff1f02dd90>"
            ]
          },
          "metadata": {},
          "execution_count": 45
        },
        {
          "output_type": "display_data",
          "data": {
            "text/plain": [
              "<Figure size 432x288 with 1 Axes>"
            ],
            "image/png": "[encoded data removed]"
          },
          "metadata": {}
        }
      ]
    },
    {
      "cell_type": "code",
      "source": [
        "plt.scatter(embedding[a>0,0], embedding[a>0,1], 20, a[a>0], lw=0.01, edgecolor='w', cmap='Spectral')\n"
      ],
      "metadata": {
        "colab": {
          "base_uri": "https://localhost:8080/",
          "height": 283
        },
        "id": "EaIr9c_mCFxZ",
        "outputId": "5682819c-e2ec-4b48-c7de-e86053cae1df"
      },
      "execution_count": null,
      "outputs": [
        {
          "output_type": "execute_result",
          "data": {
            "text/plain": [
              "<matplotlib.collections.PathCollection at 0x7eff22459e50>"
            ]
          },
          "metadata": {},
          "execution_count": 51
        },
        {
          "output_type": "display_data",
          "data": {
            "text/plain": [
              "<Figure size 432x288 with 1 Axes>"
            ],
            "image/png": "[encoded data removed]"
          },
          "metadata": {}
        }
      ]
    },
    {
      "cell_type": "code",
      "source": [
        "sum(a==0)"
      ],
      "metadata": {
        "colab": {
          "base_uri": "https://localhost:8080/"
        },
        "id": "L_g31IrdGWv0",
        "outputId": "efe95c63-4ea5-4c59-8068-1f71dd208b5a"
      },
      "execution_count": null,
      "outputs": [
        {
          "output_type": "execute_result",
          "data": {
            "text/plain": [
              "10825"
            ]
          },
          "metadata": {},
          "execution_count": 50
        }
      ]
    },
    {
      "cell_type": "code",
      "source": [
        "l = 151\n",
        "t0 = time()\n",
        "\n",
        "# м.б. коментировать\n",
        "reducer = umap.UMAP(n_neighbors=32, min_dist=0.1, n_components=16, metric='euclidean')\n",
        "reducer.fit(X_train)\n",
        "embedding = reducer.transform(X_test)\n",
        "\n",
        "model = DBSCAN(eps=0.1, min_samples=20, metric=\"euclidean\") # eps =\n",
        "a = model.fit_predict(embedding)\n",
        "\n",
        "V = v_measure_score(y_test, a)\n",
        "H =homogeneity_score(y_test, a)\n",
        "C = completeness_score(y_test, a)\n",
        "NC = len(np.unique(a))\n",
        "FM = fowlkes_mallows_score(y_test, a)\n",
        "MI = adjusted_mutual_info_score(y_test, a)\n",
        "RS = adjusted_rand_score(y_test, a)\n",
        "T = time() - t0\n",
        "\n",
        "print (\"UMAP(train) + DBSCAN(test) на test\")\n",
        "print (f\"V={np.round(V, 4)}, H={np.round(H, 4)}, C={np.round(C, 4)}, NC={np.round(NC, 4)}, FM={np.round(FM, 4)}, MI={np.round(MI, 4)}, RS={np.round(RS, 4)}, T={np.round(T, 4)}\")\n",
        "# eps = 0.5\n",
        "# V=0.1795, H=0.1, C=0.8757, NC=9, FM=0.0879, MI=0.1649, RS=0.0029, T=254.6293"
      ],
      "metadata": {
        "colab": {
          "base_uri": "https://localhost:8080/"
        },
        "id": "RIXso3Q5KkP6",
        "outputId": "5ff7d81e-cff1-4730-ea2d-69ceb1459ea4"
      },
      "execution_count": null,
      "outputs": [
        {
          "output_type": "stream",
          "name": "stdout",
          "text": [
            "UMAP(train) + DBSCAN(test) на test\n",
            "V=0.1581, H=0.0894, C=0.6817, NC=33, FM=0.0785, MI=0.1149, RS=0.0009, T=253.5118\n"
          ]
        }
      ]
    },
    {
      "cell_type": "code",
      "source": [
        "a = model.predict(embedding)"
      ],
      "metadata": {
        "colab": {
          "base_uri": "https://localhost:8080/",
          "height": 166
        },
        "id": "6048ugRSMTjv",
        "outputId": "c19deb18-b598-4e60-c623-46ebab3a1e20"
      },
      "execution_count": null,
      "outputs": [
        {
          "output_type": "error",
          "ename": "AttributeError",
          "evalue": "ignored",
          "traceback": [
            "\u001b[0;31m---------------------------------------------------------------------------\u001b[0m",
            "\u001b[0;31mAttributeError\u001b[0m                            Traceback (most recent call last)",
            "\u001b[0;32m<ipython-input-54-e3e5f3e0aa27>\u001b[0m in \u001b[0;36m<module>\u001b[0;34m\u001b[0m\n\u001b[0;32m----> 1\u001b[0;31m \u001b[0ma\u001b[0m \u001b[0;34m=\u001b[0m \u001b[0mmodel\u001b[0m\u001b[0;34m.\u001b[0m\u001b[0mpredict\u001b[0m\u001b[0;34m(\u001b[0m\u001b[0membedding\u001b[0m\u001b[0;34m)\u001b[0m\u001b[0;34m\u001b[0m\u001b[0;34m\u001b[0m\u001b[0m\n\u001b[0m",
            "\u001b[0;31mAttributeError\u001b[0m: 'DBSCAN' object has no attribute 'predict'"
          ]
        }
      ]
    },
    {
      "cell_type": "code",
      "source": [
        "np.unique(clustering_emb)"
      ],
      "metadata": {
        "colab": {
          "base_uri": "https://localhost:8080/"
        },
        "id": "qV7JScWzLAel",
        "outputId": "562ec058-87e5-434a-f135-69af3116d8fe"
      },
      "execution_count": null,
      "outputs": [
        {
          "output_type": "execute_result",
          "data": {
            "text/plain": [
              "array([KMeans(n_clusters=151)], dtype=object)"
            ]
          },
          "metadata": {},
          "execution_count": 80
        }
      ]
    },
    {
      "cell_type": "code",
      "source": [
        "!nvidia-smi"
      ],
      "metadata": {
        "id": "HECsOmXQLDs9",
        "colab": {
          "base_uri": "https://localhost:8080/"
        },
        "outputId": "2ac11970-fc3b-4e21-d009-79bd33f99cf4"
      },
      "execution_count": null,
      "outputs": [
        {
          "output_type": "stream",
          "name": "stdout",
          "text": [
            "NVIDIA-SMI has failed because it couldn't communicate with the NVIDIA driver. Make sure that the latest NVIDIA driver is installed and running.\n",
            "\n"
          ]
        }
      ]
    },
    {
      "cell_type": "markdown",
      "source": [
        "# Эксперименты с кластеризацией без разбивки"
      ],
      "metadata": {
        "id": "VKdtPQNW7_QN"
      }
    },
    {
      "cell_type": "code",
      "source": [
        "l = 151\n",
        "t0 = time()\n",
        "model = KMeans(n_clusters=l)\n",
        "clustering_emb = model.fit(X)\n",
        "a = clustering_emb.labels_\n",
        "\n",
        "V = v_measure_score(y, a)\n",
        "H =homogeneity_score(y, a)\n",
        "C = completeness_score(y, a)\n",
        "NC = len(np.unique(a))\n",
        "FM = fowlkes_mallows_score(y, a)\n",
        "MI = adjusted_mutual_info_score(y, a)\n",
        "RS = adjusted_rand_score(y, a)\n",
        "T = time() - t0\n",
        "\n",
        "print (\"k-Means на train\")\n",
        "print (f\"V={np.round(V, 4)}, H={np.round(H, 4)}, C={np.round(C, 4)}, NC={np.round(NC, 4)}, FM={np.round(FM, 4)}, MI={np.round(MI, 4)}, RS={np.round(RS, 4)}, T={np.round(T, 4)}\")\n",
        "#V=0.9316, H=0.9262, C=0.937, NC=151, FM=0.7856, MI=0.9172, RS=0.7829, T=75.3756\n",
        "# V=0.8992, H=0.8947, C=0.9037, NC=151, FM=0.667, MI=0.8071, RS=0.664, T=12.1723\n",
        "\n",
        "lst = list(Counter(a).values())\n",
        "lst.sort()\n",
        "plt.bar(np.arange(len(lst)), lst)"
      ],
      "metadata": {
        "colab": {
          "base_uri": "https://localhost:8080/",
          "height": 318
        },
        "id": "hmetjwqr8EYm",
        "outputId": "5e0504dd-9806-4185-de21-06be7d09ea54"
      },
      "execution_count": null,
      "outputs": [
        {
          "output_type": "stream",
          "name": "stdout",
          "text": [
            "k-Means на train\n",
            "V=0.9308, H=0.9264, C=0.9352, NC=151, FM=0.798, MI=0.9179, RS=0.7959, T=88.7416\n"
          ]
        },
        {
          "output_type": "execute_result",
          "data": {
            "text/plain": [
              "<BarContainer object of 151 artists>"
            ]
          },
          "metadata": {},
          "execution_count": 14
        },
        {
          "output_type": "display_data",
          "data": {
            "text/plain": [
              "<Figure size 432x288 with 1 Axes>"
            ],
            "image/png": "[encoded data removed]"
          },
          "metadata": {}
        }
      ]
    },
    {
      "cell_type": "code",
      "source": [
        "reducer = umap.UMAP(n_neighbors=32, min_dist=0.1, n_components=2, metric='euclidean') # 16 -> 2\n",
        "embedding = reducer.fit_transform(X)\n",
        "\n",
        "plt.scatter(embedding[:,0], embedding[:,1], 5, a, lw=0.01, edgecolor='w', cmap='prism')"
      ],
      "metadata": {
        "colab": {
          "base_uri": "https://localhost:8080/",
          "height": 283
        },
        "id": "UBv1wFql8I3Z",
        "outputId": "e69aa119-1363-4215-ba9f-41d4ce2c7473"
      },
      "execution_count": null,
      "outputs": [
        {
          "output_type": "execute_result",
          "data": {
            "text/plain": [
              "<matplotlib.collections.PathCollection at 0x7f417093d350>"
            ]
          },
          "metadata": {},
          "execution_count": 15
        },
        {
          "output_type": "display_data",
          "data": {
            "text/plain": [
              "<Figure size 432x288 with 1 Axes>"
            ],
            "image/png": "[encoded data removed]"
          },
          "metadata": {}
        }
      ]
    },
    {
      "cell_type": "code",
      "source": [
        "data['train']['text'][a==1]"
      ],
      "metadata": {
        "colab": {
          "base_uri": "https://localhost:8080/",
          "height": 166
        },
        "id": "TqpOv9Nj8ug-",
        "outputId": "4fb6f256-f945-45a7-e1e8-92d9ece28b7d"
      },
      "execution_count": null,
      "outputs": [
        {
          "output_type": "error",
          "ename": "TypeError",
          "evalue": "ignored",
          "traceback": [
            "\u001b[0;31m---------------------------------------------------------------------------\u001b[0m",
            "\u001b[0;31mTypeError\u001b[0m                                 Traceback (most recent call last)",
            "\u001b[0;32m<ipython-input-16-4d92c08f097a>\u001b[0m in \u001b[0;36m<module>\u001b[0;34m\u001b[0m\n\u001b[0;32m----> 1\u001b[0;31m \u001b[0mdata\u001b[0m\u001b[0;34m[\u001b[0m\u001b[0;34m'train'\u001b[0m\u001b[0;34m]\u001b[0m\u001b[0;34m[\u001b[0m\u001b[0;34m'text'\u001b[0m\u001b[0;34m]\u001b[0m\u001b[0;34m[\u001b[0m\u001b[0ma\u001b[0m\u001b[0;34m==\u001b[0m\u001b[0;36m1\u001b[0m\u001b[0;34m]\u001b[0m\u001b[0;34m\u001b[0m\u001b[0;34m\u001b[0m\u001b[0m\n\u001b[0m",
            "\u001b[0;31mTypeError\u001b[0m: only integer scalar arrays can be converted to a scalar index"
          ]
        }
      ]
    },
    {
      "cell_type": "code",
      "source": [
        "for i in np.nonzero(a==1)[0]:\n",
        "  print (f'class={int(y[i])}, text=' + data['train']['text'][i])"
      ],
      "metadata": {
        "colab": {
          "base_uri": "https://localhost:8080/"
        },
        "id": "DGsJjM6A9jQk",
        "outputId": "eb2e8e0e-4793-4a64-8a7f-23c750e510d9"
      },
      "execution_count": null,
      "outputs": [
        {
          "output_type": "stream",
          "name": "stdout",
          "text": [
            "class=39, text=can i get a car to the baseball field for 12\n",
            "class=40, text=i want to reserve a convertible from july 2nd through july 18th for los angeles\n",
            "class=40, text=i'd like to rent a vehicle from nov 1st to nov 15th in san antonio and i need a 15 passenger van\n",
            "class=40, text=i want to rent the cheapest car for charlottesville, virginia for march 7th through 10th, that's monday, tuesday, wednesday and thursday\n",
            "class=40, text=i'd like to reserve a high-end car that seats 5 comfortably for april 12th through 18th for st louis missouri\n",
            "class=40, text=i need a van that seats 8 or more for new york city, august 12th, 13th, and 14th\n",
            "class=40, text=a rental car needs to be booked in nashville\n",
            "class=40, text=book me a car rental in nashville\n",
            "class=40, text=please help me book a rental car for nashville\n",
            "class=40, text=i need you to get me a rental car in nashville\n",
            "class=40, text=in nashville, i need a rental car booked\n",
            "class=40, text=where can i rent a car in boston\n",
            "class=40, text=i need to rent a car in boston\n",
            "class=40, text=i need to book a car rental in boston\n",
            "class=40, text=how can i rent a car in boston\n",
            "class=40, text=help me get a rental car for march 2 to 6th in dallas and i would prefer a bmw suv\n",
            "class=40, text=i want to rent a bmw suv for dallas from march 2 to 6th\n",
            "class=40, text=i want a bmw suv for march 2 to 6th in dallas\n",
            "class=40, text=can you help me book a bmw suv for march 2 to 6th, dallas texas\n",
            "class=40, text=will you help me rent a car from march 2 to 6th in dallas i want a bmw suv, if possible\n",
            "class=40, text=book me a car rental between january 1st to january 3rd in denver colorado and id prefer a ford\n",
            "class=40, text=id like a car rental between january 1st to the 3rd in denver, id like a ford\n",
            "class=40, text=id like to rent a ford in denver colorado between january 1st to the 3rd\n",
            "class=40, text=reserve a car rental for denver colorado for a ford between january 1st through 3rd\n",
            "class=40, text=id like a rental car in denver colorado between january 1st and january 3rd and id like a ford if possible\n",
            "class=40, text=i need to find a rental car since i'm travelling to new york tomorrow\n",
            "class=40, text=can you give me information on how to rent a car\n",
            "class=40, text=i want to travel to new york and i would like to rent a car\n",
            "class=40, text=i will need a rental car since i'm going to travel to new york\n",
            "class=40, text=how do i go about renting a car\n",
            "class=40, text=i need to rent a car in boston for march 2 until march 4\n",
            "class=40, text=i want to rent a car in boston for march 2 until march 4\n",
            "class=40, text=i will be in boston from march 2 to march 4 can i rent a car for that time\n",
            "class=40, text=will car rentals be available in boston from march 2 to march 4\n",
            "class=40, text=will i be able to rent a car in boston from march 2 to march 4\n",
            "class=40, text=i need a rental car for sfo from friday to saturday\n",
            "class=40, text=i'll require a rental car from 3/6 - 3/19 in san jose\n",
            "class=40, text=find me a rental car from 2/28 - 3/1 in reno\n",
            "class=40, text=i'll need a rental car from 3/3 - 3/14 in vegas\n",
            "class=40, text=find me a rental car from 3/6 - 3/9 in port charles\n",
            "class=40, text=i need a car rental for the first and fifth in denver and i'd like a subaru\n",
            "class=40, text=are there any reputable car rental places in seattle\n",
            "class=40, text=what car rental choices are there in calgary\n",
            "class=40, text=is it possible to get a ford in austin from may the 5th to may the 7th of this year\n",
            "class=40, text=i'd like to find a place that rents flashy sports cars in tampa\n",
            "class=40, text=can i rent a car in belgium from march 01 to march 02 and have it be a porsche\n",
            "class=40, text=i'd like to rent a limo in las vegas from may 01, 2019 to may 03, 2019\n",
            "class=40, text=contact avis and see if they have cars available\n",
            "class=40, text=can i get a jeep to rent in bangor from the first of the month to a week after the first\n",
            "class=40, text=is there a car rental available from tuesday to thursday out of lax\n",
            "class=40, text=are you able to help with booking a car rental in seattle\n",
            "class=40, text=could i rent a car from tuesday to thursday out of lax\n",
            "class=40, text=can a car be rented from tuesday to thursday out of lax\n",
            "class=40, text=can i get assistance with booking a seattle car rental\n",
            "class=40, text=can i rent a car out of lax from tuesday to thursday\n",
            "class=40, text=is a car rental available out of lax from tuesday to thursday\n",
            "class=40, text=can you help me book a car rental in seattle\n",
            "class=40, text=could you help with booking a car rental for me in seattle\n",
            "class=40, text=can you help me with seattle car rental bookings\n",
            "class=40, text=i want to rent a car in boise from april 12-15\n",
            "class=40, text=is it possible for me to rent a car out of jfk airport from march 15-20\n",
            "class=40, text=i need to rent a car in chicago but don't know how\n",
            "class=40, text=will you help me reserve a rental car for my trip to dallas\n",
            "class=40, text=find out if i can rent a car in los angeles from march 2-9\n",
            "class=40, text=help me secure a car rental out of reagan international airport from march 22-30\n",
            "class=40, text=will you please assist me with renting a car in boise\n",
            "class=40, text=i would like some help getting a rental car reserved in los angeles\n",
            "class=40, text=could i rent a car out of dallas from april 1-10\n",
            "class=40, text=i need help booking a car rental in seattle\n",
            "class=40, text=show me how to rent a car in las vegas\n",
            "class=40, text=please help me book a rental car in appleton\n",
            "class=40, text=can you show me how to book a car rental in manitowoc\n",
            "class=40, text=help me book a rental car in green bay\n",
            "class=40, text=help me to book a car rental in sacremento\n",
            "class=40, text=where can i rent a car soon\n",
            "class=40, text=are there any places nearby i can rent a car at\n",
            "class=40, text=can you see if i can rent a car from dallas on the dates of march 1, 2019 to march 3, 2019\n",
            "class=40, text=please look up if i can rent a car in houston from march 25 to march 29\n",
            "class=40, text=could i rent a car in seattle from next monday to thursday please\n",
            "class=40, text=i'd like to rent an automobile in pittsburgh from this tuesday until next thursday can i do that\n",
            "class=40, text=is it possible to rent a car from new york on 3/2/19 to 3/5/19\n",
            "class=40, text=i need a rental car\n",
            "class=40, text=assist me in getting a car rental\n",
            "class=40, text=help me get a rental car\n",
            "class=40, text=i will need a rental car for travel\n",
            "class=40, text=can you help me with a rental car\n",
            "class=40, text=make sure i can rent one car out of chicago from january 2 to january 5\n",
            "class=40, text=is it possible to rent a car from laguardia from tuesday to friday\n",
            "class=40, text=are car rentals available out of new york from march 2 to march 3\n",
            "class=40, text=what places in chicago will allow me to rent a car from monday to friday\n",
            "class=40, text=i need to do a car rental\n",
            "class=40, text=please check if i can do a car rental from charlotte douglas airport from monday to wednesday\n",
            "class=40, text=rent me a car in aiken on may 12 to may 16\n",
            "class=40, text=book me a rental car in aiken on may 12 to may 16\n",
            "class=40, text=in aiken, get me a rental for may 12 to may 16\n",
            "class=40, text=i will be in aiken on may 12 to may 16, i need to rent a car\n",
            "class=40, text=on may 12 to may 16 can i get a car from aiken\n",
            "class=40, text=can you help me booked a car in london\n",
            "class=40, text=please book a car for me in bangkok\n",
            "class=40, text=please book a car for me in ho chi minh\n",
            "class=40, text=can you help me book a car rental in paris\n"
          ]
        }
      ]
    },
    {
      "cell_type": "code",
      "source": [
        "i=0\n",
        "data['train']['text'][i]"
      ],
      "metadata": {
        "colab": {
          "base_uri": "https://localhost:8080/",
          "height": 35
        },
        "id": "VNtQXwpN-hdJ",
        "outputId": "d582beda-3a88-4d73-b79b-c0acd5545648"
      },
      "execution_count": null,
      "outputs": [
        {
          "output_type": "execute_result",
          "data": {
            "text/plain": [
              "'what expression would i use to say i love you if i were an italian'"
            ],
            "application/vnd.google.colaboratory.intrinsic+json": {
              "type": "string"
            }
          },
          "metadata": {},
          "execution_count": 31
        }
      ]
    },
    {
      "cell_type": "code",
      "source": [],
      "metadata": {
        "id": "40mNc7OU-Oci"
      },
      "execution_count": null,
      "outputs": []
    },
    {
      "cell_type": "code",
      "source": [
        "data['train']['text'][0]"
      ],
      "metadata": {
        "colab": {
          "base_uri": "https://localhost:8080/",
          "height": 35
        },
        "id": "qsYGdbU79lRT",
        "outputId": "5f223cd5-6d96-45a0-ab32-c79954e3090e"
      },
      "execution_count": null,
      "outputs": [
        {
          "output_type": "execute_result",
          "data": {
            "text/plain": [
              "'what expression would i use to say i love you if i were an italian'"
            ],
            "application/vnd.google.colaboratory.intrinsic+json": {
              "type": "string"
            }
          },
          "metadata": {},
          "execution_count": 21
        }
      ]
    },
    {
      "cell_type": "code",
      "source": [],
      "metadata": {
        "id": "rijmYuN-9r6L"
      },
      "execution_count": null,
      "outputs": []
    }
  ]
}