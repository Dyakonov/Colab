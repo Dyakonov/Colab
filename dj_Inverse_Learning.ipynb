{
  "nbformat": 4,
  "nbformat_minor": 0,
  "metadata": {
    "colab": {
      "provenance": [],
      "authorship_tag": "ABX9TyP+ImvdchjJooytL8WZkq73",
      "include_colab_link": true
    },
    "kernelspec": {
      "name": "python3",
      "display_name": "Python 3"
    },
    "language_info": {
      "name": "python"
    }
  },
  "cells": [
    {
      "cell_type": "markdown",
      "metadata": {
        "id": "view-in-github",
        "colab_type": "text"
      },
      "source": [
        "<a href=\"https://colab.research.google.com/github/Dyakonov/Colab/blob/main/dj_Inverse_Learning.ipynb\" target=\"_parent\"><img src=\"https://colab.research.google.com/assets/colab-badge.svg\" alt=\"Open In Colab\"/></a>"
      ]
    },
    {
      "cell_type": "code",
      "execution_count": null,
      "metadata": {
        "id": "_9admouebnpn"
      },
      "outputs": [],
      "source": []
    },
    {
      "cell_type": "markdown",
      "source": [
        " Учим обратную матрицу\n",
        "\n",
        " Первый непрвильный способ - пусть сеть её выдаёт"
      ],
      "metadata": {
        "id": "gi9TSuwTd3j7"
      }
    },
    {
      "cell_type": "code",
      "source": [
        "import torch\n",
        "from torch import nn, optim\n",
        "device = torch.device(\"cuda:0\" if torch.cuda.is_available() else \"cpu\")\n",
        "\n",
        "from IPython import display\n",
        "import numpy as np\n",
        "from matplotlib import pyplot as plt\n",
        "import copy\n",
        "from torch.optim.lr_scheduler import StepLR\n",
        "\n",
        "def set_seed(seed):\n",
        "    np.random.seed(seed)\n",
        "    torch.manual_seed(seed)\n",
        "    if torch.cuda.is_available(): # для GPU отдельный seed\n",
        "        torch.cuda.manual_seed(seed)\n",
        "        torch.cuda.manual_seed_all(seed)\n",
        "\n",
        "set_seed(43)\n",
        "\n",
        "# есть стохастические операции на GPU\n",
        "# сделаем их детерминированными для воспроизводимости\n",
        "torch.backends.cudnn.determinstic = True\n",
        "torch.backends.cudnn.benchmark = False"
      ],
      "metadata": {
        "id": "Cnx5CjWkd_tw"
      },
      "execution_count": null,
      "outputs": []
    },
    {
      "cell_type": "code",
      "source": [],
      "metadata": {
        "id": "KsrBC_vrhMwb"
      },
      "execution_count": null,
      "outputs": []
    },
    {
      "cell_type": "code",
      "source": [
        "import torch\n",
        "from torch.utils.data import Dataset\n",
        "\n",
        "class InverseMatrixDataset(Dataset):\n",
        "    def __init__(self, n, num_samples):\n",
        "        \"\"\"\n",
        "        Инициализация обучающей выборки\n",
        "\n",
        "        Args:\n",
        "            n (int): Размер матрицы\n",
        "            num_samples (int): Количество образцов данных\n",
        "        \"\"\"\n",
        "        self.n = n\n",
        "        self.num_samples = num_samples\n",
        "\n",
        "    def __len__(self):\n",
        "        \"\"\"\n",
        "        Возвращает общее количество образцов данных\n",
        "        \"\"\"\n",
        "        return self.num_samples\n",
        "\n",
        "    def __getitem__(self, idx):\n",
        "        \"\"\"\n",
        "        Возвращает образец данных и соответствующую обратную матрицу\n",
        "\n",
        "        Args:\n",
        "            idx (int): Индекс образца данных\n",
        "\n",
        "        Returns:\n",
        "            torch.Tensor, torch.Tensor: Образец данных и соответствующая обратная матрица\n",
        "        \"\"\"\n",
        "        matrix = torch.randn(self.n, self.n) # Генерируем случайную матрицу\n",
        "        inverse_matrix = torch.inverse(matrix) # Вычисляем обратную матрицу\n",
        "\n",
        "        matrix, inverse_matrix = matrix.reshape(-1), inverse_matrix.reshape(-1)\n",
        "\n",
        "        return matrix, inverse_matrix # .view(-1).view(-1)"
      ],
      "metadata": {
        "id": "wW0793eLeUcK"
      },
      "execution_count": null,
      "outputs": []
    },
    {
      "cell_type": "code",
      "source": [
        "import torch\n",
        "from torch.utils.data import Dataset\n",
        "\n",
        "class PowerMatrixDataset(Dataset):\n",
        "    def __init__(self, n, num_samples):\n",
        "        \"\"\"\n",
        "        Инициализация обучающей выборки\n",
        "\n",
        "        Args:\n",
        "            n (int): Размер матрицы\n",
        "            num_samples (int): Количество образцов данных\n",
        "        \"\"\"\n",
        "        self.n = n\n",
        "        self.num_samples = num_samples\n",
        "\n",
        "    def __len__(self):\n",
        "        \"\"\"\n",
        "        Возвращает общее количество образцов данных\n",
        "        \"\"\"\n",
        "        return self.num_samples\n",
        "\n",
        "    def __getitem__(self, idx):\n",
        "        \"\"\"\n",
        "        Возвращает образец данных и соответствующую обратную матрицу\n",
        "\n",
        "        Args:\n",
        "            idx (int): Индекс образца данных\n",
        "\n",
        "        Returns:\n",
        "            torch.Tensor, torch.Tensor: Образец данных и соответствующая обратная матрица\n",
        "        \"\"\"\n",
        "        matrix = torch.randn(self.n, self.n) # Генерируем случайную матрицу\n",
        "        power_matrix = matrix @ matrix # Вычисляем обратную матрицу\n",
        "\n",
        "        matrix, power_matrix = matrix.reshape(-1), power_matrix.reshape(-1)\n",
        "\n",
        "        return matrix, power_matrix # .view(-1).view(-1)"
      ],
      "metadata": {
        "id": "xUoWg68_zeHJ"
      },
      "execution_count": null,
      "outputs": []
    },
    {
      "cell_type": "code",
      "source": [
        "data = InverseMatrixDataset(n=2, num_samples=3)\n",
        "data[0]"
      ],
      "metadata": {
        "colab": {
          "base_uri": "https://localhost:8080/"
        },
        "id": "4erxMoxHe6wZ",
        "outputId": "a784c884-9bfd-44f8-d022-b91d6a759a2a"
      },
      "execution_count": null,
      "outputs": [
        {
          "output_type": "execute_result",
          "data": {
            "text/plain": [
              "(tensor([0.1876, 1.4748, 1.7583, 0.6546]),\n",
              " tensor([-0.2650,  0.5970,  0.7118, -0.0759]))"
            ]
          },
          "metadata": {},
          "execution_count": 81
        }
      ]
    },
    {
      "cell_type": "code",
      "source": [
        "torch.randn(2, 2) @ torch.randn(2, 2)"
      ],
      "metadata": {
        "colab": {
          "base_uri": "https://localhost:8080/"
        },
        "id": "FeX2XbsJzT1q",
        "outputId": "c28037c7-dce0-4b11-e337-80ea524fc352"
      },
      "execution_count": null,
      "outputs": [
        {
          "output_type": "execute_result",
          "data": {
            "text/plain": [
              "tensor([[ 1.2511, -0.3013],\n",
              "        [-0.4765, -0.6543]])"
            ]
          },
          "metadata": {},
          "execution_count": 102
        }
      ]
    },
    {
      "cell_type": "code",
      "source": [
        "data[0][0]"
      ],
      "metadata": {
        "colab": {
          "base_uri": "https://localhost:8080/"
        },
        "id": "B4lKZn1XiXi4",
        "outputId": "f4311c95-682b-4e12-90d7-7a9da97cf26b"
      },
      "execution_count": null,
      "outputs": [
        {
          "output_type": "execute_result",
          "data": {
            "text/plain": [
              "tensor([ 2.6806,  1.2237, -0.9404,  0.3296])"
            ]
          },
          "metadata": {},
          "execution_count": 98
        }
      ]
    },
    {
      "cell_type": "code",
      "source": [
        "data[1][0]"
      ],
      "metadata": {
        "colab": {
          "base_uri": "https://localhost:8080/"
        },
        "id": "QS5jlIfofDoY",
        "outputId": "5637ffe9-1039-475c-a197-1f72c6cccb60"
      },
      "execution_count": null,
      "outputs": [
        {
          "output_type": "execute_result",
          "data": {
            "text/plain": [
              "tensor([-2.0612, -0.1613, -1.2114,  0.0114])"
            ]
          },
          "metadata": {},
          "execution_count": 97
        }
      ]
    },
    {
      "cell_type": "code",
      "source": [
        "model(data[0][0].view(1, -1))"
      ],
      "metadata": {
        "colab": {
          "base_uri": "https://localhost:8080/"
        },
        "id": "BO6pKAdqu7aa",
        "outputId": "f18ae2ab-ab41-48ed-eae8-94929b969dfa"
      },
      "execution_count": null,
      "outputs": [
        {
          "output_type": "execute_result",
          "data": {
            "text/plain": [
              "tensor([[ 2.2531, -2.9721, -1.7303,  3.2184]], grad_fn=<AddmmBackward0>)"
            ]
          },
          "metadata": {},
          "execution_count": 89
        }
      ]
    },
    {
      "cell_type": "code",
      "source": [
        "model(data[0][1].view(1, -1))"
      ],
      "metadata": {
        "colab": {
          "base_uri": "https://localhost:8080/"
        },
        "id": "YiUMkwfXyPYm",
        "outputId": "ecca42a8-95ca-4482-8fbb-c2e9280f1920"
      },
      "execution_count": null,
      "outputs": [
        {
          "output_type": "execute_result",
          "data": {
            "text/plain": [
              "tensor([[ 2.2531, -2.9721, -1.7303,  3.2184]], grad_fn=<AddmmBackward0>)"
            ]
          },
          "metadata": {},
          "execution_count": 92
        }
      ]
    },
    {
      "cell_type": "code",
      "source": [
        "loss(data[0][0].view(1, -1), data[1][0].view(1, -1))"
      ],
      "metadata": {
        "colab": {
          "base_uri": "https://localhost:8080/"
        },
        "id": "b9SjWWhhyGng",
        "outputId": "e3689b82-d61c-4a51-8680-e9ab1210267f"
      },
      "execution_count": null,
      "outputs": [
        {
          "output_type": "execute_result",
          "data": {
            "text/plain": [
              "tensor(0.5195)"
            ]
          },
          "metadata": {},
          "execution_count": 100
        }
      ]
    },
    {
      "cell_type": "code",
      "source": [
        "model(data[0][0].view(1, -1)), model(data[1][0].view(1, -1))"
      ],
      "metadata": {
        "colab": {
          "base_uri": "https://localhost:8080/"
        },
        "id": "eGRmZCzYzIeJ",
        "outputId": "fb3eb07e-6c33-4bd5-d761-02de0a47e697"
      },
      "execution_count": null,
      "outputs": [
        {
          "output_type": "execute_result",
          "data": {
            "text/plain": [
              "(tensor([[ 2.2531, -2.9721, -1.7303,  3.2184]], grad_fn=<AddmmBackward0>),\n",
              " tensor([[ 2.2531, -2.9721, -1.7303,  3.2184]], grad_fn=<AddmmBackward0>))"
            ]
          },
          "metadata": {},
          "execution_count": 99
        }
      ]
    },
    {
      "cell_type": "code",
      "source": [
        "def model_L_DN_F(n_input, width, nlayers):\n",
        "  \"\"\"\n",
        "  сеть Linear + BN + ReLU\n",
        "  \"\"\"\n",
        "  model = torch.nn.Sequential()\n",
        "  model.add_module('L0', nn.Linear(n_input, width, bias=False))\n",
        "  model.add_module('BN0',  nn.BatchNorm1d(width))\n",
        "  for i in range(nlayers - 2):\n",
        "    model.add_module('RELU' + str(i),  nn.ReLU())\n",
        "    model.add_module('L'+str(i+1),  nn.Linear(width, width, bias=False)) # ДОБАВИЛ , bias=False\n",
        "    model.add_module('BN'+str(i+1),  nn.BatchNorm1d(width))\n",
        "  model.add_module('RELU' + str(nlayers - 2),  nn.ReLU())\n",
        "  model.add_module('L' + str(nlayers - 1),  nn.Linear(width, n_input)) # РАЗМЕРЫ ВХОДА = ВЫХОДА\n",
        "  return(model)"
      ],
      "metadata": {
        "id": "c_6APGTtfowp"
      },
      "execution_count": null,
      "outputs": []
    },
    {
      "cell_type": "code",
      "source": [
        "class model_ResMy(nn.Module):\n",
        "    def __init__(self, n_input, width, nlayers):\n",
        "        super().__init__()\n",
        "        self.lin0 = nn.Linear(n_input, width, bias=False)\n",
        "        self.bn0 = nn.BatchNorm1d(width)\n",
        "\n",
        "        self.hidden = []\n",
        "        for i in range(nlayers - 2):\n",
        "            self.hidden.append(nn.Sequential(nn.ReLU(),\n",
        "                                             nn.Linear(width, width, bias=False),\n",
        "                                             nn.BatchNorm1d(width)))\n",
        "\n",
        "        self.hidden = nn.ModuleList(self.hidden)\n",
        "\n",
        "        self.reluL = nn.ReLU()\n",
        "        self.linL = nn.Linear(width, n_input)\n",
        "\n",
        "\n",
        "    def forward(self, x):\n",
        "        x = self.lin0(x)\n",
        "        x = self.bn0(x)\n",
        "        for h in self.hidden:\n",
        "          x = x + h(x)\n",
        "        x = self.reluL(x)\n",
        "        x = self.linL(x)\n",
        "        return x"
      ],
      "metadata": {
        "id": "aXeT_N_OthaI"
      },
      "execution_count": null,
      "outputs": []
    },
    {
      "cell_type": "code",
      "source": [
        "from torch.utils.data import DataLoader\n",
        "import time\n",
        "\n",
        "n = 2 # размеры матрицы\n",
        "n_train = 1000\n",
        "n_test = 10000\n",
        "learning_rate = 0.1\n",
        "\n",
        "\n",
        "#data_train = PowerMatrixDataset(n=n, num_samples=n_train)\n",
        "#data_test = PowerMatrixDataset(n=n, num_samples=n_test)\n",
        "\n",
        "data_train = InverseMatrixDataset(n=n, num_samples=n_train)\n",
        "data_test = InverseMatrixDataset(n=n, num_samples=n_test)\n",
        "\n",
        "\n",
        "#dataloader_train = DataLoader(data_train, batch_size = 128, shuffle=True) #, num_workers=10)\n",
        "#dataloader_test = DataLoader(data_test, batch_size = 128, shuffle=False)\n",
        "\n",
        "# model = model_L_DN_F(n_input=n*n, width=2*n*n, nlayers=10)\n",
        "model = model_ResMy(n_input=n*n, width=2*n*n, nlayers=10)\n",
        "\n",
        "optimizer = torch.optim.Adam(model.parameters(), lr=learning_rate)\n",
        "\n",
        "#  torch.nn.MSELoss\n",
        "loss = nn.MSELoss()"
      ],
      "metadata": {
        "id": "_Q6SWsC4iz9w"
      },
      "execution_count": null,
      "outputs": []
    },
    {
      "cell_type": "code",
      "source": [
        "model"
      ],
      "metadata": {
        "colab": {
          "base_uri": "https://localhost:8080/"
        },
        "id": "sUcjcS3a1z79",
        "outputId": "c4128a55-5463-43e6-eda3-d8401dc39e98"
      },
      "execution_count": null,
      "outputs": [
        {
          "output_type": "execute_result",
          "data": {
            "text/plain": [
              "model_ResMy(\n",
              "  (lin0): Linear(in_features=4, out_features=8, bias=False)\n",
              "  (bn0): BatchNorm1d(8, eps=1e-05, momentum=0.1, affine=True, track_running_stats=True)\n",
              "  (hidden): ModuleList(\n",
              "    (0-7): 8 x Sequential(\n",
              "      (0): ReLU()\n",
              "      (1): Linear(in_features=8, out_features=8, bias=False)\n",
              "      (2): BatchNorm1d(8, eps=1e-05, momentum=0.1, affine=True, track_running_stats=True)\n",
              "    )\n",
              "  )\n",
              "  (reluL): ReLU()\n",
              "  (linL): Linear(in_features=8, out_features=4, bias=True)\n",
              ")"
            ]
          },
          "metadata": {},
          "execution_count": 131
        }
      ]
    },
    {
      "cell_type": "code",
      "source": [
        "def train_epoch(model, train_loader, criterion, optimizer):\n",
        "    model.train()\n",
        "\n",
        "    running_loss = 0.0\n",
        "\n",
        "    start_time = time.time()\n",
        "    for batch_idx, (data, target) in enumerate(train_loader):\n",
        "        optimizer.zero_grad(set_to_none=True)   # .backward() accumulates gradients, это эквивалентно model.zero_grad()\n",
        "        data = data.to(device)\n",
        "        target = target.to(device) # перенос на device\n",
        "\n",
        "        outputs = model(data)\n",
        "        loss = criterion(outputs, target)\n",
        "        running_loss += loss.item()\n",
        "\n",
        "        loss.backward()\n",
        "        optimizer.step()\n",
        "\n",
        "    end_time = time.time()\n",
        "\n",
        "    running_loss /= len(train_loader)\n",
        "    #print('Training Loss: ', running_loss, 'Time: ',end_time - start_time, 's')\n",
        "    return running_loss, end_time - start_time\n",
        "\n",
        "def test_model(model, test_loader, criterion):\n",
        "    with torch.no_grad(): # не забывать делать это и на Inference\n",
        "        model.eval()\n",
        "\n",
        "        running_loss = 0.0\n",
        "        total_predictions = 0.0\n",
        "        correct_predictions = 0.0\n",
        "\n",
        "        for batch_idx, (data, target) in enumerate(test_loader):\n",
        "            data = data.to(device)\n",
        "            target = target.to(device)\n",
        "\n",
        "            outputs = model(data)\n",
        "\n",
        "            #_, predicted = torch.max(outputs.data, 1)\n",
        "            #total_predictions += target.size(0)\n",
        "            #correct_predictions += (predicted == target).sum().item()\n",
        "\n",
        "            loss = criterion(outputs, target).detach()\n",
        "            running_loss += loss.item()\n",
        "\n",
        "\n",
        "        running_loss /= len(test_loader)\n",
        "        #acc = (correct_predictions/total_predictions)*100.0\n",
        "        #print('Testing Loss: ', running_loss)\n",
        "        #print('Testing Accuracy: ', acc, '%')\n",
        "        return running_loss #, acc"
      ],
      "metadata": {
        "id": "33kGTWnHj9Tr"
      },
      "execution_count": null,
      "outputs": []
    },
    {
      "cell_type": "code",
      "source": [
        "n_epochs = 100\n",
        "Train_loss = []\n",
        "Test_loss = []\n",
        "Test_acc = []\n",
        "\n",
        "for i in range(n_epochs):\n",
        "    train_loss, time_epoch = train_epoch(model, dataloader_train, criterion=loss, optimizer=optimizer)\n",
        "\n",
        "    test_loss = test_model(model, dataloader_test, criterion=loss) # , test_acc\n",
        "    Train_loss.append(train_loss)\n",
        "    Test_loss.append(test_loss)\n",
        "    #Test_acc.append(test_acc)\n",
        "    #print('='*20)\n",
        "    print(\"[EXP]: %i, [TIME]: %.6f, [LOSS1]: %.6f, [LOSS2]: %.6f\" % (i, time_epoch, train_loss, test_loss))\n",
        "    display.clear_output(wait=True)"
      ],
      "metadata": {
        "colab": {
          "base_uri": "https://localhost:8080/"
        },
        "id": "otyENtl8lJ8J",
        "outputId": "b6833eb1-1bd0-49cc-d284-67129a278f84"
      },
      "execution_count": null,
      "outputs": [
        {
          "output_type": "stream",
          "name": "stdout",
          "text": [
            "[EXP]: 99, [TIME]: 0.064796, [LOSS1]: 0.377834, [LOSS2]: 0.381201\n"
          ]
        }
      ]
    },
    {
      "cell_type": "code",
      "source": [
        "plt.figure(figsize=(20, 5))\n",
        "plt.plot(Train_loss, 'b-') # [:,100:]\n",
        "plt.plot(Test_loss, 'r-') # [:,100:]\n",
        "#plt.yscale('log')\n",
        "plt.xlabel('epoches')\n",
        "plt.ylabel('MSE')\n",
        "plt.ylim([0, 4])"
      ],
      "metadata": {
        "colab": {
          "base_uri": "https://localhost:8080/",
          "height": 488
        },
        "id": "OhvDl28nnbk_",
        "outputId": "b38cabd9-2416-43d0-c9f6-3fa8a0f4b3a2"
      },
      "execution_count": null,
      "outputs": [
        {
          "output_type": "execute_result",
          "data": {
            "text/plain": [
              "(0.0, 4.0)"
            ]
          },
          "metadata": {},
          "execution_count": 134
        },
        {
          "output_type": "display_data",
          "data": {
            "text/plain": [
              "<Figure size 2000x500 with 1 Axes>"
            ],
            "image/png": "[encoded data removed]"
          },
          "metadata": {}
        }
      ]
    },
    {
      "cell_type": "code",
      "source": [
        "# [EXP]: 99, [TIME]: 0.068750, [LOSS1]: 1.169050, [LOSS2]: 1.009273\n",
        "# [EXP]: 99, [TIME]: 0.063184, [LOSS1]: 0.905618, [LOSS2]: 0.857002 (прокидываем связи)\n",
        "\n",
        "inverse\n",
        "# [EXP]: 99, [TIME]: 0.064796, [LOSS1]: 0.377834, [LOSS2]: 0.381201"
      ],
      "metadata": {
        "colab": {
          "base_uri": "https://localhost:8080/"
        },
        "id": "q0n09bK_n2TV",
        "outputId": "9ce69170-f657-4bda-a392-fd928b335ba6"
      },
      "execution_count": null,
      "outputs": [
        {
          "output_type": "execute_result",
          "data": {
            "text/plain": [
              "Sequential(\n",
              "  (L0): Linear(in_features=4, out_features=8, bias=False)\n",
              "  (BN0): BatchNorm1d(8, eps=1e-05, momentum=0.1, affine=True, track_running_stats=True)\n",
              "  (RELU0): ReLU()\n",
              "  (L1): Linear(in_features=8, out_features=8, bias=False)\n",
              "  (BN1): BatchNorm1d(8, eps=1e-05, momentum=0.1, affine=True, track_running_stats=True)\n",
              "  (RELU1): ReLU()\n",
              "  (L2): Linear(in_features=8, out_features=8, bias=False)\n",
              "  (BN2): BatchNorm1d(8, eps=1e-05, momentum=0.1, affine=True, track_running_stats=True)\n",
              "  (RELU2): ReLU()\n",
              "  (L3): Linear(in_features=8, out_features=8, bias=False)\n",
              "  (BN3): BatchNorm1d(8, eps=1e-05, momentum=0.1, affine=True, track_running_stats=True)\n",
              "  (RELU3): ReLU()\n",
              "  (L4): Linear(in_features=8, out_features=8, bias=False)\n",
              "  (BN4): BatchNorm1d(8, eps=1e-05, momentum=0.1, affine=True, track_running_stats=True)\n",
              "  (RELU4): ReLU()\n",
              "  (L5): Linear(in_features=8, out_features=8, bias=False)\n",
              "  (BN5): BatchNorm1d(8, eps=1e-05, momentum=0.1, affine=True, track_running_stats=True)\n",
              "  (RELU5): ReLU()\n",
              "  (L6): Linear(in_features=8, out_features=8, bias=False)\n",
              "  (BN6): BatchNorm1d(8, eps=1e-05, momentum=0.1, affine=True, track_running_stats=True)\n",
              "  (RELU6): ReLU()\n",
              "  (L7): Linear(in_features=8, out_features=8, bias=False)\n",
              "  (BN7): BatchNorm1d(8, eps=1e-05, momentum=0.1, affine=True, track_running_stats=True)\n",
              "  (RELU7): ReLU()\n",
              "  (L8): Linear(in_features=8, out_features=8, bias=False)\n",
              "  (BN8): BatchNorm1d(8, eps=1e-05, momentum=0.1, affine=True, track_running_stats=True)\n",
              "  (RELU8): ReLU()\n",
              "  (L9): Linear(in_features=8, out_features=4, bias=True)\n",
              ")"
            ]
          },
          "metadata": {},
          "execution_count": 110
        }
      ]
    },
    {
      "cell_type": "code",
      "source": [
        "\n",
        "def train_model(data_train, model, optimizer, scheduler, n_epoches = 1000, m = 10000, device=device, use_scheduler=True):\n",
        "  losses1 = np.zeros(n_epoches)\n",
        "  losses2 = np.zeros(n_epoches)\n",
        "\n",
        "  for t in range(n_epoches):\n",
        "    # обучение\n",
        "    # небольшой датасет - сразу по всему!\n",
        "    # X_train, y_train = makeXtrain(m=m, device=device)\n",
        "\n",
        "    model.train()\n",
        "    a_train = model(X_train)\n",
        "    loss = criterion(a_train, y_train)\n",
        "    optimizer.zero_grad(set_to_none=True) # обнулить градиент ###\n",
        "    loss.backward()  # обратный проход\n",
        "    optimizer.step() # поправка весов\n",
        "\n",
        "    if use_scheduler:\n",
        "      scheduler.step() # поправка LR\n",
        "\n",
        "    model.eval() ####\n",
        "    with torch.no_grad():\n",
        "        a_test = model(X_test)\n",
        "        test_loss = criterion(a_test, y_test)\n",
        "\n",
        "    losses1[t] = loss.item() / (criterion(y_train, y_train*0 + y_train.mean()).item()) # НОРМИРОВКА\n",
        "    losses2[t] = test_loss.item() / (criterion(y_test, y_test*0 + y_test.mean()).item()) # НОРМИРОВКА\n",
        "    #print(\"[EPOCH]: %i, [LOSS]: %.6f, [LOSS2]: %.6f\" % (t, losses1[t], losses2[t]))\n",
        "\n",
        "  return losses1, losses2"
      ],
      "metadata": {
        "id": "o5NXt2Hji-SG"
      },
      "execution_count": null,
      "outputs": []
    },
    {
      "cell_type": "code",
      "source": [
        "%%time\n",
        "\n",
        "n_epoches = 1000\n",
        "\n",
        "losses1 = np.zeros(n_epoches)\n",
        "losses2 = np.zeros(n_epoches)\n",
        "lrs = np.zeros(n_epoches)\n",
        "\n",
        "set_seed(43)\n",
        "# контроль\n",
        "X_test, y_test = makeXtrain(m=m, n0=n0, device=device)\n",
        "\n",
        "\n",
        "# X_train, y_train = makeXtrain(m=m, n0=n0, device=device) # ПЕРЕНЁС СЮДА - ВЕРНУТЬ!!!!!!\n",
        "\n",
        "for t in range(n_epoches):\n",
        "    # обучение\n",
        "    # небольшой датасет - сразу по всему!\n",
        "    X_train, y_train = makeXtrain(m=m, n0=n0, device=device)\n",
        "\n",
        "    model.train()\n",
        "    a_train = model(X_train)\n",
        "    loss = criterion(a_train, y_train)\n",
        "    optimizer.zero_grad() # обнулить градиент\n",
        "    loss.backward()  # обратный проход\n",
        "    optimizer.step() # поправка весов\n",
        "\n",
        "    if use_scheduler:\n",
        "      scheduler.step() # поправка LR\n",
        "\n",
        "    model.eval()\n",
        "    with torch.no_grad():\n",
        "        a_test = model(X_test)\n",
        "        test_loss = criterion(a_test, y_test)\n",
        "\n",
        "        if t==5:\n",
        "          # сохранить некоторые чекпоинты\n",
        "          model1 = copy.deepcopy(model)\n",
        "        elif t==100:\n",
        "          model2 = copy.deepcopy(model)\n",
        "\n",
        "        #w_norm = []\n",
        "        #g_norm = []\n",
        "        #for name, param in model.named_parameters():\n",
        "        #    if param.requires_grad:\n",
        "        #        w_norm.append(param.data.norm().item())\n",
        "        #        g_norm.append(param.grad.data.norm().item())\n",
        "\n",
        "    losses1[t] = loss.item()\n",
        "    losses2[t] = test_loss.item()\n",
        "    lrs[t] = optimizer.param_groups[0]['lr']\n",
        "    print(\"[EPOCH]: %i, [LOSS]: %.6f, [LOSS2]: %.6f, [LR]: %.6f\" % (t, losses1[t], losses2[t], lrs[t]))\n",
        "\n",
        "    display.clear_output(wait=True)"
      ],
      "metadata": {
        "id": "F0SmLP80i-Xn"
      },
      "execution_count": null,
      "outputs": []
    }
  ]
}