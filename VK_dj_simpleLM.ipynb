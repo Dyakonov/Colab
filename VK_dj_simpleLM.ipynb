{
  "cells": [
    {
      "cell_type": "markdown",
      "metadata": {
        "id": "view-in-github",
        "colab_type": "text"
      },
      "source": [
        "<a href=\"https://colab.research.google.com/github/Dyakonov/Colab/blob/main/VK_dj_simpleLM.ipynb\" target=\"_parent\"><img src=\"https://colab.research.google.com/assets/colab-badge.svg\" alt=\"Open In Colab\"/></a>"
      ]
    },
    {
      "cell_type": "markdown",
      "metadata": {
        "id": "Ei-OAHNrrWxG"
      },
      "source": [
        "# Делаем RNN на эмбедингах\n",
        "* на основе https://github.com/nikhilbarhate99/Char-RNN-PyTorch/blob/master/CharRNN.py"
      ]
    },
    {
      "cell_type": "code",
      "execution_count": null,
      "metadata": {
        "colab": {
          "base_uri": "https://localhost:8080/",
          "height": 35
        },
        "id": "QrClkdasrWxJ",
        "outputId": "1d6c286a-3ae4-4517-eed7-6169e9274a23"
      },
      "outputs": [
        {
          "output_type": "execute_result",
          "data": {
            "text/plain": [
              "'cuda'"
            ],
            "application/vnd.google.colaboratory.intrinsic+json": {
              "type": "string"
            }
          },
          "metadata": {},
          "execution_count": 1
        }
      ],
      "source": [
        "import torch\n",
        "import torch.nn as nn\n",
        "import torch.nn.utils.rnn as rnn\n",
        "from torch.utils.data import Dataset, DataLoader, TensorDataset\n",
        "import numpy as np\n",
        "import time\n",
        "import torch.nn.functional as F\n",
        "from torch.distributions import Categorical\n",
        "import numpy as np\n",
        "\n",
        "# import shakespeare_data as sh\n",
        "\n",
        "DEVICE = \"cuda\" if torch.cuda.is_available() else \"cpu\"\n",
        "DEVICE"
      ]
    },
    {
      "cell_type": "markdown",
      "metadata": {
        "id": "k5UMlbTnrWxM"
      },
      "source": [
        "## загрузить данные"
      ]
    },
    {
      "cell_type": "code",
      "execution_count": null,
      "metadata": {
        "colab": {
          "base_uri": "https://localhost:8080/"
        },
        "id": "nC1xa-8xrWxN",
        "outputId": "bd51bf65-b1f3-4f5c-98d5-ee70c3d44e54"
      },
      "outputs": [
        {
          "output_type": "stream",
          "name": "stdout",
          "text": [
            "Mounted at /content/drive\n"
          ]
        }
      ],
      "source": [
        "from google.colab import drive\n",
        "drive.mount('/content/drive')"
      ]
    },
    {
      "cell_type": "code",
      "source": [
        "!ls"
      ],
      "metadata": {
        "colab": {
          "base_uri": "https://localhost:8080/"
        },
        "id": "34qHHmJYju52",
        "outputId": "649b1c76-cfad-4e46-9562-493777f94ad0"
      },
      "execution_count": null,
      "outputs": [
        {
          "output_type": "stream",
          "name": "stdout",
          "text": [
            "drive  sample_data\n"
          ]
        }
      ]
    },
    {
      "cell_type": "code",
      "source": [
        "import pickle\n",
        "with open(\"/content/drive/My Drive/VK2/lst1.pkl\", \"rb\") as fp1:\n",
        "  data1 = pickle.load(fp1)\n",
        "\n",
        "with open(\"/content/drive/My Drive/VK2/lst2.pkl\", \"rb\") as fp2:\n",
        "  data2 = pickle.load(fp2)\n",
        "\n",
        "len(data1), len(data2)"
      ],
      "metadata": {
        "colab": {
          "base_uri": "https://localhost:8080/"
        },
        "id": "m_E_zWEBkbGP",
        "outputId": "6500922d-796f-4865-a80b-04b18f3283e0"
      },
      "execution_count": null,
      "outputs": [
        {
          "output_type": "execute_result",
          "data": {
            "text/plain": [
              "(1000183, 1000183)"
            ]
          },
          "metadata": {},
          "execution_count": 4
        }
      ]
    },
    {
      "cell_type": "code",
      "source": [
        "n_data = len(data1)"
      ],
      "metadata": {
        "id": "Yj3lk0VIBSDq"
      },
      "execution_count": null,
      "outputs": []
    },
    {
      "cell_type": "code",
      "source": [
        "data1[0]"
      ],
      "metadata": {
        "colab": {
          "base_uri": "https://localhost:8080/"
        },
        "id": "9TRxf7OC6ttV",
        "outputId": "bdea1c08-5997-4535-9827-a5c487488ac2"
      },
      "execution_count": null,
      "outputs": [
        {
          "output_type": "execute_result",
          "data": {
            "text/plain": [
              "array([ 35236, 186864,  58724, 155390, 153029,  28510,  62046, 184658,\n",
              "        58738, 154938,   6009, 224625,   3814, 201408, 172560, 121582,\n",
              "        77054,  82504, 161508, 141730, 134408, 182023,  55382, 158027,\n",
              "       178379, 215675, 221030,  22156,  51798, 167951, 219579,  54416,\n",
              "       198166], dtype=int32)"
            ]
          },
          "metadata": {},
          "execution_count": 6
        }
      ]
    },
    {
      "cell_type": "code",
      "source": [
        "data2[0]"
      ],
      "metadata": {
        "colab": {
          "base_uri": "https://localhost:8080/"
        },
        "id": "q-E6t92b6vYo",
        "outputId": "1f33caaf-8de7-469a-9a35-c8c49e4df922"
      },
      "execution_count": null,
      "outputs": [
        {
          "output_type": "execute_result",
          "data": {
            "text/plain": [
              "array([224625, 224625, 224625, 224625, 224625, 224625, 224625, 224625,\n",
              "       224625, 224625, 224625, 201408, 201408, 219579, 219579, 219579,\n",
              "       219579, 219579, 219579, 219579, 219579, 219579, 219579, 219579,\n",
              "       219579, 219579, 219579, 219579, 219579, 219579,  54416, 198166,\n",
              "       167423], dtype=int32)"
            ]
          },
          "metadata": {},
          "execution_count": 8
        }
      ]
    },
    {
      "cell_type": "code",
      "source": [
        "import numpy as np\n",
        "Wemb = np.load('/content/drive/My Drive/VK2/XX.mtx.npy')\n",
        "Wemb = torch.tensor(Wemb)\n",
        "Wemb.shape"
      ],
      "metadata": {
        "id": "2R-tfbPukxNb",
        "colab": {
          "base_uri": "https://localhost:8080/"
        },
        "outputId": "afa92c04-305e-477b-cae5-633ec401527d"
      },
      "execution_count": null,
      "outputs": [
        {
          "output_type": "execute_result",
          "data": {
            "text/plain": [
              "torch.Size([227606, 177])"
            ]
          },
          "metadata": {},
          "execution_count": 6
        }
      ]
    },
    {
      "cell_type": "code",
      "source": [
        "#from scipy.sparse.linalg import svds\n",
        "# Wemb, _, _ = svds(Wemb, k=160, return_singular_vectors='u')"
      ],
      "metadata": {
        "id": "wKeO245U7sEu"
      },
      "execution_count": null,
      "outputs": []
    },
    {
      "cell_type": "code",
      "execution_count": null,
      "metadata": {
        "id": "SyrEK3n8rWxP"
      },
      "outputs": [],
      "source": [
        "# данные\n",
        "#data = [[1, 9, 8, 7, 4], [1, 2, 3], [0, 2, 4, 6, 8], [9, 8, 7, 6]]\n",
        "\n",
        "# матрица представлений\n",
        "#Wemb = torch.tensor(np.random.rand(10, 4))"
      ]
    },
    {
      "cell_type": "code",
      "source": [
        "Wemb"
      ],
      "metadata": {
        "colab": {
          "base_uri": "https://localhost:8080/"
        },
        "id": "58xjEFaasEfi",
        "outputId": "969f008f-584d-497b-95ad-6e5f29d03fc6"
      },
      "execution_count": null,
      "outputs": [
        {
          "output_type": "execute_result",
          "data": {
            "text/plain": [
              "tensor([[-0.1674,  0.0490,  0.0555,  ...,  0.0404, -0.0410,  0.1514],\n",
              "        [-0.1314,  0.0330,  0.0598,  ..., -0.1735, -0.2696,  0.2193],\n",
              "        [ 0.0422, -0.0618, -0.0458,  ...,  0.2930, -0.0840,  0.1581],\n",
              "        ...,\n",
              "        [-0.0499,  0.0205,  0.0835,  ...,  0.0903, -0.0424,  0.1637],\n",
              "        [-0.0417, -0.0633, -0.0019,  ..., -0.1141, -0.0324,  0.0979],\n",
              "        [ 0.0119,  0.0842, -0.0054,  ...,  0.0210, -0.1287,  0.1128]])"
            ]
          },
          "metadata": {},
          "execution_count": 10
        }
      ]
    },
    {
      "cell_type": "markdown",
      "metadata": {
        "id": "TbLbizEorWxQ"
      },
      "source": [
        "## Модель"
      ]
    },
    {
      "cell_type": "code",
      "execution_count": null,
      "metadata": {
        "id": "8BFzAnZyrWxR"
      },
      "outputs": [],
      "source": [
        "device = torch.device(\"cuda\" if torch.cuda.is_available() else \"cpu\")\n",
        "\n",
        "class RNN(nn.Module):\n",
        "    def __init__(self, dict_size, emb_size, output_size, hidden_size, num_layers, W):\n",
        "        super(RNN, self).__init__()\n",
        "        self.embedding = nn.Embedding(dict_size, emb_size)\n",
        "        self.rnn = nn.LSTM(input_size=emb_size, hidden_size=hidden_size, num_layers=num_layers)\n",
        "        self.decoder = nn.Linear(hidden_size, output_size)\n",
        "\n",
        "        if W is not None:\n",
        "          self.embedding.weight.requires_grad = False # так не работает_(False)\n",
        "          self.decoder.weight.requires_grad = False # так не работает_(False)\n",
        "          self.embedding.weight.copy_(W) # сначала убрали градиенты\n",
        "          self.decoder.weight.copy_(W) # .T\n",
        "\n",
        "\n",
        "\n",
        "    def forward(self, input_seq, hidden_state):\n",
        "        embedding = self.embedding(input_seq)\n",
        "        output, hidden_state = self.rnn(embedding, hidden_state)\n",
        "        output = self.decoder(output)\n",
        "        return output, (hidden_state[0].detach(), hidden_state[1].detach())"
      ]
    },
    {
      "cell_type": "markdown",
      "metadata": {
        "id": "KPGEoo32rWxR"
      },
      "source": [
        "## Параметры"
      ]
    },
    {
      "cell_type": "code",
      "execution_count": null,
      "metadata": {
        "id": "eyxO45bqrWxS"
      },
      "outputs": [],
      "source": [
        "hidden_size = 177 #####312     # size of hidden state\n",
        "# seq_len = 100       # length of LSTM sequence\n",
        "num_layers = 3      # num of layers in LSTM layer stack\n",
        "lr = 0.0001          # learning rate\n",
        "epochs = 1        # max number of epochs\n",
        "op_seq_len = 227606    # total num of characters in output test sequence\n",
        "vocab_size = 227606\n",
        "#load_chk = False    # load weights from save_path directory to continue training\n",
        "\n",
        "save_path = '/content/drive/My Drive/VK2/savernn.pth' # to save"
      ]
    },
    {
      "cell_type": "code",
      "execution_count": null,
      "metadata": {
        "id": "MoUV6zMyrWxV"
      },
      "outputs": [],
      "source": [
        "# model instance\n",
        "rnn = RNN(dict_size=vocab_size, emb_size=hidden_size, output_size=vocab_size, hidden_size=hidden_size, num_layers=num_layers, W=Wemb).to(device) #\n",
        "\n",
        "\n",
        "# loss function and optimizer\n",
        "loss_fn = nn.CrossEntropyLoss()\n",
        "optimizer = torch.optim.Adam(rnn.parameters(), lr=lr)"
      ]
    },
    {
      "cell_type": "code",
      "source": [
        "from time import time\n",
        "from IPython.display import clear_output"
      ],
      "metadata": {
        "id": "NYxwE1Jx4K5A"
      },
      "execution_count": null,
      "outputs": []
    },
    {
      "cell_type": "code",
      "source": [
        "rnn.load_state_dict(torch.load('/content/drive/My Drive/VK2/savernn.pth'))"
      ],
      "metadata": {
        "colab": {
          "base_uri": "https://localhost:8080/"
        },
        "id": "SuFfgYsqEPzG",
        "outputId": "47488495-38c7-4c05-e447-e6c766c2daa8"
      },
      "execution_count": null,
      "outputs": [
        {
          "output_type": "execute_result",
          "data": {
            "text/plain": [
              "<All keys matched successfully>"
            ]
          },
          "metadata": {},
          "execution_count": 14
        }
      ]
    },
    {
      "cell_type": "code",
      "source": [
        "#save_path = '/content/drive/My Drive/VK2/savernn.pth'\n",
        "#torch.save(rnn.state_dict(), save_path)"
      ],
      "metadata": {
        "id": "lEP_SoXCCpko"
      },
      "execution_count": null,
      "outputs": []
    },
    {
      "cell_type": "code",
      "source": [
        "np.random.permutation(15)"
      ],
      "metadata": {
        "colab": {
          "base_uri": "https://localhost:8080/"
        },
        "id": "Scbu5d92DE_4",
        "outputId": "175ab084-2246-43fd-d91a-1b22148bce5d"
      },
      "execution_count": null,
      "outputs": [
        {
          "output_type": "execute_result",
          "data": {
            "text/plain": [
              "array([ 5, 14, 13,  4,  7,  3,  6,  9, 10,  8,  2, 12, 11,  1,  0])"
            ]
          },
          "metadata": {},
          "execution_count": 16
        }
      ]
    },
    {
      "cell_type": "markdown",
      "metadata": {
        "id": "wRJIr4GErWxZ"
      },
      "source": [
        "## Обучение"
      ]
    },
    {
      "cell_type": "code",
      "execution_count": null,
      "metadata": {
        "id": "MLU7Qg33rWxa",
        "colab": {
          "base_uri": "https://localhost:8080/",
          "height": 253
        },
        "outputId": "464ba349-ec23-486c-cd49-24aab2315d50"
      },
      "outputs": [
        {
          "output_type": "stream",
          "name": "stdout",
          "text": [
            "iteration=694000, time=0.02497, tek_loss=13.15814, avg_loss=9.54445\n"
          ]
        },
        {
          "output_type": "error",
          "ename": "KeyboardInterrupt",
          "evalue": "ignored",
          "traceback": [
            "\u001b[0;31m---------------------------------------------------------------------------\u001b[0m",
            "\u001b[0;31mKeyboardInterrupt\u001b[0m                         Traceback (most recent call last)",
            "\u001b[0;32m<ipython-input-17-04e7ecdd370a>\u001b[0m in \u001b[0;36m<module>\u001b[0;34m\u001b[0m\n\u001b[1;32m     10\u001b[0m     \u001b[0;32mfor\u001b[0m \u001b[0mi\u001b[0m \u001b[0;32min\u001b[0m \u001b[0mnp\u001b[0m\u001b[0;34m.\u001b[0m\u001b[0mrandom\u001b[0m\u001b[0;34m.\u001b[0m\u001b[0mpermutation\u001b[0m\u001b[0;34m(\u001b[0m\u001b[0mn_data\u001b[0m\u001b[0;34m)\u001b[0m\u001b[0;34m:\u001b[0m\u001b[0;34m\u001b[0m\u001b[0;34m\u001b[0m\u001b[0m\n\u001b[1;32m     11\u001b[0m       \u001b[0;31m# data tensor on device\u001b[0m\u001b[0;34m\u001b[0m\u001b[0;34m\u001b[0m\u001b[0;34m\u001b[0m\u001b[0m\n\u001b[0;32m---> 12\u001b[0;31m       \u001b[0minput_seq\u001b[0m \u001b[0;34m=\u001b[0m \u001b[0mtorch\u001b[0m\u001b[0;34m.\u001b[0m\u001b[0mtensor\u001b[0m\u001b[0;34m(\u001b[0m\u001b[0mdata1\u001b[0m\u001b[0;34m[\u001b[0m\u001b[0mi\u001b[0m\u001b[0;34m]\u001b[0m\u001b[0;34m)\u001b[0m\u001b[0;34m.\u001b[0m\u001b[0mto\u001b[0m\u001b[0;34m(\u001b[0m\u001b[0mdevice\u001b[0m\u001b[0;34m)\u001b[0m\u001b[0;34m\u001b[0m\u001b[0;34m\u001b[0m\u001b[0m\n\u001b[0m\u001b[1;32m     13\u001b[0m       \u001b[0minput_seq\u001b[0m \u001b[0;34m=\u001b[0m \u001b[0mtorch\u001b[0m\u001b[0;34m.\u001b[0m\u001b[0munsqueeze\u001b[0m\u001b[0;34m(\u001b[0m\u001b[0minput_seq\u001b[0m\u001b[0;34m,\u001b[0m \u001b[0mdim\u001b[0m\u001b[0;34m=\u001b[0m\u001b[0;36m1\u001b[0m\u001b[0;34m)\u001b[0m\u001b[0;34m\u001b[0m\u001b[0;34m\u001b[0m\u001b[0m\n\u001b[1;32m     14\u001b[0m \u001b[0;34m\u001b[0m\u001b[0m\n",
            "\u001b[0;31mKeyboardInterrupt\u001b[0m: "
          ]
        }
      ],
      "source": [
        "# training loop\n",
        "for i_epoch in range(1, epochs+1):\n",
        "\n",
        "    n = 0\n",
        "    tm = time()\n",
        "    running_loss = 0\n",
        "    hidden_state = None\n",
        "\n",
        "\n",
        "    for i in np.random.permutation(n_data):\n",
        "      # data tensor on device\n",
        "      input_seq = torch.tensor(data1[i]).to(device)\n",
        "      input_seq = torch.unsqueeze(input_seq, dim=1)\n",
        "\n",
        "      target_seq = torch.tensor(data2[i]).type(torch.LongTensor).to(device)\n",
        "      target_seq = torch.unsqueeze(target_seq, dim=1)\n",
        "\n",
        "      hidden_state = None\n",
        "\n",
        "      # forward pass\n",
        "      output, hidden_state = rnn(input_seq, hidden_state)\n",
        "\n",
        "      # compute loss\n",
        "      loss = loss_fn(torch.squeeze(output), torch.squeeze(target_seq))\n",
        "      running_loss += loss.item()\n",
        "      n+=1\n",
        "\n",
        "      # compute gradients and take optimizer step\n",
        "      optimizer.zero_grad()\n",
        "      loss.backward()\n",
        "      nn.utils.clip_grad_norm_(rnn.parameters(), 1.0) # НЕ ПРОБОВАЛ!!!\n",
        "      optimizer.step()\n",
        "\n",
        "      if (n % 1000) == 0:\n",
        "        clear_output(wait=True)\n",
        "        print(f'iteration={n}, time={(time() - tm)/n:.5f}, tek_loss={loss.item():.5f}, avg_loss={running_loss/n:.5f}')\n",
        "\n",
        "      if (n % 100000) == 0:\n",
        "        torch.save(rnn.state_dict(), save_path)\n",
        "\n",
        "    # print loss and save weights after every epoch\n",
        "    print(\"Epoch: {0} \\t Loss: {1:.8f}\".format(i_epoch, running_loss/n))\n",
        "    torch.save(rnn.state_dict(), save_path)\n",
        "\n",
        "\n",
        "\n",
        "\n",
        "\n",
        "# data    iteration=586300, time=0.02145, tek_loss=10.58368, avg_loss=11.33329"
      ]
    },
    {
      "cell_type": "code",
      "source": [
        "import pickle\n",
        "with open(\"/content/drive/My Drive/VK2/lst.pkl\", \"rb\") as fp:\n",
        "  data = pickle.load(fp)"
      ],
      "metadata": {
        "id": "Y5Sg1vIkG2zs"
      },
      "execution_count": null,
      "outputs": []
    },
    {
      "cell_type": "code",
      "source": [
        "users = np.load('/content/drive/My Drive/VK2/users.mtx.npy')\n",
        "users.shape"
      ],
      "metadata": {
        "colab": {
          "base_uri": "https://localhost:8080/"
        },
        "id": "nBlcuAd5G8lF",
        "outputId": "25a3a7a3-2908-46e2-a974-0406563cd141"
      },
      "execution_count": null,
      "outputs": [
        {
          "output_type": "execute_result",
          "data": {
            "text/plain": [
              "(200000,)"
            ]
          },
          "metadata": {},
          "execution_count": 22
        }
      ]
    },
    {
      "cell_type": "code",
      "source": [
        "A = np.zeros((len(users), 177))"
      ],
      "metadata": {
        "id": "LKpD5SCIOf3A"
      },
      "execution_count": null,
      "outputs": []
    },
    {
      "cell_type": "code",
      "source": [
        "rnn.decoder = nn.Identity(177)"
      ],
      "metadata": {
        "id": "bruCDY92Olx4"
      },
      "execution_count": null,
      "outputs": []
    },
    {
      "cell_type": "code",
      "source": [
        "tm = time()\n",
        "\n",
        "for t, user in enumerate(users):\n",
        "      # data tensor on device\n",
        "      input_seq = torch.tensor(data[user]).to(device)\n",
        "      input_seq = torch.unsqueeze(input_seq, dim=1)\n",
        "\n",
        "      hidden_state = None\n",
        "\n",
        "      # forward pass\n",
        "      output, hidden_state = rnn(input_seq, hidden_state)\n",
        "\n",
        "      A[t,:] = output.squeeze()[-1,:].detach().cpu().numpy()\n",
        "\n",
        "      if (t % 1000) == 0:\n",
        "        clear_output(wait=True)\n",
        "        print(f'iteration={t}, time={(time() - tm)/(t+1):.5f}')"
      ],
      "metadata": {
        "colab": {
          "base_uri": "https://localhost:8080/"
        },
        "id": "osKS1O78Onw6",
        "outputId": "6635b402-86af-4fff-b041-5331207255be"
      },
      "execution_count": null,
      "outputs": [
        {
          "output_type": "stream",
          "name": "stdout",
          "text": [
            "iteration=199000, time=0.00534\n"
          ]
        }
      ]
    },
    {
      "cell_type": "code",
      "source": [
        "A"
      ],
      "metadata": {
        "colab": {
          "base_uri": "https://localhost:8080/"
        },
        "id": "HynsJ7bKOsIf",
        "outputId": "c64023fc-43b6-4050-e70d-47af52ed1bad"
      },
      "execution_count": null,
      "outputs": [
        {
          "output_type": "execute_result",
          "data": {
            "text/plain": [
              "array([[ 2.44980708e-01,  2.83159548e-04,  9.16144159e-03, ...,\n",
              "        -3.69317949e-01, -9.82678950e-01, -9.99981761e-01],\n",
              "       [ 9.99818683e-01, -8.05878919e-03,  4.94417213e-02, ...,\n",
              "        -1.00000000e+00,  9.99999583e-01, -9.99994874e-01],\n",
              "       [ 7.41303444e-01, -6.08208239e-01,  3.87117088e-01, ...,\n",
              "        -5.65984666e-01,  9.99999762e-01, -4.64842021e-01],\n",
              "       ...,\n",
              "       [ 8.27734530e-01,  7.24312514e-02,  4.99795228e-02, ...,\n",
              "        -9.89626467e-01, -5.11101007e-01, -9.99991655e-01],\n",
              "       [ 1.44920737e-01, -7.57850409e-01,  9.99975085e-01, ...,\n",
              "        -4.48987752e-01,  1.00000000e+00, -9.99952793e-01],\n",
              "       [ 9.95108068e-01, -4.74895169e-05,  7.44295239e-01, ...,\n",
              "        -9.79716837e-01, -5.51866472e-01, -9.99453485e-01]])"
            ]
          },
          "metadata": {},
          "execution_count": 27
        }
      ]
    },
    {
      "cell_type": "code",
      "source": [
        "np.save('/content/drive/My Drive/VK2/A.mtx', A)"
      ],
      "metadata": {
        "id": "UwnroUJRTPY7"
      },
      "execution_count": null,
      "outputs": []
    },
    {
      "cell_type": "code",
      "source": [],
      "metadata": {
        "id": "yg0vXiumTVrU"
      },
      "execution_count": null,
      "outputs": []
    },
    {
      "cell_type": "code",
      "source": [
        "del data"
      ],
      "metadata": {
        "id": "orRQG0x4HAKU"
      },
      "execution_count": null,
      "outputs": []
    },
    {
      "cell_type": "code",
      "source": [
        "output.device, target_seq.device"
      ],
      "metadata": {
        "colab": {
          "base_uri": "https://localhost:8080/"
        },
        "id": "yCKYpnpRETEI",
        "outputId": "883b64b0-c693-4c73-d90c-7fdaa74431d3"
      },
      "execution_count": null,
      "outputs": [
        {
          "output_type": "execute_result",
          "data": {
            "text/plain": [
              "(device(type='cuda', index=0), device(type='cpu'))"
            ]
          },
          "metadata": {},
          "execution_count": 25
        }
      ]
    },
    {
      "cell_type": "code",
      "source": [
        "torch.squeeze(output)"
      ],
      "metadata": {
        "colab": {
          "base_uri": "https://localhost:8080/"
        },
        "id": "-DWSzbVDEbRo",
        "outputId": "618a4b18-6ed4-4ca6-f6a9-a6df45cd2601"
      },
      "execution_count": null,
      "outputs": [
        {
          "output_type": "execute_result",
          "data": {
            "text/plain": [
              "tensor([[-0.0901,  0.0391,  0.0022,  ...,  0.0097,  0.0289,  0.0580],\n",
              "        [-0.1205,  0.0350, -0.0057,  ..., -0.0034,  0.0421,  0.0627],\n",
              "        [-0.1376,  0.0321, -0.0079,  ..., -0.0091,  0.0496,  0.0649],\n",
              "        ...,\n",
              "        [-0.1611,  0.0320, -0.0074,  ..., -0.0051,  0.0627,  0.0648],\n",
              "        [-0.1608,  0.0320, -0.0076,  ..., -0.0053,  0.0629,  0.0642],\n",
              "        [-0.1606,  0.0319, -0.0079,  ..., -0.0060,  0.0632,  0.0643]],\n",
              "       device='cuda:0', grad_fn=<SqueezeBackward0>)"
            ]
          },
          "metadata": {},
          "execution_count": 20
        }
      ]
    },
    {
      "cell_type": "code",
      "source": [
        "torch.squeeze(target_seq, dtype=Long)"
      ],
      "metadata": {
        "colab": {
          "base_uri": "https://localhost:8080/",
          "height": 166
        },
        "id": "vw5oYQiSEiUM",
        "outputId": "6d589ce8-7309-4868-fba1-60dbf6f622b1"
      },
      "execution_count": null,
      "outputs": [
        {
          "output_type": "error",
          "ename": "NameError",
          "evalue": "ignored",
          "traceback": [
            "\u001b[0;31m---------------------------------------------------------------------------\u001b[0m",
            "\u001b[0;31mNameError\u001b[0m                                 Traceback (most recent call last)",
            "\u001b[0;32m<ipython-input-22-893943c82818>\u001b[0m in \u001b[0;36m<module>\u001b[0;34m\u001b[0m\n\u001b[0;32m----> 1\u001b[0;31m \u001b[0mtorch\u001b[0m\u001b[0;34m.\u001b[0m\u001b[0msqueeze\u001b[0m\u001b[0;34m(\u001b[0m\u001b[0mtarget_seq\u001b[0m\u001b[0;34m,\u001b[0m \u001b[0mdtype\u001b[0m\u001b[0;34m=\u001b[0m\u001b[0mLong\u001b[0m\u001b[0;34m)\u001b[0m\u001b[0;34m\u001b[0m\u001b[0;34m\u001b[0m\u001b[0m\n\u001b[0m",
            "\u001b[0;31mNameError\u001b[0m: name 'Long' is not defined"
          ]
        }
      ]
    },
    {
      "cell_type": "code",
      "source": [
        "len(data)"
      ],
      "metadata": {
        "colab": {
          "base_uri": "https://localhost:8080/",
          "height": 166
        },
        "id": "uWwhepXP4_a6",
        "outputId": "df2e8e9b-75df-4c74-9863-8db4b4604764"
      },
      "execution_count": null,
      "outputs": [
        {
          "output_type": "error",
          "ename": "NameError",
          "evalue": "ignored",
          "traceback": [
            "\u001b[0;31m---------------------------------------------------------------------------\u001b[0m",
            "\u001b[0;31mNameError\u001b[0m                                 Traceback (most recent call last)",
            "\u001b[0;32m<ipython-input-2-c6201f8cef64>\u001b[0m in \u001b[0;36m<module>\u001b[0;34m\u001b[0m\n\u001b[0;32m----> 1\u001b[0;31m \u001b[0mlen\u001b[0m\u001b[0;34m(\u001b[0m\u001b[0mdata\u001b[0m\u001b[0;34m)\u001b[0m\u001b[0;34m\u001b[0m\u001b[0;34m\u001b[0m\u001b[0m\n\u001b[0m",
            "\u001b[0;31mNameError\u001b[0m: name 'data' is not defined"
          ]
        }
      ]
    },
    {
      "cell_type": "code",
      "source": [
        "    # sample / generate a text sequence after every epoch\n",
        "    hidden_state = None\n",
        "\n",
        " # random character from data to begin\n",
        "    x = torch.tensor([1, 3]).to(device)\n",
        "    x = torch.unsqueeze(x, dim=1)\n",
        "    input_seq = x\n",
        "\n",
        "    print(\"----------------------------------------\")\n",
        "    for t in range(10):\n",
        "        # forward pass\n",
        "        output, hidden_state = rnn(input_seq, hidden_state)\n",
        "\n",
        "        ##### print(output, end='')\n",
        "\n",
        "        # construct categorical distribution and sample a character\n",
        "        # output = F.softmax(torch.squeeze(output), dim=0)\n",
        "        # dist = Categorical(output)\n",
        "        #index = dist.sample()\n",
        "\n",
        "        # print the sampled character\n",
        "        # print(index, end='')\n",
        "\n",
        "    print(\"\\n----------------------------------------\")"
      ],
      "metadata": {
        "colab": {
          "base_uri": "https://localhost:8080/",
          "height": 166
        },
        "id": "xL26TvsA5pN6",
        "outputId": "2971a303-9053-48ee-d1c5-d737306a3e45"
      },
      "execution_count": null,
      "outputs": [
        {
          "output_type": "error",
          "ename": "NameError",
          "evalue": "ignored",
          "traceback": [
            "\u001b[0;31m---------------------------------------------------------------------------\u001b[0m",
            "\u001b[0;31mNameError\u001b[0m                                 Traceback (most recent call last)",
            "\u001b[0;32m<ipython-input-4-39bff0cb16fc>\u001b[0m in \u001b[0;36m<module>\u001b[0;34m\u001b[0m\n\u001b[0;32m----> 1\u001b[0;31m \u001b[0mrnn\u001b[0m\u001b[0;34m\u001b[0m\u001b[0;34m\u001b[0m\u001b[0m\n\u001b[0m",
            "\u001b[0;31mNameError\u001b[0m: name 'rnn' is not defined"
          ]
        }
      ]
    },
    {
      "cell_type": "code",
      "source": [
        "iteration=1100, time=0.03170, tek_loss=11.52488, avg_loss=11.81203\n",
        "iteration=1100, time=0.09800, tek_loss=11.17373, avg_loss=11.49727 без инициализации\n",
        "iteration=1300, time=0.02554, tek_loss=11.56723, avg_loss=11.45241 1 слой\n",
        "#iteration=2900, time=0.02170, tek_loss=11.97592, avg_loss=11.65800 уменьшил вложение до 160\n",
        "# rnn"
      ],
      "metadata": {
        "id": "Ri2k0rsMcma8",
        "colab": {
          "base_uri": "https://localhost:8080/"
        },
        "outputId": "f36a37da-f48c-41ad-af72-8807bd6a5c3b"
      },
      "execution_count": null,
      "outputs": [
        {
          "output_type": "execute_result",
          "data": {
            "text/plain": [
              "RNN(\n",
              "  (embedding): Embedding(227606, 312)\n",
              "  (rnn): LSTM(312, 312, num_layers=3)\n",
              "  (decoder): Linear(in_features=312, out_features=227606, bias=True)\n",
              ")"
            ]
          },
          "metadata": {},
          "execution_count": 17
        }
      ]
    },
    {
      "cell_type": "code",
      "source": [
        "i_epoch"
      ],
      "metadata": {
        "colab": {
          "base_uri": "https://localhost:8080/",
          "height": 166
        },
        "id": "VV-IGFHpvcQI",
        "outputId": "905ef3d3-a2c2-4919-fd0a-82f9c3fb95ac"
      },
      "execution_count": null,
      "outputs": [
        {
          "output_type": "error",
          "ename": "NameError",
          "evalue": "ignored",
          "traceback": [
            "\u001b[0;31m---------------------------------------------------------------------------\u001b[0m",
            "\u001b[0;31mNameError\u001b[0m                                 Traceback (most recent call last)",
            "\u001b[0;32m<ipython-input-1-f34aebb8d92d>\u001b[0m in \u001b[0;36m<module>\u001b[0;34m\u001b[0m\n\u001b[0;32m----> 1\u001b[0;31m \u001b[0mi_epoch\u001b[0m\u001b[0;34m\u001b[0m\u001b[0;34m\u001b[0m\u001b[0m\n\u001b[0m",
            "\u001b[0;31mNameError\u001b[0m: name 'i_epoch' is not defined"
          ]
        }
      ]
    },
    {
      "cell_type": "code",
      "source": [
        "for param in rnn.parameters():\n",
        "    print(param[:3])"
      ],
      "metadata": {
        "colab": {
          "base_uri": "https://localhost:8080/"
        },
        "id": "09Hsa4jSy7nj",
        "outputId": "edfa14d2-5f41-4b58-df94-77dc80ead323"
      },
      "execution_count": null,
      "outputs": [
        {
          "output_type": "stream",
          "name": "stdout",
          "text": [
            "tensor([[ 1.0458e-01,  4.7880e-02,  3.0944e-02, -3.5116e-02, -2.6452e-02,\n",
            "         -1.8017e-02,  1.6048e-02, -4.5419e-02,  3.1146e-04,  9.3888e-02,\n",
            "          6.8062e-02, -4.1069e-02,  6.2561e-02,  1.8975e-03, -6.3457e-02,\n",
            "         -5.6746e-03,  1.5704e-02, -6.1965e-02,  1.4970e-02, -2.4888e-02,\n",
            "          5.6331e-02,  1.4982e-02,  4.7225e-02,  2.1182e-02,  7.9994e-02,\n",
            "         -2.1951e-02, -5.7099e-02,  1.6034e-02, -3.0449e-02,  2.4281e-02,\n",
            "          1.0529e-02, -2.3831e-02,  1.1418e-02, -6.7547e-02, -2.4365e-02,\n",
            "          5.2528e-02, -2.0069e-02,  4.9014e-03, -3.6743e-02,  3.1437e-03,\n",
            "         -1.8055e-02,  2.4830e-01,  7.3590e-02,  1.4884e-02, -4.2709e-02,\n",
            "          4.1417e-03, -9.0915e-03, -6.6086e-03,  1.5600e-02, -7.8404e-03,\n",
            "          4.3871e-02, -4.1044e-02,  2.0118e-02, -5.2628e-02,  7.7389e-02,\n",
            "         -1.1714e-03,  1.8893e-02, -4.1031e-02,  3.1918e-02, -3.8071e-02,\n",
            "          3.1811e-03,  8.0917e-02, -3.7467e-02,  2.0274e-02, -2.4794e-02,\n",
            "          1.4012e-01,  8.5882e-02, -3.7249e-02,  2.2786e-02,  1.5364e-03,\n",
            "          8.6229e-02, -7.5313e-02, -3.1434e-02, -2.0224e-02,  9.1856e-03,\n",
            "          1.5094e-02,  6.1660e-02, -4.4022e-02,  6.4016e-02,  1.9537e-02,\n",
            "         -3.4990e-02,  5.0758e-02,  3.6314e-02,  5.6562e-02,  6.1116e-03,\n",
            "          3.2237e-02, -9.7625e-03,  3.0743e-02, -1.4273e-02, -9.4896e-03,\n",
            "          5.5373e-02, -6.4723e-02,  1.1089e-02,  3.5945e-02, -2.9512e-03,\n",
            "          1.1540e-02,  7.2136e-02,  2.8247e-02, -4.3543e-02,  6.7632e-03,\n",
            "         -7.6490e-02, -1.1940e-01, -4.7220e-02, -9.8469e-02, -2.6963e-02,\n",
            "         -4.3232e-02,  5.2229e-02,  6.3210e-02,  7.7692e-02, -2.3310e-02,\n",
            "          3.6534e-02,  2.8029e-03, -5.8378e-02,  3.3859e-02,  1.7623e-03,\n",
            "          2.5262e-02, -6.0648e-02,  1.0178e-01, -3.1662e-02, -4.5905e-02,\n",
            "          1.3968e-03, -9.1876e-02,  1.4755e-02, -1.1848e-02, -1.9974e-02,\n",
            "          1.1138e-02,  3.7368e-02,  3.4023e-02,  1.2566e-02,  3.3387e-02,\n",
            "          4.6067e-02,  1.8949e-02, -3.9517e-03, -4.6605e-02,  3.9380e-02,\n",
            "          2.9030e-02,  1.8113e-02, -1.3297e-02,  6.6368e-02, -5.3902e-02,\n",
            "          1.4472e-02, -9.9320e-03,  4.0023e-02, -6.2347e-02,  8.7274e-02,\n",
            "          8.9493e-03,  7.6367e-02,  5.2590e-02,  2.4949e-02,  2.5704e-02,\n",
            "          9.1043e-03, -1.6115e-02,  1.6704e-02,  2.6569e-02, -6.0581e-02,\n",
            "          2.3069e-02, -5.8094e-02,  4.9591e-02, -6.2610e-02, -3.9572e-02,\n",
            "          3.5351e-02,  1.0631e-01,  1.9917e-02, -1.4517e-01,  2.6492e-02,\n",
            "         -2.9303e-02,  4.4426e-02, -4.6923e-02,  2.0652e-03,  3.3741e-03,\n",
            "          2.4082e-02,  4.4541e-02,  6.5227e-03, -3.3946e-03, -2.8411e-02,\n",
            "          1.5958e-02,  7.3249e-03, -2.4741e-03, -8.6585e-02,  1.3133e-02,\n",
            "         -1.5525e-02,  6.1537e-02,  9.7969e-02, -1.2246e-02, -5.3275e-02,\n",
            "          8.4387e-02, -7.5185e-03,  9.6921e-02, -2.7510e-02,  2.5652e-02,\n",
            "          5.4984e-02, -2.6778e-02, -3.1838e-02,  1.8663e-02,  5.0039e-02,\n",
            "         -4.8321e-01,  2.9740e-02,  8.5101e-02, -1.9348e-02, -3.6927e-02,\n",
            "         -1.4241e-02, -3.7933e-02, -2.8382e-02, -1.5813e-02, -3.1571e-01,\n",
            "         -4.6879e-02,  6.9136e-02, -5.3152e-02,  7.8296e-02,  2.1942e-02,\n",
            "         -5.0891e-02,  3.0872e-03,  2.3563e-02,  3.5180e-02,  9.0880e-03,\n",
            "         -6.3369e-02, -3.8930e-02,  6.5241e-02,  6.5803e-02, -2.5753e-02,\n",
            "          1.7802e-02,  4.0102e-02, -1.7162e-02, -4.3116e-02,  5.3019e-03,\n",
            "          4.1633e-02, -1.1170e-01,  5.4126e-02, -3.5951e-02, -2.6965e-02,\n",
            "         -3.2680e-03, -2.2620e-02,  1.2516e-02, -1.7142e-02,  4.6925e-03,\n",
            "          1.0305e-01,  3.1467e-02, -5.4088e-02,  4.4733e-02, -1.7603e-02,\n",
            "         -1.2578e-02, -6.1519e-02,  2.7163e-02,  1.6403e-02, -9.2914e-03,\n",
            "          4.9876e-02, -4.7903e-02, -6.4305e-03, -6.1078e-02, -2.5195e-02,\n",
            "          3.6382e-04, -5.5464e-02, -7.5298e-02,  1.6098e-02,  3.7649e-02,\n",
            "         -3.9622e-02, -1.5662e-02,  1.6056e-02,  2.2568e-02,  4.6898e-02,\n",
            "          3.6000e-02,  3.9373e-02,  3.7384e-02,  1.8342e-02, -1.4039e-02,\n",
            "         -1.2196e-04, -3.2386e-02,  5.3249e-02,  1.0571e-01,  1.3821e-02,\n",
            "          1.9440e-02, -3.2066e-02, -2.0280e-02,  3.0468e-03,  1.2052e-02,\n",
            "          1.3756e-02, -1.0913e-02, -7.6686e-03,  1.8034e-02,  8.4050e-02,\n",
            "          4.7649e-02,  4.3563e-02, -1.8764e-02,  2.7969e-02,  1.3103e-02,\n",
            "          3.8647e-02,  1.4058e-02, -1.3570e-02,  1.3302e-02,  4.8224e-03,\n",
            "         -5.2609e-02,  1.8889e-02, -1.0206e-02, -2.0225e-03, -3.3855e-02,\n",
            "          3.2210e-03, -4.0477e-02, -2.2297e-02, -2.1932e-02,  5.4266e-02,\n",
            "         -6.0089e-02,  2.4747e-02,  6.8622e-03,  1.0305e-03, -6.9665e-03,\n",
            "          1.6704e-02, -6.3262e-02, -2.4830e-02, -3.5405e-02, -3.6204e-02,\n",
            "         -1.2501e-02, -5.1993e-02],\n",
            "        [ 3.5625e-02, -3.9264e-02, -3.3103e-02, -4.9436e-02, -3.2331e-02,\n",
            "         -7.8797e-02,  9.6703e-02,  1.4842e-02, -6.2225e-02,  7.9789e-02,\n",
            "          1.0960e-01,  1.2535e-02, -1.6996e-02,  1.4885e-02,  1.0518e-02,\n",
            "          4.4627e-02, -1.3888e-02,  2.4201e-03, -8.2721e-03,  9.6353e-03,\n",
            "         -4.4226e-03,  5.6131e-02,  5.2060e-03, -1.7742e-02,  9.7094e-02,\n",
            "         -3.3391e-02, -6.1422e-03, -1.9154e-02,  5.7190e-02,  3.4036e-02,\n",
            "          2.2394e-02, -4.6946e-02,  1.0017e-02, -1.8133e-02, -4.1830e-02,\n",
            "         -2.6363e-02,  1.1882e-02,  3.4107e-02,  1.1325e-02, -5.0799e-02,\n",
            "         -3.3238e-02,  1.9095e-01,  7.7533e-03,  5.5360e-02, -9.1400e-02,\n",
            "          1.0375e-02, -7.4658e-02,  9.0247e-03, -7.3327e-02, -1.8201e-02,\n",
            "          6.5827e-02, -2.6588e-02, -2.1515e-02,  5.0073e-03,  1.3223e-03,\n",
            "         -2.2663e-02,  7.1353e-02, -9.1256e-02,  6.2709e-02,  3.8625e-02,\n",
            "          2.0480e-02,  6.7012e-02,  1.2658e-02, -6.8930e-03, -2.7315e-02,\n",
            "          7.7231e-02,  2.4025e-02, -9.1211e-03,  4.8105e-02,  7.0280e-02,\n",
            "          2.3217e-02, -4.8424e-04, -1.7492e-02,  7.0750e-03, -3.6041e-02,\n",
            "         -8.3739e-02, -1.3475e-02,  2.6940e-02,  5.9407e-02, -2.4123e-02,\n",
            "         -4.2530e-02, -2.6396e-02,  1.4753e-02,  1.4689e-02, -1.0855e-02,\n",
            "          9.3093e-04, -5.4533e-02,  4.2426e-03, -1.8710e-03, -2.6890e-02,\n",
            "          6.0603e-02, -2.1824e-02, -8.6196e-03, -3.2594e-03, -3.8334e-03,\n",
            "         -1.8202e-02,  2.0536e-02, -7.9951e-02, -4.5038e-02,  1.7007e-02,\n",
            "         -4.7450e-02, -1.2313e-01, -1.3704e-03, -7.5383e-02,  5.0634e-02,\n",
            "         -1.0404e-02,  4.0572e-02,  6.8903e-03, -2.5162e-02, -4.3796e-02,\n",
            "          2.6795e-02, -9.4749e-03, -7.7041e-02,  2.1245e-02,  1.5781e-02,\n",
            "          3.8141e-02, -9.9306e-03,  6.7241e-02, -1.0056e-01, -5.1747e-02,\n",
            "         -2.7246e-02, -2.6531e-02,  6.9448e-02, -4.3244e-03, -5.4094e-02,\n",
            "          9.4540e-03,  1.7498e-02, -1.2037e-02, -3.8381e-02, -1.3088e-02,\n",
            "          5.1876e-02, -5.6812e-02,  3.1449e-02,  6.8826e-02,  1.6532e-02,\n",
            "          1.0153e-04,  2.4216e-02,  1.9697e-02, -1.1380e-02, -6.1610e-02,\n",
            "          4.7395e-02,  5.0405e-02,  8.3926e-02,  2.2242e-03,  5.7851e-02,\n",
            "          5.6531e-03,  9.2808e-02,  3.5460e-02,  4.4991e-02,  5.2397e-03,\n",
            "          3.6022e-02,  8.9692e-03,  1.5229e-02,  6.7129e-02,  2.1897e-02,\n",
            "         -1.2137e-03,  3.4102e-02,  4.2377e-02,  1.5636e-01, -3.4730e-02,\n",
            "          5.9918e-05,  2.1313e-03,  4.4380e-02, -1.4996e-01, -7.8064e-02,\n",
            "         -3.8894e-02,  6.5459e-03, -1.6623e-02, -2.3486e-02, -8.2921e-03,\n",
            "         -9.0944e-03,  2.7140e-02, -2.7872e-02, -4.9239e-02, -2.4247e-02,\n",
            "          9.0044e-02,  7.4983e-02,  1.4869e-02, -3.5614e-02, -5.2032e-02,\n",
            "          6.5580e-03,  2.2982e-02,  4.6687e-02,  3.7170e-02,  2.2584e-02,\n",
            "          1.3601e-02,  1.4621e-02,  1.0502e-01,  4.3898e-02,  6.1466e-03,\n",
            "          2.5432e-02, -1.9075e-02, -7.3027e-02,  1.6581e-02,  1.2994e-01,\n",
            "         -4.5731e-01,  5.1674e-03,  3.5622e-02,  1.5882e-02, -9.5243e-02,\n",
            "         -1.6727e-02, -4.4539e-03,  2.3723e-02,  1.8430e-02, -3.2182e-01,\n",
            "          8.1363e-03,  4.2833e-02, -5.0847e-02,  6.4387e-02,  3.2128e-02,\n",
            "         -1.5050e-02, -2.1448e-02, -4.2778e-02,  5.9774e-02, -4.8194e-02,\n",
            "         -5.9958e-02, -2.0665e-02, -7.0681e-03,  6.2741e-02,  1.4266e-02,\n",
            "          2.4040e-02,  5.4554e-02, -5.7971e-02, -8.1166e-03,  4.0581e-02,\n",
            "          4.1272e-02, -4.7553e-02,  7.8273e-02,  1.9238e-02, -6.5602e-02,\n",
            "          5.6987e-02, -5.3488e-02,  1.5021e-02,  2.6876e-03, -3.7082e-03,\n",
            "          1.5502e-02, -5.2917e-02, -3.2236e-02, -1.2640e-02, -7.2472e-02,\n",
            "          3.3270e-02,  4.4982e-03,  5.3889e-03,  5.0020e-03, -2.3001e-02,\n",
            "          9.6742e-03, -3.4099e-03, -3.6820e-03, -6.7879e-02,  1.0925e-02,\n",
            "         -1.2177e-01, -6.6947e-02, -1.9514e-02,  1.7294e-03, -8.6632e-03,\n",
            "         -4.8593e-02, -4.2130e-02,  4.5869e-02,  5.3858e-03,  3.2770e-02,\n",
            "          5.1503e-02,  3.1533e-02,  1.5302e-02,  5.8103e-02, -1.7933e-02,\n",
            "         -7.3950e-02,  3.3768e-02,  3.5434e-02,  2.6163e-02,  3.3131e-02,\n",
            "         -2.4849e-02,  3.2894e-02, -6.3769e-02,  1.0316e-03,  1.3127e-01,\n",
            "          6.2854e-02,  4.4675e-02,  1.1784e-02,  5.8894e-02, -9.8377e-03,\n",
            "         -8.1961e-03,  2.3829e-02, -2.4563e-02,  9.4182e-03,  3.8089e-02,\n",
            "          2.7128e-02,  1.0703e-01,  4.0551e-02, -2.7338e-02,  9.2673e-02,\n",
            "          3.4808e-03,  5.4823e-02,  3.7511e-02, -6.6721e-03, -6.1600e-02,\n",
            "         -3.2384e-02,  7.0386e-02,  1.7031e-02, -1.4194e-02,  4.0639e-02,\n",
            "         -2.1827e-02, -1.4738e-02, -3.2599e-03,  6.9096e-02, -2.8619e-03,\n",
            "          4.9485e-02, -8.1491e-02,  2.1737e-02,  3.4097e-02, -1.6017e-02,\n",
            "          3.8909e-02, -7.2126e-02],\n",
            "        [ 8.4188e-02,  6.7325e-03, -3.7112e-03, -2.0163e-02, -2.9820e-02,\n",
            "          2.9411e-02,  1.7843e-02, -1.1580e-02,  3.5843e-02,  7.8894e-02,\n",
            "          2.5562e-02,  4.5167e-02,  8.5365e-02,  5.6708e-02, -6.3400e-02,\n",
            "         -1.6497e-02,  2.5046e-02, -5.5683e-02, -1.3206e-02, -4.1707e-02,\n",
            "          5.8062e-03,  4.5827e-02, -7.8020e-03,  3.4929e-02,  7.2549e-02,\n",
            "          1.6922e-02,  2.0336e-03,  2.8796e-02, -2.9841e-02,  9.1459e-02,\n",
            "          5.0122e-02,  3.8738e-02, -1.6880e-02, -1.1553e-01, -6.6737e-03,\n",
            "         -2.3127e-03,  1.7555e-02,  2.0222e-03, -1.4358e-02, -3.0713e-02,\n",
            "          5.1636e-02,  2.4001e-01,  1.9803e-02, -1.5868e-02, -2.6497e-02,\n",
            "         -3.4037e-02, -3.5215e-02,  5.3387e-02, -4.8209e-02,  4.5822e-02,\n",
            "          3.3669e-02,  3.7641e-02,  1.0740e-02,  3.2245e-02,  6.9093e-02,\n",
            "          2.9329e-02,  1.9683e-02, -1.8839e-02, -8.8733e-03, -3.8841e-02,\n",
            "         -1.2251e-02,  1.2160e-01,  2.3051e-02,  4.1421e-04, -2.0903e-02,\n",
            "          3.1036e-02,  9.2787e-02, -3.5768e-02, -3.0845e-02,  6.9676e-02,\n",
            "          6.6490e-02, -7.2861e-02, -1.2283e-02,  1.0152e-02, -1.5868e-03,\n",
            "         -9.6491e-02, -8.6770e-03, -3.3257e-02,  1.9656e-02,  4.1049e-03,\n",
            "         -6.5065e-02, -2.0688e-02,  2.8415e-02,  3.6351e-02,  1.6672e-02,\n",
            "          5.4702e-02,  1.3499e-02, -6.4132e-02, -2.9029e-02, -7.3483e-02,\n",
            "          4.0980e-02, -3.8132e-02,  1.0938e-01,  4.2458e-02,  1.6366e-02,\n",
            "         -2.6992e-03,  8.4556e-02, -5.2831e-02, -6.4580e-02,  1.0045e-02,\n",
            "         -1.7052e-02, -6.5967e-02,  4.0914e-02, -4.5249e-02,  5.4719e-02,\n",
            "         -5.3812e-02,  1.5418e-03,  4.3823e-02,  1.0315e-01,  2.6780e-02,\n",
            "          1.6293e-02,  1.6122e-02, -8.1813e-02,  3.9030e-02,  2.5715e-02,\n",
            "          6.5226e-02, -6.0537e-02,  2.1892e-02, -1.9041e-02, -2.6120e-02,\n",
            "         -4.5070e-02, -4.9169e-02,  1.2669e-02,  6.9287e-03, -7.5857e-02,\n",
            "         -2.9356e-02,  6.3172e-02,  5.0459e-02,  4.1876e-02,  7.4762e-02,\n",
            "          3.6780e-02, -4.0650e-02, -1.3670e-02,  2.9845e-02,  4.9605e-03,\n",
            "         -2.3229e-03,  1.8484e-02, -6.7095e-02,  1.2363e-02,  4.0224e-02,\n",
            "          3.1962e-02,  1.7049e-02,  2.2777e-02, -1.3280e-02,  3.3730e-02,\n",
            "         -3.8703e-02, -1.6981e-02, -1.1387e-02,  7.3266e-02,  6.1737e-02,\n",
            "         -1.3112e-02, -1.0017e-02,  3.6968e-03,  9.6325e-03, -5.6511e-02,\n",
            "          2.9552e-03, -2.9552e-02,  6.2159e-03,  6.1964e-02, -4.5629e-02,\n",
            "          5.7368e-02,  4.9045e-02,  3.7722e-02, -1.6186e-01, -1.7039e-02,\n",
            "         -4.3941e-02,  9.6158e-03, -2.1188e-02, -2.4246e-02,  1.4308e-02,\n",
            "          2.1840e-02,  3.6032e-02, -2.0752e-02, -9.1812e-03,  2.2839e-02,\n",
            "          7.8369e-02,  3.5759e-02, -3.1123e-02, -7.4861e-02,  8.6391e-03,\n",
            "          4.1151e-03,  1.0505e-02,  8.2908e-02,  7.9079e-02, -6.6949e-02,\n",
            "          7.2011e-02, -2.0720e-02,  8.3560e-02,  1.2470e-03,  1.3562e-02,\n",
            "          5.2212e-02, -1.4523e-02, -1.5969e-01,  2.3412e-02,  7.2151e-02,\n",
            "         -4.2926e-01,  2.7139e-02,  4.8605e-02,  1.3619e-02, -5.3203e-02,\n",
            "         -1.5568e-02, -5.1572e-02,  3.1149e-04, -8.2107e-02, -2.8887e-01,\n",
            "         -2.1212e-02, -1.1882e-02, -2.8436e-02,  6.1570e-02,  4.8024e-03,\n",
            "         -1.0853e-02, -3.9439e-02,  6.0942e-03,  3.6278e-02, -1.2372e-02,\n",
            "         -2.3462e-02, -8.0887e-02,  9.1250e-02,  5.2256e-02, -7.3001e-02,\n",
            "         -4.8860e-02, -8.1544e-03,  1.0159e-03, -2.5728e-02,  1.8782e-02,\n",
            "          2.6078e-02, -6.7531e-02,  8.6866e-02, -6.4242e-02, -1.2607e-01,\n",
            "          1.0082e-02, -4.8533e-02,  7.8178e-02, -2.5484e-02, -4.8605e-03,\n",
            "          7.3434e-02,  7.2934e-02,  4.6969e-02,  2.4856e-02, -6.1359e-02,\n",
            "         -2.9461e-02, -3.2150e-02,  4.4994e-02,  2.1193e-02,  7.1280e-02,\n",
            "          6.4211e-02, -4.1286e-02,  2.0037e-02, -6.9598e-02, -8.7855e-02,\n",
            "         -7.0055e-02, -2.9714e-02, -6.4483e-02,  3.6734e-02, -1.9776e-03,\n",
            "         -2.3552e-02,  2.2827e-02,  4.5512e-02,  3.8492e-02,  2.0103e-04,\n",
            "          7.7635e-02,  4.6231e-02,  3.4834e-02, -1.7659e-02, -8.3766e-02,\n",
            "          1.4131e-02, -3.1893e-03, -5.1823e-03,  7.2023e-02,  7.5449e-02,\n",
            "         -4.7386e-03,  1.0462e-02, -3.8978e-02,  2.7168e-02, -4.9389e-02,\n",
            "          1.0235e-02,  2.8414e-02, -2.0022e-02,  5.6233e-02,  7.8750e-02,\n",
            "         -3.3912e-02,  5.3506e-02, -5.7579e-02, -1.0951e-02,  3.6815e-02,\n",
            "         -3.5840e-02,  3.5763e-02,  4.1067e-02, -2.3126e-02, -8.7749e-02,\n",
            "          9.9559e-03,  1.0306e-02, -2.3607e-02, -1.2206e-02, -1.7982e-02,\n",
            "         -4.7059e-03, -5.0456e-02, -3.5429e-02, -1.8668e-02,  2.4941e-02,\n",
            "          2.3879e-02, -5.8734e-02,  3.5034e-02, -1.7165e-03,  1.7571e-02,\n",
            "          3.6196e-02, -5.4412e-02,  6.0726e-02,  1.0904e-02, -3.0896e-02,\n",
            "         -1.8254e-04, -6.6750e-03]], device='cuda:0')\n",
            "tensor([[-5.2423e-02, -4.2509e-02, -7.1719e-02,  3.9421e-02, -2.1736e-03,\n",
            "         -2.8495e-02, -3.0891e-02, -8.0509e-03,  6.0486e-02, -1.4624e-02,\n",
            "          9.2499e-03,  4.4015e-02, -2.2318e-02, -8.1219e-02, -5.2218e-02,\n",
            "         -7.5807e-02,  7.5648e-04,  2.5589e-02,  1.9713e-02, -4.0003e-02,\n",
            "         -1.7133e-02, -5.2913e-02, -3.5725e-02,  8.5741e-02, -8.9243e-02,\n",
            "         -4.1110e-04, -5.3361e-02, -3.5919e-02,  1.6572e-03,  5.9742e-03,\n",
            "          1.9148e-02,  8.6061e-02, -2.1952e-02,  5.2296e-02, -3.2139e-02,\n",
            "          2.1879e-02, -7.2599e-02, -9.5055e-02, -5.2091e-02, -3.9162e-02,\n",
            "          2.6339e-04, -6.9069e-02, -6.3754e-02, -6.7828e-02,  3.7552e-02,\n",
            "         -8.6389e-02,  6.5285e-02, -1.9081e-02, -3.3185e-02,  8.6417e-03,\n",
            "          2.6015e-02,  1.3018e-01,  3.6712e-02, -5.3918e-02,  3.6392e-02,\n",
            "         -5.6813e-02, -8.7620e-03,  4.0359e-02, -2.8215e-02, -6.7146e-02,\n",
            "         -2.9555e-02, -3.1180e-02,  7.9333e-02, -1.0439e-01,  8.0603e-03,\n",
            "         -2.4520e-02, -5.6802e-02,  3.7440e-02, -7.6551e-02,  6.1273e-03,\n",
            "          2.1845e-02,  3.0060e-02, -2.0712e-02,  7.6928e-02,  8.7137e-02,\n",
            "         -2.1138e-02, -6.7070e-02,  7.2078e-03, -1.2871e-02,  3.6666e-02,\n",
            "          1.0657e-02, -1.7395e-02,  4.2891e-02, -3.0710e-02, -4.0227e-03,\n",
            "          3.4723e-02,  2.3007e-02, -3.5653e-03, -1.9792e-02,  2.3547e-02,\n",
            "          7.9584e-03,  4.1358e-02, -3.5440e-02,  1.2658e-02, -3.1650e-02,\n",
            "         -9.2809e-03, -4.5922e-02,  1.9716e-02,  2.4422e-02, -6.3834e-02,\n",
            "          2.4650e-02, -1.9339e-02,  1.3833e-02, -7.5317e-03, -6.0748e-02,\n",
            "         -3.0743e-02, -1.1265e-01, -5.0974e-02, -4.2279e-02,  1.0703e-01,\n",
            "         -7.2886e-02,  8.1471e-02, -1.1681e-02,  2.1067e-02, -2.2089e-02,\n",
            "         -1.1245e-02, -3.3244e-03, -5.3778e-02,  8.1717e-03,  9.1028e-02,\n",
            "          2.6614e-03,  3.0452e-02, -6.9420e-02,  3.8210e-02,  6.9582e-03,\n",
            "          2.5196e-02,  6.7474e-02, -1.4457e-02,  1.6738e-02, -6.7245e-02,\n",
            "         -2.7783e-02,  4.0253e-02, -4.0623e-02,  4.4043e-02, -4.8342e-02,\n",
            "         -1.1577e-02, -8.8494e-02, -5.9294e-02, -1.1609e-02, -1.8270e-02,\n",
            "          2.0613e-02,  4.4007e-02,  5.2157e-03,  5.7721e-03, -6.7184e-02,\n",
            "         -5.4876e-02,  1.7777e-02, -1.1488e-02, -2.3971e-02,  9.4325e-02,\n",
            "         -5.8161e-02,  2.7593e-02, -9.9657e-02, -6.1000e-02, -1.2837e-02,\n",
            "         -9.2395e-02, -2.3855e-02, -2.2545e-02,  4.3284e-02,  2.2080e-02,\n",
            "         -5.7623e-02, -4.0038e-02, -1.7760e-02,  2.5356e-02, -5.1638e-02,\n",
            "          6.0615e-02, -3.7002e-03, -2.7919e-02,  5.2402e-02, -8.2474e-02,\n",
            "         -6.8393e-02, -8.4812e-02, -8.6830e-03,  3.8669e-02,  5.7534e-02,\n",
            "         -2.2587e-02, -8.4192e-02,  2.7071e-02,  3.0822e-02,  2.0711e-02,\n",
            "         -4.8538e-02, -9.8935e-02,  2.1170e-02,  7.7362e-02, -1.9748e-02,\n",
            "         -6.5329e-02, -1.1155e-01, -2.3462e-02,  1.1900e-02,  9.4083e-02,\n",
            "         -8.3834e-02,  6.3882e-03,  9.2189e-03,  1.9116e-03, -4.4255e-02,\n",
            "          5.0987e-02, -1.5759e-02, -4.1855e-02, -3.4230e-03,  5.5807e-02,\n",
            "          4.5060e-02,  5.0260e-02, -2.4959e-02,  1.5676e-02, -2.4294e-02,\n",
            "          2.1897e-02, -4.6411e-02,  4.9505e-02, -1.2731e-02, -2.0928e-02,\n",
            "         -1.7899e-02,  5.3659e-02,  2.3996e-02,  9.2768e-03, -1.9529e-02,\n",
            "          3.5655e-02,  9.8358e-02, -2.0491e-02,  2.8919e-02,  1.1713e-02,\n",
            "         -3.6167e-02,  9.8674e-03, -6.9980e-03,  1.7667e-02, -1.1860e-02,\n",
            "         -6.8278e-02,  3.5546e-02,  1.8961e-02,  1.7123e-02,  7.2356e-02,\n",
            "          9.1570e-04, -2.3207e-02,  3.8816e-02,  6.1330e-02, -7.7765e-02,\n",
            "         -4.3721e-02, -4.1352e-02,  4.0175e-02,  3.4931e-02,  3.4454e-02,\n",
            "         -3.4783e-02, -3.0791e-03, -7.0006e-02, -2.2169e-02, -4.0864e-03,\n",
            "         -3.9149e-04, -6.9858e-03, -4.2992e-02,  4.5441e-02,  2.4127e-02,\n",
            "         -4.4020e-02,  5.1702e-02, -7.6306e-03, -7.2468e-02,  1.3022e-02,\n",
            "          4.2393e-02,  1.3572e-03,  1.2656e-02,  1.4333e-02, -9.0399e-02,\n",
            "         -3.7187e-02, -1.7111e-02,  1.0586e-01, -5.8756e-02,  5.3752e-02,\n",
            "         -2.0559e-02, -3.8978e-02, -7.5048e-03, -2.1538e-02,  2.6419e-04,\n",
            "          5.2658e-02,  1.9457e-02, -5.6441e-03, -7.6647e-02, -6.2176e-02,\n",
            "         -1.9347e-02, -1.7778e-02, -5.2300e-02, -2.3509e-02, -3.9143e-02,\n",
            "          3.0518e-02, -4.8033e-02,  1.8453e-02,  1.3981e-02, -7.4738e-02,\n",
            "          3.1636e-02, -5.3694e-02, -4.6750e-02,  8.0914e-02, -7.1367e-02,\n",
            "          1.4945e-02, -8.9143e-02, -5.3854e-02, -5.2819e-02, -8.7577e-03,\n",
            "          1.2197e-01, -3.8979e-02, -4.1443e-02,  1.6020e-02,  1.8352e-02,\n",
            "          2.7525e-02, -8.7559e-02, -3.4191e-02, -3.7698e-02,  5.8609e-04,\n",
            "          2.3571e-02, -4.7751e-03, -3.4030e-02, -1.0554e-02,  1.1068e-02,\n",
            "         -7.2026e-03,  1.3930e-02],\n",
            "        [ 6.1481e-02, -6.3406e-02, -1.3373e-01, -7.8617e-02, -1.1494e-01,\n",
            "         -9.2199e-02,  6.6669e-02, -4.2350e-02, -3.5232e-02,  5.6544e-02,\n",
            "          8.4680e-02,  9.6215e-02,  5.6929e-03,  1.6896e-02, -4.4374e-02,\n",
            "          3.4120e-02,  5.0042e-02, -2.9373e-02, -1.0804e-01, -4.7321e-03,\n",
            "          8.7610e-02,  4.3550e-02,  9.7599e-03, -3.7110e-02,  6.6412e-02,\n",
            "          4.7207e-02, -3.4523e-02, -1.0753e-01,  4.6969e-02,  1.4413e-01,\n",
            "          6.8812e-02,  6.0811e-02, -9.1428e-02, -2.8238e-02, -1.2449e-01,\n",
            "         -5.1627e-02,  2.7418e-02,  5.1292e-03, -2.4109e-02, -1.0992e-01,\n",
            "          1.6498e-03,  5.2840e-03,  7.5193e-02,  3.7895e-02, -1.1277e-01,\n",
            "         -1.8131e-02, -3.5121e-02, -6.6360e-03, -8.0809e-02,  1.4835e-01,\n",
            "          1.1701e-01,  6.2484e-02,  1.0408e-03,  2.4855e-02,  1.6409e-02,\n",
            "         -5.6739e-02,  9.5559e-02,  4.6714e-03,  8.7224e-02,  1.2165e-02,\n",
            "          2.0510e-02,  1.2552e-02, -1.9493e-02, -4.1947e-02,  5.0284e-03,\n",
            "          1.0162e-01,  4.7705e-02, -8.1740e-02, -4.3044e-03,  3.6350e-02,\n",
            "          1.2336e-02, -7.1724e-02, -2.8499e-02, -4.5935e-02, -1.2104e-02,\n",
            "         -6.7811e-02,  5.3725e-03, -4.8474e-02,  9.1946e-02, -5.3792e-03,\n",
            "         -6.4929e-02, -4.4141e-02,  2.4723e-02,  4.3383e-02, -4.5498e-02,\n",
            "          2.0260e-02, -8.1611e-02, -2.1599e-02, -4.3752e-02, -6.5770e-02,\n",
            "          7.8668e-02, -3.0653e-03,  2.2481e-02,  5.3276e-02,  3.5771e-02,\n",
            "         -9.2513e-02,  1.9722e-02, -3.7692e-02, -5.6834e-02,  4.6856e-02,\n",
            "         -4.1149e-03, -2.2308e-02, -1.0042e-03, -6.7582e-02,  5.7839e-02,\n",
            "         -1.1057e-02,  5.0674e-02,  7.6386e-02,  7.4841e-02,  7.2173e-02,\n",
            "          9.0873e-03,  9.8284e-02, -3.8548e-02,  3.5767e-02,  2.9670e-02,\n",
            "          4.9365e-02,  3.1539e-02,  2.6013e-02, -9.1140e-02, -1.0244e-01,\n",
            "         -5.8389e-02, -3.7741e-02,  1.3039e-01, -4.5646e-02, -5.1606e-02,\n",
            "         -7.2610e-03,  1.2265e-01,  4.6697e-02,  1.9199e-02,  4.4312e-02,\n",
            "         -3.0857e-02, -7.1757e-02,  2.7233e-02,  6.8187e-02,  7.2657e-02,\n",
            "         -1.1912e-03,  4.4481e-02, -9.9571e-02,  3.2350e-02,  6.8516e-03,\n",
            "         -1.7345e-02,  1.1456e-01,  4.2487e-02, -2.7931e-03,  8.3545e-02,\n",
            "          6.6886e-02,  2.8049e-02,  1.4674e-04,  6.1645e-02, -5.6190e-02,\n",
            "          9.4957e-02, -1.0741e-02,  2.8942e-02,  6.2934e-02, -8.4444e-02,\n",
            "          9.5405e-02,  1.7982e-02,  9.2984e-03,  9.5108e-02, -5.1059e-02,\n",
            "          5.3772e-02,  7.2658e-02,  6.5706e-02, -1.7158e-02, -3.7029e-02,\n",
            "         -3.9079e-02, -7.6354e-02, -1.6158e-02, -1.1444e-01,  1.3187e-02,\n",
            "         -1.3108e-02,  4.3648e-02, -6.8184e-03, -9.3210e-02,  1.8957e-02,\n",
            "          9.7022e-02,  9.7066e-02, -3.6281e-02, -1.4163e-02, -9.3136e-02,\n",
            "          6.6819e-02,  4.4271e-02,  7.6358e-02,  2.1159e-02, -6.0050e-02,\n",
            "          4.4223e-02, -2.6630e-02,  4.2851e-02,  1.2077e-02,  7.6714e-02,\n",
            "          7.2455e-02, -3.4615e-02, -9.7965e-02,  6.2434e-02,  1.0309e-01,\n",
            "         -7.7196e-02,  1.0991e-01,  5.2525e-02, -5.8608e-02, -8.9805e-02,\n",
            "         -6.5162e-03,  2.0268e-03,  3.3690e-02, -1.0174e-01, -8.4794e-02,\n",
            "         -1.0048e-01,  3.6685e-02, -8.5154e-02,  5.4862e-02,  1.5022e-01,\n",
            "         -1.8955e-02, -7.1324e-02, -3.7503e-02,  5.3929e-02, -1.0916e-01,\n",
            "         -1.2387e-01, -7.8328e-03,  4.5282e-02,  8.1806e-02, -3.8724e-02,\n",
            "         -4.4341e-02,  1.9478e-02, -3.9068e-02, -9.6807e-02,  1.2762e-01,\n",
            "          9.8543e-02, -1.1695e-02,  1.8394e-02,  5.6992e-02, -3.8687e-02,\n",
            "          1.0071e-01, -3.6474e-02,  1.1245e-01,  4.5448e-02,  2.1577e-04,\n",
            "          2.7001e-02,  7.9519e-02, -2.7411e-02,  6.2320e-02, -8.4788e-02,\n",
            "          5.6240e-02,  1.9464e-02, -7.0227e-02,  2.7750e-02,  6.8008e-02,\n",
            "          8.3736e-02, -5.3624e-02,  2.9406e-03, -4.1011e-02, -8.8243e-02,\n",
            "         -7.8099e-02, -4.3762e-03, -1.1286e-01,  4.6618e-02,  8.3780e-02,\n",
            "          5.4557e-03, -9.5916e-03,  6.3145e-02,  4.4096e-02,  8.7954e-02,\n",
            "          8.2907e-02,  4.9472e-02,  7.5245e-02,  8.5681e-02,  3.7744e-02,\n",
            "          1.7120e-02,  1.5075e-02,  4.2645e-03,  6.9622e-02,  9.1907e-02,\n",
            "         -2.6837e-02,  2.1257e-02, -2.3650e-02,  6.7579e-02,  1.0225e-01,\n",
            "         -9.7369e-03,  1.1068e-01, -4.5294e-02,  2.7012e-02,  2.9156e-02,\n",
            "         -6.1233e-02, -3.2631e-02, -5.8293e-02, -5.9609e-03,  1.3459e-02,\n",
            "          4.5217e-03,  1.1732e-01,  5.3739e-02,  8.8117e-03,  7.8485e-02,\n",
            "          2.1808e-02,  8.7650e-02, -1.4033e-02, -1.7859e-02, -7.2883e-02,\n",
            "         -4.9719e-02,  7.7998e-02,  1.3441e-02, -1.1788e-01,  8.6309e-02,\n",
            "         -3.9067e-02, -6.2157e-02,  4.2283e-02,  3.1578e-02,  8.0592e-02,\n",
            "          2.6416e-02, -6.3068e-02,  1.1416e-02,  2.0481e-02,  1.1148e-02,\n",
            "          1.1704e-01, -4.3629e-02],\n",
            "        [ 3.7548e-02, -9.3808e-03,  2.6634e-02, -3.7473e-02,  3.4372e-02,\n",
            "         -8.9295e-03,  3.7534e-02, -2.9015e-02,  2.3543e-02,  3.8041e-02,\n",
            "         -2.0006e-02, -1.7571e-03, -4.4771e-02,  3.8709e-02,  2.3805e-02,\n",
            "         -2.1036e-02, -9.6608e-03,  4.5464e-02,  2.3257e-02,  3.5721e-03,\n",
            "          1.7864e-02,  1.6500e-02, -4.8256e-02,  3.6241e-03, -6.2231e-03,\n",
            "          5.4730e-02, -6.1911e-02, -1.1173e-02, -4.9600e-02, -2.8057e-03,\n",
            "          4.4181e-02,  3.0392e-02, -8.4033e-03,  5.7716e-02,  6.3040e-02,\n",
            "         -1.2396e-02, -4.3711e-02, -2.9173e-02,  1.8668e-02, -3.3089e-02,\n",
            "          3.4933e-02, -9.7042e-03, -5.5368e-02,  1.2482e-02,  6.3454e-02,\n",
            "         -7.8222e-03, -4.5476e-02,  1.4857e-02,  3.6325e-02,  3.1106e-02,\n",
            "          1.0114e-02,  1.0071e-01,  2.9026e-02, -4.4842e-02, -2.3450e-02,\n",
            "         -4.6746e-02,  8.3652e-03,  3.2170e-02,  8.3453e-03, -9.1283e-03,\n",
            "         -2.0245e-02, -2.4846e-03, -2.7891e-03, -9.4814e-02,  1.3350e-02,\n",
            "         -5.6873e-02, -1.3234e-02,  8.9903e-03, -5.5316e-02,  3.9342e-02,\n",
            "          2.4324e-02, -1.6756e-02, -1.6581e-02,  5.7637e-02,  3.4162e-02,\n",
            "         -1.3218e-02, -5.7318e-02,  8.5897e-03,  1.6612e-03,  1.7630e-02,\n",
            "         -1.5352e-02,  3.2273e-02, -2.5080e-02,  3.1401e-02, -2.7552e-02,\n",
            "         -3.2000e-02,  2.9260e-02,  1.8633e-02, -6.2492e-02, -7.2441e-04,\n",
            "         -8.3289e-03,  3.2465e-02, -1.0677e-02,  1.9677e-02,  1.3065e-02,\n",
            "         -3.9452e-02,  1.2711e-02,  4.4417e-02,  6.0452e-02, -4.9313e-02,\n",
            "          6.5944e-02,  4.8917e-02, -4.3157e-02,  4.8506e-02,  4.5207e-03,\n",
            "          2.4311e-02, -7.4483e-02, -1.5390e-02,  1.9071e-02, -2.7933e-02,\n",
            "         -2.4918e-02, -5.5649e-04,  5.0360e-03, -1.2071e-02, -4.5678e-02,\n",
            "         -6.0817e-02,  5.2285e-02,  1.5676e-02, -1.5067e-02, -2.6215e-02,\n",
            "          7.5860e-02,  2.5558e-02,  6.2826e-02,  4.6145e-02,  2.3003e-02,\n",
            "         -1.4233e-02,  2.5795e-02,  4.9357e-02, -6.8758e-03, -5.2203e-02,\n",
            "          1.2493e-02, -3.2788e-02, -4.7388e-02, -2.2812e-02,  4.8351e-02,\n",
            "          5.2166e-02,  5.7586e-02,  2.3680e-02, -6.3667e-02,  2.2628e-02,\n",
            "         -1.6220e-02, -3.2433e-02, -3.6829e-02,  4.4242e-02,  3.9888e-02,\n",
            "         -4.1743e-02,  3.2542e-02,  7.9513e-03, -8.3271e-02, -3.8597e-02,\n",
            "         -1.9667e-02, -5.6257e-02,  2.7166e-02, -2.3187e-02,  5.9645e-02,\n",
            "         -2.3811e-02,  2.8670e-02, -6.8930e-02, -4.3736e-03,  4.1716e-02,\n",
            "         -1.9831e-02,  7.8363e-03,  2.1138e-02,  9.2936e-03,  6.2159e-03,\n",
            "          4.3471e-02, -2.2103e-02, -2.0289e-02, -6.7669e-02, -5.5141e-02,\n",
            "          2.5820e-02, -1.4797e-02,  4.3660e-02, -2.5496e-02,  2.2300e-02,\n",
            "         -2.4307e-02, -1.3826e-02, -2.3433e-02,  5.0751e-02,  5.5231e-02,\n",
            "          1.4843e-02,  9.2902e-03, -1.1002e-02,  1.7461e-02,  2.5601e-02,\n",
            "         -5.6217e-03, -1.7918e-02, -5.0090e-02, -4.3984e-02, -3.9231e-02,\n",
            "          2.7788e-02,  4.3676e-02, -1.2569e-02,  6.2322e-02, -6.7911e-02,\n",
            "         -1.5992e-02, -3.1598e-02,  3.3581e-02, -1.5425e-02,  6.2706e-02,\n",
            "          1.1592e-02,  8.6622e-02, -1.6334e-02,  5.3341e-02,  4.5778e-02,\n",
            "          1.2725e-02, -5.7351e-02,  5.9270e-02, -6.7541e-02,  3.9702e-02,\n",
            "          1.0716e-02, -2.1303e-02, -2.7061e-02, -4.5357e-02, -1.9880e-02,\n",
            "         -4.4496e-02,  8.1366e-03,  7.1749e-03, -3.1731e-02,  1.0747e-02,\n",
            "          2.6009e-02, -5.7893e-02,  2.5500e-02,  4.5563e-02, -2.5643e-02,\n",
            "         -5.6285e-02,  6.7063e-02, -3.1062e-02,  4.7768e-02,  3.5151e-04,\n",
            "          3.6322e-02, -1.1642e-02, -1.3039e-02, -4.1203e-03, -5.7752e-02,\n",
            "         -5.3232e-02,  3.3539e-02,  2.2646e-02, -1.2994e-04,  3.5152e-03,\n",
            "         -4.4376e-02,  5.2018e-02, -3.1136e-03, -6.3778e-02,  4.8919e-02,\n",
            "          1.2987e-02, -2.8741e-02,  5.5285e-02,  5.5538e-02, -2.5265e-02,\n",
            "         -4.2561e-02, -8.0824e-03,  6.8039e-02, -1.3418e-02, -6.3631e-03,\n",
            "          4.9057e-02,  6.5603e-02,  3.1220e-03, -2.3971e-02, -7.9170e-03,\n",
            "         -2.8401e-02, -6.4475e-02,  5.9696e-03,  1.7472e-02,  7.2511e-02,\n",
            "          4.5957e-02, -2.7406e-02, -6.5938e-02, -7.0269e-02,  4.0103e-02,\n",
            "          3.3445e-02, -2.9675e-02, -7.6047e-03,  2.0383e-02,  1.6944e-02,\n",
            "          2.9845e-02, -9.6587e-03, -3.0082e-02,  1.7458e-02, -3.6694e-02,\n",
            "         -3.7213e-02, -7.8868e-03, -8.1818e-03,  8.6115e-05, -4.8638e-02,\n",
            "          1.2236e-02,  2.7347e-02,  1.2713e-02,  8.4351e-03, -3.1115e-02,\n",
            "          5.6851e-03, -5.8067e-02, -2.4021e-02,  4.2798e-02, -1.8455e-02,\n",
            "         -7.0736e-02,  4.1616e-02,  3.1773e-02, -3.7264e-02, -5.3158e-02,\n",
            "          1.5526e-02, -1.6155e-02, -3.6891e-03,  6.5250e-02, -5.4155e-02,\n",
            "         -4.8470e-02,  3.4864e-02, -1.1583e-02,  4.1558e-02,  2.7912e-02,\n",
            "          5.2259e-02,  4.0795e-02]], device='cuda:0', grad_fn=<SliceBackward0>)\n",
            "tensor([[-1.8043e-02,  7.4157e-03, -1.7608e-02,  8.1320e-02,  2.5470e-02,\n",
            "          1.8015e-02, -4.4329e-02,  2.5053e-02, -6.5586e-03,  3.1047e-03,\n",
            "         -4.3671e-02,  1.2636e-02, -6.8289e-02, -3.7513e-02, -7.1535e-02,\n",
            "         -8.4094e-02, -1.1082e-01, -1.4445e-02, -4.3212e-02,  1.6249e-02,\n",
            "         -2.2631e-02,  8.3869e-02,  4.9598e-02, -6.2148e-02, -4.6893e-02,\n",
            "          1.0956e-03, -1.6641e-02,  1.7518e-02, -6.3070e-02,  1.1651e-02,\n",
            "         -4.0352e-02, -7.5424e-02, -1.3413e-02,  2.0854e-03, -1.0660e-01,\n",
            "         -1.6287e-02,  2.6503e-02, -4.5182e-02,  4.2016e-03, -8.5820e-02,\n",
            "         -2.1429e-02, -9.7852e-02, -6.9253e-02,  7.9858e-02, -3.9045e-03,\n",
            "          1.1707e-02,  2.0303e-02,  5.4565e-02, -9.2096e-03, -1.3399e-02,\n",
            "          4.4695e-02, -1.3140e-02,  1.6261e-02, -7.9222e-04,  9.6999e-03,\n",
            "          6.6219e-02, -7.3434e-02, -4.7263e-02,  1.4058e-02, -5.3741e-03,\n",
            "         -2.5609e-03, -6.5224e-02,  9.4246e-02,  7.2137e-02, -6.6115e-02,\n",
            "         -4.8836e-02, -7.4161e-03, -6.0177e-02,  9.8807e-02,  3.5925e-02,\n",
            "          8.1105e-02, -1.7739e-02,  7.4218e-03, -3.9191e-03,  8.1187e-02,\n",
            "         -3.1300e-02,  1.5983e-02, -5.6594e-02,  1.0782e-01, -6.2609e-03,\n",
            "         -1.2054e-02,  5.0254e-02,  1.8777e-03, -8.8537e-02, -8.2071e-02,\n",
            "          5.2537e-02, -2.6356e-02, -6.9439e-02,  8.7358e-04, -1.4275e-02,\n",
            "          1.2937e-02,  1.4530e-02, -6.3724e-02,  3.4402e-02,  6.4784e-02,\n",
            "          1.3456e-02, -2.0606e-02, -2.9015e-02,  3.0999e-03, -4.2788e-02,\n",
            "          3.3341e-02,  2.0936e-02, -4.4362e-02,  5.9987e-02,  2.3095e-02,\n",
            "         -2.8313e-02,  1.6195e-02,  4.1959e-02, -2.5236e-02, -4.9491e-03,\n",
            "         -8.0854e-02, -1.3128e-02,  3.6948e-03, -1.6632e-02,  2.3755e-02,\n",
            "         -3.9550e-02,  5.1978e-02,  4.7304e-02,  2.9316e-02, -3.0687e-02,\n",
            "         -8.7810e-03,  9.3227e-02,  4.5167e-02,  1.3591e-02,  4.1202e-03,\n",
            "          8.5750e-02,  2.7964e-02,  2.3947e-02, -7.1643e-02,  3.8357e-02,\n",
            "         -6.0230e-02,  1.7934e-03,  6.9051e-03,  4.9256e-02, -7.2782e-02,\n",
            "         -4.6831e-02,  4.3311e-02,  7.7803e-02,  2.6021e-02,  2.8760e-02,\n",
            "         -6.7981e-02, -3.4558e-04, -5.5652e-02, -9.7852e-02, -2.1894e-02,\n",
            "          4.4701e-02,  9.2236e-03,  2.2934e-02, -5.7307e-02,  1.4149e-02,\n",
            "          3.4341e-02, -3.8167e-02,  5.3241e-02,  1.1715e-02, -3.7041e-03,\n",
            "          4.9393e-02, -1.0494e-01, -8.1419e-02, -2.7244e-02,  2.9705e-02,\n",
            "          2.2973e-03,  1.7831e-02, -2.2524e-02,  5.3425e-03,  3.1363e-02,\n",
            "          2.8451e-02, -6.8922e-02,  7.8367e-03, -6.9465e-02, -9.9357e-02,\n",
            "          5.0347e-02, -8.5788e-02, -2.9359e-02,  7.5962e-03,  4.5454e-02,\n",
            "         -5.6056e-02, -6.6380e-02,  4.9634e-02, -5.6862e-02, -4.8932e-04,\n",
            "         -2.5070e-02,  7.1597e-02, -4.6681e-02, -5.1226e-02, -5.3426e-02,\n",
            "          5.9725e-02, -8.7451e-02,  6.7735e-02,  3.6445e-03,  7.7838e-03,\n",
            "          1.4068e-02,  1.4263e-02,  1.3768e-02,  3.7130e-02,  2.6356e-02,\n",
            "         -7.4607e-02, -9.6671e-02, -4.8105e-02,  2.1691e-02, -2.5850e-02,\n",
            "         -3.6163e-02,  6.7358e-03, -2.7432e-02, -6.6521e-02, -2.7069e-02,\n",
            "         -4.5472e-02,  4.4445e-02, -3.3350e-02, -6.1434e-02, -1.1436e-01,\n",
            "         -3.4098e-02, -6.8204e-02,  4.5655e-02,  3.6533e-02,  7.9347e-02,\n",
            "          5.1964e-02,  1.9105e-02, -4.0747e-02, -2.1109e-02,  8.7173e-03,\n",
            "          7.1643e-02,  7.0143e-03,  6.6304e-02, -1.4626e-02, -5.3408e-02,\n",
            "          2.1399e-02,  8.3892e-02,  1.7434e-02, -2.6971e-02, -2.3167e-02,\n",
            "         -3.0647e-02,  2.4707e-02, -1.2267e-03, -9.3701e-03, -9.5339e-02,\n",
            "          9.3973e-02,  3.8775e-02,  4.9102e-02, -4.3889e-02,  4.1661e-02,\n",
            "         -6.6008e-02, -6.9119e-02, -2.0094e-02, -2.3489e-02,  6.5323e-02,\n",
            "         -9.9872e-03,  5.0394e-02,  3.6753e-02, -1.5187e-02,  1.2271e-02,\n",
            "          6.0861e-02, -4.8097e-02,  3.0338e-02, -4.4688e-02, -3.7185e-02,\n",
            "          1.8460e-02, -3.6543e-02,  7.0391e-02,  1.8630e-02, -2.6934e-02,\n",
            "         -2.1187e-05, -6.0391e-03, -1.7687e-02, -7.0796e-02, -2.3130e-02,\n",
            "          7.3722e-02, -5.8151e-03,  9.3173e-03,  2.6034e-02, -6.7920e-02,\n",
            "         -6.5721e-02, -4.7743e-03,  2.3466e-02,  5.0727e-02,  4.1024e-02,\n",
            "         -1.3589e-02,  5.3106e-04, -1.0753e-02,  2.2380e-02,  5.2296e-03,\n",
            "         -8.9014e-03, -5.0456e-02,  6.9862e-02,  6.2835e-02,  2.2810e-03,\n",
            "         -3.7720e-02, -5.9355e-02, -4.2251e-02, -3.3942e-03, -2.4285e-02,\n",
            "         -4.7337e-02, -5.8073e-02,  5.4205e-03,  4.0964e-02,  2.4690e-02,\n",
            "          5.5555e-02, -1.5933e-02,  3.4659e-02,  5.3199e-02,  8.0675e-02,\n",
            "          4.8998e-02, -5.4762e-02,  5.1187e-03,  8.8204e-02, -8.2242e-02,\n",
            "         -2.6800e-03,  4.1164e-03, -6.7606e-02,  5.4045e-02,  1.3541e-02,\n",
            "         -6.0029e-03, -7.2878e-04],\n",
            "        [ 5.8699e-02,  8.7522e-02,  7.5353e-02, -1.5777e-02, -5.7455e-02,\n",
            "          5.9486e-02, -3.9807e-02, -6.7816e-02, -6.9077e-02,  9.9141e-02,\n",
            "         -3.6104e-03, -1.5424e-02,  6.5113e-02,  1.0735e-01,  2.8394e-02,\n",
            "          1.1342e-01,  1.0402e-01,  5.0607e-02, -3.7395e-02,  3.8136e-02,\n",
            "         -4.8614e-02, -8.0880e-02, -1.1621e-01,  3.5504e-02, -1.2919e-02,\n",
            "          1.0261e-01, -6.5089e-04, -1.5292e-02,  1.3341e-01, -1.2389e-01,\n",
            "         -3.5728e-02,  7.7962e-03,  4.1079e-02,  9.0255e-02,  1.3488e-01,\n",
            "          3.3312e-02,  1.0984e-01,  4.1248e-02,  5.7634e-02,  4.5911e-02,\n",
            "          7.0316e-02,  1.0286e-01,  4.7068e-02, -1.0745e-01,  5.2708e-03,\n",
            "          3.9748e-03, -9.5253e-03,  6.9450e-02, -5.3094e-02,  2.6471e-02,\n",
            "         -6.9404e-02,  1.2481e-01,  1.9116e-02,  3.6893e-02,  9.9737e-02,\n",
            "         -6.3114e-02, -4.1862e-03,  1.4841e-01, -9.4797e-03,  5.0306e-02,\n",
            "          1.3498e-01,  8.4083e-02, -9.6179e-02, -1.5399e-01,  2.1649e-02,\n",
            "          8.7683e-02, -7.1622e-03,  5.6818e-02, -4.9422e-02, -1.2629e-01,\n",
            "         -1.1165e-01, -3.2481e-02, -1.0841e-01, -5.2535e-03, -6.3025e-02,\n",
            "          6.5480e-02,  3.4865e-02,  5.7909e-02,  2.5572e-02, -1.8959e-02,\n",
            "         -9.4207e-03,  6.7096e-02, -8.1675e-02,  6.6288e-02,  2.5752e-02,\n",
            "          1.1947e-02, -3.9677e-02,  1.1574e-01, -9.1343e-03,  4.6923e-02,\n",
            "          1.8414e-02, -3.6465e-02, -1.6559e-02, -2.3737e-02,  7.3919e-02,\n",
            "          3.2488e-02, -2.6109e-03,  1.1532e-02,  1.2538e-02, -3.7898e-02,\n",
            "         -1.5238e-02,  1.5035e-01,  9.4010e-02,  8.8890e-02,  4.4557e-02,\n",
            "         -6.6191e-02,  6.2859e-02,  8.2335e-02,  7.2224e-02,  8.6761e-03,\n",
            "          5.2198e-02, -1.7257e-02,  2.5169e-02,  7.6518e-02,  9.6874e-02,\n",
            "          7.6130e-02, -4.3465e-02,  1.3199e-02, -8.0516e-03, -2.1181e-02,\n",
            "          4.2136e-02, -5.2784e-02, -9.7429e-02, -5.3978e-03, -3.4127e-02,\n",
            "         -8.5112e-02, -1.0085e-01, -9.0254e-03,  1.1370e-01, -9.8092e-02,\n",
            "          6.4543e-02,  9.1757e-02,  6.3980e-02, -4.5093e-02,  1.8717e-02,\n",
            "         -1.7551e-02, -1.1901e-01, -3.3735e-02,  4.0005e-02,  5.0181e-02,\n",
            "          4.2279e-02, -1.1810e-02,  3.0432e-02,  2.9744e-02,  3.5231e-02,\n",
            "         -2.8715e-02,  1.5861e-02, -1.0055e-01,  5.0484e-02, -3.0921e-02,\n",
            "         -3.4143e-02, -5.4071e-02, -3.6383e-03,  2.9196e-02, -5.9765e-02,\n",
            "         -9.0931e-02,  8.5364e-02, -5.2140e-02,  1.0538e-01,  3.5975e-02,\n",
            "         -7.9281e-02,  5.9346e-03,  1.2175e-01,  3.8130e-03, -8.3606e-02,\n",
            "          6.9252e-02,  1.0708e-01,  7.1009e-02,  7.9221e-02,  7.6731e-02,\n",
            "         -1.2684e-01,  4.6050e-02,  3.9349e-02, -8.6084e-02, -5.7613e-02,\n",
            "         -8.1688e-02,  7.9009e-02, -9.4018e-02, -1.1153e-01,  7.2532e-02,\n",
            "         -3.4066e-02, -1.3058e-01,  1.8536e-02,  9.5367e-02, -9.9488e-02,\n",
            "          9.4365e-03,  2.6049e-02,  7.4333e-02,  5.7033e-02,  1.2509e-01,\n",
            "         -9.1835e-02,  1.2137e-02, -1.2355e-02, -1.1707e-02, -1.9283e-02,\n",
            "          1.5642e-01,  7.1381e-02, -3.4207e-02,  6.4893e-02,  7.8979e-02,\n",
            "          1.4359e-02,  2.8998e-02,  5.5667e-02,  3.0473e-02, -7.2315e-02,\n",
            "          1.0061e-01, -7.2091e-02, -8.8156e-03,  2.7108e-02, -2.3409e-02,\n",
            "          7.2063e-02,  8.5255e-03,  1.8848e-03,  7.6776e-03, -3.2083e-03,\n",
            "         -6.3539e-02, -6.6107e-02,  4.6815e-02, -3.8661e-02,  9.5295e-02,\n",
            "         -4.0467e-02, -5.2874e-03, -5.0346e-02,  2.9883e-02,  8.3832e-02,\n",
            "         -1.3431e-02, -7.5735e-02, -4.8290e-02,  1.0969e-01,  5.5282e-02,\n",
            "          2.3275e-02, -1.5390e-01,  5.4149e-02,  1.5726e-02,  7.7371e-02,\n",
            "         -9.0647e-02, -2.0947e-02, -4.1386e-02, -9.4798e-03, -1.0921e-01,\n",
            "         -6.5497e-02,  1.1781e-01, -3.0895e-03,  3.4375e-02, -8.3498e-02,\n",
            "         -1.5856e-02,  4.2663e-02, -5.2527e-02,  1.2938e-02, -1.9185e-03,\n",
            "         -1.3172e-01, -6.4059e-02, -7.3851e-02,  4.2200e-02,  2.6382e-02,\n",
            "          9.2980e-02, -5.6107e-02,  1.7515e-02,  6.3842e-02,  1.8078e-02,\n",
            "          1.7092e-02, -8.6551e-02, -4.3972e-02, -9.6474e-03, -9.6069e-02,\n",
            "          2.0271e-02,  5.4554e-02, -7.3890e-02, -1.0905e-01,  4.4880e-02,\n",
            "          5.2127e-02,  1.4741e-01,  7.1186e-02,  4.2472e-02, -9.6538e-02,\n",
            "          3.2231e-02, -6.7451e-02,  5.4894e-03,  1.0243e-01, -1.0063e-01,\n",
            "          2.1384e-02,  2.5994e-02, -2.9623e-02, -1.0861e-01, -2.4219e-02,\n",
            "          4.5717e-02,  3.1304e-02,  1.3340e-01,  3.2046e-02,  6.3210e-02,\n",
            "          1.9354e-02,  9.6298e-02,  1.9318e-02,  3.7756e-02, -2.6000e-02,\n",
            "         -4.3002e-03, -8.0658e-02, -6.9527e-04, -2.0360e-02,  2.4218e-02,\n",
            "          2.2079e-02, -3.9958e-02,  1.3704e-01, -1.0982e-01,  3.1164e-02,\n",
            "         -8.0276e-03, -4.0273e-02, -1.0861e-01, -7.1006e-02,  5.1622e-02,\n",
            "          7.7444e-02,  1.0115e-01],\n",
            "        [ 7.6746e-02, -6.3072e-02,  1.2082e-02,  6.2457e-02, -6.6608e-02,\n",
            "         -6.5215e-04,  5.8203e-02, -3.8487e-02,  1.0808e-01, -5.0810e-02,\n",
            "         -4.4232e-02, -3.2972e-02,  2.7758e-02, -5.0552e-02,  6.4797e-04,\n",
            "          7.9246e-02, -1.8756e-02, -8.3837e-02, -1.6703e-02, -2.1105e-02,\n",
            "         -4.9448e-02, -9.6757e-03, -4.3431e-02,  8.8337e-02,  1.3737e-02,\n",
            "          2.8906e-02,  4.6302e-02,  6.0269e-02,  1.7687e-02,  7.7757e-02,\n",
            "          2.4906e-02,  6.6064e-02,  5.3405e-02,  1.4292e-02,  3.9195e-02,\n",
            "          2.2319e-02,  1.1237e-02, -1.1174e-01, -1.0724e-02,  3.9618e-03,\n",
            "         -8.9508e-02,  4.9435e-02,  9.5498e-03,  4.6399e-02,  9.7781e-02,\n",
            "          8.7197e-02,  6.3607e-02,  2.8747e-02,  1.1777e-01,  8.8280e-02,\n",
            "          3.8447e-02, -8.4251e-02,  1.0684e-01,  1.6858e-02,  2.1842e-02,\n",
            "          4.6963e-02, -2.3862e-02, -6.9952e-03,  2.9130e-02, -7.3543e-02,\n",
            "         -4.6159e-02,  1.7423e-02,  4.2749e-03, -6.5021e-02,  9.0455e-02,\n",
            "         -2.3614e-02, -1.5317e-02,  4.1099e-02, -2.9993e-02, -4.8802e-04,\n",
            "         -3.5607e-02,  6.6581e-02, -1.9753e-02, -3.6934e-03, -5.6048e-02,\n",
            "          2.3001e-02, -7.2160e-02,  1.3189e-02,  8.7339e-03, -1.4410e-01,\n",
            "         -6.7316e-02, -1.7296e-02,  1.0759e-02,  1.4456e-02, -7.4062e-02,\n",
            "          2.0909e-02,  9.0222e-02,  5.1695e-02, -2.5476e-02, -4.3774e-02,\n",
            "          2.1456e-02, -2.1816e-02,  4.3824e-02,  9.2213e-03, -3.8557e-02,\n",
            "         -4.8533e-02,  3.0397e-02, -8.5333e-02,  3.4439e-02, -5.9139e-02,\n",
            "         -1.2358e-01, -3.0511e-02, -7.2732e-02, -2.8503e-02, -8.9429e-02,\n",
            "          2.8056e-02,  9.2746e-02, -8.7403e-02, -2.8032e-02,  3.1376e-02,\n",
            "         -8.7656e-02,  4.4055e-02,  8.2555e-02,  1.7246e-02, -1.0638e-02,\n",
            "          2.3396e-02, -8.7649e-02,  1.4958e-01, -4.3869e-02,  9.9433e-02,\n",
            "         -2.8215e-03, -2.3435e-02, -3.3961e-02,  4.2929e-02,  7.8367e-02,\n",
            "         -1.1162e-01,  3.8129e-02,  7.3226e-02,  7.1947e-02, -9.7100e-02,\n",
            "         -3.1353e-02,  1.3995e-02,  8.5598e-02,  9.1856e-02, -7.7268e-02,\n",
            "          5.7178e-02,  1.6232e-02,  1.1571e-02, -3.5272e-02, -5.9911e-02,\n",
            "         -5.8053e-02, -1.8406e-02,  2.9474e-02,  5.3999e-02, -9.2607e-02,\n",
            "         -6.1154e-02, -2.8351e-02,  1.7466e-02,  7.7864e-02,  8.1737e-02,\n",
            "         -5.6538e-02, -2.9794e-02,  4.1455e-02,  2.4081e-02,  6.4393e-02,\n",
            "         -4.8753e-02,  9.9600e-03,  1.1922e-02, -4.5930e-02,  2.5523e-04,\n",
            "         -3.6927e-03, -2.8406e-02,  4.0549e-02,  5.2175e-02, -3.3111e-03,\n",
            "         -2.5208e-02,  6.0655e-02, -1.8914e-02, -1.8292e-02, -6.7811e-02,\n",
            "         -4.2725e-02,  4.6050e-02, -1.4264e-02,  5.6168e-02,  7.4184e-03,\n",
            "          6.1663e-02, -2.6200e-02,  1.5372e-02,  4.4495e-02, -8.1833e-03,\n",
            "         -8.8900e-02, -4.5906e-02, -3.6345e-02,  6.7515e-02,  5.1010e-02,\n",
            "          4.4299e-02, -1.1164e-01, -5.1165e-02, -6.6690e-02, -2.0741e-02,\n",
            "          7.7541e-03, -2.7125e-02,  3.9765e-02, -4.7089e-02,  1.2316e-01,\n",
            "          5.0762e-02, -5.7742e-02,  7.4051e-02, -7.0697e-02, -3.2634e-03,\n",
            "          5.8869e-03,  9.2252e-02,  5.3903e-03, -2.7620e-02, -3.2356e-03,\n",
            "         -8.7088e-02,  7.8184e-02,  4.1168e-02,  2.3635e-02,  4.4523e-02,\n",
            "         -2.7970e-02, -3.4767e-03, -5.5963e-02,  2.9071e-02, -2.5173e-02,\n",
            "          1.3489e-02, -2.0366e-02,  1.8882e-02,  5.0664e-02, -6.2944e-02,\n",
            "          3.6800e-02,  2.4616e-02, -2.0335e-02,  6.6261e-03,  8.5253e-02,\n",
            "         -5.6959e-03, -1.8467e-02, -4.6429e-02,  4.9710e-03, -2.2352e-02,\n",
            "          5.6934e-02,  2.0500e-02,  6.5210e-02, -8.3356e-02, -7.6629e-02,\n",
            "         -7.0480e-02, -9.6759e-02, -7.4091e-02,  1.5889e-02, -3.4363e-02,\n",
            "          8.2989e-02, -8.3640e-02, -1.0320e-01,  1.7111e-02, -6.5930e-02,\n",
            "         -1.8717e-03, -3.4480e-03, -2.9128e-03, -1.8281e-03, -5.1775e-03,\n",
            "         -2.0553e-02,  6.1033e-02, -3.8873e-02,  3.0392e-02,  1.1502e-02,\n",
            "         -6.3033e-02, -3.3562e-02, -8.1661e-03, -7.7141e-03, -8.3674e-02,\n",
            "          4.7056e-02, -3.5324e-02, -6.9154e-02,  2.0308e-02, -3.1079e-02,\n",
            "          2.4693e-02, -1.1665e-02,  5.7131e-02,  6.7805e-02,  6.9632e-02,\n",
            "          2.6626e-02,  7.1555e-02,  4.6617e-02,  6.0789e-04,  2.3918e-02,\n",
            "          9.3583e-02, -2.4963e-02,  9.4817e-03, -6.7845e-02,  6.3875e-02,\n",
            "         -1.6641e-02,  1.0169e-01,  1.4310e-02,  2.1741e-02,  2.7680e-02,\n",
            "         -3.7816e-02,  4.1997e-03,  1.1362e-02, -3.3433e-02, -1.5803e-03,\n",
            "          5.7750e-02, -6.6713e-02, -9.1399e-02, -7.6929e-02,  2.8597e-02,\n",
            "         -9.5222e-02,  7.5884e-02, -1.1720e-01,  3.6231e-02, -5.6082e-03,\n",
            "         -5.8523e-03, -8.3997e-03,  5.1866e-03, -6.8153e-02,  1.9984e-02,\n",
            "         -1.9610e-02,  5.4854e-03,  5.7759e-02,  5.3892e-02,  2.4571e-02,\n",
            "          3.5933e-02, -1.0825e-01]], device='cuda:0', grad_fn=<SliceBackward0>)\n",
            "tensor([-0.0772,  0.0542, -0.0473], device='cuda:0', grad_fn=<SliceBackward0>)\n",
            "tensor([-0.0362,  0.0825,  0.0221], device='cuda:0', grad_fn=<SliceBackward0>)\n",
            "tensor([[-6.3203e-02,  1.5587e-03, -5.2975e-02, -2.7347e-02,  8.1233e-02,\n",
            "          5.0412e-02, -1.8633e-02,  4.8908e-02,  7.8949e-02,  6.0699e-02,\n",
            "         -7.7408e-02,  4.1033e-02, -7.1749e-02, -3.2063e-02, -1.6425e-02,\n",
            "         -7.2927e-02, -8.5902e-02, -5.8615e-02, -6.7067e-02, -5.8328e-02,\n",
            "          3.9468e-02,  5.5152e-03,  1.3099e-01, -4.2575e-02,  2.0737e-02,\n",
            "          4.8546e-02,  4.5265e-02,  2.8323e-02,  1.7035e-02,  1.0807e-01,\n",
            "         -8.4520e-02, -8.7531e-02,  1.5593e-02, -2.8987e-03, -8.6277e-02,\n",
            "          3.8816e-02, -2.7923e-02, -8.5813e-02,  3.4258e-02,  3.4832e-02,\n",
            "          3.1285e-02,  5.5084e-04,  3.0622e-02,  7.8500e-02, -3.5610e-02,\n",
            "         -2.4371e-02, -5.3591e-02,  1.1175e-01,  5.9354e-02, -2.8074e-02,\n",
            "          4.4003e-02,  9.4614e-02,  1.1767e-01, -4.5183e-02,  5.7938e-02,\n",
            "          3.6983e-02, -7.7759e-02,  7.4801e-03,  2.0431e-02,  7.8768e-02,\n",
            "         -7.9300e-02, -1.1643e-01,  2.9386e-02,  4.0580e-02, -2.7006e-03,\n",
            "         -5.8961e-02,  4.4794e-02, -4.5824e-03,  1.3217e-01, -5.0231e-02,\n",
            "          1.4568e-02, -4.3903e-02,  1.1397e-01,  4.3181e-02,  1.1151e-01,\n",
            "         -8.6408e-03, -7.7336e-02,  7.0585e-02,  3.8523e-02, -6.6905e-02,\n",
            "          2.2513e-02,  4.1097e-02,  1.1468e-01,  6.0946e-02, -6.4012e-02,\n",
            "          6.1066e-02,  2.3179e-02, -7.6606e-02, -3.0305e-02,  4.7640e-02,\n",
            "         -6.8334e-03,  3.5040e-03,  7.7701e-02,  3.2882e-02,  5.9183e-02,\n",
            "          4.0066e-02,  1.3092e-02, -1.9539e-03, -4.4461e-02, -1.0970e-01,\n",
            "          2.0058e-03, -5.4024e-03,  2.3895e-02,  1.7296e-03,  4.6826e-03,\n",
            "          5.6745e-02, -5.1594e-03,  2.6418e-02,  9.8249e-02,  8.0826e-02,\n",
            "         -6.5941e-02,  1.1526e-01,  4.9741e-02,  7.8962e-02,  6.0627e-02,\n",
            "          2.8677e-02,  8.6170e-02,  2.4562e-02, -1.9665e-03,  2.6252e-02,\n",
            "          7.1526e-02,  6.1521e-02,  1.4726e-01,  8.5570e-02, -3.1768e-02,\n",
            "          9.2502e-02, -7.1096e-02,  1.5473e-03,  3.9242e-02,  7.8856e-02,\n",
            "         -6.6766e-02, -4.5262e-02,  9.5441e-02, -4.6798e-02, -1.4117e-01,\n",
            "         -5.0947e-02,  3.1689e-02, -3.7696e-02, -2.9615e-02,  6.5305e-02,\n",
            "         -3.4597e-03, -1.3166e-02,  3.9065e-03, -2.1043e-02, -1.6613e-01,\n",
            "          1.5462e-02,  5.4364e-02,  6.1666e-02, -1.0496e-01,  9.1089e-05,\n",
            "          5.9065e-03,  3.0603e-03,  1.1558e-02, -2.6613e-02,  1.2536e-01,\n",
            "         -1.2448e-02, -8.8413e-02, -6.5434e-02,  5.7829e-02,  2.4376e-02,\n",
            "         -3.8939e-02, -3.1933e-02, -4.7940e-02, -9.5755e-02,  5.5349e-02,\n",
            "         -2.4445e-02,  3.7230e-02, -1.6879e-02, -9.6667e-02, -7.6920e-03,\n",
            "          1.2135e-01, -7.1937e-02, -4.7222e-03, -5.8600e-02, -8.0590e-03,\n",
            "          2.9995e-03,  4.6257e-02,  7.1636e-02, -2.3918e-02, -2.8248e-02,\n",
            "          1.9805e-02,  1.0434e-01, -6.2489e-02, -8.7918e-02, -4.2390e-04,\n",
            "          2.6819e-02, -9.8052e-02,  8.2963e-02, -3.5636e-02,  3.8711e-02,\n",
            "          1.0171e-01, -1.0608e-02,  6.9797e-02,  6.9651e-04,  5.1781e-02,\n",
            "         -5.5898e-02, -1.2383e-01,  1.0545e-02,  2.8660e-02,  1.4415e-02,\n",
            "         -7.7428e-03,  5.7890e-02,  1.6778e-02,  4.1571e-03,  3.2687e-02,\n",
            "         -5.7221e-02,  5.3092e-02,  4.3138e-02,  4.8202e-03, -2.1736e-02,\n",
            "         -6.2605e-03, -7.6593e-03,  1.8072e-02, -5.8618e-02,  4.7005e-02,\n",
            "          1.9280e-02, -7.5536e-04, -1.2927e-03, -3.3239e-02, -1.5124e-01,\n",
            "          1.2868e-01,  5.7578e-02,  3.9308e-02,  1.8244e-02, -5.3714e-02,\n",
            "         -6.6289e-02, -3.4528e-03, -1.5347e-02, -6.9122e-02,  5.9894e-02,\n",
            "         -1.3883e-01,  4.9734e-02, -1.5689e-02, -9.5174e-02, -9.1271e-02,\n",
            "          1.1996e-01,  2.7704e-02, -1.0075e-01, -4.7483e-02,  1.1441e-01,\n",
            "         -3.3533e-02,  2.1145e-02, -1.6856e-02,  2.9748e-03,  6.4552e-02,\n",
            "          2.2175e-02, -4.3113e-02,  7.4749e-02,  5.0200e-02,  5.7340e-02,\n",
            "          1.7203e-02, -2.3962e-02,  6.1073e-02, -1.8526e-02,  5.6608e-02,\n",
            "          4.1988e-02, -1.9622e-02,  6.1746e-02, -8.3787e-03, -5.8350e-02,\n",
            "         -3.5525e-02, -5.0367e-03,  2.0209e-02,  1.8808e-02, -1.3871e-02,\n",
            "          2.6599e-02,  4.4590e-02,  3.9115e-03,  4.1516e-02,  2.0823e-02,\n",
            "         -3.1397e-02, -1.2608e-01, -8.7906e-02,  5.8519e-02, -2.7544e-02,\n",
            "         -1.8247e-02, -2.9959e-03, -9.1920e-02, -1.5370e-02,  1.1547e-01,\n",
            "         -5.9412e-02, -5.0288e-02,  1.6783e-02,  4.4744e-02,  1.4540e-02,\n",
            "          3.2755e-02, -1.0034e-01, -1.5529e-01,  5.5444e-02, -5.5497e-02,\n",
            "          1.2352e-03, -9.3351e-02, -8.4042e-02, -7.0991e-02, -2.2921e-02,\n",
            "          1.7760e-02,  1.2009e-01,  1.5719e-02,  8.0301e-02,  3.3015e-03,\n",
            "          3.7420e-02,  3.6447e-02,  5.8880e-02, -3.2875e-02,  1.0492e-02,\n",
            "         -3.8112e-02, -3.3786e-02, -2.9275e-02, -2.7687e-02, -3.5396e-03,\n",
            "          2.5586e-02, -3.2593e-02],\n",
            "        [ 3.5947e-02, -7.8924e-02, -2.5293e-02,  4.5504e-02, -3.2719e-02,\n",
            "          1.2436e-02, -3.8307e-02, -1.0906e-01,  9.8263e-02, -2.1392e-02,\n",
            "         -5.8636e-02,  2.1647e-02,  1.6200e-02,  3.8118e-02,  1.7376e-02,\n",
            "         -3.3687e-02, -4.9189e-02,  1.5146e-02,  3.7831e-02, -1.0929e-03,\n",
            "         -1.5610e-02,  5.5779e-02, -1.6930e-03,  2.2355e-02, -1.4791e-02,\n",
            "         -1.6475e-02, -2.2963e-02,  2.1582e-02, -7.4509e-02,  1.4952e-02,\n",
            "          7.8995e-03,  3.3010e-02,  3.6954e-02, -2.0719e-02, -2.8139e-02,\n",
            "         -6.3179e-03,  1.6569e-02, -8.1949e-02, -9.5833e-03,  1.7458e-02,\n",
            "         -3.0279e-02,  4.7932e-02, -3.9175e-03, -1.9154e-02,  9.6532e-03,\n",
            "         -9.2158e-03, -2.9698e-02,  2.9993e-02,  5.8147e-02,  4.5613e-04,\n",
            "         -5.9293e-03,  3.5402e-02,  8.6258e-02, -1.6191e-02, -7.0069e-02,\n",
            "          5.6270e-02,  2.5024e-02,  1.1555e-02, -3.8148e-03, -2.0441e-02,\n",
            "          1.4792e-02, -2.4466e-02,  6.8204e-03,  1.6419e-02, -2.4999e-02,\n",
            "         -9.9323e-02, -1.7041e-02, -7.5820e-03, -1.0806e-02, -1.3714e-02,\n",
            "          2.1693e-02,  1.4916e-03,  4.5684e-02, -2.4552e-02,  5.6181e-02,\n",
            "         -5.9728e-02, -9.1087e-02,  2.1902e-02, -6.3320e-02, -2.9310e-03,\n",
            "         -5.7227e-02, -8.1240e-03,  7.7293e-02,  7.0234e-02,  1.1848e-02,\n",
            "         -2.2029e-02,  4.2140e-03,  1.8154e-02, -1.0266e-02, -7.9973e-02,\n",
            "         -5.7318e-02, -2.5432e-02,  5.9572e-03, -1.9804e-02,  9.2576e-03,\n",
            "          8.0865e-03, -4.0276e-03,  1.5703e-02, -3.3813e-02,  7.9795e-03,\n",
            "          8.0367e-03, -7.0750e-02,  3.1507e-02, -6.0573e-02, -4.2351e-02,\n",
            "          2.4702e-02, -1.9442e-02, -2.8185e-02,  1.0956e-02, -4.5205e-02,\n",
            "         -2.4991e-02,  5.4566e-02,  6.4793e-02, -3.8600e-03, -6.6844e-02,\n",
            "         -3.0983e-02, -7.0515e-02,  5.2624e-02, -6.5733e-03,  2.8571e-02,\n",
            "         -1.3274e-02, -2.5774e-02,  3.6295e-02,  5.7750e-02,  3.1671e-02,\n",
            "          2.5097e-02, -6.8502e-04, -1.7059e-02, -8.1380e-03, -5.1388e-02,\n",
            "          1.4481e-02, -3.0015e-02,  2.7905e-02,  1.9065e-02, -1.3047e-01,\n",
            "         -1.9406e-03, -3.8656e-02, -1.1265e-02,  1.1472e-02,  1.4546e-02,\n",
            "          2.2258e-02,  2.2016e-02, -1.8148e-02,  1.6201e-03, -7.5642e-02,\n",
            "         -4.8287e-02,  4.4168e-02,  3.1134e-02, -3.6788e-03,  1.4810e-02,\n",
            "         -2.4096e-02,  6.3319e-02, -2.5850e-02,  1.6752e-02,  3.3844e-02,\n",
            "         -2.9949e-02, -2.2317e-02,  2.4276e-02,  2.1647e-03, -2.7455e-02,\n",
            "          4.5718e-02, -5.7215e-02, -3.0388e-02,  1.4691e-02, -7.8193e-02,\n",
            "          2.7769e-02,  4.0066e-02, -6.6754e-04,  4.6478e-03,  1.9181e-03,\n",
            "          8.0124e-02,  7.7029e-02, -3.9635e-02, -3.1380e-02, -8.7198e-03,\n",
            "         -3.3084e-03,  2.2500e-03, -2.6503e-02,  8.2805e-03, -8.4659e-02,\n",
            "          4.4033e-02,  1.3392e-02, -6.3192e-02,  7.7757e-02,  4.0521e-02,\n",
            "          2.2543e-02, -4.5800e-02,  3.0840e-02, -7.1627e-02, -3.5708e-02,\n",
            "         -1.0774e-02, -4.2558e-02,  3.0630e-02, -4.2924e-02, -1.5834e-02,\n",
            "         -7.9835e-02, -5.6383e-02,  3.6041e-02,  1.2403e-03,  3.9235e-02,\n",
            "         -3.5647e-02,  3.7265e-02, -3.3273e-02,  1.7047e-02,  4.7015e-03,\n",
            "         -2.6384e-02, -4.3014e-02,  4.6602e-02,  5.4908e-02, -9.2983e-03,\n",
            "         -5.4938e-02,  2.5128e-02, -7.1903e-02, -2.2367e-02,  1.0962e-02,\n",
            "         -1.9373e-02,  1.2120e-02, -6.2442e-02, -2.6079e-02,  7.6750e-03,\n",
            "         -8.2440e-03, -3.6194e-03,  4.0006e-02,  1.1219e-02,  1.0252e-02,\n",
            "         -4.4755e-02,  8.8016e-04, -1.3047e-02,  6.1766e-02, -4.8602e-02,\n",
            "          1.2881e-02,  4.4824e-02, -5.0772e-02, -1.2681e-02,  9.8174e-03,\n",
            "         -9.6948e-03,  3.4996e-02,  3.8055e-02, -1.1963e-02, -8.9385e-03,\n",
            "          3.5908e-02, -1.4020e-02, -5.8006e-03,  1.3867e-02, -3.1012e-02,\n",
            "          1.8279e-02,  1.4857e-02,  3.6523e-02, -4.2649e-02,  3.2089e-02,\n",
            "          6.9240e-02, -7.2661e-03, -1.6549e-03,  1.8262e-03, -3.5435e-02,\n",
            "          2.7195e-02,  1.1082e-03, -3.6625e-02, -6.9259e-02, -8.2569e-02,\n",
            "          4.5707e-02, -1.9211e-02, -6.5865e-02,  2.3255e-02, -5.2539e-02,\n",
            "          4.6777e-02,  5.4043e-02, -1.4578e-02,  1.8686e-02, -2.3734e-02,\n",
            "          8.2047e-02,  2.0500e-02, -9.3090e-03, -6.3577e-02, -1.0528e-02,\n",
            "         -4.0517e-02,  4.6342e-02, -5.3734e-02, -2.7245e-02, -4.6595e-03,\n",
            "          2.3573e-02,  1.4173e-02,  4.4638e-02, -4.8505e-04, -5.3743e-02,\n",
            "          1.7756e-02, -5.8002e-02,  1.0520e-02, -3.5154e-02, -4.4227e-02,\n",
            "          7.9247e-02,  1.6948e-02,  2.8189e-02,  3.3589e-02, -5.6373e-02,\n",
            "         -1.1923e-02,  6.1143e-02, -6.3032e-02, -3.1798e-02, -5.2485e-02,\n",
            "          3.4788e-02,  2.8539e-02, -2.0159e-02,  2.9474e-03,  4.5180e-02,\n",
            "         -1.0523e-02, -2.4736e-02, -3.1317e-02, -1.9255e-03, -9.4649e-03,\n",
            "         -5.5339e-02,  2.5741e-04],\n",
            "        [-3.7258e-02, -6.8948e-02, -3.2834e-02,  5.6375e-02, -1.8037e-03,\n",
            "         -1.3775e-02, -5.2952e-02,  1.7268e-03, -6.2952e-03, -3.4418e-02,\n",
            "         -6.9919e-02, -2.9689e-03, -4.0008e-02,  3.6603e-02, -3.4584e-02,\n",
            "         -6.4277e-02, -8.9073e-02, -9.2107e-03,  3.8630e-02, -4.8471e-03,\n",
            "          3.9737e-02,  2.2948e-02,  5.6871e-02, -5.5971e-02,  4.0358e-02,\n",
            "          5.3085e-02,  1.9572e-02, -2.5726e-02, -1.2005e-01,  3.3110e-02,\n",
            "          5.1742e-02, -8.9265e-02, -3.5067e-03,  5.3760e-02, -2.1366e-02,\n",
            "         -1.5874e-02, -2.6712e-02, -2.2848e-02, -2.3378e-02, -6.1017e-02,\n",
            "         -9.1507e-02, -5.4617e-03, -7.5232e-03,  3.7192e-02,  4.5269e-02,\n",
            "         -1.9203e-02, -3.3960e-02,  4.6189e-03,  7.4533e-02,  4.2967e-02,\n",
            "          3.9927e-02, -6.6869e-02, -2.3346e-02, -8.3184e-02,  5.3750e-02,\n",
            "          1.5656e-02, -4.7781e-02, -1.6137e-02, -1.0145e-02,  3.5973e-02,\n",
            "         -7.0357e-02, -1.1206e-02,  8.2714e-02, -6.7193e-03,  5.6866e-02,\n",
            "          1.4882e-02,  7.2235e-02, -6.9360e-02,  1.8717e-02,  4.3311e-02,\n",
            "          3.0017e-02, -1.6949e-02, -5.8929e-04, -6.2699e-03,  4.3694e-02,\n",
            "         -1.7446e-02, -6.1970e-02,  4.2424e-02,  4.8469e-02, -2.0908e-02,\n",
            "         -3.0807e-02,  6.2168e-02,  5.3810e-02,  2.6038e-02,  2.0019e-02,\n",
            "          8.8983e-03,  7.8506e-02, -5.9853e-02, -8.2457e-02, -8.9430e-03,\n",
            "          2.5727e-02,  2.4941e-02,  3.7288e-02,  4.4766e-02,  5.0676e-04,\n",
            "         -5.2404e-02,  6.9278e-02, -3.5878e-03, -3.1193e-02, -2.1961e-02,\n",
            "          2.8470e-02, -7.4744e-02,  3.2088e-02,  4.0181e-02, -3.4170e-03,\n",
            "          7.4103e-02,  1.7574e-02, -2.2105e-02,  2.1806e-02, -3.0057e-02,\n",
            "          1.0189e-02, -5.6980e-02,  2.9546e-02, -1.2342e-02,  2.5787e-02,\n",
            "         -4.5996e-02,  4.3221e-02,  6.3486e-03,  1.8822e-02, -2.2153e-02,\n",
            "         -6.6764e-02,  9.3141e-02,  2.9768e-04, -2.0415e-03, -6.8770e-03,\n",
            "          2.9154e-03,  4.4683e-02, -1.3303e-02,  2.1832e-02,  4.8741e-02,\n",
            "          8.6737e-03, -5.5595e-02,  6.0870e-03, -1.3920e-02, -1.2643e-02,\n",
            "          4.4290e-02,  1.0935e-01, -4.5054e-02,  4.4691e-02,  4.1314e-04,\n",
            "         -5.2436e-02, -1.4554e-02, -4.7197e-02, -4.5900e-02,  2.1778e-02,\n",
            "          3.4469e-02,  3.5754e-02,  6.8005e-03, -6.6244e-02,  3.3507e-02,\n",
            "          1.1028e-02, -1.4916e-02,  4.2578e-02,  2.6448e-02,  2.8248e-02,\n",
            "          7.9444e-02,  2.2357e-02,  1.4054e-02, -3.9515e-02, -1.5446e-02,\n",
            "          8.2793e-03, -1.3856e-04, -3.5985e-03,  4.2456e-02, -4.6791e-02,\n",
            "         -1.1826e-02,  5.4953e-02, -1.9453e-02, -8.7782e-02,  5.6446e-04,\n",
            "          9.9780e-02, -5.9658e-02, -3.7261e-02,  4.8288e-02,  1.6820e-02,\n",
            "         -3.0222e-02,  1.9175e-02, -1.5170e-02, -5.0830e-02, -7.1484e-02,\n",
            "         -3.2136e-02, -7.5060e-03,  3.8388e-03,  1.0833e-02, -3.4263e-02,\n",
            "          6.3520e-03, -2.0154e-02,  3.1972e-02, -5.9108e-02,  2.7536e-02,\n",
            "          7.8646e-02,  2.0747e-02, -2.5012e-02, -4.0599e-02, -1.2502e-02,\n",
            "         -3.2258e-02, -4.9739e-02,  1.5398e-02, -4.3713e-02,  6.8111e-03,\n",
            "         -3.4509e-02, -3.6522e-02, -4.7127e-02,  2.1629e-02, -4.7710e-02,\n",
            "         -9.1694e-02,  2.2917e-02,  2.4114e-02, -4.8749e-02, -1.5710e-02,\n",
            "         -3.2349e-02, -8.7964e-03, -2.2316e-02,  7.2969e-02,  3.5390e-03,\n",
            "          7.1949e-02,  4.7930e-02, -4.9822e-02, -3.6954e-04, -3.0736e-02,\n",
            "          8.8996e-02, -1.6612e-02, -1.1963e-02, -2.2807e-02, -1.3507e-01,\n",
            "         -5.2343e-03,  3.0146e-02, -1.3716e-02, -2.4498e-02, -2.0379e-02,\n",
            "         -9.9699e-02,  8.2577e-02,  1.8438e-02, -6.7914e-02, -1.2062e-02,\n",
            "         -3.3665e-02, -6.7693e-02, -3.5223e-02,  5.2096e-02,  3.0084e-02,\n",
            "          5.2913e-02,  2.4417e-02, -1.0094e-02, -6.8775e-03,  7.7225e-02,\n",
            "         -1.6965e-02, -1.5619e-02,  8.8480e-03,  7.9876e-03, -6.1305e-02,\n",
            "          5.5595e-02,  4.5969e-02,  3.5840e-03,  7.0144e-02, -5.2146e-02,\n",
            "         -5.9910e-02,  4.3003e-02, -1.5752e-02,  3.4654e-02,  3.2526e-02,\n",
            "          3.8521e-02,  1.9138e-02,  2.9102e-02,  5.3451e-02, -7.2706e-02,\n",
            "         -3.6852e-02, -1.2069e-02, -1.8232e-02,  2.5492e-02,  1.6714e-02,\n",
            "          3.9153e-02, -4.4464e-02, -5.8202e-02,  3.7966e-02,  1.2268e-02,\n",
            "         -2.0013e-03,  1.2378e-02, -1.7862e-02, -6.9978e-02,  1.7995e-02,\n",
            "          2.5571e-03, -2.2511e-02,  4.9705e-02,  2.2776e-02, -2.9110e-02,\n",
            "         -7.5148e-02, -7.8856e-02, -7.4744e-02,  1.8041e-02, -3.4467e-02,\n",
            "         -2.0763e-02, -2.1296e-03, -2.4541e-02, -4.1797e-02,  5.3580e-02,\n",
            "         -4.1779e-02,  2.0987e-02, -3.2700e-02,  8.5239e-02, -8.4564e-02,\n",
            "          3.8621e-02, -4.1816e-02, -4.8169e-02,  2.8181e-02,  6.0197e-02,\n",
            "          3.8049e-02, -4.3714e-02, -1.2322e-02, -4.7633e-03, -5.8565e-02,\n",
            "         -3.6063e-02, -1.2207e-01]], device='cuda:0', grad_fn=<SliceBackward0>)\n",
            "tensor([[ 3.7621e-03,  1.1142e-01, -3.6493e-02, -4.4735e-02, -3.1314e-02,\n",
            "          5.6286e-02,  2.3977e-02, -1.0216e-01,  1.2211e-01,  2.5595e-02,\n",
            "         -3.9644e-02, -5.0383e-02, -2.6594e-02, -6.3361e-02, -1.2654e-02,\n",
            "         -8.8533e-02, -6.1748e-03,  1.0021e-02,  6.8480e-02, -4.6248e-03,\n",
            "         -4.3312e-02,  4.4169e-02,  1.4182e-03,  4.7651e-02, -8.6492e-02,\n",
            "          5.8855e-02,  1.9786e-03, -5.8450e-03, -8.6122e-02,  7.9880e-03,\n",
            "          6.2235e-02, -2.6284e-03,  5.0943e-02,  6.8096e-02,  8.7160e-03,\n",
            "         -4.0971e-02, -6.7160e-02, -3.9291e-02, -7.8977e-03,  6.3708e-02,\n",
            "         -3.5835e-02,  7.7102e-02, -6.0310e-02, -6.0096e-03,  2.1073e-02,\n",
            "          4.9818e-02, -1.1528e-01,  4.6520e-02,  3.4937e-02, -7.8190e-02,\n",
            "          2.9451e-02,  1.7089e-02, -4.4945e-02,  4.3927e-02, -9.3286e-02,\n",
            "          7.5302e-02, -3.2753e-02,  3.6005e-02,  2.0498e-02, -5.2844e-02,\n",
            "         -3.4769e-02, -3.8890e-02,  6.2984e-02,  1.4872e-02, -4.4567e-02,\n",
            "         -3.7965e-02,  2.0165e-02, -4.0497e-03,  2.3866e-02,  1.1628e-01,\n",
            "         -2.7821e-02,  3.9250e-02, -4.6331e-02,  1.2333e-02, -7.8345e-03,\n",
            "         -2.5701e-02, -7.0430e-02, -4.0232e-02,  4.5420e-02, -1.3461e-02,\n",
            "         -5.9773e-04,  6.0466e-02,  8.8096e-03, -1.4767e-02,  2.5480e-02,\n",
            "         -3.0164e-02,  4.8231e-02, -5.1022e-02,  3.0260e-02,  2.3164e-02,\n",
            "         -7.2208e-02, -3.6012e-02, -4.3105e-03, -1.0491e-01, -5.2703e-02,\n",
            "          8.4737e-02, -1.1820e-02, -3.2132e-02, -4.6429e-02, -8.3689e-02,\n",
            "         -1.4687e-02,  4.0136e-02,  1.1893e-02,  2.0838e-02,  3.1774e-02,\n",
            "         -1.3196e-02, -4.8013e-02, -3.3023e-02,  5.9852e-02,  2.3879e-02,\n",
            "          5.2235e-02, -6.7830e-03,  7.6776e-02,  3.9737e-02,  2.2800e-04,\n",
            "         -4.3072e-02,  1.8082e-02, -5.5762e-02, -8.0724e-02,  5.1879e-02,\n",
            "          9.9496e-02, -6.6110e-03, -5.9697e-02, -6.8526e-02, -7.1025e-02,\n",
            "         -2.5975e-02,  2.1389e-02, -5.5356e-03, -1.7894e-02,  9.3461e-02,\n",
            "          3.1777e-02,  1.6459e-02,  3.8559e-03,  7.9153e-02,  6.4150e-02,\n",
            "          9.1743e-02,  8.6105e-02,  1.3973e-02,  9.5346e-02,  7.3957e-02,\n",
            "         -5.0300e-02,  1.1857e-01, -9.6506e-03, -6.4108e-02,  4.5489e-02,\n",
            "          2.8599e-02,  8.1759e-02, -1.9003e-02, -2.6696e-02,  1.2385e-02,\n",
            "         -2.6325e-02,  4.7711e-02,  4.8270e-02,  7.2143e-02, -4.8881e-02,\n",
            "         -8.0875e-02, -1.0306e-01,  2.4914e-02,  9.4900e-03,  1.3057e-02,\n",
            "          1.4704e-02, -4.1788e-02, -6.2456e-03, -1.8007e-02, -7.1811e-03,\n",
            "          6.2301e-03, -1.8245e-02,  1.9091e-02,  4.1114e-02, -6.1640e-02,\n",
            "         -2.3808e-02,  1.4878e-02,  2.6140e-02,  3.1544e-02, -5.3409e-02,\n",
            "         -2.9105e-02,  4.4082e-02,  5.9879e-02,  2.7060e-02,  7.1475e-02,\n",
            "         -9.0693e-02, -2.9698e-02,  3.3378e-02,  7.6367e-02,  4.4141e-02,\n",
            "          6.5422e-03,  1.8021e-02,  9.6923e-02, -2.6835e-02, -1.8089e-02,\n",
            "         -4.5019e-02,  5.4742e-02,  8.9979e-02, -2.0251e-02, -2.1345e-02,\n",
            "         -2.4465e-02,  3.7529e-02, -2.7040e-02, -2.1865e-02, -8.8543e-02,\n",
            "          1.4630e-02, -7.6459e-02,  4.7559e-02,  5.6620e-02,  7.3202e-02,\n",
            "         -4.1557e-02, -2.0560e-03, -5.5779e-02,  8.2734e-02, -1.6456e-02,\n",
            "         -2.9951e-02, -7.4893e-03, -3.5734e-02, -1.3316e-02, -5.3761e-02,\n",
            "          1.7304e-02, -3.1427e-02, -5.9614e-02,  3.6077e-02, -1.9671e-02,\n",
            "          3.1083e-02, -5.8096e-02,  4.4409e-02, -1.1022e-02,  1.3227e-02,\n",
            "         -3.9857e-02,  2.6325e-03, -9.5241e-03,  3.0262e-02,  1.0476e-01,\n",
            "          2.7652e-02,  8.0931e-03,  1.7360e-02, -1.1173e-02, -3.5520e-02,\n",
            "          2.0948e-02, -5.0956e-02, -4.8300e-02, -2.9293e-02, -3.4931e-02,\n",
            "          8.7664e-02, -1.1688e-03, -4.3096e-02,  9.9227e-02,  1.4152e-02,\n",
            "          7.4851e-02, -2.5960e-02, -1.6634e-02, -7.0872e-02, -2.9477e-02,\n",
            "         -2.0295e-02,  7.1739e-04, -1.6456e-02,  9.1461e-03,  6.2874e-02,\n",
            "         -3.0074e-02, -1.5116e-02, -2.4589e-02, -2.8517e-02, -3.2575e-02,\n",
            "          3.3114e-02, -1.0161e-01, -6.8974e-03, -1.8871e-02,  2.4587e-02,\n",
            "         -1.3486e-02, -1.5639e-02,  9.7166e-02,  1.4002e-02, -1.5226e-02,\n",
            "         -8.9591e-03,  2.0695e-02,  2.7732e-02,  4.5714e-02,  3.6962e-02,\n",
            "         -1.1971e-02, -5.2462e-03, -5.9241e-02, -4.1011e-02, -1.7524e-02,\n",
            "          3.0511e-02, -4.6310e-02, -3.5454e-02, -4.5085e-02,  5.9366e-04,\n",
            "          4.4195e-02, -6.7383e-02, -9.5493e-03, -3.0921e-02,  4.0255e-02,\n",
            "         -4.4047e-02, -9.3517e-02,  3.0353e-02, -1.3662e-02,  4.5011e-02,\n",
            "          5.4607e-02,  8.7115e-03, -9.7831e-04,  4.3277e-02,  3.9248e-02,\n",
            "         -2.5236e-02, -3.8499e-04,  4.2093e-02,  5.2537e-02,  1.5690e-02,\n",
            "          5.9384e-02, -7.9093e-02, -2.5477e-02, -5.9095e-02,  1.0778e-01,\n",
            "          1.2229e-02,  1.7827e-02],\n",
            "        [ 4.3965e-02,  2.6791e-02,  4.4256e-02,  5.2860e-02, -3.0940e-02,\n",
            "         -5.0892e-02,  2.3782e-02, -9.0977e-02,  1.0788e-02, -4.7415e-02,\n",
            "          2.0587e-02, -6.2229e-02,  1.9032e-02, -2.5196e-02, -5.1319e-02,\n",
            "          2.9099e-02, -4.8169e-02,  2.0783e-02, -2.6608e-02,  6.1873e-03,\n",
            "         -1.3474e-03,  4.8248e-02,  5.9515e-02, -4.5388e-03, -9.7720e-03,\n",
            "          8.1448e-03,  1.1388e-02, -1.9473e-02, -2.6982e-02, -1.3082e-02,\n",
            "          6.9275e-03, -1.1864e-02,  2.0009e-02, -4.5139e-02, -3.8524e-02,\n",
            "         -7.0878e-02,  3.3043e-02,  3.1977e-02, -2.8345e-02,  4.7240e-02,\n",
            "         -2.1328e-02,  3.8064e-05,  5.7375e-02, -3.8032e-02, -6.1288e-02,\n",
            "          3.8797e-02, -4.5558e-02, -8.2616e-02, -8.8491e-03, -4.0478e-02,\n",
            "          2.8997e-02,  4.4459e-02,  1.1428e-02,  7.3915e-02, -2.8026e-02,\n",
            "         -2.9616e-02,  5.2115e-02,  5.7327e-02, -1.9741e-02,  2.9765e-02,\n",
            "          2.4881e-02, -3.3934e-02, -4.3493e-03, -6.0186e-03,  2.2848e-02,\n",
            "         -9.2291e-03, -2.4129e-02, -1.6539e-02,  3.0300e-02, -1.5006e-02,\n",
            "         -7.9101e-03, -1.2201e-02, -9.0789e-03, -3.4471e-02,  1.2326e-02,\n",
            "          1.1076e-02,  2.4265e-02,  1.6737e-03, -1.5507e-02,  7.8929e-02,\n",
            "         -1.2481e-02, -4.3560e-02, -1.7913e-02,  7.0946e-02,  2.6661e-02,\n",
            "          1.3405e-02,  3.3373e-02, -3.7182e-02, -1.7201e-03, -4.6166e-02,\n",
            "         -3.0796e-02, -7.4068e-02, -5.3563e-02, -1.0366e-01, -3.4078e-02,\n",
            "         -7.3846e-03, -1.1156e-02,  8.2582e-03, -7.5887e-02,  1.2799e-02,\n",
            "         -2.3553e-03,  2.8128e-02,  2.5442e-03,  8.7558e-03,  3.4003e-02,\n",
            "         -7.8087e-03, -3.3194e-02, -1.1407e-02,  1.7496e-02,  7.0719e-02,\n",
            "          5.6738e-02, -4.4344e-02,  2.2384e-02,  4.6992e-02, -6.3463e-03,\n",
            "          1.2988e-02,  3.6564e-02,  1.4372e-02,  4.4908e-02, -7.4909e-02,\n",
            "          5.1929e-02, -1.2643e-03, -6.2550e-03, -2.9184e-02, -6.0277e-05,\n",
            "         -6.2688e-03, -5.0915e-02,  2.1188e-02, -6.6698e-02, -3.1032e-02,\n",
            "          3.1876e-02, -6.4293e-02,  3.4817e-02,  1.9720e-02, -4.1720e-02,\n",
            "          1.5920e-02,  7.7158e-03,  3.4626e-02,  2.7222e-02,  3.2146e-02,\n",
            "         -2.4104e-02,  1.7357e-02, -1.3450e-02, -8.5628e-02,  1.8677e-02,\n",
            "         -1.9054e-02,  5.9572e-03, -2.9109e-04,  1.0465e-02,  2.2995e-02,\n",
            "         -3.3768e-03,  1.1006e-02,  6.4749e-02,  2.7814e-02,  1.7944e-02,\n",
            "         -2.7968e-02,  7.8128e-04,  5.1437e-02, -3.5413e-02,  1.3495e-02,\n",
            "          6.6957e-03,  1.7851e-03,  2.5167e-02, -4.8814e-03,  4.5174e-02,\n",
            "          2.3291e-03,  4.9853e-02, -2.3091e-02,  2.2820e-02,  1.0383e-05,\n",
            "         -6.5107e-03, -4.2880e-02,  3.6233e-02,  2.9259e-02, -4.5797e-02,\n",
            "          3.9037e-02, -4.1491e-02,  1.2630e-03, -6.3542e-02,  4.0117e-02,\n",
            "          3.0654e-02, -2.8386e-02, -4.1643e-02,  6.7580e-02,  3.4442e-02,\n",
            "          4.8311e-02,  3.8943e-02,  6.4924e-02, -7.0989e-02,  5.7060e-02,\n",
            "         -2.9085e-02,  2.8816e-02,  7.9629e-03,  3.2149e-02,  9.0329e-03,\n",
            "         -6.9186e-03, -5.2350e-02,  4.2904e-02,  3.1540e-02,  5.7313e-02,\n",
            "          2.4380e-02,  2.1033e-02,  6.3953e-02,  1.2925e-02, -3.0809e-02,\n",
            "          5.7384e-02, -3.9014e-02, -7.2681e-03, -3.2699e-02,  1.4833e-02,\n",
            "         -7.1508e-02,  4.4012e-02, -6.2091e-02, -5.6714e-02,  1.9565e-02,\n",
            "          1.9536e-02, -1.8700e-02, -1.3581e-02,  5.6105e-02, -6.7770e-03,\n",
            "          1.8069e-02,  4.4793e-04,  2.6546e-02, -6.3359e-02, -4.4161e-02,\n",
            "         -4.7910e-02, -3.6433e-02,  9.6481e-03, -9.8385e-03,  3.1309e-02,\n",
            "         -4.9858e-02, -5.2562e-02, -1.8600e-02,  4.1546e-02, -3.5483e-02,\n",
            "          1.8201e-03, -2.5748e-02, -2.1463e-02,  6.1546e-02,  5.8590e-02,\n",
            "          2.0734e-02,  2.7328e-02,  1.2370e-02,  1.9977e-02, -3.7345e-02,\n",
            "          5.3505e-02, -4.0776e-02,  2.4973e-02,  2.2136e-02,  4.5352e-02,\n",
            "         -5.3176e-02, -4.6887e-02,  2.2410e-02,  6.1668e-02,  1.2339e-02,\n",
            "         -3.0340e-02, -9.9164e-02,  9.5694e-03,  6.4221e-02,  2.8825e-02,\n",
            "          4.5369e-02,  2.6663e-02, -3.0915e-02, -1.6625e-02,  1.7453e-02,\n",
            "         -3.4303e-03, -3.0650e-02,  2.9329e-02, -1.4009e-02,  6.3094e-02,\n",
            "         -6.6014e-02,  3.2569e-02, -1.9480e-02, -5.7256e-02,  2.2502e-02,\n",
            "         -1.9716e-02,  1.9345e-02,  1.9363e-02,  2.8532e-02, -4.4163e-02,\n",
            "          1.5707e-02,  1.9525e-02, -2.2141e-02, -4.4829e-03,  3.9603e-02,\n",
            "          1.0582e-02,  3.9698e-02,  1.1331e-02, -4.2674e-02, -5.5209e-02,\n",
            "          1.9810e-02, -2.3208e-03, -1.3399e-02, -1.7061e-02, -1.2511e-02,\n",
            "         -1.2228e-02, -1.2834e-02, -2.9572e-02, -2.7668e-02, -4.7014e-02,\n",
            "          4.7636e-02, -4.8589e-02,  2.4366e-02, -4.4503e-02,  6.0973e-02,\n",
            "         -5.7490e-02, -4.7024e-02, -2.1718e-02,  5.5350e-02,  5.0758e-02,\n",
            "         -4.7443e-02, -1.6678e-02],\n",
            "        [ 6.9096e-02, -2.9571e-02, -3.3140e-02, -8.3287e-05, -6.8967e-02,\n",
            "          8.0556e-03, -2.5506e-02,  3.3532e-02,  9.2799e-02,  4.9081e-02,\n",
            "          1.7568e-02, -2.0798e-02, -2.3681e-02,  4.5687e-02,  5.0719e-02,\n",
            "          5.9501e-02,  1.2163e-03,  3.1770e-02,  3.0546e-02, -4.0228e-02,\n",
            "         -4.2663e-02, -1.8845e-02, -1.5477e-02, -3.2607e-03,  2.4523e-02,\n",
            "          1.0138e-02,  1.7333e-02,  1.1697e-02, -1.9011e-02,  3.1840e-02,\n",
            "         -4.4881e-02,  6.0857e-03,  3.3653e-02,  2.8749e-02,  9.7594e-02,\n",
            "          2.1398e-02,  2.5055e-03,  2.1468e-02,  4.5046e-02,  2.6512e-02,\n",
            "          3.9024e-02, -4.7520e-03, -3.3001e-02,  2.2588e-02, -4.5887e-02,\n",
            "         -4.9918e-02, -3.5666e-02, -1.0811e-02,  9.9145e-03, -4.2159e-02,\n",
            "          2.4539e-02, -2.9089e-02,  2.3941e-03, -1.1984e-02, -3.1097e-02,\n",
            "         -5.1854e-02, -1.1082e-02, -6.6328e-03, -1.2253e-02, -3.0959e-02,\n",
            "          3.4758e-02, -6.7956e-02,  1.3865e-02,  1.8306e-02,  2.5695e-02,\n",
            "          2.7442e-02,  6.9841e-02,  1.7016e-02,  1.0173e-02,  1.0787e-01,\n",
            "          6.4967e-02, -1.0787e-02, -1.0749e-03,  2.1815e-02,  1.6112e-02,\n",
            "         -9.7815e-04, -4.4282e-03, -2.0881e-02, -4.7890e-02,  5.7656e-02,\n",
            "          2.7929e-02, -4.7787e-02, -4.5044e-02,  2.9991e-02,  7.3334e-03,\n",
            "          2.1371e-02,  2.0050e-02,  3.2627e-02, -1.1229e-03,  1.7845e-02,\n",
            "          5.9025e-02, -6.4447e-02,  6.3050e-03, -1.2484e-01,  4.9008e-02,\n",
            "          1.8360e-02,  2.9708e-02,  1.8223e-02,  3.1504e-02, -5.9946e-02,\n",
            "          7.0217e-02,  2.8018e-02, -1.5075e-03,  6.1708e-02, -3.7045e-02,\n",
            "          4.3346e-02, -3.1117e-02,  3.2926e-05, -2.9609e-02,  5.0571e-02,\n",
            "          5.6936e-02,  6.6682e-02, -5.9508e-02,  5.2227e-02, -9.2107e-03,\n",
            "          2.4638e-02, -2.8587e-02,  5.9821e-02,  4.3644e-02,  5.8318e-02,\n",
            "          4.2774e-03,  9.1658e-03, -4.5339e-02,  5.1860e-02,  1.9958e-02,\n",
            "          5.5853e-02,  3.8706e-02,  1.8044e-02, -3.0097e-02,  7.1739e-02,\n",
            "         -5.1133e-02,  3.9605e-02,  5.9146e-02,  2.7509e-02,  2.0590e-02,\n",
            "          2.3674e-02,  4.9529e-02,  2.7661e-02, -8.3581e-02,  9.8553e-02,\n",
            "         -3.5355e-02, -4.0220e-02, -3.5210e-02,  2.4686e-02,  4.8203e-02,\n",
            "         -5.0358e-03,  1.2574e-02, -3.2761e-02, -6.5591e-02,  4.8224e-02,\n",
            "          3.8297e-02,  4.8158e-03,  4.7579e-02, -3.1884e-02, -3.6749e-02,\n",
            "          2.0808e-02, -2.7805e-03,  5.0550e-02,  1.8484e-02,  2.7370e-02,\n",
            "         -2.4348e-02, -7.8316e-02,  2.0580e-02,  7.2593e-04, -7.9242e-03,\n",
            "         -1.3861e-02,  3.6659e-02,  1.7707e-02,  1.3811e-02,  1.6333e-02,\n",
            "         -1.7698e-02,  5.7128e-02,  5.2168e-02,  1.1757e-02, -4.1123e-02,\n",
            "          3.1248e-02,  1.5736e-02,  4.7128e-02, -1.3242e-02,  1.8215e-02,\n",
            "          1.1680e-02, -2.6788e-02,  5.1592e-02,  4.4499e-02, -1.7990e-02,\n",
            "          4.3175e-02,  1.0579e-02, -3.0872e-02, -1.0881e-02, -1.2310e-02,\n",
            "          5.4592e-02, -9.1675e-04, -1.3407e-02, -3.1330e-02,  3.5483e-02,\n",
            "         -2.3909e-02, -4.2691e-02, -9.7600e-03,  4.7245e-02, -3.1130e-02,\n",
            "         -4.5048e-02, -7.0084e-02,  4.6017e-02,  1.5489e-02,  3.2230e-02,\n",
            "          8.8225e-03,  4.3753e-02,  5.0042e-02,  9.6730e-04,  2.7178e-02,\n",
            "         -2.1159e-02, -6.1790e-02,  4.6526e-02, -1.3041e-02,  3.3249e-02,\n",
            "         -2.3182e-02,  5.2961e-03, -6.0188e-02,  4.4569e-03,  1.6997e-02,\n",
            "          3.4240e-02,  1.5806e-02,  3.0795e-02,  2.0668e-02, -3.6305e-02,\n",
            "         -7.2991e-02, -3.5266e-02, -6.1071e-03,  9.6466e-03, -2.5562e-02,\n",
            "          6.7467e-03, -3.3609e-02, -3.3252e-02, -3.0834e-02, -2.3819e-02,\n",
            "         -2.5624e-02,  2.5743e-02,  1.2201e-02,  1.5052e-02,  2.7010e-02,\n",
            "         -4.1367e-02,  1.6835e-02,  4.7302e-02, -4.4303e-02,  3.8808e-02,\n",
            "         -1.7290e-02, -6.0734e-04, -4.2815e-03, -3.2158e-02, -2.0997e-02,\n",
            "         -4.5668e-02,  2.9166e-02, -3.7714e-02, -9.2574e-03,  3.5136e-02,\n",
            "          7.6726e-02, -6.9822e-02, -1.1088e-01, -2.2193e-02, -3.7543e-02,\n",
            "         -5.7673e-02, -9.2999e-02, -2.5903e-02, -4.5285e-03, -3.2525e-02,\n",
            "          3.8884e-02,  6.4547e-02, -3.7626e-02, -6.4859e-02, -4.3803e-02,\n",
            "         -2.0520e-02, -1.2072e-02,  4.9836e-02, -8.6838e-03, -6.0898e-02,\n",
            "         -5.1280e-02,  6.5477e-02,  3.8385e-02,  3.0803e-03,  3.6766e-02,\n",
            "          4.4992e-02, -1.8343e-02, -1.7740e-02,  1.4571e-02, -1.8117e-02,\n",
            "          4.9382e-02,  1.7403e-02,  2.8452e-02,  1.0395e-02, -3.4191e-02,\n",
            "          1.3351e-02, -1.3005e-01, -1.5168e-02, -4.7765e-02, -2.8125e-02,\n",
            "          7.2466e-02,  5.4833e-02, -4.8979e-02, -5.0640e-03,  4.2859e-02,\n",
            "         -9.2286e-03, -6.3401e-02, -5.1568e-04, -6.9881e-02, -7.1010e-02,\n",
            "         -7.7916e-03, -6.3672e-02,  2.4018e-03,  3.2757e-04,  4.3867e-02,\n",
            "          4.1970e-02, -5.9595e-02]], device='cuda:0', grad_fn=<SliceBackward0>)\n",
            "tensor([0.0236, 0.0196, 0.0019], device='cuda:0', grad_fn=<SliceBackward0>)\n",
            "tensor([ 0.0561, -0.0559, -0.0329], device='cuda:0', grad_fn=<SliceBackward0>)\n",
            "tensor([[ 0.0812, -0.0068,  0.0044,  0.0435, -0.0205,  0.0192,  0.0385, -0.0217,\n",
            "          0.0753,  0.0377,  0.0905,  0.0076,  0.0631,  0.0907,  0.0210,  0.0059,\n",
            "          0.0102, -0.0074, -0.0149,  0.0128, -0.0062, -0.0085, -0.0685, -0.0016,\n",
            "          0.0211, -0.0191, -0.0194, -0.0021, -0.0078, -0.0486, -0.0479, -0.0390,\n",
            "          0.0552, -0.0043,  0.0337, -0.0629,  0.0109, -0.0080,  0.0683, -0.0552,\n",
            "          0.0307, -0.0095,  0.0424, -0.0542, -0.0057, -0.0085, -0.0111,  0.0830,\n",
            "          0.0002, -0.0257,  0.0343,  0.0133,  0.0369, -0.0276, -0.0499, -0.0457,\n",
            "          0.0183, -0.0386, -0.0350,  0.0023,  0.0748,  0.0158,  0.0295,  0.0297,\n",
            "          0.0017,  0.0021,  0.0039, -0.0023, -0.0059,  0.0284,  0.0631,  0.0708,\n",
            "          0.0281,  0.0344, -0.0123, -0.0250,  0.0770, -0.0343,  0.0282,  0.0463,\n",
            "         -0.0005,  0.0543,  0.0417, -0.0121,  0.1042,  0.0661, -0.0085,  0.0566,\n",
            "          0.0169,  0.0571,  0.0975,  0.0452, -0.0607,  0.0229, -0.0082,  0.0095,\n",
            "          0.0187, -0.0673, -0.0134, -0.0400,  0.0520,  0.0107, -0.0129,  0.0772,\n",
            "          0.0187, -0.0137, -0.0884, -0.0809,  0.0106,  0.0214,  0.0082,  0.0829,\n",
            "          0.0412,  0.0359, -0.0304,  0.0015, -0.0121,  0.0727, -0.0628, -0.0327,\n",
            "         -0.0491, -0.0212,  0.0432,  0.0863, -0.0034,  0.0547,  0.0387,  0.0249,\n",
            "          0.0152,  0.1031, -0.0247,  0.0331, -0.0016, -0.0485,  0.0166, -0.0721,\n",
            "         -0.0220,  0.0872,  0.0841,  0.0387, -0.0400,  0.0034, -0.0207,  0.0486,\n",
            "         -0.0305,  0.0309,  0.0101,  0.0361, -0.0252,  0.0122,  0.0555,  0.0466,\n",
            "         -0.0203, -0.0443, -0.0414,  0.0042, -0.0142, -0.0056,  0.0130,  0.0139,\n",
            "         -0.0266, -0.0402, -0.0262, -0.0116, -0.0169, -0.0242, -0.0375, -0.0691,\n",
            "         -0.0300,  0.0226,  0.0397, -0.0379,  0.0641, -0.0358, -0.0891,  0.0647,\n",
            "         -0.0476,  0.0585, -0.0237, -0.0231,  0.0649,  0.0093,  0.0084,  0.0054,\n",
            "         -0.0327, -0.0278, -0.0896,  0.0233,  0.0243, -0.0168,  0.0288,  0.0673,\n",
            "         -0.0914,  0.0373,  0.0451,  0.0409, -0.0590,  0.0453,  0.0926, -0.0432,\n",
            "          0.0218, -0.0992, -0.0086,  0.0676,  0.0220,  0.1000, -0.0179,  0.0020,\n",
            "          0.0397,  0.0422, -0.0312,  0.0273, -0.0179,  0.0106, -0.0162, -0.0175,\n",
            "          0.0313,  0.0358,  0.0785,  0.0136,  0.0524, -0.0088, -0.0241,  0.0604,\n",
            "          0.0293, -0.0415, -0.0084, -0.0700, -0.0900,  0.0458,  0.0264, -0.0325,\n",
            "          0.0482, -0.0068, -0.0007, -0.0915, -0.0380,  0.0122,  0.0051,  0.0524,\n",
            "         -0.0237, -0.0342,  0.0594,  0.0164,  0.0332, -0.0584,  0.0244,  0.0807,\n",
            "          0.0445,  0.0109, -0.0519,  0.0832,  0.0654, -0.0045,  0.0325,  0.0886,\n",
            "         -0.0266, -0.0297, -0.0748, -0.0026,  0.0350, -0.1292, -0.0289, -0.0389,\n",
            "          0.0240, -0.0583,  0.0452, -0.0201, -0.0831,  0.0482,  0.0475, -0.0110,\n",
            "          0.0903, -0.0114, -0.0711,  0.0256, -0.0357, -0.0528,  0.0251, -0.0223,\n",
            "          0.0473, -0.0901,  0.0016,  0.0109,  0.0755, -0.0260, -0.0076,  0.0116,\n",
            "          0.0219, -0.0257, -0.0033, -0.0167, -0.0414, -0.0718, -0.0479, -0.0192,\n",
            "         -0.0187, -0.0179,  0.0031, -0.0363,  0.0664, -0.0385,  0.0073, -0.0777,\n",
            "         -0.0290, -0.0147, -0.0009,  0.0470,  0.0151,  0.0631,  0.0988, -0.0120],\n",
            "        [ 0.0275, -0.0176, -0.0046, -0.0184,  0.0644,  0.0211, -0.0271, -0.0370,\n",
            "         -0.0449,  0.0320, -0.0275, -0.0237,  0.0466, -0.0579,  0.0077,  0.0315,\n",
            "         -0.0381,  0.0176,  0.0027,  0.0032, -0.0464,  0.0488,  0.0086,  0.0228,\n",
            "         -0.0485, -0.0389, -0.0247,  0.0338,  0.0454,  0.0450,  0.0031,  0.0335,\n",
            "          0.0474, -0.0225, -0.0191, -0.0085,  0.0626,  0.0300, -0.0364, -0.0075,\n",
            "          0.0284,  0.0192,  0.0154,  0.0711,  0.0221,  0.0331, -0.0290, -0.0317,\n",
            "         -0.0502, -0.0456,  0.0283,  0.0154, -0.0428,  0.0377, -0.0403,  0.0525,\n",
            "          0.0116, -0.0467,  0.0606,  0.0380, -0.0253, -0.0092, -0.0281, -0.0086,\n",
            "          0.0208,  0.0232,  0.0333,  0.0065,  0.0176, -0.0681, -0.0521, -0.0527,\n",
            "         -0.0311, -0.0361,  0.0115, -0.0660, -0.0594, -0.0063,  0.0462, -0.0059,\n",
            "          0.0636,  0.0074, -0.0197, -0.0546,  0.0248, -0.0218, -0.0915,  0.0581,\n",
            "          0.0360,  0.0408,  0.0583,  0.0410, -0.0178, -0.0396, -0.0458,  0.0315,\n",
            "          0.0213,  0.0071, -0.0515, -0.0295, -0.0373,  0.0038, -0.0605,  0.0235,\n",
            "         -0.0214,  0.0635, -0.0302, -0.0040,  0.0463,  0.0234, -0.0371, -0.0414,\n",
            "         -0.0319, -0.0410,  0.0215, -0.0680,  0.0219,  0.0394,  0.0053,  0.0254,\n",
            "          0.0207, -0.0348, -0.0506, -0.0395,  0.0037, -0.0191,  0.0554,  0.0226,\n",
            "         -0.0017, -0.0209, -0.0391, -0.0019,  0.0046,  0.0020,  0.0150, -0.0249,\n",
            "         -0.0271,  0.0124,  0.0023,  0.0339, -0.0724,  0.0345,  0.0031, -0.0218,\n",
            "         -0.0210,  0.0464,  0.0084, -0.0192, -0.0393, -0.0352,  0.0088, -0.0087,\n",
            "          0.0575, -0.0006, -0.0310,  0.0614,  0.0231,  0.0067,  0.0122, -0.0081,\n",
            "         -0.0728, -0.0573, -0.0216, -0.0376,  0.0092, -0.0011, -0.0221,  0.0755,\n",
            "          0.0477, -0.0114,  0.0154,  0.0088, -0.0579,  0.0295,  0.0146, -0.0361,\n",
            "          0.0127,  0.0624, -0.0037,  0.0411, -0.0084,  0.0107, -0.0223, -0.0392,\n",
            "          0.0113, -0.0533,  0.0037, -0.0509, -0.0515,  0.0401,  0.0426,  0.0129,\n",
            "          0.0381,  0.0349,  0.0021, -0.0558,  0.0395,  0.0195, -0.0378,  0.0513,\n",
            "          0.0154,  0.0233, -0.0221, -0.0004,  0.0692,  0.0100,  0.0613,  0.0033,\n",
            "         -0.0178,  0.0281, -0.0429, -0.0607,  0.0886, -0.0122,  0.0252,  0.0178,\n",
            "         -0.0387, -0.0024, -0.0119, -0.0583, -0.0366, -0.0551,  0.0404, -0.0545,\n",
            "         -0.0334,  0.0590,  0.0351,  0.0017,  0.0234,  0.0081, -0.0521,  0.0487,\n",
            "          0.0290, -0.0206, -0.0412, -0.0142, -0.0026,  0.0275, -0.0108,  0.0352,\n",
            "          0.0115, -0.0402, -0.0387,  0.0520, -0.0521, -0.0006,  0.0172, -0.0211,\n",
            "         -0.0419,  0.0319, -0.0315, -0.0506,  0.0504, -0.0465,  0.0482, -0.0125,\n",
            "         -0.0355, -0.0031,  0.0048,  0.0342, -0.0086, -0.0167,  0.0032, -0.0333,\n",
            "         -0.0258, -0.0432, -0.0584,  0.0453, -0.0331,  0.0290,  0.0761,  0.0056,\n",
            "          0.0097,  0.0520, -0.0016,  0.0448, -0.0400,  0.0469, -0.0472,  0.0414,\n",
            "          0.0276,  0.0538,  0.0296,  0.0288, -0.0539, -0.0601,  0.0306,  0.0434,\n",
            "         -0.0272, -0.0191, -0.0162, -0.0317, -0.0238,  0.0312, -0.0009, -0.0233,\n",
            "         -0.0167,  0.0055,  0.0021,  0.0156, -0.0501, -0.0539,  0.0206,  0.0451,\n",
            "          0.0279, -0.0183,  0.0126, -0.0054, -0.0210, -0.0154, -0.0222,  0.0057],\n",
            "        [-0.0731,  0.0720, -0.0311, -0.0699,  0.0094, -0.0063,  0.0341,  0.0410,\n",
            "         -0.0968,  0.0131, -0.0123,  0.0283, -0.0172,  0.0161,  0.0726, -0.0481,\n",
            "         -0.0179, -0.0715, -0.0364, -0.0372,  0.0578, -0.0236, -0.0374,  0.0398,\n",
            "          0.0309,  0.0349,  0.0068, -0.0863,  0.0829, -0.0023,  0.0692, -0.0359,\n",
            "         -0.0169,  0.0424, -0.0707, -0.0115,  0.0412,  0.0298, -0.0251,  0.0605,\n",
            "         -0.0464,  0.0779, -0.0549,  0.0908, -0.0018,  0.0522, -0.0140,  0.0254,\n",
            "         -0.0546, -0.0589, -0.0223,  0.0073,  0.0695, -0.0196, -0.0245,  0.0506,\n",
            "         -0.0074, -0.0708,  0.0577, -0.0072, -0.0240,  0.0281,  0.0408,  0.1221,\n",
            "          0.0601, -0.0311, -0.0156, -0.0271,  0.1318, -0.0472,  0.0199, -0.0518,\n",
            "         -0.0205, -0.0189,  0.0370, -0.0451, -0.0262, -0.0698,  0.0117, -0.0146,\n",
            "          0.0627,  0.0986, -0.0449, -0.0214, -0.0412,  0.0629, -0.0950, -0.0469,\n",
            "          0.0164,  0.0336, -0.0666, -0.0226,  0.0016,  0.0047, -0.0116, -0.0408,\n",
            "         -0.0373,  0.0071,  0.0070, -0.1051, -0.0474,  0.0522,  0.0212,  0.0167,\n",
            "          0.0620,  0.0401, -0.0195, -0.0432,  0.0280, -0.0778, -0.0987,  0.0363,\n",
            "          0.0076, -0.0597, -0.0147,  0.0050,  0.0190,  0.0408, -0.0144, -0.0410,\n",
            "         -0.0241, -0.0124, -0.0110, -0.0268,  0.0401, -0.0465,  0.0372, -0.0462,\n",
            "          0.0985, -0.0352, -0.0524,  0.0189, -0.0238,  0.0703,  0.0134, -0.0321,\n",
            "         -0.0606,  0.0002, -0.0622,  0.0250, -0.0540, -0.0337,  0.0601, -0.0424,\n",
            "          0.0355, -0.0273,  0.0392,  0.0363, -0.1101, -0.0122, -0.0352,  0.0800,\n",
            "         -0.0094,  0.0070,  0.0546, -0.0088, -0.0341, -0.0078, -0.0026,  0.0775,\n",
            "          0.0527,  0.0500, -0.0074,  0.0228, -0.0501,  0.0199,  0.0717,  0.0240,\n",
            "          0.0645,  0.0005, -0.0405, -0.0782, -0.0705,  0.0077, -0.0046, -0.0873,\n",
            "          0.0634,  0.0293,  0.0661, -0.0293,  0.0359, -0.0164,  0.0673, -0.0192,\n",
            "         -0.0038, -0.0330,  0.0252, -0.0080,  0.0046, -0.0113, -0.0349, -0.0122,\n",
            "         -0.0301,  0.0281,  0.0429, -0.0271, -0.0306, -0.0127, -0.0398, -0.0039,\n",
            "         -0.0370,  0.0595,  0.0213,  0.0465, -0.0094, -0.0347, -0.0475, -0.0010,\n",
            "         -0.0540, -0.0816,  0.0270, -0.0577,  0.0986, -0.0214,  0.0163, -0.0240,\n",
            "          0.0100,  0.0396, -0.0108,  0.0028,  0.0256,  0.0441, -0.0584, -0.0243,\n",
            "          0.0528, -0.0027, -0.0245,  0.0120,  0.0427,  0.0154,  0.0070, -0.0381,\n",
            "         -0.0301,  0.0059,  0.0132, -0.0078,  0.0066, -0.0647,  0.0109, -0.0431,\n",
            "          0.0273,  0.0755, -0.0027,  0.0020, -0.0772,  0.0068,  0.0091,  0.0114,\n",
            "         -0.0160, -0.0441, -0.0111, -0.0045,  0.0528,  0.0144, -0.0701,  0.0204,\n",
            "         -0.0565,  0.0105,  0.0345,  0.0012,  0.0120,  0.0558, -0.0604, -0.0225,\n",
            "          0.0543,  0.0344, -0.0085, -0.0401,  0.0252, -0.0503, -0.0107,  0.0732,\n",
            "         -0.0238,  0.0551,  0.0292, -0.0847,  0.0509, -0.0368, -0.0112, -0.0233,\n",
            "          0.0339,  0.0471,  0.0440, -0.0396,  0.0365, -0.0295, -0.0732, -0.0270,\n",
            "          0.0313, -0.0364, -0.0566,  0.0061,  0.0530,  0.0431,  0.0534, -0.0365,\n",
            "          0.0227,  0.0211, -0.0301,  0.0260, -0.0342, -0.0467,  0.0458,  0.0146,\n",
            "          0.0215, -0.0131,  0.0316, -0.0212,  0.0164, -0.0668,  0.0067,  0.0515]],\n",
            "       device='cuda:0', grad_fn=<SliceBackward0>)\n",
            "tensor([[ 3.3175e-02,  6.5526e-02,  1.0200e-01, -7.5604e-02, -8.5168e-03,\n",
            "          7.1964e-02, -4.5979e-02, -3.5393e-03, -4.1191e-02,  1.4931e-02,\n",
            "         -9.9635e-02,  1.5658e-02,  4.7689e-02, -2.6654e-03,  1.6933e-02,\n",
            "         -2.5785e-02, -3.8442e-02,  1.2947e-03,  6.4250e-02,  9.1070e-03,\n",
            "         -8.6880e-02, -2.7933e-02,  1.7098e-02,  4.3637e-02, -6.5743e-04,\n",
            "         -1.3374e-03, -5.4958e-02,  3.4685e-02,  2.4499e-02, -1.0201e-02,\n",
            "         -5.4212e-03,  5.7114e-02,  2.7103e-02, -1.8891e-02, -2.5473e-02,\n",
            "         -7.8604e-02, -1.1701e-02, -7.3467e-02,  4.7552e-02,  1.4705e-03,\n",
            "         -1.1166e-01,  8.1791e-02, -2.0654e-02, -2.4472e-02,  6.8861e-02,\n",
            "          9.5782e-03,  4.6043e-02, -4.4340e-02,  6.5731e-02,  4.0791e-03,\n",
            "         -1.0293e-02,  1.1086e-02, -6.7566e-02,  6.0927e-02, -4.2273e-02,\n",
            "         -3.6842e-02,  1.2571e-02,  4.2575e-02, -1.2287e-02,  3.7612e-02,\n",
            "         -3.6034e-02, -1.8501e-02, -2.8386e-02, -1.0407e-01,  2.6314e-03,\n",
            "          1.6315e-02, -2.9556e-02, -2.9182e-03, -7.0537e-02,  1.7408e-02,\n",
            "          8.0123e-02,  5.2821e-02,  4.9349e-02, -4.2084e-02, -1.3637e-02,\n",
            "          7.8557e-03,  3.3616e-03, -6.0972e-02,  4.3071e-02,  1.3842e-02,\n",
            "          2.6341e-02,  8.6969e-02,  6.5380e-02,  5.8493e-02,  9.2217e-03,\n",
            "         -3.6893e-02,  9.8905e-04,  2.7919e-03, -3.9424e-03, -2.1434e-02,\n",
            "         -5.9933e-02,  2.6382e-02,  3.9163e-02, -2.5338e-02, -4.4306e-02,\n",
            "         -1.0402e-02,  4.9868e-02, -5.9658e-02,  9.5318e-03,  7.9253e-02,\n",
            "          3.4074e-02, -6.6239e-02, -5.9479e-02,  4.0167e-02, -4.6305e-04,\n",
            "         -2.9422e-02, -3.5288e-02, -2.0455e-02, -3.6296e-02,  1.6920e-02,\n",
            "          6.9177e-02, -4.6180e-02,  8.6456e-02, -4.7455e-02,  2.1689e-02,\n",
            "          2.9741e-02, -4.0687e-02, -6.8441e-02,  2.5058e-02,  2.1715e-02,\n",
            "         -1.6111e-02, -4.6609e-02, -4.8456e-02, -6.1697e-02,  5.1622e-02,\n",
            "          2.7261e-02, -5.4442e-02, -1.6790e-02,  1.0982e-03,  3.8164e-02,\n",
            "          4.7395e-02, -1.1002e-01,  8.1310e-03, -1.6786e-02,  6.7871e-03,\n",
            "          1.3555e-02,  4.7851e-02,  7.1276e-02,  6.6947e-02, -3.9499e-02,\n",
            "         -4.4901e-02, -3.2887e-02,  2.4571e-02, -6.6801e-02, -1.0673e-01,\n",
            "          5.4598e-02, -3.4705e-02, -6.1177e-02,  1.8407e-02, -2.3847e-03,\n",
            "          1.0283e-02, -1.1549e-02, -2.4139e-02, -9.7895e-03, -2.3262e-02,\n",
            "          6.2323e-02,  3.5220e-02,  3.3248e-03, -2.1235e-02,  9.7627e-03,\n",
            "         -2.2517e-02,  1.2737e-02,  4.6258e-02,  1.8617e-02, -3.9226e-02,\n",
            "         -1.8230e-02,  4.4587e-03, -3.5834e-03, -2.1371e-02, -4.4199e-02,\n",
            "          8.9371e-03,  5.8650e-02, -5.6705e-02, -5.5346e-02, -4.3305e-02,\n",
            "          1.6842e-02, -4.6731e-02, -3.8724e-02, -4.5308e-02, -2.0967e-02,\n",
            "          1.4972e-02, -1.2330e-02,  7.6073e-02, -5.3106e-02,  1.0547e-01,\n",
            "         -2.6538e-02, -2.1925e-02,  6.1662e-02, -2.2735e-02,  7.3787e-02,\n",
            "          3.5681e-02,  1.9343e-02, -1.8727e-02, -3.9832e-02,  3.5250e-03,\n",
            "          2.0041e-02, -5.5835e-02,  4.0832e-02, -1.1910e-01, -5.2344e-02,\n",
            "         -5.4072e-02,  8.2851e-02, -4.7756e-02, -4.6287e-02,  3.4757e-02,\n",
            "         -6.4331e-02, -2.1919e-02, -1.3149e-02, -5.9610e-02, -5.3041e-02,\n",
            "         -2.3405e-02, -2.0738e-02,  3.4263e-02,  4.3685e-02,  1.4744e-02,\n",
            "          4.8939e-02, -2.4898e-02, -1.3446e-02, -2.7250e-02, -2.1183e-02,\n",
            "          1.0553e-02, -1.3512e-02, -8.1240e-03,  2.4580e-02, -8.4945e-03,\n",
            "          5.5016e-02, -5.6470e-02, -6.7723e-02, -3.3310e-02, -4.3265e-02,\n",
            "         -5.4892e-02,  6.5194e-02,  8.3707e-02, -3.0453e-02, -1.4491e-02,\n",
            "          6.6266e-02,  5.1031e-02,  7.1727e-02,  6.2029e-02, -4.8196e-02,\n",
            "         -5.4912e-02,  6.0078e-02,  2.6810e-02,  3.3442e-02,  5.6287e-02,\n",
            "         -9.9911e-03, -2.7314e-02, -1.9333e-02,  4.8672e-02,  3.0209e-02,\n",
            "         -3.5614e-03, -9.3527e-03, -4.5127e-02, -5.9949e-02, -2.8537e-02,\n",
            "          5.1541e-02, -2.7500e-02, -1.0138e-01, -5.4475e-03, -8.5401e-03,\n",
            "         -7.3308e-02,  3.4381e-02, -5.2168e-02,  5.1912e-02,  1.0758e-02,\n",
            "         -4.4113e-02,  8.3325e-02,  4.3613e-02,  5.5429e-02, -1.3649e-02,\n",
            "          2.5637e-02, -1.9618e-02,  2.6327e-02, -6.5965e-03,  5.0471e-03,\n",
            "          6.8211e-02, -6.7667e-02, -5.3272e-03, -5.1265e-02,  6.6520e-02,\n",
            "          9.2334e-02,  6.2758e-02, -1.2682e-02,  3.5349e-02, -2.0465e-02,\n",
            "         -3.2850e-02, -1.0153e-02,  3.7143e-02, -8.4011e-02, -8.1763e-02,\n",
            "         -2.2883e-02,  5.0579e-02, -1.2873e-02, -2.9321e-03,  6.4975e-02,\n",
            "          5.4462e-02,  5.2803e-02,  5.6830e-02,  5.7083e-02, -5.0604e-02,\n",
            "         -8.6694e-03,  4.1774e-02, -4.6750e-02, -4.8723e-02, -6.5127e-02,\n",
            "         -8.6786e-02,  6.1519e-02,  1.7104e-02,  6.0059e-02,  6.3146e-02,\n",
            "          2.9428e-02,  5.3564e-02],\n",
            "        [-1.6639e-02,  2.4663e-02,  9.1595e-03,  2.9280e-02, -7.3138e-02,\n",
            "          1.7857e-02,  4.2613e-02,  8.6517e-02,  7.6490e-02,  2.1223e-02,\n",
            "         -2.2660e-02, -5.3348e-02, -3.1720e-02,  3.2386e-02, -1.4880e-02,\n",
            "          2.1155e-03, -6.4495e-02,  1.7409e-02, -6.4794e-02,  2.8533e-04,\n",
            "         -2.7973e-02, -3.3940e-02, -5.3172e-02, -4.5112e-02,  3.1020e-02,\n",
            "          4.2898e-02,  2.8912e-02, -2.2169e-02,  2.7769e-02,  8.5474e-03,\n",
            "         -2.8732e-02,  1.9727e-02, -7.1524e-02,  1.3313e-02, -2.0557e-04,\n",
            "         -4.5212e-02, -7.1316e-02,  2.7572e-02,  4.2160e-02, -5.4194e-02,\n",
            "         -3.8383e-03, -5.4731e-02, -4.0689e-02,  1.8203e-03, -3.7060e-02,\n",
            "         -2.2626e-02,  1.2406e-02, -5.1878e-02, -7.1725e-02,  1.3068e-02,\n",
            "          2.4973e-02,  6.4399e-02,  8.9178e-03,  2.2965e-02,  3.0819e-02,\n",
            "          3.5311e-02, -3.5789e-02, -6.3850e-02, -2.6394e-02,  4.0649e-02,\n",
            "          1.5963e-02, -3.8562e-02,  2.3020e-02,  6.9808e-02, -3.8544e-02,\n",
            "          9.4669e-03,  7.2556e-02, -2.6721e-02, -1.6901e-02,  1.8525e-02,\n",
            "          2.1730e-02, -2.3492e-03, -6.8123e-02,  4.3085e-02, -4.1304e-02,\n",
            "         -1.7768e-02, -1.9204e-02,  1.6023e-02,  4.2604e-02,  6.2202e-04,\n",
            "         -3.6112e-02, -3.8955e-02, -4.2965e-02,  4.7893e-02,  3.2060e-02,\n",
            "          4.1194e-02,  3.2675e-02, -2.7422e-02,  3.4105e-02, -7.6144e-02,\n",
            "         -2.1993e-02, -9.1317e-03, -4.9142e-02, -3.6497e-02, -5.9942e-02,\n",
            "          3.6273e-02, -3.8790e-03,  5.0838e-02,  2.9828e-02,  1.2558e-02,\n",
            "         -6.7286e-02,  4.4422e-02, -9.1169e-03, -6.3458e-02, -9.3303e-03,\n",
            "          4.6853e-02,  4.0201e-02,  1.4758e-02, -6.1799e-03,  5.3274e-02,\n",
            "         -2.4916e-02,  3.8909e-02, -1.5228e-02, -5.1133e-02,  4.6964e-02,\n",
            "         -3.0406e-03, -3.2686e-02,  4.4071e-02,  3.8956e-02,  3.7639e-02,\n",
            "          3.0021e-02, -4.0843e-02,  9.1857e-03,  4.1018e-02,  3.2491e-02,\n",
            "         -3.1755e-02,  2.4067e-02, -2.1860e-02, -3.8246e-02,  1.1919e-02,\n",
            "         -2.3571e-02,  4.7124e-02, -3.5568e-02,  2.8291e-02,  1.6567e-02,\n",
            "         -5.5506e-02, -3.1596e-02,  4.1617e-02,  1.2558e-02,  1.8193e-02,\n",
            "         -1.6759e-02, -3.3950e-02,  5.6827e-02, -5.1367e-03,  7.4831e-03,\n",
            "          4.4244e-02, -3.9135e-03,  9.8568e-04, -4.5631e-02,  3.5149e-02,\n",
            "         -3.2096e-02,  8.1746e-02,  8.1171e-02, -3.3221e-02,  3.7102e-02,\n",
            "         -3.2020e-04,  2.9219e-02, -7.3267e-02, -7.5114e-03,  3.6845e-02,\n",
            "         -2.2454e-02, -1.6479e-02, -2.2122e-02,  1.5226e-02, -4.0342e-02,\n",
            "         -2.0299e-02,  2.9222e-02, -4.7299e-02,  6.7006e-02, -1.2651e-02,\n",
            "          4.1757e-02, -4.1711e-02,  3.5500e-02,  6.5165e-02,  5.9108e-02,\n",
            "         -1.7120e-02,  3.6599e-03, -6.2276e-03,  4.6174e-04, -1.2225e-02,\n",
            "          3.2549e-02, -1.6693e-02, -1.7924e-02,  1.3986e-02,  5.2406e-02,\n",
            "          2.5719e-02,  3.7568e-02, -4.4743e-02,  3.1183e-02, -1.7123e-02,\n",
            "          9.2975e-03, -6.7004e-02, -4.9124e-02,  1.1179e-02, -3.4128e-02,\n",
            "          1.5191e-03,  7.2365e-02, -4.3325e-02, -1.6467e-02,  5.2441e-02,\n",
            "          5.1764e-02, -5.4696e-02,  3.1333e-02,  2.4339e-02, -7.5205e-02,\n",
            "         -4.0683e-02,  5.5003e-03, -8.5578e-03,  3.6561e-02, -5.6524e-02,\n",
            "         -7.2640e-02, -6.4004e-02, -3.8723e-02, -2.3422e-03,  2.0988e-02,\n",
            "         -1.1471e-02, -2.5275e-02, -1.1693e-02, -4.6841e-02,  4.9665e-02,\n",
            "         -4.9861e-02, -2.8986e-02,  3.9208e-02, -5.4291e-02,  3.3295e-02,\n",
            "          6.0700e-02,  4.7766e-02, -7.6997e-03,  4.9440e-02, -3.4577e-02,\n",
            "          5.3576e-02,  1.9824e-02, -3.0907e-02, -5.2809e-02,  1.3739e-02,\n",
            "         -1.6786e-02, -3.0373e-03,  2.2232e-02, -1.7736e-02,  2.9545e-02,\n",
            "          1.2782e-02,  1.7541e-02, -6.7466e-03,  5.4142e-02, -3.3155e-02,\n",
            "         -1.5530e-02,  3.6185e-02,  5.9552e-02,  4.4827e-02, -7.4579e-02,\n",
            "         -1.5172e-02,  2.5851e-02, -5.1344e-03,  2.7914e-02, -4.7612e-02,\n",
            "          2.5056e-02, -2.6436e-02,  1.7496e-02,  3.2068e-02, -4.0673e-02,\n",
            "          9.6416e-03, -5.0210e-02, -9.7561e-03, -1.9114e-02,  4.1071e-02,\n",
            "          7.4954e-02, -4.0141e-02,  6.0933e-02, -3.4310e-02,  6.9765e-02,\n",
            "         -5.0889e-02, -5.8046e-03,  1.9485e-02,  1.8984e-02, -1.5873e-02,\n",
            "          3.2923e-02, -1.3708e-02,  3.1683e-02,  4.5715e-03, -3.7655e-02,\n",
            "         -5.0112e-02,  1.2462e-02,  1.2102e-02,  1.6764e-02, -6.1174e-02,\n",
            "          3.3960e-02, -5.3447e-03, -1.9537e-03,  9.7063e-02,  2.8304e-03,\n",
            "          4.6664e-02, -7.2108e-03,  1.1067e-02,  3.4103e-02, -8.9718e-02,\n",
            "         -2.7039e-02, -1.8643e-02, -5.5960e-02, -3.4019e-02, -1.8664e-04,\n",
            "         -3.2426e-03, -6.1475e-02,  3.2373e-02, -3.4669e-02,  4.8501e-02,\n",
            "          7.7807e-03, -2.8665e-02,  3.5087e-02, -3.2122e-02, -1.2946e-02,\n",
            "          3.2799e-02,  3.4069e-02],\n",
            "        [ 1.5117e-02,  1.7734e-02, -6.3677e-02,  5.0868e-02, -1.7051e-02,\n",
            "         -3.3545e-02, -1.5814e-02,  7.9726e-02,  7.3492e-03,  2.4989e-02,\n",
            "         -4.0161e-03, -2.4469e-02, -9.3359e-03, -1.7767e-02,  1.1350e-02,\n",
            "          2.7338e-02, -1.0357e-01,  3.4063e-02, -6.2356e-02, -3.7541e-02,\n",
            "          5.7358e-02,  3.4505e-02, -5.9001e-02,  6.3894e-02, -2.7321e-02,\n",
            "          8.8587e-02, -5.7971e-02,  5.7214e-02,  2.9968e-02, -4.7855e-02,\n",
            "         -2.2501e-02,  2.4668e-02, -6.4493e-02, -6.9454e-02, -4.9228e-02,\n",
            "         -5.2441e-02, -3.4382e-02,  2.9362e-02, -6.5360e-02, -6.4740e-02,\n",
            "          1.8355e-02,  1.1760e-02, -9.2209e-02,  5.6882e-03,  4.1404e-02,\n",
            "         -7.5124e-02, -5.3532e-02, -1.1693e-01, -1.0149e-01,  4.9289e-02,\n",
            "          8.1321e-03,  7.2650e-02, -5.5350e-02, -5.4998e-02, -2.0828e-02,\n",
            "         -2.0231e-02,  1.2313e-02,  1.3109e-02, -2.3230e-02,  5.4794e-02,\n",
            "         -3.3423e-02, -1.2477e-02,  5.5781e-03,  1.8983e-02,  1.5221e-02,\n",
            "         -1.0969e-02,  1.1769e-02, -4.4020e-02,  4.6907e-02,  3.6519e-02,\n",
            "         -3.9448e-03, -3.2130e-03,  6.8008e-03,  3.3901e-03,  1.2014e-02,\n",
            "         -1.2416e-02, -1.2954e-01, -3.7168e-02,  8.4631e-02, -7.7973e-03,\n",
            "         -4.4208e-02,  1.0950e-03, -6.4033e-02, -7.7883e-02, -2.4626e-02,\n",
            "          4.7954e-02, -4.0629e-02, -5.4326e-02, -2.7286e-02, -1.4149e-02,\n",
            "          7.7215e-02, -9.9730e-02, -7.9058e-02, -5.3391e-02, -6.9990e-02,\n",
            "          5.5074e-02, -7.8675e-02, -5.1065e-02, -3.2450e-02, -2.5357e-02,\n",
            "         -9.1435e-02, -3.1314e-02,  6.9073e-03, -4.5933e-02, -4.6642e-02,\n",
            "         -5.2742e-03,  1.5752e-02, -3.8595e-02,  2.8310e-02,  3.8457e-02,\n",
            "         -4.7085e-03,  2.9082e-02, -3.9885e-02, -2.9762e-03,  4.2080e-02,\n",
            "         -2.7834e-02, -2.8495e-02, -5.3036e-02,  1.0341e-01,  4.9296e-02,\n",
            "         -4.3198e-02,  1.6431e-02,  1.0054e-01, -6.7308e-03, -5.7921e-02,\n",
            "          3.0422e-02, -6.6186e-03,  1.0300e-01,  4.4682e-02, -1.6690e-02,\n",
            "         -3.1128e-02,  5.8231e-03, -1.6927e-02,  6.0649e-02,  1.1192e-02,\n",
            "         -8.6125e-03, -1.7091e-02, -1.4623e-03, -4.9559e-02, -2.6678e-02,\n",
            "         -5.6766e-02,  1.3054e-02, -2.5354e-02,  2.6543e-02,  5.8336e-02,\n",
            "          5.9565e-02,  1.8636e-02, -5.3114e-02, -1.5888e-02,  2.8328e-02,\n",
            "          1.7700e-03, -6.2783e-02,  9.2233e-02,  4.2778e-02,  3.6297e-02,\n",
            "          1.4253e-02,  8.0687e-02, -2.0896e-02,  1.0292e-01,  7.3400e-02,\n",
            "          3.2591e-02,  3.8293e-02,  3.7712e-02,  7.8896e-02,  3.8095e-02,\n",
            "         -3.0252e-02,  3.2939e-02,  4.3681e-02,  5.6363e-02, -6.2340e-02,\n",
            "          9.3491e-02, -5.6746e-02, -2.7033e-02,  7.4430e-02, -6.7731e-02,\n",
            "          4.1037e-02, -4.6754e-02, -4.5868e-02,  2.8581e-02,  4.6751e-02,\n",
            "          2.0597e-02, -7.3929e-02,  7.2060e-02,  1.7933e-02, -4.7936e-02,\n",
            "          8.0975e-02,  6.7325e-02, -2.3829e-02, -4.9390e-02,  8.8758e-02,\n",
            "         -2.9628e-02, -4.7475e-02,  5.6338e-03,  8.4900e-03,  8.6088e-02,\n",
            "          2.6045e-03,  7.7888e-02, -2.0931e-02, -6.8199e-04,  1.6848e-02,\n",
            "          8.1914e-02, -9.0481e-02,  3.9621e-02,  6.7440e-02, -7.9570e-03,\n",
            "         -3.4296e-02,  3.8301e-02, -7.5643e-02,  1.6320e-02,  1.1865e-02,\n",
            "         -2.8222e-02, -1.0447e-01,  1.7838e-02, -8.1229e-03, -6.7928e-02,\n",
            "         -5.7833e-02, -4.0209e-02,  6.0538e-02, -8.4106e-02,  5.3454e-02,\n",
            "         -6.7631e-02, -4.1800e-02,  7.0070e-02, -5.5167e-02,  2.5997e-02,\n",
            "          4.9711e-02, -1.2158e-02,  2.7760e-02,  8.0688e-02, -8.1555e-02,\n",
            "          2.8358e-02,  7.0895e-03, -1.2941e-02, -8.8987e-03, -2.2188e-04,\n",
            "         -3.5051e-02, -7.9677e-03, -5.6517e-02, -2.8992e-02,  1.3613e-02,\n",
            "         -4.7403e-02,  5.2876e-02, -4.2879e-02,  5.4158e-02, -4.5089e-02,\n",
            "         -3.3101e-02,  6.4047e-02, -2.3423e-02,  3.8942e-02, -2.8111e-02,\n",
            "         -2.2807e-02, -6.6392e-02,  4.7380e-02, -1.0717e-02,  2.8569e-02,\n",
            "         -7.4469e-03, -4.6039e-02,  8.3248e-02,  3.3331e-02, -2.0404e-02,\n",
            "          7.3829e-02,  5.1955e-05,  1.0400e-03, -6.9457e-02, -2.8252e-02,\n",
            "          5.2798e-02, -6.8619e-03,  9.6847e-02,  2.7855e-02,  8.7906e-02,\n",
            "         -8.0269e-02,  7.7775e-03,  5.9115e-03,  4.5092e-03, -1.4615e-02,\n",
            "         -2.7158e-03,  8.6323e-02, -1.8089e-02,  3.1472e-02,  6.7258e-02,\n",
            "          8.8496e-03,  3.4328e-02,  6.4125e-02, -2.0511e-02, -1.1189e-01,\n",
            "          3.4110e-02, -2.2669e-02,  2.3753e-03,  7.6363e-02,  5.5572e-02,\n",
            "          2.8505e-03,  5.5909e-02,  2.0926e-02,  5.9502e-02, -1.2268e-01,\n",
            "         -2.9163e-02, -2.0079e-03,  9.3591e-03,  1.0825e-02,  8.6239e-03,\n",
            "          4.4667e-02,  1.2148e-03, -8.7986e-02, -5.1732e-02,  3.7710e-02,\n",
            "          1.0842e-01,  1.9291e-02,  7.9910e-03,  3.2736e-02, -3.1798e-02,\n",
            "          2.5351e-02,  1.9506e-02]], device='cuda:0', grad_fn=<SliceBackward0>)\n",
            "tensor([-0.0540, -0.0135,  0.0391], device='cuda:0', grad_fn=<SliceBackward0>)\n",
            "tensor([-0.0541, -0.0065, -0.0072], device='cuda:0', grad_fn=<SliceBackward0>)\n",
            "tensor([[ 1.0458e-01,  4.7880e-02,  3.0944e-02, -3.5116e-02, -2.6452e-02,\n",
            "         -1.8017e-02,  1.6048e-02, -4.5419e-02,  3.1146e-04,  9.3888e-02,\n",
            "          6.8062e-02, -4.1069e-02,  6.2561e-02,  1.8975e-03, -6.3457e-02,\n",
            "         -5.6746e-03,  1.5704e-02, -6.1965e-02,  1.4970e-02, -2.4888e-02,\n",
            "          5.6331e-02,  1.4982e-02,  4.7225e-02,  2.1182e-02,  7.9994e-02,\n",
            "         -2.1951e-02, -5.7099e-02,  1.6034e-02, -3.0449e-02,  2.4281e-02,\n",
            "          1.0529e-02, -2.3831e-02,  1.1418e-02, -6.7547e-02, -2.4365e-02,\n",
            "          5.2528e-02, -2.0069e-02,  4.9014e-03, -3.6743e-02,  3.1437e-03,\n",
            "         -1.8055e-02,  2.4830e-01,  7.3590e-02,  1.4884e-02, -4.2709e-02,\n",
            "          4.1417e-03, -9.0915e-03, -6.6086e-03,  1.5600e-02, -7.8404e-03,\n",
            "          4.3871e-02, -4.1044e-02,  2.0118e-02, -5.2628e-02,  7.7389e-02,\n",
            "         -1.1714e-03,  1.8893e-02, -4.1031e-02,  3.1918e-02, -3.8071e-02,\n",
            "          3.1811e-03,  8.0917e-02, -3.7467e-02,  2.0274e-02, -2.4794e-02,\n",
            "          1.4012e-01,  8.5882e-02, -3.7249e-02,  2.2786e-02,  1.5364e-03,\n",
            "          8.6229e-02, -7.5313e-02, -3.1434e-02, -2.0224e-02,  9.1856e-03,\n",
            "          1.5094e-02,  6.1660e-02, -4.4022e-02,  6.4016e-02,  1.9537e-02,\n",
            "         -3.4990e-02,  5.0758e-02,  3.6314e-02,  5.6562e-02,  6.1116e-03,\n",
            "          3.2237e-02, -9.7625e-03,  3.0743e-02, -1.4273e-02, -9.4896e-03,\n",
            "          5.5373e-02, -6.4723e-02,  1.1089e-02,  3.5945e-02, -2.9512e-03,\n",
            "          1.1540e-02,  7.2136e-02,  2.8247e-02, -4.3543e-02,  6.7632e-03,\n",
            "         -7.6490e-02, -1.1940e-01, -4.7220e-02, -9.8469e-02, -2.6963e-02,\n",
            "         -4.3232e-02,  5.2229e-02,  6.3210e-02,  7.7692e-02, -2.3310e-02,\n",
            "          3.6534e-02,  2.8029e-03, -5.8378e-02,  3.3859e-02,  1.7623e-03,\n",
            "          2.5262e-02, -6.0648e-02,  1.0178e-01, -3.1662e-02, -4.5905e-02,\n",
            "          1.3968e-03, -9.1876e-02,  1.4755e-02, -1.1848e-02, -1.9974e-02,\n",
            "          1.1138e-02,  3.7368e-02,  3.4023e-02,  1.2566e-02,  3.3387e-02,\n",
            "          4.6067e-02,  1.8949e-02, -3.9517e-03, -4.6605e-02,  3.9380e-02,\n",
            "          2.9030e-02,  1.8113e-02, -1.3297e-02,  6.6368e-02, -5.3902e-02,\n",
            "          1.4472e-02, -9.9320e-03,  4.0023e-02, -6.2347e-02,  8.7274e-02,\n",
            "          8.9493e-03,  7.6367e-02,  5.2590e-02,  2.4949e-02,  2.5704e-02,\n",
            "          9.1043e-03, -1.6115e-02,  1.6704e-02,  2.6569e-02, -6.0581e-02,\n",
            "          2.3069e-02, -5.8094e-02,  4.9591e-02, -6.2610e-02, -3.9572e-02,\n",
            "          3.5351e-02,  1.0631e-01,  1.9917e-02, -1.4517e-01,  2.6492e-02,\n",
            "         -2.9303e-02,  4.4426e-02, -4.6923e-02,  2.0652e-03,  3.3741e-03,\n",
            "          2.4082e-02,  4.4541e-02,  6.5227e-03, -3.3946e-03, -2.8411e-02,\n",
            "          1.5958e-02,  7.3249e-03, -2.4741e-03, -8.6585e-02,  1.3133e-02,\n",
            "         -1.5525e-02,  6.1537e-02,  9.7969e-02, -1.2246e-02, -5.3275e-02,\n",
            "          8.4387e-02, -7.5185e-03,  9.6921e-02, -2.7510e-02,  2.5652e-02,\n",
            "          5.4984e-02, -2.6778e-02, -3.1838e-02,  1.8663e-02,  5.0039e-02,\n",
            "         -4.8321e-01,  2.9740e-02,  8.5101e-02, -1.9348e-02, -3.6927e-02,\n",
            "         -1.4241e-02, -3.7933e-02, -2.8382e-02, -1.5813e-02, -3.1571e-01,\n",
            "         -4.6879e-02,  6.9136e-02, -5.3152e-02,  7.8296e-02,  2.1942e-02,\n",
            "         -5.0891e-02,  3.0872e-03,  2.3563e-02,  3.5180e-02,  9.0880e-03,\n",
            "         -6.3369e-02, -3.8930e-02,  6.5241e-02,  6.5803e-02, -2.5753e-02,\n",
            "          1.7802e-02,  4.0102e-02, -1.7162e-02, -4.3116e-02,  5.3019e-03,\n",
            "          4.1633e-02, -1.1170e-01,  5.4126e-02, -3.5951e-02, -2.6965e-02,\n",
            "         -3.2680e-03, -2.2620e-02,  1.2516e-02, -1.7142e-02,  4.6925e-03,\n",
            "          1.0305e-01,  3.1467e-02, -5.4088e-02,  4.4733e-02, -1.7603e-02,\n",
            "         -1.2578e-02, -6.1519e-02,  2.7163e-02,  1.6403e-02, -9.2914e-03,\n",
            "          4.9876e-02, -4.7903e-02, -6.4305e-03, -6.1078e-02, -2.5195e-02,\n",
            "          3.6382e-04, -5.5464e-02, -7.5298e-02,  1.6098e-02,  3.7649e-02,\n",
            "         -3.9622e-02, -1.5662e-02,  1.6056e-02,  2.2568e-02,  4.6898e-02,\n",
            "          3.6000e-02,  3.9373e-02,  3.7384e-02,  1.8342e-02, -1.4039e-02,\n",
            "         -1.2196e-04, -3.2386e-02,  5.3249e-02,  1.0571e-01,  1.3821e-02,\n",
            "          1.9440e-02, -3.2066e-02, -2.0280e-02,  3.0468e-03,  1.2052e-02,\n",
            "          1.3756e-02, -1.0913e-02, -7.6686e-03,  1.8034e-02,  8.4050e-02,\n",
            "          4.7649e-02,  4.3563e-02, -1.8764e-02,  2.7969e-02,  1.3103e-02,\n",
            "          3.8647e-02,  1.4058e-02, -1.3570e-02,  1.3302e-02,  4.8224e-03,\n",
            "         -5.2609e-02,  1.8889e-02, -1.0206e-02, -2.0225e-03, -3.3855e-02,\n",
            "          3.2210e-03, -4.0477e-02, -2.2297e-02, -2.1932e-02,  5.4266e-02,\n",
            "         -6.0089e-02,  2.4747e-02,  6.8622e-03,  1.0305e-03, -6.9665e-03,\n",
            "          1.6704e-02, -6.3262e-02, -2.4830e-02, -3.5405e-02, -3.6204e-02,\n",
            "         -1.2501e-02, -5.1993e-02],\n",
            "        [ 3.5625e-02, -3.9264e-02, -3.3103e-02, -4.9436e-02, -3.2331e-02,\n",
            "         -7.8797e-02,  9.6703e-02,  1.4842e-02, -6.2225e-02,  7.9789e-02,\n",
            "          1.0960e-01,  1.2535e-02, -1.6996e-02,  1.4885e-02,  1.0518e-02,\n",
            "          4.4627e-02, -1.3888e-02,  2.4201e-03, -8.2721e-03,  9.6353e-03,\n",
            "         -4.4226e-03,  5.6131e-02,  5.2060e-03, -1.7742e-02,  9.7094e-02,\n",
            "         -3.3391e-02, -6.1422e-03, -1.9154e-02,  5.7190e-02,  3.4036e-02,\n",
            "          2.2394e-02, -4.6946e-02,  1.0017e-02, -1.8133e-02, -4.1830e-02,\n",
            "         -2.6363e-02,  1.1882e-02,  3.4107e-02,  1.1325e-02, -5.0799e-02,\n",
            "         -3.3238e-02,  1.9095e-01,  7.7533e-03,  5.5360e-02, -9.1400e-02,\n",
            "          1.0375e-02, -7.4658e-02,  9.0247e-03, -7.3327e-02, -1.8201e-02,\n",
            "          6.5827e-02, -2.6588e-02, -2.1515e-02,  5.0073e-03,  1.3223e-03,\n",
            "         -2.2663e-02,  7.1353e-02, -9.1256e-02,  6.2709e-02,  3.8625e-02,\n",
            "          2.0480e-02,  6.7012e-02,  1.2658e-02, -6.8930e-03, -2.7315e-02,\n",
            "          7.7231e-02,  2.4025e-02, -9.1211e-03,  4.8105e-02,  7.0280e-02,\n",
            "          2.3217e-02, -4.8424e-04, -1.7492e-02,  7.0750e-03, -3.6041e-02,\n",
            "         -8.3739e-02, -1.3475e-02,  2.6940e-02,  5.9407e-02, -2.4123e-02,\n",
            "         -4.2530e-02, -2.6396e-02,  1.4753e-02,  1.4689e-02, -1.0855e-02,\n",
            "          9.3093e-04, -5.4533e-02,  4.2426e-03, -1.8710e-03, -2.6890e-02,\n",
            "          6.0603e-02, -2.1824e-02, -8.6196e-03, -3.2594e-03, -3.8334e-03,\n",
            "         -1.8202e-02,  2.0536e-02, -7.9951e-02, -4.5038e-02,  1.7007e-02,\n",
            "         -4.7450e-02, -1.2313e-01, -1.3704e-03, -7.5383e-02,  5.0634e-02,\n",
            "         -1.0404e-02,  4.0572e-02,  6.8903e-03, -2.5162e-02, -4.3796e-02,\n",
            "          2.6795e-02, -9.4749e-03, -7.7041e-02,  2.1245e-02,  1.5781e-02,\n",
            "          3.8141e-02, -9.9306e-03,  6.7241e-02, -1.0056e-01, -5.1747e-02,\n",
            "         -2.7246e-02, -2.6531e-02,  6.9448e-02, -4.3244e-03, -5.4094e-02,\n",
            "          9.4540e-03,  1.7498e-02, -1.2037e-02, -3.8381e-02, -1.3088e-02,\n",
            "          5.1876e-02, -5.6812e-02,  3.1449e-02,  6.8826e-02,  1.6532e-02,\n",
            "          1.0153e-04,  2.4216e-02,  1.9697e-02, -1.1380e-02, -6.1610e-02,\n",
            "          4.7395e-02,  5.0405e-02,  8.3926e-02,  2.2242e-03,  5.7851e-02,\n",
            "          5.6531e-03,  9.2808e-02,  3.5460e-02,  4.4991e-02,  5.2397e-03,\n",
            "          3.6022e-02,  8.9692e-03,  1.5229e-02,  6.7129e-02,  2.1897e-02,\n",
            "         -1.2137e-03,  3.4102e-02,  4.2377e-02,  1.5636e-01, -3.4730e-02,\n",
            "          5.9918e-05,  2.1313e-03,  4.4380e-02, -1.4996e-01, -7.8064e-02,\n",
            "         -3.8894e-02,  6.5459e-03, -1.6623e-02, -2.3486e-02, -8.2921e-03,\n",
            "         -9.0944e-03,  2.7140e-02, -2.7872e-02, -4.9239e-02, -2.4247e-02,\n",
            "          9.0044e-02,  7.4983e-02,  1.4869e-02, -3.5614e-02, -5.2032e-02,\n",
            "          6.5580e-03,  2.2982e-02,  4.6687e-02,  3.7170e-02,  2.2584e-02,\n",
            "          1.3601e-02,  1.4621e-02,  1.0502e-01,  4.3898e-02,  6.1466e-03,\n",
            "          2.5432e-02, -1.9075e-02, -7.3027e-02,  1.6581e-02,  1.2994e-01,\n",
            "         -4.5731e-01,  5.1674e-03,  3.5622e-02,  1.5882e-02, -9.5243e-02,\n",
            "         -1.6727e-02, -4.4539e-03,  2.3723e-02,  1.8430e-02, -3.2182e-01,\n",
            "          8.1363e-03,  4.2833e-02, -5.0847e-02,  6.4387e-02,  3.2128e-02,\n",
            "         -1.5050e-02, -2.1448e-02, -4.2778e-02,  5.9774e-02, -4.8194e-02,\n",
            "         -5.9958e-02, -2.0665e-02, -7.0681e-03,  6.2741e-02,  1.4266e-02,\n",
            "          2.4040e-02,  5.4554e-02, -5.7971e-02, -8.1166e-03,  4.0581e-02,\n",
            "          4.1272e-02, -4.7553e-02,  7.8273e-02,  1.9238e-02, -6.5602e-02,\n",
            "          5.6987e-02, -5.3488e-02,  1.5021e-02,  2.6876e-03, -3.7082e-03,\n",
            "          1.5502e-02, -5.2917e-02, -3.2236e-02, -1.2640e-02, -7.2472e-02,\n",
            "          3.3270e-02,  4.4982e-03,  5.3889e-03,  5.0020e-03, -2.3001e-02,\n",
            "          9.6742e-03, -3.4099e-03, -3.6820e-03, -6.7879e-02,  1.0925e-02,\n",
            "         -1.2177e-01, -6.6947e-02, -1.9514e-02,  1.7294e-03, -8.6632e-03,\n",
            "         -4.8593e-02, -4.2130e-02,  4.5869e-02,  5.3858e-03,  3.2770e-02,\n",
            "          5.1503e-02,  3.1533e-02,  1.5302e-02,  5.8103e-02, -1.7933e-02,\n",
            "         -7.3950e-02,  3.3768e-02,  3.5434e-02,  2.6163e-02,  3.3131e-02,\n",
            "         -2.4849e-02,  3.2894e-02, -6.3769e-02,  1.0316e-03,  1.3127e-01,\n",
            "          6.2854e-02,  4.4675e-02,  1.1784e-02,  5.8894e-02, -9.8377e-03,\n",
            "         -8.1961e-03,  2.3829e-02, -2.4563e-02,  9.4182e-03,  3.8089e-02,\n",
            "          2.7128e-02,  1.0703e-01,  4.0551e-02, -2.7338e-02,  9.2673e-02,\n",
            "          3.4808e-03,  5.4823e-02,  3.7511e-02, -6.6721e-03, -6.1600e-02,\n",
            "         -3.2384e-02,  7.0386e-02,  1.7031e-02, -1.4194e-02,  4.0639e-02,\n",
            "         -2.1827e-02, -1.4738e-02, -3.2599e-03,  6.9096e-02, -2.8619e-03,\n",
            "          4.9485e-02, -8.1491e-02,  2.1737e-02,  3.4097e-02, -1.6017e-02,\n",
            "          3.8909e-02, -7.2126e-02],\n",
            "        [ 8.4188e-02,  6.7325e-03, -3.7112e-03, -2.0163e-02, -2.9820e-02,\n",
            "          2.9411e-02,  1.7843e-02, -1.1580e-02,  3.5843e-02,  7.8894e-02,\n",
            "          2.5562e-02,  4.5167e-02,  8.5365e-02,  5.6708e-02, -6.3400e-02,\n",
            "         -1.6497e-02,  2.5046e-02, -5.5683e-02, -1.3206e-02, -4.1707e-02,\n",
            "          5.8062e-03,  4.5827e-02, -7.8020e-03,  3.4929e-02,  7.2549e-02,\n",
            "          1.6922e-02,  2.0336e-03,  2.8796e-02, -2.9841e-02,  9.1459e-02,\n",
            "          5.0122e-02,  3.8738e-02, -1.6880e-02, -1.1553e-01, -6.6737e-03,\n",
            "         -2.3127e-03,  1.7555e-02,  2.0222e-03, -1.4358e-02, -3.0713e-02,\n",
            "          5.1636e-02,  2.4001e-01,  1.9803e-02, -1.5868e-02, -2.6497e-02,\n",
            "         -3.4037e-02, -3.5215e-02,  5.3387e-02, -4.8209e-02,  4.5822e-02,\n",
            "          3.3669e-02,  3.7641e-02,  1.0740e-02,  3.2245e-02,  6.9093e-02,\n",
            "          2.9329e-02,  1.9683e-02, -1.8839e-02, -8.8733e-03, -3.8841e-02,\n",
            "         -1.2251e-02,  1.2160e-01,  2.3051e-02,  4.1421e-04, -2.0903e-02,\n",
            "          3.1036e-02,  9.2787e-02, -3.5768e-02, -3.0845e-02,  6.9676e-02,\n",
            "          6.6490e-02, -7.2861e-02, -1.2283e-02,  1.0152e-02, -1.5868e-03,\n",
            "         -9.6491e-02, -8.6770e-03, -3.3257e-02,  1.9656e-02,  4.1049e-03,\n",
            "         -6.5065e-02, -2.0688e-02,  2.8415e-02,  3.6351e-02,  1.6672e-02,\n",
            "          5.4702e-02,  1.3499e-02, -6.4132e-02, -2.9029e-02, -7.3483e-02,\n",
            "          4.0980e-02, -3.8132e-02,  1.0938e-01,  4.2458e-02,  1.6366e-02,\n",
            "         -2.6992e-03,  8.4556e-02, -5.2831e-02, -6.4580e-02,  1.0045e-02,\n",
            "         -1.7052e-02, -6.5967e-02,  4.0914e-02, -4.5249e-02,  5.4719e-02,\n",
            "         -5.3812e-02,  1.5418e-03,  4.3823e-02,  1.0315e-01,  2.6780e-02,\n",
            "          1.6293e-02,  1.6122e-02, -8.1813e-02,  3.9030e-02,  2.5715e-02,\n",
            "          6.5226e-02, -6.0537e-02,  2.1892e-02, -1.9041e-02, -2.6120e-02,\n",
            "         -4.5070e-02, -4.9169e-02,  1.2669e-02,  6.9287e-03, -7.5857e-02,\n",
            "         -2.9356e-02,  6.3172e-02,  5.0459e-02,  4.1876e-02,  7.4762e-02,\n",
            "          3.6780e-02, -4.0650e-02, -1.3670e-02,  2.9845e-02,  4.9605e-03,\n",
            "         -2.3229e-03,  1.8484e-02, -6.7095e-02,  1.2363e-02,  4.0224e-02,\n",
            "          3.1962e-02,  1.7049e-02,  2.2777e-02, -1.3280e-02,  3.3730e-02,\n",
            "         -3.8703e-02, -1.6981e-02, -1.1387e-02,  7.3266e-02,  6.1737e-02,\n",
            "         -1.3112e-02, -1.0017e-02,  3.6968e-03,  9.6325e-03, -5.6511e-02,\n",
            "          2.9552e-03, -2.9552e-02,  6.2159e-03,  6.1964e-02, -4.5629e-02,\n",
            "          5.7368e-02,  4.9045e-02,  3.7722e-02, -1.6186e-01, -1.7039e-02,\n",
            "         -4.3941e-02,  9.6158e-03, -2.1188e-02, -2.4246e-02,  1.4308e-02,\n",
            "          2.1840e-02,  3.6032e-02, -2.0752e-02, -9.1812e-03,  2.2839e-02,\n",
            "          7.8369e-02,  3.5759e-02, -3.1123e-02, -7.4861e-02,  8.6391e-03,\n",
            "          4.1151e-03,  1.0505e-02,  8.2908e-02,  7.9079e-02, -6.6949e-02,\n",
            "          7.2011e-02, -2.0720e-02,  8.3560e-02,  1.2470e-03,  1.3562e-02,\n",
            "          5.2212e-02, -1.4523e-02, -1.5969e-01,  2.3412e-02,  7.2151e-02,\n",
            "         -4.2926e-01,  2.7139e-02,  4.8605e-02,  1.3619e-02, -5.3203e-02,\n",
            "         -1.5568e-02, -5.1572e-02,  3.1149e-04, -8.2107e-02, -2.8887e-01,\n",
            "         -2.1212e-02, -1.1882e-02, -2.8436e-02,  6.1570e-02,  4.8024e-03,\n",
            "         -1.0853e-02, -3.9439e-02,  6.0942e-03,  3.6278e-02, -1.2372e-02,\n",
            "         -2.3462e-02, -8.0887e-02,  9.1250e-02,  5.2256e-02, -7.3001e-02,\n",
            "         -4.8860e-02, -8.1544e-03,  1.0159e-03, -2.5728e-02,  1.8782e-02,\n",
            "          2.6078e-02, -6.7531e-02,  8.6866e-02, -6.4242e-02, -1.2607e-01,\n",
            "          1.0082e-02, -4.8533e-02,  7.8178e-02, -2.5484e-02, -4.8605e-03,\n",
            "          7.3434e-02,  7.2934e-02,  4.6969e-02,  2.4856e-02, -6.1359e-02,\n",
            "         -2.9461e-02, -3.2150e-02,  4.4994e-02,  2.1193e-02,  7.1280e-02,\n",
            "          6.4211e-02, -4.1286e-02,  2.0037e-02, -6.9598e-02, -8.7855e-02,\n",
            "         -7.0055e-02, -2.9714e-02, -6.4483e-02,  3.6734e-02, -1.9776e-03,\n",
            "         -2.3552e-02,  2.2827e-02,  4.5512e-02,  3.8492e-02,  2.0103e-04,\n",
            "          7.7635e-02,  4.6231e-02,  3.4834e-02, -1.7659e-02, -8.3766e-02,\n",
            "          1.4131e-02, -3.1893e-03, -5.1823e-03,  7.2023e-02,  7.5449e-02,\n",
            "         -4.7386e-03,  1.0462e-02, -3.8978e-02,  2.7168e-02, -4.9389e-02,\n",
            "          1.0235e-02,  2.8414e-02, -2.0022e-02,  5.6233e-02,  7.8750e-02,\n",
            "         -3.3912e-02,  5.3506e-02, -5.7579e-02, -1.0951e-02,  3.6815e-02,\n",
            "         -3.5840e-02,  3.5763e-02,  4.1067e-02, -2.3126e-02, -8.7749e-02,\n",
            "          9.9559e-03,  1.0306e-02, -2.3607e-02, -1.2206e-02, -1.7982e-02,\n",
            "         -4.7059e-03, -5.0456e-02, -3.5429e-02, -1.8668e-02,  2.4941e-02,\n",
            "          2.3879e-02, -5.8734e-02,  3.5034e-02, -1.7165e-03,  1.7571e-02,\n",
            "          3.6196e-02, -5.4412e-02,  6.0726e-02,  1.0904e-02, -3.0896e-02,\n",
            "         -1.8254e-04, -6.6750e-03]], device='cuda:0')\n",
            "tensor([-1.2096, -1.2069, -2.4295], device='cuda:0', grad_fn=<SliceBackward0>)\n"
          ]
        }
      ]
    },
    {
      "cell_type": "code",
      "source": [
        "Wemb"
      ],
      "metadata": {
        "colab": {
          "base_uri": "https://localhost:8080/"
        },
        "id": "glIxSTZnzRSv",
        "outputId": "194d06b0-d768-44a9-b498-39c78f6b2eb6"
      },
      "execution_count": null,
      "outputs": [
        {
          "output_type": "execute_result",
          "data": {
            "text/plain": [
              "tensor([[0.5704, 0.4398, 0.5965, 0.1980],\n",
              "        [0.1603, 0.8624, 0.7394, 0.8273],\n",
              "        [0.6408, 0.4037, 0.8793, 0.6711],\n",
              "        [0.7586, 0.5244, 0.6401, 0.6179],\n",
              "        [0.0460, 0.5391, 0.8949, 0.9827],\n",
              "        [0.4686, 0.4335, 0.2629, 0.9856],\n",
              "        [0.8061, 0.4220, 0.8255, 0.2514],\n",
              "        [0.0526, 0.1697, 0.2963, 0.2130],\n",
              "        [0.7402, 0.8136, 0.3871, 0.2879],\n",
              "        [0.2652, 0.0402, 0.6527, 0.3249]], dtype=torch.float64)"
            ]
          },
          "metadata": {},
          "execution_count": 75
        }
      ]
    },
    {
      "cell_type": "code",
      "source": [
        "for param in rnn.parameters():\n",
        "    print(param[:3])"
      ],
      "metadata": {
        "colab": {
          "base_uri": "https://localhost:8080/"
        },
        "id": "wuBMa4Ec-Org",
        "outputId": "70c48cb4-3572-42b1-bda0-88cd2845eb98"
      },
      "execution_count": null,
      "outputs": [
        {
          "output_type": "stream",
          "name": "stdout",
          "text": [
            "tensor([[0.5704, 0.4398, 0.5965, 0.1980],\n",
            "        [0.1603, 0.8624, 0.7394, 0.8273],\n",
            "        [0.6408, 0.4037, 0.8793, 0.6711]])\n",
            "tensor([[ 0.4362,  0.1147,  0.0451, -0.1344],\n",
            "        [ 0.5495,  0.4788,  0.0143,  0.4321],\n",
            "        [-0.2826,  0.3624,  0.4951,  0.4399]], grad_fn=<SliceBackward0>)\n",
            "tensor([[-0.1491, -0.1508, -0.0161, -0.4091],\n",
            "        [-0.5806,  0.4944, -0.1787, -0.5823],\n",
            "        [ 0.3364,  0.0742, -0.3260, -0.4880]], grad_fn=<SliceBackward0>)\n",
            "tensor([-0.2303,  0.3446, -0.0392], grad_fn=<SliceBackward0>)\n",
            "tensor([ 0.4675,  0.4696, -0.2197], grad_fn=<SliceBackward0>)\n",
            "tensor([[ 0.0812,  0.0496, -0.2597,  0.2574],\n",
            "        [-0.2986,  0.2188, -0.4719, -0.3133],\n",
            "        [ 0.0777,  0.4203, -0.4143,  0.2328]], grad_fn=<SliceBackward0>)\n",
            "tensor([[-0.3277,  0.0181,  0.1832, -0.1319],\n",
            "        [ 0.2915,  0.3378,  0.1421, -0.1265],\n",
            "        [-0.2072, -0.3991, -0.4702, -0.3347]], grad_fn=<SliceBackward0>)\n",
            "tensor([-0.0266,  0.0412, -0.3356], grad_fn=<SliceBackward0>)\n",
            "tensor([-0.2209,  0.3401, -0.3863], grad_fn=<SliceBackward0>)\n",
            "tensor([[-0.2277,  0.2528, -0.0076, -0.3158],\n",
            "        [-0.2544, -0.1905, -0.4894, -0.2351],\n",
            "        [ 0.0154,  0.0761, -0.2347,  0.5196]], grad_fn=<SliceBackward0>)\n",
            "tensor([[-0.3833,  0.2392,  0.3131, -0.2680],\n",
            "        [ 0.2771, -0.0023, -0.3807,  0.4034],\n",
            "        [ 0.1619, -0.3683,  0.0403,  0.0234]], grad_fn=<SliceBackward0>)\n",
            "tensor([ 0.3300, -0.3610,  0.3050], grad_fn=<SliceBackward0>)\n",
            "tensor([0.2360, 0.3245, 0.3061], grad_fn=<SliceBackward0>)\n",
            "tensor([[0.5704, 0.4398, 0.5965, 0.1980],\n",
            "        [0.1603, 0.8624, 0.7394, 0.8273],\n",
            "        [0.6408, 0.4037, 0.8793, 0.6711]])\n",
            "tensor([-0.5348, -0.5518, -0.2775], grad_fn=<SliceBackward0>)\n"
          ]
        }
      ]
    },
    {
      "cell_type": "code",
      "source": [
        "rnn.embedding.weight.requires_grad\n",
        "#data.copy_(Wemb)"
      ],
      "metadata": {
        "colab": {
          "base_uri": "https://localhost:8080/"
        },
        "id": "hvuVE9aH47EA",
        "outputId": "05d4317a-41cf-4d77-ff3b-09097aece37c"
      },
      "execution_count": null,
      "outputs": [
        {
          "output_type": "execute_result",
          "data": {
            "text/plain": [
              "True"
            ]
          },
          "metadata": {},
          "execution_count": 61
        }
      ]
    },
    {
      "cell_type": "code",
      "source": [
        "tmp = nn.Embedding(2, 3)"
      ],
      "metadata": {
        "id": "Bm14V1cl42Ve"
      },
      "execution_count": null,
      "outputs": []
    },
    {
      "cell_type": "code",
      "source": [
        "tmp.weight.requires_grad_(False)"
      ],
      "metadata": {
        "colab": {
          "base_uri": "https://localhost:8080/"
        },
        "id": "w4KPPTUy6hZ8",
        "outputId": "0f224e4c-fa30-4f81-a6cf-8c367eaf6195"
      },
      "execution_count": null,
      "outputs": [
        {
          "output_type": "execute_result",
          "data": {
            "text/plain": [
              "Parameter containing:\n",
              "tensor([[ 0.6603, -0.3301, -1.4681],\n",
              "        [ 0.7815,  0.5942,  1.5088]])"
            ]
          },
          "metadata": {},
          "execution_count": 52
        }
      ]
    },
    {
      "cell_type": "code",
      "source": [
        "tmp.weight"
      ],
      "metadata": {
        "colab": {
          "base_uri": "https://localhost:8080/"
        },
        "id": "TDpW7oiY7iUa",
        "outputId": "b758897c-50b1-4a49-a931-3f703b78b854"
      },
      "execution_count": null,
      "outputs": [
        {
          "output_type": "execute_result",
          "data": {
            "text/plain": [
              "Parameter containing:\n",
              "tensor([[ 0.6603, -0.3301, -1.4681],\n",
              "        [ 0.7815,  0.5942,  1.5088]])"
            ]
          },
          "metadata": {},
          "execution_count": 54
        }
      ]
    },
    {
      "cell_type": "markdown",
      "metadata": {
        "id": "Ef--pXMnrWxb"
      },
      "source": [
        "## разбираемся с размерностями параметров"
      ]
    },
    {
      "cell_type": "code",
      "execution_count": null,
      "metadata": {
        "id": "834VeZmsrWxb",
        "outputId": "7edc8794-4ab8-4291-9c87-6dbbb92d30cd"
      },
      "outputs": [
        {
          "name": "stdout",
          "output_type": "stream",
          "text": [
            "torch.Size([100, 1])\n"
          ]
        },
        {
          "data": {
            "text/plain": [
              "tensor([[ 85,  81,   0,  96,  92,  77,  81,  84,  87,  90, 101,   6,   0,  74,\n",
              "          92,  77,  91,  87,   0,  75,   0,  90,  91,  78,  88,  81,   0,  75,\n",
              "          90,  78,  76,  87,   0,  77,  75,  73,   0,  96,  78,  84,  87,  75,\n",
              "          78,  83,  73,  20,   0,  90,  73,  85,  73,   0,  66,  73,  76,  73,\n",
              "           0,  81,   0,  80,  73,  94,  87,  77, 104,  98,  73, 104,  90, 104,\n",
              "           0,  75,   0,  83,  89,  81,  83,  78,   0,  56,  73,  91, 101,   8,\n",
              "           0,   7,   0,  48,  73,   0,  88,  87,  77,  83,  89,  73,  77,  78,\n",
              "          91,  90]], device='cuda:0')"
            ]
          },
          "execution_count": 21,
          "metadata": {},
          "output_type": "execute_result"
        }
      ],
      "source": [
        "data_ptr = 1000\n",
        "input_seq = data[data_ptr : data_ptr+seq_len]\n",
        "target_seq = data[data_ptr+1 : data_ptr+seq_len+1]\n",
        "print (input_seq.shape) # окно x 1\n",
        "input_seq.T"
      ]
    },
    {
      "cell_type": "code",
      "execution_count": null,
      "metadata": {
        "id": "YS2jb56wrWxb",
        "outputId": "14ecd156-64f6-44a1-b2fb-1095bbf0045d"
      },
      "outputs": [
        {
          "data": {
            "text/plain": [
              "(torch.Size([100, 1, 105]), torch.Size([3, 1, 512]), torch.Size([3, 1, 512]))"
            ]
          },
          "execution_count": 28,
          "metadata": {},
          "output_type": "execute_result"
        }
      ],
      "source": [
        "output, hidden_state = rnn(input_seq, None)\n",
        "print (output.shape, # окно x 1 x число символов\n",
        "       hidden_state[0].shape, # число слоёв x 1 x размерность состояния\n",
        "       hidden_state[1].shape) # число слоёв x 1 x размерность состояния"
      ]
    },
    {
      "cell_type": "code",
      "execution_count": null,
      "metadata": {
        "id": "wpTs08T9rWxc",
        "outputId": "374ba1a8-fde8-4aaf-ca23-2a3c369abce0"
      },
      "outputs": [
        {
          "name": "stdout",
          "output_type": "stream",
          "text": [
            "torch.Size([100, 105]) torch.Size([100])\n"
          ]
        }
      ],
      "source": [
        "print(torch.squeeze(output).shape, # убираем фиктивную размерность\n",
        "      torch.squeeze(target_seq).shape)"
      ]
    },
    {
      "cell_type": "code",
      "execution_count": null,
      "metadata": {
        "id": "n5HwPnkkrWxd",
        "outputId": "acffa6c2-5edd-4dcc-d40a-0c1617e1973d"
      },
      "outputs": [
        {
          "name": "stdout",
          "output_type": "stream",
          "text": [
            "torch.Size([100, 1, 105])\n"
          ]
        }
      ],
      "source": [
        "embedding = rnn.embedding(input_seq)\n",
        "print (embedding.shape) # окно x 1 x число символов"
      ]
    },
    {
      "cell_type": "code",
      "execution_count": null,
      "metadata": {
        "id": "hlEVG8vkrWxd",
        "outputId": "cdeccfb5-5f30-449e-c5cc-72515e4c55c6"
      },
      "outputs": [
        {
          "name": "stdout",
          "output_type": "stream",
          "text": [
            "torch.Size([100, 1, 512]) torch.Size([3, 1, 512]) torch.Size([3, 1, 512])\n"
          ]
        }
      ],
      "source": [
        "output, hidden_state = rnn.rnn(embedding, hidden_state)\n",
        "print (output.shape, # окно x 1 x размерность состояния\n",
        "       hidden_state[0].shape,  # число слоёв x 1 x размерность состояния\n",
        "       hidden_state[1].shape) # число слоёв x 1 x число символов"
      ]
    },
    {
      "cell_type": "code",
      "execution_count": null,
      "metadata": {
        "id": "-bCOELQArWxe",
        "outputId": "8b2b6494-1c6e-48ee-aed1-27a3670f8c1f"
      },
      "outputs": [
        {
          "name": "stdout",
          "output_type": "stream",
          "text": [
            "torch.Size([100, 1, 105])\n"
          ]
        }
      ],
      "source": [
        "output = rnn.decoder(output)\n",
        "print (output.shape)  # окно x 1 x число символов"
      ]
    },
    {
      "cell_type": "code",
      "execution_count": null,
      "metadata": {
        "id": "TcVLlO36rWxe"
      },
      "outputs": [],
      "source": []
    }
  ],
  "metadata": {
    "kernelspec": {
      "display_name": "Python 3",
      "language": "python",
      "name": "python3"
    },
    "language_info": {
      "codemirror_mode": {
        "name": "ipython",
        "version": 3
      },
      "file_extension": ".py",
      "mimetype": "text/x-python",
      "name": "python",
      "nbconvert_exporter": "python",
      "pygments_lexer": "ipython3",
      "version": "3.8.8"
    },
    "colab": {
      "provenance": [],
      "include_colab_link": true
    },
    "accelerator": "GPU",
    "gpuClass": "standard"
  },
  "nbformat": 4,
  "nbformat_minor": 0
}