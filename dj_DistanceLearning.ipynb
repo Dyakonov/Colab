{
  "nbformat": 4,
  "nbformat_minor": 0,
  "metadata": {
    "colab": {
      "provenance": [],
      "authorship_tag": "ABX9TyOD01suWKz3XbcY/FcD10Iu",
      "include_colab_link": true
    },
    "kernelspec": {
      "name": "python3",
      "display_name": "Python 3"
    },
    "language_info": {
      "name": "python"
    },
    "gpuClass": "standard",
    "accelerator": "GPU"
  },
  "cells": [
    {
      "cell_type": "markdown",
      "metadata": {
        "id": "view-in-github",
        "colab_type": "text"
      },
      "source": [
        "<a href=\"https://colab.research.google.com/github/Dyakonov/Colab/blob/main/dj_DistanceLearning.ipynb\" target=\"_parent\"><img src=\"https://colab.research.google.com/assets/colab-badge.svg\" alt=\"Open In Colab\"/></a>"
      ]
    },
    {
      "cell_type": "markdown",
      "source": [
        "\n",
        "# Учим L2-расстояние\n",
        "\n",
        "* тут не SGD - м.б. поменять\n",
        "* визуализация функции ошибки"
      ],
      "metadata": {
        "id": "Lt6LR3ZfIY6L"
      }
    },
    {
      "cell_type": "code",
      "source": [
        "import torch\n",
        "from torch import nn, optim\n",
        "device = torch.device(\"cuda:0\" if torch.cuda.is_available() else \"cpu\")"
      ],
      "metadata": {
        "id": "faP3tjcF_04V"
      },
      "execution_count": null,
      "outputs": []
    },
    {
      "cell_type": "code",
      "source": [
        "from IPython import display\n",
        "import numpy as np\n",
        "from matplotlib import pyplot as plt\n",
        "import copy\n",
        "from torch.optim.lr_scheduler import StepLR"
      ],
      "metadata": {
        "id": "GtrtlxMIEaYq"
      },
      "execution_count": null,
      "outputs": []
    },
    {
      "cell_type": "code",
      "source": [
        "# инициализация генератора псевдослучайных чисел\n",
        "\n",
        "def set_seed(seed):\n",
        "    np.random.seed(seed)\n",
        "    torch.manual_seed(seed)\n",
        "    if torch.cuda.is_available(): # для GPU отдельный seed\n",
        "        torch.cuda.manual_seed(seed)\n",
        "        torch.cuda.manual_seed_all(seed)\n",
        "\n",
        "set_seed(43)\n",
        "\n",
        "# есть стохастические операции на GPU\n",
        "# сделаем их детерминированными для воспроизводимости\n",
        "torch.backends.cudnn.determinstic = True\n",
        "torch.backends.cudnn.benchmark = False"
      ],
      "metadata": {
        "id": "uteTD9XpSiZ3"
      },
      "execution_count": null,
      "outputs": []
    },
    {
      "cell_type": "code",
      "source": [
        "# при n0 = 1 это обычный модуль!!!\n",
        "\n",
        "n0 = 5 # число признаков в одном векторе\n",
        "n = 2 * n0  # общее число признаков\n",
        "m = 10000 # число объектов в выборке\n",
        "k = 3 # увеличение признакового пространства в сети\n",
        "nlayers = 5 # число слоёв в сети\n",
        "learning_rate = 1e-1\n",
        "use_scheduler = True"
      ],
      "metadata": {
        "id": "PgpT8vPFIpuk"
      },
      "execution_count": null,
      "outputs": []
    },
    {
      "cell_type": "code",
      "source": [
        "def model_L_DN_F(n_input, width, nlayers):\n",
        "  \"\"\"\n",
        "  сеть Linear + BN + ReLU\n",
        "  \"\"\"\n",
        "  model = torch.nn.Sequential()\n",
        "  model.add_module('L0', nn.Linear(n_input, width))\n",
        "  model.add_module('BN0',  nn.BatchNorm1d(width))\n",
        "  for i in range(nlayers - 2):\n",
        "    model.add_module('RELU' + str(i),  nn.ReLU())\n",
        "    model.add_module('L'+str(i+1),  nn.Linear(width, width, bias=False)) # ДОБАВИЛ , bias=False\n",
        "    model.add_module('BN'+str(i+1),  nn.BatchNorm1d(width))\n",
        "  model.add_module('RELU' + str(nlayers - 2),  nn.ReLU())\n",
        "  model.add_module('L' + str(nlayers - 1),  nn.Linear(width, 1))\n",
        "  return(model)\n",
        "\n",
        "\n",
        "\n",
        "# модель - ОШИБКА - есть шаринг среди слоёв\n",
        "#layers = [nn.Linear(n, k*n)]\n",
        "#layers += [nn.ReLU(), nn.BatchNorm1d(k*n), nn.Linear(k*n, k*n)] * (nlayers - 2)\n",
        "#layers += [nn.ReLU(), nn.BatchNorm1d(k*n), nn.Linear(k*n, 1)]\n",
        "\n",
        "# модель - нет имён слоёв\n",
        "#layers = [nn.Linear(n, k*n, bias=False), nn.BatchNorm1d(k*n)]\n",
        "#for i in range(nlayers - 2): # иначе будет разделение параметров\n",
        "#  layers += [nn.ReLU(), nn.Linear(k*n, k*n, bias=False), nn.BatchNorm1d(k*n)]\n",
        "#layers += [nn.ReLU(), nn.Linear(k*n, 1)]\n",
        "\n",
        "\n",
        "# model = torch.nn.Sequential()\n",
        "# model.add_module('L0', nn.Linear(n, k*n))\n",
        "# model.add_module('BN0',  nn.BatchNorm1d(k*n))\n",
        "# for i in range(nlayers - 2):\n",
        "#   model.add_module('RELU' + str(i),  nn.ReLU())\n",
        "#   model.add_module('L'+str(i+1),  nn.Linear(k*n, k*n, bias=False))\n",
        "#   model.add_module('BN'+str(i+1),  nn.BatchNorm1d(k*n))\n",
        "# model.add_module('RELU' + str(nlayers - 2),  nn.ReLU())\n",
        "# model.add_module('L' + str(nlayers - 1),  nn.Linear(k*n, 1))\n",
        "\n",
        "\n",
        "\n",
        "\n",
        "#model = nn.Linear(n, 1)\n",
        "\n",
        "#optimizer = torch.optim.SGD(model.parameters(), lr=learning_rate, weight_decay=lambda_l2) # built-in L2\n",
        "#optimizer = torch.optim.SGD(model.parameters(), lr=learning_rate)\n",
        "\n",
        "\n"
      ],
      "metadata": {
        "id": "oYVtXqsv_4pf"
      },
      "execution_count": null,
      "outputs": []
    },
    {
      "cell_type": "code",
      "source": [
        "model = model_L_DN_F(n, k*n, nlayers)\n",
        "model.to(device)\n",
        "\n",
        "# MSE\n",
        "criterion = nn.MSELoss()\n",
        "# оптимизатор\n",
        "optimizer = torch.optim.Adam(model.parameters(), lr=learning_rate)\n",
        "# программатор\n",
        "scheduler = StepLR(optimizer, step_size=10, gamma=0.9)\n",
        "\n",
        "model"
      ],
      "metadata": {
        "colab": {
          "base_uri": "https://localhost:8080/"
        },
        "id": "V5eBTol8SlIa",
        "outputId": "bd77bea2-f2c1-4261-dfa3-237e0c30222d"
      },
      "execution_count": null,
      "outputs": [
        {
          "output_type": "execute_result",
          "data": {
            "text/plain": [
              "Sequential(\n",
              "  (L0): Linear(in_features=10, out_features=30, bias=True)\n",
              "  (BN0): BatchNorm1d(30, eps=1e-05, momentum=0.1, affine=True, track_running_stats=True)\n",
              "  (RELU0): ReLU()\n",
              "  (L1): Linear(in_features=30, out_features=30, bias=True)\n",
              "  (BN1): BatchNorm1d(30, eps=1e-05, momentum=0.1, affine=True, track_running_stats=True)\n",
              "  (RELU1): ReLU()\n",
              "  (L2): Linear(in_features=30, out_features=30, bias=True)\n",
              "  (BN2): BatchNorm1d(30, eps=1e-05, momentum=0.1, affine=True, track_running_stats=True)\n",
              "  (RELU2): ReLU()\n",
              "  (L3): Linear(in_features=30, out_features=30, bias=True)\n",
              "  (BN3): BatchNorm1d(30, eps=1e-05, momentum=0.1, affine=True, track_running_stats=True)\n",
              "  (RELU3): ReLU()\n",
              "  (L4): Linear(in_features=30, out_features=1, bias=True)\n",
              ")"
            ]
          },
          "metadata": {},
          "execution_count": 12
        }
      ]
    },
    {
      "cell_type": "code",
      "source": [
        "def makeXtrain(m, n0, device):\n",
        "  # делаем выборку\n",
        "  X = torch.rand(m, 2*n0)\n",
        "  # X[:,-n0:] = X[:,:n0] - X[:,-n0:] # УБРАТЬ ПОТОМ\n",
        "  # X[:,:n0] = 0 # УБРАТЬ ПОТОМ\n",
        "\n",
        "  y = ((X[:,:n0] - X[:,-n0:]) ** 2).mean(axis=1, keepdim=True).sqrt() # не SUM, а MEAN!!!\n",
        "  #y = X.mean(axis=1, keepdim=True) # УБРАТЬ ПОТОМ\n",
        "  return X.to(device), y.to(device);"
      ],
      "metadata": {
        "id": "k1BXUwTKBV3h"
      },
      "execution_count": null,
      "outputs": []
    },
    {
      "cell_type": "code",
      "source": [
        "# X_train, y_train"
      ],
      "metadata": {
        "id": "-GgxjetLLcCP"
      },
      "execution_count": null,
      "outputs": []
    },
    {
      "cell_type": "code",
      "source": [
        "%%time\n",
        "\n",
        "n_epoches = 1000\n",
        "\n",
        "losses1 = np.zeros(n_epoches)\n",
        "losses2 = np.zeros(n_epoches)\n",
        "\n",
        "set_seed(43)\n",
        "# контроль\n",
        "X_test, y_test = makeXtrain(m=m, n0=n0, device=device)\n",
        "\n",
        "\n",
        "# X_train, y_train = makeXtrain(m=m, n0=n0, device=device) # ПЕРЕНЁС СЮДА - ВЕРНУТЬ!!!!!!\n",
        "\n",
        "for t in range(n_epoches):\n",
        "    # обучение\n",
        "    # небольшой датасет - сразу по всему!\n",
        "    X_train, y_train = makeXtrain(m=m, n0=n0, device=device)\n",
        "\n",
        "    model.train()\n",
        "    a_train = model(X_train)\n",
        "    loss = criterion(a_train, y_train)\n",
        "    optimizer.zero_grad() # обнулить градиент\n",
        "    loss.backward()  # обратный проход\n",
        "    optimizer.step() # поправка весов\n",
        "\n",
        "    if use_scheduler:\n",
        "      scheduler.step() # поправка LR\n",
        "\n",
        "    model.eval()\n",
        "    with torch.no_grad():\n",
        "        a_test = model(X_test)\n",
        "        test_loss = criterion(a_test, y_test)\n",
        "\n",
        "        if t==1:\n",
        "          # сохранить некоторые чекпоинты\n",
        "          model1 = copy.deepcopy(model)\n",
        "        elif t==10:\n",
        "          model2 = copy.deepcopy(model)\n",
        "\n",
        "        #w_norm = []\n",
        "        #g_norm = []\n",
        "        #for name, param in model.named_parameters():\n",
        "        #    if param.requires_grad:\n",
        "        #        w_norm.append(param.data.norm().item())\n",
        "        #        g_norm.append(param.grad.data.norm().item())\n",
        "\n",
        "    losses1[t] = loss.item()\n",
        "    losses2[t] = test_loss.item()\n",
        "    print(\"[EPOCH]: %i, [LOSS]: %.6f, [LOSS2]: %.6f\" % (t, losses1[t], losses2[t]))\n",
        "\n",
        "    display.clear_output(wait=True)\n",
        "\n",
        "# 10 CPU times: user 816 ms, sys: 44.1 ms, total: 860 ms Wall time: 1.02 s\n",
        "# 1000 CPU times: user 12.1 s, sys: 1.02 s, total: 13.1 s Wall time: 16.3 s"
      ],
      "metadata": {
        "colab": {
          "base_uri": "https://localhost:8080/"
        },
        "id": "5o3zl2fJBw_Y",
        "outputId": "b120cfc2-4751-42ce-b264-37b47b43a9aa"
      },
      "execution_count": null,
      "outputs": [
        {
          "output_type": "stream",
          "name": "stdout",
          "text": [
            "CPU times: user 12.1 s, sys: 1.02 s, total: 13.1 s\n",
            "Wall time: 16.3 s\n"
          ]
        }
      ]
    },
    {
      "cell_type": "code",
      "source": [
        "print(\"[EPOCH]: %i, [LOSS]: %.6f, [LOSS2]: %.6f\" % (t, losses1[t], losses2[t]))"
      ],
      "metadata": {
        "colab": {
          "base_uri": "https://localhost:8080/"
        },
        "id": "BFOP2F0kH3AH",
        "outputId": "1e31b534-8e0d-413c-cd4b-f2d61807fbc5"
      },
      "execution_count": null,
      "outputs": [
        {
          "output_type": "stream",
          "name": "stdout",
          "text": [
            "[EPOCH]: 999, [LOSS]: 0.009527, [LOSS2]: 0.009618\n"
          ]
        }
      ]
    },
    {
      "cell_type": "code",
      "source": [
        "# model"
      ],
      "metadata": {
        "id": "pv4wt94USkeG"
      },
      "execution_count": null,
      "outputs": []
    },
    {
      "cell_type": "code",
      "source": [
        "baseline = criterion(y_test, y_test*0 + y_test.mean()).item()\n",
        "\n",
        "\n",
        "plt.figure(figsize=(14, 3))\n",
        "plt.plot(losses1*0 + baseline, '--', c='black', label='baseline', lw=1)\n",
        "plt.plot(losses1, c='blue', label='train', lw=2)\n",
        "plt.plot(losses2, c='red', label='test', lw=2)\n",
        "# plt.ylim([0.00, 0.5])\n",
        "plt.xlim([0, 100])\n",
        "plt.xlabel('epoch')\n",
        "plt.ylabel('loss')\n",
        "plt.legend(loc=(1,0))\n",
        "plt.yscale('log')"
      ],
      "metadata": {
        "colab": {
          "base_uri": "https://localhost:8080/",
          "height": 225
        },
        "id": "x4onKhH7CLC-",
        "outputId": "97a3aadc-c2ab-4206-b258-a670ced8554d"
      },
      "execution_count": null,
      "outputs": [
        {
          "output_type": "display_data",
          "data": {
            "text/plain": [
              "<Figure size 1008x216 with 1 Axes>"
            ],
            "image/png": "[encoded data removed]"
          },
          "metadata": {
            "needs_background": "light"
          }
        }
      ]
    },
    {
      "cell_type": "code",
      "source": [
        "plt.scatter(a_test.detach().cpu(), y_test.detach().cpu(), 20, c='#000099', edgecolor='w', lw=0.3)\n",
        "plt.xlim([0, 1])\n",
        "plt.ylim([0, 1])\n",
        "plt.xlabel('a_test')\n",
        "plt.ylabel('y_test')"
      ],
      "metadata": {
        "colab": {
          "base_uri": "https://localhost:8080/",
          "height": 301
        },
        "id": "CyHbIUx9khPi",
        "outputId": "76a62e32-ca47-468d-a388-8fd03ca09b8a"
      },
      "execution_count": null,
      "outputs": [
        {
          "output_type": "execute_result",
          "data": {
            "text/plain": [
              "Text(0, 0.5, 'y_test')"
            ]
          },
          "metadata": {},
          "execution_count": 24
        },
        {
          "output_type": "display_data",
          "data": {
            "text/plain": [
              "<Figure size 432x288 with 1 Axes>"
            ],
            "image/png": "[encoded data removed]"
          },
          "metadata": {
            "needs_background": "light"
          }
        }
      ]
    },
    {
      "cell_type": "code",
      "source": [],
      "metadata": {
        "id": "2_izAoPWCNtm"
      },
      "execution_count": null,
      "outputs": []
    },
    {
      "cell_type": "code",
      "source": [
        "X_test"
      ],
      "metadata": {
        "colab": {
          "base_uri": "https://localhost:8080/"
        },
        "id": "rghB75zSbYe9",
        "outputId": "89c6840a-df1d-47bd-daa1-af128636f7ff"
      },
      "execution_count": null,
      "outputs": [
        {
          "output_type": "execute_result",
          "data": {
            "text/plain": [
              "tensor([[0.2849, 0.4452],\n",
              "        [0.1258, 0.9554],\n",
              "        [0.1330, 0.7672],\n",
              "        ...,\n",
              "        [0.2074, 0.7526],\n",
              "        [0.2727, 0.6339],\n",
              "        [0.0251, 0.1789]])"
            ]
          },
          "metadata": {},
          "execution_count": 34
        }
      ]
    },
    {
      "cell_type": "code",
      "source": [
        "y_test"
      ],
      "metadata": {
        "colab": {
          "base_uri": "https://localhost:8080/"
        },
        "id": "Fl7Ii853kM7C",
        "outputId": "389d038a-9e4b-466c-a998-cb1e086aaccf"
      },
      "execution_count": null,
      "outputs": [
        {
          "output_type": "execute_result",
          "data": {
            "text/plain": [
              "tensor([[0.1603],\n",
              "        [0.8297],\n",
              "        [0.6342],\n",
              "        ...,\n",
              "        [0.5451],\n",
              "        [0.3612],\n",
              "        [0.1538]])"
            ]
          },
          "metadata": {},
          "execution_count": 35
        }
      ]
    },
    {
      "cell_type": "code",
      "source": [
        "0.7071 - 0.6581, 0.4913 -  0.8913"
      ],
      "metadata": {
        "colab": {
          "base_uri": "https://localhost:8080/"
        },
        "id": "uXkPRdCgkSUA",
        "outputId": "1a43e187-120d-4234-fd9e-f56000881395"
      },
      "execution_count": null,
      "outputs": [
        {
          "output_type": "execute_result",
          "data": {
            "text/plain": [
              "(0.04899999999999993, -0.39999999999999997)"
            ]
          },
          "metadata": {},
          "execution_count": 36
        }
      ]
    },
    {
      "cell_type": "markdown",
      "source": [
        "# Визуализация поверхности ошибок\n",
        "\n",
        "* Но тут среди параметров и BN???"
      ],
      "metadata": {
        "id": "2lNtP9sYvWfM"
      }
    },
    {
      "cell_type": "code",
      "source": [
        "# https://olaralex.com/visualizing-the-loss-landscape/\n",
        "# но там была ошибка\n",
        "\n",
        "import copy\n",
        "\n",
        "def init_directions(model):\n",
        "    # случайная инициализация\n",
        "    noises = []\n",
        "\n",
        "    n_params = 0\n",
        "    for name, param in model.named_parameters():\n",
        "        delta = torch.normal(.0, 1., size=param.size(), device=device)\n",
        "        nu = torch.normal(.0, 1., size=param.size(), device=device)\n",
        "\n",
        "        param_norm = torch.norm(param)\n",
        "        delta_norm = torch.norm(delta)\n",
        "        nu_norm = torch.norm(nu)\n",
        "\n",
        "        delta /= delta_norm\n",
        "        delta *= param_norm\n",
        "\n",
        "        nu /= nu_norm\n",
        "        nu *= param_norm\n",
        "\n",
        "        #if (\"BN\" in name) and (\"weight\" in name):\n",
        "        #  delta *= 0\n",
        "        #  nu *= 0\n",
        "        #  print (\"-\")\n",
        "        noises.append((delta, nu))\n",
        "\n",
        "        n_params += np.prod(param.size())\n",
        "        print (name, param.size())\n",
        "\n",
        "    print(f'A total of {n_params:,} parameters.')\n",
        "\n",
        "    return noises\n",
        "\n",
        "\n",
        "\n",
        "def init_directions_frommodels(model, model1, model2):\n",
        "    # из чекпоинтов\n",
        "    noises = []\n",
        "\n",
        "    n_params = 0\n",
        "    for t, t1, t2 in zip(model.parameters(), model1.parameters(), model2.parameters()):\n",
        "        delta = t.detach() - t1.detach()\n",
        "        nu = t.detach() - t2.detach()\n",
        "\n",
        "        t_norm = torch.norm(t)\n",
        "        delta_norm = torch.norm(delta)\n",
        "        nu_norm = torch.norm(nu)\n",
        "\n",
        "        delta /= delta_norm\n",
        "        delta *= t_norm\n",
        "\n",
        "        nu /= nu_norm\n",
        "        nu *= t_norm\n",
        "\n",
        "        noises.append((delta, nu))\n",
        "\n",
        "        n_params += np.prod(t.size())\n",
        "\n",
        "    print(f'A total of {n_params:,} parameters.')\n",
        "\n",
        "    return noises\n",
        "\n",
        "\n",
        "def init_network(model, model_tmp, all_noises, alpha, beta):\n",
        "    with torch.no_grad():\n",
        "        for param, param_tmp, noises in zip(model.parameters(), model_tmp.parameters(), all_noises):\n",
        "            delta, nu = noises\n",
        "            # the scaled noises added to the current filter\n",
        "            new_value = param + alpha * delta + beta * nu\n",
        "            param_tmp.copy_(new_value)\n",
        "    return model_tmp"
      ],
      "metadata": {
        "id": "3xp5hCvwqrfG"
      },
      "execution_count": null,
      "outputs": []
    },
    {
      "cell_type": "code",
      "source": [
        "# Creating the initial noise directions\n",
        "# noises = init_directions(model)\n",
        "noises = init_directions_frommodels(model, model1, model2)\n",
        "\n",
        "# модель для экспериментов\n",
        "model_tmp = copy.deepcopy(model)\n",
        "\n",
        "# Our loss function (for categorical problems)\n",
        "crit = nn.MSELoss()\n",
        "\n",
        "RESOLUTION = 41\n",
        "scale = 1.0\n",
        "\n",
        "# The mesh-grid\n",
        "A, B = np.meshgrid(scale*np.linspace(-1.0, 1.0, RESOLUTION),\n",
        "                   scale*np.linspace(-1.0, 1.0, RESOLUTION), indexing='ij')\n",
        "\n",
        "loss_surface = np.empty_like(A)\n",
        "\n",
        "for i in range(RESOLUTION):\n",
        "    for j in range(RESOLUTION):\n",
        "        alpha = A[i, j]\n",
        "        beta = B[i, j]\n",
        "        # Initilazing the network to the current directions (alpha, beta)\n",
        "        model_tmp = init_network(model, model_tmp, noises, alpha, beta) #.to('cuda')\n",
        "\n",
        "        model_tmp.eval()\n",
        "\n",
        "        with torch.no_grad():\n",
        "          preds = model_tmp(X_test)\n",
        "          loss = crit(preds, y_test)\n",
        "\n",
        "        loss_surface[i, j] = loss.item()\n",
        "\n",
        "        # print (alpha, beta, loss.item())\n",
        "        # Freeing up GPU memory\n",
        "del model_tmp\n",
        "#torch.cuda.empty_cache()\n"
      ],
      "metadata": {
        "colab": {
          "base_uri": "https://localhost:8080/"
        },
        "id": "EAWM2uYoq0Wo",
        "outputId": "0183dca8-e85a-41cd-cc5f-123ba349cb88"
      },
      "execution_count": null,
      "outputs": [
        {
          "output_type": "stream",
          "name": "stdout",
          "text": [
            "A total of 3,391 parameters.\n"
          ]
        }
      ]
    },
    {
      "cell_type": "code",
      "source": [
        "#model.named_parameters()\n",
        "#model\n",
        "# next(model.named_parameters())\n",
        "\n",
        "plt.imshow(loss_surface, extent=[-scale, scale, -scale, scale], origin='lower',\n",
        "           cmap='Purples_r', alpha=1.0)\n",
        "plt.colorbar()"
      ],
      "metadata": {
        "colab": {
          "base_uri": "https://localhost:8080/",
          "height": 293
        },
        "id": "1OP9GaT6w7xA",
        "outputId": "29803248-2ae2-4eb3-c133-e3b67e59ade5"
      },
      "execution_count": null,
      "outputs": [
        {
          "output_type": "execute_result",
          "data": {
            "text/plain": [
              "<matplotlib.colorbar.Colorbar at 0x7fe8112ee690>"
            ]
          },
          "metadata": {},
          "execution_count": 107
        },
        {
          "output_type": "display_data",
          "data": {
            "text/plain": [
              "<Figure size 432x288 with 2 Axes>"
            ],
            "image/png": "[encoded data removed]"
          },
          "metadata": {
            "needs_background": "light"
          }
        }
      ]
    },
    {
      "cell_type": "code",
      "source": [
        "#plt.imshow(loss_surface, cmap='Blues')\n",
        "plt.imshow(np.log1p(np.log1p(loss_surface)), extent=[-1, 1, -1, 1], origin='lower',\n",
        "           cmap='Purples_r', alpha=1.0)\n",
        "plt.colorbar()"
      ],
      "metadata": {
        "colab": {
          "base_uri": "https://localhost:8080/",
          "height": 286
        },
        "id": "V2b87j9KrbrG",
        "outputId": "a162df6e-231f-46f6-fb9d-040247bec773"
      },
      "execution_count": null,
      "outputs": [
        {
          "output_type": "execute_result",
          "data": {
            "text/plain": [
              "<matplotlib.colorbar.Colorbar at 0x7fe8110fe550>"
            ]
          },
          "metadata": {},
          "execution_count": 109
        },
        {
          "output_type": "display_data",
          "data": {
            "text/plain": [
              "<Figure size 432x288 with 2 Axes>"
            ],
            "image/png": "[encoded data removed]"
          },
          "metadata": {
            "needs_background": "light"
          }
        }
      ]
    },
    {
      "cell_type": "code",
      "source": [
        "plt.imshow(A)\n",
        "plt.colorbar()\n",
        "plt.show()\n",
        "plt.imshow(B)\n",
        "plt.colorbar()\n",
        "plt.show()"
      ],
      "metadata": {
        "colab": {
          "base_uri": "https://localhost:8080/",
          "height": 521
        },
        "id": "K7T94BFg9oGP",
        "outputId": "d7fbd6d9-2e8b-471e-9c29-dd33477a86f6"
      },
      "execution_count": null,
      "outputs": [
        {
          "output_type": "display_data",
          "data": {
            "text/plain": [
              "<Figure size 432x288 with 2 Axes>"
            ],
            "image/png": "[encoded data removed]"
          },
          "metadata": {
            "needs_background": "light"
          }
        },
        {
          "output_type": "display_data",
          "data": {
            "text/plain": [
              "<Figure size 432x288 with 2 Axes>"
            ],
            "image/png": "[encoded data removed]"
          },
          "metadata": {
            "needs_background": "light"
          }
        }
      ]
    },
    {
      "cell_type": "code",
      "source": [
        "#net = init_network(model, noises, 0.0, 0.0).to('cuda')\n",
        "\n",
        "crit(model(X_test), y_test) #,  crit(model_tmp(X_test), y_test)\n",
        "#X_test #loss_surface"
      ],
      "metadata": {
        "colab": {
          "base_uri": "https://localhost:8080/"
        },
        "id": "YDxH3erVwQNL",
        "outputId": "9aee776f-5aa6-4cd4-d410-79b77da7958b"
      },
      "execution_count": null,
      "outputs": [
        {
          "output_type": "stream",
          "name": "stderr",
          "text": [
            "/usr/local/lib/python3.7/dist-packages/torch/nn/modules/loss.py:530: UserWarning: Using a target size (torch.Size([10000])) that is different to the input size (torch.Size([10000, 1])). This will likely lead to incorrect results due to broadcasting. Please ensure they have the same size.\n",
            "  return F.mse_loss(input, target, reduction=self.reduction)\n"
          ]
        },
        {
          "output_type": "execute_result",
          "data": {
            "text/plain": [
              "tensor(0.0549, device='cuda:0', grad_fn=<MseLossBackward0>)"
            ]
          },
          "metadata": {},
          "execution_count": 24
        }
      ]
    },
    {
      "cell_type": "code",
      "source": [
        "Z = Zr.reshape([n_points, n_points])\n",
        "\n",
        "plt.figure(figsize=(4,4))\n",
        "plt.imshow(Z, extent=[-3.5, 3.5, -3.5, 3.5], origin='lower',\n",
        "           cmap='Purples_r', alpha=1.0)\n",
        "#plt.colorbar(orientation='horizontal', pad=0.02); ####### , ticks=[10, 20, 30]\n",
        "\n",
        "#plt.tight_layout(h_pad = -0.15, w_pad = -0.2)\n",
        "\n",
        "contours = plt.contour(X, Y, Z, [1, 2, 3], colors='white', lw=1, zorder=1)\n",
        "# contours = plt.contour(X, Y, Z, 15, colors='white', lw=1, zorder=1)\n",
        "# plt.scatter(x1, x2, 200, c='#000099', zorder=2, edgecolors='white', linewidth=1.0, label='интерес')\n",
        "#plt.clabel(contours, inline=True, fontsize=8)\n",
        "\n",
        "# plt.xticks([]);\n",
        "# plt.yticks([]);\n",
        "plt.plot(xs[:,0], xs[:,1], c='k', lw=1)\n",
        "plt.scatter(xs[:,0], xs[:,1], 50, c=\"#000099\", zorder=3, edgecolors='white', linewidth=0.5)"
      ],
      "metadata": {
        "id": "AFeTeZWIq2z_"
      },
      "execution_count": null,
      "outputs": []
    },
    {
      "cell_type": "code",
      "source": [
        "!pip install loss-landscapes"
      ],
      "metadata": {
        "colab": {
          "base_uri": "https://localhost:8080/"
        },
        "id": "iXYu5bDlnKX6",
        "outputId": "ca0c4b68-7647-4ca6-f3e0-64e7921ec8b4"
      },
      "execution_count": null,
      "outputs": [
        {
          "output_type": "stream",
          "name": "stdout",
          "text": [
            "Looking in indexes: https://pypi.org/simple, https://us-python.pkg.dev/colab-wheels/public/simple/\n",
            "Collecting loss-landscapes\n",
            "  Downloading loss_landscapes-3.0.6-py3-none-any.whl (72 kB)\n",
            "\u001b[?25l\r\u001b[K     |████▌                           | 10 kB 29.0 MB/s eta 0:00:01\r\u001b[K     |█████████                       | 20 kB 6.9 MB/s eta 0:00:01\r\u001b[K     |█████████████▋                  | 30 kB 9.8 MB/s eta 0:00:01\r\u001b[K     |██████████████████▏             | 40 kB 3.9 MB/s eta 0:00:01\r\u001b[K     |██████████████████████▊         | 51 kB 4.1 MB/s eta 0:00:01\r\u001b[K     |███████████████████████████▎    | 61 kB 4.8 MB/s eta 0:00:01\r\u001b[K     |███████████████████████████████▉| 71 kB 5.6 MB/s eta 0:00:01\r\u001b[K     |████████████████████████████████| 72 kB 385 kB/s \n",
            "\u001b[?25hRequirement already satisfied: numpy in /usr/local/lib/python3.7/dist-packages (from loss-landscapes) (1.21.6)\n",
            "Installing collected packages: loss-landscapes\n",
            "Successfully installed loss-landscapes-3.0.6\n"
          ]
        }
      ]
    },
    {
      "cell_type": "code",
      "source": [
        "import loss_landscapes\n",
        "import loss_landscapes.metrics"
      ],
      "metadata": {
        "id": "XMYQaShynLPW"
      },
      "execution_count": null,
      "outputs": []
    },
    {
      "cell_type": "code",
      "source": [
        "metric = loss_landscapes.metrics.Loss(criterion, X_train.to(\"cpu\"), y_train.to(\"cpu\"))\n",
        "landscape = loss_landscapes.random_plane(model.to(\"cpu\"), metric) #, normalize='filter')\n",
        "\n",
        "\n",
        "#loss_data_fin = loss_landscapes.random_plane(model_final, metric, 10, STEPS, normalization='filter', deepcopy_model=True)\n",
        "\n",
        "\n",
        "# data that the evaluator will use when evaluating loss\n",
        "#x, y = iter(train_loader).__next__()\n",
        "#metric = loss_landscapes.metrics.Loss(criterion, x, y)\n"
      ],
      "metadata": {
        "colab": {
          "base_uri": "https://localhost:8080/",
          "height": 433
        },
        "id": "SSIYqycRnTEX",
        "outputId": "f853aee5-2667-4f54-8031-91faf7a71cb2"
      },
      "execution_count": null,
      "outputs": [
        {
          "output_type": "error",
          "ename": "ZeroDivisionError",
          "evalue": "ignored",
          "traceback": [
            "\u001b[0;31m---------------------------------------------------------------------------\u001b[0m",
            "\u001b[0;31mZeroDivisionError\u001b[0m                         Traceback (most recent call last)",
            "\u001b[0;32m<ipython-input-207-df4a635f718c>\u001b[0m in \u001b[0;36m<module>\u001b[0;34m\u001b[0m\n\u001b[1;32m      1\u001b[0m \u001b[0mmetric\u001b[0m \u001b[0;34m=\u001b[0m \u001b[0mloss_landscapes\u001b[0m\u001b[0;34m.\u001b[0m\u001b[0mmetrics\u001b[0m\u001b[0;34m.\u001b[0m\u001b[0mLoss\u001b[0m\u001b[0;34m(\u001b[0m\u001b[0mcriterion\u001b[0m\u001b[0;34m,\u001b[0m \u001b[0mX_train\u001b[0m\u001b[0;34m.\u001b[0m\u001b[0mto\u001b[0m\u001b[0;34m(\u001b[0m\u001b[0;34m\"cpu\"\u001b[0m\u001b[0;34m)\u001b[0m\u001b[0;34m,\u001b[0m \u001b[0my_train\u001b[0m\u001b[0;34m.\u001b[0m\u001b[0mto\u001b[0m\u001b[0;34m(\u001b[0m\u001b[0;34m\"cpu\"\u001b[0m\u001b[0;34m)\u001b[0m\u001b[0;34m)\u001b[0m\u001b[0;34m\u001b[0m\u001b[0;34m\u001b[0m\u001b[0m\n\u001b[0;32m----> 2\u001b[0;31m \u001b[0mlandscape\u001b[0m \u001b[0;34m=\u001b[0m \u001b[0mloss_landscapes\u001b[0m\u001b[0;34m.\u001b[0m\u001b[0mrandom_plane\u001b[0m\u001b[0;34m(\u001b[0m\u001b[0mmodel\u001b[0m\u001b[0;34m.\u001b[0m\u001b[0mto\u001b[0m\u001b[0;34m(\u001b[0m\u001b[0;34m\"cpu\"\u001b[0m\u001b[0;34m)\u001b[0m\u001b[0;34m,\u001b[0m \u001b[0mmetric\u001b[0m\u001b[0;34m)\u001b[0m \u001b[0;31m#, normalize='filter')\u001b[0m\u001b[0;34m\u001b[0m\u001b[0;34m\u001b[0m\u001b[0m\n\u001b[0m\u001b[1;32m      3\u001b[0m \u001b[0;34m\u001b[0m\u001b[0m\n\u001b[1;32m      4\u001b[0m \u001b[0;34m\u001b[0m\u001b[0m\n\u001b[1;32m      5\u001b[0m \u001b[0;31m#loss_data_fin = loss_landscapes.random_plane(model_final, metric, 10, STEPS, normalization='filter', deepcopy_model=True)\u001b[0m\u001b[0;34m\u001b[0m\u001b[0;34m\u001b[0m\u001b[0;34m\u001b[0m\u001b[0m\n",
            "\u001b[0;32m/usr/local/lib/python3.7/dist-packages/loss_landscapes/main.py\u001b[0m in \u001b[0;36mrandom_plane\u001b[0;34m(model, metric, distance, steps, normalization, deepcopy_model)\u001b[0m\n\u001b[1;32m    283\u001b[0m         \u001b[0mdir_two\u001b[0m\u001b[0;34m.\u001b[0m\u001b[0mlayer_normalize_\u001b[0m\u001b[0;34m(\u001b[0m\u001b[0mstart_point\u001b[0m\u001b[0;34m)\u001b[0m\u001b[0;34m\u001b[0m\u001b[0;34m\u001b[0m\u001b[0m\n\u001b[1;32m    284\u001b[0m     \u001b[0;32melif\u001b[0m \u001b[0mnormalization\u001b[0m \u001b[0;34m==\u001b[0m \u001b[0;34m'filter'\u001b[0m\u001b[0;34m:\u001b[0m\u001b[0;34m\u001b[0m\u001b[0;34m\u001b[0m\u001b[0m\n\u001b[0;32m--> 285\u001b[0;31m         \u001b[0mdir_one\u001b[0m\u001b[0;34m.\u001b[0m\u001b[0mfilter_normalize_\u001b[0m\u001b[0;34m(\u001b[0m\u001b[0mstart_point\u001b[0m\u001b[0;34m)\u001b[0m\u001b[0;34m\u001b[0m\u001b[0;34m\u001b[0m\u001b[0m\n\u001b[0m\u001b[1;32m    286\u001b[0m         \u001b[0mdir_two\u001b[0m\u001b[0;34m.\u001b[0m\u001b[0mfilter_normalize_\u001b[0m\u001b[0;34m(\u001b[0m\u001b[0mstart_point\u001b[0m\u001b[0;34m)\u001b[0m\u001b[0;34m\u001b[0m\u001b[0;34m\u001b[0m\u001b[0m\n\u001b[1;32m    287\u001b[0m     \u001b[0;32melif\u001b[0m \u001b[0mnormalization\u001b[0m \u001b[0;32mis\u001b[0m \u001b[0;32mNone\u001b[0m\u001b[0;34m:\u001b[0m\u001b[0;34m\u001b[0m\u001b[0;34m\u001b[0m\u001b[0m\n",
            "\u001b[0;32m/usr/local/lib/python3.7/dist-packages/loss_landscapes/model_interface/model_parameters.py\u001b[0m in \u001b[0;36mfilter_normalize_\u001b[0;34m(self, ref_point, order)\u001b[0m\n\u001b[1;32m    227\u001b[0m             \u001b[0;31m# normalize two-dimensional weight vectors\u001b[0m\u001b[0;34m\u001b[0m\u001b[0;34m\u001b[0m\u001b[0;34m\u001b[0m\u001b[0m\n\u001b[1;32m    228\u001b[0m             \u001b[0;32mfor\u001b[0m \u001b[0mf\u001b[0m \u001b[0;32min\u001b[0m \u001b[0mrange\u001b[0m\u001b[0;34m(\u001b[0m\u001b[0mlen\u001b[0m\u001b[0;34m(\u001b[0m\u001b[0mself\u001b[0m\u001b[0;34m.\u001b[0m\u001b[0mparameters\u001b[0m\u001b[0;34m[\u001b[0m\u001b[0ml\u001b[0m\u001b[0;34m]\u001b[0m\u001b[0;34m)\u001b[0m\u001b[0;34m)\u001b[0m\u001b[0;34m:\u001b[0m\u001b[0;34m\u001b[0m\u001b[0;34m\u001b[0m\u001b[0m\n\u001b[0;32m--> 229\u001b[0;31m                 \u001b[0mself\u001b[0m\u001b[0;34m.\u001b[0m\u001b[0mparameters\u001b[0m\u001b[0;34m[\u001b[0m\u001b[0ml\u001b[0m\u001b[0;34m]\u001b[0m\u001b[0;34m[\u001b[0m\u001b[0mf\u001b[0m\u001b[0;34m]\u001b[0m \u001b[0;34m*=\u001b[0m \u001b[0mref_point\u001b[0m\u001b[0;34m.\u001b[0m\u001b[0mfilter_norm\u001b[0m\u001b[0;34m(\u001b[0m\u001b[0;34m(\u001b[0m\u001b[0ml\u001b[0m\u001b[0;34m,\u001b[0m \u001b[0mf\u001b[0m\u001b[0;34m)\u001b[0m\u001b[0;34m,\u001b[0m \u001b[0morder\u001b[0m\u001b[0;34m)\u001b[0m \u001b[0;34m/\u001b[0m \u001b[0;34m(\u001b[0m\u001b[0mself\u001b[0m\u001b[0;34m.\u001b[0m\u001b[0mfilter_norm\u001b[0m\u001b[0;34m(\u001b[0m\u001b[0;34m(\u001b[0m\u001b[0ml\u001b[0m\u001b[0;34m,\u001b[0m \u001b[0mf\u001b[0m\u001b[0;34m)\u001b[0m\u001b[0;34m,\u001b[0m \u001b[0morder\u001b[0m\u001b[0;34m)\u001b[0m\u001b[0;34m)\u001b[0m\u001b[0;34m\u001b[0m\u001b[0;34m\u001b[0m\u001b[0m\n\u001b[0m\u001b[1;32m    230\u001b[0m \u001b[0;34m\u001b[0m\u001b[0m\n\u001b[1;32m    231\u001b[0m     \u001b[0;32mdef\u001b[0m \u001b[0mmodel_norm\u001b[0m\u001b[0;34m(\u001b[0m\u001b[0mself\u001b[0m\u001b[0;34m,\u001b[0m \u001b[0morder\u001b[0m\u001b[0;34m=\u001b[0m\u001b[0;36m2\u001b[0m\u001b[0;34m)\u001b[0m \u001b[0;34m->\u001b[0m \u001b[0mfloat\u001b[0m\u001b[0;34m:\u001b[0m\u001b[0;34m\u001b[0m\u001b[0;34m\u001b[0m\u001b[0m\n",
            "\u001b[0;31mZeroDivisionError\u001b[0m: float division by zero"
          ]
        }
      ]
    },
    {
      "cell_type": "code",
      "source": [
        "next(model.parameters()).is_cuda # returns a boolean"
      ],
      "metadata": {
        "colab": {
          "base_uri": "https://localhost:8080/"
        },
        "id": "htM8vFLKnhKM",
        "outputId": "3c46b6eb-0ee3-4d55-dca3-ca2d15a0919d"
      },
      "execution_count": null,
      "outputs": [
        {
          "output_type": "execute_result",
          "data": {
            "text/plain": [
              "True"
            ]
          },
          "metadata": {},
          "execution_count": 206
        }
      ]
    },
    {
      "cell_type": "markdown",
      "source": [
        "# Двойной спуск\n",
        "\n",
        "Там была ошибка и у меня оказались пошаренные веса на разных слоях..."
      ],
      "metadata": {
        "id": "36Q6j884LEHW"
      }
    },
    {
      "cell_type": "code",
      "source": [
        "# n0 = 2 # число признаков в одном векторе\n",
        "# n = 2 * n0  # общее число признаков\n",
        "# m = 10000 # число объектов в выборке\n",
        "# k = 2 # увеличение признакового пространства в сети\n",
        "# nlayers = 5 # число слоёв в сети\n",
        "# learning_rate = 1e-2\n",
        "\n",
        "plt.figure(figsize=(14, 3))\n",
        "plt.plot(losses1, c='blue', label='train')\n",
        "plt.plot(losses2, c='red', label='test')\n",
        "plt.ylim([0, 0.2])\n",
        "plt.xlim([0, 200])\n",
        "plt.xlabel('epoch')\n",
        "plt.ylabel('loss')\n",
        "plt.legend(loc=(1,0))"
      ],
      "metadata": {
        "colab": {
          "base_uri": "https://localhost:8080/",
          "height": 240
        },
        "id": "H0WhP-HULG1j",
        "outputId": "1dc4f823-824c-47c2-ee3d-0e0af9a0e9f9"
      },
      "execution_count": null,
      "outputs": [
        {
          "output_type": "execute_result",
          "data": {
            "text/plain": [
              "<matplotlib.legend.Legend at 0x7ff82048dad0>"
            ]
          },
          "metadata": {},
          "execution_count": 61
        },
        {
          "output_type": "display_data",
          "data": {
            "text/plain": [
              "<Figure size 1008x216 with 1 Axes>"
            ],
            "image/png": "[encoded data removed]"
          },
          "metadata": {
            "needs_background": "light"
          }
        }
      ]
    },
    {
      "cell_type": "code",
      "source": [
        "# n0 = 2 # число признаков в одном векторе\n",
        "# n = 2 * n0  # общее число признаков\n",
        "# m = 10000 # число объектов в выборке\n",
        "# k = 3 # увеличение признакового пространства в сети\n",
        "# nlayers = 5 # число слоёв в сети\n",
        "# learning_rate = 1e-2\n",
        "# use_scheduler = True\n",
        "\n",
        "baseline = criterion(ytest, ytest*0 + ytest.mean()).item()\n",
        "\n",
        "\n",
        "plt.figure(figsize=(14, 3))\n",
        "plt.plot(losses1*0 + baseline, '--', c='black', label='baseline', lw=1)\n",
        "plt.plot(losses1, c='blue', label='train', lw=2)\n",
        "plt.plot(losses2, c='red', label='test', lw=2)\n",
        "plt.ylim([0, 0.2])\n",
        "plt.xlim([0, 200])\n",
        "plt.xlabel('epoch')\n",
        "plt.ylabel('loss')\n",
        "plt.legend(loc=(1,0))\n",
        "\n"
      ],
      "metadata": {
        "colab": {
          "base_uri": "https://localhost:8080/",
          "height": 236
        },
        "id": "8uKfrzMxEizN",
        "outputId": "52c5510b-37fb-4503-d2a6-2b4ae2fcd477"
      },
      "execution_count": null,
      "outputs": [
        {
          "output_type": "execute_result",
          "data": {
            "text/plain": [
              "<matplotlib.legend.Legend at 0x7ff74d632c90>"
            ]
          },
          "metadata": {},
          "execution_count": 116
        },
        {
          "output_type": "display_data",
          "data": {
            "text/plain": [
              "<Figure size 1008x216 with 1 Axes>"
            ],
            "image/png": "[encoded data removed]"
          },
          "metadata": {
            "needs_background": "light"
          }
        }
      ]
    },
    {
      "cell_type": "code",
      "source": [
        "#n0 = 2 # число признаков в одном векторе\n",
        "#n = 2 * n0  # общее число признаков\n",
        "#m = 10000 # число объектов в выборке\n",
        "#k = 3 # увеличение признакового пространства в сети\n",
        "#nlayers = 5 # число слоёв в сети\n",
        "#learning_rate = 1e-1\n",
        "#use_scheduler = True\n",
        "\n",
        "baseline = criterion(ytest, ytest*0 + ytest.mean()).item()\n",
        "\n",
        "\n",
        "plt.figure(figsize=(14, 3))\n",
        "plt.plot(losses1*0 + baseline, '--', c='black', label='baseline', lw=1)\n",
        "plt.plot(losses1, c='blue', label='train', lw=2)\n",
        "plt.plot(losses2, c='red', label='test', lw=2)\n",
        "plt.ylim([0, 0.2])\n",
        "plt.xlim([0, 50])\n",
        "plt.xlabel('epoch')\n",
        "plt.ylabel('loss')\n",
        "plt.legend(loc=(1,0))"
      ],
      "metadata": {
        "colab": {
          "base_uri": "https://localhost:8080/",
          "height": 236
        },
        "id": "jsUvqnEhGarn",
        "outputId": "08678b4d-c511-4d73-b9f4-cd544fe3c2aa"
      },
      "execution_count": null,
      "outputs": [
        {
          "output_type": "execute_result",
          "data": {
            "text/plain": [
              "<matplotlib.legend.Legend at 0x7ff74d51acd0>"
            ]
          },
          "metadata": {},
          "execution_count": 130
        },
        {
          "output_type": "display_data",
          "data": {
            "text/plain": [
              "<Figure size 1008x216 with 1 Axes>"
            ],
            "image/png": "[encoded data removed]"
          },
          "metadata": {
            "needs_background": "light"
          }
        }
      ]
    },
    {
      "cell_type": "code",
      "source": [
        "# на совсем простой сети и задачи...\n",
        "baseline = criterion(y_test, y_test*0 + y_test.mean()).item()\n",
        "\n",
        "\n",
        "plt.figure(figsize=(14, 3))\n",
        "plt.plot(losses1*0 + baseline, '--', c='black', label='baseline', lw=1)\n",
        "plt.plot(losses1, c='blue', label='train', lw=2)\n",
        "plt.plot(losses2, c='red', label='test', lw=2)\n",
        "plt.ylim([0.04, 0.07])\n",
        "plt.xlim([0, 50])\n",
        "plt.xlabel('epoch')\n",
        "plt.ylabel('loss')\n",
        "plt.legend(loc=(1,0))"
      ],
      "metadata": {
        "colab": {
          "base_uri": "https://localhost:8080/",
          "height": 246
        },
        "id": "AdHxHOThRHRm",
        "outputId": "ff620e1e-1d81-47c1-ad07-1b92d804e400"
      },
      "execution_count": null,
      "outputs": [
        {
          "output_type": "execute_result",
          "data": {
            "text/plain": [
              "<matplotlib.legend.Legend at 0x7f143caca790>"
            ]
          },
          "metadata": {},
          "execution_count": 168
        },
        {
          "output_type": "display_data",
          "data": {
            "text/plain": [
              "<Figure size 1008x216 with 1 Axes>"
            ],
            "image/png": "[encoded data removed]"
          },
          "metadata": {
            "needs_background": "light"
          }
        }
      ]
    },
    {
      "cell_type": "code",
      "source": [],
      "metadata": {
        "id": "rke9cTdaaauI"
      },
      "execution_count": null,
      "outputs": []
    },
    {
      "cell_type": "code",
      "source": [
        "for name, param in model.named_parameters():\n",
        "  print (name)\n",
        "  print (param)"
      ],
      "metadata": {
        "colab": {
          "base_uri": "https://localhost:8080/"
        },
        "id": "fJRtWu-GQCaD",
        "outputId": "acf48f57-38bd-48b2-c556-d84b21031b04"
      },
      "execution_count": null,
      "outputs": [
        {
          "output_type": "stream",
          "name": "stdout",
          "text": [
            "L0.weight\n",
            "Parameter containing:\n",
            "tensor([[ 0.5406,  0.5869],\n",
            "        [-0.1656,  0.6496],\n",
            "        [-0.1549,  0.1427],\n",
            "        [-0.3442,  0.4153],\n",
            "        [ 0.6234, -0.5187],\n",
            "        [ 0.6146,  0.1323],\n",
            "        [ 0.5224,  0.0957],\n",
            "        [ 0.3411, -0.0997],\n",
            "        [ 0.5452,  0.1046],\n",
            "        [-0.3301,  0.1802],\n",
            "        [-0.3258, -0.0829],\n",
            "        [-0.2872,  0.4690],\n",
            "        [-0.5582, -0.3260],\n",
            "        [-0.1996, -0.4251],\n",
            "        [ 0.0668, -0.6984],\n",
            "        [ 0.6386, -0.6006],\n",
            "        [ 0.5459,  0.1177],\n",
            "        [-0.2295,  0.4371],\n",
            "        [ 0.1102,  0.5713],\n",
            "        [ 0.0773, -0.2230]], device='cuda:0', requires_grad=True)\n",
            "L0.bias\n",
            "Parameter containing:\n",
            "tensor([ 0.1900, -0.1917,  0.2977,  0.6314,  0.4089, -0.3091,  0.4081,  0.1268,\n",
            "         0.3593, -0.4310, -0.7000, -0.2732, -0.5424,  0.5803,  0.2038,  0.2929,\n",
            "         0.2237, -0.0121,  0.5534, -0.5024], device='cuda:0',\n",
            "       requires_grad=True)\n",
            "L1.weight\n",
            "Parameter containing:\n",
            "tensor([[ 0.0141, -0.1526,  0.0689, -0.0770,  0.0685, -0.0466,  0.1855, -0.1325,\n",
            "         -0.1334, -0.1334,  0.2011,  0.0745,  0.2152, -0.1845, -0.2218, -0.1749,\n",
            "         -0.1504,  0.0906,  0.0801,  0.1858],\n",
            "        [-0.1154, -0.1524,  0.1187, -0.0904,  0.1358, -0.0530,  0.1280, -0.1737,\n",
            "         -0.1128,  0.0682,  0.0473, -0.0570,  0.1333,  0.1520, -0.1621, -0.1193,\n",
            "          0.2048, -0.0755, -0.0792, -0.2164],\n",
            "        [-0.1281,  0.0559, -0.0295, -0.1623,  0.0052, -0.1527, -0.1897, -0.1231,\n",
            "         -0.1957, -0.1424,  0.2235,  0.0422,  0.0689, -0.2086, -0.1469, -0.0744,\n",
            "          0.0350, -0.1968, -0.0963, -0.1339],\n",
            "        [ 0.0006, -0.0832, -0.0155, -0.1515, -0.1535, -0.1305, -0.0765, -0.1765,\n",
            "          0.1875, -0.0444,  0.1924,  0.0697, -0.1893,  0.1547, -0.0615, -0.0857,\n",
            "         -0.1856, -0.2223,  0.0640, -0.0488],\n",
            "        [ 0.0873, -0.1835,  0.1661, -0.1639, -0.0384,  0.0467,  0.1157,  0.1806,\n",
            "          0.2039, -0.1773,  0.0563, -0.0962, -0.0245, -0.1672,  0.2037, -0.1640,\n",
            "          0.1197,  0.0786,  0.0730, -0.1209],\n",
            "        [ 0.2032,  0.0491,  0.0288, -0.1971,  0.0938, -0.0336, -0.1025,  0.1921,\n",
            "          0.0498, -0.1237, -0.1132, -0.0107,  0.1249, -0.0571, -0.1276, -0.0766,\n",
            "         -0.1671,  0.0797,  0.1730, -0.2105],\n",
            "        [ 0.0521,  0.1155,  0.0406, -0.0796,  0.1168,  0.1175,  0.0837, -0.0392,\n",
            "         -0.0591,  0.0239, -0.0395, -0.0666,  0.1429,  0.1922, -0.0221, -0.0500,\n",
            "          0.0034, -0.0133,  0.0539,  0.0627],\n",
            "        [-0.2031, -0.0825,  0.1883,  0.0871, -0.0111, -0.1348, -0.1368, -0.2003,\n",
            "         -0.0729,  0.0755,  0.1426,  0.1032, -0.1977, -0.1345, -0.0353,  0.2163,\n",
            "          0.0323, -0.0579,  0.0925, -0.0852],\n",
            "        [-0.1447,  0.1632, -0.1017, -0.0448, -0.2224,  0.1497,  0.1694,  0.0815,\n",
            "         -0.1559, -0.2207, -0.1816,  0.1667,  0.1074,  0.1882,  0.1171,  0.0566,\n",
            "         -0.0022, -0.1701, -0.1916, -0.2092],\n",
            "        [ 0.0914, -0.1098, -0.0451, -0.1288, -0.0408, -0.1574, -0.1462,  0.0741,\n",
            "         -0.0666,  0.1380, -0.0717, -0.1640, -0.0395, -0.1084, -0.0684, -0.2129,\n",
            "          0.1250, -0.1557,  0.1122,  0.1015],\n",
            "        [ 0.1598, -0.1715,  0.1608, -0.1056,  0.0830,  0.2100, -0.0315, -0.0017,\n",
            "         -0.0514, -0.1867,  0.1073, -0.2220,  0.1388,  0.1673,  0.2115, -0.0527,\n",
            "         -0.1837,  0.0503,  0.1236, -0.2226],\n",
            "        [-0.0508, -0.1340, -0.0196, -0.1101, -0.0914, -0.0710, -0.2125,  0.1835,\n",
            "          0.1875, -0.0351, -0.0255, -0.0913, -0.2019, -0.2176,  0.0831, -0.1228,\n",
            "         -0.1438, -0.0174, -0.0745, -0.0723],\n",
            "        [ 0.0075, -0.0474, -0.0769, -0.1068, -0.1818,  0.1875, -0.0892,  0.0594,\n",
            "         -0.0773,  0.0182,  0.2085,  0.1030, -0.1938,  0.0889,  0.2123,  0.0590,\n",
            "          0.1501,  0.2205, -0.0339,  0.0464],\n",
            "        [-0.1554, -0.0461,  0.1656,  0.1146, -0.1415, -0.1793, -0.1528, -0.2207,\n",
            "         -0.1725, -0.0553,  0.1509,  0.0374, -0.1701, -0.1794,  0.1112, -0.1663,\n",
            "         -0.0275,  0.1073, -0.1035, -0.0244],\n",
            "        [-0.0195, -0.0529, -0.1134, -0.1993, -0.1808, -0.1197,  0.2160, -0.1080,\n",
            "         -0.1502,  0.0542,  0.0616,  0.1225,  0.1700,  0.1245, -0.2217,  0.0198,\n",
            "          0.1355, -0.0207, -0.1318,  0.2132],\n",
            "        [-0.0838, -0.1273, -0.2017,  0.0098,  0.0990,  0.0495,  0.0441, -0.1696,\n",
            "         -0.2089,  0.0039,  0.2039,  0.1290, -0.1302, -0.0291, -0.1648, -0.1079,\n",
            "          0.0404,  0.1217,  0.1850, -0.2053],\n",
            "        [ 0.1494, -0.1577,  0.0837,  0.1891,  0.0031,  0.2034, -0.1906, -0.0854,\n",
            "          0.1303, -0.0487, -0.0458, -0.0932,  0.1541,  0.1097,  0.0717, -0.1257,\n",
            "         -0.1816,  0.0242,  0.0661, -0.1032],\n",
            "        [-0.0626,  0.1510,  0.0178,  0.0101, -0.0550, -0.2025, -0.2102, -0.1069,\n",
            "         -0.1137,  0.0697, -0.0651, -0.0875,  0.2132,  0.0779,  0.1594, -0.1083,\n",
            "         -0.0913,  0.0822, -0.1490, -0.1462],\n",
            "        [-0.0108, -0.0818, -0.1676,  0.1326,  0.1798,  0.0363, -0.0389, -0.2071,\n",
            "         -0.0814,  0.0569,  0.1054, -0.0283, -0.0884,  0.1246, -0.1781,  0.1413,\n",
            "         -0.0867,  0.0034, -0.0442,  0.0271],\n",
            "        [-0.0668,  0.1627, -0.0056,  0.1751,  0.2154, -0.1088, -0.1624,  0.1796,\n",
            "          0.1759, -0.1707, -0.0173, -0.2205, -0.1830,  0.0434,  0.0595,  0.0477,\n",
            "         -0.0603,  0.2064,  0.0328, -0.1319]], device='cuda:0',\n",
            "       requires_grad=True)\n",
            "L1.bias\n",
            "Parameter containing:\n",
            "tensor([-0.0127,  0.0537,  0.0783, -0.1581,  0.0842, -0.1143, -0.1857, -0.1221,\n",
            "         0.2157,  0.1910,  0.2003,  0.1313,  0.1694, -0.0299, -0.1230,  0.1115,\n",
            "        -0.1160, -0.1509, -0.0714,  0.0478], device='cuda:0',\n",
            "       requires_grad=True)\n",
            "L2.weight\n",
            "Parameter containing:\n",
            "tensor([[ 0.1151, -0.0868, -0.1316,  0.0302, -0.1318, -0.1456,  0.1166, -0.0376,\n",
            "          0.2043,  0.2175,  0.0669,  0.0770,  0.0515,  0.0035, -0.0163,  0.0031,\n",
            "          0.0835,  0.2079, -0.0579, -0.0945],\n",
            "        [-0.0541, -0.1080,  0.0380,  0.1669,  0.1749,  0.1027, -0.1646, -0.1200,\n",
            "         -0.0491, -0.0412,  0.0184, -0.2053,  0.0696, -0.1706, -0.1415, -0.1859,\n",
            "          0.1948, -0.2117,  0.1687, -0.0075],\n",
            "        [-0.0260,  0.1399, -0.0207,  0.1402,  0.1622, -0.1941,  0.0861,  0.0422,\n",
            "          0.0481,  0.0327,  0.0616, -0.1076, -0.0285,  0.2125,  0.1502, -0.0083,\n",
            "         -0.2102,  0.0098, -0.1523,  0.1823],\n",
            "        [-0.1357, -0.0161, -0.0496,  0.0398,  0.2107,  0.0213,  0.1295,  0.1736,\n",
            "          0.1805, -0.0772, -0.0497,  0.1078, -0.0610,  0.1047, -0.0489, -0.1516,\n",
            "          0.0911,  0.0343,  0.0997,  0.2224],\n",
            "        [ 0.1527,  0.2119,  0.0120, -0.1923, -0.1570, -0.1389, -0.1971, -0.1121,\n",
            "         -0.2059, -0.2063, -0.1338, -0.2204, -0.1373,  0.0853,  0.1865, -0.0665,\n",
            "         -0.0651,  0.1194, -0.1103, -0.1059],\n",
            "        [ 0.1378, -0.1948,  0.0273,  0.1975,  0.0385,  0.0608, -0.1302, -0.0031,\n",
            "          0.0123,  0.0549,  0.0870,  0.1943, -0.1707,  0.0067, -0.1117, -0.1769,\n",
            "         -0.0179, -0.1968,  0.1561,  0.0260],\n",
            "        [-0.1205,  0.1168, -0.2116, -0.0865, -0.0437, -0.1900, -0.1422, -0.0365,\n",
            "          0.1697,  0.2159,  0.1421, -0.1335, -0.1463,  0.1951,  0.0791,  0.0059,\n",
            "          0.0302, -0.1797, -0.0747,  0.2151],\n",
            "        [-0.0551, -0.0112, -0.1857, -0.1251, -0.0046, -0.1389, -0.0277,  0.0910,\n",
            "         -0.2187,  0.0664, -0.1479, -0.1091,  0.0858,  0.1778, -0.0611, -0.0918,\n",
            "         -0.2022, -0.1153, -0.1958, -0.0512],\n",
            "        [ 0.0456, -0.2095,  0.1952,  0.1403, -0.2189, -0.1068,  0.0729, -0.0459,\n",
            "         -0.0244, -0.1010,  0.1796, -0.1250,  0.1854,  0.0144,  0.0449,  0.1744,\n",
            "         -0.0368, -0.1273, -0.0362,  0.1814],\n",
            "        [-0.1659,  0.0508, -0.2198,  0.1172,  0.0831,  0.0095,  0.0960,  0.0003,\n",
            "          0.1237, -0.1770, -0.0324,  0.0992,  0.2227,  0.1139, -0.1626,  0.1720,\n",
            "         -0.0498, -0.0477, -0.2032, -0.0348],\n",
            "        [ 0.1582,  0.0312, -0.1302,  0.0688, -0.0711,  0.2042, -0.1941, -0.0706,\n",
            "         -0.2159, -0.0880,  0.0710,  0.2152,  0.0376,  0.2192,  0.0437,  0.1292,\n",
            "          0.1793,  0.1869, -0.1252,  0.2060],\n",
            "        [ 0.1355, -0.1046, -0.1067, -0.1875,  0.0562, -0.1812,  0.0945,  0.0706,\n",
            "         -0.1943,  0.0609, -0.0182,  0.1021,  0.1283, -0.2223,  0.2051,  0.1875,\n",
            "          0.0890, -0.2044, -0.0799, -0.0648],\n",
            "        [-0.0575,  0.1261,  0.0813,  0.1771, -0.0837,  0.0753,  0.0796, -0.1862,\n",
            "         -0.2169, -0.1160,  0.1531, -0.2105, -0.1946,  0.1253,  0.1206,  0.1839,\n",
            "         -0.1688, -0.1637,  0.1147,  0.1944],\n",
            "        [ 0.1338,  0.0351,  0.0737,  0.2122, -0.1437, -0.1015,  0.1564, -0.1530,\n",
            "         -0.1233,  0.1633,  0.0710,  0.0722, -0.0947, -0.0031,  0.2047, -0.1342,\n",
            "          0.0018,  0.1063, -0.1544,  0.2176],\n",
            "        [-0.1117, -0.0537, -0.0605, -0.1457, -0.2196,  0.1261,  0.0594, -0.2094,\n",
            "         -0.1439,  0.2210,  0.0854,  0.0897, -0.1338, -0.0980, -0.0338, -0.0409,\n",
            "         -0.1532,  0.0184,  0.0222, -0.0284],\n",
            "        [ 0.0310, -0.0886,  0.0582,  0.0843, -0.1176, -0.2217,  0.1170,  0.0533,\n",
            "         -0.1137,  0.2155, -0.1010,  0.1511,  0.1135, -0.1875,  0.1442, -0.2056,\n",
            "         -0.1239, -0.0373, -0.1507,  0.2186],\n",
            "        [-0.0449,  0.0888, -0.1997,  0.1287, -0.0695, -0.1701,  0.0327,  0.1083,\n",
            "          0.1935, -0.1366, -0.1100,  0.0430,  0.0607,  0.0860,  0.1227, -0.0507,\n",
            "          0.1242,  0.1649, -0.0584,  0.1591],\n",
            "        [ 0.1092,  0.1972, -0.1271, -0.1104, -0.0647,  0.0113,  0.1342, -0.1276,\n",
            "          0.1119, -0.0801,  0.1351, -0.0106, -0.1959, -0.1230, -0.1618,  0.1109,\n",
            "         -0.1499, -0.0186,  0.0482, -0.1226],\n",
            "        [ 0.0645, -0.2183, -0.1600, -0.2026, -0.0679, -0.0815,  0.0320, -0.0413,\n",
            "          0.1051,  0.2050,  0.0800, -0.0881, -0.2094,  0.0810, -0.1108,  0.1137,\n",
            "          0.1494,  0.0862,  0.2098,  0.2121],\n",
            "        [ 0.0473, -0.1629,  0.1998, -0.1061, -0.1056,  0.1871,  0.1733,  0.0676,\n",
            "          0.0140, -0.1881, -0.0232,  0.2145,  0.0569,  0.0191, -0.0464, -0.0780,\n",
            "          0.1333,  0.0138,  0.1455, -0.0396]], device='cuda:0',\n",
            "       requires_grad=True)\n",
            "L2.bias\n",
            "Parameter containing:\n",
            "tensor([ 0.0977,  0.0924,  0.0371,  0.1413,  0.1396,  0.2076,  0.1715, -0.0572,\n",
            "        -0.1893,  0.0420, -0.0005, -0.0583, -0.0375,  0.0120,  0.1629,  0.0702,\n",
            "        -0.0794, -0.0920, -0.0562, -0.0864], device='cuda:0',\n",
            "       requires_grad=True)\n",
            "L3.weight\n",
            "Parameter containing:\n",
            "tensor([[ 2.0107e-01,  1.1843e-01,  2.0191e-01,  7.1411e-04,  4.5095e-02,\n",
            "          7.7539e-02, -2.1166e-01,  1.9967e-02, -1.4957e-02, -1.2537e-01,\n",
            "         -1.7351e-01,  1.9795e-01,  1.8181e-01,  1.0363e-01,  2.1338e-01,\n",
            "         -9.0741e-02, -3.8622e-02,  8.4662e-02, -3.6946e-02, -4.3879e-02],\n",
            "        [-1.8482e-01,  6.0074e-02, -1.3513e-01,  8.1317e-03,  2.1801e-01,\n",
            "         -6.8830e-02, -7.0479e-02,  1.3490e-01, -8.2210e-02, -1.9203e-02,\n",
            "          2.0879e-01, -9.1673e-02, -1.5997e-01, -1.2514e-01, -6.1994e-02,\n",
            "         -1.0610e-01, -1.1604e-01,  9.0325e-02,  3.7999e-02, -7.1568e-02],\n",
            "        [-1.7372e-01, -7.0405e-02, -9.4371e-02, -7.2766e-02, -2.0172e-01,\n",
            "          4.8171e-02, -1.6429e-01, -1.7414e-01, -1.8269e-01,  9.3330e-02,\n",
            "         -1.3462e-01, -9.2294e-02,  1.7527e-01,  1.1873e-01,  1.2821e-01,\n",
            "         -2.1232e-01, -1.6035e-01, -8.4414e-02,  1.8472e-01,  2.2875e-02],\n",
            "        [-1.6733e-01,  1.0648e-03, -1.7400e-01, -4.9531e-02, -6.1490e-02,\n",
            "          1.9308e-01,  6.8734e-02, -3.8991e-02,  3.7774e-02, -6.4668e-02,\n",
            "          8.7711e-02,  8.8451e-02,  5.9989e-02, -8.7237e-02,  1.9059e-01,\n",
            "         -3.2381e-02, -8.7054e-02,  1.4005e-01,  1.8222e-01,  2.2252e-01],\n",
            "        [ 6.6245e-02, -7.6226e-02,  1.1357e-01,  1.9184e-01, -2.1932e-01,\n",
            "         -2.7702e-02, -1.5249e-01,  4.1671e-02,  9.2480e-02, -4.6194e-02,\n",
            "         -1.8706e-02,  1.0065e-01, -3.7582e-02, -1.8778e-01,  1.7892e-01,\n",
            "         -1.1254e-01, -2.4565e-02,  2.1092e-02, -1.3438e-02, -2.1034e-01],\n",
            "        [ 1.0276e-01, -1.0108e-01, -1.1549e-01,  5.4228e-02, -1.1668e-01,\n",
            "         -1.0261e-01, -7.4515e-02, -8.4004e-02, -9.3387e-02, -6.0123e-02,\n",
            "          5.8341e-02, -1.8095e-01, -1.3524e-01,  3.4011e-03,  3.1395e-02,\n",
            "          1.2366e-01, -1.5707e-01,  7.1375e-02,  1.2715e-01,  1.2416e-01],\n",
            "        [-2.0850e-01, -8.6005e-02, -1.9287e-01, -1.4260e-01,  1.2452e-01,\n",
            "         -3.4394e-02,  9.3838e-02, -1.3126e-01,  3.3979e-02, -1.3550e-01,\n",
            "          1.1147e-01, -9.7801e-02, -5.6211e-02, -1.9419e-01,  3.3307e-04,\n",
            "          2.1209e-01,  1.0853e-01, -1.1930e-01,  2.9303e-03, -2.4518e-02],\n",
            "        [-1.8002e-01,  1.7533e-01,  3.6047e-03,  4.7091e-02, -9.0299e-02,\n",
            "         -1.0463e-01,  3.6870e-02,  8.2670e-02,  5.0155e-02, -1.0777e-01,\n",
            "          2.1710e-01, -3.2916e-02, -1.3694e-01, -1.0458e-01,  2.2012e-01,\n",
            "          1.0769e-05, -3.0353e-02, -9.3057e-02, -5.8617e-02, -1.8833e-01],\n",
            "        [-1.7741e-01,  1.3178e-01,  1.9218e-01,  2.1486e-01, -1.6141e-01,\n",
            "          1.2228e-01, -1.3691e-01,  1.3339e-01,  1.6134e-01,  1.7337e-01,\n",
            "          1.6142e-01,  1.3988e-01,  4.5342e-03,  1.0299e-01, -7.9467e-02,\n",
            "          9.7654e-02, -7.1868e-02, -3.7547e-03, -1.9452e-01, -5.8467e-02],\n",
            "        [-1.1748e-01, -7.5119e-02, -1.4249e-01, -2.0062e-01,  1.4567e-02,\n",
            "          1.4558e-01,  2.0418e-01,  1.3049e-01, -1.1590e-01, -2.2104e-01,\n",
            "          8.4967e-02,  1.2529e-01, -1.9191e-01,  8.0273e-02,  1.8924e-01,\n",
            "          1.3652e-02, -1.3471e-01,  1.8333e-01,  9.5531e-02,  1.4807e-01],\n",
            "        [-1.5127e-01,  1.2995e-01, -1.5291e-01,  2.2098e-01, -9.4744e-02,\n",
            "          1.3449e-01,  4.4504e-02,  5.9258e-02, -3.4291e-02,  9.1782e-02,\n",
            "         -9.3265e-02, -2.1077e-01, -8.5940e-02,  1.7517e-01, -5.8961e-02,\n",
            "          7.0234e-02, -8.2673e-02,  1.6774e-01,  1.3381e-01,  7.8936e-02],\n",
            "        [-1.1431e-01, -1.8278e-01,  8.3571e-03, -1.3128e-01,  1.8385e-01,\n",
            "         -2.1497e-01,  9.9839e-02,  2.2292e-01,  1.1199e-01,  7.6223e-02,\n",
            "         -2.1516e-01,  2.1509e-01, -3.8254e-02, -2.0895e-01,  2.2071e-01,\n",
            "         -9.1006e-02, -1.5820e-02,  2.0466e-01, -1.5501e-01, -1.5820e-01],\n",
            "        [ 3.6362e-02, -2.9931e-02,  5.1506e-02, -1.8754e-01,  6.6873e-03,\n",
            "         -9.9451e-02, -1.0993e-01, -2.0474e-01,  1.1856e-01,  4.3075e-02,\n",
            "         -1.8905e-01,  1.7744e-01,  6.7444e-02,  4.1493e-02, -1.3129e-01,\n",
            "          3.3721e-02,  2.1545e-01,  1.5337e-01, -1.7416e-01,  2.0411e-01],\n",
            "        [ 1.7222e-02,  1.0715e-01,  1.7328e-01,  1.8999e-01, -1.7431e-01,\n",
            "          1.9523e-01, -1.5249e-01,  1.6763e-02, -1.5625e-01, -4.9163e-02,\n",
            "         -1.0328e-02, -2.6751e-02, -3.5395e-02,  1.7543e-02,  2.2036e-01,\n",
            "          1.2980e-01,  1.2510e-01,  8.9498e-02,  1.7307e-01, -1.0319e-02],\n",
            "        [ 1.7741e-02,  4.5857e-02, -1.9517e-01, -1.8038e-01,  2.7416e-02,\n",
            "         -8.7710e-02, -4.3398e-03, -5.1309e-02,  3.4807e-02,  1.4543e-01,\n",
            "         -7.4221e-02,  1.7908e-01,  1.7653e-01, -1.7165e-01, -1.7275e-01,\n",
            "         -1.8096e-01, -1.2254e-01, -8.7045e-02, -1.6845e-02, -5.4379e-02],\n",
            "        [-1.1298e-01, -7.1038e-02, -8.0889e-02,  2.1937e-01, -8.2875e-02,\n",
            "         -1.6010e-01,  9.2953e-02, -1.2916e-02,  1.7119e-01,  1.3972e-01,\n",
            "          2.0543e-01, -1.6376e-01,  1.4375e-01,  1.8766e-01, -1.1042e-01,\n",
            "          2.0553e-01,  1.6763e-01,  2.4488e-03,  1.0781e-01, -7.8178e-02],\n",
            "        [-1.9503e-01,  5.6523e-02,  6.6663e-02, -1.4614e-01,  1.0845e-01,\n",
            "         -1.9101e-01,  1.9244e-01,  2.1654e-01,  6.0879e-02, -1.4030e-01,\n",
            "          1.0882e-01,  3.8106e-02,  6.0803e-02,  7.3489e-02,  1.7024e-01,\n",
            "         -9.6114e-02, -5.0299e-02,  6.0979e-02,  2.4364e-02,  1.8031e-01],\n",
            "        [-1.1745e-01, -8.1430e-03,  4.1782e-02, -5.9388e-02,  1.5244e-01,\n",
            "          2.4458e-02, -2.0666e-01, -2.4225e-02, -1.0142e-01,  2.1728e-02,\n",
            "         -2.5987e-02, -2.2180e-01, -4.0747e-02, -2.1417e-02, -6.5937e-02,\n",
            "          2.0545e-01, -4.8791e-02,  1.4365e-01,  5.5391e-02, -1.8875e-01],\n",
            "        [ 5.2544e-02,  1.8531e-01, -1.4626e-01, -1.4453e-01,  2.1888e-01,\n",
            "          1.7967e-01, -1.2475e-01,  1.3455e-01, -2.8606e-02, -2.2046e-01,\n",
            "          1.6800e-02,  7.2246e-02, -6.7073e-02,  7.7789e-02, -1.9121e-01,\n",
            "          1.5496e-01,  1.9063e-01,  1.2331e-01,  3.7899e-02,  7.3645e-02],\n",
            "        [-1.6166e-01, -5.5398e-02, -2.0886e-02, -1.2367e-01, -1.6516e-01,\n",
            "          1.5109e-01,  1.5249e-01, -2.0308e-01,  7.1154e-02,  9.1133e-02,\n",
            "          2.1262e-01,  1.2937e-01,  2.0565e-01, -7.3094e-02,  1.5686e-01,\n",
            "          1.8202e-01, -2.1116e-01, -1.7949e-01,  4.5305e-02,  1.2210e-01]],\n",
            "       device='cuda:0', requires_grad=True)\n",
            "L3.bias\n",
            "Parameter containing:\n",
            "tensor([-0.1111,  0.0246, -0.0003,  0.0546, -0.1202,  0.1292,  0.1445, -0.1552,\n",
            "         0.0077,  0.0025,  0.0708,  0.2080,  0.0656, -0.0531,  0.1999, -0.0851,\n",
            "        -0.0649,  0.0153, -0.1703,  0.0271], device='cuda:0',\n",
            "       requires_grad=True)\n",
            "L4.weight\n",
            "Parameter containing:\n",
            "tensor([[-1.5171e-01,  2.2991e-02,  2.1423e-02,  3.0952e-02, -1.8857e-01,\n",
            "         -2.1238e-01,  1.0289e-01,  1.9176e-01, -1.9842e-01,  8.2823e-02,\n",
            "         -1.6460e-01,  1.4018e-02,  2.0803e-01,  1.6963e-01, -1.6349e-01,\n",
            "          1.3832e-01,  1.1679e-01, -3.4298e-04,  2.1661e-01, -8.8811e-02],\n",
            "        [-5.2037e-02, -1.1301e-01,  3.2176e-02,  5.9691e-02,  1.7817e-02,\n",
            "         -1.2542e-01, -1.0029e-01,  7.6060e-02, -1.9544e-01, -3.4768e-02,\n",
            "         -4.0786e-03, -9.0045e-02,  8.1375e-02,  1.4818e-02,  1.5742e-01,\n",
            "         -1.9859e-02, -1.4113e-01,  1.5799e-01,  3.1226e-02, -6.3523e-02],\n",
            "        [-1.4738e-01,  5.2411e-02, -2.1327e-01,  5.8893e-02,  1.1056e-01,\n",
            "         -1.9615e-01, -1.4639e-01, -1.6076e-01,  1.8794e-01,  1.9009e-01,\n",
            "          1.3998e-02,  2.0992e-01, -7.4753e-02, -2.1708e-01,  7.8105e-02,\n",
            "          7.9217e-02,  2.1922e-01, -6.4721e-05,  1.7137e-01,  1.3706e-01],\n",
            "        [ 1.6184e-01, -2.2189e-01,  1.8413e-01, -1.9061e-01,  2.0047e-01,\n",
            "         -9.2664e-03, -1.9816e-01,  6.2183e-02, -4.5514e-02, -2.0084e-01,\n",
            "         -8.1066e-02,  2.3055e-02,  1.7416e-01, -6.8743e-02,  1.3282e-01,\n",
            "          2.8002e-02,  7.5373e-03,  4.2786e-02, -1.4675e-01, -1.8586e-01],\n",
            "        [-7.0260e-02, -2.0837e-01, -1.0428e-01,  1.0287e-02, -1.4727e-01,\n",
            "         -9.2751e-02, -4.0179e-02, -2.5760e-02, -1.2343e-01,  1.0745e-02,\n",
            "         -3.1386e-02,  6.3951e-02,  1.0100e-02, -1.1166e-01, -7.6984e-02,\n",
            "         -2.5772e-03, -1.3953e-01,  1.7505e-02, -1.5788e-02,  8.6755e-02],\n",
            "        [ 5.2920e-02,  1.6734e-01, -7.3713e-03, -1.6577e-01,  9.9954e-02,\n",
            "         -1.5155e-01, -3.1160e-02, -7.2404e-02, -8.5519e-02, -8.2791e-02,\n",
            "          2.0450e-01,  1.2739e-01,  6.1970e-02,  2.0950e-01, -2.0312e-01,\n",
            "          3.6083e-02,  1.4315e-01,  1.4854e-01, -1.7796e-01,  7.9013e-02],\n",
            "        [-1.2739e-01, -8.7372e-03, -4.6660e-02, -1.8734e-01, -2.1330e-01,\n",
            "         -1.4762e-01,  1.0097e-01,  1.0229e-01, -1.9528e-01, -8.4047e-02,\n",
            "          2.5113e-03, -1.9405e-01,  1.2599e-01,  2.0200e-01,  3.8985e-02,\n",
            "         -1.6614e-01,  5.2142e-02,  8.1172e-02,  1.7706e-01, -1.1965e-01],\n",
            "        [-2.0033e-01,  9.8242e-02,  1.3921e-02, -7.2857e-02, -9.3696e-02,\n",
            "         -1.1530e-01,  1.8101e-01, -3.8581e-02,  1.6127e-01,  1.9960e-01,\n",
            "          2.8326e-02,  4.7632e-02, -1.5229e-02,  1.5358e-01, -2.0149e-01,\n",
            "          8.8925e-02, -3.6432e-02,  1.0210e-01, -9.9595e-04, -8.2794e-02],\n",
            "        [-2.4138e-02,  1.2075e-01, -1.5530e-01, -1.4164e-01, -5.0087e-02,\n",
            "         -8.1358e-02,  8.7583e-02,  1.5048e-01, -2.4231e-02,  2.1136e-01,\n",
            "         -9.3906e-02, -1.2584e-01, -1.0011e-01, -1.5426e-01, -1.5700e-01,\n",
            "         -1.9924e-01, -1.9818e-01,  5.8361e-02,  1.3637e-01,  2.0960e-01],\n",
            "        [ 1.9047e-01, -1.2878e-02,  4.3390e-02, -1.3379e-01,  8.6429e-02,\n",
            "         -2.1440e-01,  1.0547e-01,  4.1013e-02,  6.8715e-02,  8.1873e-02,\n",
            "         -1.0266e-01,  1.9188e-01,  1.0672e-01,  1.4689e-01,  2.9534e-02,\n",
            "          1.4042e-01,  1.5049e-01,  1.0135e-01,  1.7034e-01, -4.0557e-02],\n",
            "        [ 1.4703e-01,  5.1519e-02,  1.3454e-01,  2.1779e-01,  5.0633e-02,\n",
            "         -8.2995e-02, -2.2248e-02,  6.2952e-02,  3.7702e-02, -6.1083e-02,\n",
            "          1.7520e-01,  1.3434e-01, -1.3889e-01, -1.8220e-02, -2.1465e-02,\n",
            "         -1.4014e-01,  3.2614e-02, -6.8646e-02, -1.1544e-01, -7.1900e-02],\n",
            "        [-7.9727e-02,  2.1391e-01,  8.5769e-02,  2.1752e-01,  6.1312e-02,\n",
            "          4.8603e-02,  8.9956e-02,  3.8378e-02, -1.7869e-01, -1.3252e-01,\n",
            "         -5.8745e-02,  4.6790e-04,  8.4236e-02,  8.3974e-02,  1.7514e-01,\n",
            "          4.5520e-02, -7.6315e-02, -1.6816e-01, -1.6377e-01, -1.3626e-01],\n",
            "        [ 6.7441e-02,  1.2081e-01,  1.9564e-01, -7.3267e-02, -1.7639e-02,\n",
            "         -6.8448e-02, -2.7826e-03,  7.1778e-02, -8.1480e-03,  1.0053e-02,\n",
            "          2.3743e-02,  8.0374e-02, -6.7843e-02, -1.3546e-01,  5.0497e-02,\n",
            "         -2.6476e-02, -1.0130e-01,  9.3907e-02,  2.0279e-03, -3.5240e-02],\n",
            "        [-1.0824e-01, -2.9419e-02, -1.9014e-01,  5.0868e-02,  3.3556e-03,\n",
            "          1.3569e-01,  1.4438e-02,  1.7878e-02,  6.0913e-02,  1.7015e-01,\n",
            "         -1.0567e-01,  1.3349e-01,  5.4686e-02, -1.4917e-01,  7.7857e-02,\n",
            "         -1.3410e-01, -7.0387e-02, -1.0659e-01, -1.5212e-01,  1.7611e-01],\n",
            "        [-1.9986e-01,  1.1181e-01, -2.0125e-01, -2.6668e-02,  1.3336e-02,\n",
            "          1.5940e-01, -8.0498e-02,  6.4360e-02,  3.5335e-02,  1.3163e-01,\n",
            "          1.4282e-02,  8.4353e-02, -1.3508e-01, -1.5493e-01,  1.9974e-01,\n",
            "         -1.6293e-01, -3.8067e-02, -2.7030e-02,  2.1866e-01, -4.7743e-02],\n",
            "        [-1.7023e-01, -5.6684e-02,  1.1534e-01,  8.7885e-02,  1.8499e-01,\n",
            "         -4.6359e-02,  1.0476e-01, -2.1042e-01,  8.5601e-02,  1.0265e-01,\n",
            "          1.4293e-01, -1.2906e-01, -5.9698e-02,  5.3486e-02, -1.5955e-01,\n",
            "         -1.7787e-01, -2.1512e-01,  1.2482e-02,  1.3886e-01,  5.6661e-02],\n",
            "        [ 1.3632e-02,  7.7910e-02, -1.4052e-01,  2.3883e-02, -5.5549e-02,\n",
            "         -1.1047e-01,  1.9307e-01, -1.7299e-01,  3.3171e-02, -1.9645e-01,\n",
            "         -7.0244e-03, -9.9008e-02,  7.3600e-02, -1.2530e-01,  1.4339e-01,\n",
            "         -1.8145e-01,  1.3431e-01, -1.6797e-01,  1.1976e-01, -9.3820e-02],\n",
            "        [-5.2091e-04, -4.0809e-02,  1.4513e-01,  7.3282e-02, -1.9704e-01,\n",
            "          2.0559e-02, -1.5426e-01,  1.6716e-01,  3.6739e-02, -5.7507e-02,\n",
            "         -1.1408e-01,  7.7397e-02, -1.3392e-01,  1.0605e-01,  1.2202e-01,\n",
            "          1.3725e-01,  5.8415e-02, -1.9574e-01,  1.6084e-01, -6.9368e-02],\n",
            "        [-6.6106e-02, -2.4024e-02,  1.6349e-01,  1.7194e-01,  3.4528e-02,\n",
            "          1.0669e-01, -2.0840e-01,  5.2822e-04, -1.9782e-01,  7.6104e-02,\n",
            "         -1.5931e-01, -7.9695e-02,  1.5631e-01,  2.1370e-01, -1.3425e-01,\n",
            "         -1.2410e-01,  2.7693e-02,  8.7901e-02, -3.6419e-02, -6.9830e-02],\n",
            "        [-1.4687e-01,  9.5452e-02,  2.1908e-01, -1.0812e-01,  1.0547e-01,\n",
            "          1.0932e-01,  1.7982e-01, -2.5458e-02,  7.2279e-03,  1.6430e-01,\n",
            "          1.4158e-01,  2.2100e-01, -6.4079e-02,  8.8583e-02,  1.5625e-01,\n",
            "         -1.5179e-01,  4.4421e-02, -5.0033e-02,  1.4374e-01, -1.0028e-01]],\n",
            "       device='cuda:0', requires_grad=True)\n",
            "L4.bias\n",
            "Parameter containing:\n",
            "tensor([ 0.0157,  0.1390, -0.2048, -0.1888, -0.1145,  0.1376,  0.1431, -0.1527,\n",
            "         0.0395, -0.1185, -0.1038,  0.1655,  0.0805, -0.0612,  0.0388,  0.0355,\n",
            "         0.0557, -0.0765, -0.1317,  0.1495], device='cuda:0',\n",
            "       requires_grad=True)\n",
            "L5.weight\n",
            "Parameter containing:\n",
            "tensor([[ 0.0300,  0.0920, -0.0847,  0.1083,  0.1627,  0.1334,  0.0593,  0.2200,\n",
            "         -0.0005,  0.0476,  0.2125,  0.2141, -0.0960,  0.2014,  0.0816, -0.0262,\n",
            "          0.1945, -0.1158,  0.1453,  0.2180],\n",
            "        [-0.1542, -0.1319, -0.2216, -0.0402, -0.2031, -0.0749,  0.0679,  0.1581,\n",
            "          0.1246,  0.1241,  0.0928, -0.1387, -0.1775,  0.0093,  0.2123,  0.0126,\n",
            "         -0.0192, -0.1518, -0.1109, -0.1724],\n",
            "        [ 0.1790, -0.0307, -0.1975,  0.0240,  0.0162, -0.0186,  0.0852,  0.1203,\n",
            "         -0.2103, -0.1713, -0.0107, -0.1965, -0.1980,  0.1974, -0.0138, -0.1065,\n",
            "         -0.0741, -0.1746,  0.1745, -0.0359],\n",
            "        [-0.1257, -0.1667,  0.1307, -0.0309, -0.0235, -0.0538, -0.1054,  0.0398,\n",
            "          0.1720, -0.1296,  0.0107, -0.1646, -0.1023,  0.1963,  0.0040,  0.2174,\n",
            "         -0.0379, -0.1219, -0.1336,  0.2045],\n",
            "        [-0.1720,  0.1235,  0.0556,  0.0660,  0.1262, -0.0489,  0.1439, -0.1782,\n",
            "         -0.0787,  0.1637,  0.0664, -0.0182, -0.0468, -0.1365,  0.1394, -0.0028,\n",
            "         -0.0048,  0.0529,  0.1650, -0.1006],\n",
            "        [-0.0770,  0.1523,  0.1263, -0.1100, -0.2212,  0.0426,  0.1182,  0.0534,\n",
            "          0.1586, -0.1774,  0.1128, -0.1377,  0.1264,  0.1663,  0.0713,  0.1814,\n",
            "         -0.1470, -0.2000, -0.2150,  0.1421],\n",
            "        [ 0.0783, -0.1695,  0.1083,  0.2040, -0.2205,  0.1530,  0.0290,  0.0208,\n",
            "          0.2012,  0.2025,  0.0942,  0.1656,  0.0878,  0.0364, -0.1998,  0.0376,\n",
            "         -0.1617,  0.0688,  0.0395, -0.0078],\n",
            "        [-0.1529, -0.1355,  0.1653,  0.1089,  0.1179, -0.0666, -0.0385, -0.0573,\n",
            "          0.1538, -0.0965,  0.1408,  0.1542, -0.2045,  0.0014, -0.0426, -0.1236,\n",
            "          0.0965, -0.0272,  0.1958, -0.1400],\n",
            "        [ 0.1039, -0.1855, -0.1121,  0.0153,  0.1767,  0.1263, -0.1787,  0.0248,\n",
            "         -0.1318,  0.0097, -0.1863, -0.0554,  0.1582, -0.2052, -0.2102,  0.0446,\n",
            "          0.0331, -0.0409,  0.1953, -0.1227],\n",
            "        [-0.1357, -0.1671, -0.0416, -0.0571,  0.1384, -0.0126,  0.0714, -0.0929,\n",
            "          0.1814,  0.1885, -0.2003, -0.0575, -0.1897,  0.0950, -0.1954, -0.1057,\n",
            "          0.2234, -0.2135,  0.1650,  0.0189],\n",
            "        [ 0.1788, -0.1135,  0.1469,  0.0270,  0.0172,  0.1526, -0.2125, -0.1801,\n",
            "          0.2160, -0.1343, -0.1612, -0.0109, -0.0716, -0.0306, -0.1498,  0.0807,\n",
            "         -0.1924,  0.0181,  0.1305,  0.0430],\n",
            "        [ 0.0297,  0.0327, -0.0655, -0.0426, -0.0943, -0.1511, -0.1184,  0.2210,\n",
            "         -0.0374,  0.0783,  0.1546, -0.0175, -0.1203, -0.1515, -0.0824,  0.0798,\n",
            "         -0.1883, -0.0273,  0.0851,  0.1824],\n",
            "        [ 0.0673,  0.0442,  0.1531,  0.1033,  0.0756, -0.0693, -0.1793, -0.0483,\n",
            "         -0.0406,  0.0164, -0.0246,  0.0904,  0.1486, -0.0907, -0.2122, -0.1147,\n",
            "         -0.1070,  0.1267, -0.1442, -0.0210],\n",
            "        [-0.0474, -0.1357,  0.1014, -0.0931, -0.0116, -0.1572, -0.0226,  0.0318,\n",
            "         -0.0091, -0.0836,  0.0664, -0.0579, -0.1240, -0.1649, -0.0474, -0.2112,\n",
            "          0.1856, -0.1068, -0.0927,  0.0207],\n",
            "        [ 0.0580, -0.0164,  0.1534, -0.1304,  0.0801,  0.0068, -0.1777, -0.0866,\n",
            "          0.0569,  0.0427,  0.1626,  0.1583, -0.1179, -0.0955, -0.0448, -0.1569,\n",
            "         -0.0583, -0.1830,  0.0850,  0.1684],\n",
            "        [ 0.0177, -0.1624, -0.1693, -0.0870,  0.0650,  0.0017,  0.0385,  0.2107,\n",
            "          0.1038,  0.0481, -0.0452,  0.1013,  0.0797, -0.2013, -0.1334,  0.0058,\n",
            "          0.0838,  0.1088, -0.1331, -0.2270],\n",
            "        [-0.0116, -0.0213,  0.0649, -0.0615,  0.1710,  0.0216,  0.1671, -0.1557,\n",
            "          0.0895,  0.0266, -0.1118,  0.1189, -0.2163,  0.1808,  0.0204,  0.0246,\n",
            "          0.1053,  0.0186,  0.0958,  0.1517],\n",
            "        [-0.1745,  0.1504, -0.0335, -0.0520,  0.0450,  0.1787, -0.1194, -0.1507,\n",
            "          0.1388, -0.1050,  0.0720, -0.0283,  0.0637,  0.1706, -0.1119, -0.1068,\n",
            "          0.1108,  0.0122, -0.0246, -0.1910],\n",
            "        [ 0.1895, -0.0085, -0.0412, -0.0918, -0.0441,  0.1087, -0.0051,  0.1912,\n",
            "         -0.0129, -0.0321,  0.1262, -0.0058, -0.0446,  0.0747,  0.1763,  0.0558,\n",
            "          0.1557,  0.1449,  0.0632,  0.0777],\n",
            "        [ 0.0722,  0.0232,  0.1902,  0.2064,  0.0796, -0.0112,  0.2005, -0.1740,\n",
            "          0.1643,  0.1185,  0.1436, -0.0172, -0.1668,  0.1595, -0.0978,  0.0588,\n",
            "          0.1267, -0.2090,  0.0148, -0.0794]], device='cuda:0',\n",
            "       requires_grad=True)\n",
            "L5.bias\n",
            "Parameter containing:\n",
            "tensor([ 0.1423, -0.1424,  0.1937,  0.1686,  0.1852,  0.2224, -0.0250, -0.2027,\n",
            "         0.2143,  0.0205,  0.0044, -0.2130, -0.0503, -0.1085,  0.2659,  0.1354,\n",
            "         0.2100,  0.1780, -0.1386, -0.0960], device='cuda:0',\n",
            "       requires_grad=True)\n",
            "L6.weight\n",
            "Parameter containing:\n",
            "tensor([[ 0.0003, -0.0896,  0.1998,  0.1178,  0.2227,  0.0763, -0.1849, -0.0649,\n",
            "          0.1987,  0.1361,  0.0692, -0.0656, -0.2087, -0.1201,  0.1975, -0.0547,\n",
            "          0.1826,  0.1060, -0.0859,  0.1362]], device='cuda:0',\n",
            "       requires_grad=True)\n",
            "L6.bias\n",
            "Parameter containing:\n",
            "tensor([0.2455], device='cuda:0', requires_grad=True)\n"
          ]
        }
      ]
    },
    {
      "cell_type": "markdown",
      "source": [
        "# Вот Такой был баг\n",
        "\n",
        "если размеры ответа и целевого вектора разные"
      ],
      "metadata": {
        "id": "4wIpKB74V9zg"
      }
    },
    {
      "cell_type": "code",
      "source": [
        "cr = nn.MSELoss()\n",
        "t1 = torch.tensor([1., 2.])\n",
        "t2 = torch.tensor([[1., 2.]]).T\n",
        "print (t1.shape, t2.shape, cr(t1, t2))"
      ],
      "metadata": {
        "colab": {
          "base_uri": "https://localhost:8080/"
        },
        "id": "5cqQRbZ7QGXD",
        "outputId": "d0d9b9b4-6e7b-4036-d015-6cdbbb2d017c"
      },
      "execution_count": null,
      "outputs": [
        {
          "output_type": "stream",
          "name": "stdout",
          "text": [
            "torch.Size([2]) torch.Size([2, 1]) tensor(0.5000)\n"
          ]
        }
      ]
    },
    {
      "cell_type": "code",
      "source": [
        "m1 = copy.deepcopy(model)"
      ],
      "metadata": {
        "id": "XPdz29VvVypp"
      },
      "execution_count": null,
      "outputs": []
    },
    {
      "cell_type": "code",
      "source": [],
      "metadata": {
        "id": "_wuFPCZIYrbN"
      },
      "execution_count": null,
      "outputs": []
    }
  ]
}