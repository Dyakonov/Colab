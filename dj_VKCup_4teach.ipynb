{
  "nbformat": 4,
  "nbformat_minor": 0,
  "metadata": {
    "colab": {
      "provenance": [],
      "include_colab_link": true
    },
    "kernelspec": {
      "name": "python3",
      "display_name": "Python 3"
    },
    "language_info": {
      "name": "python"
    },
    "accelerator": "GPU",
    "gpuClass": "standard"
  },
  "cells": [
    {
      "cell_type": "markdown",
      "metadata": {
        "id": "view-in-github",
        "colab_type": "text"
      },
      "source": [
        "<a href=\"https://colab.research.google.com/github/Dyakonov/Colab/blob/main/dj_VKCup_4teach.ipynb\" target=\"_parent\"><img src=\"https://colab.research.google.com/assets/colab-badge.svg\" alt=\"Open In Colab\"/></a>"
      ]
    },
    {
      "cell_type": "markdown",
      "source": [
        "# Простое решение VKCup2022\n",
        "Иллюстрация классификации на примере очень простой модели.\n",
        "За базу взят код:\n",
        "https://habr.com/ru/post/567028/\n",
        "\n",
        "Для повышения качества надо\n",
        "* менять модель\n",
        "* почистить выборку (на половине обучиться, на другой запустить - посмотреть ошибки, там много \"рекламных объявлений\")\n",
        "* можно смухлевать и то, в чём нет большой уверенности у трансформера - разметить вручную (таких групп не много)\n",
        "* пополнить датасет (достаточно использовать wiki - страницы с указанными видами спорта + хорошо бы имена спортсменов и названия команд)\n",
        "* аугментация (см. ниже EDA) + информация о длине сообщений\n",
        "\n",
        "https://cups.online/\n",
        "\n",
        "Интересно, что тут в коде автоматически в батче все последовательности токенов выравниваются по 512 токенов."
      ],
      "metadata": {
        "id": "BrioDbHGlVV9"
      }
    },
    {
      "cell_type": "code",
      "source": [
        "!pip install transformers -q"
      ],
      "metadata": {
        "colab": {
          "base_uri": "https://localhost:8080/"
        },
        "id": "fUzaMj2RlXLb",
        "outputId": "8753b5dc-5be5-4776-ea20-b91f7012b7a3"
      },
      "execution_count": null,
      "outputs": [
        {
          "output_type": "stream",
          "name": "stdout",
          "text": [
            "\u001b[K     |████████████████████████████████| 5.8 MB 45.3 MB/s \n",
            "\u001b[K     |████████████████████████████████| 7.6 MB 56.5 MB/s \n",
            "\u001b[K     |████████████████████████████████| 182 kB 73.4 MB/s \n",
            "\u001b[?25h"
          ]
        }
      ]
    },
    {
      "cell_type": "markdown",
      "source": [
        "* Прикинуть, сколько токенов получается\n",
        "* И может, аугментацию впихнуть"
      ],
      "metadata": {
        "id": "YD4_xNiulcts"
      }
    },
    {
      "cell_type": "code",
      "source": [
        "from google.colab import drive\n",
        "drive.mount('/content/drive')"
      ],
      "metadata": {
        "id": "q5lapIjeY0vc"
      },
      "execution_count": null,
      "outputs": []
    },
    {
      "cell_type": "code",
      "source": [
        "import pandas as pd\n",
        "train = pd.read_csv('/content/drive/My Drive/VKcup2022/train.csv')\n",
        "print (train.shape)\n",
        "train.head()"
      ],
      "metadata": {
        "id": "NVpyw94UZdWP"
      },
      "execution_count": null,
      "outputs": []
    },
    {
      "cell_type": "code",
      "source": [
        "test = pd.read_csv('/content/drive/My Drive/VKcup2022/test.csv')\n",
        "print (test.shape)\n",
        "test.head()"
      ],
      "metadata": {
        "colab": {
          "base_uri": "https://localhost:8080/",
          "height": 223
        },
        "id": "Ym89iYIem_0L",
        "outputId": "364aac66-9c85-4aea-c36d-d7f2b1020dca"
      },
      "execution_count": null,
      "outputs": [
        {
          "output_type": "stream",
          "name": "stdout",
          "text": [
            "(26260, 2)\n"
          ]
        },
        {
          "output_type": "execute_result",
          "data": {
            "text/plain": [
              "         oid                                               text\n",
              "0  749208109  СПОЧНО СООБЩЕСТВО ПРОДАЕТСЯ ЗА 1300Р ЗА ПОКУПК...\n",
              "1  452466036  Естественное восстановление после тяжелой трен...\n",
              "2  161038103  Тема нарядов продолжается Одна из британских ж...\n",
              "3  663621910  Привет Избранный. Ты спрашиваешь себя ЧТО здес...\n",
              "4  566255305  КОРОЛЬ ПЯТИСОТНИКОВ В ДЕЛЕ Андрей Рублев успеш..."
            ],
            "text/html": [
              "\n",
              "  <div id=\"df-8a982b87-e68f-4e0e-8e55-2b44ac369ec0\">\n",
              "    <div class=\"colab-df-container\">\n",
              "      <div>\n",
              "<style scoped>\n",
              "    .dataframe tbody tr th:only-of-type {\n",
              "        vertical-align: middle;\n",
              "    }\n",
              "\n",
              "    .dataframe tbody tr th {\n",
              "        vertical-align: top;\n",
              "    }\n",
              "\n",
              "    .dataframe thead th {\n",
              "        text-align: right;\n",
              "    }\n",
              "</style>\n",
              "<table border=\"1\" class=\"dataframe\">\n",
              "  <thead>\n",
              "    <tr style=\"text-align: right;\">\n",
              "      <th></th>\n",
              "      <th>oid</th>\n",
              "      <th>text</th>\n",
              "    </tr>\n",
              "  </thead>\n",
              "  <tbody>\n",
              "    <tr>\n",
              "      <th>0</th>\n",
              "      <td>749208109</td>\n",
              "      <td>СПОЧНО СООБЩЕСТВО ПРОДАЕТСЯ ЗА 1300Р ЗА ПОКУПК...</td>\n",
              "    </tr>\n",
              "    <tr>\n",
              "      <th>1</th>\n",
              "      <td>452466036</td>\n",
              "      <td>Естественное восстановление после тяжелой трен...</td>\n",
              "    </tr>\n",
              "    <tr>\n",
              "      <th>2</th>\n",
              "      <td>161038103</td>\n",
              "      <td>Тема нарядов продолжается Одна из британских ж...</td>\n",
              "    </tr>\n",
              "    <tr>\n",
              "      <th>3</th>\n",
              "      <td>663621910</td>\n",
              "      <td>Привет Избранный. Ты спрашиваешь себя ЧТО здес...</td>\n",
              "    </tr>\n",
              "    <tr>\n",
              "      <th>4</th>\n",
              "      <td>566255305</td>\n",
              "      <td>КОРОЛЬ ПЯТИСОТНИКОВ В ДЕЛЕ Андрей Рублев успеш...</td>\n",
              "    </tr>\n",
              "  </tbody>\n",
              "</table>\n",
              "</div>\n",
              "      <button class=\"colab-df-convert\" onclick=\"convertToInteractive('df-8a982b87-e68f-4e0e-8e55-2b44ac369ec0')\"\n",
              "              title=\"Convert this dataframe to an interactive table.\"\n",
              "              style=\"display:none;\">\n",
              "        \n",
              "  <svg xmlns=\"http://www.w3.org/2000/svg\" height=\"24px\"viewBox=\"0 0 24 24\"\n",
              "       width=\"24px\">\n",
              "    <path d=\"M0 0h24v24H0V0z\" fill=\"none\"/>\n",
              "    <path d=\"M18.56 5.44l.94 2.06.94-2.06 2.06-.94-2.06-.94-.94-2.06-.94 2.06-2.06.94zm-11 1L8.5 8.5l.94-2.06 2.06-.94-2.06-.94L8.5 2.5l-.94 2.06-2.06.94zm10 10l.94 2.06.94-2.06 2.06-.94-2.06-.94-.94-2.06-.94 2.06-2.06.94z\"/><path d=\"M17.41 7.96l-1.37-1.37c-.4-.4-.92-.59-1.43-.59-.52 0-1.04.2-1.43.59L10.3 9.45l-7.72 7.72c-.78.78-.78 2.05 0 2.83L4 21.41c.39.39.9.59 1.41.59.51 0 1.02-.2 1.41-.59l7.78-7.78 2.81-2.81c.8-.78.8-2.07 0-2.86zM5.41 20L4 18.59l7.72-7.72 1.47 1.35L5.41 20z\"/>\n",
              "  </svg>\n",
              "      </button>\n",
              "      \n",
              "  <style>\n",
              "    .colab-df-container {\n",
              "      display:flex;\n",
              "      flex-wrap:wrap;\n",
              "      gap: 12px;\n",
              "    }\n",
              "\n",
              "    .colab-df-convert {\n",
              "      background-color: #E8F0FE;\n",
              "      border: none;\n",
              "      border-radius: 50%;\n",
              "      cursor: pointer;\n",
              "      display: none;\n",
              "      fill: #1967D2;\n",
              "      height: 32px;\n",
              "      padding: 0 0 0 0;\n",
              "      width: 32px;\n",
              "    }\n",
              "\n",
              "    .colab-df-convert:hover {\n",
              "      background-color: #E2EBFA;\n",
              "      box-shadow: 0px 1px 2px rgba(60, 64, 67, 0.3), 0px 1px 3px 1px rgba(60, 64, 67, 0.15);\n",
              "      fill: #174EA6;\n",
              "    }\n",
              "\n",
              "    [theme=dark] .colab-df-convert {\n",
              "      background-color: #3B4455;\n",
              "      fill: #D2E3FC;\n",
              "    }\n",
              "\n",
              "    [theme=dark] .colab-df-convert:hover {\n",
              "      background-color: #434B5C;\n",
              "      box-shadow: 0px 1px 3px 1px rgba(0, 0, 0, 0.15);\n",
              "      filter: drop-shadow(0px 1px 2px rgba(0, 0, 0, 0.3));\n",
              "      fill: #FFFFFF;\n",
              "    }\n",
              "  </style>\n",
              "\n",
              "      <script>\n",
              "        const buttonEl =\n",
              "          document.querySelector('#df-8a982b87-e68f-4e0e-8e55-2b44ac369ec0 button.colab-df-convert');\n",
              "        buttonEl.style.display =\n",
              "          google.colab.kernel.accessAllowed ? 'block' : 'none';\n",
              "\n",
              "        async function convertToInteractive(key) {\n",
              "          const element = document.querySelector('#df-8a982b87-e68f-4e0e-8e55-2b44ac369ec0');\n",
              "          const dataTable =\n",
              "            await google.colab.kernel.invokeFunction('convertToInteractive',\n",
              "                                                     [key], {});\n",
              "          if (!dataTable) return;\n",
              "\n",
              "          const docLinkHtml = 'Like what you see? Visit the ' +\n",
              "            '<a target=\"_blank\" href=https://colab.research.google.com/notebooks/data_table.ipynb>data table notebook</a>'\n",
              "            + ' to learn more about interactive tables.';\n",
              "          element.innerHTML = '';\n",
              "          dataTable['output_type'] = 'display_data';\n",
              "          await google.colab.output.renderOutput(dataTable, element);\n",
              "          const docLink = document.createElement('div');\n",
              "          docLink.innerHTML = docLinkHtml;\n",
              "          element.appendChild(docLink);\n",
              "        }\n",
              "      </script>\n",
              "    </div>\n",
              "  </div>\n",
              "  "
            ]
          },
          "metadata": {},
          "execution_count": 5
        }
      ]
    },
    {
      "cell_type": "markdown",
      "source": [
        "# EDA\n",
        "\n",
        "Задача - по oid определить тему группы (канала, который постит сообщения)\n",
        "\n",
        "* для каждого oid даны 10 сообщений на тему спорта (в обучении и тесте), т.е. ответов в 10 раз меньше, чем строк в тесте\n",
        "* есть мусор (см. первое сообщение теста) - его много и он всё портит\n",
        "* некоторые сообщения (баскетбол / футбол) сложно различить\n",
        "* баланс классов - пропорции классов примерно одинаковы\n",
        "* интересно, но пропорции зависят от oid (в начале и конце датасета они разные, не проверял на стат значимость, не пользовался)\n",
        "* есть длинные сообщения - выйдут за 512 токенов (по хорошему их надо делить на части)\n"
      ],
      "metadata": {
        "id": "tkemVxYpm58v"
      }
    },
    {
      "cell_type": "code",
      "source": [
        "train.sort_values(by='oid', inplace=True)\n",
        "train.head()"
      ],
      "metadata": {
        "colab": {
          "base_uri": "https://localhost:8080/",
          "height": 595
        },
        "id": "hd9TOunemjyb",
        "outputId": "0eb05ab8-d2dd-4fd0-848c-ce005d8fb8f7"
      },
      "execution_count": null,
      "outputs": [
        {
          "output_type": "execute_result",
          "data": {
            "text/plain": [
              "         oid category                                               text\n",
              "36670  16594  extreme  wortokenoid wenkextokenoid zhotokenoid wenzhou...\n",
              "29568  16594  extreme  Кто ваш комфорт персонаж и почему? Стала поним...\n",
              "33867  16594  extreme  Письма не отсюда OJV первый альбом на русском ...\n",
              "547    16594  extreme  Пост для обсуждения наболевшего по китайским ф...\n",
              "32307  16594  extreme  Письма не отсюда первый альбом на русском язык..."
            ],
            "text/html": [
              "\n",
              "  <div id=\"df-d58fd91f-5754-4241-bf88-b652b64d8154\">\n",
              "    <div class=\"colab-df-container\">\n",
              "      <div>\n",
              "<style scoped>\n",
              "    .dataframe tbody tr th:only-of-type {\n",
              "        vertical-align: middle;\n",
              "    }\n",
              "\n",
              "    .dataframe tbody tr th {\n",
              "        vertical-align: top;\n",
              "    }\n",
              "\n",
              "    .dataframe thead th {\n",
              "        text-align: right;\n",
              "    }\n",
              "</style>\n",
              "<table border=\"1\" class=\"dataframe\">\n",
              "  <thead>\n",
              "    <tr style=\"text-align: right;\">\n",
              "      <th></th>\n",
              "      <th>oid</th>\n",
              "      <th>category</th>\n",
              "      <th>text</th>\n",
              "    </tr>\n",
              "  </thead>\n",
              "  <tbody>\n",
              "    <tr>\n",
              "      <th>36670</th>\n",
              "      <td>16594</td>\n",
              "      <td>extreme</td>\n",
              "      <td>wortokenoid wenkextokenoid zhotokenoid wenzhou...</td>\n",
              "    </tr>\n",
              "    <tr>\n",
              "      <th>29568</th>\n",
              "      <td>16594</td>\n",
              "      <td>extreme</td>\n",
              "      <td>Кто ваш комфорт персонаж и почему? Стала поним...</td>\n",
              "    </tr>\n",
              "    <tr>\n",
              "      <th>33867</th>\n",
              "      <td>16594</td>\n",
              "      <td>extreme</td>\n",
              "      <td>Письма не отсюда OJV первый альбом на русском ...</td>\n",
              "    </tr>\n",
              "    <tr>\n",
              "      <th>547</th>\n",
              "      <td>16594</td>\n",
              "      <td>extreme</td>\n",
              "      <td>Пост для обсуждения наболевшего по китайским ф...</td>\n",
              "    </tr>\n",
              "    <tr>\n",
              "      <th>32307</th>\n",
              "      <td>16594</td>\n",
              "      <td>extreme</td>\n",
              "      <td>Письма не отсюда первый альбом на русском язык...</td>\n",
              "    </tr>\n",
              "  </tbody>\n",
              "</table>\n",
              "</div>\n",
              "      <button class=\"colab-df-convert\" onclick=\"convertToInteractive('df-d58fd91f-5754-4241-bf88-b652b64d8154')\"\n",
              "              title=\"Convert this dataframe to an interactive table.\"\n",
              "              style=\"display:none;\">\n",
              "        \n",
              "  <svg xmlns=\"http://www.w3.org/2000/svg\" height=\"24px\"viewBox=\"0 0 24 24\"\n",
              "       width=\"24px\">\n",
              "    <path d=\"M0 0h24v24H0V0z\" fill=\"none\"/>\n",
              "    <path d=\"M18.56 5.44l.94 2.06.94-2.06 2.06-.94-2.06-.94-.94-2.06-.94 2.06-2.06.94zm-11 1L8.5 8.5l.94-2.06 2.06-.94-2.06-.94L8.5 2.5l-.94 2.06-2.06.94zm10 10l.94 2.06.94-2.06 2.06-.94-2.06-.94-.94-2.06-.94 2.06-2.06.94z\"/><path d=\"M17.41 7.96l-1.37-1.37c-.4-.4-.92-.59-1.43-.59-.52 0-1.04.2-1.43.59L10.3 9.45l-7.72 7.72c-.78.78-.78 2.05 0 2.83L4 21.41c.39.39.9.59 1.41.59.51 0 1.02-.2 1.41-.59l7.78-7.78 2.81-2.81c.8-.78.8-2.07 0-2.86zM5.41 20L4 18.59l7.72-7.72 1.47 1.35L5.41 20z\"/>\n",
              "  </svg>\n",
              "      </button>\n",
              "      \n",
              "  <style>\n",
              "    .colab-df-container {\n",
              "      display:flex;\n",
              "      flex-wrap:wrap;\n",
              "      gap: 12px;\n",
              "    }\n",
              "\n",
              "    .colab-df-convert {\n",
              "      background-color: #E8F0FE;\n",
              "      border: none;\n",
              "      border-radius: 50%;\n",
              "      cursor: pointer;\n",
              "      display: none;\n",
              "      fill: #1967D2;\n",
              "      height: 32px;\n",
              "      padding: 0 0 0 0;\n",
              "      width: 32px;\n",
              "    }\n",
              "\n",
              "    .colab-df-convert:hover {\n",
              "      background-color: #E2EBFA;\n",
              "      box-shadow: 0px 1px 2px rgba(60, 64, 67, 0.3), 0px 1px 3px 1px rgba(60, 64, 67, 0.15);\n",
              "      fill: #174EA6;\n",
              "    }\n",
              "\n",
              "    [theme=dark] .colab-df-convert {\n",
              "      background-color: #3B4455;\n",
              "      fill: #D2E3FC;\n",
              "    }\n",
              "\n",
              "    [theme=dark] .colab-df-convert:hover {\n",
              "      background-color: #434B5C;\n",
              "      box-shadow: 0px 1px 3px 1px rgba(0, 0, 0, 0.15);\n",
              "      filter: drop-shadow(0px 1px 2px rgba(0, 0, 0, 0.3));\n",
              "      fill: #FFFFFF;\n",
              "    }\n",
              "  </style>\n",
              "\n",
              "      <script>\n",
              "        const buttonEl =\n",
              "          document.querySelector('#df-d58fd91f-5754-4241-bf88-b652b64d8154 button.colab-df-convert');\n",
              "        buttonEl.style.display =\n",
              "          google.colab.kernel.accessAllowed ? 'block' : 'none';\n",
              "\n",
              "        async function convertToInteractive(key) {\n",
              "          const element = document.querySelector('#df-d58fd91f-5754-4241-bf88-b652b64d8154');\n",
              "          const dataTable =\n",
              "            await google.colab.kernel.invokeFunction('convertToInteractive',\n",
              "                                                     [key], {});\n",
              "          if (!dataTable) return;\n",
              "\n",
              "          const docLinkHtml = 'Like what you see? Visit the ' +\n",
              "            '<a target=\"_blank\" href=https://colab.research.google.com/notebooks/data_table.ipynb>data table notebook</a>'\n",
              "            + ' to learn more about interactive tables.';\n",
              "          element.innerHTML = '';\n",
              "          dataTable['output_type'] = 'display_data';\n",
              "          await google.colab.output.renderOutput(dataTable, element);\n",
              "          const docLink = document.createElement('div');\n",
              "          docLink.innerHTML = docLinkHtml;\n",
              "          element.appendChild(docLink);\n",
              "        }\n",
              "      </script>\n",
              "    </div>\n",
              "  </div>\n",
              "  "
            ]
          },
          "metadata": {},
          "execution_count": 6
        }
      ]
    },
    {
      "cell_type": "code",
      "source": [
        "# распределение по классам\n",
        "train.category.value_counts(normalize=True)"
      ],
      "metadata": {
        "colab": {
          "base_uri": "https://localhost:8080/"
        },
        "id": "7Xyj9K_9nlVz",
        "outputId": "937b9ab7-9b8b-4952-e708-cf01789ddfef"
      },
      "execution_count": null,
      "outputs": [
        {
          "output_type": "execute_result",
          "data": {
            "text/plain": [
              "autosport       0.081569\n",
              "extreme         0.080279\n",
              "martial_arts    0.078730\n",
              "motosport       0.078214\n",
              "boardgames      0.077956\n",
              "tennis          0.077439\n",
              "esport          0.077181\n",
              "athletics       0.076665\n",
              "hockey          0.076149\n",
              "volleyball      0.076149\n",
              "football        0.073826\n",
              "basketball      0.073567\n",
              "winter_sport    0.072277\n",
              "Name: category, dtype: float64"
            ]
          },
          "metadata": {},
          "execution_count": 7
        }
      ]
    },
    {
      "cell_type": "code",
      "source": [
        "# в начале выборки\n",
        "train.head(1000).category.value_counts(normalize=True)"
      ],
      "metadata": {
        "colab": {
          "base_uri": "https://localhost:8080/"
        },
        "id": "t6f_f1q5nxLK",
        "outputId": "234e47cb-f1f6-4b9d-dd95-d5b650b14a6c"
      },
      "execution_count": null,
      "outputs": [
        {
          "output_type": "execute_result",
          "data": {
            "text/plain": [
              "martial_arts    0.13\n",
              "autosport       0.10\n",
              "motosport       0.10\n",
              "tennis          0.10\n",
              "winter_sport    0.09\n",
              "athletics       0.08\n",
              "hockey          0.08\n",
              "extreme         0.07\n",
              "boardgames      0.06\n",
              "basketball      0.06\n",
              "football        0.05\n",
              "volleyball      0.05\n",
              "esport          0.03\n",
              "Name: category, dtype: float64"
            ]
          },
          "metadata": {},
          "execution_count": 8
        }
      ]
    },
    {
      "cell_type": "code",
      "source": [
        "from sklearn import preprocessing\n",
        "le = preprocessing.LabelEncoder()\n",
        "le.fit(train.category)\n",
        "labels = le.transform(train.category)\n",
        "train['labels'] = labels # делаем перекодировку в цифры\n",
        "pd.crosstab(train.category, train.labels)"
      ],
      "metadata": {
        "colab": {
          "base_uri": "https://localhost:8080/",
          "height": 488
        },
        "id": "SGA7INQIobAy",
        "outputId": "ac9788e3-d109-421c-a27f-9b3e9c619e19"
      },
      "execution_count": null,
      "outputs": [
        {
          "output_type": "execute_result",
          "data": {
            "text/plain": [
              "labels          0     1     2     3     4     5     6     7     8     9   \\\n",
              "category                                                                   \n",
              "athletics     2970     0     0     0     0     0     0     0     0     0   \n",
              "autosport        0  3160     0     0     0     0     0     0     0     0   \n",
              "basketball       0     0  2850     0     0     0     0     0     0     0   \n",
              "boardgames       0     0     0  3020     0     0     0     0     0     0   \n",
              "esport           0     0     0     0  2990     0     0     0     0     0   \n",
              "extreme          0     0     0     0     0  3110     0     0     0     0   \n",
              "football         0     0     0     0     0     0  2860     0     0     0   \n",
              "hockey           0     0     0     0     0     0     0  2950     0     0   \n",
              "martial_arts     0     0     0     0     0     0     0     0  3050     0   \n",
              "motosport        0     0     0     0     0     0     0     0     0  3030   \n",
              "tennis           0     0     0     0     0     0     0     0     0     0   \n",
              "volleyball       0     0     0     0     0     0     0     0     0     0   \n",
              "winter_sport     0     0     0     0     0     0     0     0     0     0   \n",
              "\n",
              "labels          10    11    12  \n",
              "category                        \n",
              "athletics        0     0     0  \n",
              "autosport        0     0     0  \n",
              "basketball       0     0     0  \n",
              "boardgames       0     0     0  \n",
              "esport           0     0     0  \n",
              "extreme          0     0     0  \n",
              "football         0     0     0  \n",
              "hockey           0     0     0  \n",
              "martial_arts     0     0     0  \n",
              "motosport        0     0     0  \n",
              "tennis        3000     0     0  \n",
              "volleyball       0  2950     0  \n",
              "winter_sport     0     0  2800  "
            ],
            "text/html": [
              "\n",
              "  <div id=\"df-33c747e0-5d35-4338-9e96-6a521a66add1\">\n",
              "    <div class=\"colab-df-container\">\n",
              "      <div>\n",
              "<style scoped>\n",
              "    .dataframe tbody tr th:only-of-type {\n",
              "        vertical-align: middle;\n",
              "    }\n",
              "\n",
              "    .dataframe tbody tr th {\n",
              "        vertical-align: top;\n",
              "    }\n",
              "\n",
              "    .dataframe thead th {\n",
              "        text-align: right;\n",
              "    }\n",
              "</style>\n",
              "<table border=\"1\" class=\"dataframe\">\n",
              "  <thead>\n",
              "    <tr style=\"text-align: right;\">\n",
              "      <th>labels</th>\n",
              "      <th>0</th>\n",
              "      <th>1</th>\n",
              "      <th>2</th>\n",
              "      <th>3</th>\n",
              "      <th>4</th>\n",
              "      <th>5</th>\n",
              "      <th>6</th>\n",
              "      <th>7</th>\n",
              "      <th>8</th>\n",
              "      <th>9</th>\n",
              "      <th>10</th>\n",
              "      <th>11</th>\n",
              "      <th>12</th>\n",
              "    </tr>\n",
              "    <tr>\n",
              "      <th>category</th>\n",
              "      <th></th>\n",
              "      <th></th>\n",
              "      <th></th>\n",
              "      <th></th>\n",
              "      <th></th>\n",
              "      <th></th>\n",
              "      <th></th>\n",
              "      <th></th>\n",
              "      <th></th>\n",
              "      <th></th>\n",
              "      <th></th>\n",
              "      <th></th>\n",
              "      <th></th>\n",
              "    </tr>\n",
              "  </thead>\n",
              "  <tbody>\n",
              "    <tr>\n",
              "      <th>athletics</th>\n",
              "      <td>2970</td>\n",
              "      <td>0</td>\n",
              "      <td>0</td>\n",
              "      <td>0</td>\n",
              "      <td>0</td>\n",
              "      <td>0</td>\n",
              "      <td>0</td>\n",
              "      <td>0</td>\n",
              "      <td>0</td>\n",
              "      <td>0</td>\n",
              "      <td>0</td>\n",
              "      <td>0</td>\n",
              "      <td>0</td>\n",
              "    </tr>\n",
              "    <tr>\n",
              "      <th>autosport</th>\n",
              "      <td>0</td>\n",
              "      <td>3160</td>\n",
              "      <td>0</td>\n",
              "      <td>0</td>\n",
              "      <td>0</td>\n",
              "      <td>0</td>\n",
              "      <td>0</td>\n",
              "      <td>0</td>\n",
              "      <td>0</td>\n",
              "      <td>0</td>\n",
              "      <td>0</td>\n",
              "      <td>0</td>\n",
              "      <td>0</td>\n",
              "    </tr>\n",
              "    <tr>\n",
              "      <th>basketball</th>\n",
              "      <td>0</td>\n",
              "      <td>0</td>\n",
              "      <td>2850</td>\n",
              "      <td>0</td>\n",
              "      <td>0</td>\n",
              "      <td>0</td>\n",
              "      <td>0</td>\n",
              "      <td>0</td>\n",
              "      <td>0</td>\n",
              "      <td>0</td>\n",
              "      <td>0</td>\n",
              "      <td>0</td>\n",
              "      <td>0</td>\n",
              "    </tr>\n",
              "    <tr>\n",
              "      <th>boardgames</th>\n",
              "      <td>0</td>\n",
              "      <td>0</td>\n",
              "      <td>0</td>\n",
              "      <td>3020</td>\n",
              "      <td>0</td>\n",
              "      <td>0</td>\n",
              "      <td>0</td>\n",
              "      <td>0</td>\n",
              "      <td>0</td>\n",
              "      <td>0</td>\n",
              "      <td>0</td>\n",
              "      <td>0</td>\n",
              "      <td>0</td>\n",
              "    </tr>\n",
              "    <tr>\n",
              "      <th>esport</th>\n",
              "      <td>0</td>\n",
              "      <td>0</td>\n",
              "      <td>0</td>\n",
              "      <td>0</td>\n",
              "      <td>2990</td>\n",
              "      <td>0</td>\n",
              "      <td>0</td>\n",
              "      <td>0</td>\n",
              "      <td>0</td>\n",
              "      <td>0</td>\n",
              "      <td>0</td>\n",
              "      <td>0</td>\n",
              "      <td>0</td>\n",
              "    </tr>\n",
              "    <tr>\n",
              "      <th>extreme</th>\n",
              "      <td>0</td>\n",
              "      <td>0</td>\n",
              "      <td>0</td>\n",
              "      <td>0</td>\n",
              "      <td>0</td>\n",
              "      <td>3110</td>\n",
              "      <td>0</td>\n",
              "      <td>0</td>\n",
              "      <td>0</td>\n",
              "      <td>0</td>\n",
              "      <td>0</td>\n",
              "      <td>0</td>\n",
              "      <td>0</td>\n",
              "    </tr>\n",
              "    <tr>\n",
              "      <th>football</th>\n",
              "      <td>0</td>\n",
              "      <td>0</td>\n",
              "      <td>0</td>\n",
              "      <td>0</td>\n",
              "      <td>0</td>\n",
              "      <td>0</td>\n",
              "      <td>2860</td>\n",
              "      <td>0</td>\n",
              "      <td>0</td>\n",
              "      <td>0</td>\n",
              "      <td>0</td>\n",
              "      <td>0</td>\n",
              "      <td>0</td>\n",
              "    </tr>\n",
              "    <tr>\n",
              "      <th>hockey</th>\n",
              "      <td>0</td>\n",
              "      <td>0</td>\n",
              "      <td>0</td>\n",
              "      <td>0</td>\n",
              "      <td>0</td>\n",
              "      <td>0</td>\n",
              "      <td>0</td>\n",
              "      <td>2950</td>\n",
              "      <td>0</td>\n",
              "      <td>0</td>\n",
              "      <td>0</td>\n",
              "      <td>0</td>\n",
              "      <td>0</td>\n",
              "    </tr>\n",
              "    <tr>\n",
              "      <th>martial_arts</th>\n",
              "      <td>0</td>\n",
              "      <td>0</td>\n",
              "      <td>0</td>\n",
              "      <td>0</td>\n",
              "      <td>0</td>\n",
              "      <td>0</td>\n",
              "      <td>0</td>\n",
              "      <td>0</td>\n",
              "      <td>3050</td>\n",
              "      <td>0</td>\n",
              "      <td>0</td>\n",
              "      <td>0</td>\n",
              "      <td>0</td>\n",
              "    </tr>\n",
              "    <tr>\n",
              "      <th>motosport</th>\n",
              "      <td>0</td>\n",
              "      <td>0</td>\n",
              "      <td>0</td>\n",
              "      <td>0</td>\n",
              "      <td>0</td>\n",
              "      <td>0</td>\n",
              "      <td>0</td>\n",
              "      <td>0</td>\n",
              "      <td>0</td>\n",
              "      <td>3030</td>\n",
              "      <td>0</td>\n",
              "      <td>0</td>\n",
              "      <td>0</td>\n",
              "    </tr>\n",
              "    <tr>\n",
              "      <th>tennis</th>\n",
              "      <td>0</td>\n",
              "      <td>0</td>\n",
              "      <td>0</td>\n",
              "      <td>0</td>\n",
              "      <td>0</td>\n",
              "      <td>0</td>\n",
              "      <td>0</td>\n",
              "      <td>0</td>\n",
              "      <td>0</td>\n",
              "      <td>0</td>\n",
              "      <td>3000</td>\n",
              "      <td>0</td>\n",
              "      <td>0</td>\n",
              "    </tr>\n",
              "    <tr>\n",
              "      <th>volleyball</th>\n",
              "      <td>0</td>\n",
              "      <td>0</td>\n",
              "      <td>0</td>\n",
              "      <td>0</td>\n",
              "      <td>0</td>\n",
              "      <td>0</td>\n",
              "      <td>0</td>\n",
              "      <td>0</td>\n",
              "      <td>0</td>\n",
              "      <td>0</td>\n",
              "      <td>0</td>\n",
              "      <td>2950</td>\n",
              "      <td>0</td>\n",
              "    </tr>\n",
              "    <tr>\n",
              "      <th>winter_sport</th>\n",
              "      <td>0</td>\n",
              "      <td>0</td>\n",
              "      <td>0</td>\n",
              "      <td>0</td>\n",
              "      <td>0</td>\n",
              "      <td>0</td>\n",
              "      <td>0</td>\n",
              "      <td>0</td>\n",
              "      <td>0</td>\n",
              "      <td>0</td>\n",
              "      <td>0</td>\n",
              "      <td>0</td>\n",
              "      <td>2800</td>\n",
              "    </tr>\n",
              "  </tbody>\n",
              "</table>\n",
              "</div>\n",
              "      <button class=\"colab-df-convert\" onclick=\"convertToInteractive('df-33c747e0-5d35-4338-9e96-6a521a66add1')\"\n",
              "              title=\"Convert this dataframe to an interactive table.\"\n",
              "              style=\"display:none;\">\n",
              "        \n",
              "  <svg xmlns=\"http://www.w3.org/2000/svg\" height=\"24px\"viewBox=\"0 0 24 24\"\n",
              "       width=\"24px\">\n",
              "    <path d=\"M0 0h24v24H0V0z\" fill=\"none\"/>\n",
              "    <path d=\"M18.56 5.44l.94 2.06.94-2.06 2.06-.94-2.06-.94-.94-2.06-.94 2.06-2.06.94zm-11 1L8.5 8.5l.94-2.06 2.06-.94-2.06-.94L8.5 2.5l-.94 2.06-2.06.94zm10 10l.94 2.06.94-2.06 2.06-.94-2.06-.94-.94-2.06-.94 2.06-2.06.94z\"/><path d=\"M17.41 7.96l-1.37-1.37c-.4-.4-.92-.59-1.43-.59-.52 0-1.04.2-1.43.59L10.3 9.45l-7.72 7.72c-.78.78-.78 2.05 0 2.83L4 21.41c.39.39.9.59 1.41.59.51 0 1.02-.2 1.41-.59l7.78-7.78 2.81-2.81c.8-.78.8-2.07 0-2.86zM5.41 20L4 18.59l7.72-7.72 1.47 1.35L5.41 20z\"/>\n",
              "  </svg>\n",
              "      </button>\n",
              "      \n",
              "  <style>\n",
              "    .colab-df-container {\n",
              "      display:flex;\n",
              "      flex-wrap:wrap;\n",
              "      gap: 12px;\n",
              "    }\n",
              "\n",
              "    .colab-df-convert {\n",
              "      background-color: #E8F0FE;\n",
              "      border: none;\n",
              "      border-radius: 50%;\n",
              "      cursor: pointer;\n",
              "      display: none;\n",
              "      fill: #1967D2;\n",
              "      height: 32px;\n",
              "      padding: 0 0 0 0;\n",
              "      width: 32px;\n",
              "    }\n",
              "\n",
              "    .colab-df-convert:hover {\n",
              "      background-color: #E2EBFA;\n",
              "      box-shadow: 0px 1px 2px rgba(60, 64, 67, 0.3), 0px 1px 3px 1px rgba(60, 64, 67, 0.15);\n",
              "      fill: #174EA6;\n",
              "    }\n",
              "\n",
              "    [theme=dark] .colab-df-convert {\n",
              "      background-color: #3B4455;\n",
              "      fill: #D2E3FC;\n",
              "    }\n",
              "\n",
              "    [theme=dark] .colab-df-convert:hover {\n",
              "      background-color: #434B5C;\n",
              "      box-shadow: 0px 1px 3px 1px rgba(0, 0, 0, 0.15);\n",
              "      filter: drop-shadow(0px 1px 2px rgba(0, 0, 0, 0.3));\n",
              "      fill: #FFFFFF;\n",
              "    }\n",
              "  </style>\n",
              "\n",
              "      <script>\n",
              "        const buttonEl =\n",
              "          document.querySelector('#df-33c747e0-5d35-4338-9e96-6a521a66add1 button.colab-df-convert');\n",
              "        buttonEl.style.display =\n",
              "          google.colab.kernel.accessAllowed ? 'block' : 'none';\n",
              "\n",
              "        async function convertToInteractive(key) {\n",
              "          const element = document.querySelector('#df-33c747e0-5d35-4338-9e96-6a521a66add1');\n",
              "          const dataTable =\n",
              "            await google.colab.kernel.invokeFunction('convertToInteractive',\n",
              "                                                     [key], {});\n",
              "          if (!dataTable) return;\n",
              "\n",
              "          const docLinkHtml = 'Like what you see? Visit the ' +\n",
              "            '<a target=\"_blank\" href=https://colab.research.google.com/notebooks/data_table.ipynb>data table notebook</a>'\n",
              "            + ' to learn more about interactive tables.';\n",
              "          element.innerHTML = '';\n",
              "          dataTable['output_type'] = 'display_data';\n",
              "          await google.colab.output.renderOutput(dataTable, element);\n",
              "          const docLink = document.createElement('div');\n",
              "          docLink.innerHTML = docLinkHtml;\n",
              "          element.appendChild(docLink);\n",
              "        }\n",
              "      </script>\n",
              "    </div>\n",
              "  </div>\n",
              "  "
            ]
          },
          "metadata": {},
          "execution_count": 9
        }
      ]
    },
    {
      "cell_type": "code",
      "source": [
        "# метки\n",
        "le.classes_"
      ],
      "metadata": {
        "colab": {
          "base_uri": "https://localhost:8080/"
        },
        "id": "l6jcIuspoe78",
        "outputId": "f27579ad-50b6-464d-a0ff-ee1e526a6f96"
      },
      "execution_count": null,
      "outputs": [
        {
          "output_type": "execute_result",
          "data": {
            "text/plain": [
              "array(['athletics', 'autosport', 'basketball', 'boardgames', 'esport',\n",
              "       'extreme', 'football', 'hockey', 'martial_arts', 'motosport',\n",
              "       'tennis', 'volleyball', 'winter_sport'], dtype=object)"
            ]
          },
          "metadata": {},
          "execution_count": 10
        }
      ]
    },
    {
      "cell_type": "code",
      "source": [
        "# распределение по категориям в зависимости от oid\n",
        "from matplotlib import pyplot as plt\n",
        "import numpy as np\n",
        "plt.figure(figsize=(20, 4))\n",
        "plt.scatter(train.oid, train.labels + 0.1*np.random.randn(38740),5, c='b')\n",
        "plt.scatter(test.oid, - 1 + 0.1*np.random.randn(26260),5, c='r')"
      ],
      "metadata": {
        "colab": {
          "base_uri": "https://localhost:8080/",
          "height": 295
        },
        "id": "39Yqix-Vok_x",
        "outputId": "f3de0ffb-e18d-4f12-de48-9c9c2122669b"
      },
      "execution_count": null,
      "outputs": [
        {
          "output_type": "execute_result",
          "data": {
            "text/plain": [
              "<matplotlib.collections.PathCollection at 0x7f8e1c03d1f0>"
            ]
          },
          "metadata": {},
          "execution_count": 11
        },
        {
          "output_type": "display_data",
          "data": {
            "text/plain": [
              "<Figure size 1440x288 with 1 Axes>"
            ],
            "image/png": "[encoded data removed]"
          },
          "metadata": {
            "needs_background": "light"
          }
        }
      ]
    },
    {
      "cell_type": "code",
      "source": [
        "# распределение длин\n",
        "train['lens'] = train.text.str.len()\n",
        "plt.figure(figsize=(12, 4))\n",
        "plt.hist(train.lens.values, bins=100, color='#000099');\n",
        "plt.yscale('log')"
      ],
      "metadata": {
        "colab": {
          "base_uri": "https://localhost:8080/",
          "height": 265
        },
        "id": "-_pbbx4bpEUi",
        "outputId": "c499ace5-c354-41d3-e8a1-546636be85e6"
      },
      "execution_count": null,
      "outputs": [
        {
          "output_type": "display_data",
          "data": {
            "text/plain": [
              "<Figure size 864x288 with 1 Axes>"
            ],
            "image/png": "[encoded data removed]"
          },
          "metadata": {
            "needs_background": "light"
          }
        }
      ]
    },
    {
      "cell_type": "code",
      "source": [
        "# длина по категориям\n",
        "train.groupby('category')['lens'].median()"
      ],
      "metadata": {
        "colab": {
          "base_uri": "https://localhost:8080/"
        },
        "id": "dSROP4l7qNxH",
        "outputId": "d9948876-6e58-4577-8eab-74f3d583820b"
      },
      "execution_count": null,
      "outputs": [
        {
          "output_type": "execute_result",
          "data": {
            "text/plain": [
              "category\n",
              "athletics       319.0\n",
              "autosport       249.0\n",
              "basketball      144.0\n",
              "boardgames      366.0\n",
              "esport          150.0\n",
              "extreme         277.0\n",
              "football        143.0\n",
              "hockey          183.5\n",
              "martial_arts    188.5\n",
              "motosport       301.0\n",
              "tennis          213.0\n",
              "volleyball      208.5\n",
              "winter_sport    265.0\n",
              "Name: lens, dtype: float64"
            ]
          },
          "metadata": {},
          "execution_count": 16
        }
      ]
    },
    {
      "cell_type": "code",
      "source": [
        "train[train.oid == 365271984]"
      ],
      "metadata": {
        "colab": {
          "base_uri": "https://localhost:8080/",
          "height": 363
        },
        "id": "QPHVq7CeqQl4",
        "outputId": "5c4a3894-e0eb-4e16-81ef-4cec0c4ba4a8"
      },
      "execution_count": null,
      "outputs": [
        {
          "output_type": "execute_result",
          "data": {
            "text/plain": [
              "             oid      category  \\\n",
              "9795   365271984  winter_sport   \n",
              "15301  365271984  winter_sport   \n",
              "8529   365271984  winter_sport   \n",
              "9813   365271984  winter_sport   \n",
              "0      365271984  winter_sport   \n",
              "13013  365271984  winter_sport   \n",
              "24972  365271984  winter_sport   \n",
              "5802   365271984  winter_sport   \n",
              "24225  365271984  winter_sport   \n",
              "23211  365271984  winter_sport   \n",
              "\n",
              "                                                    text  labels  lens  \n",
              "9795   По заявкам публики Евгения Медведева и Торнике...      12   135  \n",
              "15301  Сегодня Женя комментировала короткую программу...      12   100  \n",
              "8529   24 апреля 18 55 Первый канал ️ ЕвгенияМедведев...      12    61  \n",
              "9813   Кружочки с шоу Влюбленные в фигурное катание и...      12    93  \n",
              "0      Волшебные фото Виктория Поплавская ЕвгенияМедв...      12    65  \n",
              "13013  Женя на хоккее ЕвгенияМедведева Evgentokenoid ...      12    56  \n",
              "24972  Еще немного видео с ребятами А теперь внимание...      12    97  \n",
              "5802   Саша Трусова о Жене Моховая 9 ЕвгенияМедведева...      12    60  \n",
              "24225  Женя рассказывает о первом дне в Карелии ️ YAP...      12    79  \n",
              "23211  Последний совместный номер Жени Медведевой и Д...      12    99  "
            ],
            "text/html": [
              "\n",
              "  <div id=\"df-07f8b57a-4d37-41a0-8a85-34f6cb5a5b01\">\n",
              "    <div class=\"colab-df-container\">\n",
              "      <div>\n",
              "<style scoped>\n",
              "    .dataframe tbody tr th:only-of-type {\n",
              "        vertical-align: middle;\n",
              "    }\n",
              "\n",
              "    .dataframe tbody tr th {\n",
              "        vertical-align: top;\n",
              "    }\n",
              "\n",
              "    .dataframe thead th {\n",
              "        text-align: right;\n",
              "    }\n",
              "</style>\n",
              "<table border=\"1\" class=\"dataframe\">\n",
              "  <thead>\n",
              "    <tr style=\"text-align: right;\">\n",
              "      <th></th>\n",
              "      <th>oid</th>\n",
              "      <th>category</th>\n",
              "      <th>text</th>\n",
              "      <th>labels</th>\n",
              "      <th>lens</th>\n",
              "    </tr>\n",
              "  </thead>\n",
              "  <tbody>\n",
              "    <tr>\n",
              "      <th>9795</th>\n",
              "      <td>365271984</td>\n",
              "      <td>winter_sport</td>\n",
              "      <td>По заявкам публики Евгения Медведева и Торнике...</td>\n",
              "      <td>12</td>\n",
              "      <td>135</td>\n",
              "    </tr>\n",
              "    <tr>\n",
              "      <th>15301</th>\n",
              "      <td>365271984</td>\n",
              "      <td>winter_sport</td>\n",
              "      <td>Сегодня Женя комментировала короткую программу...</td>\n",
              "      <td>12</td>\n",
              "      <td>100</td>\n",
              "    </tr>\n",
              "    <tr>\n",
              "      <th>8529</th>\n",
              "      <td>365271984</td>\n",
              "      <td>winter_sport</td>\n",
              "      <td>24 апреля 18 55 Первый канал ️ ЕвгенияМедведев...</td>\n",
              "      <td>12</td>\n",
              "      <td>61</td>\n",
              "    </tr>\n",
              "    <tr>\n",
              "      <th>9813</th>\n",
              "      <td>365271984</td>\n",
              "      <td>winter_sport</td>\n",
              "      <td>Кружочки с шоу Влюбленные в фигурное катание и...</td>\n",
              "      <td>12</td>\n",
              "      <td>93</td>\n",
              "    </tr>\n",
              "    <tr>\n",
              "      <th>0</th>\n",
              "      <td>365271984</td>\n",
              "      <td>winter_sport</td>\n",
              "      <td>Волшебные фото Виктория Поплавская ЕвгенияМедв...</td>\n",
              "      <td>12</td>\n",
              "      <td>65</td>\n",
              "    </tr>\n",
              "    <tr>\n",
              "      <th>13013</th>\n",
              "      <td>365271984</td>\n",
              "      <td>winter_sport</td>\n",
              "      <td>Женя на хоккее ЕвгенияМедведева Evgentokenoid ...</td>\n",
              "      <td>12</td>\n",
              "      <td>56</td>\n",
              "    </tr>\n",
              "    <tr>\n",
              "      <th>24972</th>\n",
              "      <td>365271984</td>\n",
              "      <td>winter_sport</td>\n",
              "      <td>Еще немного видео с ребятами А теперь внимание...</td>\n",
              "      <td>12</td>\n",
              "      <td>97</td>\n",
              "    </tr>\n",
              "    <tr>\n",
              "      <th>5802</th>\n",
              "      <td>365271984</td>\n",
              "      <td>winter_sport</td>\n",
              "      <td>Саша Трусова о Жене Моховая 9 ЕвгенияМедведева...</td>\n",
              "      <td>12</td>\n",
              "      <td>60</td>\n",
              "    </tr>\n",
              "    <tr>\n",
              "      <th>24225</th>\n",
              "      <td>365271984</td>\n",
              "      <td>winter_sport</td>\n",
              "      <td>Женя рассказывает о первом дне в Карелии ️ YAP...</td>\n",
              "      <td>12</td>\n",
              "      <td>79</td>\n",
              "    </tr>\n",
              "    <tr>\n",
              "      <th>23211</th>\n",
              "      <td>365271984</td>\n",
              "      <td>winter_sport</td>\n",
              "      <td>Последний совместный номер Жени Медведевой и Д...</td>\n",
              "      <td>12</td>\n",
              "      <td>99</td>\n",
              "    </tr>\n",
              "  </tbody>\n",
              "</table>\n",
              "</div>\n",
              "      <button class=\"colab-df-convert\" onclick=\"convertToInteractive('df-07f8b57a-4d37-41a0-8a85-34f6cb5a5b01')\"\n",
              "              title=\"Convert this dataframe to an interactive table.\"\n",
              "              style=\"display:none;\">\n",
              "        \n",
              "  <svg xmlns=\"http://www.w3.org/2000/svg\" height=\"24px\"viewBox=\"0 0 24 24\"\n",
              "       width=\"24px\">\n",
              "    <path d=\"M0 0h24v24H0V0z\" fill=\"none\"/>\n",
              "    <path d=\"M18.56 5.44l.94 2.06.94-2.06 2.06-.94-2.06-.94-.94-2.06-.94 2.06-2.06.94zm-11 1L8.5 8.5l.94-2.06 2.06-.94-2.06-.94L8.5 2.5l-.94 2.06-2.06.94zm10 10l.94 2.06.94-2.06 2.06-.94-2.06-.94-.94-2.06-.94 2.06-2.06.94z\"/><path d=\"M17.41 7.96l-1.37-1.37c-.4-.4-.92-.59-1.43-.59-.52 0-1.04.2-1.43.59L10.3 9.45l-7.72 7.72c-.78.78-.78 2.05 0 2.83L4 21.41c.39.39.9.59 1.41.59.51 0 1.02-.2 1.41-.59l7.78-7.78 2.81-2.81c.8-.78.8-2.07 0-2.86zM5.41 20L4 18.59l7.72-7.72 1.47 1.35L5.41 20z\"/>\n",
              "  </svg>\n",
              "      </button>\n",
              "      \n",
              "  <style>\n",
              "    .colab-df-container {\n",
              "      display:flex;\n",
              "      flex-wrap:wrap;\n",
              "      gap: 12px;\n",
              "    }\n",
              "\n",
              "    .colab-df-convert {\n",
              "      background-color: #E8F0FE;\n",
              "      border: none;\n",
              "      border-radius: 50%;\n",
              "      cursor: pointer;\n",
              "      display: none;\n",
              "      fill: #1967D2;\n",
              "      height: 32px;\n",
              "      padding: 0 0 0 0;\n",
              "      width: 32px;\n",
              "    }\n",
              "\n",
              "    .colab-df-convert:hover {\n",
              "      background-color: #E2EBFA;\n",
              "      box-shadow: 0px 1px 2px rgba(60, 64, 67, 0.3), 0px 1px 3px 1px rgba(60, 64, 67, 0.15);\n",
              "      fill: #174EA6;\n",
              "    }\n",
              "\n",
              "    [theme=dark] .colab-df-convert {\n",
              "      background-color: #3B4455;\n",
              "      fill: #D2E3FC;\n",
              "    }\n",
              "\n",
              "    [theme=dark] .colab-df-convert:hover {\n",
              "      background-color: #434B5C;\n",
              "      box-shadow: 0px 1px 3px 1px rgba(0, 0, 0, 0.15);\n",
              "      filter: drop-shadow(0px 1px 2px rgba(0, 0, 0, 0.3));\n",
              "      fill: #FFFFFF;\n",
              "    }\n",
              "  </style>\n",
              "\n",
              "      <script>\n",
              "        const buttonEl =\n",
              "          document.querySelector('#df-07f8b57a-4d37-41a0-8a85-34f6cb5a5b01 button.colab-df-convert');\n",
              "        buttonEl.style.display =\n",
              "          google.colab.kernel.accessAllowed ? 'block' : 'none';\n",
              "\n",
              "        async function convertToInteractive(key) {\n",
              "          const element = document.querySelector('#df-07f8b57a-4d37-41a0-8a85-34f6cb5a5b01');\n",
              "          const dataTable =\n",
              "            await google.colab.kernel.invokeFunction('convertToInteractive',\n",
              "                                                     [key], {});\n",
              "          if (!dataTable) return;\n",
              "\n",
              "          const docLinkHtml = 'Like what you see? Visit the ' +\n",
              "            '<a target=\"_blank\" href=https://colab.research.google.com/notebooks/data_table.ipynb>data table notebook</a>'\n",
              "            + ' to learn more about interactive tables.';\n",
              "          element.innerHTML = '';\n",
              "          dataTable['output_type'] = 'display_data';\n",
              "          await google.colab.output.renderOutput(dataTable, element);\n",
              "          const docLink = document.createElement('div');\n",
              "          docLink.innerHTML = docLinkHtml;\n",
              "          element.appendChild(docLink);\n",
              "        }\n",
              "      </script>\n",
              "    </div>\n",
              "  </div>\n",
              "  "
            ]
          },
          "metadata": {},
          "execution_count": 17
        }
      ]
    },
    {
      "cell_type": "code",
      "source": [],
      "metadata": {
        "id": "OHudncZgqmk_"
      },
      "execution_count": null,
      "outputs": []
    },
    {
      "cell_type": "markdown",
      "source": [
        "# Модель\n",
        "\n",
        "Взято с модификациями здесь: https://habr.com/ru/post/567028/"
      ],
      "metadata": {
        "id": "vUEmSgeqqrQl"
      }
    },
    {
      "cell_type": "code",
      "source": [
        "import numpy as np\n",
        "import torch\n",
        "from transformers import BertTokenizer, BertForSequenceClassification\n",
        "from torch.utils.data import Dataset, DataLoader\n",
        "from transformers import AdamW, get_linear_schedule_with_warmup\n",
        "\n",
        "class BertClassifier:\n",
        "\n",
        "    def __init__(self, model_path, tokenizer_path, n_classes=2, epochs=1, model_save_path='/content/bert.pt'):\n",
        "        self.model = BertForSequenceClassification.from_pretrained(model_path)\n",
        "        self.tokenizer = BertTokenizer.from_pretrained(tokenizer_path)\n",
        "        self.device = torch.device(\"cuda:0\" if torch.cuda.is_available() else \"cpu\")\n",
        "        self.model_save_path=model_save_path\n",
        "        self.max_len = 512\n",
        "        self.epochs = epochs\n",
        "        self.out_features = self.model.bert.encoder.layer[1].output.dense.out_features # ??????? не используется\n",
        "        self.model.classifier = torch.nn.Linear(self.out_features, n_classes)\n",
        "        self.model.to(self.device)\n",
        "\n",
        "    def preparation(self, X_train, y_train, X_valid, y_valid, batch_size=2):\n",
        "        # create datasets\n",
        "        self.train_set = CustomDataset(X_train, y_train, self.tokenizer)\n",
        "        self.valid_set = CustomDataset(X_valid, y_valid, self.tokenizer)\n",
        "\n",
        "        # create data loaders\n",
        "        self.train_loader = DataLoader(self.train_set, batch_size=batch_size, shuffle=True) # BS здесь ввёл параметр\n",
        "        self.valid_loader = DataLoader(self.valid_set, batch_size=batch_size, shuffle=False)\n",
        "\n",
        "        # helpers initialization\n",
        "        self.optimizer = AdamW(self.model.parameters(), lr=2e-5, correct_bias=False)\n",
        "        self.scheduler = get_linear_schedule_with_warmup(\n",
        "                self.optimizer,\n",
        "                num_warmup_steps=0, # можно по-другому\n",
        "                num_training_steps=len(self.train_loader) * self.epochs\n",
        "            )\n",
        "        self.loss_fn = torch.nn.CrossEntropyLoss().to(self.device)\n",
        "\n",
        "    def fit(self):\n",
        "        self.model = self.model.train()\n",
        "        losses = []\n",
        "        correct_predictions = 0\n",
        "\n",
        "        for data in self.train_loader:\n",
        "            input_ids = data[\"input_ids\"].to(self.device)\n",
        "            attention_mask = data[\"attention_mask\"].to(self.device)\n",
        "            targets = data[\"targets\"].to(self.device)\n",
        "\n",
        "            outputs = self.model(\n",
        "                input_ids=input_ids,\n",
        "                attention_mask=attention_mask\n",
        "                )\n",
        "\n",
        "            preds = torch.argmax(outputs.logits, dim=1)\n",
        "            loss = self.loss_fn(outputs.logits, targets)\n",
        "\n",
        "            correct_predictions += torch.sum(preds == targets)\n",
        "\n",
        "            losses.append(loss.item())\n",
        "\n",
        "            loss.backward()\n",
        "            torch.nn.utils.clip_grad_norm_(self.model.parameters(), max_norm=1.0)\n",
        "            self.optimizer.step()\n",
        "            self.scheduler.step()\n",
        "            self.optimizer.zero_grad()\n",
        "\n",
        "        train_acc = correct_predictions.double() / len(self.train_set)\n",
        "        train_loss = np.mean(losses)\n",
        "        return train_acc, train_loss\n",
        "\n",
        "    def eval(self):\n",
        "        self.model = self.model.eval()\n",
        "        losses = []\n",
        "        correct_predictions = 0\n",
        "\n",
        "        with torch.no_grad():\n",
        "            for data in self.valid_loader:\n",
        "                input_ids = data[\"input_ids\"].to(self.device)\n",
        "                attention_mask = data[\"attention_mask\"].to(self.device)\n",
        "                targets = data[\"targets\"].to(self.device)\n",
        "\n",
        "                outputs = self.model(\n",
        "                    input_ids=input_ids,\n",
        "                    attention_mask=attention_mask\n",
        "                    )\n",
        "\n",
        "                preds = torch.argmax(outputs.logits, dim=1)\n",
        "                loss = self.loss_fn(outputs.logits, targets)\n",
        "                correct_predictions += torch.sum(preds == targets)\n",
        "                losses.append(loss.item())\n",
        "\n",
        "        val_acc = correct_predictions.double() / len(self.valid_set)\n",
        "        val_loss = np.mean(losses) # можно более хитрую метрику вставить!!!\n",
        "        return val_acc, val_loss\n",
        "\n",
        "    def train(self):\n",
        "        best_accuracy = 0\n",
        "        for epoch in range(self.epochs):\n",
        "            print(f'Epoch {epoch + 1}/{self.epochs}')\n",
        "            train_acc, train_loss = self.fit()\n",
        "            print(f'Train loss {train_loss} accuracy {train_acc}')\n",
        "\n",
        "            val_acc, val_loss = self.eval()\n",
        "            print(f'Val loss {val_loss} accuracy {val_acc}')\n",
        "            print('-' * 10)\n",
        "\n",
        "            if val_acc > best_accuracy:\n",
        "                torch.save(self.model, self.model_save_path)\n",
        "                best_accuracy = val_acc\n",
        "\n",
        "        self.model = torch.load(self.model_save_path)\n",
        "\n",
        "    def predict(self, text):\n",
        "        encoding = self.tokenizer.encode_plus(\n",
        "            text,\n",
        "            add_special_tokens=True,\n",
        "            max_length=self.max_len,\n",
        "            return_token_type_ids=False,\n",
        "            truncation=True,\n",
        "            padding='max_length',\n",
        "            return_attention_mask=True,\n",
        "            return_tensors='pt',\n",
        "        )\n",
        "\n",
        "        out = {\n",
        "              'text': text,\n",
        "              'input_ids': encoding['input_ids'].flatten(),\n",
        "              'attention_mask': encoding['attention_mask'].flatten()\n",
        "          }\n",
        "\n",
        "        input_ids = out[\"input_ids\"].to(self.device)\n",
        "        attention_mask = out[\"attention_mask\"].to(self.device)\n",
        "\n",
        "        outputs = self.model(\n",
        "            input_ids=input_ids.unsqueeze(0),\n",
        "            attention_mask=attention_mask.unsqueeze(0)\n",
        "        )\n",
        "\n",
        "        prediction = torch.argmax(outputs.logits, dim=1).cpu().numpy()[0]\n",
        "\n",
        "        return prediction\n",
        "\n",
        "    def predict_proba(self, text):\n",
        "        encoding = self.tokenizer.encode_plus(\n",
        "            text,\n",
        "            add_special_tokens=True,\n",
        "            max_length=self.max_len,\n",
        "            return_token_type_ids=False,\n",
        "            truncation=True,\n",
        "            padding='max_length',\n",
        "            return_attention_mask=True,\n",
        "            return_tensors='pt',\n",
        "        )\n",
        "\n",
        "        out = {\n",
        "              'text': text,\n",
        "              'input_ids': encoding['input_ids'].flatten(),\n",
        "              'attention_mask': encoding['attention_mask'].flatten()\n",
        "          }\n",
        "\n",
        "        input_ids = out[\"input_ids\"].to(self.device)\n",
        "        attention_mask = out[\"attention_mask\"].to(self.device)\n",
        "\n",
        "        outputs = self.model(\n",
        "            input_ids=input_ids.unsqueeze(0),\n",
        "            attention_mask=attention_mask.unsqueeze(0)\n",
        "        )\n",
        "\n",
        "        prediction = outputs.logits.detach().cpu().numpy()\n",
        "\n",
        "        return prediction"
      ],
      "metadata": {
        "id": "Q8FWGE2h-gGc"
      },
      "execution_count": null,
      "outputs": []
    },
    {
      "cell_type": "code",
      "source": [
        "import torch\n",
        "from torch.utils.data import Dataset\n",
        "\n",
        "class CustomDataset(Dataset):\n",
        "\n",
        "  def __init__(self, texts, targets, tokenizer, max_len=512):\n",
        "    self.texts = texts\n",
        "    self.targets = targets\n",
        "    self.tokenizer = tokenizer\n",
        "    self.max_len = max_len\n",
        "\n",
        "  def __len__(self):\n",
        "    return len(self.texts)\n",
        "\n",
        "  def __getitem__(self, idx):\n",
        "    text = str(self.texts[idx])\n",
        "    target = self.targets[idx]\n",
        "\n",
        "    encoding = self.tokenizer.encode_plus(\n",
        "        text,\n",
        "        add_special_tokens=True,\n",
        "        max_length=self.max_len,\n",
        "        return_token_type_ids=False,\n",
        "        padding='max_length',\n",
        "        return_attention_mask=True,\n",
        "        return_tensors='pt',\n",
        "        truncation=True\n",
        "    )\n",
        "\n",
        "    return {\n",
        "      'text': text,\n",
        "      'input_ids': encoding['input_ids'].flatten(),\n",
        "      'attention_mask': encoding['attention_mask'].flatten(),\n",
        "      'targets': torch.tensor(target, dtype=torch.long)\n",
        "    }"
      ],
      "metadata": {
        "id": "PIuTn4u4-gzm"
      },
      "execution_count": null,
      "outputs": []
    },
    {
      "cell_type": "code",
      "source": [
        "# from sklearn import preprocessing\n",
        "# le = preprocessing.LabelEncoder()\n",
        "# le.fit(train.category)\n",
        "# labels = le.transform(train.category)\n",
        "\n",
        "# train['labels'] = labels\n",
        "\n",
        "# pd.crosstab(train.category, train.labels)"
      ],
      "metadata": {
        "id": "yrPx0_B8-2yX"
      },
      "execution_count": null,
      "outputs": []
    },
    {
      "cell_type": "code",
      "source": [],
      "metadata": {
        "id": "PvUMwYdeJ869"
      },
      "execution_count": null,
      "outputs": []
    },
    {
      "cell_type": "markdown",
      "source": [
        "# Эксперименты"
      ],
      "metadata": {
        "id": "azkpfjRdJ-Ib"
      }
    },
    {
      "cell_type": "code",
      "source": [
        "#from sklearn.model_selection import train_test_split\n",
        "#X_train, X_nottrain, y_train, y_nottrain = train_test_split(train.text.values, train.labels.values, test_size=0.4, random_state=1)\n",
        "#X_valid, X_test, y_valid, y_test = train_test_split(X_nottrain, y_nottrain, test_size=0.4, random_state=2)\n",
        "#print (X_train.shape, y_train.shape,\n",
        "#       X_valid.shape, y_valid.shape,\n",
        "#       X_test.shape, y_test.shape)\n",
        "\n",
        "\n",
        "# после сортировки по oid - надо без перемешивания, чтобы было разбиение по oid\n",
        "# здесь фиктивный тест 10 записей с одним oid\n",
        "\n",
        "from sklearn.model_selection import train_test_split\n",
        "X_train, X_nottrain, y_train, y_nottrain = train_test_split(train.text.values, train.labels.values, test_size=10010, random_state=1, shuffle=False)\n",
        "X_valid, X_test, y_valid, y_test = train_test_split(X_nottrain, y_nottrain, test_size=10, random_state=2, shuffle=False)\n",
        "print (X_train.shape, y_train.shape,\n",
        "       X_valid.shape, y_valid.shape,\n",
        "       X_test.shape, y_test.shape)"
      ],
      "metadata": {
        "colab": {
          "base_uri": "https://localhost:8080/"
        },
        "id": "GGO2-oHK_cuK",
        "outputId": "28898bcc-9ad3-44a6-fa90-14ac8488c4dc"
      },
      "execution_count": null,
      "outputs": [
        {
          "output_type": "stream",
          "name": "stdout",
          "text": [
            "(28730,) (28730,) (10000,) (10000,) (10,) (10,)\n"
          ]
        }
      ]
    },
    {
      "cell_type": "code",
      "source": [
        "# лучше использовать маленькую дистиллированную модель - cointegrated/rubert-tiny\n",
        "# ИНАЧЕ ОЧЕНЬ ДОЛГО ОБУЧАЕТСЯ - DeepPavlov/rubert-base-cased (но зато качество лучше)\n",
        "\n",
        "classifier = BertClassifier(\n",
        "        model_path='cointegrated/rubert-tiny', # 'cointegrated/rubert-tiny',\n",
        "        tokenizer_path='cointegrated/rubert-tiny', # 'cointegrated/rubert-tiny',\n",
        "        n_classes=13,\n",
        "        epochs=1, # тут надо минимум 3-4 эпохи, можно и 10\n",
        "        model_save_path='/content/bert.pt')"
      ],
      "metadata": {
        "colab": {
          "base_uri": "https://localhost:8080/"
        },
        "id": "TrFK33gT_Do0",
        "outputId": "7a2961fd-ab81-415a-91a8-b558dc586b3a"
      },
      "execution_count": null,
      "outputs": [
        {
          "output_type": "stream",
          "name": "stderr",
          "text": [
            "Some weights of the model checkpoint at cointegrated/rubert-tiny were not used when initializing BertForSequenceClassification: ['cls.predictions.transform.LayerNorm.weight', 'cls.predictions.transform.dense.weight', 'cls.seq_relationship.bias', 'cls.predictions.transform.LayerNorm.bias', 'cls.seq_relationship.weight', 'cls.predictions.decoder.bias', 'cls.predictions.transform.dense.bias', 'cls.predictions.decoder.weight', 'cls.predictions.bias']\n",
            "- This IS expected if you are initializing BertForSequenceClassification from the checkpoint of a model trained on another task or with another architecture (e.g. initializing a BertForSequenceClassification model from a BertForPreTraining model).\n",
            "- This IS NOT expected if you are initializing BertForSequenceClassification from the checkpoint of a model that you expect to be exactly identical (initializing a BertForSequenceClassification model from a BertForSequenceClassification model).\n",
            "Some weights of BertForSequenceClassification were not initialized from the model checkpoint at cointegrated/rubert-tiny and are newly initialized: ['classifier.bias', 'classifier.weight']\n",
            "You should probably TRAIN this model on a down-stream task to be able to use it for predictions and inference.\n"
          ]
        }
      ]
    },
    {
      "cell_type": "code",
      "source": [
        "classifier.device"
      ],
      "metadata": {
        "colab": {
          "base_uri": "https://localhost:8080/"
        },
        "id": "1ZMwSOUaH6Kx",
        "outputId": "e53fde8b-9c02-4885-b39f-26f0c191b7ac"
      },
      "execution_count": null,
      "outputs": [
        {
          "output_type": "execute_result",
          "data": {
            "text/plain": [
              "device(type='cuda', index=0)"
            ]
          },
          "metadata": {},
          "execution_count": 33
        }
      ]
    },
    {
      "cell_type": "code",
      "source": [
        "classifier.preparation(\n",
        "        X_train=X_train,\n",
        "        y_train=y_train,\n",
        "        X_valid=X_valid,\n",
        "        y_valid=y_valid,\n",
        "        batch_size=32 # лучше 16\n",
        "    ) # train.text.values, train.labels.values"
      ],
      "metadata": {
        "id": "f3AOi310_M68"
      },
      "execution_count": null,
      "outputs": []
    },
    {
      "cell_type": "code",
      "source": [
        "%%time\n",
        "\n",
        "classifier.train()\n",
        "\n",
        "#Epoch 1/2\n",
        "#Train loss 1.2627708217729128 accuracy 0.6139648941662365\n",
        "#Val loss 0.9252895122721605 accuracy 0.7439339184305628\n",
        "#----------\n",
        "#Epoch 2/2\n",
        "#Train loss 0.8376717758583517 accuracy 0.7710699535363965\n",
        "#Val loss 0.9077642973224964 accuracy 0.7732318017552917\n",
        "#----------\n",
        "\n",
        "\n",
        "#Epoch 1/4\n",
        "#Train loss 1.3542041437821053 accuracy 0.5759765961108243\n",
        "#Val loss 0.9952788275730039 accuracy 0.7123803377433581\n",
        "#----------\n",
        "#Epoch 2/4\n",
        "#Train loss 0.8627688049968835 accuracy 0.7634228187919464\n",
        "#Val loss 0.945814811862751 accuracy 0.7688501667204475\n",
        "#----------\n",
        "#Epoch 3/4\n",
        "#Train loss 0.7019202396355955 accuracy 0.8218034761658923\n",
        "#Val loss 0.9846865316208151 accuracy 0.7849844035710445\n",
        "#----------\n",
        "#Epoch 4/4\n",
        "#Train loss 0.602789018603445 accuracy 0.8523059714334883\n",
        "#Val loss 1.0038791963433615 accuracy 0.7901473593632354\n",
        "\n",
        "# BS=16\n",
        "#Train loss 0.7593215192627759 accuracy 0.7746945448287731\n",
        "#Val loss 0.8601838096886668 accuracy 0.7386253630203291\n",
        "#----------\n",
        "#CPU times: user 15min 52s, sys: 2.65 s, total: 15min 55s\n",
        "#Wall time: 15min 57s\n",
        "\n",
        "\n",
        "# №Epoch 1/4\n",
        "# Train loss 1.560910131877156 accuracy 0.526673550163483\n",
        "# Val loss 1.1343602184782322 accuracy 0.659352479294396\n",
        "# ----------\n",
        "# Epoch 2/4\n",
        "# Train loss 1.0023222442175386 accuracy 0.7038805713302358\n",
        "# Val loss 0.9500910761378885 accuracy 0.7095837366892546\n",
        "# ----------\n",
        "# Epoch 3/4\n",
        "# Train loss 0.8365279270691127 accuracy 0.7527103768714507\n",
        "# Val loss 0.8794595258009598 accuracy 0.734107776702162\n",
        "# ----------\n",
        "# Epoch 4/4\n",
        "# Train loss 0.7593215192627759 accuracy 0.7746945448287731\n",
        "# Val loss 0.8601838096886668 accuracy 0.7386253630203291\n",
        "# ----------\n",
        "# CPU times: user 15min 52s, sys: 2.65 s, total: 15min 55s\n",
        "# Wall time: 15min 57s\n",
        "\n",
        "\n",
        "# качество на большой моделе\n",
        "# Epoch 1/4\n",
        "# Train loss 0.6860053262109131 accuracy 0.7963104768534632\n",
        "# Val loss 0.448870500805974 accuracy 0.869"
      ],
      "metadata": {
        "colab": {
          "base_uri": "https://localhost:8080/"
        },
        "id": "n4U-UIvJAvJu",
        "outputId": "d4ce0df1-8717-41ee-d860-1f321e8c6a4c"
      },
      "execution_count": null,
      "outputs": [
        {
          "output_type": "stream",
          "name": "stdout",
          "text": [
            "Epoch 1/1\n",
            "Train loss 1.6548265534015434 accuracy 0.5067525234946049\n",
            "Val loss 1.2997211571128224 accuracy 0.6252\n",
            "----------\n",
            "CPU times: user 4min 54s, sys: 1.01 s, total: 4min 55s\n",
            "Wall time: 5min 16s\n"
          ]
        }
      ]
    },
    {
      "cell_type": "code",
      "source": [
        "# для очистки памяти\n",
        "torch.cuda.empty_cache()"
      ],
      "metadata": {
        "id": "IBXf4tgcvLNL"
      },
      "execution_count": null,
      "outputs": []
    },
    {
      "cell_type": "code",
      "source": [
        "# на валидации\n",
        "predictions_p = [classifier.predict_proba(t) for t in X_valid]\n",
        "predictions_p = np.concatenate(predictions_p)\n",
        "np.mean(np.argmax(predictions_p, axis=1) == y_valid) # точность, но по текстам"
      ],
      "metadata": {
        "id": "Amu_e7RUA06_",
        "colab": {
          "base_uri": "https://localhost:8080/"
        },
        "outputId": "5bfb99f9-6c5c-4ed5-cf8e-3a3c0c714aa9"
      },
      "execution_count": null,
      "outputs": [
        {
          "output_type": "execute_result",
          "data": {
            "text/plain": [
              "0.6252"
            ]
          },
          "metadata": {},
          "execution_count": 38
        }
      ]
    },
    {
      "cell_type": "code",
      "source": [
        "# softmax\n",
        "P = np.exp(predictions_p) / np.exp(predictions_p).sum(axis=1)[:, np.newaxis]\n",
        "\n",
        "# кладём в датафрейм\n",
        "tmp = pd.DataFrame(P)\n",
        "#tmp.head()\n",
        "tmp.shape"
      ],
      "metadata": {
        "colab": {
          "base_uri": "https://localhost:8080/"
        },
        "id": "7Lp5_c30_CXP",
        "outputId": "01c46475-5c88-43fd-a2bd-26361b289367"
      },
      "execution_count": null,
      "outputs": [
        {
          "output_type": "execute_result",
          "data": {
            "text/plain": [
              "(10000, 13)"
            ]
          },
          "metadata": {},
          "execution_count": 39
        }
      ]
    },
    {
      "cell_type": "code",
      "source": [
        "# это просто имитация oid: 0...0 1...1 2...2... (они идут десятками)\n",
        "tmp['oid'] = sum([[i]*10 for i in range(1000)], [])"
      ],
      "metadata": {
        "id": "GfMML34zFBu6"
      },
      "execution_count": null,
      "outputs": []
    },
    {
      "cell_type": "code",
      "source": [
        "# правильные ответы\n",
        "tmp['y'] = y_valid\n",
        "\n",
        "tmp2 = tmp.groupby('oid')[0, 1, 2, 3, 4, 5, 6, 7, 8, 9, 10, 11, 12, 'y'].mean()\n",
        "\n",
        "a = np.argmax(tmp2[[0, 1, 2, 3, 4, 5, 6, 7, 8, 9, 10, 11, 12]].values, axis=1)\n",
        "y = tmp2['y'].astype('int')\n",
        "\n",
        "# точность, но уже по группам (если поучить, то будет - 0.978)\n",
        "np.mean(a == y)"
      ],
      "metadata": {
        "id": "UJ1U0zvENDrt",
        "colab": {
          "base_uri": "https://localhost:8080/"
        },
        "outputId": "2488ee46-435b-4053-e383-f19f4b6d6241"
      },
      "execution_count": null,
      "outputs": [
        {
          "output_type": "stream",
          "name": "stderr",
          "text": [
            "<ipython-input-41-106c25988c46>:4: FutureWarning: Indexing with multiple keys (implicitly converted to a tuple of keys) will be deprecated, use a list instead.\n",
            "  tmp2 = tmp.groupby('oid')[0, 1, 2, 3, 4, 5, 6, 7, 8, 9, 10, 11, 12, 'y'].mean()\n"
          ]
        },
        {
          "output_type": "execute_result",
          "data": {
            "text/plain": [
              "0.851"
            ]
          },
          "metadata": {},
          "execution_count": 41
        }
      ]
    },
    {
      "cell_type": "code",
      "source": [
        "# ЭТО КАЧЕСТВО ОРГАНИЗАТОРОВ\n",
        "q = np.max(tmp2[[0, 1, 2, 3, 4, 5, 6, 7, 8, 9, 10, 11, 12]].values, axis=1) > 0.1\n",
        "sum(0.0 + ((a == y) & q) - ((a != y) & q)) / len(a)"
      ],
      "metadata": {
        "id": "6MCZLCYmNIra",
        "colab": {
          "base_uri": "https://localhost:8080/"
        },
        "outputId": "ed55ca2d-4d13-40c1-96fd-88c85c4171d4"
      },
      "execution_count": null,
      "outputs": [
        {
          "output_type": "execute_result",
          "data": {
            "text/plain": [
              "0.702"
            ]
          },
          "metadata": {},
          "execution_count": 45
        }
      ]
    },
    {
      "cell_type": "code",
      "source": [
        "e = []\n",
        "ls = np.linspace(0.0, .3, 21)\n",
        "for th in ls:\n",
        "  q = np.max(tmp2[[0, 1, 2, 3, 4, 5, 6, 7, 8, 9, 10, 11, 12]].values, axis=1) >  th\n",
        "  e.append(sum(0.0 + ((a == y) & q) - ((a != y) & q)) / len(a))\n",
        "\n",
        "from matplotlib import pyplot as plt\n",
        "plt.plot(ls, e)\n",
        "plt.ylabel('качество')\n",
        "plt.xlabel('порог')"
      ],
      "metadata": {
        "colab": {
          "base_uri": "https://localhost:8080/",
          "height": 296
        },
        "id": "QbZifO1YOxKL",
        "outputId": "e9e913ea-2ce9-4836-b1ed-187ec3ccf501"
      },
      "execution_count": null,
      "outputs": [
        {
          "output_type": "execute_result",
          "data": {
            "text/plain": [
              "Text(0.5, 0, 'порог')"
            ]
          },
          "metadata": {},
          "execution_count": 47
        },
        {
          "output_type": "display_data",
          "data": {
            "text/plain": [
              "<Figure size 432x288 with 1 Axes>"
            ],
            "image/png": "[encoded data removed]"
          },
          "metadata": {
            "needs_background": "light"
          }
        }
      ]
    },
    {
      "cell_type": "code",
      "source": [
        "M = tmp2[[0, 1, 2, 3, 4, 5, 6, 7, 8, 9, 10, 11, 12]].values\n",
        "a = np.argmax(M, axis=1)\n",
        "\n",
        "plt.figure(figsize=(14, 4))\n",
        "plt.scatter(np.max(M, axis=1), (a == y) + 0.0 + 0.1*np.random.randn(len(a)), 10, c='b')\n",
        "plt.xlabel('вероятность за класс')\n",
        "plt.yticks([0,1], ['неверно', 'верно'])"
      ],
      "metadata": {
        "id": "Mox7IumhX1jU",
        "colab": {
          "base_uri": "https://localhost:8080/",
          "height": 331
        },
        "outputId": "38fe4596-ff82-4230-ad8c-d546b4c0da0e"
      },
      "execution_count": null,
      "outputs": [
        {
          "output_type": "execute_result",
          "data": {
            "text/plain": [
              "([<matplotlib.axis.YTick at 0x7f8d45b3ca00>,\n",
              "  <matplotlib.axis.YTick at 0x7f8d45b2dbe0>],\n",
              " [Text(0, 0, 'неверно'), Text(0, 0, 'верно')])"
            ]
          },
          "metadata": {},
          "execution_count": 49
        },
        {
          "output_type": "display_data",
          "data": {
            "text/plain": [
              "<Figure size 1008x288 with 1 Axes>"
            ],
            "image/png": "[encoded data removed]"
          },
          "metadata": {
            "needs_background": "light"
          }
        }
      ]
    },
    {
      "cell_type": "markdown",
      "source": [
        "Тут ещё можно сделать эксперименты, как усреднять вероятности текстов одного oid: mean(norm), prod(norm), norm(mean) и т.п.\n",
        "\n",
        "Но лучше - mean\n",
        "\n",
        "И тут надо смотреть на ошибки алгоритма!"
      ],
      "metadata": {
        "id": "f7uDpxcwBSIk"
      }
    },
    {
      "cell_type": "code",
      "source": [],
      "metadata": {
        "id": "AVihScQrZRii"
      },
      "execution_count": null,
      "outputs": []
    },
    {
      "cell_type": "markdown",
      "source": [
        "# Делаем обучение на всём датасете"
      ],
      "metadata": {
        "id": "hEpfqG_NjoFP"
      }
    },
    {
      "cell_type": "code",
      "source": [
        "classifier = BertClassifier(\n",
        "        model_path='cointegrated/rubert-tiny',\n",
        "        tokenizer_path='cointegrated/rubert-tiny',\n",
        "        n_classes=13,\n",
        "        epochs=10,\n",
        "        model_save_path='/content/bert.pt')"
      ],
      "metadata": {
        "colab": {
          "base_uri": "https://localhost:8080/"
        },
        "id": "kTgLZOxaarGG",
        "outputId": "1c0b4c2e-b2df-49fa-d98d-e87f7fee598b"
      },
      "execution_count": null,
      "outputs": [
        {
          "output_type": "stream",
          "name": "stderr",
          "text": [
            "Some weights of the model checkpoint at cointegrated/rubert-tiny were not used when initializing BertForSequenceClassification: ['cls.predictions.bias', 'cls.predictions.transform.LayerNorm.weight', 'cls.predictions.decoder.bias', 'cls.seq_relationship.weight', 'cls.seq_relationship.bias', 'cls.predictions.transform.dense.bias', 'cls.predictions.decoder.weight', 'cls.predictions.transform.LayerNorm.bias', 'cls.predictions.transform.dense.weight']\n",
            "- This IS expected if you are initializing BertForSequenceClassification from the checkpoint of a model trained on another task or with another architecture (e.g. initializing a BertForSequenceClassification model from a BertForPreTraining model).\n",
            "- This IS NOT expected if you are initializing BertForSequenceClassification from the checkpoint of a model that you expect to be exactly identical (initializing a BertForSequenceClassification model from a BertForSequenceClassification model).\n",
            "Some weights of BertForSequenceClassification were not initialized from the model checkpoint at cointegrated/rubert-tiny and are newly initialized: ['classifier.weight', 'classifier.bias']\n",
            "You should probably TRAIN this model on a down-stream task to be able to use it for predictions and inference.\n"
          ]
        }
      ]
    },
    {
      "cell_type": "code",
      "source": [
        "classifier.preparation(\n",
        "        X_train=train.text.values,\n",
        "        y_train=train.labels.values,\n",
        "        X_valid=train.text.values[:16],\n",
        "        y_valid=train.labels.values[:16],\n",
        "        batch_size=16\n",
        "    ) # train.text.values, train.labels.values"
      ],
      "metadata": {
        "id": "l3RynYTNePUM",
        "colab": {
          "base_uri": "https://localhost:8080/"
        },
        "outputId": "d3306c5b-4603-4272-d009-c05c3de3b8b8"
      },
      "execution_count": null,
      "outputs": [
        {
          "output_type": "stream",
          "name": "stderr",
          "text": [
            "/usr/local/lib/python3.8/dist-packages/transformers/optimization.py:306: FutureWarning: This implementation of AdamW is deprecated and will be removed in a future version. Use the PyTorch implementation torch.optim.AdamW instead, or set `no_deprecation_warning=True` to disable this warning\n",
            "  warnings.warn(\n"
          ]
        }
      ]
    },
    {
      "cell_type": "code",
      "source": [
        "%%time\n",
        "\n",
        "classifier.train()\n",
        "\n",
        "\n",
        "#Epoch 5/5\n",
        "#Train loss 0.5504407701086373 accuracy 0.8373773877129582\n",
        "#Val loss 0.4624370845015516 accuracy 0.8649782222939184\n",
        "#----------\n",
        "#CPU times: user 30min 10s, sys: 4.97 s, total: 30min 15s\n",
        "#Wall time: 30min 28s\n",
        "\n",
        "#Epoch 5/5\n",
        "#Train loss 0.5465716854457664 accuracy 0.8358802271553949\n",
        "#Val loss 0.45308029646841214 accuracy 0.864816905952573\n",
        "#----------\n",
        "#CPU times: user 30min 41s, sys: 6.7 s, total: 30min 48s\n",
        "#Wall time: 31min"
      ],
      "metadata": {
        "colab": {
          "base_uri": "https://localhost:8080/"
        },
        "id": "CcUQYJnoeXji",
        "outputId": "2289374a-5342-443a-b137-64641d0bfffd"
      },
      "execution_count": null,
      "outputs": [
        {
          "output_type": "stream",
          "name": "stdout",
          "text": [
            "Epoch 1/10\n",
            "Train loss 1.3555976924548752 accuracy 0.5879194630872483\n",
            "Val loss 0.6656747460365295 accuracy 0.8125\n",
            "----------\n",
            "Epoch 2/10\n",
            "Train loss 0.8098507011901437 accuracy 0.759137842023748\n",
            "Val loss 0.5020994544029236 accuracy 0.875\n",
            "----------\n",
            "Epoch 3/10\n",
            "Train loss 0.6387307417911995 accuracy 0.8072534847702633\n",
            "Val loss 0.5709105730056763 accuracy 0.875\n",
            "----------\n",
            "Epoch 4/10\n",
            "Train loss 0.5332978347971618 accuracy 0.8403200826019618\n",
            "Val loss 0.5031685829162598 accuracy 0.875\n",
            "----------\n",
            "Epoch 5/10\n",
            "Train loss 0.4626872512241972 accuracy 0.8617707795560144\n",
            "Val loss 0.5350421667098999 accuracy 0.875\n",
            "----------\n",
            "Epoch 6/10\n",
            "Train loss 0.4089182420513761 accuracy 0.8792720702116675\n",
            "Val loss 0.5102961659431458 accuracy 0.875\n",
            "----------\n",
            "Epoch 7/10\n",
            "Train loss 0.36910413785258495 accuracy 0.8916107382550336\n",
            "Val loss 0.4925006330013275 accuracy 0.875\n",
            "----------\n",
            "Epoch 8/10\n",
            "Train loss 0.34095316444324447 accuracy 0.8992514197212184\n",
            "Val loss 0.5115657448768616 accuracy 0.875\n",
            "----------\n",
            "Epoch 9/10\n",
            "Train loss 0.31932269754026676 accuracy 0.9061435209086216\n",
            "Val loss 0.48065462708473206 accuracy 0.875\n",
            "----------\n",
            "Epoch 10/10\n",
            "Train loss 0.30858579495057314 accuracy 0.9083892617449665\n",
            "Val loss 0.4786701202392578 accuracy 0.875\n",
            "----------\n",
            "CPU times: user 56min 15s, sys: 10.1 s, total: 56min 25s\n",
            "Wall time: 56min 40s\n"
          ]
        }
      ]
    },
    {
      "cell_type": "code",
      "source": [
        "test = pd.read_csv('/content/drive/My Drive/VKcup2022/test.csv')\n",
        "test.head()"
      ],
      "metadata": {
        "colab": {
          "base_uri": "https://localhost:8080/",
          "height": 206
        },
        "id": "SDyVqwO7CdFl",
        "outputId": "3828ac9b-cc61-4e82-ef7d-0616afd6a703"
      },
      "execution_count": null,
      "outputs": [
        {
          "output_type": "execute_result",
          "data": {
            "text/plain": [
              "         oid                                               text\n",
              "0  749208109  СПОЧНО СООБЩЕСТВО ПРОДАЕТСЯ ЗА 1300Р ЗА ПОКУПК...\n",
              "1  452466036  Естественное восстановление после тяжелой трен...\n",
              "2  161038103  Тема нарядов продолжается Одна из британских ж...\n",
              "3  663621910  Привет Избранный. Ты спрашиваешь себя ЧТО здес...\n",
              "4  566255305  КОРОЛЬ ПЯТИСОТНИКОВ В ДЕЛЕ Андрей Рублев успеш..."
            ],
            "text/html": [
              "\n",
              "  <div id=\"df-98b0d34e-d66d-4b6d-97fc-03e3145f844c\">\n",
              "    <div class=\"colab-df-container\">\n",
              "      <div>\n",
              "<style scoped>\n",
              "    .dataframe tbody tr th:only-of-type {\n",
              "        vertical-align: middle;\n",
              "    }\n",
              "\n",
              "    .dataframe tbody tr th {\n",
              "        vertical-align: top;\n",
              "    }\n",
              "\n",
              "    .dataframe thead th {\n",
              "        text-align: right;\n",
              "    }\n",
              "</style>\n",
              "<table border=\"1\" class=\"dataframe\">\n",
              "  <thead>\n",
              "    <tr style=\"text-align: right;\">\n",
              "      <th></th>\n",
              "      <th>oid</th>\n",
              "      <th>text</th>\n",
              "    </tr>\n",
              "  </thead>\n",
              "  <tbody>\n",
              "    <tr>\n",
              "      <th>0</th>\n",
              "      <td>749208109</td>\n",
              "      <td>СПОЧНО СООБЩЕСТВО ПРОДАЕТСЯ ЗА 1300Р ЗА ПОКУПК...</td>\n",
              "    </tr>\n",
              "    <tr>\n",
              "      <th>1</th>\n",
              "      <td>452466036</td>\n",
              "      <td>Естественное восстановление после тяжелой трен...</td>\n",
              "    </tr>\n",
              "    <tr>\n",
              "      <th>2</th>\n",
              "      <td>161038103</td>\n",
              "      <td>Тема нарядов продолжается Одна из британских ж...</td>\n",
              "    </tr>\n",
              "    <tr>\n",
              "      <th>3</th>\n",
              "      <td>663621910</td>\n",
              "      <td>Привет Избранный. Ты спрашиваешь себя ЧТО здес...</td>\n",
              "    </tr>\n",
              "    <tr>\n",
              "      <th>4</th>\n",
              "      <td>566255305</td>\n",
              "      <td>КОРОЛЬ ПЯТИСОТНИКОВ В ДЕЛЕ Андрей Рублев успеш...</td>\n",
              "    </tr>\n",
              "  </tbody>\n",
              "</table>\n",
              "</div>\n",
              "      <button class=\"colab-df-convert\" onclick=\"convertToInteractive('df-98b0d34e-d66d-4b6d-97fc-03e3145f844c')\"\n",
              "              title=\"Convert this dataframe to an interactive table.\"\n",
              "              style=\"display:none;\">\n",
              "        \n",
              "  <svg xmlns=\"http://www.w3.org/2000/svg\" height=\"24px\"viewBox=\"0 0 24 24\"\n",
              "       width=\"24px\">\n",
              "    <path d=\"M0 0h24v24H0V0z\" fill=\"none\"/>\n",
              "    <path d=\"M18.56 5.44l.94 2.06.94-2.06 2.06-.94-2.06-.94-.94-2.06-.94 2.06-2.06.94zm-11 1L8.5 8.5l.94-2.06 2.06-.94-2.06-.94L8.5 2.5l-.94 2.06-2.06.94zm10 10l.94 2.06.94-2.06 2.06-.94-2.06-.94-.94-2.06-.94 2.06-2.06.94z\"/><path d=\"M17.41 7.96l-1.37-1.37c-.4-.4-.92-.59-1.43-.59-.52 0-1.04.2-1.43.59L10.3 9.45l-7.72 7.72c-.78.78-.78 2.05 0 2.83L4 21.41c.39.39.9.59 1.41.59.51 0 1.02-.2 1.41-.59l7.78-7.78 2.81-2.81c.8-.78.8-2.07 0-2.86zM5.41 20L4 18.59l7.72-7.72 1.47 1.35L5.41 20z\"/>\n",
              "  </svg>\n",
              "      </button>\n",
              "      \n",
              "  <style>\n",
              "    .colab-df-container {\n",
              "      display:flex;\n",
              "      flex-wrap:wrap;\n",
              "      gap: 12px;\n",
              "    }\n",
              "\n",
              "    .colab-df-convert {\n",
              "      background-color: #E8F0FE;\n",
              "      border: none;\n",
              "      border-radius: 50%;\n",
              "      cursor: pointer;\n",
              "      display: none;\n",
              "      fill: #1967D2;\n",
              "      height: 32px;\n",
              "      padding: 0 0 0 0;\n",
              "      width: 32px;\n",
              "    }\n",
              "\n",
              "    .colab-df-convert:hover {\n",
              "      background-color: #E2EBFA;\n",
              "      box-shadow: 0px 1px 2px rgba(60, 64, 67, 0.3), 0px 1px 3px 1px rgba(60, 64, 67, 0.15);\n",
              "      fill: #174EA6;\n",
              "    }\n",
              "\n",
              "    [theme=dark] .colab-df-convert {\n",
              "      background-color: #3B4455;\n",
              "      fill: #D2E3FC;\n",
              "    }\n",
              "\n",
              "    [theme=dark] .colab-df-convert:hover {\n",
              "      background-color: #434B5C;\n",
              "      box-shadow: 0px 1px 3px 1px rgba(0, 0, 0, 0.15);\n",
              "      filter: drop-shadow(0px 1px 2px rgba(0, 0, 0, 0.3));\n",
              "      fill: #FFFFFF;\n",
              "    }\n",
              "  </style>\n",
              "\n",
              "      <script>\n",
              "        const buttonEl =\n",
              "          document.querySelector('#df-98b0d34e-d66d-4b6d-97fc-03e3145f844c button.colab-df-convert');\n",
              "        buttonEl.style.display =\n",
              "          google.colab.kernel.accessAllowed ? 'block' : 'none';\n",
              "\n",
              "        async function convertToInteractive(key) {\n",
              "          const element = document.querySelector('#df-98b0d34e-d66d-4b6d-97fc-03e3145f844c');\n",
              "          const dataTable =\n",
              "            await google.colab.kernel.invokeFunction('convertToInteractive',\n",
              "                                                     [key], {});\n",
              "          if (!dataTable) return;\n",
              "\n",
              "          const docLinkHtml = 'Like what you see? Visit the ' +\n",
              "            '<a target=\"_blank\" href=https://colab.research.google.com/notebooks/data_table.ipynb>data table notebook</a>'\n",
              "            + ' to learn more about interactive tables.';\n",
              "          element.innerHTML = '';\n",
              "          dataTable['output_type'] = 'display_data';\n",
              "          await google.colab.output.renderOutput(dataTable, element);\n",
              "          const docLink = document.createElement('div');\n",
              "          docLink.innerHTML = docLinkHtml;\n",
              "          element.appendChild(docLink);\n",
              "        }\n",
              "      </script>\n",
              "    </div>\n",
              "  </div>\n",
              "  "
            ]
          },
          "metadata": {},
          "execution_count": 19
        }
      ]
    },
    {
      "cell_type": "code",
      "source": [
        "# ответы на тесте\n",
        "predictions_p = [classifier.predict_proba(t) for t in test.text.values]\n",
        "predictions_p = np.concatenate(predictions_p)\n",
        "\n",
        "# softmax\n",
        "P = np.exp(predictions_p) / np.exp(predictions_p).sum(axis=1)[:, np.newaxis]\n",
        "\n",
        "# ответы - НЕ НАДО, см. дальше\n",
        "# a = np.argmax(P, axis=1)\n",
        "\n",
        "# q = np.max(P, axis=1) > 0.57"
      ],
      "metadata": {
        "id": "anUk7ObxenoF"
      },
      "execution_count": null,
      "outputs": []
    },
    {
      "cell_type": "code",
      "source": [
        "# датафрейм с ответами\n",
        "tmp = pd.DataFrame(P)\n",
        "tmp['oid'] = test.oid.values\n",
        "tmp.head()"
      ],
      "metadata": {
        "colab": {
          "base_uri": "https://localhost:8080/",
          "height": 206
        },
        "id": "sTDEa_samNCr",
        "outputId": "fff92749-17ef-498a-a880-ece60190d313"
      },
      "execution_count": null,
      "outputs": [
        {
          "output_type": "execute_result",
          "data": {
            "text/plain": [
              "          0         1         2         3         4         5         6  \\\n",
              "0  0.015539  0.137882  0.140147  0.001415  0.171159  0.162377  0.152165   \n",
              "1  0.107065  0.008851  0.017514  0.005140  0.014875  0.316986  0.004792   \n",
              "2  0.004109  0.016045  0.007592  0.006323  0.006950  0.076866  0.004125   \n",
              "3  0.008106  0.007162  0.007690  0.084492  0.243526  0.465978  0.009851   \n",
              "4  0.000265  0.000464  0.002515  0.001099  0.000774  0.000226  0.000771   \n",
              "\n",
              "          7         8         9        10        11        12        oid  \n",
              "0  0.034634  0.114597  0.016915  0.014718  0.022401  0.016051  749208109  \n",
              "1  0.003956  0.476649  0.003846  0.003557  0.017439  0.019330  452466036  \n",
              "2  0.003793  0.277978  0.008530  0.248962  0.004254  0.334474  161038103  \n",
              "3  0.005214  0.010962  0.021296  0.022575  0.108133  0.005014  663621910  \n",
              "4  0.003915  0.000480  0.000318  0.986531  0.001613  0.001027  566255305  "
            ],
            "text/html": [
              "\n",
              "  <div id=\"df-581f62de-011b-4e3d-9581-b915b22e383e\">\n",
              "    <div class=\"colab-df-container\">\n",
              "      <div>\n",
              "<style scoped>\n",
              "    .dataframe tbody tr th:only-of-type {\n",
              "        vertical-align: middle;\n",
              "    }\n",
              "\n",
              "    .dataframe tbody tr th {\n",
              "        vertical-align: top;\n",
              "    }\n",
              "\n",
              "    .dataframe thead th {\n",
              "        text-align: right;\n",
              "    }\n",
              "</style>\n",
              "<table border=\"1\" class=\"dataframe\">\n",
              "  <thead>\n",
              "    <tr style=\"text-align: right;\">\n",
              "      <th></th>\n",
              "      <th>0</th>\n",
              "      <th>1</th>\n",
              "      <th>2</th>\n",
              "      <th>3</th>\n",
              "      <th>4</th>\n",
              "      <th>5</th>\n",
              "      <th>6</th>\n",
              "      <th>7</th>\n",
              "      <th>8</th>\n",
              "      <th>9</th>\n",
              "      <th>10</th>\n",
              "      <th>11</th>\n",
              "      <th>12</th>\n",
              "      <th>oid</th>\n",
              "    </tr>\n",
              "  </thead>\n",
              "  <tbody>\n",
              "    <tr>\n",
              "      <th>0</th>\n",
              "      <td>0.015539</td>\n",
              "      <td>0.137882</td>\n",
              "      <td>0.140147</td>\n",
              "      <td>0.001415</td>\n",
              "      <td>0.171159</td>\n",
              "      <td>0.162377</td>\n",
              "      <td>0.152165</td>\n",
              "      <td>0.034634</td>\n",
              "      <td>0.114597</td>\n",
              "      <td>0.016915</td>\n",
              "      <td>0.014718</td>\n",
              "      <td>0.022401</td>\n",
              "      <td>0.016051</td>\n",
              "      <td>749208109</td>\n",
              "    </tr>\n",
              "    <tr>\n",
              "      <th>1</th>\n",
              "      <td>0.107065</td>\n",
              "      <td>0.008851</td>\n",
              "      <td>0.017514</td>\n",
              "      <td>0.005140</td>\n",
              "      <td>0.014875</td>\n",
              "      <td>0.316986</td>\n",
              "      <td>0.004792</td>\n",
              "      <td>0.003956</td>\n",
              "      <td>0.476649</td>\n",
              "      <td>0.003846</td>\n",
              "      <td>0.003557</td>\n",
              "      <td>0.017439</td>\n",
              "      <td>0.019330</td>\n",
              "      <td>452466036</td>\n",
              "    </tr>\n",
              "    <tr>\n",
              "      <th>2</th>\n",
              "      <td>0.004109</td>\n",
              "      <td>0.016045</td>\n",
              "      <td>0.007592</td>\n",
              "      <td>0.006323</td>\n",
              "      <td>0.006950</td>\n",
              "      <td>0.076866</td>\n",
              "      <td>0.004125</td>\n",
              "      <td>0.003793</td>\n",
              "      <td>0.277978</td>\n",
              "      <td>0.008530</td>\n",
              "      <td>0.248962</td>\n",
              "      <td>0.004254</td>\n",
              "      <td>0.334474</td>\n",
              "      <td>161038103</td>\n",
              "    </tr>\n",
              "    <tr>\n",
              "      <th>3</th>\n",
              "      <td>0.008106</td>\n",
              "      <td>0.007162</td>\n",
              "      <td>0.007690</td>\n",
              "      <td>0.084492</td>\n",
              "      <td>0.243526</td>\n",
              "      <td>0.465978</td>\n",
              "      <td>0.009851</td>\n",
              "      <td>0.005214</td>\n",
              "      <td>0.010962</td>\n",
              "      <td>0.021296</td>\n",
              "      <td>0.022575</td>\n",
              "      <td>0.108133</td>\n",
              "      <td>0.005014</td>\n",
              "      <td>663621910</td>\n",
              "    </tr>\n",
              "    <tr>\n",
              "      <th>4</th>\n",
              "      <td>0.000265</td>\n",
              "      <td>0.000464</td>\n",
              "      <td>0.002515</td>\n",
              "      <td>0.001099</td>\n",
              "      <td>0.000774</td>\n",
              "      <td>0.000226</td>\n",
              "      <td>0.000771</td>\n",
              "      <td>0.003915</td>\n",
              "      <td>0.000480</td>\n",
              "      <td>0.000318</td>\n",
              "      <td>0.986531</td>\n",
              "      <td>0.001613</td>\n",
              "      <td>0.001027</td>\n",
              "      <td>566255305</td>\n",
              "    </tr>\n",
              "  </tbody>\n",
              "</table>\n",
              "</div>\n",
              "      <button class=\"colab-df-convert\" onclick=\"convertToInteractive('df-581f62de-011b-4e3d-9581-b915b22e383e')\"\n",
              "              title=\"Convert this dataframe to an interactive table.\"\n",
              "              style=\"display:none;\">\n",
              "        \n",
              "  <svg xmlns=\"http://www.w3.org/2000/svg\" height=\"24px\"viewBox=\"0 0 24 24\"\n",
              "       width=\"24px\">\n",
              "    <path d=\"M0 0h24v24H0V0z\" fill=\"none\"/>\n",
              "    <path d=\"M18.56 5.44l.94 2.06.94-2.06 2.06-.94-2.06-.94-.94-2.06-.94 2.06-2.06.94zm-11 1L8.5 8.5l.94-2.06 2.06-.94-2.06-.94L8.5 2.5l-.94 2.06-2.06.94zm10 10l.94 2.06.94-2.06 2.06-.94-2.06-.94-.94-2.06-.94 2.06-2.06.94z\"/><path d=\"M17.41 7.96l-1.37-1.37c-.4-.4-.92-.59-1.43-.59-.52 0-1.04.2-1.43.59L10.3 9.45l-7.72 7.72c-.78.78-.78 2.05 0 2.83L4 21.41c.39.39.9.59 1.41.59.51 0 1.02-.2 1.41-.59l7.78-7.78 2.81-2.81c.8-.78.8-2.07 0-2.86zM5.41 20L4 18.59l7.72-7.72 1.47 1.35L5.41 20z\"/>\n",
              "  </svg>\n",
              "      </button>\n",
              "      \n",
              "  <style>\n",
              "    .colab-df-container {\n",
              "      display:flex;\n",
              "      flex-wrap:wrap;\n",
              "      gap: 12px;\n",
              "    }\n",
              "\n",
              "    .colab-df-convert {\n",
              "      background-color: #E8F0FE;\n",
              "      border: none;\n",
              "      border-radius: 50%;\n",
              "      cursor: pointer;\n",
              "      display: none;\n",
              "      fill: #1967D2;\n",
              "      height: 32px;\n",
              "      padding: 0 0 0 0;\n",
              "      width: 32px;\n",
              "    }\n",
              "\n",
              "    .colab-df-convert:hover {\n",
              "      background-color: #E2EBFA;\n",
              "      box-shadow: 0px 1px 2px rgba(60, 64, 67, 0.3), 0px 1px 3px 1px rgba(60, 64, 67, 0.15);\n",
              "      fill: #174EA6;\n",
              "    }\n",
              "\n",
              "    [theme=dark] .colab-df-convert {\n",
              "      background-color: #3B4455;\n",
              "      fill: #D2E3FC;\n",
              "    }\n",
              "\n",
              "    [theme=dark] .colab-df-convert:hover {\n",
              "      background-color: #434B5C;\n",
              "      box-shadow: 0px 1px 3px 1px rgba(0, 0, 0, 0.15);\n",
              "      filter: drop-shadow(0px 1px 2px rgba(0, 0, 0, 0.3));\n",
              "      fill: #FFFFFF;\n",
              "    }\n",
              "  </style>\n",
              "\n",
              "      <script>\n",
              "        const buttonEl =\n",
              "          document.querySelector('#df-581f62de-011b-4e3d-9581-b915b22e383e button.colab-df-convert');\n",
              "        buttonEl.style.display =\n",
              "          google.colab.kernel.accessAllowed ? 'block' : 'none';\n",
              "\n",
              "        async function convertToInteractive(key) {\n",
              "          const element = document.querySelector('#df-581f62de-011b-4e3d-9581-b915b22e383e');\n",
              "          const dataTable =\n",
              "            await google.colab.kernel.invokeFunction('convertToInteractive',\n",
              "                                                     [key], {});\n",
              "          if (!dataTable) return;\n",
              "\n",
              "          const docLinkHtml = 'Like what you see? Visit the ' +\n",
              "            '<a target=\"_blank\" href=https://colab.research.google.com/notebooks/data_table.ipynb>data table notebook</a>'\n",
              "            + ' to learn more about interactive tables.';\n",
              "          element.innerHTML = '';\n",
              "          dataTable['output_type'] = 'display_data';\n",
              "          await google.colab.output.renderOutput(dataTable, element);\n",
              "          const docLink = document.createElement('div');\n",
              "          docLink.innerHTML = docLinkHtml;\n",
              "          element.appendChild(docLink);\n",
              "        }\n",
              "      </script>\n",
              "    </div>\n",
              "  </div>\n",
              "  "
            ]
          },
          "metadata": {},
          "execution_count": 21
        }
      ]
    },
    {
      "cell_type": "code",
      "source": [
        "# получаем среднее вероятностей по всем текстам в группе (для каждого oid)\n",
        "tmp2 = tmp.groupby('oid')[0, 1, 2, 3, 4, 5, 6, 7, 8, 9, 10, 11, 12].mean()"
      ],
      "metadata": {
        "colab": {
          "base_uri": "https://localhost:8080/"
        },
        "id": "QifjGbp5nV9y",
        "outputId": "ba1a1072-9822-4d9c-c085-d7f2d2419106"
      },
      "execution_count": null,
      "outputs": [
        {
          "output_type": "stream",
          "name": "stderr",
          "text": [
            "<ipython-input-27-8f01ac118680>:1: FutureWarning: Indexing with multiple keys (implicitly converted to a tuple of keys) will be deprecated, use a list instead.\n",
            "  tmp2 = tmp.groupby('oid')[0, 1, 2, 3, 4, 5, 6, 7, 8, 9, 10, 11, 12].mean()\n"
          ]
        }
      ]
    },
    {
      "cell_type": "code",
      "source": [
        "tmp2.head()"
      ],
      "metadata": {
        "colab": {
          "base_uri": "https://localhost:8080/",
          "height": 238
        },
        "id": "L_bcQJipnqta",
        "outputId": "08b0dd8a-9605-4269-d47e-3d17e4c07922"
      },
      "execution_count": null,
      "outputs": [
        {
          "output_type": "execute_result",
          "data": {
            "text/plain": [
              "                0         1         2         3         4         5         6  \\\n",
              "oid                                                                             \n",
              "1622114  0.476017  0.014515  0.036526  0.049224  0.196903  0.057132  0.026904   \n",
              "1663817  0.009714  0.516631  0.028313  0.049216  0.048800  0.033054  0.042696   \n",
              "3174332  0.002995  0.007566  0.627390  0.003556  0.013542  0.003958  0.098107   \n",
              "3469228  0.040695  0.043929  0.086507  0.011273  0.109555  0.254681  0.030913   \n",
              "3905302  0.062515  0.003637  0.005665  0.592561  0.015584  0.022135  0.073394   \n",
              "\n",
              "                7         8         9        10        11        12  \n",
              "oid                                                                  \n",
              "1622114  0.008067  0.036455  0.023198  0.003296  0.059666  0.012098  \n",
              "1663817  0.028734  0.026084  0.062197  0.012655  0.039660  0.102246  \n",
              "3174332  0.102170  0.118330  0.002318  0.007089  0.002758  0.010220  \n",
              "3469228  0.012924  0.220486  0.047532  0.005738  0.014080  0.121687  \n",
              "3905302  0.035068  0.139191  0.011710  0.003616  0.012519  0.022405  "
            ],
            "text/html": [
              "\n",
              "  <div id=\"df-846d455c-7b71-4a06-b843-b7f82100c551\">\n",
              "    <div class=\"colab-df-container\">\n",
              "      <div>\n",
              "<style scoped>\n",
              "    .dataframe tbody tr th:only-of-type {\n",
              "        vertical-align: middle;\n",
              "    }\n",
              "\n",
              "    .dataframe tbody tr th {\n",
              "        vertical-align: top;\n",
              "    }\n",
              "\n",
              "    .dataframe thead th {\n",
              "        text-align: right;\n",
              "    }\n",
              "</style>\n",
              "<table border=\"1\" class=\"dataframe\">\n",
              "  <thead>\n",
              "    <tr style=\"text-align: right;\">\n",
              "      <th></th>\n",
              "      <th>0</th>\n",
              "      <th>1</th>\n",
              "      <th>2</th>\n",
              "      <th>3</th>\n",
              "      <th>4</th>\n",
              "      <th>5</th>\n",
              "      <th>6</th>\n",
              "      <th>7</th>\n",
              "      <th>8</th>\n",
              "      <th>9</th>\n",
              "      <th>10</th>\n",
              "      <th>11</th>\n",
              "      <th>12</th>\n",
              "    </tr>\n",
              "    <tr>\n",
              "      <th>oid</th>\n",
              "      <th></th>\n",
              "      <th></th>\n",
              "      <th></th>\n",
              "      <th></th>\n",
              "      <th></th>\n",
              "      <th></th>\n",
              "      <th></th>\n",
              "      <th></th>\n",
              "      <th></th>\n",
              "      <th></th>\n",
              "      <th></th>\n",
              "      <th></th>\n",
              "      <th></th>\n",
              "    </tr>\n",
              "  </thead>\n",
              "  <tbody>\n",
              "    <tr>\n",
              "      <th>1622114</th>\n",
              "      <td>0.476017</td>\n",
              "      <td>0.014515</td>\n",
              "      <td>0.036526</td>\n",
              "      <td>0.049224</td>\n",
              "      <td>0.196903</td>\n",
              "      <td>0.057132</td>\n",
              "      <td>0.026904</td>\n",
              "      <td>0.008067</td>\n",
              "      <td>0.036455</td>\n",
              "      <td>0.023198</td>\n",
              "      <td>0.003296</td>\n",
              "      <td>0.059666</td>\n",
              "      <td>0.012098</td>\n",
              "    </tr>\n",
              "    <tr>\n",
              "      <th>1663817</th>\n",
              "      <td>0.009714</td>\n",
              "      <td>0.516631</td>\n",
              "      <td>0.028313</td>\n",
              "      <td>0.049216</td>\n",
              "      <td>0.048800</td>\n",
              "      <td>0.033054</td>\n",
              "      <td>0.042696</td>\n",
              "      <td>0.028734</td>\n",
              "      <td>0.026084</td>\n",
              "      <td>0.062197</td>\n",
              "      <td>0.012655</td>\n",
              "      <td>0.039660</td>\n",
              "      <td>0.102246</td>\n",
              "    </tr>\n",
              "    <tr>\n",
              "      <th>3174332</th>\n",
              "      <td>0.002995</td>\n",
              "      <td>0.007566</td>\n",
              "      <td>0.627390</td>\n",
              "      <td>0.003556</td>\n",
              "      <td>0.013542</td>\n",
              "      <td>0.003958</td>\n",
              "      <td>0.098107</td>\n",
              "      <td>0.102170</td>\n",
              "      <td>0.118330</td>\n",
              "      <td>0.002318</td>\n",
              "      <td>0.007089</td>\n",
              "      <td>0.002758</td>\n",
              "      <td>0.010220</td>\n",
              "    </tr>\n",
              "    <tr>\n",
              "      <th>3469228</th>\n",
              "      <td>0.040695</td>\n",
              "      <td>0.043929</td>\n",
              "      <td>0.086507</td>\n",
              "      <td>0.011273</td>\n",
              "      <td>0.109555</td>\n",
              "      <td>0.254681</td>\n",
              "      <td>0.030913</td>\n",
              "      <td>0.012924</td>\n",
              "      <td>0.220486</td>\n",
              "      <td>0.047532</td>\n",
              "      <td>0.005738</td>\n",
              "      <td>0.014080</td>\n",
              "      <td>0.121687</td>\n",
              "    </tr>\n",
              "    <tr>\n",
              "      <th>3905302</th>\n",
              "      <td>0.062515</td>\n",
              "      <td>0.003637</td>\n",
              "      <td>0.005665</td>\n",
              "      <td>0.592561</td>\n",
              "      <td>0.015584</td>\n",
              "      <td>0.022135</td>\n",
              "      <td>0.073394</td>\n",
              "      <td>0.035068</td>\n",
              "      <td>0.139191</td>\n",
              "      <td>0.011710</td>\n",
              "      <td>0.003616</td>\n",
              "      <td>0.012519</td>\n",
              "      <td>0.022405</td>\n",
              "    </tr>\n",
              "  </tbody>\n",
              "</table>\n",
              "</div>\n",
              "      <button class=\"colab-df-convert\" onclick=\"convertToInteractive('df-846d455c-7b71-4a06-b843-b7f82100c551')\"\n",
              "              title=\"Convert this dataframe to an interactive table.\"\n",
              "              style=\"display:none;\">\n",
              "        \n",
              "  <svg xmlns=\"http://www.w3.org/2000/svg\" height=\"24px\"viewBox=\"0 0 24 24\"\n",
              "       width=\"24px\">\n",
              "    <path d=\"M0 0h24v24H0V0z\" fill=\"none\"/>\n",
              "    <path d=\"M18.56 5.44l.94 2.06.94-2.06 2.06-.94-2.06-.94-.94-2.06-.94 2.06-2.06.94zm-11 1L8.5 8.5l.94-2.06 2.06-.94-2.06-.94L8.5 2.5l-.94 2.06-2.06.94zm10 10l.94 2.06.94-2.06 2.06-.94-2.06-.94-.94-2.06-.94 2.06-2.06.94z\"/><path d=\"M17.41 7.96l-1.37-1.37c-.4-.4-.92-.59-1.43-.59-.52 0-1.04.2-1.43.59L10.3 9.45l-7.72 7.72c-.78.78-.78 2.05 0 2.83L4 21.41c.39.39.9.59 1.41.59.51 0 1.02-.2 1.41-.59l7.78-7.78 2.81-2.81c.8-.78.8-2.07 0-2.86zM5.41 20L4 18.59l7.72-7.72 1.47 1.35L5.41 20z\"/>\n",
              "  </svg>\n",
              "      </button>\n",
              "      \n",
              "  <style>\n",
              "    .colab-df-container {\n",
              "      display:flex;\n",
              "      flex-wrap:wrap;\n",
              "      gap: 12px;\n",
              "    }\n",
              "\n",
              "    .colab-df-convert {\n",
              "      background-color: #E8F0FE;\n",
              "      border: none;\n",
              "      border-radius: 50%;\n",
              "      cursor: pointer;\n",
              "      display: none;\n",
              "      fill: #1967D2;\n",
              "      height: 32px;\n",
              "      padding: 0 0 0 0;\n",
              "      width: 32px;\n",
              "    }\n",
              "\n",
              "    .colab-df-convert:hover {\n",
              "      background-color: #E2EBFA;\n",
              "      box-shadow: 0px 1px 2px rgba(60, 64, 67, 0.3), 0px 1px 3px 1px rgba(60, 64, 67, 0.15);\n",
              "      fill: #174EA6;\n",
              "    }\n",
              "\n",
              "    [theme=dark] .colab-df-convert {\n",
              "      background-color: #3B4455;\n",
              "      fill: #D2E3FC;\n",
              "    }\n",
              "\n",
              "    [theme=dark] .colab-df-convert:hover {\n",
              "      background-color: #434B5C;\n",
              "      box-shadow: 0px 1px 3px 1px rgba(0, 0, 0, 0.15);\n",
              "      filter: drop-shadow(0px 1px 2px rgba(0, 0, 0, 0.3));\n",
              "      fill: #FFFFFF;\n",
              "    }\n",
              "  </style>\n",
              "\n",
              "      <script>\n",
              "        const buttonEl =\n",
              "          document.querySelector('#df-846d455c-7b71-4a06-b843-b7f82100c551 button.colab-df-convert');\n",
              "        buttonEl.style.display =\n",
              "          google.colab.kernel.accessAllowed ? 'block' : 'none';\n",
              "\n",
              "        async function convertToInteractive(key) {\n",
              "          const element = document.querySelector('#df-846d455c-7b71-4a06-b843-b7f82100c551');\n",
              "          const dataTable =\n",
              "            await google.colab.kernel.invokeFunction('convertToInteractive',\n",
              "                                                     [key], {});\n",
              "          if (!dataTable) return;\n",
              "\n",
              "          const docLinkHtml = 'Like what you see? Visit the ' +\n",
              "            '<a target=\"_blank\" href=https://colab.research.google.com/notebooks/data_table.ipynb>data table notebook</a>'\n",
              "            + ' to learn more about interactive tables.';\n",
              "          element.innerHTML = '';\n",
              "          dataTable['output_type'] = 'display_data';\n",
              "          await google.colab.output.renderOutput(dataTable, element);\n",
              "          const docLink = document.createElement('div');\n",
              "          docLink.innerHTML = docLinkHtml;\n",
              "          element.appendChild(docLink);\n",
              "        }\n",
              "      </script>\n",
              "    </div>\n",
              "  </div>\n",
              "  "
            ]
          },
          "metadata": {},
          "execution_count": 28
        }
      ]
    },
    {
      "cell_type": "code",
      "source": [
        "a = np.argmax(tmp2.values, axis=1) # ответы-метки для каждого oid\n",
        "q = np.max(tmp2.values, axis=1) # вероятность для каждого oid\n",
        "# np.mean(q)\n",
        "\n",
        "tmp2['q'] = q\n",
        "tmp2['category'] = le.classes_[a]\n",
        "\n",
        "tmp3 = tmp2.reset_index()[['oid', 'q', 'category']]"
      ],
      "metadata": {
        "id": "zssFqT1snup8"
      },
      "execution_count": null,
      "outputs": []
    },
    {
      "cell_type": "code",
      "source": [
        "tmp3.head()"
      ],
      "metadata": {
        "colab": {
          "base_uri": "https://localhost:8080/",
          "height": 206
        },
        "id": "ABPAULR7oqBa",
        "outputId": "cc1df615-00d7-4094-dd01-ff57db893951"
      },
      "execution_count": null,
      "outputs": [
        {
          "output_type": "execute_result",
          "data": {
            "text/plain": [
              "       oid         q    category\n",
              "0  1622114  0.476017   athletics\n",
              "1  1663817  0.516631   autosport\n",
              "2  3174332  0.627390  basketball\n",
              "3  3469228  0.254681     extreme\n",
              "4  3905302  0.592561  boardgames"
            ],
            "text/html": [
              "\n",
              "  <div id=\"df-dd42ebe4-6510-459a-bbea-94693967c1db\">\n",
              "    <div class=\"colab-df-container\">\n",
              "      <div>\n",
              "<style scoped>\n",
              "    .dataframe tbody tr th:only-of-type {\n",
              "        vertical-align: middle;\n",
              "    }\n",
              "\n",
              "    .dataframe tbody tr th {\n",
              "        vertical-align: top;\n",
              "    }\n",
              "\n",
              "    .dataframe thead th {\n",
              "        text-align: right;\n",
              "    }\n",
              "</style>\n",
              "<table border=\"1\" class=\"dataframe\">\n",
              "  <thead>\n",
              "    <tr style=\"text-align: right;\">\n",
              "      <th></th>\n",
              "      <th>oid</th>\n",
              "      <th>q</th>\n",
              "      <th>category</th>\n",
              "    </tr>\n",
              "  </thead>\n",
              "  <tbody>\n",
              "    <tr>\n",
              "      <th>0</th>\n",
              "      <td>1622114</td>\n",
              "      <td>0.476017</td>\n",
              "      <td>athletics</td>\n",
              "    </tr>\n",
              "    <tr>\n",
              "      <th>1</th>\n",
              "      <td>1663817</td>\n",
              "      <td>0.516631</td>\n",
              "      <td>autosport</td>\n",
              "    </tr>\n",
              "    <tr>\n",
              "      <th>2</th>\n",
              "      <td>3174332</td>\n",
              "      <td>0.627390</td>\n",
              "      <td>basketball</td>\n",
              "    </tr>\n",
              "    <tr>\n",
              "      <th>3</th>\n",
              "      <td>3469228</td>\n",
              "      <td>0.254681</td>\n",
              "      <td>extreme</td>\n",
              "    </tr>\n",
              "    <tr>\n",
              "      <th>4</th>\n",
              "      <td>3905302</td>\n",
              "      <td>0.592561</td>\n",
              "      <td>boardgames</td>\n",
              "    </tr>\n",
              "  </tbody>\n",
              "</table>\n",
              "</div>\n",
              "      <button class=\"colab-df-convert\" onclick=\"convertToInteractive('df-dd42ebe4-6510-459a-bbea-94693967c1db')\"\n",
              "              title=\"Convert this dataframe to an interactive table.\"\n",
              "              style=\"display:none;\">\n",
              "        \n",
              "  <svg xmlns=\"http://www.w3.org/2000/svg\" height=\"24px\"viewBox=\"0 0 24 24\"\n",
              "       width=\"24px\">\n",
              "    <path d=\"M0 0h24v24H0V0z\" fill=\"none\"/>\n",
              "    <path d=\"M18.56 5.44l.94 2.06.94-2.06 2.06-.94-2.06-.94-.94-2.06-.94 2.06-2.06.94zm-11 1L8.5 8.5l.94-2.06 2.06-.94-2.06-.94L8.5 2.5l-.94 2.06-2.06.94zm10 10l.94 2.06.94-2.06 2.06-.94-2.06-.94-.94-2.06-.94 2.06-2.06.94z\"/><path d=\"M17.41 7.96l-1.37-1.37c-.4-.4-.92-.59-1.43-.59-.52 0-1.04.2-1.43.59L10.3 9.45l-7.72 7.72c-.78.78-.78 2.05 0 2.83L4 21.41c.39.39.9.59 1.41.59.51 0 1.02-.2 1.41-.59l7.78-7.78 2.81-2.81c.8-.78.8-2.07 0-2.86zM5.41 20L4 18.59l7.72-7.72 1.47 1.35L5.41 20z\"/>\n",
              "  </svg>\n",
              "      </button>\n",
              "      \n",
              "  <style>\n",
              "    .colab-df-container {\n",
              "      display:flex;\n",
              "      flex-wrap:wrap;\n",
              "      gap: 12px;\n",
              "    }\n",
              "\n",
              "    .colab-df-convert {\n",
              "      background-color: #E8F0FE;\n",
              "      border: none;\n",
              "      border-radius: 50%;\n",
              "      cursor: pointer;\n",
              "      display: none;\n",
              "      fill: #1967D2;\n",
              "      height: 32px;\n",
              "      padding: 0 0 0 0;\n",
              "      width: 32px;\n",
              "    }\n",
              "\n",
              "    .colab-df-convert:hover {\n",
              "      background-color: #E2EBFA;\n",
              "      box-shadow: 0px 1px 2px rgba(60, 64, 67, 0.3), 0px 1px 3px 1px rgba(60, 64, 67, 0.15);\n",
              "      fill: #174EA6;\n",
              "    }\n",
              "\n",
              "    [theme=dark] .colab-df-convert {\n",
              "      background-color: #3B4455;\n",
              "      fill: #D2E3FC;\n",
              "    }\n",
              "\n",
              "    [theme=dark] .colab-df-convert:hover {\n",
              "      background-color: #434B5C;\n",
              "      box-shadow: 0px 1px 3px 1px rgba(0, 0, 0, 0.15);\n",
              "      filter: drop-shadow(0px 1px 2px rgba(0, 0, 0, 0.3));\n",
              "      fill: #FFFFFF;\n",
              "    }\n",
              "  </style>\n",
              "\n",
              "      <script>\n",
              "        const buttonEl =\n",
              "          document.querySelector('#df-dd42ebe4-6510-459a-bbea-94693967c1db button.colab-df-convert');\n",
              "        buttonEl.style.display =\n",
              "          google.colab.kernel.accessAllowed ? 'block' : 'none';\n",
              "\n",
              "        async function convertToInteractive(key) {\n",
              "          const element = document.querySelector('#df-dd42ebe4-6510-459a-bbea-94693967c1db');\n",
              "          const dataTable =\n",
              "            await google.colab.kernel.invokeFunction('convertToInteractive',\n",
              "                                                     [key], {});\n",
              "          if (!dataTable) return;\n",
              "\n",
              "          const docLinkHtml = 'Like what you see? Visit the ' +\n",
              "            '<a target=\"_blank\" href=https://colab.research.google.com/notebooks/data_table.ipynb>data table notebook</a>'\n",
              "            + ' to learn more about interactive tables.';\n",
              "          element.innerHTML = '';\n",
              "          dataTable['output_type'] = 'display_data';\n",
              "          await google.colab.output.renderOutput(dataTable, element);\n",
              "          const docLink = document.createElement('div');\n",
              "          docLink.innerHTML = docLinkHtml;\n",
              "          element.appendChild(docLink);\n",
              "        }\n",
              "      </script>\n",
              "    </div>\n",
              "  </div>\n",
              "  "
            ]
          },
          "metadata": {},
          "execution_count": 32
        }
      ]
    },
    {
      "cell_type": "code",
      "source": [
        "# ОТВЕТЫ\n",
        "# tmp3.loc[tmp3.q,['oid', 'category']].to_csv('/content/drive/My Drive/VKcup2022/my_subm_2_01.csv', index=False)\n",
        "tmp3[['oid', 'category']].to_csv('/content/drive/My Drive/VKcup2022/my_subm_2_01.csv', index=False)"
      ],
      "metadata": {
        "id": "4RucbLCLny6C"
      },
      "execution_count": null,
      "outputs": []
    },
    {
      "cell_type": "markdown",
      "source": [
        "## используем данный организаторами submission"
      ],
      "metadata": {
        "id": "oN675Pvs-UwK"
      }
    },
    {
      "cell_type": "code",
      "source": [
        "ss = pd.read_csv('/content/drive/My Drive/VKcup2022/sample_submission.csv')"
      ],
      "metadata": {
        "id": "jluNJnb3q3dg"
      },
      "execution_count": null,
      "outputs": []
    },
    {
      "cell_type": "code",
      "source": [
        "ss = ss.rename(columns={'category': 'cat2'})"
      ],
      "metadata": {
        "id": "ePlWL7Wxq7o7"
      },
      "execution_count": null,
      "outputs": []
    },
    {
      "cell_type": "code",
      "source": [
        "tmp4 = tmp3.merge(ss)\n",
        "tmp4"
      ],
      "metadata": {
        "colab": {
          "base_uri": "https://localhost:8080/",
          "height": 424
        },
        "id": "UGL-NTZNrdhU",
        "outputId": "aa496a8c-7ca9-4d23-9115-b9ac456cce6f"
      },
      "execution_count": null,
      "outputs": [
        {
          "output_type": "execute_result",
          "data": {
            "text/plain": [
              "            oid         q    category        cat2\n",
              "0       1622114  0.476017   athletics   athletics\n",
              "1       1663817  0.516631   autosport   autosport\n",
              "2       3174332  0.627390  basketball  basketball\n",
              "3       3469228  0.254681     extreme     extreme\n",
              "4       3905302  0.592561  boardgames  boardgames\n",
              "...         ...       ...         ...         ...\n",
              "2621  998309713  0.613303      esport      esport\n",
              "2622  998565619  0.680576      esport      esport\n",
              "2623  999112505  0.987478  boardgames  boardgames\n",
              "2624  999361308  0.892935      tennis      tennis\n",
              "2625  999374432  0.559797    football    football\n",
              "\n",
              "[2626 rows x 4 columns]"
            ],
            "text/html": [
              "\n",
              "  <div id=\"df-a1c68c49-353a-4c2f-b827-6db75c88cf83\">\n",
              "    <div class=\"colab-df-container\">\n",
              "      <div>\n",
              "<style scoped>\n",
              "    .dataframe tbody tr th:only-of-type {\n",
              "        vertical-align: middle;\n",
              "    }\n",
              "\n",
              "    .dataframe tbody tr th {\n",
              "        vertical-align: top;\n",
              "    }\n",
              "\n",
              "    .dataframe thead th {\n",
              "        text-align: right;\n",
              "    }\n",
              "</style>\n",
              "<table border=\"1\" class=\"dataframe\">\n",
              "  <thead>\n",
              "    <tr style=\"text-align: right;\">\n",
              "      <th></th>\n",
              "      <th>oid</th>\n",
              "      <th>q</th>\n",
              "      <th>category</th>\n",
              "      <th>cat2</th>\n",
              "    </tr>\n",
              "  </thead>\n",
              "  <tbody>\n",
              "    <tr>\n",
              "      <th>0</th>\n",
              "      <td>1622114</td>\n",
              "      <td>0.476017</td>\n",
              "      <td>athletics</td>\n",
              "      <td>athletics</td>\n",
              "    </tr>\n",
              "    <tr>\n",
              "      <th>1</th>\n",
              "      <td>1663817</td>\n",
              "      <td>0.516631</td>\n",
              "      <td>autosport</td>\n",
              "      <td>autosport</td>\n",
              "    </tr>\n",
              "    <tr>\n",
              "      <th>2</th>\n",
              "      <td>3174332</td>\n",
              "      <td>0.627390</td>\n",
              "      <td>basketball</td>\n",
              "      <td>basketball</td>\n",
              "    </tr>\n",
              "    <tr>\n",
              "      <th>3</th>\n",
              "      <td>3469228</td>\n",
              "      <td>0.254681</td>\n",
              "      <td>extreme</td>\n",
              "      <td>extreme</td>\n",
              "    </tr>\n",
              "    <tr>\n",
              "      <th>4</th>\n",
              "      <td>3905302</td>\n",
              "      <td>0.592561</td>\n",
              "      <td>boardgames</td>\n",
              "      <td>boardgames</td>\n",
              "    </tr>\n",
              "    <tr>\n",
              "      <th>...</th>\n",
              "      <td>...</td>\n",
              "      <td>...</td>\n",
              "      <td>...</td>\n",
              "      <td>...</td>\n",
              "    </tr>\n",
              "    <tr>\n",
              "      <th>2621</th>\n",
              "      <td>998309713</td>\n",
              "      <td>0.613303</td>\n",
              "      <td>esport</td>\n",
              "      <td>esport</td>\n",
              "    </tr>\n",
              "    <tr>\n",
              "      <th>2622</th>\n",
              "      <td>998565619</td>\n",
              "      <td>0.680576</td>\n",
              "      <td>esport</td>\n",
              "      <td>esport</td>\n",
              "    </tr>\n",
              "    <tr>\n",
              "      <th>2623</th>\n",
              "      <td>999112505</td>\n",
              "      <td>0.987478</td>\n",
              "      <td>boardgames</td>\n",
              "      <td>boardgames</td>\n",
              "    </tr>\n",
              "    <tr>\n",
              "      <th>2624</th>\n",
              "      <td>999361308</td>\n",
              "      <td>0.892935</td>\n",
              "      <td>tennis</td>\n",
              "      <td>tennis</td>\n",
              "    </tr>\n",
              "    <tr>\n",
              "      <th>2625</th>\n",
              "      <td>999374432</td>\n",
              "      <td>0.559797</td>\n",
              "      <td>football</td>\n",
              "      <td>football</td>\n",
              "    </tr>\n",
              "  </tbody>\n",
              "</table>\n",
              "<p>2626 rows × 4 columns</p>\n",
              "</div>\n",
              "      <button class=\"colab-df-convert\" onclick=\"convertToInteractive('df-a1c68c49-353a-4c2f-b827-6db75c88cf83')\"\n",
              "              title=\"Convert this dataframe to an interactive table.\"\n",
              "              style=\"display:none;\">\n",
              "        \n",
              "  <svg xmlns=\"http://www.w3.org/2000/svg\" height=\"24px\"viewBox=\"0 0 24 24\"\n",
              "       width=\"24px\">\n",
              "    <path d=\"M0 0h24v24H0V0z\" fill=\"none\"/>\n",
              "    <path d=\"M18.56 5.44l.94 2.06.94-2.06 2.06-.94-2.06-.94-.94-2.06-.94 2.06-2.06.94zm-11 1L8.5 8.5l.94-2.06 2.06-.94-2.06-.94L8.5 2.5l-.94 2.06-2.06.94zm10 10l.94 2.06.94-2.06 2.06-.94-2.06-.94-.94-2.06-.94 2.06-2.06.94z\"/><path d=\"M17.41 7.96l-1.37-1.37c-.4-.4-.92-.59-1.43-.59-.52 0-1.04.2-1.43.59L10.3 9.45l-7.72 7.72c-.78.78-.78 2.05 0 2.83L4 21.41c.39.39.9.59 1.41.59.51 0 1.02-.2 1.41-.59l7.78-7.78 2.81-2.81c.8-.78.8-2.07 0-2.86zM5.41 20L4 18.59l7.72-7.72 1.47 1.35L5.41 20z\"/>\n",
              "  </svg>\n",
              "      </button>\n",
              "      \n",
              "  <style>\n",
              "    .colab-df-container {\n",
              "      display:flex;\n",
              "      flex-wrap:wrap;\n",
              "      gap: 12px;\n",
              "    }\n",
              "\n",
              "    .colab-df-convert {\n",
              "      background-color: #E8F0FE;\n",
              "      border: none;\n",
              "      border-radius: 50%;\n",
              "      cursor: pointer;\n",
              "      display: none;\n",
              "      fill: #1967D2;\n",
              "      height: 32px;\n",
              "      padding: 0 0 0 0;\n",
              "      width: 32px;\n",
              "    }\n",
              "\n",
              "    .colab-df-convert:hover {\n",
              "      background-color: #E2EBFA;\n",
              "      box-shadow: 0px 1px 2px rgba(60, 64, 67, 0.3), 0px 1px 3px 1px rgba(60, 64, 67, 0.15);\n",
              "      fill: #174EA6;\n",
              "    }\n",
              "\n",
              "    [theme=dark] .colab-df-convert {\n",
              "      background-color: #3B4455;\n",
              "      fill: #D2E3FC;\n",
              "    }\n",
              "\n",
              "    [theme=dark] .colab-df-convert:hover {\n",
              "      background-color: #434B5C;\n",
              "      box-shadow: 0px 1px 3px 1px rgba(0, 0, 0, 0.15);\n",
              "      filter: drop-shadow(0px 1px 2px rgba(0, 0, 0, 0.3));\n",
              "      fill: #FFFFFF;\n",
              "    }\n",
              "  </style>\n",
              "\n",
              "      <script>\n",
              "        const buttonEl =\n",
              "          document.querySelector('#df-a1c68c49-353a-4c2f-b827-6db75c88cf83 button.colab-df-convert');\n",
              "        buttonEl.style.display =\n",
              "          google.colab.kernel.accessAllowed ? 'block' : 'none';\n",
              "\n",
              "        async function convertToInteractive(key) {\n",
              "          const element = document.querySelector('#df-a1c68c49-353a-4c2f-b827-6db75c88cf83');\n",
              "          const dataTable =\n",
              "            await google.colab.kernel.invokeFunction('convertToInteractive',\n",
              "                                                     [key], {});\n",
              "          if (!dataTable) return;\n",
              "\n",
              "          const docLinkHtml = 'Like what you see? Visit the ' +\n",
              "            '<a target=\"_blank\" href=https://colab.research.google.com/notebooks/data_table.ipynb>data table notebook</a>'\n",
              "            + ' to learn more about interactive tables.';\n",
              "          element.innerHTML = '';\n",
              "          dataTable['output_type'] = 'display_data';\n",
              "          await google.colab.output.renderOutput(dataTable, element);\n",
              "          const docLink = document.createElement('div');\n",
              "          docLink.innerHTML = docLinkHtml;\n",
              "          element.appendChild(docLink);\n",
              "        }\n",
              "      </script>\n",
              "    </div>\n",
              "  </div>\n",
              "  "
            ]
          },
          "metadata": {},
          "execution_count": 38
        }
      ]
    },
    {
      "cell_type": "code",
      "source": [
        "np.mean(tmp4.category == tmp4.cat2) # 0.940974866717441"
      ],
      "metadata": {
        "colab": {
          "base_uri": "https://localhost:8080/"
        },
        "id": "LVRvUiffrqIU",
        "outputId": "9def0bf7-e51a-4dd9-cc2c-ec4939dd20ac"
      },
      "execution_count": null,
      "outputs": [
        {
          "output_type": "execute_result",
          "data": {
            "text/plain": [
              "0.9390708301599391"
            ]
          },
          "metadata": {},
          "execution_count": 39
        }
      ]
    },
    {
      "cell_type": "code",
      "source": [
        "tmp4.cat2.value_counts(dropna=False)"
      ],
      "metadata": {
        "colab": {
          "base_uri": "https://localhost:8080/"
        },
        "id": "Et3uJvYErU5K",
        "outputId": "2dcfd1e2-fe91-457a-d785-b7357824a1ae"
      },
      "execution_count": null,
      "outputs": [
        {
          "output_type": "execute_result",
          "data": {
            "text/plain": [
              "athletics       228\n",
              "volleyball      220\n",
              "winter_sport    219\n",
              "hockey          214\n",
              "boardgames      204\n",
              "tennis          203\n",
              "extreme         202\n",
              "motosport       199\n",
              "esport          198\n",
              "autosport       194\n",
              "basketball      194\n",
              "football        182\n",
              "martial_arts    169\n",
              "Name: cat2, dtype: int64"
            ]
          },
          "metadata": {},
          "execution_count": 40
        }
      ]
    },
    {
      "cell_type": "code",
      "source": [
        "tmp4.category.value_counts(dropna=False)"
      ],
      "metadata": {
        "colab": {
          "base_uri": "https://localhost:8080/"
        },
        "id": "QNgiC1chEz78",
        "outputId": "d57aaaf6-55cf-4262-c1fa-f7ac27409581"
      },
      "execution_count": null,
      "outputs": [
        {
          "output_type": "execute_result",
          "data": {
            "text/plain": [
              "winter_sport    224\n",
              "basketball      211\n",
              "esport          211\n",
              "athletics       209\n",
              "motosport       207\n",
              "football        204\n",
              "volleyball      202\n",
              "tennis          201\n",
              "martial_arts    199\n",
              "boardgames      198\n",
              "hockey          198\n",
              "extreme         187\n",
              "autosport       175\n",
              "Name: category, dtype: int64"
            ]
          },
          "metadata": {},
          "execution_count": 41
        }
      ]
    },
    {
      "cell_type": "code",
      "source": [
        "# выдаём ответ, в котором достаточно уверны + когда совпадает метка с сабмишеном\n",
        "\n",
        "tmp4.loc[(tmp4.q > 0.25) | (tmp4.category == tmp4.cat2), ['oid', 'category']].to_csv('/content/drive/My Drive/VKcup2022/my_subm_2_03.csv', index=False)"
      ],
      "metadata": {
        "id": "Oo6extGNm7ir"
      },
      "execution_count": null,
      "outputs": []
    },
    {
      "cell_type": "code",
      "source": [
        "np.mean((tmp4.q > 0.25) | (tmp4.category == tmp4.cat2))"
      ],
      "metadata": {
        "colab": {
          "base_uri": "https://localhost:8080/"
        },
        "id": "AjMa2hHsGK-d",
        "outputId": "635331f1-295e-4987-fb0e-9c91d2ff8a62"
      },
      "execution_count": null,
      "outputs": [
        {
          "output_type": "execute_result",
          "data": {
            "text/plain": [
              "0.9859101294744859"
            ]
          },
          "metadata": {},
          "execution_count": 49
        }
      ]
    },
    {
      "cell_type": "code",
      "source": [
        "# сохранить\n",
        "np.save('/content/drive/My Drive/VKcup2022/file_predictions_p2', predictions_p)"
      ],
      "metadata": {
        "id": "_WwfbmjBs3pD"
      },
      "execution_count": null,
      "outputs": []
    },
    {
      "cell_type": "code",
      "source": [
        "M1 = np.load('/content/drive/My Drive/VKcup2022/file_predictions_p.npy')\n",
        "M2 = np.load('/content/drive/My Drive/VKcup2022/file_predictions_p2.npy')"
      ],
      "metadata": {
        "id": "jV1fs0K0t_gT"
      },
      "execution_count": null,
      "outputs": []
    },
    {
      "cell_type": "code",
      "source": [
        "M1"
      ],
      "metadata": {
        "colab": {
          "base_uri": "https://localhost:8080/"
        },
        "id": "0hNymWEsIJj8",
        "outputId": "d6578c68-f427-4286-a1f4-866bd57401e0"
      },
      "execution_count": null,
      "outputs": [
        {
          "output_type": "execute_result",
          "data": {
            "text/plain": [
              "array([[ 0.38715988,  2.1464462 ,  0.6602676 , ..., -2.187107  ,\n",
              "        -0.9280837 , -2.0909786 ],\n",
              "       [-1.8438573 ,  1.1789752 ,  0.05604577, ..., -2.269684  ,\n",
              "        -0.6526191 , -2.098324  ],\n",
              "       [-2.2933254 , -0.7430721 , -2.001864  , ...,  3.5871646 ,\n",
              "        -1.6867396 ,  2.9348774 ],\n",
              "       ...,\n",
              "       [-2.4737365 ,  1.5882375 ,  0.43417102, ..., -0.5331661 ,\n",
              "        -0.37016618, -2.7066557 ],\n",
              "       [ 0.3106244 , -0.6740804 , -1.8826008 , ..., -1.52554   ,\n",
              "        -0.41385028,  2.4165974 ],\n",
              "       [ 7.6467957 , -0.66276574, -0.523138  , ..., -0.7851571 ,\n",
              "         1.2715926 , -0.72937673]], dtype=float32)"
            ]
          },
          "metadata": {},
          "execution_count": 56
        }
      ]
    },
    {
      "cell_type": "code",
      "source": [
        "M2"
      ],
      "metadata": {
        "colab": {
          "base_uri": "https://localhost:8080/"
        },
        "id": "PW5lfYtxIKjU",
        "outputId": "ae1d4d0d-ea05-4b73-bc82-0c9258633160"
      },
      "execution_count": null,
      "outputs": [
        {
          "output_type": "execute_result",
          "data": {
            "text/plain": [
              "array([[-0.874328  ,  1.3087137 ,  1.3250055 , ..., -0.92861235,\n",
              "        -0.50857425, -0.84191704],\n",
              "       [ 1.8336079 , -0.6592827 ,  0.02315136, ..., -1.5709826 ,\n",
              "         0.01885811,  0.12181805],\n",
              "       [-1.6422126 , -0.27997994, -1.0283302 , ...,  2.4619126 ,\n",
              "        -1.6076217 ,  2.7571728 ],\n",
              "       ...,\n",
              "       [-1.3070832 , -0.03124756, -1.6049141 , ..., -1.8747405 ,\n",
              "         0.41502583, -2.418354  ],\n",
              "       [ 2.5573685 , -0.5868255 , -1.2443544 , ..., -2.3048878 ,\n",
              "        -0.97534144,  0.814234  ],\n",
              "       [ 6.7464886 , -1.6292963 ,  0.48985252, ..., -0.8863347 ,\n",
              "         1.0378687 , -0.1931099 ]], dtype=float32)"
            ]
          },
          "metadata": {},
          "execution_count": 57
        }
      ]
    }
  ]
}